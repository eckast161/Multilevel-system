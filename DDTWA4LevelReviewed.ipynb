{
 "cells": [
  {
   "cell_type": "code",
   "execution_count": 53,
   "metadata": {
    "id": "rNqXOESIJHsB"
   },
   "outputs": [],
   "source": [
    "import matplotlib.pyplot as plt\n",
    "import numpy as np\n",
    "\n",
    "\"\"\"In order to provide a better presentation of the graphs we use the rcParams options shown below.\"\"\"\n",
    "\n",
    "import matplotlib\n",
    "matplotlib.rcParams['text.usetex'] = False\n",
    "matplotlib.rcParams['mathtext.fontset'] = 'stix'\n",
    "matplotlib.rcParams['font.family'] = 'STIXGeneral'\n",
    "matplotlib.rcParams['font.size'] = 15\n",
    "matplotlib.rcParams['figure.figsize'] = (11.0, 8.0)"
   ]
  },
  {
   "cell_type": "code",
   "execution_count": 54,
   "metadata": {
    "id": "g-U4BC1zJHsE"
   },
   "outputs": [],
   "source": [
    "import matplotlib.pyplot as plt\n",
    "from numpy import linalg as LA\n",
    "import scipy.special\n",
    "\n",
    "import time\n",
    "from scipy.integrate import odeint\n",
    "from scipy.special import zeta\n",
    "from random import choices\n",
    "\n",
    "from numpy import sin, cos, power\n"
   ]
  },
  {
   "cell_type": "code",
   "execution_count": 55,
   "metadata": {
    "id": "cKNPrM5tJHsE"
   },
   "outputs": [],
   "source": [
    "import matplotlib.pyplot as plt\n",
    "import matplotlib as mpl\n",
    "from matplotlib import cm\n",
    "import numpy as np\n",
    "\n",
    "from scipy.optimize import minimize\n",
    "#from qutip import *\n",
    "#from qutip.piqs import *\n",
    "\n",
    "import matplotlib.animation as animation\n",
    "from IPython.display import HTML\n",
    "from IPython.core.display import Image, display"
   ]
  },
  {
   "cell_type": "code",
   "execution_count": 56,
   "metadata": {
    "id": "TfUKc__XJHsF"
   },
   "outputs": [],
   "source": [
    "\"\"\"Our system of differential equations belongs to the complex space, that is why we implemented the code suggested in\"\"\"\n",
    "\"\"\"https://stackoverflow.com/questions/19910189/scipy-odeint-with-complex-initial-values.\"\"\"\n",
    "\n",
    "import time\n",
    "import numpy as np\n",
    "from scipy.integrate import odeint\n",
    "from scipy.special import zeta\n",
    "from random import choices\n",
    "\n",
    "def odeintz(func, z0, t, **kwargs):\n",
    "   \n",
    "    \n",
    "    \"\"\"An odeint-like function for complex valued differential equations.\n",
    "\n",
    "    Inputs:\n",
    "    ----------\n",
    "      -func: function associated to dr/dt=f(x;t), where x is the set of parameters and variables to be determined\n",
    "      -z0: 1d array with length N*(5N-1)/2\n",
    "      -t: 1d array from t=0 to t=tf (parameter set by the user)\n",
    "      - **kwargs: keyword arguments related with external functions to be used in odeint\n",
    "    \n",
    "    Return:\n",
    "      -z: multivariable array with the solution of the differential equation associated with each variable\"\"\"\n",
    "\n",
    "    # Disallow Jacobian-related arguments.\n",
    "    _unsupported_odeint_args = ['Dfun', 'col_deriv', 'ml', 'mu']\n",
    "    bad_args = [arg for arg in kwargs if arg in _unsupported_odeint_args]\n",
    "    if len(bad_args) > 0:\n",
    "        raise ValueError(\"The odeint argument %r is not supported by \"\n",
    "                         \"odeintz.\" % (bad_args[0],))\n",
    "\n",
    "    # Make sure z0 is a numpy array of type np.complex128.\n",
    "    z0 = np.array(z0, dtype=np.complex128, ndmin=1)\n",
    "\n",
    "    def realfunc(x, t, *args):\n",
    "        z = x.view(np.complex128)\n",
    "        dzdt = func(z, t, *args)\n",
    "        # func might return a python list, so convert its return\n",
    "        # value to an array with type np.complex128, and then return\n",
    "        # a np.float64 view of that array.\n",
    "        return np.asarray(dzdt, dtype=np.complex128).view(np.float64)\n",
    "\n",
    "    result = odeint(realfunc, z0.view(np.float64), t, **kwargs)\n",
    "\n",
    "    if kwargs.get('full_output', False):\n",
    "        z = result[0].view(np.complex128)\n",
    "        infodict = result[1]\n",
    "        return z, infodict\n",
    "    else:\n",
    "        z = result.view(np.complex128)\n",
    "        return z"
   ]
  },
  {
   "cell_type": "code",
   "execution_count": null,
   "metadata": {
    "id": "alYFeFnVyDsM"
   },
   "outputs": [],
   "source": []
  },
  {
   "cell_type": "markdown",
   "metadata": {
    "id": "QTGD2wWhyDsM"
   },
   "source": [
    "$$\\begin{align}\n",
    "\\partial_{t}s_{00,i} & =-g_{{\\rm R}}\\left(\\alpha_{{\\rm R},x}s_{30,i}^{y}+\\alpha_{{\\rm R},y}s_{30,i}^{x}\\right)-\\frac{\\Omega_{{\\rm R}}}{2}s_{30,i}^{y},\\\\\n",
    "\\partial_{t}s_{11,i} & =-g_{{\\rm L}}\\left(\\alpha_{{\\rm L},x}s_{21,i}^{y}+\\alpha_{{\\rm L},y}s_{21,i}^{x}\\right)-\\frac{\\Omega_{{\\rm L}}}{2}s_{21,i}^{y},\\\\\n",
    "\\partial_{t}s_{22,i} & =g_{{\\rm L}}\\left(\\alpha_{{\\rm L},x}s_{21,i}^{y}+\\alpha_{{\\rm L},y}s_{21,i}^{x}\\right)+\\frac{\\Omega_{{\\rm L}}}{2}s_{21,i}^{y},\\\\\n",
    "\\partial_{t}s_{33,i} & =g_{{\\rm R}}\\left(\\alpha_{{\\rm R},x}s_{30,i}^{y}+\\alpha_{{\\rm R},y}s_{30,i}^{x}\\right)+\\frac{\\Omega_{{\\rm R}}}{2}s_{30,i}^{y},\\\\\n",
    "\\partial_{t}s_{10,i}^{x} & =-g_{{\\rm R}}\\left(\\alpha_{{\\rm R},x}s_{31,i}^{y}+\\alpha_{{\\rm R},y}s_{31,i}^{x}\\right)-\\frac{\\Omega_{{\\rm R}}}{2}s_{31,i}^{y}-g_{{\\rm L}}\\left(\\alpha_{{\\rm L},x}s_{20,i}^{y}+\\alpha_{{\\rm L},y}s_{20,i}^{x}\\right)-\\frac{\\Omega_{{\\rm L}}}{2}s_{20,i}^{y},\\\\\n",
    "\\partial_{t}s_{20,i}^{x} & =-g_{{\\rm R}}\\left(\\alpha_{{\\rm R},x}s_{32,i}^{y}+\\alpha_{{\\rm R},y}s_{32,i}^{x}\\right)-\\frac{\\Omega_{{\\rm R}}}{2}s_{32,i}^{y}-g_{{\\rm L}}\\left(\\alpha_{{\\rm L},x}s_{10,i}^{y}-\\alpha_{{\\rm L},y}s_{10,i}^{x}\\right)-\\frac{\\Omega_{{\\rm L}}}{2}s_{10,i}^{y},\\\\\n",
    "\\partial_{t}s_{30,i}^{x} & =-2g_{{\\rm R}}\\alpha_{{\\rm R},y}\\left(s_{33,i}-s_{00,i}\\right),\\\\\n",
    "\\partial_{t}s_{21,i}^{x} & =-2g_{{\\rm L}}\\alpha_{{\\rm L},y}\\left(s_{22,i}-s_{11,i}\\right),\\\\\n",
    "\\partial_{t}s_{31,i}^{x} & =g_{{\\rm R}}\\left(\\alpha_{{\\rm R},x}s_{10,i}^{y}+\\alpha_{{\\rm R},y}s_{10,i}^{x}\\right)+\\frac{\\Omega_{{\\rm R}}}{2}s_{10.i}^{y}+g_{{\\rm L}}\\left(\\alpha_{{\\rm L},x}s_{32,i}^{y}-\\alpha_{{\\rm L},y}s_{32,i}^{x}\\right)+\\frac{\\Omega_{{\\rm L}}}{2}s_{32,i}^{y},\\\\\n",
    "\\partial_{t}s_{32,i}^{x} & =g_{{\\rm R}}\\left(\\alpha_{{\\rm R},x}s_{20,i}^{y}+\\alpha_{{\\rm R},y}s_{20,i}^{x}\\right)+\\frac{\\Omega_{{\\rm R}}}{2}s_{20,i}^{y}+g_{{\\rm L}}\\left(\\alpha_{{\\rm L},x}s_{31,i}^{y}+\\alpha_{{\\rm L},y}s_{31,i}^{x}\\right)+\\frac{\\Omega_{{\\rm L}}}{2}s_{31,i}^{y},\\\\\n",
    "\\partial_{t}s_{10,i}^{y} & =-g_{{\\rm R}}\\left(\\alpha_{{\\rm R},x}s_{31,i}^{x}-\\alpha_{{\\rm R},y}s_{31,i}^{y}\\right)-\\frac{\\Omega_{{\\rm R}}}{2}s_{31,i}^{x}+g_{{\\rm L}}\\left(\\alpha_{{\\rm L},x}s_{20,i}^{x}-\\alpha_{{\\rm L},y}s_{20,i}^{y}\\right)+\\frac{\\Omega_{{\\rm L}}}{2}s_{20,i}^{x},\\\\\n",
    "\\partial_{t}s_{20,i}^{y} & =-g_{{\\rm R}}\\left(\\alpha_{{\\rm R},x}s_{32,i}^{x}-\\alpha_{{\\rm R},y}s_{32,i}^{y}\\right)-\\frac{\\Omega_{{\\rm R}}}{2}s_{32,i}^{x}+g_{{\\rm L}}\\left(\\alpha_{{\\rm L},x}s_{10,i}^{x}+\\alpha_{{\\rm L},y}s_{10,i}^{y}\\right)+\\frac{\\Omega_{{\\rm L}}}{2}s_{10,i}^{x},\\\\\n",
    "\\partial_{t}s_{30,i}^{y} & =-\\left(2g_{{\\rm R}}\\alpha_{{\\rm R},x}+\\Omega_{{\\rm R}}\\right)\\left(s_{33,i}-s_{00,i}\\right),\\\\\n",
    "\\partial_{t}s_{21,i}^{y} & =-\\left(2g_{{\\rm L}}\\alpha_{{\\rm L},x}+\\Omega_{{\\rm L}}\\right)\\left(s_{22,i}-s_{11,i}\\right),\\\\\n",
    "\\partial_{t}s_{31,i}^{y} & =g_{{\\rm R}}\\left(\\alpha_{{\\rm R},x}s_{10,i}^{x}-\\alpha_{{\\rm R},y}s_{10,i}^{y}\\right)+\\frac{\\Omega_{{\\rm R}}}{2}s_{10,i}^{x}-g_{{\\rm L}}\\left(\\alpha_{{\\rm L},x}s_{32,i}^{x}+\\alpha_{{\\rm L},y}s_{32,i}^{y}\\right)-\\frac{\\Omega_{{\\rm L}}}{2}s_{32,i}^{x},\\\\\n",
    "\\partial_{t}s_{32,i}^{y} & =g_{{\\rm R}}\\left(\\alpha_{{\\rm R},x}s_{20,i}^{x}-\\alpha_{{\\rm R},y}s_{20,i}^{y}\\right)+\\frac{\\Omega_{{\\rm R}}}{2}s_{20,i}^{x}-g_{{\\rm L}}\\left(\\alpha_{{\\rm L},x}s_{31,i}^{x}-\\alpha_{{\\rm L},y}s_{31,i}^{y}\\right)-\\frac{\\Omega_{{\\rm L}}}{2}s_{31,i}^{x},\\\\\n",
    "\\partial_{t}\\alpha_{{\\rm L},x} & =-\\frac{g_{{\\rm L}}}{2}\\sum_{i}s_{21,i}^{y}-\\Delta_{{\\rm L}}\\alpha_{{\\rm L},y}-\\frac{\\kappa_{{\\rm L}}}{2}\\alpha_{{\\rm L},x}+\\sqrt{\\frac{\\kappa_{{\\rm L}}}{4}}{\\rm d}W_{0},\\\\\n",
    "\\partial_{t}\\alpha_{{\\rm L},y} & =-\\frac{g_{{\\rm L}}}{2}\\sum_{i}s_{21,i}^{x}+\\Delta_{{\\rm L}}\\alpha_{{\\rm L},x}-\\frac{\\kappa_{{\\rm L}}}{2}\\alpha_{{\\rm L},y}+\\sqrt{\\frac{\\kappa_{{\\rm L}}}{4}}{\\rm d}W_{1},\\\\\n",
    "\\partial_{t}\\alpha_{{\\rm R},x} & =-\\frac{g_{{\\rm R}}}{2}\\sum_{i}s_{30,i}^{y}-\\Delta_{{\\rm R}}\\alpha_{{\\rm R},y}-\\frac{\\kappa_{{\\rm R}}}{2}\\alpha_{{\\rm R},x}+\\sqrt{\\frac{\\kappa_{{\\rm R}}}{4}}{\\rm d}W_{2},\\\\\n",
    "\\partial_{t}\\alpha_{{\\rm R},y} & =-\\frac{g_{{\\rm R}}}{2}\\sum_{i}s_{30,i}^{x}+\\Delta_{{\\rm R}}\\alpha_{{\\rm R},x}-\\frac{\\kappa_{{\\rm R}}}{2}\\alpha_{{\\rm R},y}+\\sqrt{\\frac{\\kappa_{R}}{4}}{\\rm d}W_{3}.\n",
    "\\end{align}\n",
    "$$"
   ]
  },
  {
   "cell_type": "code",
   "execution_count": null,
   "metadata": {
    "id": "CLhWX7V_yDsO"
   },
   "outputs": [],
   "source": []
  },
  {
   "cell_type": "markdown",
   "metadata": {
    "id": "8d8nOLULJHsG"
   },
   "source": [
    "## Euler-Maruyama"
   ]
  },
  {
   "cell_type": "code",
   "execution_count": 57,
   "metadata": {
    "id": "x6wGEy_uJHsG"
   },
   "outputs": [],
   "source": [
    "import numpy as np\n",
    "import matplotlib.pyplot as plt\n",
    "%matplotlib inline\n",
    "from numpy import random, zeros, sqrt,cos,sin\n",
    "\n",
    "\n",
    "\n",
    "from numba import jit\n",
    "\n",
    "dt = 0.0001 # Time step.\n",
    "T = 20 # Total time.\n",
    "n = int(T / dt) # Number of time steps.\n",
    "steps=int(T/dt)\n",
    "\n",
    "times = np.linspace(0., T, n)\n",
    "\n",
    "\n",
    "N=30\n",
    "\n",
    "gR=1\n",
    "DeltaR=0\n",
    "KapR=20\n",
    "OmegaR=0.9*2*N/KapR \n",
    "\n",
    "\n",
    "gL=1\n",
    "DeltaL=0\n",
    "KapL=20\n",
    "OmegaL=0.9*2*N/KapL \n",
    "\n",
    "\n",
    "    \n",
    "\n",
    "Gamma_du=0  #Fixed\n",
    "\n",
    "\n",
    "#Stochastic=1   #Is the process stochastic?\n",
    "sqrt_N=np.sqrt(N)\n",
    "\n",
    "\n",
    "\n",
    "#set the initial values due to the measurements in the state |\\psi>=cos(\\theta/2)|0>+sin(\\theta/2)|1>\n",
    "\n",
    "\n",
    "theta = np.pi/2\n",
    "phi   = np.pi/2\n",
    "\n",
    "\n",
    "\n",
    "\n",
    "\n",
    "from scipy import stats\n",
    "\n",
    "mk = np.array([-1/sqrt(2),0,1/sqrt(2)])\n",
    "\n",
    "mzk=np.array([0,1])\n",
    "\n",
    "\n",
    "\n",
    "\n",
    "\n",
    "\n",
    "x10=( 0.5* (1-cos(phi)*sin(theta)), 0 , 0.5* (1+cos(phi)*sin(theta)))\n",
    "x20=( 0.5* (cos(theta/2))**2, (sin(theta/2))**2, 0.5* (cos(theta/2))**2)\n",
    "x30=( 0.5* (cos(theta/2))**2, (sin(theta/2))**2, 0.5* (cos(theta/2))**2)\n",
    "x21=( 0.5* (sin(theta/2))**2, (cos(theta/2))**2, 0.5* (sin(theta/2))**2)\n",
    "x31=( 0.5* (sin(theta/2))**2, (cos(theta/2))**2, 0.5* (sin(theta/2))**2)\n",
    "x32=(0,1,0)\n",
    "\n",
    "y10=( 0.5* (1-sin(phi)*sin(theta)), 0 , 0.5* (1+sin(phi)*sin(theta)))\n",
    "y20=( 0.5* (cos(theta/2))**2, (sin(theta/2))**2, 0.5* (cos(theta/2))**2)\n",
    "y30=( 0.5* (cos(theta/2))**2, (sin(theta/2))**2, 0.5* (cos(theta/2))**2)\n",
    "y21=( 0.5* (sin(theta/2))**2, (cos(theta/2))**2, 0.5* (sin(theta/2))**2)\n",
    "y31=( 0.5* (sin(theta/2))**2, (cos(theta/2))**2, 0.5* (sin(theta/2))**2)\n",
    "y32=(0,1,0)\n",
    "\n",
    "z0=((sin(theta/2))**2,(cos(theta/2))**2)\n",
    "z1=((cos(theta/2))**2,(sin(theta/2))**2)\n",
    "z2=(1,0)\n",
    "\n",
    "\n",
    "#custmx10 = stats.rv_discrete(name='custmx10', values=(mk, x10))\n",
    "#custmx20 = stats.rv_discrete(name='custmx20', values=(mk, x20))\n",
    "#custmx30 = stats.rv_discrete(name='custmx30', values=(mk, x30))\n",
    "#custmx21 = stats.rv_discrete(name='custmx21', values=(mk, x21))\n",
    "#custmx31 = stats.rv_discrete(name='custmx31', values=(mk, x31))\n",
    "#custmx32 = stats.rv_discrete(name='custmx32', values=(mk, x32))\n",
    "\n",
    "#custmy10 = stats.rv_discrete(name='custmy10', values=(mk, y10))\n",
    "#custmy20 = stats.rv_discrete(name='custmy20', values=(mk, y20))\n",
    "#custmy30 = stats.rv_discrete(name='custmy30', values=(mk, y30))\n",
    "#custmy21 = stats.rv_discrete(name='custmy21', values=(mk, y21))\n",
    "#custmy31 = stats.rv_discrete(name='custmy31', values=(mk, y31))\n",
    "#custmy32 = stats.rv_discrete(name='custmy32', values=(mk, y32))\n",
    "\n",
    "#custmz1  = stats.rv_discrete(name='custmz1' , values=(mzk, z1))\n",
    "#custmz2  = stats.rv_discrete(name='custmz2' , values=(mzk, z2))\n",
    "#custmz3  = stats.rv_discrete(name='custmz3' , values=(mzk, z3))\n",
    "\n",
    "\n",
    "@jit\n",
    "\n",
    "def trayectory(N,Stochastic):\n",
    "    sqrtdt = np.sqrt(dt)*Stochastic\n",
    "    \n",
    "    Results =zeros((15*N+4, n))\n",
    "    \n",
    "    Results[15*N][0]   = np.random.normal(0, 0.5)\n",
    "    Results[15*N+1][0] = np.random.normal(0, 0.5)\n",
    "    Results[15*N+2][0] = np.random.normal(0, 0.5)\n",
    "    Results[15*N+3][0] = np.random.normal(0, 0.5)\n",
    "    \n",
    "    \n",
    "    for j in range(N):        \n",
    "        \n",
    "        Results[j][0]     =np.random.choice(mk,1,p=x10)[0]  #x10  \n",
    "        Results[j+N][0]   =np.random.choice(mk,1,p=x20)[0]  #x20\n",
    "        Results[j+2*N][0] =np.random.choice(mk,1,p=x30)[0]  #x30\n",
    "        Results[j+3*N][0] =np.random.choice(mk,1,p=x21)[0]  #x21\n",
    "        Results[j+4*N][0] =np.random.choice(mk,1,p=x31)[0]  #x31\n",
    "        Results[j+5*N][0] =np.random.choice(mk,1,p=x32)[0]  #x32\n",
    "        \n",
    "        Results[j+6*N][0] =np.random.choice(mk,1,p=y10)[0]  #y10\n",
    "        Results[j+7*N][0] =np.random.choice(mk,1,p=y20)[0]  #y20\n",
    "        Results[j+8*N][0] =np.random.choice(mk,1,p=y30)[0]  #y30\n",
    "        Results[j+9*N][0] =np.random.choice(mk,1,p=y21)[0]  #y21\n",
    "        Results[j+10*N][0]=np.random.choice(mk,1,p=y31)[0]  #y31\n",
    "        Results[j+11*N][0]=np.random.choice(mk,1,p=y32)[0]  #y32\n",
    "        \n",
    "        Results[j+12*N][0]=np.random.choice(mzk,1,p=z0)[0]  #z10\n",
    "        Results[j+13*N][0]=np.random.choice(mzk,1,p=z1)[0]  #z21\n",
    "        Results[j+14*N][0]=np.random.choice(mzk,1,p=z2)[0]  #z32\n",
    "    \n",
    "    for t in range(n-1):\n",
    "        \n",
    "        Normal_VA_1=random.randn() #np.random.normal(0, 1)\n",
    "        Normal_VA_2=random.randn() #np.random.normal(0, 1)\n",
    "        Normal_VA_3=random.randn() #np.random.normal(0, 1)\n",
    "        Normal_VA_4=random.randn() #np.random.normal(0, 1)\n",
    "        \n",
    "        \n",
    "        alpRx=Results[15*N][t]\n",
    "        alpRy=Results[15*N+1][t]\n",
    "        alpLx=Results[15*N+2][t]\n",
    "        alpLy=Results[15*N+3][t]\n",
    "        \n",
    "        \n",
    "        \n",
    "        Results[15*N][t+1]   = alpRx-dt*DeltaR*alpRy-dt*(KapR/2)*alpRx+np.sqrt(KapR/4)*sqrtdt * Normal_VA_1\n",
    "            \n",
    "        Results[15*N+1][t+1] = alpRy+dt*DeltaR*alpRx-dt*(KapR/2)*alpRy+np.sqrt(KapR/4)*sqrtdt * Normal_VA_2\n",
    "             \n",
    "        Results[15*N+2][t+1] = alpLx -dt*DeltaL*alpLy-dt*(KapL/2)*alpLx+np.sqrt(KapL/4)*sqrtdt * Normal_VA_3  \n",
    "        \n",
    "        Results[15*N+3][t+1] = alpLy +dt*DeltaL*alpLx-dt*(KapL/2)*alpLy+np.sqrt(KapL/4)*sqrtdt * Normal_VA_4  \n",
    "                \n",
    "                \n",
    "        for i in range(N): \n",
    "            \n",
    "                     \n",
    "            s10x=Results[i][t]       #x10\n",
    "            s20x=Results[i+N][t]     #x20\n",
    "            s30x=Results[i+2*N][t]   #x30  \n",
    "            s21x=Results[i+3*N][t]   #x21 \n",
    "            s31x=Results[i+4*N][t]   #x31\n",
    "            s32x=Results[i+5*N][t]   #x32\n",
    "            \n",
    "            s10y=Results[i+6*N][t]   #y10\n",
    "            s20y=Results[i+7*N][t]   #y20\n",
    "            s30y=Results[i+8*N][t]   #y30\n",
    "            s21y=Results[i+9*N][t]   #y21\n",
    "            s31y=Results[i+10*N][t]  #y31\n",
    "            s32y=Results[i+11*N][t]  #y32\n",
    "            \n",
    "            s0z=Results[i+12*N][t]  #z0\n",
    "            s1z=Results[i+13*N][t]  #z1\n",
    "            s2z=Results[i+14*N][t]  #z2\n",
    "            \n",
    "            # alpRx=Results[15*N][t]\n",
    "            # alpRy=Results[15*N+1][t]\n",
    "            # alpLx=Results[15*N+2][t]\n",
    "            # alpLy=Results[15*N+3][t]\n",
    "            \n",
    "            \n",
    "            Results[i][t+1]     = s10x  +dt*(-gR)*(alpRx*s31y+alpRy*s31x) +dt*(-OmegaR/2)*s31y-\\\n",
    "                dt*gL*(alpLx*s20y+alpLy*s20x)+dt*(-OmegaL/2)*s20y\n",
    "            \n",
    "            Results[i+N][t+1]   = s20x  +dt*(-gR)*(alpRx*s32y+alpRy*s32x) +dt*(-OmegaR/2)*s32y-\\\n",
    "                dt*gL*(alpLx*s10y-alpLy*s10x)+dt*(-OmegaL/2)*s10y\n",
    "            \n",
    "            Results[i+2*N][t+1] = s30x  +dt*(-sqrt(2)*gR)*alpRy*(1-s2z-s1z-2*s0z)\n",
    "            \n",
    "            Results[i+3*N][t+1] = s21x  +dt*(-sqrt(2)*gL)*alpLy*(s2z-s1z)\n",
    "            \n",
    "            Results[i+4*N][t+1] = s31x  +dt*gR*(alpRx*s10y+alpRy*s10x)+dt*(OmegaR/2)*s10y+\\\n",
    "                dt*gL*(alpLx*s32y-alpLy*s32x)+dt*(OmegaL/2)*s32y\n",
    "            \n",
    "            Results[i+5*N][t+1] = s32x  +dt*gR*(alpRx*s20y+alpRy*s20x)+dt*(OmegaR/2)*s20y+\\\n",
    "                dt*gL*(alpLx*s31y+alpLy*s31x)+dt*(OmegaL/2)*s31y\n",
    "            \n",
    "            Results[i+6*N][t+1] = s10y  +dt*(-gR)*(alpRx*s31x-alpRy*s31y)-dt*(OmegaR/2)*s31x+\\\n",
    "                dt*gL*(alpLx*s20x-alpLy*s20y)+dt*(OmegaL/2)*s20x\n",
    "            \n",
    "            Results[i+7*N][t+1] = s20y  +dt*(-gR)*(alpRx*s32x-alpRy*s32y)-dt*(OmegaR/2)*s32x+\\\n",
    "                dt*gL*(alpLx*s10x+alpLy*s10y)+dt*(OmegaL/2)*s10x\n",
    "            \n",
    "            Results[i+8*N][t+1] = s30y  -dt*(2*gR*alpRx+OmegaR)*( 1-s2z-s1z-2*s0z  )/sqrt(2)\n",
    "            \n",
    "            Results[i+9*N][t+1] = s21y  -dt*(2*gL*alpLx+OmegaL)*(s2z-s1z)/sqrt(2)\n",
    "            \n",
    "            Results[i+10*N][t+1] = s31y + dt*gR*(alpRx*s10x-alpRy*s10y)+dt*(OmegaR/2)*s10x-\\\n",
    "                dt*gL*(alpLx*s32x+alpLy*s32y)-dt*(OmegaL/2)*s32x\n",
    "            \n",
    "            Results[i+11*N][t+1] = s32y + dt*gR*(alpRx*s20x-alpRy*s20y)+dt*(OmegaR/2)*s20x-\\\n",
    "                dt*gL*(alpLx*s31x-alpLy*s31y)-dt*(OmegaL/2)*s31x\n",
    "            \n",
    "            \n",
    "            \n",
    "            \n",
    "            Results[i+12*N][t+1] = s0z+ dt*(-sqrt(2))*(gR*(alpRy*s30x+alpRx*s30y)+ (OmegaR/2)*s30y )\n",
    "            \n",
    "            \n",
    "            Results[i+13*N][t+1] = s1z+ dt*(-sqrt(2))*(gL*(alpLy*s21x+alpLx*s21y)+ (OmegaL/2)*s21y )\n",
    "            \n",
    "\n",
    "            Results[i+14*N][t+1] = s2z+ dt*(sqrt(2))*(gL*(alpLy*s21x+alpLx*s21y)+ (OmegaL/2)*s21y )\n",
    "            \n",
    "            Results[15*N][t+1]   +=  -(gR/sqrt(2))*dt*s30y\n",
    "            Results[15*N+1][t+1] +=  -(gR/sqrt(2))*dt*s30x\n",
    "            Results[15*N+2][t+1] +=  -(gL/sqrt(2))*dt*s21y\n",
    "            Results[15*N+3][t+1] +=  -(gL/sqrt(2))*dt*s21x\n",
    "            \n",
    "    return Results\n"
   ]
  },
  {
   "cell_type": "code",
   "execution_count": 58,
   "metadata": {
    "id": "V6gZH4tsyDsR"
   },
   "outputs": [],
   "source": [
    "#t0=time.time()\n",
    "\n",
    "#Tray=trayectory(N=N)\n",
    "#t1=time.time()\n",
    "\n",
    "#print(t1-t0)\n",
    "\n",
    "\n",
    "#Tray\n"
   ]
  },
  {
   "cell_type": "code",
   "execution_count": 59,
   "metadata": {
    "id": "ul5i9woAJHsJ"
   },
   "outputs": [],
   "source": [
    "from numpy import mean\n",
    "from numpy import linalg\n",
    "\n",
    "from numba import jit\n",
    "@jit\n",
    "\n",
    "def summary_stat(Res,N=N,n=n):\n",
    "    Results =zeros((19, n))\n",
    "    count=0\n",
    "    while count<n:\n",
    "        s10x,s20x,s30x=Res[0:N, count:count+1],Res[N:2*N, count:count+1],Res[2*N:3*N, count:count+1]\n",
    "        s21x,s31x,s32x=Res[3*N:4*N, count:count+1],Res[4*N:5*N, count:count+1],Res[5*N:6*N, count:count+1]\n",
    "        \n",
    "        s10y,s20y,s30y=Res[6*N:7*N, count:count+1],Res[7*N:8*N, count:count+1],Res[8*N:9*N, count:count+1]\n",
    "        s21y,s31y,s32y=Res[9*N:10*N, count:count+1],Res[10*N:11*N, count:count+1],Res[11*N:12*N, count:count+1]\n",
    "        \n",
    "        s0z,s1z,s2z=Res[12*N:13*N, count:count+1],Res[13*N:14*N, count:count+1],Res[14*N:15*N, count:count+1]\n",
    "        \n",
    "        \n",
    "        alpha_Rx=mean(Res[15*N:15*N+1, count:count+1])\n",
    "        alpha_Ry=mean(Res[15*N+1:15*N+2, count:count+1])\n",
    "        alpha_Lx=mean(Res[15*N+2:15*N+3, count:count+1])\n",
    "        alpha_Ly=mean(Res[15*N+3:15*N+4, count:count+1])\n",
    "        \n",
    "        \n",
    "        Results[0][count],Results[1][count],Results[2][count]=N*mean(s10x)/sqrt(2),N*mean(s20x)/sqrt(2),N*mean(s30x)/sqrt(2)\n",
    "        Results[3][count],Results[4][count],Results[5][count]=N*mean(s21x)/sqrt(2),N*mean(s31x)/sqrt(2),N*mean(s32x)/sqrt(2)\n",
    "\n",
    "        Results[6][count],Results[7][count],Results[8][count]=N*mean(s10y)/sqrt(2),N*mean(s20y)/sqrt(2),N*mean(s30y)/sqrt(2)\n",
    "        Results[9][count],Results[10][count],Results[11][count]=N*mean(s21y)/sqrt(2),N*mean(s31y)/sqrt(2),N*mean(s32y)/sqrt(2)\n",
    "        \n",
    "        Results[12][count],Results[13][count],Results[14][count]=N*mean(s0z)/2,N*mean(s1z)/2,N*mean(s2z)/2\n",
    "        \n",
    "        Results[15][count],Results[16][count]=alpha_Rx,alpha_Ry\n",
    "        Results[17][count],Results[18][count]=alpha_Lx,alpha_Ly\n",
    "        \n",
    "        \n",
    "        count=count+1\n",
    "        \n",
    "    \n",
    "    return Results"
   ]
  },
  {
   "cell_type": "code",
   "execution_count": null,
   "metadata": {
    "id": "6g9bl3RHJHsK"
   },
   "outputs": [],
   "source": []
  },
  {
   "cell_type": "code",
   "execution_count": 60,
   "metadata": {
    "id": "PAqwTEIYJHsL"
   },
   "outputs": [],
   "source": [
    "from numpy import add\n",
    "from numba import jit\n",
    "\n",
    "\n",
    "\n",
    "itera=5000\n",
    "@jit\n",
    "\n",
    "def averages(Stochastic,itera=itera,N=N,n=n):\n",
    "    Results =zeros((19, n))\n",
    "    for j in range(itera):\n",
    "        Trayec=trayectory(N,Stochastic)\n",
    "        Results=add(Results,summary_stat(Trayec,N,n))\n",
    "    \n",
    "    return Results/itera\n",
    "    \n",
    "    \n",
    "    \n",
    "    "
   ]
  },
  {
   "cell_type": "code",
   "execution_count": null,
   "metadata": {
    "id": "vrrMVxzrJHsM"
   },
   "outputs": [],
   "source": []
  },
  {
   "cell_type": "code",
   "execution_count": null,
   "metadata": {
    "colab": {
     "base_uri": "https://localhost:8080/"
    },
    "id": "wg0dJ1shJHsM",
    "outputId": "4110f4f1-c310-4404-a5e4-6a3c01a609fa"
   },
   "outputs": [],
   "source": [
    "t0=time.time()\n",
    "\n",
    "itera=300\n",
    "\n",
    "Result_varDDTWA_EM=averages(1,itera=itera,N=N,n=n)\n",
    "#Result_varDTWA=averages(0,itera=itera,N=N,n=n)\n",
    "\n",
    "t1=time.time()\n",
    "\n",
    "print(t1-t0)\n",
    "\n"
   ]
  },
  {
   "cell_type": "code",
   "execution_count": null,
   "metadata": {
    "id": "q9L41aZBJHsO"
   },
   "outputs": [],
   "source": []
  },
  {
   "cell_type": "code",
   "execution_count": null,
   "metadata": {
    "id": "7Ui48CTEJHsO"
   },
   "outputs": [],
   "source": []
  },
  {
   "cell_type": "markdown",
   "metadata": {
    "id": "6tFhUTAxJHsU"
   },
   "source": [
    "## Results DDTWA"
   ]
  },
  {
   "cell_type": "code",
   "execution_count": null,
   "metadata": {
    "id": "mnIYdZtUoNfh"
   },
   "outputs": [],
   "source": []
  },
  {
   "cell_type": "code",
   "execution_count": null,
   "metadata": {
    "id": "pz_wzj3ryDsU"
   },
   "outputs": [],
   "source": [
    "matplotlib.rcParams['figure.figsize'] = (10.0, 6.5)\n",
    "\n",
    "j_max = N/2.\n",
    "label_size = 20\n",
    "\n",
    "\n",
    "fig3 = plt.figure(3)\n",
    "plt.title(r'Quantum Evolution of $S_x$', fontsize = label_size)\n",
    "plt.xlabel(r'$t$', fontsize = label_size)\n",
    "#plt.ylabel(r'$\\langle a^\\dagger a\\rangle(t)$', fontsize = label_size)\n",
    "plt.ylabel(r'$\\langle S_k \\rangle(t)$', fontsize = label_size)\n",
    "\n",
    "\n",
    "plt.plot(times, Result_varDDTWA_EM[0],\"--\",label=\"$S^x_{10}$ DDTWA EM\")\n",
    "\n",
    "plt.plot(times, Result_varDDTWA_EM[1],\"--\",label=\"$S^x_{20}$ DDTWA EM\")\n",
    "\n",
    "plt.plot(times, Result_varDDTWA_EM[2],\"--\",label=\"$S^x_{30}$ DDTWA EM\")\n",
    "\n",
    "plt.plot(times, Result_varDDTWA_EM[3],\"--\",label=\"$S^x_{21}$ DDTWA EM\")\n",
    "\n",
    "plt.plot(times, Result_varDDTWA_EM[4],\"--\",label=\"$S^x_{31}$ DDTWA EM\")\n",
    "\n",
    "plt.plot(times, Result_varDDTWA_EM[5],\"--\",label=\"$S^x_{32}$ DDTWA EM\")\n",
    "\n",
    "\n",
    "plt.plot(times, 0*times,\"-\",label=\"$<S_k>=0$\")\n",
    "\n",
    "#plt.legend(fontsize = label_size)\n",
    "plt.legend(loc=\"upper right\")\n",
    "plt.show()\n",
    "plt.close()"
   ]
  },
  {
   "cell_type": "code",
   "execution_count": null,
   "metadata": {
    "id": "XczeJJ3UXOEo"
   },
   "outputs": [],
   "source": []
  },
  {
   "cell_type": "code",
   "execution_count": null,
   "metadata": {
    "id": "JwqRKxiLyDsV"
   },
   "outputs": [],
   "source": [
    "matplotlib.rcParams['figure.figsize'] = (10.0, 6.5)\n",
    "\n",
    "j_max = N/2.\n",
    "label_size = 20\n",
    "\n",
    "\n",
    "fig3 = plt.figure(3)\n",
    "plt.title(r'Quantum Evolution of $S_y$', fontsize = label_size)\n",
    "plt.xlabel(r'$t$', fontsize = label_size)\n",
    "#plt.ylabel(r'$\\langle a^\\dagger a\\rangle(t)$', fontsize = label_size)\n",
    "plt.ylabel(r'$\\langle S_k \\rangle(t)$', fontsize = label_size)\n",
    "\n",
    "\n",
    "plt.plot(times, Result_varDDTWA_EM[6],\"--\",label=\"$S^y_{10}$ DDTWA EM\")\n",
    "\n",
    "plt.plot(times, Result_varDDTWA_EM[7],\"--\",label=\"$S^y_{20}$ DDTWA EM\")\n",
    "\n",
    "plt.plot(times, Result_varDDTWA_EM[8],\"--\",label=\"$S^y_{30}$ DDTWA EM\")\n",
    "\n",
    "plt.plot(times, Result_varDDTWA_EM[9],\"--\",label=\"$S^y_{21}$ DDTWA EM\")\n",
    "\n",
    "plt.plot(times, Result_varDDTWA_EM[10],\"--\",label=\"$S^y_{31}$ DDTWA EM\")\n",
    "\n",
    "plt.plot(times, Result_varDDTWA_EM[11],\"--\",label=\"$S^y_{32}$ DDTWA EM\")\n",
    "\n",
    "\n",
    "plt.plot(times, 0*times,\"-\",label=\"$<S_k>=0$\")\n",
    "\n",
    "#plt.legend(fontsize = label_size)\n",
    "plt.legend(loc=\"upper right\")\n",
    "plt.show()\n",
    "plt.close()"
   ]
  },
  {
   "cell_type": "code",
   "execution_count": null,
   "metadata": {
    "id": "IjATwjrKyDsV"
   },
   "outputs": [],
   "source": [
    "matplotlib.rcParams['figure.figsize'] = (10.0, 6.5)\n",
    "\n",
    "j_max = N/2.\n",
    "label_size = 20\n",
    "\n",
    "\n",
    "fig3 = plt.figure(3)\n",
    "plt.title(r'Quantum Evolution of $<S_z>$', fontsize = label_size)\n",
    "plt.xlabel(r'$t$', fontsize = label_size)\n",
    "#plt.ylabel(r'$\\langle a^\\dagger a\\rangle(t)$', fontsize = label_size)\n",
    "plt.ylabel(r'$\\langle S_k \\rangle(t)$', fontsize = label_size)\n",
    "\n",
    "\n",
    "plt.plot(times, Result_varDDTWA_EM[12],\"--\",label=\"$S^z_{0}$ DDTWA EM\")\n",
    "\n",
    "plt.plot(times, Result_varDDTWA_EM[13],\"--\",label=\"$S^z_{1}$ DDTWA EM\")\n",
    "\n",
    "plt.plot(times, Result_varDDTWA_EM[14],\"--\",label=\"$S^z_{2}$ DDTWA EM\")\n",
    "\n",
    "\n",
    "\n",
    "\n",
    "plt.plot(times, 0*times,\"-\",label=\"$<S_k>=0$\")\n",
    "\n",
    "#plt.legend(fontsize = label_size)\n",
    "plt.legend(loc=\"upper right\")\n",
    "plt.show()\n",
    "plt.close()"
   ]
  },
  {
   "cell_type": "code",
   "execution_count": null,
   "metadata": {
    "id": "9xlLV9TxyDsV"
   },
   "outputs": [],
   "source": [
    "matplotlib.rcParams['figure.figsize'] = (10.0, 6.5)\n",
    "\n",
    "j_max = N/2.\n",
    "label_size = 20\n",
    "\n",
    "\n",
    "fig3 = plt.figure(3)\n",
    "plt.title(r'Quantum Evolution of $<a_{j\\gamma}>$', fontsize = label_size)\n",
    "plt.xlabel(r'$t$', fontsize = label_size)\n",
    "#plt.ylabel(r'$\\langle a^\\dagger a\\rangle(t)$', fontsize = label_size)\n",
    "plt.ylabel(r'$\\langle a_{j\\gamma} \\rangle(t)$', fontsize = label_size)\n",
    "\n",
    "\n",
    "plt.plot(times, Result_varDDTWA_EM[15],\"--\",label=\"$<a_{Rx}>$ DDTWA EM\")\n",
    "\n",
    "plt.plot(times, Result_varDDTWA_EM[16],\"--\",label=\"$<a_{Ry}>$ DDTWA EM\")\n",
    "\n",
    "plt.plot(times, Result_varDDTWA_EM[17],\"--\",label=\"$<a_{Lx}>$ DDTWA EM\")\n",
    "\n",
    "plt.plot(times, Result_varDDTWA_EM[18],\"--\",label=\"$<a_{Ly}>$ DDTWA EM\")\n",
    "\n",
    "\n",
    "\n",
    "\n",
    "plt.plot(times, 0*times,\"-\",label=\"$<a>=0$\")\n",
    "\n",
    "#plt.legend(fontsize = label_size)\n",
    "plt.legend(loc=\"upper right\")\n",
    "plt.show()\n",
    "plt.close()"
   ]
  },
  {
   "cell_type": "code",
   "execution_count": null,
   "metadata": {
    "id": "flKLWnwcyDsW"
   },
   "outputs": [],
   "source": []
  },
  {
   "cell_type": "code",
   "execution_count": null,
   "metadata": {},
   "outputs": [],
   "source": []
  },
  {
   "cell_type": "markdown",
   "metadata": {},
   "source": [
    "## Bad cavity limit check"
   ]
  },
  {
   "cell_type": "code",
   "execution_count": null,
   "metadata": {
    "id": "a0T0ZrxGyDsW"
   },
   "outputs": [],
   "source": []
  },
  {
   "cell_type": "code",
   "execution_count": null,
   "metadata": {
    "id": "xqQ1i1WbyDsW"
   },
   "outputs": [],
   "source": [
    "C_R=-gR/((KapR/2)**2+DeltaR**2)\n",
    "\n",
    "\n",
    "C_L=-gL/((KapL/2)**2+DeltaL**2)\n",
    "\n",
    "S30x=Result_varDDTWA_EM[2]\n",
    "S30y=Result_varDDTWA_EM[8]\n",
    "S21x=Result_varDDTWA_EM[3]\n",
    "S21y=Result_varDDTWA_EM[9]\n",
    "\n",
    "aRx_est=C_R*((KapR/2)* S30y-DeltaR* S30x )\n",
    "aRy_est=C_R*((KapR/2)* S30x+DeltaR* S30y )\n",
    "aLx_est=C_L*((KapL/2)* S21y-DeltaL* S21x )\n",
    "aLy_est=C_L*((KapL/2)* S21x+DeltaL* S21y )\n",
    "\n",
    "\n",
    "plt.plot(times,aRx_est,\"-o\")\n",
    "#plt.plot(times,aRy_est,\"-o\")\n",
    "#plt.plot(times,aLx_est,\"-o\")\n",
    "#plt.plot(times,aLy_est,\"-o\")\n",
    "\n",
    "\n",
    "\n",
    "plt.plot(times, Result_varDDTWA_EM[15],\"--\",label=\"$a_{Rx}$ DDTWA EM\")\n",
    "#plt.plot(times, Result_varDDTWA_EM[16],\"--\",label=\"$a_{Ry}$ DDTWA EM\")\n",
    "#plt.plot(times, Result_varDDTWA_EM[17],\"--\",label=\"$a_{Lx}$ DDTWA EM\")\n",
    "#plt.plot(times, Result_varDDTWA_EM[18],\"--\",label=\"$a_{Ly}$ DDTWA EM\")\n",
    "\n",
    "\n",
    "plt.legend()"
   ]
  },
  {
   "cell_type": "code",
   "execution_count": null,
   "metadata": {},
   "outputs": [],
   "source": []
  },
  {
   "cell_type": "markdown",
   "metadata": {},
   "source": [
    "## Averaging"
   ]
  },
  {
   "cell_type": "code",
   "execution_count": null,
   "metadata": {
    "id": "oimR28ixyDsX"
   },
   "outputs": [],
   "source": [
    "from scipy import integrate"
   ]
  },
  {
   "cell_type": "code",
   "execution_count": null,
   "metadata": {
    "id": "DwBRwvlGyDsX"
   },
   "outputs": [],
   "source": [
    "def time_averaging(array,indexes):\n",
    "    result=[]\n",
    "    lower_index=int(0.5*len(array))\n",
    "    \n",
    "    \n",
    "    for j in range(len(array)):\n",
    "        if j<lower_index:\n",
    "            x=times[j:j+indexes]\n",
    "            y=array[j:j+indexes]\n",
    "            y_aver=integrate.trapz(y, x)/(x[-1]-x[0])\n",
    "            result.append(y_aver)\n",
    "            \n",
    "        else:\n",
    "            x=times[j-indexes:j]\n",
    "            y=array[j-indexes:j]\n",
    "            y_aver=integrate.trapz(y, x)/(x[-1]-x[0])\n",
    "            result.append(y_aver)\n",
    "    \n",
    "    return result"
   ]
  },
  {
   "cell_type": "code",
   "execution_count": null,
   "metadata": {
    "id": "k-Vw1E33yDsX"
   },
   "outputs": [],
   "source": []
  },
  {
   "cell_type": "code",
   "execution_count": null,
   "metadata": {
    "id": "6G1KDBviyDsX"
   },
   "outputs": [],
   "source": []
  },
  {
   "cell_type": "code",
   "execution_count": null,
   "metadata": {
    "id": "8zOuZjUxyDsX"
   },
   "outputs": [],
   "source": [
    "for j in range(12): \n",
    "    plt.plot(times,Result_varDDTWA_EM[j])"
   ]
  },
  {
   "cell_type": "code",
   "execution_count": null,
   "metadata": {
    "id": "sD3MsSnQj9fC"
   },
   "outputs": [],
   "source": []
  },
  {
   "cell_type": "markdown",
   "metadata": {
    "id": "dtUj0W0GzgWs"
   },
   "source": [
    "## Description of relevant dynamic operators"
   ]
  },
  {
   "cell_type": "code",
   "execution_count": null,
   "metadata": {},
   "outputs": [],
   "source": [
    "plt.plot(times, Result_varDDTWA_EM[0],\"--\",label=\"$G_x$ DDTWA EM\")\n",
    "plt.plot(times, Result_varDDTWA_EM[1],\"--\",label=\"$M_x$ DDTWA EM\")\n",
    "plt.plot(times, Result_varDDTWA_EM[4],\"--\",label=\"$P_x$ DDTWA EM\")\n",
    "plt.plot(times, Result_varDDTWA_EM[5],\"--\",label=\"$E_x$ DDTWA EM\")\n",
    "\n",
    "#plt.plot(times, Result_varDTWA[0],\"--\",label=\"$G_x$ DTWA EM\")\n",
    "#plt.plot(times, Result_varDTWA[1],\"--\",label=\"$M_x$ DTWA EM\")\n",
    "#plt.plot(times, Result_varDTWA[4],\"--\",label=\"$P_x$ DTWA EM\")\n",
    "#plt.plot(times, Result_varDTWA[5],\"--\",label=\"$E_x$ DTWA EM\")\n",
    "\n",
    "plt.legend()"
   ]
  },
  {
   "cell_type": "code",
   "execution_count": null,
   "metadata": {},
   "outputs": [],
   "source": [
    "plt.plot(times, Result_varDDTWA_EM[6],\"--\" ,label=\"$G_y$ DDTWA EM\")\n",
    "plt.plot(times, Result_varDDTWA_EM[7],\"--\" ,label=\"$M_y$ DDTWA EM\")\n",
    "plt.plot(times, Result_varDDTWA_EM[10],\"--\",label=\"$P_y$ DDTWA EM\")\n",
    "plt.plot(times, Result_varDDTWA_EM[11],\"--\",label=\"$E_y$ DDTWA EM\")\n",
    "\n",
    "#plt.plot(times, Result_varDTWA[6],\"--\",label=\"$G_x$ DTWA EM\")\n",
    "#plt.plot(times, Result_varDTWA[7],\"--\",label=\"$M_x$ DTWA EM\")\n",
    "#plt.plot(times, Result_varDTWA[10],\"--\",label=\"$P_x$ DTWA EM\")\n",
    "#plt.plot(times, Result_varDTWA[11],\"--\",label=\"$E_x$ DTWA EM\")\n",
    "\n",
    "plt.legend()"
   ]
  },
  {
   "cell_type": "code",
   "execution_count": null,
   "metadata": {},
   "outputs": [],
   "source": []
  },
  {
   "cell_type": "code",
   "execution_count": null,
   "metadata": {},
   "outputs": [],
   "source": []
  },
  {
   "cell_type": "code",
   "execution_count": null,
   "metadata": {},
   "outputs": [],
   "source": []
  },
  {
   "cell_type": "markdown",
   "metadata": {
    "id": "txN3wVlQzgb1"
   },
   "source": [
    "## Fitting of $\\left< G_{x,y} \\right>$ for $\\left|\\psi\\right>=\\frac{\\left|0\\right>+\\left|1\\right>}{\\sqrt{2}}$ solely"
   ]
  },
  {
   "cell_type": "code",
   "execution_count": 48,
   "metadata": {
    "id": "XVtsKSqrqTLY"
   },
   "outputs": [],
   "source": [
    "import numpy as np\n",
    "import matplotlib.pyplot as plt\n",
    "from scipy.optimize import curve_fit"
   ]
  },
  {
   "cell_type": "code",
   "execution_count": 49,
   "metadata": {
    "id": "hmn9GlcUqTNq"
   },
   "outputs": [
    {
     "data": {
      "text/plain": [
       "<matplotlib.legend.Legend at 0x1631f7cb460>"
      ]
     },
     "execution_count": 49,
     "metadata": {},
     "output_type": "execute_result"
    },
    {
     "data": {
      "image/png": "[encoded data removed]",
      "text/plain": [
       "<Figure size 720x468 with 1 Axes>"
      ]
     },
     "metadata": {
      "needs_background": "light"
     },
     "output_type": "display_data"
    }
   ],
   "source": [
    "def decaying_sinusoid(t, a, lam, w):\n",
    "    return a * np.exp(lam * t) * np.cos(w * t)\n",
    "\n",
    "t_index=1000000\n",
    "\n",
    "popt, pcov = curve_fit(decaying_sinusoid,\n",
    "                       times[:t_index],\n",
    "                       Result_varDDTWA_EM[0][:t_index],\n",
    "                       p0=(50, -0.1, 0.2))\n",
    "\n",
    "fig, ax = plt.subplots(1, 1)\n",
    "\n",
    "timc=times[:t_index]\n",
    "\n",
    "plt.title(\"Quantum Dynamics of $<G_x>$\")\n",
    "\n",
    "ax.plot(timc, Result_varDDTWA_EM[0][:t_index],label=\"$<G_x>$ estimation under DDTWA\");\n",
    "ax.plot(timc, popt[0]*np.exp(popt[1]*np.array(timc)),label=\"Exponential decay Estimation\");\n",
    "\n",
    "plt.legend()\n",
    "\n",
    "\n"
   ]
  },
  {
   "cell_type": "code",
   "execution_count": null,
   "metadata": {
    "id": "7DAlBuIns0cv"
   },
   "outputs": [],
   "source": []
  },
  {
   "cell_type": "code",
   "execution_count": 50,
   "metadata": {
    "id": "wk-TPBnls0fl"
   },
   "outputs": [
    {
     "name": "stdout",
     "output_type": "stream",
     "text": [
      "-0.002117787031204225 30\n"
     ]
    }
   ],
   "source": [
    "print(-popt[1]/N,N)\n"
   ]
  },
  {
   "cell_type": "code",
   "execution_count": null,
   "metadata": {},
   "outputs": [],
   "source": []
  },
  {
   "cell_type": "code",
   "execution_count": null,
   "metadata": {},
   "outputs": [],
   "source": []
  },
  {
   "cell_type": "code",
   "execution_count": null,
   "metadata": {},
   "outputs": [],
   "source": []
  },
  {
   "cell_type": "code",
   "execution_count": null,
   "metadata": {
    "id": "U5-x0xkts0iL"
   },
   "outputs": [],
   "source": [
    "#S10z_aver=time_averaging(Result_varDDTWA_EM[12],int(n*0.05));\n",
    "#S21z_aver=time_averaging(Result_varDDTWA_EM[13],int(n*0.05));\n",
    "#S32z_aver=time_averaging(Result_varDDTWA_EM[14],int(n*0.05));\n",
    "\n",
    "#S30z=np.array(S10z_aver)+np.array(S21z_aver)+np.array(S32z_aver)\n",
    "\n",
    "#print(S30z[-1],S21z_aver[-1],OmegaR,OmegaL)\n",
    "\n",
    "#plt.plot(times,S30z,label=\"$<S_{30z}>$ estimation under DDTWA\")\n",
    "\n",
    "#plt.legend()"
   ]
  },
  {
   "cell_type": "code",
   "execution_count": null,
   "metadata": {
    "id": "_xxQlLpbj9fD"
   },
   "outputs": [],
   "source": []
  },
  {
   "cell_type": "markdown",
   "metadata": {
    "id": "yskxBdedj9fD"
   },
   "source": [
    "## Bad cavity limit under averaging"
   ]
  },
  {
   "cell_type": "code",
   "execution_count": null,
   "metadata": {
    "id": "354lqwQbyDsf"
   },
   "outputs": [],
   "source": [
    "aRx_est=C_R*((KapR/2)* S30y-DeltaR* S30x )\n",
    "aRy_est=C_R*((KapR/2)* S30x+DeltaR* S30y )\n",
    "aLx_est=C_L*((KapL/2)* S21y-DeltaL* S21x )\n",
    "aLy_est=C_L*((KapL/2)* S21x+DeltaL* S21y )\n",
    "\n",
    "\n",
    "aRx_aver_lim=time_averaging(aRx_est,int(n*0.05));\n",
    "aRy_aver_lim=time_averaging(aRy_est,int(n*0.05));\n",
    "aLx_aver_lim=time_averaging(aLx_est,int(n*0.05));\n",
    "aLy_aver_lim=time_averaging(aLy_est,int(n*0.05));\n",
    "\n",
    "\n",
    "\n",
    "aRx_aver=time_averaging(Result_varDDTWA_EM[15],int(n*0.05));\n",
    "aRy_aver=time_averaging(Result_varDDTWA_EM[16],int(n*0.05));\n",
    "aLx_aver=time_averaging(Result_varDDTWA_EM[17],int(n*0.05));\n",
    "aLy_aver=time_averaging(Result_varDDTWA_EM[18],int(n*0.05));"
   ]
  },
  {
   "cell_type": "code",
   "execution_count": null,
   "metadata": {},
   "outputs": [],
   "source": []
  },
  {
   "cell_type": "code",
   "execution_count": null,
   "metadata": {
    "id": "Xg9o1n4OyDsg"
   },
   "outputs": [],
   "source": [
    "plt.plot(times,aRx_aver_lim,\"--\",label=\"$a_{Rx}$ aver\")\n",
    "#plt.plot(times,aRy_aver_lim,\"--\")\n",
    "#plt.plot(times,aLx_aver_lim,\"--\")\n",
    "#plt.plot(times,aLy_aver_lim,\"--\")\n",
    "\n",
    "plt.plot(times,aRx_aver,\"--\",label=\"$a_{Rx}$ aver\")\n",
    "#plt.plot(times,aRy_aver,\"--\")\n",
    "#plt.plot(times,aLx_aver,\"--\")\n",
    "#plt.plot(times,aLy_aver,\"--\")\n",
    "\n",
    "plt.legend()"
   ]
  },
  {
   "cell_type": "code",
   "execution_count": null,
   "metadata": {
    "id": "sxhs6_a1yDsh"
   },
   "outputs": [],
   "source": []
  },
  {
   "cell_type": "code",
   "execution_count": null,
   "metadata": {
    "id": "FeC-DkGvyDsh"
   },
   "outputs": [],
   "source": [
    "\n",
    "#plt.plot(times, Result_varDDTWA_EM[12]+Result_varDDTWA_EM[13]+Result_varDDTWA_EM[14],\"--\",label=\"$S^z_{30}$ DDTWA EM\")\n",
    "\n",
    "#plt.plot(times,Result_varDDTWA_EM[13],\"--\",label=\"$S^z_{21}$ DDTWA EM\")\n",
    "\n",
    "#plt.legend()"
   ]
  },
  {
   "cell_type": "code",
   "execution_count": null,
   "metadata": {
    "id": "py8yy-asyDsi"
   },
   "outputs": [],
   "source": [
    "print(OmegaR,OmegaL)"
   ]
  },
  {
   "cell_type": "code",
   "execution_count": null,
   "metadata": {
    "id": "lXbgVLLJyDsi"
   },
   "outputs": [],
   "source": []
  },
  {
   "cell_type": "code",
   "execution_count": null,
   "metadata": {
    "id": "7reveTlHyDsj"
   },
   "outputs": [],
   "source": []
  },
  {
   "cell_type": "code",
   "execution_count": null,
   "metadata": {
    "id": "wuCgocd4yDsj"
   },
   "outputs": [],
   "source": [
    "#S10z_aver=time_averaging(Result_varDDTWA_EM[12],int(n*0.05));\n",
    "#S21z_aver=time_averaging(Result_varDDTWA_EM[13],int(n*0.05));\n",
    "#S32z_aver=time_averaging(Result_varDDTWA_EM[14],int(n*0.05));\n",
    "\n",
    "#S30z=np.array(S10z_aver)+np.array(S21z_aver)+np.array(S32z_aver)\n",
    "\n",
    "#print(S30z[-1],S21z_aver[-1],OmegaR,OmegaL)"
   ]
  },
  {
   "cell_type": "code",
   "execution_count": null,
   "metadata": {
    "id": "mDgaHS7_yDsk"
   },
   "outputs": [],
   "source": []
  },
  {
   "cell_type": "code",
   "execution_count": null,
   "metadata": {
    "id": "F3ZAOSkeyDsk"
   },
   "outputs": [],
   "source": []
  },
  {
   "cell_type": "code",
   "execution_count": null,
   "metadata": {
    "id": "jQKCcF-JyDsl"
   },
   "outputs": [],
   "source": []
  },
  {
   "cell_type": "code",
   "execution_count": null,
   "metadata": {
    "id": "JN4444duyDsl"
   },
   "outputs": [],
   "source": []
  },
  {
   "cell_type": "markdown",
   "metadata": {
    "id": "63dqm_3CyDsl"
   },
   "source": [
    "### Description of $\\left< G_x \\right>$"
   ]
  },
  {
   "cell_type": "code",
   "execution_count": null,
   "metadata": {
    "id": "fNV_DYZCyDsm"
   },
   "outputs": [],
   "source": [
    "plt.plot(times, Result_varDDTWA_EM[0],label=\"$G_x$ DDTWA EM\")"
   ]
  },
  {
   "cell_type": "code",
   "execution_count": null,
   "metadata": {
    "id": "CWZ5VmUjyDsm"
   },
   "outputs": [],
   "source": []
  },
  {
   "cell_type": "markdown",
   "metadata": {
    "id": "QTBqm6SbyDsm"
   },
   "source": [
    "## General averaging of dynamical operators"
   ]
  },
  {
   "cell_type": "code",
   "execution_count": null,
   "metadata": {
    "id": "3-_ZWV_OyDsn"
   },
   "outputs": [],
   "source": [
    "S10x_aver=time_averaging(Result_varDDTWA_EM[0],int(n*0.05));\n",
    "S20x_aver=time_averaging(Result_varDDTWA_EM[1],int(n*0.05));\n",
    "S30x_aver=time_averaging(Result_varDDTWA_EM[2],int(n*0.05));\n",
    "S21x_aver=time_averaging(Result_varDDTWA_EM[3],int(n*0.05));\n",
    "S31x_aver=time_averaging(Result_varDDTWA_EM[4],int(n*0.05));\n",
    "S32x_aver=time_averaging(Result_varDDTWA_EM[5],int(n*0.05));\n",
    "\n",
    "S10y_aver=time_averaging(Result_varDDTWA_EM[6],int(n*0.05));\n",
    "S20y_aver=time_averaging(Result_varDDTWA_EM[7],int(n*0.05));\n",
    "S30y_aver=time_averaging(Result_varDDTWA_EM[8],int(n*0.05));\n",
    "S21y_aver=time_averaging(Result_varDDTWA_EM[9],int(n*0.05));\n",
    "S31y_aver=time_averaging(Result_varDDTWA_EM[10],int(n*0.05));\n",
    "S32y_aver=time_averaging(Result_varDDTWA_EM[11],int(n*0.05));\n",
    "\n",
    "S10z_aver=time_averaging(Result_varDDTWA_EM[12],int(n*0.05));\n",
    "S21z_aver=time_averaging(Result_varDDTWA_EM[13],int(n*0.05));\n",
    "S32z_aver=time_averaging(Result_varDDTWA_EM[14],int(n*0.05));\n",
    "\n",
    "S30z=np.array(S10z_aver)+np.array(S21z_aver)+np.array(S32z_aver)\n",
    "\n",
    "print(S30z[-1],S21z_aver[-1],OmegaR,OmegaL)"
   ]
  }
 ],
 "metadata": {
  "colab": {
   "collapsed_sections": [
    "-gMZlxq1JHsn"
   ],
   "machine_shape": "hm",
   "name": "DDTWAvsDTWA0_9both.ipynb",
   "provenance": []
  },
  "kernelspec": {
   "display_name": "Python 3",
   "language": "python",
   "name": "python3"
  },
  "language_info": {
   "codemirror_mode": {
    "name": "ipython",
    "version": 3
   },
   "file_extension": ".py",
   "mimetype": "text/x-python",
   "name": "python",
   "nbconvert_exporter": "python",
   "pygments_lexer": "ipython3",
   "version": "3.8.3"
  }
 },
 "nbformat": 4,
 "nbformat_minor": 1
}
