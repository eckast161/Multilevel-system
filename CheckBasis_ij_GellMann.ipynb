{
  "cells": [
    {
      "cell_type": "markdown",
      "metadata": {
        "id": "h9Jb883pGYBR"
      },
      "source": [
        "# Parameters"
      ]
    },
    {
      "cell_type": "code",
      "execution_count": 1,
      "metadata": {
        "id": "tb6RI3UhGYBZ"
      },
      "outputs": [],
      "source": [
        "import matplotlib.pyplot as plt\n",
        "import numpy as np\n",
        "\n",
        "\"\"\"In order to provide a better presentation of the graphs we use the rcParams options shown below.\"\"\"\n",
        "\n",
        "import matplotlib\n",
        "matplotlib.rcParams['text.usetex'] = False\n",
        "matplotlib.rcParams['mathtext.fontset'] = 'stix'\n",
        "matplotlib.rcParams['font.family'] = 'STIXGeneral'\n",
        "matplotlib.rcParams['font.size'] = 15\n",
        "matplotlib.rcParams['figure.figsize'] = (11.0, 8.0)\n",
        "\n",
        "from numpy import cos, sin\n",
        "\n",
        "label_size = 20"
      ]
    },
    {
      "cell_type": "code",
      "execution_count": 2,
      "metadata": {
        "id": "Axupp3iNGYBe"
      },
      "outputs": [],
      "source": [
        "from numpy import sqrt"
      ]
    },
    {
      "cell_type": "code",
      "execution_count": 3,
      "metadata": {
        "id": "4YkFMtXwGYBf"
      },
      "outputs": [],
      "source": [
        "import time\n",
        "from numba import jit\n",
        "from numpy import sin, cos\n",
        "\n",
        "T0=time.time()"
      ]
    },
    {
      "cell_type": "code",
      "execution_count": 3,
      "metadata": {
        "id": "mKIMW34aGYBg"
      },
      "outputs": [],
      "source": [
        ""
      ]
    },
    {
      "cell_type": "code",
      "execution_count": 233,
      "metadata": {
        "id": "yhFmGyQGGYBh"
      },
      "outputs": [],
      "source": [
        "#Parameters\n",
        "\n",
        "Theta=np.pi/2\n",
        "Phi  =0\n",
        "\n",
        "\n",
        "#Number of atoms\n",
        "\n",
        "N=100000\n",
        "\n",
        "\n",
        "\n",
        "gR=1\n",
        "DeltaR=0\n",
        "KapR= 15 *gR*sqrt(N)\n",
        "\n",
        "fractionR=0.95\n",
        "OmegaR= fractionR*  N*KapR*(gR**2)/ (2*( (KapR/2)**2+DeltaR**2+1e-10 ) )\n"
      ]
    },
    {
      "cell_type": "markdown",
      "metadata": {
        "id": "V3RGg6RIGYCT"
      },
      "source": [
        "# Hamiltonian"
      ]
    },
    {
      "cell_type": "code",
      "execution_count": 234,
      "metadata": {
        "id": "esD0UlefYhFB"
      },
      "outputs": [],
      "source": [
        "t_final=1\n"
      ]
    },
    {
      "cell_type": "code",
      "execution_count": 235,
      "metadata": {
        "id": "gEunh0vXYhIC"
      },
      "outputs": [],
      "source": [
        "chiR=DeltaR*(gR**2)/(DeltaR**2+(KapR/2)**2)\n",
        "\n",
        "GammaR=2*(OmegaR/fractionR)/(N)\n"
      ]
    },
    {
      "cell_type": "code",
      "execution_count": 236,
      "metadata": {
        "colab": {
          "base_uri": "https://localhost:8080/"
        },
        "id": "7Y7h68D7YhKq",
        "outputId": "a4b8d043-611f-4b94-d93d-511d9bb654d1"
      },
      "outputs": [
        {
          "output_type": "stream",
          "name": "stdout",
          "text": [
            "0.0 40.05551702879947 0.0008432740427115678\n"
          ]
        }
      ],
      "source": [
        "print(chiR,OmegaR,GammaR)"
      ]
    },
    {
      "cell_type": "code",
      "execution_count": 237,
      "metadata": {
        "colab": {
          "base_uri": "https://localhost:8080/"
        },
        "id": "0PiGskSQGYCT",
        "outputId": "8fb7744d-ceb3-48ec-9b60-1662d0bc65b4"
      },
      "outputs": [
        {
          "output_type": "stream",
          "name": "stdout",
          "text": [
            "84.32740427115678\n"
          ]
        }
      ],
      "source": [
        "print(N*GammaR*t_final)"
      ]
    },
    {
      "cell_type": "code",
      "execution_count": 238,
      "metadata": {
        "id": "JFHbxCwYWAvc"
      },
      "outputs": [],
      "source": [
        "import matplotlib.pyplot as plt\n",
        "import numpy as np\n",
        "from numpy import sin, cos, sqrt\n",
        "\n",
        "\"\"\"In order to provide a better presentation of the graphs we use the rcParams options shown below.\"\"\"\n",
        "\n",
        "import matplotlib\n",
        "matplotlib.rcParams['text.usetex'] = False\n",
        "matplotlib.rcParams['mathtext.fontset'] = 'stix'\n",
        "matplotlib.rcParams['font.family'] = 'STIXGeneral'\n",
        "matplotlib.rcParams['font.size'] = 15\n",
        "matplotlib.rcParams['figure.figsize'] = (11.0, 8.0)\n",
        "\n",
        "from numpy import sqrt\n",
        "\n",
        "import time\n",
        "from numba import jit\n",
        "\n",
        "\n",
        "\n",
        "\n",
        "from scipy.sparse import identity\n",
        "from scipy.sparse import lil_matrix\n",
        "from scipy.sparse import csr_matrix\n",
        "\n",
        "\n",
        "# Definition of Dicke-Generalized States\n",
        "\n",
        "import numpy as np\n",
        "from numpy import sqrt\n",
        "import matplotlib.pyplot as plt\n",
        "\n",
        "\n",
        "#--------------------------------------\n",
        "\n",
        "State_List=[]\n",
        "\n",
        "import scipy.special\n",
        "\n",
        "\n",
        "\n",
        "\n",
        "\n",
        "import time \n",
        "\n",
        "import itertools\n",
        "from itertools import permutations\n",
        "from numba import jit\n"
      ]
    },
    {
      "cell_type": "code",
      "execution_count": 238,
      "metadata": {
        "id": "MMzKB5I6WAya"
      },
      "outputs": [],
      "source": [
        "\n",
        "\n",
        "\n"
      ]
    },
    {
      "cell_type": "code",
      "execution_count": 238,
      "metadata": {
        "id": "Mftvo06lAnhx"
      },
      "outputs": [],
      "source": [
        ""
      ]
    },
    {
      "cell_type": "code",
      "execution_count": 238,
      "metadata": {
        "id": "EjlotYm8AnnB"
      },
      "outputs": [],
      "source": [
        ""
      ]
    },
    {
      "cell_type": "markdown",
      "metadata": {
        "id": "XsBbCWFXGYCr"
      },
      "source": [
        "## Here Finishes Liouvillian Solution"
      ]
    },
    {
      "cell_type": "code",
      "execution_count": 239,
      "metadata": {
        "colab": {
          "base_uri": "https://localhost:8080/"
        },
        "id": "7MdjfndqJqzl",
        "outputId": "fecc3393-4e64-4db7-8cba-7da79e8e2382"
      },
      "outputs": [
        {
          "output_type": "stream",
          "name": "stdout",
          "text": [
            "Requirement already satisfied: sdeint in /usr/local/lib/python3.7/dist-packages (0.2.2)\n",
            "Requirement already satisfied: numpy>=1.6 in /usr/local/lib/python3.7/dist-packages (from sdeint) (1.19.5)\n"
          ]
        }
      ],
      "source": [
        "pip install sdeint"
      ]
    },
    {
      "cell_type": "code",
      "execution_count": 240,
      "metadata": {
        "id": "Lt8zwW0cJq5Y"
      },
      "outputs": [],
      "source": [
        "import numpy as np\n",
        "import matplotlib.pyplot as plt\n",
        "%matplotlib inline\n",
        "from numpy import random, zeros, sqrt,cos,sin\n",
        "\n",
        "import matplotlib.pyplot as plt\n",
        "import numpy as np\n",
        "import sdeint\n",
        "import time\n",
        "from sdeint import itoint, stratint, itoSRI2, stratKP2iS,itoEuler\n",
        "from numba import jit\n",
        "import numbers\n",
        "\n",
        "from numpy import sqrt, zeros, diag, random, real, array, complex_, transpose, conjugate, exp, matmul, real\n",
        "\n",
        "\n",
        "import matplotlib\n",
        "import matplotlib.pyplot as plt"
      ]
    },
    {
      "cell_type": "code",
      "execution_count": 240,
      "metadata": {
        "id": "k2aRLhDEJq9r"
      },
      "outputs": [],
      "source": [
        ""
      ]
    },
    {
      "cell_type": "code",
      "execution_count": 241,
      "metadata": {
        "id": "_4U-l4WdJrCn"
      },
      "outputs": [],
      "source": [
        "import matplotlib.pyplot as plt\n",
        "import numpy as np\n",
        "\n",
        "\"\"\"In order to provide a better presentation of the graphs we use the rcParams options shown below.\"\"\"\n",
        "\n",
        "import matplotlib\n",
        "matplotlib.rcParams['text.usetex'] = False\n",
        "matplotlib.rcParams['mathtext.fontset'] = 'stix'\n",
        "matplotlib.rcParams['font.family'] = 'STIXGeneral'\n",
        "matplotlib.rcParams['font.size'] = 15\n",
        "matplotlib.rcParams['figure.figsize'] = (11.0, 8.0)"
      ]
    },
    {
      "cell_type": "code",
      "execution_count": 241,
      "metadata": {
        "id": "58oDIGRSLfWQ"
      },
      "outputs": [],
      "source": [
        "\n",
        "\n"
      ]
    },
    {
      "cell_type": "code",
      "execution_count": 241,
      "metadata": {
        "id": "2QNwaFMAvW9G"
      },
      "outputs": [],
      "source": [
        ""
      ]
    },
    {
      "cell_type": "code",
      "execution_count": 242,
      "metadata": {
        "id": "kFRmYPlJLgE0"
      },
      "outputs": [],
      "source": [
        "def _check_args(f, G, y0, tspan, dW=None, IJ=None):\n",
        "    \"\"\"Do some validation common to all algorithms. Find dimension d and number\n",
        "    of Wiener processes m.\n",
        "    \"\"\"\n",
        "    if not np.isclose(min(np.diff(tspan)), max(np.diff(tspan))):\n",
        "        raise SDEValueError('Currently time steps must be equally spaced.')\n",
        "    # Be flexible to allow scalar equations. convert them to a 1D vector system\n",
        "    if isinstance(y0, numbers.Number):\n",
        "        if isinstance(y0, numbers.Integral):\n",
        "            numtype = np.float64\n",
        "        else:\n",
        "            numtype = type(y0)\n",
        "        y0_orig = y0\n",
        "        y0 = np.array([y0], dtype=numtype)\n",
        "        def make_vector_fn(fn):\n",
        "            def newfn(y, t):\n",
        "                return np.array([fn(y[0], t)], dtype=numtype)\n",
        "            newfn.__name__ = fn.__name__\n",
        "            return newfn\n",
        "        def make_matrix_fn(fn):\n",
        "            def newfn(y, t):\n",
        "                return np.array([[fn(y[0], t)]], dtype=numtype)\n",
        "            newfn.__name__ = fn.__name__\n",
        "            return newfn\n",
        "        if isinstance(f(y0_orig, tspan[0]), numbers.Number):\n",
        "            f = make_vector_fn(f)\n",
        "        if isinstance(G(y0_orig, tspan[0]), numbers.Number):\n",
        "            G = make_matrix_fn(G)\n",
        "    # determine dimension d of the system\n",
        "    d = len(y0)\n",
        "    if len(f(y0, tspan[0])) != d:\n",
        "        raise SDEValueError('y0 and f have incompatible shapes.')\n",
        "    message = \"\"\"y0 has length %d. So G must either be a single function\n",
        "              returning a matrix of shape (%d, m), or else a list of m separate\n",
        "              functions each returning a column of G, with shape (%d,)\"\"\" % (\n",
        "                  d, d, d)\n",
        "    if callable(G):\n",
        "        # then G must be a function returning a d x m matrix\n",
        "        Gtest = G(y0, tspan[0])\n",
        "        if Gtest.ndim != 2 or Gtest.shape[0] != d:\n",
        "            raise SDEValueError(message)\n",
        "        # determine number of independent Wiener processes m\n",
        "        m = Gtest.shape[1]\n",
        "    else:\n",
        "        # G should be a list of m functions g_i giving columns of G\n",
        "        G = tuple(G)\n",
        "        m = len(G)\n",
        "        Gtest = np.zeros((d, m))\n",
        "        for k in range(0, m):\n",
        "            if not callable(G[k]):\n",
        "                raise SDEValueError(message)\n",
        "            Gtestk = G[k](y0, tspan[0])\n",
        "            if np.shape(Gtestk) != (d,):\n",
        "                raise SDEValueError(message)\n",
        "            Gtest[:,k] = Gtestk\n",
        "    message = \"\"\"From function G, it seems m==%d. If present, the optional\n",
        "              parameter dW must be an array of shape (len(tspan)-1, m) giving\n",
        "              m independent Wiener increments for each time interval.\"\"\" % m\n",
        "    if dW is not None:\n",
        "        if not hasattr(dW, 'shape') or dW.shape != (len(tspan) - 1, m):\n",
        "            raise SDEValueError(message)\n",
        "    message = \"\"\"From function G, it seems m==%d. If present, the optional\n",
        "              parameter I or J must be an array of shape (len(tspan)-1, m, m)\n",
        "              giving an m x m matrix of repeated integral values for each\n",
        "              time interval.\"\"\" % m\n",
        "    if IJ is not None:\n",
        "        if not hasattr(IJ, 'shape') or IJ.shape != (len(tspan) - 1, m, m):\n",
        "            raise SDEValueError(message)\n",
        "    return (d, m, f, G, y0, tspan, dW, IJ)"
      ]
    },
    {
      "cell_type": "code",
      "execution_count": 242,
      "metadata": {
        "id": "6LWY7IFFLgJr"
      },
      "outputs": [],
      "source": [
        ""
      ]
    },
    {
      "cell_type": "code",
      "execution_count": 245,
      "metadata": {
        "colab": {
          "base_uri": "https://localhost:8080/"
        },
        "id": "1u288h7VLgMB",
        "outputId": "ebc79bc7-138c-446e-b84d-f16556c413fd"
      },
      "outputs": [
        {
          "output_type": "stream",
          "name": "stdout",
          "text": [
            "1.6666666666666667e-05 84.32740427115678\n"
          ]
        }
      ],
      "source": [
        "\n",
        "theta = Theta\n",
        "phi   = Phi\n",
        "\n",
        "\n",
        "steps1=60000\n",
        "\n",
        "tf=t_final\n",
        "t_alt = np.linspace(0,tf,steps1)\n",
        "\n",
        "print(tf/steps1,N*GammaR*t_final)"
      ]
    },
    {
      "cell_type": "code",
      "execution_count": 246,
      "metadata": {
        "colab": {
          "base_uri": "https://localhost:8080/"
        },
        "id": "wYHsVnhCqZyZ",
        "outputId": "39f77eb0-2d40-4f2f-ef02-a010c9f90569"
      },
      "outputs": [
        {
          "output_type": "execute_result",
          "data": {
            "text/plain": [
              "1"
            ]
          },
          "metadata": {},
          "execution_count": 246
        }
      ],
      "source": [
        "t_final"
      ]
    },
    {
      "cell_type": "code",
      "execution_count": 246,
      "metadata": {
        "id": "yrlehDJpqZ1_"
      },
      "outputs": [],
      "source": [
        ""
      ]
    },
    {
      "cell_type": "code",
      "execution_count": 247,
      "metadata": {
        "id": "CpuWNWzyLgON"
      },
      "outputs": [],
      "source": [
        "matrix_array=[]\n",
        "\n",
        "# X matrix\n",
        "\n",
        "\n",
        "f10x=zeros((2, 2),dtype=complex_)\n",
        "f10x[0][1]=(1/sqrt(2))\n",
        "f10x=f10x+transpose(f10x)\n",
        "matrix_array.append(f10x)\n",
        "\n",
        "#Y Matrix\n",
        "\n",
        "f10y=zeros((2, 2),dtype=complex_)\n",
        "f10y[0][1]=-1j*(1/sqrt(2))\n",
        "f10y=f10y+conjugate(np.transpose(f10y))\n",
        "matrix_array.append(f10y)\n",
        "\n",
        "\n",
        "#Z matrix\n",
        "\n",
        "f01z=np.zeros((2, 2),dtype=complex_)\n",
        "f01z[0][0]=1/sqrt(2)\n",
        "f01z[1][1]=-1/sqrt(2)\n",
        "matrix_array.append(f01z)\n",
        "\n",
        "\n",
        "\n",
        "\n",
        "\n",
        "\n",
        "\n",
        "#-----------------------------------------------------------------------------------------------------\n",
        "\n",
        "Psi_0=zeros((2,1),dtype=complex_)\n",
        "Psi_0[0][0]=cos(Theta/2)\n",
        "Psi_0[1][0]=sin(Theta/2)*exp(1j*Phi)\n",
        "\n",
        "\n",
        "Psi_0_adj=transpose(conjugate(Psi_0))\n",
        "\n",
        "#--------------------------------\n",
        "\n",
        "#Averages Vector\n",
        "\n",
        "Miu=[]\n",
        "\n",
        "for j in matrix_array:\n",
        "    Miu.append(matmul(Psi_0_adj,matmul(j,Psi_0))[0][0])\n",
        "\n",
        "    \n",
        "\n",
        "Cov_mat=zeros((3, 3),dtype=complex_)\n",
        "\n",
        "for i in range(3):\n",
        "    for j in range(3):\n",
        "        Cov_mat[i][j]=0.5*(matmul(Psi_0_adj,matmul( matmul(matrix_array[i],matrix_array[j])+matmul(matrix_array[j],matrix_array[i]),Psi_0))[0][0])-Miu[i]*Miu[j]        \n",
        "        \n",
        "\n",
        "Cov_mat_list=[]\n",
        "\n",
        "for j in range(3):\n",
        "    Cov_mat_list.append(list(real(Cov_mat[j])))    \n",
        "    \n",
        "\n",
        "from scipy import stats"
      ]
    },
    {
      "cell_type": "code",
      "execution_count": 247,
      "metadata": {
        "id": "T-OXiuvf6XfP"
      },
      "outputs": [],
      "source": [
        ""
      ]
    },
    {
      "cell_type": "code",
      "execution_count": 248,
      "metadata": {
        "colab": {
          "base_uri": "https://localhost:8080/",
          "height": 491
        },
        "id": "ROWRRLb66XfQ",
        "outputId": "6801288e-e6a9-43e8-c2dd-763289d70d2d"
      },
      "outputs": [
        {
          "output_type": "display_data",
          "data": {
            "image/png": "[encoded data removed]",
            "text/plain": [
              "<Figure size 792x576 with 2 Axes>"
            ]
          },
          "metadata": {
            "needs_background": "light"
          }
        }
      ],
      "source": [
        "import numpy as np\n",
        "import matplotlib.pyplot as plt\n",
        "\n",
        "plt.imshow(np.real(Cov_mat))\n",
        "plt.colorbar()\n",
        "plt.show()"
      ]
    },
    {
      "cell_type": "code",
      "execution_count": 248,
      "metadata": {
        "id": "UIWstf_Y6XfQ"
      },
      "outputs": [],
      "source": [
        ""
      ]
    },
    {
      "cell_type": "code",
      "execution_count": 248,
      "metadata": {
        "id": "MxAXg2z4LgQc"
      },
      "outputs": [],
      "source": [
        ""
      ]
    },
    {
      "cell_type": "code",
      "execution_count": 249,
      "metadata": {
        "id": "VuteDyZOLgTV"
      },
      "outputs": [],
      "source": [
        "Sq_2=sqrt(2)\n",
        "@jit\n",
        "\n",
        "def f(y, t):\n",
        "    \n",
        "    \n",
        "    alpRx    =y[3] #alpha real\n",
        "\n",
        "    alpRy    =y[4] #alpha imaginary\n",
        "\n",
        "    F10x     =y[0]   #x10\n",
        "            \n",
        "    F10y     =y[1]   #y10\n",
        "            \n",
        "    F10z     =y[2]   #z0\n",
        "    \n",
        "    \n",
        "    dalpRxdt = -DeltaR*alpRy-(KapR/2)*alpRx  -(gR/Sq_2)*F10y\n",
        "            \n",
        "    dalpRydt = DeltaR*alpRx-(KapR/2)*alpRy   -(gR/Sq_2)*F10x\n",
        "        \n",
        "    dF10xdt  = -2*gR*alpRy*F10z \n",
        "          \n",
        "    dF10ydt  = (-2*gR*alpRx-OmegaR)*F10z \n",
        "    \n",
        "    dF10zdt  = 2*gR*alpRy*F10x+2*gR*alpRx*F10y+OmegaR*F10y\n",
        "    \n",
        "    \n",
        "\n",
        "    dzdt     = [dF10xdt,dF10ydt,dF10zdt,dalpRxdt,dalpRydt]\n",
        "    return array(dzdt)\n",
        "    \n",
        "@jit\n",
        "\n",
        "def GG(y, t):\n",
        "    Arr=zeros((1,5))\n",
        "    Arr[0][-1]=1\n",
        "    Arr[0][-2]=1\n",
        "    \n",
        "    return diag(Arr[0])\n",
        "\n",
        "\n"
      ]
    },
    {
      "cell_type": "code",
      "execution_count": 249,
      "metadata": {
        "id": "yu7VKgmqLgXR"
      },
      "outputs": [],
      "source": [
        ""
      ]
    },
    {
      "cell_type": "code",
      "execution_count": 250,
      "metadata": {
        "id": "-P6i4TMKLga0"
      },
      "outputs": [],
      "source": [
        "@jit\n",
        "\n",
        "def random_vect(KapR=KapR):\n",
        "    Hu=np.zeros((1,5))\n",
        "    Hu[0][-1]=np.sqrt(KapR/4)*np.random.normal()\n",
        "    Hu[0][-2]=np.sqrt(KapR/4)*np.random.normal()\n",
        "    \n",
        "    return Hu\n",
        "\n"
      ]
    },
    {
      "cell_type": "code",
      "execution_count": 250,
      "metadata": {
        "id": "UBnVjQx5Lggg"
      },
      "outputs": [],
      "source": [
        ""
      ]
    },
    {
      "cell_type": "code",
      "execution_count": 251,
      "metadata": {
        "id": "OXOS5DG1vfpP"
      },
      "outputs": [],
      "source": [
        "inv_frac=400\n",
        "\n",
        "Major_index=int(steps1/inv_frac)\n",
        "#New_column=zeros((steps1//Major_index, int(30)))"
      ]
    },
    {
      "cell_type": "code",
      "execution_count": 251,
      "metadata": {
        "id": "34lgfiWO6XfR"
      },
      "outputs": [],
      "source": [
        ""
      ]
    },
    {
      "cell_type": "markdown",
      "metadata": {
        "id": "lmGH-zUu6Xfe"
      },
      "source": [
        "# SH I"
      ]
    },
    {
      "cell_type": "code",
      "execution_count": 252,
      "metadata": {
        "id": "9oMPlN46SfRM"
      },
      "outputs": [],
      "source": [
        "Stochastic=1\n",
        "\n",
        "@jit\n",
        "\n",
        "def stratHeunImpI(f, G, y0, tspan, dW=None):\n",
        "    r\"\"\"Use the Stratonovich Heun algorithm to integrate Stratonovich equation\n",
        "    dy = f(y,t)dt + G(y,t) \\circ dW(t)\n",
        "    where y is the d-dimensional state vector, f is a vector-valued function,\n",
        "    G is an d x m matrix-valued function giving the noise coefficients and\n",
        "    dW(t) = (dW_1, dW_2, ... dW_m) is a vector of independent Wiener increments\n",
        "    Args:\n",
        "      f: callable(y, t) returning (d,) array\n",
        "         Vector-valued function to define the deterministic part of the system\n",
        "      G: callable(y, t) returning (d,m) array\n",
        "         Matrix-valued function to define the noise coefficients of the system\n",
        "      y0: array of shape (d,) giving the initial state vector y(t==0)\n",
        "      tspan (array): The sequence of time points for which to solve for y.\n",
        "        These must be equally spaced, e.g. np.arange(0,10,0.005)\n",
        "        tspan[0] is the intial time corresponding to the initial state y0.\n",
        "      dW: optional array of shape (len(tspan)-1, d). This is for advanced use,\n",
        "        if you want to use a specific realization of the d independent Wiener\n",
        "        processes. If not provided Wiener increments will be generated randomly\n",
        "    Returns:\n",
        "      y: array, with shape (len(tspan), len(y0))\n",
        "         With the initial value y0 in the first row\n",
        "    Raises:\n",
        "      SDEValueError\n",
        "    See also:\n",
        "      W. Rumelin (1982) Numerical Treatment of Stochastic Differential\n",
        "         Equations\n",
        "      R. Mannella (2002) Integration of Stochastic Differential Equations\n",
        "         on a Computer\n",
        "      K. Burrage, P. M. Burrage and T. Tian (2004) Numerical methods for strong\n",
        "         solutions of stochastic differential equations: an overview\n",
        "    \"\"\"\n",
        "    (d, m, f, G, y0, tspan, dW, __) = _check_args(f, G, y0, tspan, dW, None)\n",
        "    Ns = len(tspan)\n",
        "    h = (tspan[Ns-1] - tspan[0])/(Ns - 1)\n",
        "    # allocate space for result\n",
        "    y = np.zeros((Ns, d), dtype=type(y0[0]))\n",
        "    y[0] = y0;\n",
        "    for n in range(0, Ns-1):\n",
        "        \n",
        "        Rand_vectn=np.sqrt(h)*random_vect(KapR=KapR)[0]\n",
        "        tn = tspan[n]\n",
        "        tnp1 = tspan[n+1]\n",
        "        yn = y[n]\n",
        "        fn = f(yn, tn)\n",
        "        ybar = yn + fn*h  + Stochastic*Rand_vectn\n",
        "        fnbar = f(ybar, tnp1)\n",
        "        y[n+1] = yn + 0.5*(fn + fnbar)*h  + Stochastic*Rand_vectn\n",
        "\n",
        "\n",
        "\n",
        "    y_reduced=np.zeros((Ns//Major_index, d), dtype=type(y0[0]))\n",
        "\n",
        "\n",
        "\n",
        "\n",
        "\n",
        "\n",
        "\n",
        "\n",
        "\n",
        "\n",
        "\n",
        "\n",
        "\n",
        "\n",
        "\n",
        "\n",
        "\n",
        "\n",
        "\n",
        "\n",
        "    total_elements=3\n",
        "\n",
        "    for k in range(Ns//Major_index):\n",
        "        y_partial=y[k*Major_index]\n",
        "        \n",
        "        counter=1\n",
        "        for ik_dex in range(1,total_elements):\n",
        "            y_partial=y_partial+y[k*Major_index+ik_dex]\n",
        "            \n",
        "            \n",
        "            \n",
        "            counter=counter+1\n",
        "\n",
        "        y_reduced[k]    = y_partial/counter\n",
        "\n",
        "    \n",
        "    \n",
        "    return y_reduced\n",
        "\n",
        "\n",
        "\n",
        "\n",
        "Cov_mat_list_alt=[]\n",
        "\n",
        "for j in range(3):\n",
        "    Cov_mat_list_alt.append(list(N*real(Cov_mat[j])))    \n",
        "\n",
        "\n",
        "\n",
        "@jit\n",
        "\n",
        "def SDE_sol_SHI():\n",
        "    \n",
        "    Sum_TWA=multivariate_normal(N*real(Miu), Cov_mat_list_alt, 1).T\n",
        "    \n",
        "    y0=list(Sum_TWA.flatten())+[random.normal(0, 0.5),random.normal(0, 0.5)]\n",
        "    \n",
        "    return stratHeunImpI(f, GG, y0, t_alt)"
      ]
    },
    {
      "cell_type": "code",
      "execution_count": 252,
      "metadata": {
        "id": "DSG3tjodSfRN"
      },
      "outputs": [],
      "source": [
        ""
      ]
    },
    {
      "cell_type": "code",
      "execution_count": 253,
      "metadata": {
        "id": "PC9M9XKzSfRN"
      },
      "outputs": [],
      "source": [
        "from numpy import add\n",
        "from numba import jit\n",
        "\n",
        "\n",
        "\n",
        "itera=5000\n",
        "@jit\n",
        "\n",
        "def averages_sdeI(itera=itera,N=N):\n",
        "    Results =SDE_sol_SHI()\n",
        "    \n",
        "    Result_First  =Results\n",
        "    for j in range(itera-1):\n",
        "        Trayec=SDE_sol_SHI()\n",
        "        Result_First  =add(Result_First  ,Trayec)\n",
        "        print(j)\n",
        "    \n",
        "    return Result_First/itera"
      ]
    },
    {
      "cell_type": "code",
      "execution_count": 254,
      "metadata": {
        "id": "HF19tNC8SfRO"
      },
      "outputs": [],
      "source": [
        "from numpy.random import multivariate_normal, normal"
      ]
    },
    {
      "cell_type": "code",
      "execution_count": 255,
      "metadata": {
        "colab": {
          "base_uri": "https://localhost:8080/"
        },
        "id": "rdbvUQP5SfRO",
        "outputId": "2b014ccc-8816-48f8-ec09-d008584d78ac"
      },
      "outputs": [
        {
          "output_type": "stream",
          "name": "stderr",
          "text": [
            "<ipython-input-253-664bc90f0224>:7: NumbaWarning: \n",
            "Compilation is falling back to object mode WITH looplifting enabled because Function \"averages_sdeI\" failed type inference due to: Invalid use of type(CPUDispatcher(<function SDE_sol_SHI at 0x7f77522aba70>)) with parameters ()\n",
            "\n",
            "During: resolving callee type: type(CPUDispatcher(<function SDE_sol_SHI at 0x7f77522aba70>))\n",
            "During: typing of call at <ipython-input-253-664bc90f0224> (10)\n",
            "\n",
            "\n",
            "File \"<ipython-input-253-664bc90f0224>\", line 10:\n",
            "def averages_sdeI(itera=itera,N=N):\n",
            "    Results =SDE_sol_SHI()\n",
            "    ^\n",
            "\n",
            "  @jit\n",
            "<ipython-input-253-664bc90f0224>:7: NumbaWarning: \n",
            "Compilation is falling back to object mode WITHOUT looplifting enabled because Function \"averages_sdeI\" failed type inference due to: cannot determine Numba type of <class 'numba.core.dispatcher.LiftedLoop'>\n",
            "\n",
            "File \"<ipython-input-253-664bc90f0224>\", line 13:\n",
            "def averages_sdeI(itera=itera,N=N):\n",
            "    <source elided>\n",
            "    Result_First  =Results\n",
            "    for j in range(itera-1):\n",
            "    ^\n",
            "\n",
            "  @jit\n",
            "/usr/local/lib/python3.7/dist-packages/numba/core/object_mode_passes.py:178: NumbaWarning: Function \"averages_sdeI\" was compiled in object mode without forceobj=True, but has lifted loops.\n",
            "\n",
            "File \"<ipython-input-253-664bc90f0224>\", line 10:\n",
            "def averages_sdeI(itera=itera,N=N):\n",
            "    Results =SDE_sol_SHI()\n",
            "    ^\n",
            "\n",
            "  state.func_ir.loc))\n",
            "/usr/local/lib/python3.7/dist-packages/numba/core/object_mode_passes.py:188: NumbaDeprecationWarning: \n",
            "Fall-back from the nopython compilation path to the object mode compilation path has been detected, this is deprecated behaviour.\n",
            "\n",
            "For more information visit https://numba.pydata.org/numba-doc/latest/reference/deprecation.html#deprecation-of-object-mode-fall-back-behaviour-when-using-jit\n",
            "\n",
            "File \"<ipython-input-253-664bc90f0224>\", line 10:\n",
            "def averages_sdeI(itera=itera,N=N):\n",
            "    Results =SDE_sol_SHI()\n",
            "    ^\n",
            "\n",
            "  state.func_ir.loc))\n",
            "<ipython-input-252-c650072be5fd>:3: NumbaWarning: \n",
            "Compilation is falling back to object mode WITH looplifting enabled because Function \"stratHeunImpI\" failed type inference due to: Untyped global name '_check_args': cannot determine Numba type of <class 'function'>\n",
            "\n",
            "File \"<ipython-input-252-c650072be5fd>\", line 36:\n",
            "def stratHeunImpI(f, G, y0, tspan, dW=None):\n",
            "    <source elided>\n",
            "    \"\"\"\n",
            "    (d, m, f, G, y0, tspan, dW, __) = _check_args(f, G, y0, tspan, dW, None)\n",
            "    ^\n",
            "\n",
            "  @jit\n",
            "<ipython-input-252-c650072be5fd>:3: NumbaWarning: \n",
            "Compilation is falling back to object mode WITHOUT looplifting enabled because Function \"stratHeunImpI\" failed type inference due to: Untyped global name '_check_args': cannot determine Numba type of <class 'function'>\n",
            "\n",
            "File \"<ipython-input-252-c650072be5fd>\", line 36:\n",
            "def stratHeunImpI(f, G, y0, tspan, dW=None):\n",
            "    <source elided>\n",
            "    \"\"\"\n",
            "    (d, m, f, G, y0, tspan, dW, __) = _check_args(f, G, y0, tspan, dW, None)\n",
            "    ^\n",
            "\n",
            "  @jit\n",
            "/usr/local/lib/python3.7/dist-packages/numba/core/object_mode_passes.py:178: NumbaWarning: Function \"stratHeunImpI\" was compiled in object mode without forceobj=True, but has lifted loops.\n",
            "\n",
            "File \"<ipython-input-252-c650072be5fd>\", line 36:\n",
            "def stratHeunImpI(f, G, y0, tspan, dW=None):\n",
            "    <source elided>\n",
            "    \"\"\"\n",
            "    (d, m, f, G, y0, tspan, dW, __) = _check_args(f, G, y0, tspan, dW, None)\n",
            "    ^\n",
            "\n",
            "  state.func_ir.loc))\n",
            "/usr/local/lib/python3.7/dist-packages/numba/core/object_mode_passes.py:188: NumbaDeprecationWarning: \n",
            "Fall-back from the nopython compilation path to the object mode compilation path has been detected, this is deprecated behaviour.\n",
            "\n",
            "For more information visit https://numba.pydata.org/numba-doc/latest/reference/deprecation.html#deprecation-of-object-mode-fall-back-behaviour-when-using-jit\n",
            "\n",
            "File \"<ipython-input-252-c650072be5fd>\", line 36:\n",
            "def stratHeunImpI(f, G, y0, tspan, dW=None):\n",
            "    <source elided>\n",
            "    \"\"\"\n",
            "    (d, m, f, G, y0, tspan, dW, __) = _check_args(f, G, y0, tspan, dW, None)\n",
            "    ^\n",
            "\n",
            "  state.func_ir.loc))\n",
            "/usr/local/lib/python3.7/dist-packages/numba/core/ir_utils.py:2031: NumbaPendingDeprecationWarning: \n",
            "Encountered the use of a type that is scheduled for deprecation: type 'reflected list' found for argument 'y' of function 'f'.\n",
            "\n",
            "For more information visit https://numba.pydata.org/numba-doc/latest/reference/deprecation.html#deprecation-of-reflection-for-list-and-set-types\n",
            "\n",
            "File \"<ipython-input-249-a1d719ab05a5>\", line 4:\n",
            "\n",
            "def f(y, t):\n",
            "^\n",
            "\n",
            "  warnings.warn(NumbaPendingDeprecationWarning(msg, loc=loc))\n",
            "/usr/local/lib/python3.7/dist-packages/numba/core/ir_utils.py:2031: NumbaPendingDeprecationWarning: \n",
            "Encountered the use of a type that is scheduled for deprecation: type 'reflected list' found for argument 'y' of function 'GG'.\n",
            "\n",
            "For more information visit https://numba.pydata.org/numba-doc/latest/reference/deprecation.html#deprecation-of-reflection-for-list-and-set-types\n",
            "\n",
            "File \"<ipython-input-249-a1d719ab05a5>\", line 35:\n",
            "\n",
            "def GG(y, t):\n",
            "^\n",
            "\n",
            "  warnings.warn(NumbaPendingDeprecationWarning(msg, loc=loc))\n",
            "<ipython-input-253-664bc90f0224>:7: NumbaWarning: \n",
            "Compilation is falling back to object mode WITHOUT looplifting enabled because Function \"averages_sdeI\" failed type inference due to: Invalid use of type(CPUDispatcher(<function SDE_sol_SHI at 0x7f77522aba70>)) with parameters ()\n",
            "\n",
            "During: resolving callee type: type(CPUDispatcher(<function SDE_sol_SHI at 0x7f77522aba70>))\n",
            "During: typing of call at <ipython-input-253-664bc90f0224> (14)\n",
            "\n",
            "\n",
            "File \"<ipython-input-253-664bc90f0224>\", line 14:\n",
            "def averages_sdeI(itera=itera,N=N):\n",
            "    <source elided>\n",
            "    for j in range(itera-1):\n",
            "        Trayec=SDE_sol_SHI()\n",
            "        ^\n",
            "\n",
            "  @jit\n",
            "/usr/local/lib/python3.7/dist-packages/numba/core/object_mode_passes.py:178: NumbaWarning: Function \"averages_sdeI\" was compiled in object mode without forceobj=True.\n",
            "\n",
            "File \"<ipython-input-253-664bc90f0224>\", line 13:\n",
            "def averages_sdeI(itera=itera,N=N):\n",
            "    <source elided>\n",
            "    Result_First  =Results\n",
            "    for j in range(itera-1):\n",
            "    ^\n",
            "\n",
            "  state.func_ir.loc))\n",
            "/usr/local/lib/python3.7/dist-packages/numba/core/object_mode_passes.py:188: NumbaDeprecationWarning: \n",
            "Fall-back from the nopython compilation path to the object mode compilation path has been detected, this is deprecated behaviour.\n",
            "\n",
            "For more information visit https://numba.pydata.org/numba-doc/latest/reference/deprecation.html#deprecation-of-object-mode-fall-back-behaviour-when-using-jit\n",
            "\n",
            "File \"<ipython-input-253-664bc90f0224>\", line 13:\n",
            "def averages_sdeI(itera=itera,N=N):\n",
            "    <source elided>\n",
            "    Result_First  =Results\n",
            "    for j in range(itera-1):\n",
            "    ^\n",
            "\n",
            "  state.func_ir.loc))\n"
          ]
        },
        {
          "output_type": "stream",
          "name": "stdout",
          "text": [
            "0\n",
            "1\n",
            "2\n",
            "3\n",
            "4\n",
            "5\n",
            "6\n",
            "7\n",
            "8\n",
            "9\n",
            "10\n",
            "11\n",
            "12\n",
            "13\n",
            "14\n",
            "15\n",
            "16\n",
            "17\n",
            "18\n",
            "4.739695310592651\n"
          ]
        }
      ],
      "source": [
        "import time\n",
        "t0=time.time()\n",
        "\n",
        "itera=20\n",
        "\n",
        "Result_varTWA_Col_SDEI = averages_sdeI(itera=itera,N=N)\n",
        "#Result_varTWA_Col_SDEII = averages_sdeI(itera=itera,N=N)\n",
        "#Result_varTWA_Col_TWA = averages_sde(itera=itera,N=N)\n",
        "\n",
        "\n",
        "t1=time.time()\n",
        "\n",
        "print(t1-t0)"
      ]
    },
    {
      "cell_type": "code",
      "execution_count": 255,
      "metadata": {
        "id": "P0sPKqMeSfRO"
      },
      "outputs": [],
      "source": [
        ""
      ]
    },
    {
      "cell_type": "code",
      "execution_count": 255,
      "metadata": {
        "id": "Iltj_BpISfRO"
      },
      "outputs": [],
      "source": [
        ""
      ]
    },
    {
      "cell_type": "code",
      "execution_count": 256,
      "metadata": {
        "id": "xC9s5r4KSfRO"
      },
      "outputs": [],
      "source": [
        "Matrix_Basis=[f10x,f10y,f01z]\n",
        "\n",
        "\n",
        "def density_mat(Array):\n",
        "    \n",
        "    Array=Array[0:3]\n",
        "    \n",
        "    Result=N*np.identity(2)/2\n",
        "    for j in range(3):\n",
        "        Result=Result + Array[j]*Matrix_Basis[j]\n",
        "\n",
        "    return Result"
      ]
    },
    {
      "cell_type": "code",
      "execution_count": 256,
      "metadata": {
        "id": "pBWnGfxst640"
      },
      "outputs": [],
      "source": [
        ""
      ]
    },
    {
      "cell_type": "code",
      "execution_count": 257,
      "metadata": {
        "id": "PSw-C6Hwt640",
        "colab": {
          "base_uri": "https://localhost:8080/"
        },
        "outputId": "26124e99-72d0-4fae-fa0d-d60bd026d626"
      },
      "outputs": [
        {
          "output_type": "execute_result",
          "data": {
            "text/plain": [
              "array([[1],\n",
              "       [0]])"
            ]
          },
          "metadata": {},
          "execution_count": 257
        }
      ],
      "source": [
        "Eig_zero=np.array([1,0]).reshape(2,1)\n",
        "Eig_one =np.array([0,1]).reshape(2,1)\n",
        "\n",
        "Eig_zero"
      ]
    },
    {
      "cell_type": "code",
      "execution_count": 258,
      "metadata": {
        "id": "R9zCkD02t640"
      },
      "outputs": [],
      "source": [
        "ResII=SDE_sol_SHI()"
      ]
    },
    {
      "cell_type": "code",
      "execution_count": 259,
      "metadata": {
        "id": "NeMZOP6TSfRP"
      },
      "outputs": [],
      "source": [
        "\n",
        "def C_system_tilde(Result, Ref_array):\n",
        "    \n",
        "    A_den=density_mat(Ref_array)\n",
        "    \n",
        "    Eigenvalues, Eig_sys =scipy.linalg.eig(- A_den/np.trace(A_den)  )\n",
        "    idx = Eigenvalues.argsort()   \n",
        "    Eigenvalues = Eigenvalues[idx]\n",
        "    Eig_sys     = Eig_sys[:,idx]\n",
        "    \n",
        "    #Eig_zero=Eig_sys[:,0].reshape(2,1)\n",
        "    #Eig_one =Eig_sys[:,1].reshape(2,1)\n",
        "\n",
        "    Eig_zero=np.array([1,0]).reshape(2,1)\n",
        "    Eig_one =np.array([0,1]).reshape(2,1)\n",
        "\n",
        "      \n",
        "    U01=Eig_zero@np.conjugate(Eig_one.reshape(1,2))\n",
        "\n",
        "    \n",
        "    U10=np.conjugate(U01.T)\n",
        "\n",
        "    CL=[np.sum(Result*U01),np.sum(Result*U10)]\n",
        "    CR=[CL[1],CL[0]]\n",
        "    \n",
        "    C_mat=np.array(CL).reshape(2,1) @ np.array(CR).reshape(1,2)\n",
        "    \n",
        "    \n",
        "\n",
        "\n",
        "    return Eigenvalues, C_mat  #,CL,CR"
      ]
    },
    {
      "cell_type": "code",
      "source": [
        ""
      ],
      "metadata": {
        "id": "tceRjUxOTejr"
      },
      "execution_count": 259,
      "outputs": []
    },
    {
      "cell_type": "code",
      "source": [
        "ResII[0]"
      ],
      "metadata": {
        "colab": {
          "base_uri": "https://localhost:8080/"
        },
        "id": "2p5BQL6OTemR",
        "outputId": "740ccb67-3061-4786-fa0d-70525171f9ea"
      },
      "execution_count": 260,
      "outputs": [
        {
          "output_type": "execute_result",
          "data": {
            "text/plain": [
              "array([ 7.07106783e+04,  2.14448773e+02,  3.13763982e+01,  6.18634531e-01,\n",
              "       -2.80572969e-01])"
            ]
          },
          "metadata": {},
          "execution_count": 260
        }
      ]
    },
    {
      "cell_type": "code",
      "source": [
        ""
      ],
      "metadata": {
        "id": "K3WWXZhyTeoy"
      },
      "execution_count": 260,
      "outputs": []
    },
    {
      "cell_type": "code",
      "source": [
        ""
      ],
      "metadata": {
        "id": "Wc3C3J1vTesL"
      },
      "execution_count": 260,
      "outputs": []
    },
    {
      "cell_type": "code",
      "source": [
        ""
      ],
      "metadata": {
        "id": "1_BVZVjCTfK8"
      },
      "execution_count": 260,
      "outputs": []
    },
    {
      "cell_type": "code",
      "source": [
        ""
      ],
      "metadata": {
        "id": "Fg8crFe8PaiQ"
      },
      "execution_count": 260,
      "outputs": []
    },
    {
      "cell_type": "code",
      "source": [
        ""
      ],
      "metadata": {
        "id": "683bnDEbPalA"
      },
      "execution_count": 260,
      "outputs": []
    },
    {
      "cell_type": "markdown",
      "metadata": {
        "id": "RW6X_-iwSfRP"
      },
      "source": [
        "# SH II"
      ]
    },
    {
      "cell_type": "code",
      "execution_count": 260,
      "metadata": {
        "id": "nGMPcJMQSfRQ"
      },
      "outputs": [],
      "source": [
        "\n"
      ]
    },
    {
      "cell_type": "code",
      "execution_count": 261,
      "metadata": {
        "id": "SgZkMYToSfRQ"
      },
      "outputs": [],
      "source": [
        "Stochastic=1\n",
        "\n",
        "\n",
        "@jit\n",
        "\n",
        "\n",
        "\n",
        "\n",
        "\n",
        "\n",
        "def stratHeunImpII(f, G, y0, tspan, dW=None):\n",
        "    r\"\"\"Use the Stratonovich Heun algorithm to integrate Stratonovich equation\n",
        "    dy = f(y,t)dt + G(y,t) \\circ dW(t)\n",
        "    where y is the d-dimensional state vector, f is a vector-valued function,\n",
        "    G is an d x m matrix-valued function giving the noise coefficients and\n",
        "    dW(t) = (dW_1, dW_2, ... dW_m) is a vector of independent Wiener increments\n",
        "    Args:\n",
        "      f: callable(y, t) returning (d,) array\n",
        "         Vector-valued function to define the deterministic part of the system\n",
        "      G: callable(y, t) returning (d,m) array\n",
        "         Matrix-valued function to define the noise coefficients of the system\n",
        "      y0: array of shape (d,) giving the initial state vector y(t==0)\n",
        "      tspan (array): The sequence of time points for which to solve for y.\n",
        "        These must be equally spaced, e.g. np.arange(0,10,0.005)\n",
        "        tspan[0] is the intial time corresponding to the initial state y0.\n",
        "      dW: optional array of shape (len(tspan)-1, d). This is for advanced use,\n",
        "        if you want to use a specific realization of the d independent Wiener\n",
        "        processes. If not provided Wiener increments will be generated randomly\n",
        "    Returns:\n",
        "      y: array, with shape (len(tspan), len(y0))\n",
        "         With the initial value y0 in the first row\n",
        "    Raises:\n",
        "      SDEValueError\n",
        "    See also:\n",
        "      W. Rumelin (1982) Numerical Treatment of Stochastic Differential\n",
        "         Equations\n",
        "      R. Mannella (2002) Integration of Stochastic Differential Equations\n",
        "         on a Computer\n",
        "      K. Burrage, P. M. Burrage and T. Tian (2004) Numerical methods for strong\n",
        "         solutions of stochastic differential equations: an overview\n",
        "    \"\"\"\n",
        "    (d, m, f, G, y0, tspan, dW, __) = _check_args(f, G, y0, tspan, dW, None)\n",
        "    Ns = len(tspan)\n",
        "    h = (tspan[Ns-1] - tspan[0])/(Ns - 1)\n",
        "    # allocate space for result\n",
        "    y = np.zeros((Ns, d), dtype=type(y0[0]))\n",
        "    y[0] = y0;\n",
        "    for n in range(0, Ns-1):\n",
        "        \n",
        "        Rand_vectn=np.sqrt(h)*random_vect(KapR=KapR)[0]\n",
        "        tn = tspan[n]\n",
        "        tnp1 = tspan[n+1]\n",
        "        yn = y[n]\n",
        "        fn = f(yn, tn)\n",
        "        ybar = yn + fn*h  + Stochastic*Rand_vectn\n",
        "        fnbar = f(ybar, tnp1)\n",
        "        y[n+1] = yn + 0.5*(fn + fnbar)*h  + Stochastic*Rand_vectn\n",
        "\n",
        "\n",
        "\n",
        "    y_reduced=np.zeros((Ns//Major_index, d), dtype=type(y0[0]))\n",
        "    \n",
        "    \n",
        "    C_matrix_red=[]\n",
        "    Eig_red=[]\n",
        "    Second_moment=[]\n",
        "    Second_moment_ij=[]\n",
        "    \n",
        "\n",
        "    total_elements=2\n",
        "\n",
        "    for k in range(Ns//Major_index):\n",
        "        y_partial=y[k*Major_index]\n",
        "        counter=1\n",
        "        for ik_dex in range(1,total_elements):\n",
        "            y_partial=y_partial+y[k*Major_index+ik_dex]\n",
        "            counter=counter+1\n",
        "            \n",
        "        y_k=y_partial/counter\n",
        "\n",
        "        y_reduced[k]   =y_k\n",
        "\n",
        "        den_k=density_mat(y_k)\n",
        "\n",
        "        vect_den_k=np.ravel(den_k)\n",
        "        \n",
        "        \n",
        "        C_system_k=C_system_tilde(den_k,Result_varTWA_Col_SDEI[k])\n",
        "        \n",
        "        Eig_red.append(C_system_k[0])\n",
        "        \n",
        "        Second_moment.append(np.array(y_k[0:3]).reshape(3,1)@(np.array(y_k[0:3]).reshape(1,3)))\n",
        "        Second_moment_ij.append(vect_den_k.reshape(4,1)@(np.conjugate(vect_den_k).reshape(1,4)))\n",
        "        \n",
        "    return y_reduced, np.array(C_matrix_red), Eig_red, Second_moment, Second_moment_ij\n",
        "\n",
        "\n"
      ]
    },
    {
      "cell_type": "code",
      "execution_count": 261,
      "metadata": {
        "id": "-19ScydBSfRQ"
      },
      "outputs": [],
      "source": [
        ""
      ]
    },
    {
      "cell_type": "code",
      "execution_count": 262,
      "metadata": {
        "id": "FgSmshTrSfRQ"
      },
      "outputs": [],
      "source": [
        "@jit\n",
        "\n",
        "def SDE_sol():\n",
        "    \n",
        "    Sum_TWA=multivariate_normal(N*real(Miu), Cov_mat_list_alt, 1).T\n",
        "    \n",
        "    y0=list(Sum_TWA.flatten())+[random.normal(0, 0.5),random.normal(0, 0.5)]\n",
        "    \n",
        "    return stratHeunImpII(f, GG, y0, t_alt)"
      ]
    },
    {
      "cell_type": "code",
      "execution_count": 262,
      "metadata": {
        "id": "VP05NG8DSfRQ"
      },
      "outputs": [],
      "source": [
        ""
      ]
    },
    {
      "cell_type": "code",
      "execution_count": 263,
      "metadata": {
        "id": "W1g0k8iYSfRQ"
      },
      "outputs": [],
      "source": [
        "from numpy import add\n",
        "from numba import jit\n",
        "\n",
        "\n",
        "\n",
        "itera=5000\n",
        "@jit\n",
        "\n",
        "def averages_sde(itera=itera,N=N):\n",
        "    Results =SDE_sol()\n",
        "    \n",
        "    Result_First     =Results[0]\n",
        "    Result_C_tilde   =Results[1]\n",
        "    Result_EigVal    =Results[2]\n",
        "    Second_moment    =Results[3]\n",
        "    Second_moment_ij =Results[4]\n",
        "    print(0)\n",
        "\n",
        "    for j in range(itera-1):\n",
        "        Trayec=SDE_sol()\n",
        "        Result_First    =add(Result_First  ,Trayec[0])\n",
        "        Result_C_tilde  =add(Result_C_tilde,Trayec[1])\n",
        "        Result_EigVal   =add(Result_EigVal ,Trayec[2])\n",
        "        Second_moment   =add(Second_moment, Trayec[3])\n",
        "        Second_moment_ij=add(Second_moment_ij,Trayec[4])\n",
        "\n",
        "        print(j+1)\n",
        "    \n",
        "    return Result_First/itera, Result_C_tilde/itera, Result_EigVal/itera, Second_moment/itera, Second_moment_ij/itera"
      ]
    },
    {
      "cell_type": "code",
      "execution_count": 263,
      "metadata": {
        "id": "EBcrLA-ASfRQ"
      },
      "outputs": [],
      "source": [
        ""
      ]
    },
    {
      "cell_type": "code",
      "execution_count": 264,
      "metadata": {
        "colab": {
          "base_uri": "https://localhost:8080/"
        },
        "id": "5smhMd4ZSfRR",
        "outputId": "95526a1e-7dda-42a3-8975-f2753acbc284"
      },
      "outputs": [
        {
          "output_type": "stream",
          "name": "stderr",
          "text": [
            "<ipython-input-263-ce2801453c5f>:7: NumbaWarning: \n",
            "Compilation is falling back to object mode WITH looplifting enabled because Function \"averages_sde\" failed type inference due to: Invalid use of type(CPUDispatcher(<function SDE_sol at 0x7f7752315b00>)) with parameters ()\n",
            "\n",
            "During: resolving callee type: type(CPUDispatcher(<function SDE_sol at 0x7f7752315b00>))\n",
            "During: typing of call at <ipython-input-263-ce2801453c5f> (10)\n",
            "\n",
            "\n",
            "File \"<ipython-input-263-ce2801453c5f>\", line 10:\n",
            "def averages_sde(itera=itera,N=N):\n",
            "    Results =SDE_sol()\n",
            "    ^\n",
            "\n",
            "  @jit\n",
            "<ipython-input-263-ce2801453c5f>:7: NumbaWarning: \n",
            "Compilation is falling back to object mode WITHOUT looplifting enabled because Function \"averages_sde\" failed type inference due to: cannot determine Numba type of <class 'numba.core.dispatcher.LiftedLoop'>\n",
            "\n",
            "File \"<ipython-input-263-ce2801453c5f>\", line 19:\n",
            "def averages_sde(itera=itera,N=N):\n",
            "    <source elided>\n",
            "\n",
            "    for j in range(itera-1):\n",
            "    ^\n",
            "\n",
            "  @jit\n",
            "/usr/local/lib/python3.7/dist-packages/numba/core/object_mode_passes.py:178: NumbaWarning: Function \"averages_sde\" was compiled in object mode without forceobj=True, but has lifted loops.\n",
            "\n",
            "File \"<ipython-input-263-ce2801453c5f>\", line 10:\n",
            "def averages_sde(itera=itera,N=N):\n",
            "    Results =SDE_sol()\n",
            "    ^\n",
            "\n",
            "  state.func_ir.loc))\n",
            "/usr/local/lib/python3.7/dist-packages/numba/core/object_mode_passes.py:188: NumbaDeprecationWarning: \n",
            "Fall-back from the nopython compilation path to the object mode compilation path has been detected, this is deprecated behaviour.\n",
            "\n",
            "For more information visit https://numba.pydata.org/numba-doc/latest/reference/deprecation.html#deprecation-of-object-mode-fall-back-behaviour-when-using-jit\n",
            "\n",
            "File \"<ipython-input-263-ce2801453c5f>\", line 10:\n",
            "def averages_sde(itera=itera,N=N):\n",
            "    Results =SDE_sol()\n",
            "    ^\n",
            "\n",
            "  state.func_ir.loc))\n",
            "<ipython-input-261-f470948ef7b7>:4: NumbaWarning: \n",
            "Compilation is falling back to object mode WITH looplifting enabled because Function \"stratHeunImpII\" failed type inference due to: Untyped global name '_check_args': cannot determine Numba type of <class 'function'>\n",
            "\n",
            "File \"<ipython-input-261-f470948ef7b7>\", line 42:\n",
            "def stratHeunImpII(f, G, y0, tspan, dW=None):\n",
            "    <source elided>\n",
            "    \"\"\"\n",
            "    (d, m, f, G, y0, tspan, dW, __) = _check_args(f, G, y0, tspan, dW, None)\n",
            "    ^\n",
            "\n",
            "  @jit\n",
            "<ipython-input-261-f470948ef7b7>:4: NumbaWarning: \n",
            "Compilation is falling back to object mode WITHOUT looplifting enabled because Function \"stratHeunImpII\" failed type inference due to: Untyped global name '_check_args': cannot determine Numba type of <class 'function'>\n",
            "\n",
            "File \"<ipython-input-261-f470948ef7b7>\", line 42:\n",
            "def stratHeunImpII(f, G, y0, tspan, dW=None):\n",
            "    <source elided>\n",
            "    \"\"\"\n",
            "    (d, m, f, G, y0, tspan, dW, __) = _check_args(f, G, y0, tspan, dW, None)\n",
            "    ^\n",
            "\n",
            "  @jit\n",
            "/usr/local/lib/python3.7/dist-packages/numba/core/object_mode_passes.py:178: NumbaWarning: Function \"stratHeunImpII\" was compiled in object mode without forceobj=True, but has lifted loops.\n",
            "\n",
            "File \"<ipython-input-261-f470948ef7b7>\", line 42:\n",
            "def stratHeunImpII(f, G, y0, tspan, dW=None):\n",
            "    <source elided>\n",
            "    \"\"\"\n",
            "    (d, m, f, G, y0, tspan, dW, __) = _check_args(f, G, y0, tspan, dW, None)\n",
            "    ^\n",
            "\n",
            "  state.func_ir.loc))\n",
            "/usr/local/lib/python3.7/dist-packages/numba/core/object_mode_passes.py:188: NumbaDeprecationWarning: \n",
            "Fall-back from the nopython compilation path to the object mode compilation path has been detected, this is deprecated behaviour.\n",
            "\n",
            "For more information visit https://numba.pydata.org/numba-doc/latest/reference/deprecation.html#deprecation-of-object-mode-fall-back-behaviour-when-using-jit\n",
            "\n",
            "File \"<ipython-input-261-f470948ef7b7>\", line 42:\n",
            "def stratHeunImpII(f, G, y0, tspan, dW=None):\n",
            "    <source elided>\n",
            "    \"\"\"\n",
            "    (d, m, f, G, y0, tspan, dW, __) = _check_args(f, G, y0, tspan, dW, None)\n",
            "    ^\n",
            "\n",
            "  state.func_ir.loc))\n",
            "<ipython-input-261-f470948ef7b7>:4: NumbaWarning: \n",
            "Compilation is falling back to object mode WITHOUT looplifting enabled because Function \"stratHeunImpII\" failed type inference due to: Untyped global name 'density_mat': cannot determine Numba type of <class 'function'>\n",
            "\n",
            "File \"<ipython-input-261-f470948ef7b7>\", line 83:\n",
            "def stratHeunImpII(f, G, y0, tspan, dW=None):\n",
            "    <source elided>\n",
            "\n",
            "        den_k=density_mat(y_k)\n",
            "        ^\n",
            "\n",
            "  @jit\n",
            "/usr/local/lib/python3.7/dist-packages/numba/core/object_mode_passes.py:178: NumbaWarning: Function \"stratHeunImpII\" was compiled in object mode without forceobj=True.\n",
            "\n",
            "File \"<ipython-input-261-f470948ef7b7>\", line 72:\n",
            "def stratHeunImpII(f, G, y0, tspan, dW=None):\n",
            "    <source elided>\n",
            "\n",
            "    for k in range(Ns//Major_index):\n",
            "    ^\n",
            "\n",
            "  state.func_ir.loc))\n",
            "/usr/local/lib/python3.7/dist-packages/numba/core/object_mode_passes.py:188: NumbaDeprecationWarning: \n",
            "Fall-back from the nopython compilation path to the object mode compilation path has been detected, this is deprecated behaviour.\n",
            "\n",
            "For more information visit https://numba.pydata.org/numba-doc/latest/reference/deprecation.html#deprecation-of-object-mode-fall-back-behaviour-when-using-jit\n",
            "\n",
            "File \"<ipython-input-261-f470948ef7b7>\", line 72:\n",
            "def stratHeunImpII(f, G, y0, tspan, dW=None):\n",
            "    <source elided>\n",
            "\n",
            "    for k in range(Ns//Major_index):\n",
            "    ^\n",
            "\n",
            "  state.func_ir.loc))\n"
          ]
        },
        {
          "output_type": "stream",
          "name": "stdout",
          "text": [
            "0\n"
          ]
        },
        {
          "output_type": "stream",
          "name": "stderr",
          "text": [
            "<ipython-input-263-ce2801453c5f>:7: NumbaWarning: \n",
            "Compilation is falling back to object mode WITHOUT looplifting enabled because Function \"averages_sde\" failed type inference due to: Invalid use of type(CPUDispatcher(<function SDE_sol at 0x7f7752315b00>)) with parameters ()\n",
            "\n",
            "During: resolving callee type: type(CPUDispatcher(<function SDE_sol at 0x7f7752315b00>))\n",
            "During: typing of call at <ipython-input-263-ce2801453c5f> (20)\n",
            "\n",
            "\n",
            "File \"<ipython-input-263-ce2801453c5f>\", line 20:\n",
            "def averages_sde(itera=itera,N=N):\n",
            "    <source elided>\n",
            "    for j in range(itera-1):\n",
            "        Trayec=SDE_sol()\n",
            "        ^\n",
            "\n",
            "  @jit\n",
            "/usr/local/lib/python3.7/dist-packages/numba/core/object_mode_passes.py:178: NumbaWarning: Function \"averages_sde\" was compiled in object mode without forceobj=True.\n",
            "\n",
            "File \"<ipython-input-263-ce2801453c5f>\", line 19:\n",
            "def averages_sde(itera=itera,N=N):\n",
            "    <source elided>\n",
            "\n",
            "    for j in range(itera-1):\n",
            "    ^\n",
            "\n",
            "  state.func_ir.loc))\n",
            "/usr/local/lib/python3.7/dist-packages/numba/core/object_mode_passes.py:188: NumbaDeprecationWarning: \n",
            "Fall-back from the nopython compilation path to the object mode compilation path has been detected, this is deprecated behaviour.\n",
            "\n",
            "For more information visit https://numba.pydata.org/numba-doc/latest/reference/deprecation.html#deprecation-of-object-mode-fall-back-behaviour-when-using-jit\n",
            "\n",
            "File \"<ipython-input-263-ce2801453c5f>\", line 19:\n",
            "def averages_sde(itera=itera,N=N):\n",
            "    <source elided>\n",
            "\n",
            "    for j in range(itera-1):\n",
            "    ^\n",
            "\n",
            "  state.func_ir.loc))\n"
          ]
        },
        {
          "output_type": "stream",
          "name": "stdout",
          "text": [
            "1\n",
            "2\n",
            "3\n",
            "4\n",
            "5\n",
            "6\n",
            "7\n",
            "8\n",
            "9\n",
            "10\n",
            "11\n",
            "12\n",
            "13\n",
            "14\n",
            "15\n",
            "16\n",
            "17\n",
            "18\n",
            "19\n",
            "20\n",
            "21\n",
            "22\n",
            "23\n",
            "24\n",
            "25\n",
            "26\n",
            "27\n",
            "28\n",
            "29\n",
            "30\n",
            "31\n",
            "32\n",
            "33\n",
            "34\n",
            "35\n",
            "36\n",
            "37\n",
            "38\n",
            "39\n",
            "40\n",
            "41\n",
            "42\n",
            "43\n",
            "44\n",
            "45\n",
            "46\n",
            "47\n",
            "48\n",
            "49\n",
            "50\n",
            "51\n",
            "52\n",
            "53\n",
            "54\n",
            "55\n",
            "56\n",
            "57\n",
            "58\n",
            "59\n",
            "60\n",
            "61\n",
            "62\n",
            "63\n",
            "64\n",
            "65\n",
            "66\n",
            "67\n",
            "68\n",
            "69\n",
            "70\n",
            "71\n",
            "72\n",
            "73\n",
            "74\n",
            "75\n",
            "76\n",
            "77\n",
            "78\n",
            "79\n",
            "80\n",
            "81\n",
            "82\n",
            "83\n",
            "84\n",
            "85\n",
            "86\n",
            "87\n",
            "88\n",
            "89\n",
            "90\n",
            "91\n",
            "92\n",
            "93\n",
            "94\n",
            "95\n",
            "96\n",
            "97\n",
            "98\n",
            "99\n",
            "100\n",
            "101\n",
            "102\n",
            "103\n",
            "104\n",
            "105\n",
            "106\n",
            "107\n",
            "108\n",
            "109\n",
            "110\n",
            "111\n",
            "112\n",
            "113\n",
            "114\n",
            "115\n",
            "116\n",
            "117\n",
            "118\n",
            "119\n",
            "120\n",
            "121\n",
            "122\n",
            "123\n",
            "124\n",
            "125\n",
            "126\n",
            "127\n",
            "128\n",
            "129\n",
            "130\n",
            "131\n",
            "132\n",
            "133\n",
            "134\n",
            "135\n",
            "136\n",
            "137\n",
            "138\n",
            "139\n",
            "140\n",
            "141\n",
            "142\n",
            "143\n",
            "144\n",
            "145\n",
            "146\n",
            "147\n",
            "148\n",
            "149\n",
            "150\n",
            "151\n",
            "152\n",
            "153\n",
            "154\n",
            "155\n",
            "156\n",
            "157\n",
            "158\n",
            "159\n",
            "160\n",
            "161\n",
            "162\n",
            "163\n",
            "164\n",
            "165\n",
            "166\n",
            "167\n",
            "168\n",
            "169\n",
            "170\n",
            "171\n",
            "172\n",
            "173\n",
            "174\n",
            "175\n",
            "176\n",
            "177\n",
            "178\n",
            "179\n",
            "180\n",
            "181\n",
            "182\n",
            "183\n",
            "184\n",
            "185\n",
            "186\n",
            "187\n",
            "188\n",
            "189\n",
            "190\n",
            "191\n",
            "192\n",
            "193\n",
            "194\n",
            "195\n",
            "196\n",
            "197\n",
            "198\n",
            "199\n",
            "200\n",
            "201\n",
            "202\n",
            "203\n",
            "204\n",
            "205\n",
            "206\n",
            "207\n",
            "208\n",
            "209\n",
            "210\n",
            "211\n",
            "212\n",
            "213\n",
            "214\n",
            "215\n",
            "216\n",
            "217\n",
            "218\n",
            "219\n",
            "220\n",
            "221\n",
            "222\n",
            "223\n",
            "224\n",
            "225\n",
            "226\n",
            "227\n",
            "228\n",
            "229\n",
            "230\n",
            "231\n",
            "232\n",
            "233\n",
            "234\n",
            "235\n",
            "236\n",
            "237\n",
            "238\n",
            "239\n",
            "240\n",
            "241\n",
            "242\n",
            "243\n",
            "244\n",
            "245\n",
            "246\n",
            "247\n",
            "248\n",
            "249\n",
            "250\n",
            "251\n",
            "252\n",
            "253\n",
            "254\n",
            "255\n",
            "256\n",
            "257\n",
            "258\n",
            "259\n",
            "260\n",
            "261\n",
            "262\n",
            "263\n",
            "264\n",
            "265\n",
            "266\n",
            "267\n",
            "268\n",
            "269\n",
            "270\n",
            "271\n",
            "272\n",
            "273\n",
            "274\n",
            "275\n",
            "276\n",
            "277\n",
            "278\n",
            "279\n",
            "280\n",
            "281\n",
            "282\n",
            "283\n",
            "284\n",
            "285\n",
            "286\n",
            "287\n",
            "288\n",
            "289\n",
            "290\n",
            "291\n",
            "292\n",
            "293\n",
            "294\n",
            "295\n",
            "296\n",
            "297\n",
            "298\n",
            "299\n",
            "300\n",
            "301\n",
            "302\n",
            "303\n",
            "304\n",
            "305\n",
            "306\n",
            "307\n",
            "308\n",
            "309\n",
            "310\n",
            "311\n",
            "312\n",
            "313\n",
            "314\n",
            "315\n",
            "316\n",
            "317\n",
            "318\n",
            "319\n",
            "320\n",
            "321\n",
            "322\n",
            "323\n",
            "324\n",
            "325\n",
            "326\n",
            "327\n",
            "328\n",
            "329\n",
            "330\n",
            "331\n",
            "332\n",
            "333\n",
            "334\n",
            "335\n",
            "336\n",
            "337\n",
            "338\n",
            "339\n",
            "340\n",
            "341\n",
            "342\n",
            "343\n",
            "344\n",
            "345\n",
            "346\n",
            "347\n",
            "348\n",
            "349\n",
            "350\n",
            "351\n",
            "352\n",
            "353\n",
            "354\n",
            "355\n",
            "356\n",
            "357\n",
            "358\n",
            "359\n",
            "360\n",
            "361\n",
            "362\n",
            "363\n",
            "364\n",
            "365\n",
            "366\n",
            "367\n",
            "368\n",
            "369\n",
            "370\n",
            "371\n",
            "372\n",
            "373\n",
            "374\n",
            "375\n",
            "376\n",
            "377\n",
            "378\n",
            "379\n",
            "380\n",
            "381\n",
            "382\n",
            "383\n",
            "384\n",
            "385\n",
            "386\n",
            "387\n",
            "388\n",
            "389\n",
            "390\n",
            "391\n",
            "392\n",
            "393\n",
            "394\n",
            "395\n",
            "396\n",
            "397\n",
            "398\n",
            "399\n",
            "52.42456650733948\n"
          ]
        }
      ],
      "source": [
        "import time\n",
        "t0=time.time()\n",
        "\n",
        "itera=400\n",
        "\n",
        "Result_varTWA_Col_SDE = averages_sde(itera=itera,N=N)\n",
        "#Result_varTWA_Col_TWA = averages_sde(itera=itera,N=N)\n",
        "\n",
        "\n",
        "t1=time.time()\n",
        "\n",
        "print(t1-t0)"
      ]
    },
    {
      "cell_type": "code",
      "execution_count": 264,
      "metadata": {
        "id": "ii5x04ClSfRR"
      },
      "outputs": [],
      "source": [
        ""
      ]
    },
    {
      "cell_type": "code",
      "execution_count": 265,
      "metadata": {
        "id": "Tp4gRM2gSfRR"
      },
      "outputs": [],
      "source": [
        "def partit(number,array):\n",
        "    j=0\n",
        "    dis=len(array)\n",
        "    result=[]\n",
        "    while j*number<dis:\n",
        "        result.append(array[j*number])\n",
        "        j=j+1\n",
        "    return result\n",
        "\n",
        "\n",
        "t_reduced=np.zeros((1,steps1//Major_index))\n",
        "\n",
        "for j in range(steps1//Major_index):\n",
        "    t_reduced[0][j]=t_alt[Major_index*j]\n",
        "    \n",
        "    #for k in range(Ns//Major_index):\n",
        "    #    y_reduced[k]=y[k*Major_index]\n",
        "    \n",
        "time_alt=t_reduced[0]"
      ]
    },
    {
      "cell_type": "code",
      "execution_count": 265,
      "metadata": {
        "id": "yyN_wBG6SfRR"
      },
      "outputs": [],
      "source": [
        ""
      ]
    },
    {
      "cell_type": "code",
      "source": [
        "from numpy import conjugate as con"
      ],
      "metadata": {
        "id": "n7wbPmzsavCd"
      },
      "execution_count": 266,
      "outputs": []
    },
    {
      "cell_type": "code",
      "source": [
        "def gen_unit(Un):\n",
        "  U1=np.array([ [Un[0,0]*con(Un[0,1])*con(Un[0,0])*Un[0,1], Un[0,0]*con(Un[0,1])*con(Un[0,0])*Un[1,1], Un[0,0]*con(Un[0,1])*con(Un[1,0])*Un[0,1], Un[0,0]*con(Un[0,1])*con(Un[1,0])*Un[1,1]],\n",
        "                [Un[0,0]*con(Un[1,1])*con(Un[0,0])*Un[0,1], Un[0,0]*con(Un[1,1])*con(Un[0,0])*Un[1,1], Un[0,0]*con(Un[1,1])*con(Un[1,0])*Un[0,1], Un[0,0]*con(Un[1,1])*con(Un[1,0])*Un[1,1]],\n",
        "                [Un[1,0]*con(Un[0,1])*con(Un[0,0])*Un[0,1], Un[1,0]*con(Un[0,1])*con(Un[0,0])*Un[1,1], Un[1,0]*con(Un[0,1])*con(Un[1,0])*Un[0,1], Un[1,0]*con(Un[0,1])*con(Un[1,0])*Un[1,1]],\n",
        "                [Un[1,0]*con(Un[1,1])*con(Un[0,0])*Un[0,1], Un[1,0]*con(Un[1,1])*con(Un[0,0])*Un[1,1], Un[1,0]*con(Un[1,1])*con(Un[1,0])*Un[0,1], Un[1,0]*con(Un[1,1])*con(Un[1,0])*Un[1,1]] ])\n",
        "\n",
        "  U2=np.array([ [Un[0,0]*con(Un[0,1])*con(Un[0,1])*Un[0,0], Un[0,0]*con(Un[0,1])*con(Un[0,1])*Un[1,0], Un[0,0]*con(Un[0,1])*con(Un[1,1])*Un[0,0], Un[0,0]*con(Un[0,1])*con(Un[1,1])*Un[1,0]],\n",
        "                [Un[0,0]*con(Un[1,1])*con(Un[0,1])*Un[0,0], Un[0,0]*con(Un[1,1])*con(Un[0,1])*Un[1,0], Un[0,0]*con(Un[1,1])*con(Un[1,1])*Un[0,0], Un[0,0]*con(Un[1,1])*con(Un[1,1])*Un[1,0]],\n",
        "                [Un[1,0]*con(Un[0,1])*con(Un[0,1])*Un[0,0], Un[1,0]*con(Un[0,1])*con(Un[0,1])*Un[1,0], Un[1,0]*con(Un[0,1])*con(Un[1,1])*Un[0,0], Un[1,0]*con(Un[0,1])*con(Un[1,1])*Un[1,0]],\n",
        "                [Un[1,0]*con(Un[1,1])*con(Un[0,1])*Un[0,0], Un[1,0]*con(Un[1,1])*con(Un[0,1])*Un[1,0], Un[1,0]*con(Un[1,1])*con(Un[1,1])*Un[0,0], Un[1,0]*con(Un[1,1])*con(Un[1,1])*Un[1,0]] ])\n",
        "\n",
        "  U3=np.array([ [Un[0,1]*con(Un[0,0])*con(Un[0,0])*Un[0,1], Un[0,1]*con(Un[0,0])*con(Un[0,0])*Un[1,1], Un[0,1]*con(Un[0,0])*con(Un[1,0])*Un[0,1], Un[0,1]*con(Un[0,0])*con(Un[1,0])*Un[1,1]],\n",
        "                [Un[0,1]*con(Un[1,0])*con(Un[0,0])*Un[0,1], Un[0,1]*con(Un[1,0])*con(Un[0,0])*Un[1,1], Un[0,1]*con(Un[1,0])*con(Un[1,0])*Un[0,1], Un[0,1]*con(Un[1,0])*con(Un[1,0])*Un[1,1]],\n",
        "                [Un[1,1]*con(Un[0,0])*con(Un[0,0])*Un[0,1], Un[1,1]*con(Un[0,0])*con(Un[0,0])*Un[1,1], Un[1,1]*con(Un[0,0])*con(Un[1,0])*Un[0,1], Un[1,1]*con(Un[0,0])*con(Un[1,0])*Un[1,1]],\n",
        "                [Un[1,1]*con(Un[1,0])*con(Un[0,0])*Un[0,1], Un[1,1]*con(Un[1,0])*con(Un[0,0])*Un[1,1], Un[1,1]*con(Un[1,0])*con(Un[1,0])*Un[0,1], Un[1,1]*con(Un[1,0])*con(Un[1,0])*Un[1,1]] ])\n",
        "\n",
        "  U4=np.array([ [Un[0,1]*con(Un[0,0])*con(Un[0,1])*Un[0,0], Un[0,1]*con(Un[0,0])*con(Un[0,1])*Un[1,0], Un[0,1]*con(Un[0,0])*con(Un[1,1])*Un[0,0], Un[0,1]*con(Un[0,0])*con(Un[1,1])*Un[1,0]],\n",
        "                [Un[0,1]*con(Un[1,0])*con(Un[0,1])*Un[0,0], Un[0,1]*con(Un[1,0])*con(Un[0,1])*Un[1,0], Un[0,1]*con(Un[1,0])*con(Un[1,1])*Un[0,0], Un[0,1]*con(Un[1,0])*con(Un[1,1])*Un[1,0]],\n",
        "                [Un[1,1]*con(Un[0,0])*con(Un[0,1])*Un[0,0], Un[1,1]*con(Un[0,0])*con(Un[0,1])*Un[1,0], Un[1,1]*con(Un[0,0])*con(Un[1,1])*Un[0,0], Un[1,1]*con(Un[0,0])*con(Un[1,1])*Un[1,0]],\n",
        "                [Un[1,1]*con(Un[1,0])*con(Un[0,1])*Un[0,0], Un[1,1]*con(Un[1,0])*con(Un[0,1])*Un[1,0], Un[1,1]*con(Un[1,0])*con(Un[1,1])*Un[0,0], Un[1,1]*con(Un[1,0])*con(Un[1,1])*Un[1,0]] ])\n",
        "  \n",
        "  return U1,U2,U3,U4\n",
        "    "
      ],
      "metadata": {
        "id": "okiq0qnyavE_"
      },
      "execution_count": 267,
      "outputs": []
    },
    {
      "cell_type": "code",
      "source": [
        ""
      ],
      "metadata": {
        "id": "5EMbHyYWavHw"
      },
      "execution_count": 267,
      "outputs": []
    },
    {
      "cell_type": "code",
      "source": [
        ""
      ],
      "metadata": {
        "id": "WRiKbBduavKP"
      },
      "execution_count": 267,
      "outputs": []
    },
    {
      "cell_type": "code",
      "source": [
        "len(Result_varTWA_Col_SDE[0])"
      ],
      "metadata": {
        "colab": {
          "base_uri": "https://localhost:8080/"
        },
        "id": "6pa5VuBeavNL",
        "outputId": "902fcd72-8a38-41a0-9345-6ed8df70eef8"
      },
      "execution_count": 268,
      "outputs": [
        {
          "output_type": "execute_result",
          "data": {
            "text/plain": [
              "400"
            ]
          },
          "metadata": {},
          "execution_count": 268
        }
      ]
    },
    {
      "cell_type": "code",
      "source": [
        "index_int=350\n",
        "\n",
        "\n",
        "\n",
        "array_test=Result_varTWA_Col_SDE[0][index_int]\n",
        "den_test=density_mat(array_test)\n",
        "Unita=scipy.linalg.eig(den_test)[1]\n",
        "\n",
        "\n",
        "#Unita=np.array([[1,0],[0,1]])\n",
        "\n",
        "Tran_unitas=gen_unit(Unita)\n",
        "\n",
        "\n",
        "Cov_ij_test=Result_varTWA_Col_SDE[4][index_int]\n",
        "\n",
        "\n",
        "Tran_unitas[3]"
      ],
      "metadata": {
        "colab": {
          "base_uri": "https://localhost:8080/"
        },
        "id": "NezxnItnavPu",
        "outputId": "33c510cf-8ce1-4267-822e-dcec1635e36f"
      },
      "execution_count": 269,
      "outputs": [
        {
          "output_type": "execute_result",
          "data": {
            "text/plain": [
              "array([[ 2.25634833e-01+0.00000000e+00j,  1.18345349e-05-1.63359167e-01j,\n",
              "        -2.25775318e-05-3.11651182e-01j, -2.25634833e-01+3.38813179e-21j],\n",
              "       [ 1.18345349e-05+1.63359167e-01j,  1.18271710e-01-1.69406589e-21j,\n",
              "         2.25634830e-01-3.26921756e-05j, -1.18345349e-05-1.63359167e-01j],\n",
              "       [-2.25775318e-05+3.11651182e-01j,  2.25634830e-01+3.26921756e-05j,\n",
              "         4.30458624e-01+0.00000000e+00j,  2.25775318e-05-3.11651182e-01j],\n",
              "       [-2.25634833e-01+0.00000000e+00j, -1.18345349e-05+1.63359167e-01j,\n",
              "         2.25775318e-05+3.11651182e-01j,  2.25634833e-01-3.38813179e-21j]])"
            ]
          },
          "metadata": {},
          "execution_count": 269
        }
      ]
    },
    {
      "cell_type": "code",
      "source": [
        "C00=np.sum(Tran_unitas[0]*Cov_ij_test)\n",
        "C01=np.sum(Tran_unitas[1]*Cov_ij_test)\n",
        "C10=np.sum(Tran_unitas[2]*Cov_ij_test)\n",
        "C11=np.sum(Tran_unitas[3]*Cov_ij_test)\n",
        "\n",
        "\n",
        "C_test=np.array([[C00,C01],[C10,C11]])\n",
        "\n"
      ],
      "metadata": {
        "id": "kTPYrIwQavS0"
      },
      "execution_count": 270,
      "outputs": []
    },
    {
      "cell_type": "code",
      "source": [
        "print((scipy.linalg.eig(C_test)[0][0]/(N/2)),(scipy.linalg.eig(C_test)[0][1]/(N/2)))"
      ],
      "metadata": {
        "colab": {
          "base_uri": "https://localhost:8080/"
        },
        "id": "4WIj2p79jEyP",
        "outputId": "96b99d95-c617-4a84-947a-7a780d239929"
      },
      "execution_count": 271,
      "outputs": [
        {
          "output_type": "stream",
          "name": "stdout",
          "text": [
            "(0.32674714416743295+1.0186340659856805e-15j) (35186.33058391531-1.4551915228366892e-16j)\n"
          ]
        }
      ]
    },
    {
      "cell_type": "code",
      "source": [
        "Cov_test=[]\n",
        "Lambda_minor=[]\n",
        "Lambda_major=[]\n",
        "Lambda_least1=[]\n",
        "Lambda_least2=[]\n",
        "\n",
        "Prod=[]\n",
        "\n",
        "\n",
        "for j in range(len( Result_varTWA_Col_SDE[0] )):\n",
        "    Ak      =density_mat(  Result_varTWA_Col_SDE[0][j] )\n",
        "    Ak_ravel=np.ravel( Ak )\n",
        "    \n",
        "    Cov_j=Result_varTWA_Col_SDE[4][j] -Ak_ravel.reshape(4,1)@ con(Ak_ravel).reshape(1,4)\n",
        "    Eigen=scipy.linalg.eig(Cov_j)[0]/(N/2)\n",
        "\n",
        "\n",
        "    idx   = Eigen.argsort()   \n",
        "    Eigen = Eigen[idx]\n",
        "\n",
        "    Lambda_minor.append(  Eigen [-1] )\n",
        "    Lambda_major.append(  Eigen[-2]  )\n",
        "    Lambda_least1.append( Eigen[-3] )\n",
        "    Lambda_least2.append( Eigen[-4] )\n",
        "    Cov_test.append( Cov_j )\n",
        "    Prod.append( Eigen [-1]*Eigen [-2] )\n",
        "    \n",
        "plt.plot(N*GammaR*time_alt,Lambda_minor)\n",
        "plt.plot(N*GammaR*time_alt,Lambda_major)\n",
        "plt.plot(N*GammaR*time_alt,Prod)\n",
        "\n",
        "plt.yscale(\"log\")"
      ],
      "metadata": {
        "colab": {
          "base_uri": "https://localhost:8080/",
          "height": 590
        },
        "id": "ohJ9d8tYjE1L",
        "outputId": "016885e9-2838-4590-e7f9-f05dfbd50ece"
      },
      "execution_count": 286,
      "outputs": [
        {
          "output_type": "stream",
          "name": "stderr",
          "text": [
            "/usr/local/lib/python3.7/dist-packages/numpy/core/_asarray.py:83: ComplexWarning: Casting complex values to real discards the imaginary part\n",
            "  return array(a, dtype, copy=False, order=order)\n",
            "/usr/local/lib/python3.7/dist-packages/numpy/core/_asarray.py:83: ComplexWarning: Casting complex values to real discards the imaginary part\n",
            "  return array(a, dtype, copy=False, order=order)\n",
            "/usr/local/lib/python3.7/dist-packages/numpy/core/_asarray.py:83: ComplexWarning: Casting complex values to real discards the imaginary part\n",
            "  return array(a, dtype, copy=False, order=order)\n"
          ]
        },
        {
          "output_type": "display_data",
          "data": {
            "image/png": "[encoded data removed]",
            "text/plain": [
              "<Figure size 792x576 with 1 Axes>"
            ]
          },
          "metadata": {
            "needs_background": "light"
          }
        }
      ]
    },
    {
      "cell_type": "code",
      "source": [
        "plt.plot(N*GammaR*time_alt,Lambda_least1)\n",
        "plt.plot(N*GammaR*time_alt,Lambda_least2)\n",
        "\n",
        "\n",
        "plt.yscale(\"log\")"
      ],
      "metadata": {
        "colab": {
          "base_uri": "https://localhost:8080/",
          "height": 556
        },
        "id": "jYWT6-5hw4gn",
        "outputId": "2227641b-59cb-49ac-c34f-16309a964247"
      },
      "execution_count": 287,
      "outputs": [
        {
          "output_type": "stream",
          "name": "stderr",
          "text": [
            "/usr/local/lib/python3.7/dist-packages/numpy/core/_asarray.py:83: ComplexWarning: Casting complex values to real discards the imaginary part\n",
            "  return array(a, dtype, copy=False, order=order)\n",
            "/usr/local/lib/python3.7/dist-packages/numpy/core/_asarray.py:83: ComplexWarning: Casting complex values to real discards the imaginary part\n",
            "  return array(a, dtype, copy=False, order=order)\n"
          ]
        },
        {
          "output_type": "display_data",
          "data": {
            "image/png": "[encoded data removed]",
            "text/plain": [
              "<Figure size 792x576 with 1 Axes>"
            ]
          },
          "metadata": {
            "needs_background": "light"
          }
        }
      ]
    },
    {
      "cell_type": "code",
      "source": [
        "\n",
        "\n",
        "\n"
      ],
      "metadata": {
        "id": "AVOQEjv5w4kD"
      },
      "execution_count": 287,
      "outputs": []
    },
    {
      "cell_type": "code",
      "source": [
        "Fin"
      ],
      "metadata": {
        "colab": {
          "base_uri": "https://localhost:8080/"
        },
        "id": "ErriTG7Hw4nK",
        "outputId": "3e9f3058-c6c6-4a7c-c343-49064e67a8c2"
      },
      "execution_count": 288,
      "outputs": [
        {
          "output_type": "execute_result",
          "data": {
            "text/plain": [
              "array([-2.18651164e-12+1.89735951e-17j,  1.91914746e-03+3.77994160e-17j,\n",
              "        9.08301537e-01+5.47662884e-17j,  1.35356979e+00+6.11836475e-17j])"
            ]
          },
          "metadata": {},
          "execution_count": 288
        }
      ]
    },
    {
      "cell_type": "code",
      "source": [
        ""
      ],
      "metadata": {
        "id": "ThFf_6h0xTjn"
      },
      "execution_count": 288,
      "outputs": []
    },
    {
      "cell_type": "code",
      "source": [
        ""
      ],
      "metadata": {
        "id": "GWBwVg4rxTnl"
      },
      "execution_count": 288,
      "outputs": []
    },
    {
      "cell_type": "code",
      "source": [
        "Cov_test=[]\n",
        "Lambda_minor_gm=[]\n",
        "Lambda_major_gm=[]\n",
        "Lambda_least1_gm=[]\n",
        "\n",
        "Prod=[]\n",
        "\n",
        "\n",
        "for j in range(len( Result_varTWA_Col_SDE[0] )):\n",
        "    Ak      =Result_varTWA_Col_SDE[0][j][:3]\n",
        "\n",
        "    Ak.reshape(3,1)\n",
        "    \n",
        "    Cov_jj=Result_varTWA_Col_SDE[3][j] -Ak.reshape(3,1)@ Ak.reshape(1,3)\n",
        "    Eigen=scipy.linalg.eig(Cov_jj)[0]/(N/2)\n",
        "\n",
        "\n",
        "    idx   = Eigen.argsort()   \n",
        "    Eigen = Eigen[idx]\n",
        "\n",
        "    Lambda_minor_gm.append(  Eigen [-1] )\n",
        "    Lambda_major_gm.append(  Eigen[-2]  )\n",
        "    Lambda_least1_gm.append( Eigen[-3] )\n",
        "\n",
        "    Cov_test.append( Cov_j )\n",
        "    Prod.append( Eigen [-1]*Eigen [-2] )\n",
        "    \n",
        "plt.plot(N*GammaR*time_alt,Lambda_minor_gm)\n",
        "plt.plot(N*GammaR*time_alt,Lambda_major_gm)\n",
        "plt.plot(N*GammaR*time_alt,Prod)\n",
        "\n",
        "plt.yscale(\"log\")"
      ],
      "metadata": {
        "colab": {
          "base_uri": "https://localhost:8080/",
          "height": 590
        },
        "id": "DQmYYstdxTrN",
        "outputId": "c1c4d4c3-c706-44a3-d8db-fa35525a26d5"
      },
      "execution_count": 289,
      "outputs": [
        {
          "output_type": "stream",
          "name": "stderr",
          "text": [
            "/usr/local/lib/python3.7/dist-packages/numpy/core/_asarray.py:83: ComplexWarning: Casting complex values to real discards the imaginary part\n",
            "  return array(a, dtype, copy=False, order=order)\n",
            "/usr/local/lib/python3.7/dist-packages/numpy/core/_asarray.py:83: ComplexWarning: Casting complex values to real discards the imaginary part\n",
            "  return array(a, dtype, copy=False, order=order)\n",
            "/usr/local/lib/python3.7/dist-packages/numpy/core/_asarray.py:83: ComplexWarning: Casting complex values to real discards the imaginary part\n",
            "  return array(a, dtype, copy=False, order=order)\n"
          ]
        },
        {
          "output_type": "display_data",
          "data": {
            "image/png": "[encoded data removed]",
            "text/plain": [
              "<Figure size 792x576 with 1 Axes>"
            ]
          },
          "metadata": {
            "needs_background": "light"
          }
        }
      ]
    },
    {
      "cell_type": "code",
      "source": [
        ""
      ],
      "metadata": {
        "id": "Bfa01itfw5KK"
      },
      "execution_count": 289,
      "outputs": []
    },
    {
      "cell_type": "code",
      "source": [
        "\n",
        "fontsize=25\n",
        "\n",
        "\n",
        "plt.plot(N*GammaR*time_alt,Lambda_minor_gm, label=\"Gell-Mann Basis Major\")\n",
        "\n",
        "plt.plot(N*GammaR*time_alt,Lambda_minor,\"1\",label=\"Canonical Basis Major\")\n",
        "\n",
        "plt.plot(N*GammaR*time_alt,Lambda_major_gm, label=\"Gell-Mann Basis Minor\")\n",
        "\n",
        "plt.plot(N*GammaR*time_alt,Lambda_major,\"1\",label=\"Canonical Basis Minor\")\n",
        "\n",
        "plt.xlabel(r'$N\\Gamma t$',fontsize=fontsize)\n",
        "plt.ylabel(r'$\\lambda$',fontsize=fontsize)\n",
        "\n",
        "plt.plot(N*GammaR*time_alt,Prod,\"--\",label=r'$\\lambda_1\\lambda_2$')\n",
        "\n",
        "plt.yscale(\"log\")\n",
        "\n",
        "\n",
        "plt.legend()"
      ],
      "metadata": {
        "colab": {
          "base_uri": "https://localhost:8080/",
          "height": 705
        },
        "id": "OiKxSnKdw5Nf",
        "outputId": "7fd72a2b-3bd1-472a-bd9c-0f44b4fdb48e"
      },
      "execution_count": 296,
      "outputs": [
        {
          "output_type": "stream",
          "name": "stderr",
          "text": [
            "/usr/local/lib/python3.7/dist-packages/numpy/core/_asarray.py:83: ComplexWarning: Casting complex values to real discards the imaginary part\n",
            "  return array(a, dtype, copy=False, order=order)\n",
            "/usr/local/lib/python3.7/dist-packages/numpy/core/_asarray.py:83: ComplexWarning: Casting complex values to real discards the imaginary part\n",
            "  return array(a, dtype, copy=False, order=order)\n",
            "/usr/local/lib/python3.7/dist-packages/numpy/core/_asarray.py:83: ComplexWarning: Casting complex values to real discards the imaginary part\n",
            "  return array(a, dtype, copy=False, order=order)\n",
            "/usr/local/lib/python3.7/dist-packages/numpy/core/_asarray.py:83: ComplexWarning: Casting complex values to real discards the imaginary part\n",
            "  return array(a, dtype, copy=False, order=order)\n",
            "/usr/local/lib/python3.7/dist-packages/numpy/core/_asarray.py:83: ComplexWarning: Casting complex values to real discards the imaginary part\n",
            "  return array(a, dtype, copy=False, order=order)\n"
          ]
        },
        {
          "output_type": "execute_result",
          "data": {
            "text/plain": [
              "<matplotlib.legend.Legend at 0x7f7751636590>"
            ]
          },
          "metadata": {},
          "execution_count": 296
        },
        {
          "output_type": "display_data",
          "data": {
            "image/png": "[encoded data removed]",
            "text/plain": [
              "<Figure size 792x576 with 1 Axes>"
            ]
          },
          "metadata": {
            "needs_background": "light"
          }
        }
      ]
    },
    {
      "cell_type": "code",
      "source": [
        ""
      ],
      "metadata": {
        "id": "NsOkfsjZw5Ve"
      },
      "execution_count": 290,
      "outputs": []
    },
    {
      "cell_type": "code",
      "source": [
        "\n",
        "EM_Stcond=[]\n",
        "EM_Stanot=[]\n",
        "\n",
        "\n",
        "    \n",
        "for j in range(len(Result_varTWA_Col_SDE[2])):\n",
        "    Pop_j=Result_varTWA_Col_SDE[2][j]\n",
        "    EM_Stcond.append(-Pop_j[0])\n",
        "    EM_Stanot.append(-Pop_j[1])\n",
        "\n",
        "    \n",
        "    \n",
        "    \n",
        "#plt.plot(t,NE_St0)\n",
        "#plt.plot(t,NE_St1)\n",
        "#plt.plot(t,NE_St2)\n",
        "#plt.plot(t,NE_St3)\n",
        "\n",
        "\n",
        "plt.title(\"Time-Evolution of the Populations\")\n",
        "plt.xlabel(\"$\\Gamma_Rt$\")\n",
        "\n",
        "plt.plot(GammaR*time_alt,EM_Stcond,label=\"Condensed direction\")\n",
        "plt.plot(GammaR*time_alt,EM_Stanot,label=\"2nd\")\n",
        "\n",
        "\n",
        "\n",
        "plt.legend()\n",
        "\n",
        "    "
      ],
      "metadata": {
        "colab": {
          "base_uri": "https://localhost:8080/",
          "height": 611
        },
        "id": "fg4kGhQJw5Yv",
        "outputId": "14dfb45f-49a6-4c64-e3a6-0dc225cf022e"
      },
      "execution_count": 295,
      "outputs": [
        {
          "output_type": "stream",
          "name": "stderr",
          "text": [
            "/usr/local/lib/python3.7/dist-packages/numpy/core/_asarray.py:83: ComplexWarning: Casting complex values to real discards the imaginary part\n",
            "  return array(a, dtype, copy=False, order=order)\n",
            "/usr/local/lib/python3.7/dist-packages/numpy/core/_asarray.py:83: ComplexWarning: Casting complex values to real discards the imaginary part\n",
            "  return array(a, dtype, copy=False, order=order)\n"
          ]
        },
        {
          "output_type": "execute_result",
          "data": {
            "text/plain": [
              "<matplotlib.legend.Legend at 0x7f7752555510>"
            ]
          },
          "metadata": {},
          "execution_count": 295
        },
        {
          "output_type": "display_data",
          "data": {
            "image/png": "[encoded data removed]",
            "text/plain": [
              "<Figure size 792x576 with 1 Axes>"
            ]
          },
          "metadata": {
            "needs_background": "light"
          }
        }
      ]
    },
    {
      "cell_type": "code",
      "source": [
        ""
      ],
      "metadata": {
        "id": "byxZaeiKjE36"
      },
      "execution_count": 276,
      "outputs": []
    },
    {
      "cell_type": "code",
      "source": [
        ""
      ],
      "metadata": {
        "id": "MYmAzKI3jE6h"
      },
      "execution_count": 276,
      "outputs": []
    },
    {
      "cell_type": "code",
      "source": [
        ""
      ],
      "metadata": {
        "id": "uJlcH3SYjE9B"
      },
      "execution_count": 276,
      "outputs": []
    },
    {
      "cell_type": "code",
      "source": [
        ""
      ],
      "metadata": {
        "id": "iE9oDuRLjE_-"
      },
      "execution_count": 169,
      "outputs": []
    },
    {
      "cell_type": "code",
      "source": [
        ""
      ],
      "metadata": {
        "id": "3DB9ZA5RAv6p"
      },
      "execution_count": null,
      "outputs": []
    },
    {
      "cell_type": "code",
      "source": [
        ""
      ],
      "metadata": {
        "id": "ZTI8wZAIAwAX"
      },
      "execution_count": null,
      "outputs": []
    },
    {
      "cell_type": "code",
      "source": [
        ""
      ],
      "metadata": {
        "id": "_w9U92ZFAwDe"
      },
      "execution_count": null,
      "outputs": []
    },
    {
      "cell_type": "code",
      "source": [
        ""
      ],
      "metadata": {
        "id": "X3YbIr31AwGU"
      },
      "execution_count": null,
      "outputs": []
    },
    {
      "cell_type": "code",
      "source": [
        ""
      ],
      "metadata": {
        "id": "x30e_z0sjFDB"
      },
      "execution_count": 169,
      "outputs": []
    },
    {
      "cell_type": "code",
      "source": [
        ""
      ],
      "metadata": {
        "id": "dFs1TtSpjFFk"
      },
      "execution_count": 169,
      "outputs": []
    },
    {
      "cell_type": "code",
      "source": [
        ""
      ],
      "metadata": {
        "id": "l5roNkKVjFJk"
      },
      "execution_count": 169,
      "outputs": []
    },
    {
      "cell_type": "code",
      "source": [
        ""
      ],
      "metadata": {
        "id": "lNOx-OPSavWb"
      },
      "execution_count": 169,
      "outputs": []
    },
    {
      "cell_type": "code",
      "execution_count": 294,
      "metadata": {
        "colab": {
          "base_uri": "https://localhost:8080/",
          "height": 611
        },
        "id": "PKhyP0mqSfRR",
        "outputId": "82ff368a-4f09-4b60-9b09-bc5d60db1356"
      },
      "outputs": [
        {
          "output_type": "stream",
          "name": "stderr",
          "text": [
            "/usr/local/lib/python3.7/dist-packages/numpy/core/_asarray.py:83: ComplexWarning: Casting complex values to real discards the imaginary part\n",
            "  return array(a, dtype, copy=False, order=order)\n",
            "/usr/local/lib/python3.7/dist-packages/numpy/core/_asarray.py:83: ComplexWarning: Casting complex values to real discards the imaginary part\n",
            "  return array(a, dtype, copy=False, order=order)\n"
          ]
        },
        {
          "output_type": "execute_result",
          "data": {
            "text/plain": [
              "<matplotlib.legend.Legend at 0x7f7751e0e210>"
            ]
          },
          "metadata": {},
          "execution_count": 294
        },
        {
          "output_type": "display_data",
          "data": {
            "image/png": "[encoded data removed]",
            "text/plain": [
              "<Figure size 792x576 with 1 Axes>"
            ]
          },
          "metadata": {
            "needs_background": "light"
          }
        }
      ],
      "source": [
        ""
      ]
    },
    {
      "cell_type": "code",
      "execution_count": null,
      "metadata": {
        "id": "hQpFWhAgSfRS"
      },
      "outputs": [],
      "source": [
        "\n"
      ]
    },
    {
      "cell_type": "code",
      "source": [
        ""
      ],
      "metadata": {
        "id": "MbC4xZYLAyKI"
      },
      "execution_count": null,
      "outputs": []
    },
    {
      "cell_type": "code",
      "source": [
        ""
      ],
      "metadata": {
        "id": "3rryOseXAyQg"
      },
      "execution_count": null,
      "outputs": []
    },
    {
      "cell_type": "code",
      "source": [
        ""
      ],
      "metadata": {
        "id": "x_UztLMEAyUL"
      },
      "execution_count": null,
      "outputs": []
    },
    {
      "cell_type": "code",
      "execution_count": null,
      "metadata": {
        "id": "Lwn0_y-9SfRS"
      },
      "outputs": [],
      "source": [
        "C_matrices=Result_varTWA_Col_SDE[1]\n",
        "\n",
        "\n",
        "Eigenvalues_C=[]\n",
        "\n",
        "\n",
        "\n",
        "\n",
        "for j in range(len(Result_varTWA_Col_SDE[1])):\n",
        "    Eigenvalues_C.append( scipy.linalg.eig(C_matrices[j])[0])\n",
        "    \n",
        "    \n",
        "    \n",
        "    \n",
        "C_1=[]\n",
        "C_2=[]\n",
        "\n",
        "\n",
        "Ar_1=[]\n",
        "\n",
        "\n",
        "for j in range(len(Eigenvalues_C)):\n",
        "\n",
        "    Aio=list(Eigenvalues_C[j])\n",
        "    Aio.sort()\n",
        "\n",
        "    C_1.append(Aio[ -1]/(N/2))\n",
        "    C_2.append(Aio[-2]/(N/2))\n",
        "\n",
        "    Ar_1.append(1)\n",
        "\n",
        "\n",
        "\n",
        "\n",
        "\n",
        "\n",
        "\n",
        "\n"
      ]
    },
    {
      "cell_type": "code",
      "execution_count": null,
      "metadata": {
        "id": "L5LnJSpvSfRS"
      },
      "outputs": [],
      "source": [
        ""
      ]
    },
    {
      "cell_type": "code",
      "execution_count": null,
      "metadata": {
        "colab": {
          "base_uri": "https://localhost:8080/",
          "height": 765
        },
        "id": "9M3S-UJ3SfRS",
        "outputId": "d686a48f-c020-49e3-d1ed-547cf2884585"
      },
      "outputs": [
        {
          "output_type": "stream",
          "name": "stderr",
          "text": [
            "No handles with labels found to put in legend.\n",
            "/usr/local/lib/python3.7/dist-packages/numpy/core/_asarray.py:83: ComplexWarning: Casting complex values to real discards the imaginary part\n",
            "  return array(a, dtype, copy=False, order=order)\n",
            "/usr/local/lib/python3.7/dist-packages/numpy/core/_asarray.py:83: ComplexWarning: Casting complex values to real discards the imaginary part\n",
            "  return array(a, dtype, copy=False, order=order)\n",
            "/usr/local/lib/python3.7/dist-packages/numpy/core/fromnumeric.py:3373: RuntimeWarning: Mean of empty slice.\n",
            "  out=out, **kwargs)\n",
            "/usr/local/lib/python3.7/dist-packages/numpy/core/_methods.py:170: RuntimeWarning: invalid value encountered in double_scalars\n",
            "  ret = ret.dtype.type(ret / rcount)\n",
            "/usr/local/lib/python3.7/dist-packages/numpy/core/fromnumeric.py:3373: RuntimeWarning: Mean of empty slice.\n",
            "  out=out, **kwargs)\n",
            "/usr/local/lib/python3.7/dist-packages/numpy/core/_methods.py:170: RuntimeWarning: invalid value encountered in double_scalars\n",
            "  ret = ret.dtype.type(ret / rcount)\n"
          ]
        },
        {
          "output_type": "display_data",
          "data": {
            "image/png": "[encoded data removed]",
            "text/plain": [
              "<Figure size 792x576 with 1 Axes>"
            ]
          },
          "metadata": {
            "needs_background": "light"
          }
        }
      ],
      "source": [
        "\n",
        "fontsize=20\n",
        "\n",
        "plt.title('Time-Evolution of the Normalized Eigenvalues of $\\\\tilde{C}$',fontsize=fontsize+5)\n",
        "\n",
        "plt.xlabel(r'$N\\Gamma t$',fontsize=fontsize)\n",
        "plt.ylabel(r'$\\lambda_{C_j}$',fontsize=fontsize)\n",
        "plt.tick_params(labelsize=15)\n",
        "plt.yscale('log')\n",
        "plt.legend(fontsize=fontsize)\n",
        "\n",
        "plt.plot(N*time_alt*GammaR,C_1,label=\"1st\")\n",
        "plt.plot(N*time_alt*GammaR,C_2,label=\"2nd\")\n",
        "plt.plot(N*time_alt*GammaR,Ar_1,\"-\")\n",
        "plt.plot(N*time_alt*GammaR,np.mean(C_1[700:800])*np.array(Ar_1),\"--\")\n",
        "plt.plot(N*time_alt*GammaR,np.mean(C_2[700:800])*np.array(Ar_1),\"--\")\n",
        "\n",
        "\n",
        "\n",
        "\n",
        "\n",
        "plt.savefig(\"2lsC.png\")"
      ]
    },
    {
      "cell_type": "code",
      "execution_count": null,
      "metadata": {
        "id": "Pl2S5muhSfRS"
      },
      "outputs": [],
      "source": [
        ""
      ]
    },
    {
      "cell_type": "code",
      "execution_count": null,
      "metadata": {
        "colab": {
          "base_uri": "https://localhost:8080/",
          "height": 577
        },
        "id": "C2NF_5HVSfRS",
        "outputId": "2a8f538d-59e8-4620-d743-cbc765ab7cd9"
      },
      "outputs": [
        {
          "output_type": "stream",
          "name": "stderr",
          "text": [
            "/usr/local/lib/python3.7/dist-packages/numpy/core/_asarray.py:83: ComplexWarning: Casting complex values to real discards the imaginary part\n",
            "  return array(a, dtype, copy=False, order=order)\n"
          ]
        },
        {
          "output_type": "execute_result",
          "data": {
            "text/plain": [
              "[<matplotlib.lines.Line2D at 0x7face2322a10>]"
            ]
          },
          "metadata": {},
          "execution_count": 153
        },
        {
          "output_type": "display_data",
          "data": {
            "image/png": "[encoded data removed]",
            "text/plain": [
              "<Figure size 792x576 with 1 Axes>"
            ]
          },
          "metadata": {
            "needs_background": "light"
          }
        }
      ],
      "source": [
        "Purity=[]\n",
        "\n",
        "\n",
        "plt.title(\"Time-Evolution Purity\")\n",
        "\n",
        "for j in range(len(EM_Stcond)):\n",
        "    Purity.append(EM_Stcond[j]**2+EM_Stanot[j]**2)\n",
        "    \n",
        "plt.xlabel(r'$N\\Gamma t$',fontsize=fontsize)\n",
        "plt.ylabel(r'$\\rm{Tr}$ $(\\rho^2)$',fontsize=fontsize)\n",
        "\n",
        "\n",
        "\n",
        "plt.plot(N*time_alt*GammaR,np.array(Purity))"
      ]
    },
    {
      "cell_type": "code",
      "execution_count": null,
      "metadata": {
        "id": "tLuY8F15SfRS"
      },
      "outputs": [],
      "source": [
        ""
      ]
    },
    {
      "cell_type": "code",
      "execution_count": null,
      "metadata": {
        "id": "0CQmn4soTMfx"
      },
      "outputs": [],
      "source": [
        ""
      ]
    },
    {
      "cell_type": "code",
      "execution_count": null,
      "metadata": {
        "colab": {
          "base_uri": "https://localhost:8080/"
        },
        "id": "3_BGIsQXTMi6",
        "outputId": "e601cd5d-f1cb-4497-fadf-db117a8a201e"
      },
      "outputs": [
        {
          "output_type": "stream",
          "name": "stderr",
          "text": [
            "/usr/local/lib/python3.7/dist-packages/numpy/core/fromnumeric.py:3373: RuntimeWarning: Mean of empty slice.\n",
            "  out=out, **kwargs)\n",
            "/usr/local/lib/python3.7/dist-packages/numpy/core/_methods.py:170: RuntimeWarning: invalid value encountered in double_scalars\n",
            "  ret = ret.dtype.type(ret / rcount)\n"
          ]
        },
        {
          "output_type": "execute_result",
          "data": {
            "text/plain": [
              "nan"
            ]
          },
          "metadata": {},
          "execution_count": 154
        }
      ],
      "source": [
        "np.mean(C_1[650:800])"
      ]
    },
    {
      "cell_type": "code",
      "execution_count": null,
      "metadata": {
        "colab": {
          "base_uri": "https://localhost:8080/"
        },
        "id": "aoOXZ82nTMlK",
        "outputId": "3fd93d3c-979c-4b81-8796-a337fe9f2a15"
      },
      "outputs": [
        {
          "output_type": "stream",
          "name": "stderr",
          "text": [
            "/usr/local/lib/python3.7/dist-packages/numpy/core/fromnumeric.py:3373: RuntimeWarning: Mean of empty slice.\n",
            "  out=out, **kwargs)\n",
            "/usr/local/lib/python3.7/dist-packages/numpy/core/_methods.py:170: RuntimeWarning: invalid value encountered in double_scalars\n",
            "  ret = ret.dtype.type(ret / rcount)\n"
          ]
        },
        {
          "output_type": "execute_result",
          "data": {
            "text/plain": [
              "nan"
            ]
          },
          "metadata": {},
          "execution_count": 155
        }
      ],
      "source": [
        "np.mean(C_2[700:800])"
      ]
    },
    {
      "cell_type": "code",
      "execution_count": null,
      "metadata": {
        "id": "T2t5C58ht643"
      },
      "outputs": [],
      "source": [
        ""
      ]
    },
    {
      "cell_type": "code",
      "execution_count": null,
      "metadata": {
        "colab": {
          "base_uri": "https://localhost:8080/"
        },
        "id": "x8a_kWtmt643",
        "outputId": "f94e9fae-5480-4151-fe40-d1a74705ac13"
      },
      "outputs": [
        {
          "output_type": "execute_result",
          "data": {
            "text/plain": [
              "array([ 7.07106779e+03,  6.36074438e-01, -3.10312853e+00,  4.18853439e-04,\n",
              "       -1.30198545e-01])"
            ]
          },
          "metadata": {},
          "execution_count": 156
        }
      ],
      "source": [
        "Result_varTWA_Col_SDE[0][0]"
      ]
    },
    {
      "cell_type": "code",
      "execution_count": null,
      "metadata": {
        "id": "5iZhs1hJt644",
        "colab": {
          "base_uri": "https://localhost:8080/"
        },
        "outputId": "a332d862-93ea-47b8-eb00-21353d651e1b"
      },
      "outputs": [
        {
          "output_type": "execute_result",
          "data": {
            "text/plain": [
              "array([[4997.80575677+0.j        , 4999.99998487-0.44977255j],\n",
              "       [4999.99998487+0.44977255j, 5002.19424323+0.j        ]])"
            ]
          },
          "metadata": {},
          "execution_count": 157
        }
      ],
      "source": [
        "density_mat(Result_varTWA_Col_SDE[0][0])"
      ]
    },
    {
      "cell_type": "code",
      "source": [
        ""
      ],
      "metadata": {
        "id": "Kp_2berAN7rP"
      },
      "execution_count": null,
      "outputs": []
    },
    {
      "cell_type": "code",
      "source": [
        ""
      ],
      "metadata": {
        "id": "20J-FzRSN7yf"
      },
      "execution_count": null,
      "outputs": []
    },
    {
      "cell_type": "code",
      "source": [
        ""
      ],
      "metadata": {
        "id": "DNStXHIAN72r"
      },
      "execution_count": null,
      "outputs": []
    },
    {
      "cell_type": "code",
      "source": [
        ""
      ],
      "metadata": {
        "id": "TG_KBOhuN76m"
      },
      "execution_count": null,
      "outputs": []
    },
    {
      "cell_type": "code",
      "execution_count": null,
      "metadata": {
        "id": "vEhnic0Wt644"
      },
      "outputs": [],
      "source": [
        "def Square_mean(Averages):\n",
        "    Averages=Averages[0:3].reshape(3,1)\n",
        "    \n",
        "    return  Averages*(Averages.T)"
      ]
    },
    {
      "cell_type": "code",
      "source": [
        "N"
      ],
      "metadata": {
        "colab": {
          "base_uri": "https://localhost:8080/"
        },
        "id": "__LSk6u6BtDf",
        "outputId": "d37a1cdd-fe26-4fb0-82a3-46ce96251722"
      },
      "execution_count": null,
      "outputs": [
        {
          "output_type": "execute_result",
          "data": {
            "text/plain": [
              "10000"
            ]
          },
          "metadata": {},
          "execution_count": 78
        }
      ]
    },
    {
      "cell_type": "code",
      "execution_count": null,
      "metadata": {
        "colab": {
          "base_uri": "https://localhost:8080/"
        },
        "id": "t6ZQuRH7t644",
        "outputId": "f41e9017-aae9-4166-a1f7-12273f1dacad"
      },
      "outputs": [
        {
          "output_type": "execute_result",
          "data": {
            "text/plain": [
              "400"
            ]
          },
          "metadata": {},
          "execution_count": 79
        }
      ],
      "source": [
        "\n",
        "Cov_series=[]\n",
        "\n",
        "for j in range(len(Result_varTWA_Col_SDE[0])):\n",
        "    Cov_series.append(   np.array(Result_varTWA_Col_SDE[3][j] - Square_mean(Result_varTWA_Col_SDE[0][j]) )/N    )\n",
        "\n",
        "\n",
        "\n",
        "len(Cov_series)"
      ]
    },
    {
      "cell_type": "code",
      "source": [
        ""
      ],
      "metadata": {
        "id": "l4b6KN9QDDJB"
      },
      "execution_count": null,
      "outputs": []
    },
    {
      "cell_type": "code",
      "source": [
        "Aio=Cov_series[780:799][0]\n",
        "\n",
        "\n",
        "Aio"
      ],
      "metadata": {
        "colab": {
          "base_uri": "https://localhost:8080/",
          "height": 217
        },
        "id": "Z7FgSWtMDDhg",
        "outputId": "2e080825-99eb-47e3-997a-a852cf0ae43e"
      },
      "execution_count": null,
      "outputs": [
        {
          "output_type": "error",
          "ename": "IndexError",
          "evalue": "ignored",
          "traceback": [
            "\u001b[0;31m---------------------------------------------------------------------------\u001b[0m",
            "\u001b[0;31mIndexError\u001b[0m                                Traceback (most recent call last)",
            "\u001b[0;32m<ipython-input-80-c1013b6a9f8c>\u001b[0m in \u001b[0;36m<module>\u001b[0;34m()\u001b[0m\n\u001b[0;32m----> 1\u001b[0;31m \u001b[0mAio\u001b[0m\u001b[0;34m=\u001b[0m\u001b[0mCov_series\u001b[0m\u001b[0;34m[\u001b[0m\u001b[0;36m780\u001b[0m\u001b[0;34m:\u001b[0m\u001b[0;36m799\u001b[0m\u001b[0;34m]\u001b[0m\u001b[0;34m[\u001b[0m\u001b[0;36m0\u001b[0m\u001b[0;34m]\u001b[0m\u001b[0;34m\u001b[0m\u001b[0;34m\u001b[0m\u001b[0m\n\u001b[0m\u001b[1;32m      2\u001b[0m \u001b[0;34m\u001b[0m\u001b[0m\n\u001b[1;32m      3\u001b[0m \u001b[0;34m\u001b[0m\u001b[0m\n\u001b[1;32m      4\u001b[0m \u001b[0mAio\u001b[0m\u001b[0;34m\u001b[0m\u001b[0;34m\u001b[0m\u001b[0m\n",
            "\u001b[0;31mIndexError\u001b[0m: list index out of range"
          ]
        }
      ]
    },
    {
      "cell_type": "code",
      "source": [
        "scipy.linalg.eig(Cov_series[0])"
      ],
      "metadata": {
        "colab": {
          "base_uri": "https://localhost:8080/"
        },
        "id": "Rz9_dHs3DDox",
        "outputId": "84c0b064-dd72-4d65-82b2-58bdee73aa0b"
      },
      "execution_count": null,
      "outputs": [
        {
          "output_type": "execute_result",
          "data": {
            "text/plain": [
              "(array([2.87240287e-10+0.j, 4.90557123e-01+0.j, 4.61526200e-01+0.j]),\n",
              " array([[-1.00000000e+00,  4.00197595e-06,  3.79632627e-06],\n",
              "        [ 5.69278190e-07,  7.59418829e-01, -6.50602062e-01],\n",
              "        [ 5.48669545e-06,  6.50602062e-01,  7.59418829e-01]]))"
            ]
          },
          "metadata": {},
          "execution_count": 81
        }
      ]
    },
    {
      "cell_type": "code",
      "source": [
        ""
      ],
      "metadata": {
        "id": "UJBolMLfDDrw"
      },
      "execution_count": null,
      "outputs": []
    },
    {
      "cell_type": "code",
      "source": [
        "\n",
        "def Square_mean(Averages):\n",
        "    Averages=Averages[0:3].reshape(3,1)\n",
        "    \n",
        "    return  Averages*(Averages.T)\n",
        "\n",
        "Cov_series=[]\n",
        "\n",
        "for j in range(len(Result_varTWA_Col_SDE[0])):\n",
        "    Cov_series.append(   np.array(Result_varTWA_Col_SDE[3][j] - Square_mean(Result_varTWA_Col_SDE[0][j]) )/  (N/2)    )\n",
        "\n",
        "\n",
        "\n",
        "len(Cov_series)\n",
        "\n",
        "Conserved=[]\n",
        "Ones=[]\n",
        "\n",
        "\n",
        "for j in range(len(Cov_series)):\n",
        "    Eigenvalues=scipy.linalg.eig(Cov_series[j])[0]\n",
        "    idx = Eigenvalues.argsort()   \n",
        "    Eigenvalues = Eigenvalues[idx]\n",
        "\n",
        "    Conserved.append(Eigenvalues[1]*Eigenvalues[2])\n",
        "    Ones.append(1)\n",
        "    \n",
        "\n",
        "\n",
        "\n",
        "\n",
        "\n",
        "fontsize=30\n",
        "\n",
        "\n",
        "plt.title(\"Product of Eigenvalues\",fontsize=fontsize)\n",
        "\n",
        "\n",
        "plt.ylabel(r'$\\lambda_1\\lambda_2$',fontsize=fontsize)\n",
        "plt.xlabel(r'$N\\Gamma t$',fontsize=fontsize)    \n",
        "\n",
        "#plt.yscale('log')\n",
        "\n",
        "\n",
        "\n",
        "\n",
        "\n",
        "\n",
        "plt.plot(Conserved)\n",
        "plt.plot(Ones)"
      ],
      "metadata": {
        "id": "iwRxSRVODDu7",
        "colab": {
          "base_uri": "https://localhost:8080/",
          "height": 598
        },
        "outputId": "8eeaf2b1-683b-49ba-c99b-1508c188d7b6"
      },
      "execution_count": null,
      "outputs": [
        {
          "output_type": "stream",
          "name": "stderr",
          "text": [
            "/usr/local/lib/python3.7/dist-packages/numpy/core/_asarray.py:83: ComplexWarning: Casting complex values to real discards the imaginary part\n",
            "  return array(a, dtype, copy=False, order=order)\n"
          ]
        },
        {
          "output_type": "execute_result",
          "data": {
            "text/plain": [
              "[<matplotlib.lines.Line2D at 0x7facf18bc550>]"
            ]
          },
          "metadata": {},
          "execution_count": 82
        },
        {
          "output_type": "display_data",
          "data": {
            "image/png": "[encoded data removed]",
            "text/plain": [
              "<Figure size 792x576 with 1 Axes>"
            ]
          },
          "metadata": {
            "needs_background": "light"
          }
        }
      ]
    },
    {
      "cell_type": "code",
      "source": [
        ""
      ],
      "metadata": {
        "id": "yeubbO1fDDyB"
      },
      "execution_count": null,
      "outputs": []
    },
    {
      "cell_type": "code",
      "source": [
        "\n",
        "\n",
        "len(Cov_series)\n",
        "\n",
        "Conserved=[]\n",
        "Ones=[]\n",
        "\n",
        "\n",
        "Eig_a=[]\n",
        "Eig_b=[]\n",
        "\n",
        "Eig_c=[]\n",
        "\n",
        "\n",
        "\n",
        "for j in range(len(Cov_series)):\n",
        "    Eigenvalues=scipy.linalg.eig(Cov_series[j])[0]\n",
        "    idx = Eigenvalues.argsort()   \n",
        "    Eigenvalues = Eigenvalues[idx]\n",
        "\n",
        "    Eig_a.append(Eigenvalues[1])\n",
        "    Eig_b.append(Eigenvalues[2])\n",
        "    Eig_c.append(Eigenvalues[0])\n",
        "    #Eig_c.append(Eigenvalues[3])\n",
        "\n",
        "\n",
        "\n",
        "\n",
        "fontsize=30\n",
        "\n",
        "\n",
        "plt.title(\"Eigenvalues Covariance Matrix\",fontsize=fontsize)\n",
        "\n",
        "\n",
        "plt.ylabel(r'$\\lambda$',fontsize=fontsize)\n",
        "plt.xlabel(r'$N\\Gamma t$',fontsize=fontsize)    \n",
        "\n",
        "plt.yscale('log')\n",
        "plt.plot(N*time_alt*GammaR,Eig_a)\n",
        "plt.plot(N*time_alt*GammaR,Eig_b)\n",
        "plt.plot(Ones)"
      ],
      "metadata": {
        "id": "P_r-ZmUmDD3V",
        "colab": {
          "base_uri": "https://localhost:8080/",
          "height": 632
        },
        "outputId": "e6cc2a59-5900-4185-afa6-edcd2a37b42e"
      },
      "execution_count": null,
      "outputs": [
        {
          "output_type": "stream",
          "name": "stderr",
          "text": [
            "/usr/local/lib/python3.7/dist-packages/numpy/core/_asarray.py:83: ComplexWarning: Casting complex values to real discards the imaginary part\n",
            "  return array(a, dtype, copy=False, order=order)\n",
            "/usr/local/lib/python3.7/dist-packages/numpy/core/_asarray.py:83: ComplexWarning: Casting complex values to real discards the imaginary part\n",
            "  return array(a, dtype, copy=False, order=order)\n"
          ]
        },
        {
          "output_type": "execute_result",
          "data": {
            "text/plain": [
              "[<matplotlib.lines.Line2D at 0x7face329ea90>]"
            ]
          },
          "metadata": {},
          "execution_count": 86
        },
        {
          "output_type": "display_data",
          "data": {
            "image/png": "[encoded data removed]",
            "text/plain": [
              "<Figure size 792x576 with 1 Axes>"
            ]
          },
          "metadata": {
            "needs_background": "light"
          }
        }
      ]
    },
    {
      "cell_type": "code",
      "source": [
        ""
      ],
      "metadata": {
        "id": "2e2LQgo6DD66"
      },
      "execution_count": null,
      "outputs": []
    },
    {
      "cell_type": "code",
      "source": [
        "plt.plot(N*time_alt*GammaR,Eig_c)\n",
        "plt.yscale('log')"
      ],
      "metadata": {
        "id": "k_c16pXbDD9V",
        "colab": {
          "base_uri": "https://localhost:8080/",
          "height": 521
        },
        "outputId": "eba75ea9-68ba-44f9-ff53-fb5d7ca31b00"
      },
      "execution_count": null,
      "outputs": [
        {
          "output_type": "stream",
          "name": "stderr",
          "text": [
            "/usr/local/lib/python3.7/dist-packages/numpy/core/_asarray.py:83: ComplexWarning: Casting complex values to real discards the imaginary part\n",
            "  return array(a, dtype, copy=False, order=order)\n"
          ]
        },
        {
          "output_type": "display_data",
          "data": {
            "image/png": "[encoded data removed]",
            "text/plain": [
              "<Figure size 792x576 with 1 Axes>"
            ]
          },
          "metadata": {
            "needs_background": "light"
          }
        }
      ]
    },
    {
      "cell_type": "code",
      "source": [
        ""
      ],
      "metadata": {
        "id": "pVPyFQ6yDEAc"
      },
      "execution_count": null,
      "outputs": []
    },
    {
      "cell_type": "code",
      "source": [
        ""
      ],
      "metadata": {
        "id": "pe2dQp5PDEDB"
      },
      "execution_count": null,
      "outputs": []
    },
    {
      "cell_type": "code",
      "source": [
        ""
      ],
      "metadata": {
        "id": "zuvigahwDEFh"
      },
      "execution_count": null,
      "outputs": []
    },
    {
      "cell_type": "code",
      "execution_count": null,
      "metadata": {
        "id": "RTDQ_0pCt644"
      },
      "outputs": [],
      "source": [
        ""
      ]
    },
    {
      "cell_type": "code",
      "execution_count": null,
      "metadata": {
        "colab": {
          "base_uri": "https://localhost:8080/"
        },
        "id": "5mLva-_3t644",
        "outputId": "e7028de3-b424-4e1f-f9e5-e1e72f67f164"
      },
      "outputs": [
        {
          "output_type": "execute_result",
          "data": {
            "text/plain": [
              "array([ 7.07106781e+03,  7.08923906e-01, -7.55608774e-01])"
            ]
          },
          "metadata": {},
          "execution_count": 60
        }
      ],
      "source": [
        ""
      ]
    },
    {
      "cell_type": "code",
      "execution_count": null,
      "metadata": {
        "id": "AinMA6lWt644"
      },
      "outputs": [],
      "source": [
        ""
      ]
    },
    {
      "cell_type": "code",
      "execution_count": null,
      "metadata": {
        "colab": {
          "base_uri": "https://localhost:8080/"
        },
        "id": "joD5KjF0t644",
        "outputId": "f7047f77-07a5-41d2-d4fb-98bced607f19"
      },
      "outputs": [
        {
          "output_type": "execute_result",
          "data": {
            "text/plain": [
              "array([[ 4.99999999e+07,  5.01284901e+03, -5.34296088e+03],\n",
              "       [ 5.01284901e+03,  5.02573105e-01, -5.35669124e-01],\n",
              "       [-5.34296088e+03, -5.35669124e-01,  5.70944619e-01]])"
            ]
          },
          "metadata": {},
          "execution_count": 61
        }
      ],
      "source": [
        ""
      ]
    },
    {
      "cell_type": "code",
      "execution_count": null,
      "metadata": {
        "id": "HiJbU86zt644"
      },
      "outputs": [],
      "source": [
        ""
      ]
    },
    {
      "cell_type": "code",
      "execution_count": null,
      "metadata": {
        "colab": {
          "base_uri": "https://localhost:8080/"
        },
        "id": "VMGu-JVrt645",
        "outputId": "c0f87685-f75f-464a-baa9-4557a1a66738"
      },
      "outputs": [
        {
          "output_type": "execute_result",
          "data": {
            "text/plain": [
              "array([[ 4.99999999e+07,  5.01284892e+03, -5.34296034e+03],\n",
              "       [ 5.01284892e+03,  4.86427190e+03, -6.58791238e+01],\n",
              "       [-5.34296034e+03, -6.58791238e+01,  5.05260570e+03]])"
            ]
          },
          "metadata": {},
          "execution_count": 62
        }
      ],
      "source": [
        "Result_varTWA_Col_SDE[3][0]"
      ]
    },
    {
      "cell_type": "code",
      "execution_count": null,
      "metadata": {
        "id": "46SYID0oTMoE",
        "colab": {
          "base_uri": "https://localhost:8080/"
        },
        "outputId": "659d7496-b089-4e16-986e-4d989964b229"
      },
      "outputs": [
        {
          "output_type": "execute_result",
          "data": {
            "text/plain": [
              "array([ 7.07106781e+03,  7.08923906e-01, -7.55608774e-01,  2.01664772e-03,\n",
              "       -3.92858248e-02])"
            ]
          },
          "metadata": {},
          "execution_count": 63
        }
      ],
      "source": [
        "Result_varTWA_Col_SDE[0][0]"
      ]
    },
    {
      "cell_type": "code",
      "execution_count": null,
      "metadata": {
        "id": "7zGiSykmTMqt"
      },
      "outputs": [],
      "source": [
        "J_matrices=Result_varTWA_Col_SDE[3]\n",
        "\n",
        "\n",
        "Eigenvalues_J=[]\n",
        "\n",
        "\n",
        "\n",
        "\n",
        "for j in range(len(Result_varTWA_Col_SDE[1])):\n",
        "    Eigenvalues_J.append( scipy.linalg.eig(J_matrices[j])[0])\n",
        "    \n",
        "    \n",
        "    \n",
        "    \n",
        "J_1=[]\n",
        "J_2=[]\n",
        "\n",
        "\n",
        "Ar_1=[]\n",
        "\n",
        "\n",
        "for j in range(len(Eigenvalues_J)):\n",
        "\n",
        "    Aio=list(Eigenvalues_J[j])\n",
        "    Aio.sort()\n",
        "\n",
        "    J_1.append(Aio[-1]/(N/2))\n",
        "    J_2.append(Aio[-2]/(N/2))\n",
        "\n",
        "    Ar_1.append(1)\n",
        "\n",
        "\n",
        "\n",
        "\n",
        "\n",
        "\n",
        "\n",
        "\n"
      ]
    },
    {
      "cell_type": "code",
      "execution_count": null,
      "metadata": {
        "id": "Yte6Iy-kTMtK"
      },
      "outputs": [],
      "source": [
        ""
      ]
    },
    {
      "cell_type": "code",
      "execution_count": null,
      "metadata": {
        "colab": {
          "base_uri": "https://localhost:8080/",
          "height": 675
        },
        "id": "mI4oGdcQTMwA",
        "outputId": "23d7e654-febf-44da-b438-78534d4e1c0f"
      },
      "outputs": [
        {
          "output_type": "stream",
          "name": "stderr",
          "text": [
            "/usr/local/lib/python3.7/dist-packages/numpy/core/_asarray.py:83: ComplexWarning: Casting complex values to real discards the imaginary part\n",
            "  return array(a, dtype, copy=False, order=order)\n",
            "/usr/local/lib/python3.7/dist-packages/numpy/core/_asarray.py:83: ComplexWarning: Casting complex values to real discards the imaginary part\n",
            "  return array(a, dtype, copy=False, order=order)\n",
            "/usr/local/lib/python3.7/dist-packages/numpy/core/_asarray.py:83: ComplexWarning: Casting complex values to real discards the imaginary part\n",
            "  return array(a, dtype, copy=False, order=order)\n",
            "/usr/local/lib/python3.7/dist-packages/numpy/core/_asarray.py:83: ComplexWarning: Casting complex values to real discards the imaginary part\n",
            "  return array(a, dtype, copy=False, order=order)\n"
          ]
        },
        {
          "output_type": "display_data",
          "data": {
            "image/png": "[encoded data removed]",
            "text/plain": [
              "<Figure size 792x576 with 1 Axes>"
            ]
          },
          "metadata": {
            "needs_background": "light"
          }
        }
      ],
      "source": [
        "\n",
        "plt.title('Time-Evolution of the Normalized Eigenvalues of $J$',fontsize=fontsize+5)\n",
        "\n",
        "\n",
        "fontsize=20\n",
        "\n",
        "plt.plot(N*time_alt*GammaR,J_1,label=\"1st\")\n",
        "plt.plot(N*time_alt*GammaR,J_2,label=\"2nd\")\n",
        "plt.plot(N*time_alt*GammaR,Ar_1,\"-\")\n",
        "plt.plot(N*time_alt*GammaR,np.mean(J_1[700:800])*np.array(Ar_1),\"--\")\n",
        "plt.plot(N*time_alt*GammaR,np.mean(J_2[700:800])*np.array(Ar_1),\"--\")\n",
        "\n",
        "plt.xlabel(r'$N\\Gamma t$',fontsize=fontsize)\n",
        "plt.ylabel(r'$\\lambda_{J_j}$',fontsize=fontsize)\n",
        "\n",
        "\n",
        "plt.tick_params(labelsize=15)\n",
        "\n",
        "plt.yscale('log')\n",
        "\n",
        "plt.legend(fontsize=fontsize)\n",
        "\n",
        "plt.savefig(\"2lsC.png\")"
      ]
    },
    {
      "cell_type": "code",
      "execution_count": null,
      "metadata": {
        "id": "ZZ3SFbP-TMy5"
      },
      "outputs": [],
      "source": [
        ""
      ]
    },
    {
      "cell_type": "code",
      "execution_count": null,
      "metadata": {
        "colab": {
          "base_uri": "https://localhost:8080/"
        },
        "id": "oec5z_iMTM10",
        "outputId": "e1a01e56-a437-4613-9ed5-c209a9a2e09e"
      },
      "outputs": [
        {
          "output_type": "stream",
          "name": "stdout",
          "text": [
            "[1.45659355e+03 1.98043259e-01]\n",
            "[9.99662919e+03 5.15728420e+00]\n"
          ]
        }
      ],
      "source": [
        "Eigen=np.real([np.mean(C_1[120:150]),np.mean(C_2[120:150])])\n",
        "\n",
        "EigenJ=np.real([np.mean(J_1[120:150]),np.mean(J_2[120:150])])\n",
        "\n",
        "print(Eigen)\n",
        "print(EigenJ)"
      ]
    },
    {
      "cell_type": "code",
      "execution_count": null,
      "metadata": {
        "colab": {
          "base_uri": "https://localhost:8080/"
        },
        "id": "8zgmuMelTM4s",
        "outputId": "64b013ab-062f-4b6a-8ead-6ff6d27a41e4"
      },
      "outputs": [
        {
          "output_type": "stream",
          "name": "stdout",
          "text": [
            "0.1457084706124347 0.03840068761872804\n"
          ]
        }
      ],
      "source": [
        "print(Eigen[0]/EigenJ[0],Eigen[1]/EigenJ[1])"
      ]
    },
    {
      "cell_type": "code",
      "execution_count": null,
      "metadata": {
        "id": "Dr_E0UhsEVgC"
      },
      "outputs": [],
      "source": [
        ""
      ]
    },
    {
      "cell_type": "code",
      "execution_count": null,
      "metadata": {
        "id": "Yuxd2gN5EVgC"
      },
      "outputs": [],
      "source": [
        ""
      ]
    },
    {
      "cell_type": "code",
      "execution_count": null,
      "metadata": {
        "id": "RDt-c-q8EVgC"
      },
      "outputs": [],
      "source": [
        ""
      ]
    },
    {
      "cell_type": "code",
      "execution_count": null,
      "metadata": {
        "id": "vAqIRYL4EVgC"
      },
      "outputs": [],
      "source": [
        ""
      ]
    },
    {
      "cell_type": "code",
      "execution_count": null,
      "metadata": {
        "id": "aSEg1d-yEVgC"
      },
      "outputs": [],
      "source": [
        ""
      ]
    },
    {
      "cell_type": "code",
      "execution_count": null,
      "metadata": {
        "id": "CdXeliESTM69"
      },
      "outputs": [],
      "source": [
        ""
      ]
    },
    {
      "cell_type": "markdown",
      "metadata": {
        "id": "0tMVAjS7TM91"
      },
      "source": [
        "# Finishes here"
      ]
    },
    {
      "cell_type": "code",
      "execution_count": null,
      "metadata": {
        "id": "VtTKlhE1TNAb"
      },
      "outputs": [],
      "source": [
        ""
      ]
    },
    {
      "cell_type": "code",
      "execution_count": null,
      "metadata": {
        "id": "F1a1nbNuTNEC"
      },
      "outputs": [],
      "source": [
        ""
      ]
    },
    {
      "cell_type": "code",
      "execution_count": null,
      "metadata": {
        "id": "ewhS0lzYSfRS"
      },
      "outputs": [],
      "source": [
        ""
      ]
    },
    {
      "cell_type": "code",
      "execution_count": null,
      "metadata": {
        "id": "suGa33U8SfRT"
      },
      "outputs": [],
      "source": [
        ""
      ]
    },
    {
      "cell_type": "code",
      "execution_count": null,
      "metadata": {
        "id": "qLxJgO_HSfRT"
      },
      "outputs": [],
      "source": [
        ""
      ]
    },
    {
      "cell_type": "code",
      "execution_count": null,
      "metadata": {
        "id": "tUigCnEESfRT"
      },
      "outputs": [],
      "source": [
        ""
      ]
    },
    {
      "cell_type": "code",
      "execution_count": null,
      "metadata": {
        "id": "Q3XNmPZMSfRT"
      },
      "outputs": [],
      "source": [
        ""
      ]
    },
    {
      "cell_type": "code",
      "execution_count": null,
      "metadata": {
        "id": "Dz0CoEci6Xfe"
      },
      "outputs": [],
      "source": [
        ""
      ]
    },
    {
      "cell_type": "code",
      "execution_count": null,
      "metadata": {
        "id": "KCMLteAA6Xfe"
      },
      "outputs": [],
      "source": [
        ""
      ]
    },
    {
      "cell_type": "code",
      "execution_count": null,
      "metadata": {
        "id": "nlobqOBQ6Xfe"
      },
      "outputs": [],
      "source": [
        ""
      ]
    },
    {
      "cell_type": "code",
      "execution_count": null,
      "metadata": {
        "id": "79KHJPWH6Xfe"
      },
      "outputs": [],
      "source": [
        ""
      ]
    },
    {
      "cell_type": "code",
      "execution_count": null,
      "metadata": {
        "id": "KbeE_gX9I0fJ",
        "outputId": "4b07b05b-7416-467f-b309-f69b521ecc08"
      },
      "outputs": [
        {
          "ename": "NameError",
          "evalue": "name 'Result_varTWA_Col_SDE_SH' is not defined",
          "output_type": "error",
          "traceback": [
            "\u001b[1;31m---------------------------------------------------------------------------\u001b[0m",
            "\u001b[1;31mNameError\u001b[0m                                 Traceback (most recent call last)",
            "\u001b[1;32m<ipython-input-72-8beb1386cb68>\u001b[0m in \u001b[0;36m<module>\u001b[1;34m\u001b[0m\n\u001b[0;32m     18\u001b[0m \u001b[1;33m\u001b[0m\u001b[0m\n\u001b[0;32m     19\u001b[0m \u001b[1;31m#plt.plot(t*GammaR,A[0][index],label=\"NE sparse\")\u001b[0m\u001b[1;33m\u001b[0m\u001b[1;33m\u001b[0m\u001b[1;33m\u001b[0m\u001b[0m\n\u001b[1;32m---> 20\u001b[1;33m \u001b[0mplt\u001b[0m\u001b[1;33m.\u001b[0m\u001b[0mplot\u001b[0m\u001b[1;33m(\u001b[0m\u001b[0mN\u001b[0m\u001b[1;33m*\u001b[0m\u001b[0mtime_alt\u001b[0m\u001b[1;33m*\u001b[0m\u001b[0mGammaR\u001b[0m\u001b[1;33m,\u001b[0m\u001b[0mResult_varTWA_Col_SDE_SH\u001b[0m\u001b[1;33m[\u001b[0m\u001b[1;33m:\u001b[0m\u001b[1;33m,\u001b[0m\u001b[0mindex\u001b[0m\u001b[1;33m]\u001b[0m\u001b[1;33m/\u001b[0m\u001b[0msqrt\u001b[0m\u001b[1;33m(\u001b[0m\u001b[1;36m2\u001b[0m\u001b[1;33m)\u001b[0m\u001b[1;33m,\u001b[0m\u001b[0mlabel\u001b[0m\u001b[1;33m=\u001b[0m\u001b[1;34m\"DisColTWA SH\"\u001b[0m\u001b[1;33m)\u001b[0m\u001b[1;33m\u001b[0m\u001b[1;33m\u001b[0m\u001b[0m\n\u001b[0m\u001b[0;32m     21\u001b[0m \u001b[1;33m\u001b[0m\u001b[0m\n\u001b[0;32m     22\u001b[0m \u001b[0mplt\u001b[0m\u001b[1;33m.\u001b[0m\u001b[0mplot\u001b[0m\u001b[1;33m(\u001b[0m\u001b[0mN\u001b[0m\u001b[1;33m*\u001b[0m\u001b[0mtime_alt\u001b[0m\u001b[1;33m*\u001b[0m\u001b[0mGammaR\u001b[0m\u001b[1;33m,\u001b[0m\u001b[0mResult_varTWA_Col_SDE\u001b[0m\u001b[1;33m[\u001b[0m\u001b[1;33m:\u001b[0m\u001b[1;33m,\u001b[0m\u001b[0mindex\u001b[0m\u001b[1;33m]\u001b[0m\u001b[1;33m/\u001b[0m\u001b[0msqrt\u001b[0m\u001b[1;33m(\u001b[0m\u001b[1;36m2\u001b[0m\u001b[1;33m)\u001b[0m\u001b[1;33m,\u001b[0m\u001b[0mlabel\u001b[0m\u001b[1;33m=\u001b[0m\u001b[1;34m\"DisColTWA EM\"\u001b[0m\u001b[1;33m)\u001b[0m\u001b[1;33m\u001b[0m\u001b[1;33m\u001b[0m\u001b[0m\n",
            "\u001b[1;31mNameError\u001b[0m: name 'Result_varTWA_Col_SDE_SH' is not defined"
          ]
        },
        {
          "data": {
            "image/png": "[encoded data removed]",
            "text/plain": [
              "<Figure size 936x662.4 with 1 Axes>"
            ]
          },
          "metadata": {
            "needs_background": "light"
          },
          "output_type": "display_data"
        }
      ],
      "source": [
        "\n",
        "\n",
        "\n",
        "\n",
        "matplotlib.rcParams['figure.figsize'] = (13.0, 9.2)\n",
        "\n",
        "\n",
        "plt.title(r'Quantum Evolution of $\\langle S_{x} \\rangle (t)$', fontsize = label_size)\n",
        "plt.xlabel(r'$N\\Gamma_R t$', fontsize = label_size)\n",
        "#plt.ylabel(r'$\\langle a^\\dagger a\\rangle(t)$', fontsize = label_size)\n",
        "plt.ylabel(r'$\\langle S_{x} \\rangle(t)$', fontsize = label_size)\n",
        "\n",
        "\n",
        "\n",
        "\n",
        "\n",
        "\n",
        "reductor=1000\n",
        "index=0\n",
        "\n",
        "label_size = 20\n",
        "\n",
        "#plt.plot(t*GammaR,A[0][index],label=\"NE sparse\")\n",
        "plt.plot(N*time_alt*GammaR,Result_varTWA_Col_SDE_SH[:,index]/sqrt(2),label=\"DisColTWA SH\")\n",
        "\n",
        "plt.plot(N*time_alt*GammaR,Result_varTWA_Col_SDE[:,index]/sqrt(2),label=\"DisColTWA EM\")\n",
        "\n",
        "plt.plot(N*time_alt*GammaR,Result_var_Col_TWA[:,index]/sqrt(2),label=\"TWA\")\n",
        "\n",
        "plt.plot(N*time_alt*GammaR,Mean_field_res[:,index]/sqrt(2),label=\"MF\")\n",
        "\n",
        "\n",
        "\n",
        "\n",
        "plt.legend()"
      ]
    },
    {
      "cell_type": "code",
      "execution_count": null,
      "metadata": {
        "id": "e0ZOEj62I0hc"
      },
      "outputs": [],
      "source": [
        "\n",
        "matplotlib.rcParams['figure.figsize'] = (13.0, 9.2)\n",
        "\n",
        "\n",
        "plt.title(r'Quantum Evolution of $\\langle S_{y} \\rangle (t)$', fontsize = label_size)\n",
        "plt.xlabel(r'$N\\Gamma_R t$', fontsize = label_size)\n",
        "#plt.ylabel(r'$\\langle a^\\dagger a\\rangle(t)$', fontsize = label_size)\n",
        "plt.ylabel(r'$\\langle S_{y} \\rangle(t)$', fontsize = label_size)\n",
        "\n",
        "\n",
        "\n",
        "\n",
        "\n",
        "\n",
        "reductor=1000\n",
        "index=1\n",
        "\n",
        "label_size = 20\n",
        "\n",
        "#plt.plot(t*GammaR,A[0][index],label=\"NE sparse\")\n",
        "plt.plot(N*time_alt*GammaR,Result_varTWA_Col_SDE_SH[:,index]/sqrt(2),label=\"DisColTWA SH\")\n",
        "\n",
        "plt.plot(N*time_alt*GammaR,Result_varTWA_Col_SDE[:,index]/sqrt(2),label=\"DisColTWA EM\")\n",
        "\n",
        "plt.plot(N*time_alt*GammaR,Result_var_Col_TWA[:,index]/sqrt(2),label=\"TWA\")\n",
        "\n",
        "plt.plot(N*time_alt*GammaR,Mean_field_res[:,index]/sqrt(2),label=\"MF\")\n",
        "\n",
        "\n",
        "\n",
        "\n",
        "\n",
        "plt.legend()"
      ]
    },
    {
      "cell_type": "code",
      "execution_count": null,
      "metadata": {
        "id": "43qic7s36Xfg"
      },
      "outputs": [],
      "source": [
        ""
      ]
    },
    {
      "cell_type": "code",
      "execution_count": null,
      "metadata": {
        "id": "oDu6WFdi6Xfg"
      },
      "outputs": [],
      "source": [
        "\n",
        "matplotlib.rcParams['figure.figsize'] = (13.0, 9.2)\n",
        "\n",
        "\n",
        "plt.title(r'Quantum Evolution of $\\langle S_{z} \\rangle (t)$', fontsize = label_size)\n",
        "plt.xlabel(r'$N\\Gamma_R t$', fontsize = label_size)\n",
        "#plt.ylabel(r'$\\langle a^\\dagger a\\rangle(t)$', fontsize = label_size)\n",
        "plt.ylabel(r'$\\langle S_{z} \\rangle(t)$', fontsize = label_size)\n",
        "\n",
        "\n",
        "\n",
        "\n",
        "\n",
        "\n",
        "reductor=1000\n",
        "index=2\n",
        "\n",
        "label_size = 20\n",
        "\n",
        "#plt.plot(t*GammaR,A[0][index],label=\"NE sparse\")\n",
        "plt.plot(N*time_alt*GammaR,Result_varTWA_Col_SDE_SH[:,index]/sqrt(2),label=\"DisColTWA SH\")\n",
        "\n",
        "plt.plot(N*time_alt*GammaR,Result_varTWA_Col_SDE[:,index]/sqrt(2),label=\"DisColTWA EM\")\n",
        "\n",
        "plt.plot(N*time_alt*GammaR,Result_var_Col_TWA[:,index]/sqrt(2),label=\"TWA\")\n",
        "\n",
        "plt.plot(N*time_alt*GammaR,Mean_field_res[:,index]/sqrt(2),label=\"MF\")\n",
        "\n",
        "\n",
        "\n",
        "\n",
        "\n",
        "plt.legend()"
      ]
    },
    {
      "cell_type": "code",
      "execution_count": null,
      "metadata": {
        "id": "l4Ercw776Xfg"
      },
      "outputs": [],
      "source": [
        ""
      ]
    },
    {
      "cell_type": "code",
      "execution_count": null,
      "metadata": {
        "id": "dZMoPR966Xfg"
      },
      "outputs": [],
      "source": [
        "\n",
        "matplotlib.rcParams['figure.figsize'] = (13.0, 9.2)\n",
        "\n",
        "\n",
        "plt.title(r'Quantum Evolution of $\\langle a_x \\rangle (t)$', fontsize = label_size)\n",
        "plt.xlabel(r'$N\\Gamma_R t$', fontsize = label_size)\n",
        "#plt.ylabel(r'$\\langle a^\\dagger a\\rangle(t)$', fontsize = label_size)\n",
        "plt.ylabel(r'$\\langle a_x \\rangle(t)$', fontsize = label_size)\n",
        "\n",
        "\n",
        "\n",
        "\n",
        "\n",
        "\n",
        "reductor=1000\n",
        "index=3\n",
        "\n",
        "label_size = 20\n",
        "\n",
        "#plt.plot(t*GammaR,A[0][index],label=\"NE sparse\")\n",
        "plt.plot(N*time_alt*GammaR,Result_varTWA_Col_SDE_SH[:,index]/sqrt(1),label=\"DisColTWA SH\")\n",
        "\n",
        "plt.plot(N*time_alt*GammaR,Result_varTWA_Col_SDE[:,index]/sqrt(1),label=\"DisColTWA EM\")\n",
        "\n",
        "plt.plot(N*time_alt*GammaR,Result_var_Col_TWA[:,index]/sqrt(1),label=\"TWA\")\n",
        "\n",
        "plt.plot(N*time_alt*GammaR,Mean_field_res[:,index]/sqrt(1),label=\"MF\")\n",
        "\n",
        "\n",
        "\n",
        "\n",
        "\n",
        "plt.legend()"
      ]
    },
    {
      "cell_type": "code",
      "execution_count": null,
      "metadata": {
        "id": "vvXCw2Yo6Xfh"
      },
      "outputs": [],
      "source": [
        ""
      ]
    },
    {
      "cell_type": "code",
      "execution_count": null,
      "metadata": {
        "id": "aXxcFcDf6Xfh"
      },
      "outputs": [],
      "source": [
        "\n",
        "matplotlib.rcParams['figure.figsize'] = (13.0, 9.2)\n",
        "\n",
        "\n",
        "plt.title(r'Quantum Evolution of $\\langle a_y \\rangle (t)$', fontsize = label_size)\n",
        "plt.xlabel(r'$N\\Gamma_R t$', fontsize = label_size)\n",
        "#plt.ylabel(r'$\\langle a^\\dagger a\\rangle(t)$', fontsize = label_size)\n",
        "plt.ylabel(r'$\\langle a_y \\rangle(t)$', fontsize = label_size)\n",
        "\n",
        "\n",
        "\n",
        "\n",
        "\n",
        "\n",
        "reductor=1000\n",
        "index=4\n",
        "\n",
        "label_size = 20\n",
        "\n",
        "#plt.plot(t*GammaR,A[0][index],label=\"NE sparse\")\n",
        "plt.plot(N*time_alt*GammaR,Result_varTWA_Col_SDE_SH[:,index]/sqrt(1),label=\"DisColTWA SH\")\n",
        "\n",
        "plt.plot(N*time_alt*GammaR,Result_varTWA_Col_SDE[:,index]/sqrt(1),label=\"DisColTWA EM\")\n",
        "\n",
        "plt.plot(N*time_alt*GammaR,Result_var_Col_TWA[:,index]/sqrt(1),label=\"TWA\")\n",
        "\n",
        "plt.plot(N*time_alt*GammaR,Mean_field_res[:,index]/sqrt(1),label=\"MF\")\n",
        "\n",
        "\n",
        "\n",
        "\n",
        "\n",
        "plt.legend()"
      ]
    },
    {
      "cell_type": "code",
      "execution_count": null,
      "metadata": {
        "id": "-G3Y-1Ze6Xfh"
      },
      "outputs": [],
      "source": [
        ""
      ]
    },
    {
      "cell_type": "code",
      "execution_count": null,
      "metadata": {
        "id": "-3KLh7yb6Xfi"
      },
      "outputs": [],
      "source": [
        ""
      ]
    },
    {
      "cell_type": "code",
      "execution_count": null,
      "metadata": {
        "id": "hGdSt03h6Xfi"
      },
      "outputs": [],
      "source": [
        ""
      ]
    },
    {
      "cell_type": "code",
      "execution_count": null,
      "metadata": {
        "id": "F_zm7RdJ6Xfi"
      },
      "outputs": [],
      "source": [
        ""
      ]
    },
    {
      "cell_type": "code",
      "execution_count": null,
      "metadata": {
        "id": "j2hMXa1A6Xfi"
      },
      "outputs": [],
      "source": [
        ""
      ]
    },
    {
      "cell_type": "code",
      "execution_count": null,
      "metadata": {
        "id": "1baXZoxe6Xfi"
      },
      "outputs": [],
      "source": [
        ""
      ]
    },
    {
      "cell_type": "code",
      "execution_count": null,
      "metadata": {
        "id": "MH_rKRJu6Xfi"
      },
      "outputs": [],
      "source": [
        ""
      ]
    },
    {
      "cell_type": "code",
      "execution_count": null,
      "metadata": {
        "id": "cx1rrSR56Xfi"
      },
      "outputs": [],
      "source": [
        ""
      ]
    },
    {
      "cell_type": "code",
      "execution_count": null,
      "metadata": {
        "id": "_xqKuj-D6Xfj"
      },
      "outputs": [],
      "source": [
        ""
      ]
    },
    {
      "cell_type": "code",
      "execution_count": null,
      "metadata": {
        "id": "4j_9xWZa6Xfj"
      },
      "outputs": [],
      "source": [
        ""
      ]
    },
    {
      "cell_type": "code",
      "execution_count": null,
      "metadata": {
        "id": "UmWHT_KY6Xfj"
      },
      "outputs": [],
      "source": [
        ""
      ]
    },
    {
      "cell_type": "code",
      "execution_count": null,
      "metadata": {
        "id": "EVAGzUk06Xfj"
      },
      "outputs": [],
      "source": [
        ""
      ]
    },
    {
      "cell_type": "code",
      "execution_count": null,
      "metadata": {
        "id": "oLXYAEfR6Xfj"
      },
      "outputs": [],
      "source": [
        ""
      ]
    },
    {
      "cell_type": "code",
      "execution_count": null,
      "metadata": {
        "id": "DF58O32N6Xfj"
      },
      "outputs": [],
      "source": [
        "\n",
        "\n",
        "\n",
        "\n",
        "matplotlib.rcParams['figure.figsize'] = (13.0, 9.2)\n",
        "\n",
        "\n",
        "plt.title(r'Quantum Evolution of $\\langle S_{01,x} \\rangle (t)$', fontsize = label_size)\n",
        "plt.xlabel(r'$\\Gamma_R t$', fontsize = label_size)\n",
        "#plt.ylabel(r'$\\langle a^\\dagger a\\rangle(t)$', fontsize = label_size)\n",
        "plt.ylabel(r'$\\langle S_{01,x} \\rangle(t)$', fontsize = label_size)\n",
        "\n",
        "\n",
        "\n",
        "\n",
        "\n",
        "\n",
        "reductor=1000\n",
        "index=1\n",
        "\n",
        "label_size = 20\n",
        "\n",
        "#plt.plot(t*GammaR,A[0][index],label=\"NE sparse\")\n",
        "plt.plot(time_alt*GammaR,Result_varTWA_Col_SDE_SH[:,index]/sqrt(2),label=\"DisColTWA SH\")\n",
        "\n",
        "plt.plot(time_alt*GammaR,Result_varTWA_Col_SDE[:,index]/sqrt(2),label=\"DisColTWA EM\")\n",
        "\n",
        "plt.plot(time_alt*GammaR,Result_var_Col_TWA[:,index]/sqrt(2),label=\"TWA\")\n",
        "\n",
        "plt.plot(time_alt*GammaR,Mean_field_res[:,index]/sqrt(2),label=\"MF\")\n",
        "\n",
        "\n",
        "\n",
        "\n",
        "\n",
        "plt.legend()"
      ]
    },
    {
      "cell_type": "code",
      "execution_count": null,
      "metadata": {
        "id": "Wj9HsFpB6Xfk"
      },
      "outputs": [],
      "source": [
        ""
      ]
    },
    {
      "cell_type": "code",
      "execution_count": null,
      "metadata": {
        "id": "rxfXL4636Xfk"
      },
      "outputs": [],
      "source": [
        ""
      ]
    },
    {
      "cell_type": "code",
      "execution_count": null,
      "metadata": {
        "id": "EQnbVX5G6Xfk"
      },
      "outputs": [],
      "source": [
        ""
      ]
    },
    {
      "cell_type": "markdown",
      "metadata": {
        "id": "F0UGijD30L2L"
      },
      "source": [
        "## Angle dynamics"
      ]
    },
    {
      "cell_type": "code",
      "execution_count": null,
      "metadata": {
        "id": "B1OiQHFxI0pf"
      },
      "outputs": [],
      "source": [
        "import math\n",
        "\n",
        "\n",
        "def arctan_array(x_array,y_array):\n",
        "    \n",
        "    Resu_arc=[]\n",
        "    \n",
        "    for j in range(len(x_array)):\n",
        "        if y_array[j]==0 and x_array[j]==0:\n",
        "            Resu_arc.append(0)\n",
        "        else:\n",
        "            Resu_arc.append(math.atan2(y_array[j],x_array[j]))\n",
        "    \n",
        "    return Resu_arc"
      ]
    },
    {
      "cell_type": "code",
      "execution_count": null,
      "metadata": {
        "id": "lLju85fUKkLX"
      },
      "outputs": [],
      "source": [
        ""
      ]
    },
    {
      "cell_type": "code",
      "execution_count": null,
      "metadata": {
        "id": "B-a64Ux7KkOT"
      },
      "outputs": [],
      "source": [
        "np.round(7.0098)"
      ]
    },
    {
      "cell_type": "code",
      "execution_count": null,
      "metadata": {
        "id": "Aqz8hH_oKkQx"
      },
      "outputs": [],
      "source": [
        ""
      ]
    },
    {
      "cell_type": "code",
      "execution_count": null,
      "metadata": {
        "id": "DLVJyoiGKkTQ"
      },
      "outputs": [],
      "source": [
        ""
      ]
    },
    {
      "cell_type": "code",
      "execution_count": null,
      "metadata": {
        "id": "-7S-123AI0sN"
      },
      "outputs": [],
      "source": [
        "index=0\n",
        "\n",
        "decimals=2\n",
        "\n",
        "plt.title('Angle $\\\\theta_{01,+}$')\n",
        "\n",
        "yeNE=np.around(A[1][index],decimals=decimals)\n",
        "xeNE=np.around(A[0][index],decimals=decimals)\n",
        "\n",
        "#yeSH=np.around(Result_varTWA_Col_SDE_SH[:,index+6]/sqrt(2),decimals=decimals)\n",
        "#xeSH=np.around(Result_varTWA_Col_SDE_SH[:,index]/sqrt(2),decimals=decimals)\n",
        "\n",
        "#yeEM=np.around(Result_varTWA_Col_SDE[:,index+6]/sqrt(2),decimals=decimals)\n",
        "#xeEM=np.around(Result_varTWA_Col_SDE[:,index]/sqrt(2),decimals=decimals)\n",
        "\n",
        "#yeTWA=np.around(Result_var_Col_TWA[:,index+6]/sqrt(2),decimals=decimals)\n",
        "#xeTWA=np.around(Result_var_Col_TWA[:,index]/sqrt(2),decimals=decimals)\n",
        "\n",
        "#yeMF=np.around(Mean_field_res[6+index,:]/sqrt(2),decimals=decimals)\n",
        "#xeMF=np.around(Mean_field_res[index,:]/sqrt(2),decimals=decimals)\n",
        "\n",
        "\n",
        "plt.plot(t*GammaR,np.cos(arctan_array(xeNE ,yeNE)),label=\"NE sparse\")\n",
        "#plt.plot(time_alt*GammaR,np.cos(arctan_array(xeSH ,yeSH)),label=' SH')\n",
        "#plt.plot(time_alt*GammaR,np.cos(arctan_array(xeEM ,yeEM)),label=' EM')\n",
        "#plt.plot(time_alt*GammaR,np.cos(arctan_array(xeTWA,yeTWA)),label=' TWA')\n",
        "#plt.plot(t_mf*GammaR,np.cos(arctan_array(xeMF,yeMF)),label=' MF')\n",
        "#plt.plot(time_alt,arctan_array(yeMF,xeMF),label='Angle $\\\\theta_{01,x}$ SH')\n",
        "#print(np.cos(arctan_array(xeNE ,yeNE))[0],np.cos(arctan_array(xeNE ,yeNE))[-1])\n",
        "\n",
        "plt.legend()"
      ]
    },
    {
      "cell_type": "code",
      "execution_count": null,
      "metadata": {
        "id": "US9deOjtI0u4"
      },
      "outputs": [],
      "source": [
        ""
      ]
    },
    {
      "cell_type": "code",
      "execution_count": null,
      "metadata": {
        "id": "AQfPhyp1qbNj"
      },
      "outputs": [],
      "source": [
        "index=1\n",
        "\n",
        "decimals=2\n",
        "\n",
        "plt.title('Angle $\\\\theta_{02,+}$')\n",
        "\n",
        "yeNE=np.around(A[1][index],decimals=decimals)\n",
        "xeNE=np.around(A[0][index],decimals=decimals)\n",
        "\n",
        "yeSH=np.around(Result_varTWA_Col_SDE_SH[:,index+6]/sqrt(2),decimals=decimals)\n",
        "xeSH=np.around(Result_varTWA_Col_SDE_SH[:,index]/sqrt(2),decimals=decimals)\n",
        "\n",
        "yeEM=np.around(Result_varTWA_Col_SDE[:,index+6]/sqrt(2),decimals=decimals)\n",
        "xeEM=np.around(Result_varTWA_Col_SDE[:,index]/sqrt(2),decimals=decimals)\n",
        "\n",
        "yeTWA=np.around(Result_var_Col_TWA[:,index+6]/sqrt(2),decimals=decimals)\n",
        "xeTWA=np.around(Result_var_Col_TWA[:,index]/sqrt(2),decimals=decimals)\n",
        "\n",
        "yeMF=np.around(Mean_field_res[6+index,:]/sqrt(2),decimals=decimals)\n",
        "xeMF=np.around(Mean_field_res[index,:]/sqrt(2),decimals=decimals)\n",
        "\n",
        "\n",
        "plt.plot(t*GammaR,np.cos(arctan_array(xeNE ,yeNE)),label=\"NE sparse\")\n",
        "plt.plot(time_alt*GammaR,np.cos(arctan_array(xeSH ,yeSH)),label=' SH')\n",
        "plt.plot(time_alt*GammaR,np.cos(arctan_array(xeEM ,yeEM)),label=' EM')\n",
        "plt.plot(time_alt*GammaR,np.cos(arctan_array(xeTWA,yeTWA)),label=' TWA')\n",
        "plt.plot(t_mf*GammaR,np.cos(arctan_array(xeMF,yeMF)),label=' MF')\n",
        "#plt.plot(time_alt,arctan_array(yeMF,xeMF),label='Angle $\\\\theta_{01,x}$ SH')\n",
        "\n",
        "print(np.cos(arctan_array(xeNE ,yeNE))[0],np.cos(arctan_array(xeNE ,yeNE))[-1])\n",
        "\n",
        "plt.legend()"
      ]
    },
    {
      "cell_type": "code",
      "execution_count": null,
      "metadata": {
        "id": "21ZMynX5qbRm"
      },
      "outputs": [],
      "source": [
        ""
      ]
    },
    {
      "cell_type": "code",
      "execution_count": null,
      "metadata": {
        "id": "15h794KAqbVA"
      },
      "outputs": [],
      "source": [
        "index=2\n",
        "\n",
        "decimals=2\n",
        "\n",
        "plt.title('Angle $\\\\theta_{03,+}$')\n",
        "\n",
        "yeNE=np.around(A[1][index],decimals=decimals)\n",
        "xeNE=np.around(A[0][index],decimals=decimals)\n",
        "\n",
        "yeSH=np.around(Result_varTWA_Col_SDE_SH[:,index+6]/sqrt(2),decimals=decimals)\n",
        "xeSH=np.around(Result_varTWA_Col_SDE_SH[:,index]/sqrt(2),decimals=decimals)\n",
        "\n",
        "yeEM=np.around(Result_varTWA_Col_SDE[:,index+6]/sqrt(2),decimals=decimals)\n",
        "xeEM=np.around(Result_varTWA_Col_SDE[:,index]/sqrt(2),decimals=decimals)\n",
        "\n",
        "yeTWA=np.around(Result_var_Col_TWA[:,index+6]/sqrt(2),decimals=decimals)\n",
        "xeTWA=np.around(Result_var_Col_TWA[:,index]/sqrt(2),decimals=decimals)\n",
        "\n",
        "yeMF=np.around(Mean_field_res[6+index,:]/sqrt(2),decimals=decimals)\n",
        "xeMF=np.around(Mean_field_res[index,:]/sqrt(2),decimals=decimals)\n",
        "\n",
        "\n",
        "plt.plot(t*GammaR,np.cos(arctan_array(xeNE ,yeNE)),label=\"NE sparse\")\n",
        "plt.plot(time_alt*GammaR,np.cos(arctan_array(xeSH ,yeSH)),label=' SH')\n",
        "plt.plot(time_alt*GammaR,np.cos(arctan_array(xeEM ,yeEM)),label=' EM')\n",
        "plt.plot(time_alt*GammaR,np.cos(arctan_array(xeTWA,yeTWA)),label=' TWA')\n",
        "plt.plot(t_mf*GammaR,np.cos(arctan_array(xeMF,yeMF)),label=' MF')\n",
        "#plt.plot(time_alt,arctan_array(yeMF,xeMF),label='Angle $\\\\theta_{01,x}$ SH')\n",
        "print(np.cos(arctan_array(xeNE ,yeNE))[0],np.cos(arctan_array(xeNE ,yeNE))[-1])\n",
        "\n",
        "\n",
        "plt.legend()"
      ]
    },
    {
      "cell_type": "code",
      "execution_count": null,
      "metadata": {
        "id": "TOBVHcN4qbZH"
      },
      "outputs": [],
      "source": [
        ""
      ]
    },
    {
      "cell_type": "code",
      "execution_count": null,
      "metadata": {
        "id": "i8lxbUqVqbcx"
      },
      "outputs": [],
      "source": [
        "index=3\n",
        "\n",
        "decimals=2\n",
        "\n",
        "plt.title('Angle $\\\\theta_{12,+}$')\n",
        "\n",
        "yeNE=np.around(A[1][index],decimals=decimals)\n",
        "xeNE=np.around(A[0][index],decimals=decimals)\n",
        "\n",
        "yeSH=np.around(Result_varTWA_Col_SDE_SH[:,index+6]/sqrt(2),decimals=decimals)\n",
        "xeSH=np.around(Result_varTWA_Col_SDE_SH[:,index]/sqrt(2),decimals=decimals)\n",
        "\n",
        "yeEM=np.around(Result_varTWA_Col_SDE[:,index+6]/sqrt(2),decimals=decimals)\n",
        "xeEM=np.around(Result_varTWA_Col_SDE[:,index]/sqrt(2),decimals=decimals)\n",
        "\n",
        "yeTWA=np.around(Result_var_Col_TWA[:,index+6]/sqrt(2),decimals=decimals)\n",
        "xeTWA=np.around(Result_var_Col_TWA[:,index]/sqrt(2),decimals=decimals)\n",
        "\n",
        "yeMF=np.around(Mean_field_res[6+index,:]/sqrt(2),decimals=decimals)\n",
        "xeMF=np.around(Mean_field_res[index,:]/sqrt(2),decimals=decimals)\n",
        "\n",
        "\n",
        "plt.plot(t*GammaR,np.cos(arctan_array(xeNE ,yeNE)),label=\"NE sparse\")\n",
        "plt.plot(time_alt*GammaR,np.cos(arctan_array(xeSH ,yeSH)),label=' SH')\n",
        "plt.plot(time_alt*GammaR,np.cos(arctan_array(xeEM ,yeEM)),label=' EM')\n",
        "plt.plot(time_alt*GammaR,np.cos(arctan_array(xeTWA,yeTWA)),label=' TWA')\n",
        "plt.plot(t_mf*GammaR,np.cos(arctan_array(xeMF,yeMF)),label=' MF')\n",
        "#plt.plot(time_alt,arctan_array(yeMF,xeMF),label='Angle $\\\\theta_{01,x}$ SH')\n",
        "print(np.cos(arctan_array(xeNE ,yeNE))[0],np.cos(arctan_array(xeNE ,yeNE))[-1])\n",
        "\n",
        "\n",
        "plt.legend()"
      ]
    },
    {
      "cell_type": "code",
      "execution_count": null,
      "metadata": {
        "id": "SghTeZfxqbgX"
      },
      "outputs": [],
      "source": [
        ""
      ]
    },
    {
      "cell_type": "code",
      "execution_count": null,
      "metadata": {
        "id": "pNAQrV_Bqbj7"
      },
      "outputs": [],
      "source": [
        "index=4\n",
        "\n",
        "decimals=2\n",
        "\n",
        "plt.title('Angle $\\\\theta_{13,+}$')\n",
        "\n",
        "yeNE=np.around(A[1][index],decimals=decimals)\n",
        "xeNE=np.around(A[0][index],decimals=decimals)\n",
        "\n",
        "yeSH=np.around(Result_varTWA_Col_SDE_SH[:,index+6]/sqrt(2),decimals=decimals)\n",
        "xeSH=np.around(Result_varTWA_Col_SDE_SH[:,index]/sqrt(2),decimals=decimals)\n",
        "\n",
        "yeEM=np.around(Result_varTWA_Col_SDE[:,index+6]/sqrt(2),decimals=decimals)\n",
        "xeEM=np.around(Result_varTWA_Col_SDE[:,index]/sqrt(2),decimals=decimals)\n",
        "\n",
        "yeTWA=np.around(Result_var_Col_TWA[:,index+6]/sqrt(2),decimals=decimals)\n",
        "xeTWA=np.around(Result_var_Col_TWA[:,index]/sqrt(2),decimals=decimals)\n",
        "\n",
        "yeMF=np.around(Mean_field_res[6+index,:]/sqrt(2),decimals=decimals)\n",
        "xeMF=np.around(Mean_field_res[index,:]/sqrt(2),decimals=decimals)\n",
        "\n",
        "\n",
        "plt.plot(t*GammaR,np.cos(arctan_array(xeNE ,yeNE)),label=\"NE sparse\")\n",
        "plt.plot(time_alt*GammaR,np.cos(arctan_array(xeSH ,yeSH)),label=' SH')\n",
        "plt.plot(time_alt*GammaR,np.cos(arctan_array(xeEM ,yeEM)),label=' EM')\n",
        "plt.plot(time_alt*GammaR,np.cos(arctan_array(xeTWA,yeTWA)),label=' TWA')\n",
        "plt.plot(t_mf*GammaR,np.cos(arctan_array(xeMF,yeMF)),label=' MF')\n",
        "#plt.plot(time_alt,arctan_array(yeMF,xeMF),label='Angle $\\\\theta_{01,x}$ SH')\n",
        "\n",
        "print(np.cos(arctan_array(xeNE ,yeNE))[0],np.cos(arctan_array(xeNE ,yeNE))[-1])\n",
        "plt.legend()"
      ]
    },
    {
      "cell_type": "code",
      "execution_count": null,
      "metadata": {
        "id": "5bCB2HD7qbnS"
      },
      "outputs": [],
      "source": [
        "index=5\n",
        "\n",
        "decimals=2\n",
        "\n",
        "plt.title('Angle $\\\\theta_{23,+}$')\n",
        "\n",
        "yeNE=np.around(A[1][index],decimals=decimals)\n",
        "xeNE=np.around(A[0][index],decimals=decimals)\n",
        "\n",
        "yeSH=np.around(Result_varTWA_Col_SDE_SH[:,index+6]/sqrt(2),decimals=decimals)\n",
        "xeSH=np.around(Result_varTWA_Col_SDE_SH[:,index]/sqrt(2),decimals=decimals)\n",
        "\n",
        "yeEM=np.around(Result_varTWA_Col_SDE[:,index+6]/sqrt(2),decimals=decimals)\n",
        "xeEM=np.around(Result_varTWA_Col_SDE[:,index]/sqrt(2),decimals=decimals)\n",
        "\n",
        "yeTWA=np.around(Result_var_Col_TWA[:,index+6]/sqrt(2),decimals=decimals)\n",
        "xeTWA=np.around(Result_var_Col_TWA[:,index]/sqrt(2),decimals=decimals)\n",
        "\n",
        "yeMF=np.around(Mean_field_res[6+index,:]/sqrt(2),decimals=decimals)\n",
        "xeMF=np.around(Mean_field_res[index,:]/sqrt(2),decimals=decimals)\n",
        "\n",
        "\n",
        "#plt.plot(t*GammaR,np.cos(arctan_array(xeNE ,yeNE)),label=\"NE sparse\")\n",
        "plt.plot(time_alt*GammaR,np.cos(arctan_array(xeSH ,yeSH)),label=' SH')\n",
        "plt.plot(time_alt*GammaR,np.cos(arctan_array(xeEM ,yeEM)),label=' EM')\n",
        "plt.plot(time_alt*GammaR,np.cos(arctan_array(xeTWA,yeTWA)),label=' TWA')\n",
        "plt.plot(t_mf*GammaR,np.cos(arctan_array(xeMF,yeMF)),label=' MF')\n",
        "#plt.plot(time_alt,arctan_array(yeMF,xeMF),label='Angle $\\\\theta_{01,x}$ SH')\n",
        "\n",
        "print(np.cos(arctan_array(xeNE ,yeNE))[0],np.cos(arctan_array(xeNE ,yeNE))[-1])\n",
        "plt.legend()"
      ]
    },
    {
      "cell_type": "code",
      "execution_count": null,
      "metadata": {
        "id": "k6E-Y1DDqbrK"
      },
      "outputs": [],
      "source": [
        ""
      ]
    },
    {
      "cell_type": "code",
      "execution_count": null,
      "metadata": {
        "id": "5eZZuenbqbu0"
      },
      "outputs": [],
      "source": [
        "index=0\n",
        "\n",
        "decimals=6\n",
        "\n",
        "plt.title('$S_{01,x}$')\n",
        "\n",
        "#yeNE=np.around(A[1][index],decimals=decimals)\n",
        "xeNE=np.around(A[0][index],decimals=decimals)\n",
        "\n",
        "#yeSH=np.around(Result_varTWA_Col_SDE_SH[:,index+6]/sqrt(2),decimals=decimals)\n",
        "xeSH=np.around(Result_varTWA_Col_SDE_SH[:,index]/sqrt(2),decimals=decimals)\n",
        "\n",
        "#yeEM=np.around(Result_varTWA_Col_SDE[:,index+6]/sqrt(2),decimals=decimals)\n",
        "xeEM=np.around(Result_varTWA_Col_SDE[:,index]/sqrt(2),decimals=decimals)\n",
        "\n",
        "#yeTWA=np.around(Result_var_Col_TWA[:,index+6]/sqrt(2),decimals=decimals)\n",
        "xeTWA=np.around(Result_var_Col_TWA[:,index]/sqrt(2),decimals=decimals)\n",
        "\n",
        "#yeMF=np.around(Mean_field_res[6+index,:]/sqrt(2),decimals=decimals)\n",
        "xeMF=np.around(Mean_field_res[index,:]/sqrt(2),decimals=decimals)\n",
        "\n",
        "\n",
        "#plt.plot(t*GammaR,np.cos(arctan_array(xeNE ,yeNE)),label=\"NE sparse\")\n",
        "plt.plot(time_alt*GammaR,np.cos(arctan_array(xeSH ,yeSH)),label=' SH')\n",
        "plt.plot(time_alt*GammaR,np.cos(arctan_array(xeEM ,yeEM)),label=' EM')\n",
        "plt.plot(time_alt*GammaR,np.cos(arctan_array(xeTWA,yeTWA)),label=' TWA')\n",
        "plt.plot(t_mf*GammaR,np.cos(arctan_array(xeMF,yeMF)),label=' MF')\n",
        "#plt.plot(time_alt,arctan_array(yeMF,xeMF),label='Angle $\\\\theta_{01,x}$ SH')\n",
        "\n",
        "print(np.cos(arctan_array(xeNE ,yeNE))[0],np.cos(arctan_array(xeNE ,yeNE))[-1])\n",
        "\n",
        "plt.legend()"
      ]
    },
    {
      "cell_type": "code",
      "execution_count": null,
      "metadata": {
        "id": "-lXpokuy6Xfw"
      },
      "outputs": [],
      "source": [
        ""
      ]
    },
    {
      "cell_type": "code",
      "execution_count": null,
      "metadata": {
        "id": "XfDV6ba56Xfw"
      },
      "outputs": [],
      "source": [
        "N"
      ]
    },
    {
      "cell_type": "code",
      "execution_count": null,
      "metadata": {
        "id": "O4NA2y5WqbyK"
      },
      "outputs": [],
      "source": [
        "index=0\n",
        "label_size = 20\n",
        "decimals=6\n",
        "\n",
        "#plt.title('Time Evolution of $S_{01,x}$', fontsize=25)\n",
        "\n",
        "\n",
        "plt.ylabel(r'$\\left\\langle G_{x} \\right\\rangle /N $', fontsize=25)\n",
        "\n",
        "\n",
        "#yeNE=np.around(A[1][index],decimals=decimals)\n",
        "xeNE=(1/N)*np.around(A[0][index],decimals=decimals)\n",
        "\n",
        "#yeSH=np.around(Result_varTWA_Col_SDE_SH[:,index+6]/sqrt(2),decimals=decimals)\n",
        "xeSH=np.around((1/N)*Result_varTWA_Col_SDE_SH[:,index]/sqrt(2),decimals=decimals)\n",
        "\n",
        "#yeEM=np.around(Result_varTWA_Col_SDE[:,index+6]/sqrt(2),decimals=decimals)\n",
        "xeEM=np.around((1/N)*Result_varTWA_Col_SDE[:,index]/sqrt(2),decimals=decimals)\n",
        "\n",
        "#yeTWA=np.around(Result_var_Col_TWA[:,index+6]/sqrt(2),decimals=decimals)\n",
        "xeTWA=np.around((1/N)*Result_var_Col_TWA[:,index]/sqrt(2),decimals=decimals)\n",
        "\n",
        "#yeMF=np.around(Mean_field_res[6+index,:]/sqrt(2),decimals=decimals)\n",
        "xeMF=np.around((1/N)*Mean_field_res[index,:]/sqrt(2),decimals=decimals)\n",
        "\n",
        "\n",
        "plt.plot(t*GammaR*N,xeNE ,label=' Exact')\n",
        "plt.xlabel('$N\\Gamma t$', fontsize=22)\n",
        "\n",
        "print(np.cos(arctan_array(xeNE ,yeNE))[0],np.cos(arctan_array(xeNE ,yeNE))[-1])\n",
        "\n",
        "\n",
        "plt.xticks(fontsize=20)\n",
        "plt.yticks(fontsize=20)\n",
        "\n",
        "plt.xlim(time_alt[0]*GammaR*N,time_alt[-1]*GammaR*N)\n",
        "plt.plot(time_alt*GammaR*N,xeSH,label=' DisTWA')\n",
        "#plt.plot(time_alt*GammaR,xeEM,label=' Euler-Maruyama')\n",
        "plt.plot(time_alt*GammaR*N,xeTWA,label=' TWA')\n",
        "plt.plot(t_mf*GammaR*N,xeMF,label=' Mean-Field')\n",
        "#plt.plot(time_alt,arctan_array(yeMF,xeMF),label='Angle $\\\\theta_{01,x}$ SH')\n",
        "#plt.grid(color='k', linestyle='-', linewidth=0.2)\n",
        "\n",
        "plt.legend(fontsize=19)"
      ]
    },
    {
      "cell_type": "code",
      "execution_count": null,
      "metadata": {
        "id": "_5IjcBvG6Xfx"
      },
      "outputs": [],
      "source": [
        ""
      ]
    },
    {
      "cell_type": "code",
      "execution_count": null,
      "metadata": {
        "id": "Hrcz2Jhfqb1v"
      },
      "outputs": [],
      "source": [
        "index=1\n",
        "label_size = 20\n",
        "decimals=6\n",
        "\n",
        "plt.title('Time Evolution of $S_{02,x}$', fontsize=25)\n",
        "\n",
        "#yeNE=np.around(A[1][index],decimals=decimals)\n",
        "xeNE=np.around(A[0][index],decimals=decimals)\n",
        "\n",
        "#yeSH=np.around(Result_varTWA_Col_SDE_SH[:,index+6]/sqrt(2),decimals=decimals)\n",
        "xeSH=np.around(Result_varTWA_Col_SDE_SH[:,index]/sqrt(2),decimals=decimals)\n",
        "\n",
        "#yeEM=np.around(Result_varTWA_Col_SDE[:,index+6]/sqrt(2),decimals=decimals)\n",
        "xeEM=np.around(Result_varTWA_Col_SDE[:,index]/sqrt(2),decimals=decimals)\n",
        "\n",
        "#yeTWA=np.around(Result_var_Col_TWA[:,index+6]/sqrt(2),decimals=decimals)\n",
        "xeTWA=np.around(Result_var_Col_TWA[:,index]/sqrt(2),decimals=decimals)\n",
        "\n",
        "#yeMF=np.around(Mean_field_res[6+index,:]/sqrt(2),decimals=decimals)\n",
        "xeMF=np.around(Mean_field_res[index,:]/sqrt(2),decimals=decimals)\n",
        "\n",
        "\n",
        "plt.plot(t*GammaR,xeNE ,label=' Numerical Exact')\n",
        "plt.xlabel('$\\Gamma_{R}t$', fontsize=22)\n",
        "\n",
        "print(np.cos(arctan_array(xeNE ,yeNE))[0],np.cos(arctan_array(xeNE ,yeNE))[-1])\n",
        "\n",
        "plt.xlim(time_alt[0]*GammaR,time_alt[-1]*GammaR)\n",
        "plt.plot(time_alt*GammaR,xeSH,label=' Stratonovich-Heun')\n",
        "plt.plot(time_alt*GammaR,xeEM,label=' Euler-Maruyama')\n",
        "plt.plot(time_alt*GammaR,xeTWA,label=' TWA')\n",
        "plt.plot(t_mf*GammaR,xeMF,label=' Mean-Field')\n",
        "#plt.plot(time_alt,arctan_array(yeMF,xeMF),label='Angle $\\\\theta_{01,x}$ SH')\n",
        "plt.grid(color='k', linestyle='-', linewidth=0.2)\n",
        "\n",
        "plt.legend(fontsize=18)"
      ]
    },
    {
      "cell_type": "code",
      "execution_count": null,
      "metadata": {
        "id": "_E5q_HsTqb5C"
      },
      "outputs": [],
      "source": [
        ""
      ]
    },
    {
      "cell_type": "code",
      "execution_count": null,
      "metadata": {
        "id": "EDPguKwuqb8-"
      },
      "outputs": [],
      "source": [
        "index=2\n",
        "label_size = 20\n",
        "decimals=6\n",
        "\n",
        "plt.title('Time Evolution of $S_{03,x}$', fontsize=25)\n",
        "\n",
        "#yeNE=np.around(A[1][index],decimals=decimals)\n",
        "xeNE=np.around(A[0][index],decimals=decimals)\n",
        "\n",
        "#yeSH=np.around(Result_varTWA_Col_SDE_SH[:,index+6]/sqrt(2),decimals=decimals)\n",
        "xeSH=np.around(Result_varTWA_Col_SDE_SH[:,index]/sqrt(2),decimals=decimals)\n",
        "\n",
        "#yeEM=np.around(Result_varTWA_Col_SDE[:,index+6]/sqrt(2),decimals=decimals)\n",
        "xeEM=np.around(Result_varTWA_Col_SDE[:,index]/sqrt(2),decimals=decimals)\n",
        "\n",
        "#yeTWA=np.around(Result_var_Col_TWA[:,index+6]/sqrt(2),decimals=decimals)\n",
        "xeTWA=np.around(Result_var_Col_TWA[:,index]/sqrt(2),decimals=decimals)\n",
        "\n",
        "#yeMF=np.around(Mean_field_res[6+index,:]/sqrt(2),decimals=decimals)\n",
        "xeMF=np.around(Mean_field_res[index,:]/sqrt(2),decimals=decimals)\n",
        "\n",
        "\n",
        "plt.plot(t*GammaR,xeNE ,label=' Numerical Exact')\n",
        "plt.xlabel('$\\Gamma_{R}t$', fontsize=22)\n",
        "\n",
        "print(np.cos(arctan_array(xeNE ,yeNE))[0],np.cos(arctan_array(xeNE ,yeNE))[-1])\n",
        "\n",
        "plt.xlim(time_alt[0]*GammaR,time_alt[-1]*GammaR)\n",
        "plt.plot(time_alt*GammaR,xeSH,label=' Stratonovich-Heun')\n",
        "plt.plot(time_alt*GammaR,xeEM,label=' Euler-Maruyama')\n",
        "plt.plot(time_alt*GammaR,xeTWA,label=' TWA')\n",
        "plt.plot(t_mf*GammaR,xeMF,label=' Mean-Field')\n",
        "#plt.plot(time_alt,arctan_array(yeMF,xeMF),label='Angle $\\\\theta_{01,x}$ SH')\n",
        "plt.grid(color='k', linestyle='-', linewidth=0.2)\n",
        "\n",
        "plt.legend(fontsize=18)"
      ]
    },
    {
      "cell_type": "code",
      "execution_count": null,
      "metadata": {
        "id": "0rzwYAN7qcA7"
      },
      "outputs": [],
      "source": [
        ""
      ]
    },
    {
      "cell_type": "code",
      "execution_count": null,
      "metadata": {
        "id": "snf_tAg8qcEq"
      },
      "outputs": [],
      "source": [
        "index=3\n",
        "label_size = 20\n",
        "decimals=6\n",
        "\n",
        "plt.title('Time Evolution of $S_{12,x}$', fontsize=25)\n",
        "\n",
        "#yeNE=np.around(A[1][index],decimals=decimals)\n",
        "xeNE=np.around(A[0][index],decimals=decimals)\n",
        "\n",
        "#yeSH=np.around(Result_varTWA_Col_SDE_SH[:,index+6]/sqrt(2),decimals=decimals)\n",
        "xeSH=np.around(Result_varTWA_Col_SDE_SH[:,index]/sqrt(2),decimals=decimals)\n",
        "\n",
        "#yeEM=np.around(Result_varTWA_Col_SDE[:,index+6]/sqrt(2),decimals=decimals)\n",
        "xeEM=np.around(Result_varTWA_Col_SDE[:,index]/sqrt(2),decimals=decimals)\n",
        "\n",
        "#yeTWA=np.around(Result_var_Col_TWA[:,index+6]/sqrt(2),decimals=decimals)\n",
        "xeTWA=np.around(Result_var_Col_TWA[:,index]/sqrt(2),decimals=decimals)\n",
        "\n",
        "#yeMF=np.around(Mean_field_res[6+index,:]/sqrt(2),decimals=decimals)\n",
        "xeMF=np.around(Mean_field_res[index,:]/sqrt(2),decimals=decimals)\n",
        "\n",
        "\n",
        "plt.plot(t*GammaR,xeNE ,label=' Numerical Exact')\n",
        "plt.xlabel('$\\Gamma_{R}t$', fontsize=22)\n",
        "\n",
        "print(np.cos(arctan_array(xeNE ,yeNE))[0],np.cos(arctan_array(xeNE ,yeNE))[-1])\n",
        "\n",
        "plt.xlim(time_alt[0]*GammaR,time_alt[-1]*GammaR)\n",
        "plt.plot(time_alt*GammaR,xeSH,label=' Stratonovich-Heun')\n",
        "plt.plot(time_alt*GammaR,xeEM,label=' Euler-Maruyama')\n",
        "plt.plot(time_alt*GammaR,xeTWA,label=' TWA')\n",
        "plt.plot(t_mf*GammaR,xeMF,label=' Mean-Field')\n",
        "#plt.plot(time_alt,arctan_array(yeMF,xeMF),label='Angle $\\\\theta_{01,x}$ SH')\n",
        "plt.grid(color='k', linestyle='-', linewidth=0.2)\n",
        "\n",
        "plt.legend(fontsize=18)"
      ]
    },
    {
      "cell_type": "code",
      "execution_count": null,
      "metadata": {
        "id": "pemGP-X10B5l"
      },
      "outputs": [],
      "source": [
        ""
      ]
    },
    {
      "cell_type": "code",
      "execution_count": null,
      "metadata": {
        "id": "2vGMp8OM0B9D"
      },
      "outputs": [],
      "source": [
        "index=4\n",
        "label_size = 20\n",
        "decimals=6\n",
        "\n",
        "plt.title('Time Evolution of $S_{13,x}$', fontsize=25)\n",
        "\n",
        "#yeNE=np.around(A[1][index],decimals=decimals)\n",
        "xeNE=np.around(A[0][index],decimals=decimals)\n",
        "\n",
        "#yeSH=np.around(Result_varTWA_Col_SDE_SH[:,index+6]/sqrt(2),decimals=decimals)\n",
        "xeSH=np.around(Result_varTWA_Col_SDE_SH[:,index]/sqrt(2),decimals=decimals)\n",
        "\n",
        "#yeEM=np.around(Result_varTWA_Col_SDE[:,index+6]/sqrt(2),decimals=decimals)\n",
        "xeEM=np.around(Result_varTWA_Col_SDE[:,index]/sqrt(2),decimals=decimals)\n",
        "\n",
        "#yeTWA=np.around(Result_var_Col_TWA[:,index+6]/sqrt(2),decimals=decimals)\n",
        "xeTWA=np.around(Result_var_Col_TWA[:,index]/sqrt(2),decimals=decimals)\n",
        "\n",
        "#yeMF=np.around(Mean_field_res[6+index,:]/sqrt(2),decimals=decimals)\n",
        "xeMF=np.around(Mean_field_res[index,:]/sqrt(2),decimals=decimals)\n",
        "\n",
        "\n",
        "plt.plot(t*GammaR,xeNE ,label=' Numerical Exact')\n",
        "plt.xlabel('$\\Gamma_{R}t$', fontsize=22)\n",
        "\n",
        "print(np.cos(arctan_array(xeNE ,yeNE))[0],np.cos(arctan_array(xeNE ,yeNE))[-1])\n",
        "\n",
        "plt.xlim(time_alt[0]*GammaR,time_alt[-1]*GammaR)\n",
        "plt.plot(time_alt*GammaR,xeSH,label=' Stratonovich-Heun')\n",
        "plt.plot(time_alt*GammaR,xeEM,label=' Euler-Maruyama')\n",
        "plt.plot(time_alt*GammaR,xeTWA,label=' TWA')\n",
        "plt.plot(t_mf*GammaR,xeMF,label=' Mean-Field')\n",
        "#plt.plot(time_alt,arctan_array(yeMF,xeMF),label='Angle $\\\\theta_{01,x}$ SH')\n",
        "plt.grid(color='k', linestyle='-', linewidth=0.2)\n",
        "\n",
        "plt.legend(fontsize=18)"
      ]
    },
    {
      "cell_type": "code",
      "execution_count": null,
      "metadata": {
        "id": "x7dLtDlq0B_B"
      },
      "outputs": [],
      "source": [
        ""
      ]
    },
    {
      "cell_type": "code",
      "execution_count": null,
      "metadata": {
        "id": "hjf34xOJ0CBm"
      },
      "outputs": [],
      "source": [
        "index=5\n",
        "label_size = 20\n",
        "decimals=6\n",
        "\n",
        "plt.title('Time Evolution of $S_{23,x}$', fontsize=25)\n",
        "\n",
        "#yeNE=np.around(A[1][index],decimals=decimals)\n",
        "xeNE=np.around(A[0][index],decimals=decimals)\n",
        "\n",
        "#yeSH=np.around(Result_varTWA_Col_SDE_SH[:,index+6]/sqrt(2),decimals=decimals)\n",
        "xeSH=np.around(Result_varTWA_Col_SDE_SH[:,index]/sqrt(2),decimals=decimals)\n",
        "\n",
        "#yeEM=np.around(Result_varTWA_Col_SDE[:,index+6]/sqrt(2),decimals=decimals)\n",
        "xeEM=np.around(Result_varTWA_Col_SDE[:,index]/sqrt(2),decimals=decimals)\n",
        "\n",
        "#yeTWA=np.around(Result_var_Col_TWA[:,index+6]/sqrt(2),decimals=decimals)\n",
        "xeTWA=np.around(Result_var_Col_TWA[:,index]/sqrt(2),decimals=decimals)\n",
        "\n",
        "#yeMF=np.around(Mean_field_res[6+index,:]/sqrt(2),decimals=decimals)\n",
        "xeMF=np.around(Mean_field_res[index,:]/sqrt(2),decimals=decimals)\n",
        "\n",
        "\n",
        "plt.plot(t*GammaR,xeNE ,label=' Numerical Exact')\n",
        "plt.xlabel('$\\Gamma_{R}t$', fontsize=22)\n",
        "\n",
        "print(np.cos(arctan_array(xeNE ,yeNE))[0],np.cos(arctan_array(xeNE ,yeNE))[-1])\n",
        "\n",
        "plt.xlim(time_alt[0]*GammaR,time_alt[-1]*GammaR)\n",
        "plt.plot(time_alt*GammaR,xeSH,label=' Stratonovich-Heun')\n",
        "plt.plot(time_alt*GammaR,xeEM,label=' Euler-Maruyama')\n",
        "plt.plot(time_alt*GammaR,xeTWA,label=' TWA')\n",
        "plt.plot(t_mf*GammaR,xeMF,label=' Mean-Field')\n",
        "#plt.plot(time_alt,arctan_array(yeMF,xeMF),label='Angle $\\\\theta_{01,x}$ SH')\n",
        "plt.grid(color='k', linestyle='-', linewidth=0.2)\n",
        "\n",
        "plt.legend(fontsize=18)"
      ]
    },
    {
      "cell_type": "code",
      "execution_count": null,
      "metadata": {
        "id": "oHhLTBuB0CEG"
      },
      "outputs": [],
      "source": [
        ""
      ]
    },
    {
      "cell_type": "code",
      "execution_count": null,
      "metadata": {
        "id": "HeIOPQZR0CGx"
      },
      "outputs": [],
      "source": [
        "index=0\n",
        "\n",
        "decimals=6\n",
        "\n",
        "plt.title('$S_{01,y}$')\n",
        "\n",
        "yeNE=np.around(A[1][index],decimals=decimals)\n",
        "#xeNE=np.around(A[1][index],decimals=decimals)\n",
        "\n",
        "yeSH=np.around(Result_varTWA_Col_SDE_SH[:,index+6]/sqrt(2),decimals=decimals)\n",
        "#xeSH=np.around(Result_varTWA_Col_SDE_SH[:,index]/sqrt(2),decimals=decimals)\n",
        "\n",
        "yeEM=np.around(Result_varTWA_Col_SDE[:,index+6]/sqrt(2),decimals=decimals)\n",
        "#xeEM=np.around(Result_varTWA_Col_SDE[:,index]/sqrt(2),decimals=decimals)\n",
        "\n",
        "yeTWA=np.around(Result_var_Col_TWA[:,index+6]/sqrt(2),decimals=decimals)\n",
        "#xeTWA=np.around(Result_var_Col_TWA[:,index]/sqrt(2),decimals=decimals)\n",
        "\n",
        "yeMF=np.around(Mean_field_res[6+index,:]/sqrt(2),decimals=decimals)\n",
        "#xeMF=np.around(Mean_field_res[index,:]/sqrt(2),decimals=decimals)\n",
        "\n",
        "\n",
        "plt.plot(t*GammaR,yeNE ,label=\"NE sparse\")\n",
        "\n",
        "\n",
        "\n",
        "\n",
        "\n",
        "plt.plot(time_alt*GammaR,yeSH,label=' SH')\n",
        "plt.plot(time_alt*GammaR,yeEM,label=' EM')\n",
        "plt.plot(time_alt*GammaR,yeTWA,label=' TWA')\n",
        "plt.plot(t_mf*GammaR,yeMF,label=' MF')\n",
        "#plt.plot(time_alt,arctan_array(yeMF,xeMF),label='Angle $\\\\theta_{01,x}$ SH')\n",
        "\n",
        "\n",
        "plt.legend()"
      ]
    },
    {
      "cell_type": "code",
      "execution_count": null,
      "metadata": {
        "id": "-2f0M3H-0CJV"
      },
      "outputs": [],
      "source": [
        ""
      ]
    },
    {
      "cell_type": "code",
      "execution_count": null,
      "metadata": {
        "id": "OwOircc2smDF"
      },
      "outputs": [],
      "source": [
        "index=1\n",
        "\n",
        "decimals=6\n",
        "\n",
        "plt.title('$S_{02,y}$')\n",
        "\n",
        "yeNE=np.around(A[1][index],decimals=decimals)\n",
        "#xeNE=np.around(A[1][index],decimals=decimals)\n",
        "\n",
        "yeSH=np.around(Result_varTWA_Col_SDE_SH[:,index+6]/sqrt(2),decimals=decimals)\n",
        "#xeSH=np.around(Result_varTWA_Col_SDE_SH[:,index]/sqrt(2),decimals=decimals)\n",
        "\n",
        "yeEM=np.around(Result_varTWA_Col_SDE[:,index+6]/sqrt(2),decimals=decimals)\n",
        "#xeEM=np.around(Result_varTWA_Col_SDE[:,index]/sqrt(2),decimals=decimals)\n",
        "\n",
        "yeTWA=np.around(Result_var_Col_TWA[:,index+6]/sqrt(2),decimals=decimals)\n",
        "#xeTWA=np.around(Result_var_Col_TWA[:,index]/sqrt(2),decimals=decimals)\n",
        "\n",
        "yeMF=np.around(Mean_field_res[6+index,:]/sqrt(2),decimals=decimals)\n",
        "#xeMF=np.around(Mean_field_res[index,:]/sqrt(2),decimals=decimals)\n",
        "\n",
        "\n",
        "plt.plot(t*GammaR,yeNE ,label=\"NE sparse\")\n",
        "\n",
        "\n",
        "\n",
        "\n",
        "\n",
        "plt.plot(time_alt*GammaR,yeSH,label=' SH')\n",
        "plt.plot(time_alt*GammaR,yeEM,label=' EM')\n",
        "plt.plot(time_alt*GammaR,yeTWA,label=' TWA')\n",
        "plt.plot(t_mf*GammaR,yeMF,label=' MF')\n",
        "#plt.plot(time_alt,arctan_array(yeMF,xeMF),label='Angle $\\\\theta_{01,x}$ SH')\n",
        "\n",
        "\n",
        "plt.legend()"
      ]
    },
    {
      "cell_type": "code",
      "execution_count": null,
      "metadata": {
        "id": "WsFA2HyRsmJV"
      },
      "outputs": [],
      "source": [
        ""
      ]
    },
    {
      "cell_type": "code",
      "execution_count": null,
      "metadata": {
        "id": "cZ9prRmSsmNc"
      },
      "outputs": [],
      "source": [
        "index=2\n",
        "\n",
        "decimals=6\n",
        "\n",
        "plt.title('$S_{03,y}$')\n",
        "\n",
        "yeNE=np.around(A[1][index],decimals=decimals)\n",
        "#xeNE=np.around(A[1][index],decimals=decimals)\n",
        "\n",
        "yeSH=np.around(Result_varTWA_Col_SDE_SH[:,index+6]/sqrt(2),decimals=decimals)\n",
        "#xeSH=np.around(Result_varTWA_Col_SDE_SH[:,index]/sqrt(2),decimals=decimals)\n",
        "\n",
        "yeEM=np.around(Result_varTWA_Col_SDE[:,index+6]/sqrt(2),decimals=decimals)\n",
        "#xeEM=np.around(Result_varTWA_Col_SDE[:,index]/sqrt(2),decimals=decimals)\n",
        "\n",
        "yeTWA=np.around(Result_var_Col_TWA[:,index+6]/sqrt(2),decimals=decimals)\n",
        "#xeTWA=np.around(Result_var_Col_TWA[:,index]/sqrt(2),decimals=decimals)\n",
        "\n",
        "yeMF=np.around(Mean_field_res[6+index,:]/sqrt(2),decimals=decimals)\n",
        "#xeMF=np.around(Mean_field_res[index,:]/sqrt(2),decimals=decimals)\n",
        "\n",
        "\n",
        "plt.plot(t*GammaR,yeNE ,label=\"NE sparse\")\n",
        "\n",
        "\n",
        "\n",
        "\n",
        "\n",
        "plt.plot(time_alt*GammaR,yeSH,label=' SH')\n",
        "plt.plot(time_alt*GammaR,yeEM,label=' EM')\n",
        "plt.plot(time_alt*GammaR,yeTWA,label=' TWA')\n",
        "plt.plot(t_mf*GammaR,yeMF,label=' MF')\n",
        "#plt.plot(time_alt,arctan_array(yeMF,xeMF),label='Angle $\\\\theta_{01,x}$ SH')\n",
        "\n",
        "\n",
        "plt.legend()"
      ]
    },
    {
      "cell_type": "code",
      "execution_count": null,
      "metadata": {
        "id": "ozOtZzbzsmRX"
      },
      "outputs": [],
      "source": [
        ""
      ]
    },
    {
      "cell_type": "code",
      "execution_count": null,
      "metadata": {
        "id": "zspikmwrsmVT"
      },
      "outputs": [],
      "source": [
        "index=3\n",
        "\n",
        "decimals=6\n",
        "\n",
        "plt.title('$S_{12,y}$')\n",
        "\n",
        "yeNE=np.around(A[1][index],decimals=decimals)\n",
        "#xeNE=np.around(A[1][index],decimals=decimals)\n",
        "\n",
        "yeSH=np.around(Result_varTWA_Col_SDE_SH[:,index+6]/sqrt(2),decimals=decimals)\n",
        "#xeSH=np.around(Result_varTWA_Col_SDE_SH[:,index]/sqrt(2),decimals=decimals)\n",
        "\n",
        "yeEM=np.around(Result_varTWA_Col_SDE[:,index+6]/sqrt(2),decimals=decimals)\n",
        "#xeEM=np.around(Result_varTWA_Col_SDE[:,index]/sqrt(2),decimals=decimals)\n",
        "\n",
        "yeTWA=np.around(Result_var_Col_TWA[:,index+6]/sqrt(2),decimals=decimals)\n",
        "#xeTWA=np.around(Result_var_Col_TWA[:,index]/sqrt(2),decimals=decimals)\n",
        "\n",
        "yeMF=np.around(Mean_field_res[6+index,:]/sqrt(2),decimals=decimals)\n",
        "#xeMF=np.around(Mean_field_res[index,:]/sqrt(2),decimals=decimals)\n",
        "\n",
        "\n",
        "plt.plot(t*GammaR,yeNE ,label=\"NE sparse\")\n",
        "\n",
        "\n",
        "\n",
        "\n",
        "\n",
        "plt.plot(time_alt*GammaR,yeSH,label=' SH')\n",
        "plt.plot(time_alt*GammaR,yeEM,label=' EM')\n",
        "plt.plot(time_alt*GammaR,yeTWA,label=' TWA')\n",
        "plt.plot(t_mf*GammaR,yeMF,label=' MF')\n",
        "#plt.plot(time_alt,arctan_array(yeMF,xeMF),label='Angle $\\\\theta_{01,x}$ SH')\n",
        "\n",
        "\n",
        "plt.legend()"
      ]
    },
    {
      "cell_type": "code",
      "execution_count": null,
      "metadata": {
        "id": "8gjzI51bsmZY"
      },
      "outputs": [],
      "source": [
        ""
      ]
    },
    {
      "cell_type": "code",
      "execution_count": null,
      "metadata": {
        "id": "lcqxyyoIsmdH"
      },
      "outputs": [],
      "source": [
        "index=4\n",
        "\n",
        "decimals=6\n",
        "\n",
        "plt.title('$S_{13,y}$')\n",
        "\n",
        "yeNE=np.around(A[1][index],decimals=decimals)\n",
        "#xeNE=np.around(A[1][index],decimals=decimals)\n",
        "\n",
        "yeSH=np.around(Result_varTWA_Col_SDE_SH[:,index+6]/sqrt(2),decimals=decimals)\n",
        "#xeSH=np.around(Result_varTWA_Col_SDE_SH[:,index]/sqrt(2),decimals=decimals)\n",
        "\n",
        "yeEM=np.around(Result_varTWA_Col_SDE[:,index+6]/sqrt(2),decimals=decimals)\n",
        "#xeEM=np.around(Result_varTWA_Col_SDE[:,index]/sqrt(2),decimals=decimals)\n",
        "\n",
        "yeTWA=np.around(Result_var_Col_TWA[:,index+6]/sqrt(2),decimals=decimals)\n",
        "#xeTWA=np.around(Result_var_Col_TWA[:,index]/sqrt(2),decimals=decimals)\n",
        "\n",
        "yeMF=np.around(Mean_field_res[6+index,:]/sqrt(2),decimals=decimals)\n",
        "#xeMF=np.around(Mean_field_res[index,:]/sqrt(2),decimals=decimals)\n",
        "\n",
        "\n",
        "plt.plot(t*GammaR,yeNE ,label=\"NE sparse\")\n",
        "\n",
        "\n",
        "\n",
        "\n",
        "\n",
        "plt.plot(time_alt*GammaR,yeSH,label=' SH')\n",
        "plt.plot(time_alt*GammaR,yeEM,label=' EM')\n",
        "plt.plot(time_alt*GammaR,yeTWA,label=' TWA')\n",
        "plt.plot(t_mf*GammaR,yeMF,label=' MF')\n",
        "#plt.plot(time_alt,arctan_array(yeMF,xeMF),label='Angle $\\\\theta_{01,x}$ SH')\n",
        "\n",
        "\n",
        "plt.legend()"
      ]
    },
    {
      "cell_type": "code",
      "execution_count": null,
      "metadata": {
        "id": "F5SAkFSfsmhJ"
      },
      "outputs": [],
      "source": [
        "index=5\n",
        "\n",
        "decimals=6\n",
        "\n",
        "plt.title('$S_{23,y}$')\n",
        "\n",
        "yeNE=np.around(A[1][index],decimals=decimals)\n",
        "#xeNE=np.around(A[1][index],decimals=decimals)\n",
        "\n",
        "yeSH=np.around(Result_varTWA_Col_SDE_SH[:,index+6]/sqrt(2),decimals=decimals)\n",
        "#xeSH=np.around(Result_varTWA_Col_SDE_SH[:,index]/sqrt(2),decimals=decimals)\n",
        "\n",
        "yeEM=np.around(Result_varTWA_Col_SDE[:,index+6]/sqrt(2),decimals=decimals)\n",
        "#xeEM=np.around(Result_varTWA_Col_SDE[:,index]/sqrt(2),decimals=decimals)\n",
        "\n",
        "yeTWA=np.around(Result_var_Col_TWA[:,index+6]/sqrt(2),decimals=decimals)\n",
        "#xeTWA=np.around(Result_var_Col_TWA[:,index]/sqrt(2),decimals=decimals)\n",
        "\n",
        "yeMF=np.around(Mean_field_res[6+index,:]/sqrt(2),decimals=decimals)\n",
        "#xeMF=np.around(Mean_field_res[index,:]/sqrt(2),decimals=decimals)\n",
        "\n",
        "\n",
        "plt.plot(t*GammaR,yeNE ,label=\"NE sparse\")\n",
        "\n",
        "\n",
        "\n",
        "\n",
        "\n",
        "plt.plot(time_alt*GammaR,yeSH,label=' SH')\n",
        "plt.plot(time_alt*GammaR,yeEM,label=' EM')\n",
        "plt.plot(time_alt*GammaR,yeTWA,label=' TWA')\n",
        "plt.plot(t_mf*GammaR,yeMF,label=' MF')\n",
        "#plt.plot(time_alt,arctan_array(yeMF,xeMF),label='Angle $\\\\theta_{01,x}$ SH')\n",
        "\n",
        "\n",
        "plt.legend()"
      ]
    },
    {
      "cell_type": "code",
      "execution_count": null,
      "metadata": {
        "id": "8s-tVwVJsmkn"
      },
      "outputs": [],
      "source": [
        ""
      ]
    },
    {
      "cell_type": "code",
      "execution_count": null,
      "metadata": {
        "id": "cxSUTkc6smoH"
      },
      "outputs": [],
      "source": [
        "index=12\n",
        "\n",
        "decimals=6\n",
        "\n",
        "plt.title('$S_{0,z}$')\n",
        "\n",
        "yeNE=np.around(A[2][index-12],decimals=decimals)\n",
        "#xeNE=np.around(A[1][index],decimals=decimals)\n",
        "\n",
        "yeSH=np.around(Result_varTWA_Col_SDE_SH[:,index+0]/sqrt(1),decimals=decimals)\n",
        "#xeSH=np.around(Result_varTWA_Col_SDE_SH[:,index]/sqrt(2),decimals=decimals)\n",
        "\n",
        "yeEM=np.around(Result_varTWA_Col_SDE[:,index+0]/sqrt(1),decimals=decimals)\n",
        "#xeEM=np.around(Result_varTWA_Col_SDE[:,index]/sqrt(2),decimals=decimals)\n",
        "\n",
        "yeTWA=np.around(Result_var_Col_TWA[:,index+0]/sqrt(1),decimals=decimals)\n",
        "#xeTWA=np.around(Result_var_Col_TWA[:,index]/sqrt(2),decimals=decimals)\n",
        "\n",
        "yeMF=np.around(Mean_field_res[0+index,:]/sqrt(1),decimals=decimals)\n",
        "#xeMF=np.around(Mean_field_res[index,:]/sqrt(2),decimals=decimals)\n",
        "\n",
        "\n",
        "plt.plot(t*GammaR,yeNE ,label=\"NE sparse\")\n",
        "\n",
        "\n",
        "\n",
        "\n",
        "\n",
        "plt.plot(time_alt*GammaR,yeSH,label=' SH')\n",
        "plt.plot(time_alt*GammaR,yeEM,label=' EM')\n",
        "plt.plot(time_alt*GammaR,yeTWA,label=' TWA')\n",
        "plt.plot(t_mf*GammaR,yeMF,label=' MF')\n",
        "#plt.plot(time_alt,arctan_array(yeMF,xeMF),label='Angle $\\\\theta_{01,x}$ SH')\n",
        "\n",
        "\n",
        "plt.legend()"
      ]
    },
    {
      "cell_type": "code",
      "execution_count": null,
      "metadata": {
        "id": "szzID4-ksmsR"
      },
      "outputs": [],
      "source": [
        ""
      ]
    },
    {
      "cell_type": "code",
      "execution_count": null,
      "metadata": {
        "id": "N9T8F7rv6Xf3"
      },
      "outputs": [],
      "source": [
        "index=13\n",
        "\n",
        "decimals=6\n",
        "\n",
        "plt.title('$S_{1,z}$')\n",
        "\n",
        "yeNE=np.around(A[2][index-12],decimals=decimals)\n",
        "#xeNE=np.around(A[1][index],decimals=decimals)\n",
        "\n",
        "yeSH=np.around(Result_varTWA_Col_SDE_SH[:,index+0]/sqrt(1),decimals=decimals)\n",
        "#xeSH=np.around(Result_varTWA_Col_SDE_SH[:,index]/sqrt(2),decimals=decimals)\n",
        "\n",
        "yeEM=np.around(Result_varTWA_Col_SDE[:,index+0]/sqrt(1),decimals=decimals)\n",
        "#xeEM=np.around(Result_varTWA_Col_SDE[:,index]/sqrt(2),decimals=decimals)\n",
        "\n",
        "yeTWA=np.around(Result_var_Col_TWA[:,index+0]/sqrt(1),decimals=decimals)\n",
        "#xeTWA=np.around(Result_var_Col_TWA[:,index]/sqrt(2),decimals=decimals)\n",
        "\n",
        "yeMF=np.around(Mean_field_res[0+index,:]/sqrt(1),decimals=decimals)\n",
        "#xeMF=np.around(Mean_field_res[index,:]/sqrt(2),decimals=decimals)\n",
        "\n",
        "\n",
        "plt.plot(t*GammaR,yeNE ,label=\"NE sparse\")\n",
        "\n",
        "\n",
        "\n",
        "\n",
        "\n",
        "plt.plot(time_alt*GammaR,yeSH,label=' SH')\n",
        "plt.plot(time_alt*GammaR,yeEM,label=' EM')\n",
        "plt.plot(time_alt*GammaR,yeTWA,label=' TWA')\n",
        "plt.plot(t_mf*GammaR,yeMF,label=' MF')\n",
        "#plt.plot(time_alt,arctan_array(yeMF,xeMF),label='Angle $\\\\theta_{01,x}$ SH')\n",
        "\n",
        "\n",
        "plt.legend()"
      ]
    },
    {
      "cell_type": "code",
      "execution_count": null,
      "metadata": {
        "id": "AaxBsvXf6Xf4"
      },
      "outputs": [],
      "source": [
        ""
      ]
    },
    {
      "cell_type": "code",
      "execution_count": null,
      "metadata": {
        "id": "rYqfdcHy6Xf4"
      },
      "outputs": [],
      "source": [
        "index=13\n",
        "\n",
        "decimals=6\n",
        "\n",
        "plt.title('$S_{2,z}$')\n",
        "\n",
        "yeNE=np.around(A[2][index-12],decimals=decimals)\n",
        "#xeNE=np.around(A[1][index],decimals=decimals)\n",
        "\n",
        "yeSH=np.around(Result_varTWA_Col_SDE_SH[:,index+0]/sqrt(1),decimals=decimals)\n",
        "#xeSH=np.around(Result_varTWA_Col_SDE_SH[:,index]/sqrt(2),decimals=decimals)\n",
        "\n",
        "yeEM=np.around(Result_varTWA_Col_SDE[:,index+0]/sqrt(1),decimals=decimals)\n",
        "#xeEM=np.around(Result_varTWA_Col_SDE[:,index]/sqrt(2),decimals=decimals)\n",
        "\n",
        "yeTWA=np.around(Result_var_Col_TWA[:,index+0]/sqrt(1),decimals=decimals)\n",
        "#xeTWA=np.around(Result_var_Col_TWA[:,index]/sqrt(2),decimals=decimals)\n",
        "\n",
        "yeMF=np.around(Mean_field_res[0+index,:]/sqrt(1),decimals=decimals)\n",
        "#xeMF=np.around(Mean_field_res[index,:]/sqrt(2),decimals=decimals)\n",
        "\n",
        "\n",
        "plt.plot(t*GammaR,yeNE ,label=\"NE sparse\")\n",
        "\n",
        "\n",
        "\n",
        "\n",
        "\n",
        "plt.plot(time_alt*GammaR,yeSH,label=' SH')\n",
        "plt.plot(time_alt*GammaR,yeEM,label=' EM')\n",
        "plt.plot(time_alt*GammaR,yeTWA,label=' TWA')\n",
        "plt.plot(t_mf*GammaR,yeMF,label=' MF')\n",
        "#plt.plot(time_alt,arctan_array(yeMF,xeMF),label='Angle $\\\\theta_{01,x}$ SH')\n",
        "\n",
        "\n",
        "plt.legend()"
      ]
    },
    {
      "cell_type": "code",
      "execution_count": null,
      "metadata": {
        "id": "JukMu5Eo6Xf4"
      },
      "outputs": [],
      "source": [
        ""
      ]
    },
    {
      "cell_type": "code",
      "execution_count": null,
      "metadata": {
        "id": "oPDTKA6x6Xf4"
      },
      "outputs": [],
      "source": [
        ""
      ]
    },
    {
      "cell_type": "code",
      "execution_count": null,
      "metadata": {
        "id": "G_I5_ihb6XgA"
      },
      "outputs": [],
      "source": [
        ""
      ]
    },
    {
      "cell_type": "code",
      "execution_count": null,
      "metadata": {
        "id": "fF97vjbg6XgA"
      },
      "outputs": [],
      "source": [
        ""
      ]
    },
    {
      "cell_type": "code",
      "execution_count": null,
      "metadata": {
        "id": "2yRw_fEusmwb"
      },
      "outputs": [],
      "source": [
        ""
      ]
    },
    {
      "cell_type": "code",
      "execution_count": null,
      "metadata": {
        "id": "KWlIFwJd6XgB"
      },
      "outputs": [],
      "source": [
        ""
      ]
    },
    {
      "cell_type": "code",
      "execution_count": null,
      "metadata": {
        "id": "Z2S0_4Iw6XgB"
      },
      "outputs": [],
      "source": [
        "index=14\n",
        "\n",
        "decimals=6\n",
        "\n",
        "plt.title('$S_{0,z}$')\n",
        "\n",
        "yeNE=np.around(A[1][index],decimals=decimals)\n",
        "#xeNE=np.around(A[1][index],decimals=decimals)\n",
        "\n",
        "yeSH=np.around(Result_varTWA_Col_SDE_SH[:,index+0]/sqrt(1),decimals=decimals)\n",
        "#xeSH=np.around(Result_varTWA_Col_SDE_SH[:,index]/sqrt(2),decimals=decimals)\n",
        "\n",
        "yeEM=np.around(Result_varTWA_Col_SDE[:,index+0]/sqrt(1),decimals=decimals)\n",
        "#xeEM=np.around(Result_varTWA_Col_SDE[:,index]/sqrt(2),decimals=decimals)\n",
        "\n",
        "yeTWA=np.around(Result_var_Col_TWA[:,index+0]/sqrt(1),decimals=decimals)\n",
        "#xeTWA=np.around(Result_var_Col_TWA[:,index]/sqrt(2),decimals=decimals)\n",
        "\n",
        "yeMF=np.around(Mean_field_res[0+index,:]/sqrt(1),decimals=decimals)\n",
        "#xeMF=np.around(Mean_field_res[index,:]/sqrt(2),decimals=decimals)\n",
        "\n",
        "\n",
        "plt.plot(t*GammaR,yeNE ,label=\"NE sparse\")\n",
        "\n",
        "\n",
        "\n",
        "\n",
        "\n",
        "plt.plot(time_alt*GammaR,yeSH,label=' SH')\n",
        "plt.plot(time_alt*GammaR,yeEM,label=' EM')\n",
        "plt.plot(time_alt*GammaR,yeTWA,label=' TWA')\n",
        "plt.plot(t_mf*GammaR,yeMF,label=' MF')\n",
        "#plt.plot(time_alt,arctan_array(yeMF,xeMF),label='Angle $\\\\theta_{01,x}$ SH')\n",
        "\n",
        "\n",
        "plt.legend()"
      ]
    },
    {
      "cell_type": "code",
      "execution_count": null,
      "metadata": {
        "id": "8ogjDMMM6XgC"
      },
      "outputs": [],
      "source": [
        ""
      ]
    },
    {
      "cell_type": "code",
      "execution_count": null,
      "metadata": {
        "id": "T9VX2RB36XgD"
      },
      "outputs": [],
      "source": [
        ""
      ]
    },
    {
      "cell_type": "code",
      "execution_count": null,
      "metadata": {
        "id": "CkdGKSux6XgD"
      },
      "outputs": [],
      "source": [
        "index=4\n",
        "\n",
        "decimals=6\n",
        "\n",
        "plt.title('$S_{13,y}$')\n",
        "\n",
        "yeNE=np.around(A[1][index],decimals=decimals)\n",
        "#xeNE=np.around(A[1][index],decimals=decimals)\n",
        "\n",
        "yeSH=np.around(Result_varTWA_Col_SDE_SH[:,index+6]/sqrt(2),decimals=decimals)\n",
        "#xeSH=np.around(Result_varTWA_Col_SDE_SH[:,index]/sqrt(2),decimals=decimals)\n",
        "\n",
        "yeEM=np.around(Result_varTWA_Col_SDE[:,index+6]/sqrt(2),decimals=decimals)\n",
        "#xeEM=np.around(Result_varTWA_Col_SDE[:,index]/sqrt(2),decimals=decimals)\n",
        "\n",
        "yeTWA=np.around(Result_var_Col_TWA[:,index+6]/sqrt(2),decimals=decimals)\n",
        "#xeTWA=np.around(Result_var_Col_TWA[:,index]/sqrt(2),decimals=decimals)\n",
        "\n",
        "yeMF=np.around(Mean_field_res[6+index,:]/sqrt(2),decimals=decimals)\n",
        "#xeMF=np.around(Mean_field_res[index,:]/sqrt(2),decimals=decimals)\n",
        "\n",
        "\n",
        "plt.plot(t*GammaR,yeNE ,label=\"NE sparse\")\n",
        "\n",
        "\n",
        "\n",
        "\n",
        "\n",
        "plt.plot(time_alt*GammaR,yeSH,label=' SH')\n",
        "plt.plot(time_alt*GammaR,yeEM,label=' EM')\n",
        "plt.plot(time_alt*GammaR,yeTWA,label=' TWA')\n",
        "plt.plot(t_mf*GammaR,yeMF,label=' MF')\n",
        "#plt.plot(time_alt,arctan_array(yeMF,xeMF),label='Angle $\\\\theta_{01,x}$ SH')\n",
        "\n",
        "\n",
        "plt.legend()"
      ]
    },
    {
      "cell_type": "code",
      "execution_count": null,
      "metadata": {
        "id": "PNFFI1Pa6XgE"
      },
      "outputs": [],
      "source": [
        ""
      ]
    },
    {
      "cell_type": "code",
      "execution_count": null,
      "metadata": {
        "id": "tkX2i2dG6XgE"
      },
      "outputs": [],
      "source": [
        ""
      ]
    },
    {
      "cell_type": "code",
      "execution_count": null,
      "metadata": {
        "id": "b4xkf_r8sm0g"
      },
      "outputs": [],
      "source": [
        ""
      ]
    },
    {
      "cell_type": "code",
      "execution_count": null,
      "metadata": {
        "id": "p8B3Q0amsm5X"
      },
      "outputs": [],
      "source": [
        ""
      ]
    },
    {
      "cell_type": "code",
      "execution_count": null,
      "metadata": {
        "id": "J9ImsaX2sm9E"
      },
      "outputs": [],
      "source": [
        ""
      ]
    },
    {
      "cell_type": "code",
      "execution_count": null,
      "metadata": {
        "id": "WJScdYnxsnA-"
      },
      "outputs": [],
      "source": [
        ""
      ]
    },
    {
      "cell_type": "code",
      "execution_count": null,
      "metadata": {
        "id": "TQ5sggbRsnE1"
      },
      "outputs": [],
      "source": [
        "\n",
        "a_file = open(\"test.txt\", \"w\")\n",
        "for row in Result_varTWA_Col_SDE_SH:\n",
        "    np.savetxt(a_file, row)\n",
        "\n",
        "a_file.close()"
      ]
    },
    {
      "cell_type": "code",
      "execution_count": null,
      "metadata": {
        "id": "W0EB9a3psnIc"
      },
      "outputs": [],
      "source": [
        "a_file = open(\"Results_NE.txt\", \"w\")\n",
        "for row in A:\n",
        "    np.savetxt(a_file, row)\n",
        "\n",
        "a_file.close()"
      ]
    },
    {
      "cell_type": "code",
      "execution_count": null,
      "metadata": {
        "id": "eVvE5VHWsnMl"
      },
      "outputs": [],
      "source": [
        ""
      ]
    },
    {
      "cell_type": "code",
      "execution_count": null,
      "metadata": {
        "id": "t63habnPsnQs"
      },
      "outputs": [],
      "source": [
        "Result_varTWA_Col_SDE_SH"
      ]
    },
    {
      "cell_type": "code",
      "execution_count": null,
      "metadata": {
        "id": "yV_AqNMVsnU5"
      },
      "outputs": [],
      "source": [
        ""
      ]
    },
    {
      "cell_type": "code",
      "execution_count": null,
      "metadata": {
        "id": "PZbCL7KBsnYL"
      },
      "outputs": [],
      "source": [
        ""
      ]
    },
    {
      "cell_type": "code",
      "execution_count": null,
      "metadata": {
        "id": "7zkOrdK_snb8"
      },
      "outputs": [],
      "source": [
        "import numpy as np\n",
        "a = np.asarray([ [1,2,3], [4,5,6], [7,8,9] ])\n",
        "a.tofile('foo.csv',sep=',',format='%10.5f')"
      ]
    },
    {
      "cell_type": "code",
      "execution_count": null,
      "metadata": {
        "id": "DUUy4mHo0CMD"
      },
      "outputs": [],
      "source": [
        ""
      ]
    },
    {
      "cell_type": "markdown",
      "metadata": {
        "id": "bd5Ri4jQ0COt"
      },
      "source": [
        "# Save arrays"
      ]
    },
    {
      "cell_type": "code",
      "execution_count": null,
      "metadata": {
        "id": "0BCqr98L0CRH"
      },
      "outputs": [],
      "source": [
        "   narr = np.array([[1.000089,2.000089],\n",
        "                 [3.000089,4],\n",
        "                 [5,6.000089]])"
      ]
    },
    {
      "cell_type": "code",
      "execution_count": null,
      "metadata": {
        "id": "R8pBr0EV0CT2"
      },
      "outputs": [],
      "source": [
        "np.savetxt('SH.csv', Result_varTWA_Col_SDE_SH, fmt=\"%f\", delimiter=\",\")\n",
        "np.savetxt('EM.csv', Result_varTWA_Col_SDE, fmt=\"%f\", delimiter=\",\")\n",
        "np.savetxt('TWA.csv', Result_var_Col_TWA, fmt=\"%f\", delimiter=\",\")\n"
      ]
    },
    {
      "cell_type": "code",
      "execution_count": null,
      "metadata": {
        "id": "gHG9gzid6XgJ"
      },
      "outputs": [],
      "source": [
        ""
      ]
    },
    {
      "cell_type": "code",
      "execution_count": null,
      "metadata": {
        "id": "--miRwH56XgJ"
      },
      "outputs": [],
      "source": [
        ""
      ]
    },
    {
      "cell_type": "code",
      "execution_count": null,
      "metadata": {
        "id": "mSgQFgbV6XgJ"
      },
      "outputs": [],
      "source": [
        ""
      ]
    },
    {
      "cell_type": "code",
      "execution_count": null,
      "metadata": {
        "id": "R5jrGIxu6XgK"
      },
      "outputs": [],
      "source": [
        ""
      ]
    },
    {
      "cell_type": "code",
      "execution_count": null,
      "metadata": {
        "id": "RS62NxfX6XgK"
      },
      "outputs": [],
      "source": [
        "np.savetxt('NumericalExact.csv', [], fmt=\"%f\", delimiter=\",\")"
      ]
    },
    {
      "cell_type": "code",
      "execution_count": null,
      "metadata": {
        "id": "kVbV_zql6XgK"
      },
      "outputs": [],
      "source": [
        "import csv  \n",
        "\n",
        "\n",
        "with open('NumericalExact.csv', 'w', encoding='UTF8') as f:\n",
        "    writer = csv.writer(f)\n",
        "\n",
        "    # write the header\n",
        "    writer.writerow(A[0][0])\n",
        "\n",
        "    # write the data\n",
        "    writer.writerow(A[0][1])\n",
        "    \n",
        "        # write the header\n",
        "    writer.writerow(A[0][2])\n",
        "\n",
        "    # write the data\n",
        "    writer.writerow(A[0][3])\n",
        "    \n",
        "        # write the header\n",
        "    writer.writerow(A[0][4])\n",
        "\n",
        "    # write the data\n",
        "    writer.writerow(A[0][5])\n",
        "    \n",
        "        # write the header\n",
        "    writer.writerow(A[1][0])\n",
        "\n",
        "    # write the data\n",
        "    writer.writerow(A[1][1])\n",
        "    \n",
        "        # write the header\n",
        "    writer.writerow(A[1][2])\n",
        "\n",
        "    # write the data\n",
        "    writer.writerow(A[1][3])\n",
        "    \n",
        "        # write the header\n",
        "    writer.writerow(A[1][4])\n",
        "\n",
        "    # write the data\n",
        "    writer.writerow(A[1][5])\n",
        "    \n",
        "    writer.writerow(A[2][0])\n",
        "    writer.writerow(A[2][1])\n",
        "    writer.writerow(A[2][2])"
      ]
    },
    {
      "cell_type": "code",
      "execution_count": null,
      "metadata": {
        "id": "F0x54mv36XgK"
      },
      "outputs": [],
      "source": [
        ""
      ]
    },
    {
      "cell_type": "code",
      "execution_count": null,
      "metadata": {
        "id": "R4HsiWHy0CWQ"
      },
      "outputs": [],
      "source": [
        ""
      ]
    },
    {
      "cell_type": "code",
      "execution_count": null,
      "metadata": {
        "id": "IQOTTcEz0CY9"
      },
      "outputs": [],
      "source": [
        ""
      ]
    },
    {
      "cell_type": "markdown",
      "metadata": {
        "id": "6CELmvZX0DLL"
      },
      "source": [
        "### We finish here"
      ]
    },
    {
      "cell_type": "code",
      "execution_count": null,
      "metadata": {
        "id": "PFB57SUs0Cbe"
      },
      "outputs": [],
      "source": [
        ""
      ]
    },
    {
      "cell_type": "code",
      "execution_count": null,
      "metadata": {
        "id": "gypdj8lI0CeR"
      },
      "outputs": [],
      "source": [
        ""
      ]
    },
    {
      "cell_type": "code",
      "execution_count": null,
      "metadata": {
        "id": "g5QJHLLx0ChH"
      },
      "outputs": [],
      "source": [
        ""
      ]
    },
    {
      "cell_type": "code",
      "execution_count": null,
      "metadata": {
        "id": "g0VOb2hK0CjW"
      },
      "outputs": [],
      "source": [
        ""
      ]
    },
    {
      "cell_type": "code",
      "execution_count": null,
      "metadata": {
        "id": "RsxUmk11I08J"
      },
      "outputs": [],
      "source": [
        ""
      ]
    },
    {
      "cell_type": "code",
      "execution_count": null,
      "metadata": {
        "id": "bn6fSyv5I0_E"
      },
      "outputs": [],
      "source": [
        ""
      ]
    },
    {
      "cell_type": "code",
      "execution_count": null,
      "metadata": {
        "id": "p9mUnxuAViRD"
      },
      "outputs": [],
      "source": [
        "\n",
        "\n",
        "\n",
        "matplotlib.rcParams['figure.figsize'] = (13.0, 9.2)\n",
        "\n",
        "\n",
        "plt.title(r'Quantum Evolution of $\\langle S_{01,x} \\rangle (t)$', fontsize = label_size)\n",
        "plt.xlabel(r'$\\Gamma_R t$', fontsize = label_size)\n",
        "#plt.ylabel(r'$\\langle a^\\dagger a\\rangle(t)$', fontsize = label_size)\n",
        "plt.ylabel(r'$\\langle S_k \\rangle(t)$', fontsize = label_size)\n",
        "\n",
        "\n",
        "\n",
        "\n",
        "\n",
        "\n",
        "reductor=1000\n",
        "index=0\n",
        "\n",
        "label_size = 20\n",
        "\n",
        "#plt.plot(partit(reductor,t*GammaR),partit(reductor,A[0][index]),label=\"NE sparse\")\n",
        "plt.plot(partit(reductor,t_alt*GammaR),partit(reductor,Result_varTWA_Col_SDE_SH[:,index]/sqrt(2)),label=\"DisColTWA SH\")\n",
        "#plt.plot(partit(reductor,t_alt*GammaR),partit(reductor,Result_varTWA_Col_SDE[:,index]/sqrt(2)),label=\"DisColTWA EM\")\n",
        "\n",
        "\n",
        "#plt.plot(t*GammaR,Result_varTWA_Col_TWA[:,12+index]/sqrt(2),label=\"$P_1$ TWA\")\n",
        "#plt.plot(partit(reductor,t_alt*GammaR),partit(reductor,Result_var_Col_TWA[:,index]/sqrt(2)),label=\"TWA\")\n",
        "\n",
        "\n",
        "plt.plot(partit(reductor,t_mf *GammaR),partit(reductor,Mean_field_res[index]/sqrt(2)),label=\"MF\")\n",
        "\n",
        "\n",
        "\n",
        "\n",
        "plt.legend()"
      ]
    },
    {
      "cell_type": "code",
      "execution_count": null,
      "metadata": {
        "id": "6qmIjwjVViTx"
      },
      "outputs": [],
      "source": [
        ""
      ]
    },
    {
      "cell_type": "code",
      "execution_count": null,
      "metadata": {
        "id": "-C2rq9MstwdY"
      },
      "outputs": [],
      "source": [
        ""
      ]
    },
    {
      "cell_type": "code",
      "execution_count": null,
      "metadata": {
        "id": "bHoIj3Zytwgt"
      },
      "outputs": [],
      "source": [
        ""
      ]
    },
    {
      "cell_type": "code",
      "execution_count": null,
      "metadata": {
        "id": "CSrjh7Tttwmb"
      },
      "outputs": [],
      "source": [
        ""
      ]
    },
    {
      "cell_type": "code",
      "execution_count": null,
      "metadata": {
        "id": "X0eMmiFdtwpg"
      },
      "outputs": [],
      "source": [
        ""
      ]
    },
    {
      "cell_type": "code",
      "execution_count": null,
      "metadata": {
        "id": "s6dz6n2ItwsM"
      },
      "outputs": [],
      "source": [
        ""
      ]
    },
    {
      "cell_type": "code",
      "execution_count": null,
      "metadata": {
        "id": "vCJl089btwup"
      },
      "outputs": [],
      "source": [
        ""
      ]
    },
    {
      "cell_type": "code",
      "execution_count": null,
      "metadata": {
        "id": "vqtB-F5ftwxb"
      },
      "outputs": [],
      "source": [
        ""
      ]
    },
    {
      "cell_type": "code",
      "execution_count": null,
      "metadata": {
        "id": "KmhWZnzTtw0T"
      },
      "outputs": [],
      "source": [
        ""
      ]
    },
    {
      "cell_type": "code",
      "execution_count": null,
      "metadata": {
        "id": "i50apKtNro7j"
      },
      "outputs": [],
      "source": [
        ""
      ]
    },
    {
      "cell_type": "code",
      "execution_count": null,
      "metadata": {
        "id": "MjGjjsd2rpAD"
      },
      "outputs": [],
      "source": [
        ""
      ]
    },
    {
      "cell_type": "code",
      "execution_count": null,
      "metadata": {
        "id": "5fT0S5uxrpFP"
      },
      "outputs": [],
      "source": [
        ""
      ]
    },
    {
      "cell_type": "code",
      "execution_count": null,
      "metadata": {
        "id": "FUUoQo4ErpKQ"
      },
      "outputs": [],
      "source": [
        ""
      ]
    },
    {
      "cell_type": "code",
      "execution_count": null,
      "metadata": {
        "id": "5OqnqKXerpOJ"
      },
      "outputs": [],
      "source": [
        ""
      ]
    },
    {
      "cell_type": "code",
      "execution_count": null,
      "metadata": {
        "id": "8S8MkslGrpSj"
      },
      "outputs": [],
      "source": [
        ""
      ]
    },
    {
      "cell_type": "code",
      "execution_count": null,
      "metadata": {
        "id": "9fkunFOwrpX9"
      },
      "outputs": [],
      "source": [
        ""
      ]
    },
    {
      "cell_type": "code",
      "execution_count": null,
      "metadata": {
        "id": "neG_xw-9rpcx"
      },
      "outputs": [],
      "source": [
        ""
      ]
    },
    {
      "cell_type": "code",
      "execution_count": null,
      "metadata": {
        "id": "qRNW8nvxrpg4"
      },
      "outputs": [],
      "source": [
        ""
      ]
    },
    {
      "cell_type": "code",
      "execution_count": null,
      "metadata": {
        "id": "VZ8A5vK2rplc"
      },
      "outputs": [],
      "source": [
        ""
      ]
    },
    {
      "cell_type": "code",
      "execution_count": null,
      "metadata": {
        "id": "hFSjGCoJtw3K"
      },
      "outputs": [],
      "source": [
        ""
      ]
    },
    {
      "cell_type": "code",
      "execution_count": null,
      "metadata": {
        "id": "XYql8K94tw5x"
      },
      "outputs": [],
      "source": [
        ""
      ]
    },
    {
      "cell_type": "code",
      "execution_count": null,
      "metadata": {
        "id": "3Ghmuptptw-y"
      },
      "outputs": [],
      "source": [
        ""
      ]
    },
    {
      "cell_type": "code",
      "execution_count": null,
      "metadata": {
        "id": "G8ml5RkLtxB2"
      },
      "outputs": [],
      "source": [
        ""
      ]
    },
    {
      "cell_type": "code",
      "execution_count": null,
      "metadata": {
        "id": "_j9v5ItltxE7"
      },
      "outputs": [],
      "source": [
        ""
      ]
    },
    {
      "cell_type": "code",
      "execution_count": null,
      "metadata": {
        "id": "2k4WoYOrtxIE"
      },
      "outputs": [],
      "source": [
        ""
      ]
    },
    {
      "cell_type": "code",
      "execution_count": null,
      "metadata": {
        "id": "faUJWDHUtxKd"
      },
      "outputs": [],
      "source": [
        ""
      ]
    },
    {
      "cell_type": "code",
      "execution_count": null,
      "metadata": {
        "id": "yIZSD8BvtxMg"
      },
      "outputs": [],
      "source": [
        ""
      ]
    },
    {
      "cell_type": "code",
      "execution_count": null,
      "metadata": {
        "id": "bkX_BDmwViWp"
      },
      "outputs": [],
      "source": [
        "import numpy as np\n",
        "import scipy.optimize\n",
        "import matplotlib.pyplot as plt\n",
        "\n",
        "xs = partit(reductor,t_mf*GammaR)\n",
        "ys = partit(reductor,Mean_field_res[index]/sqrt(2))\n",
        "\n",
        "plt.plot(xs, ys, '.')\n",
        "plt.title(\"Original Data\")\n",
        "\n",
        "\n",
        "def monoExp(x, m, t, b):\n",
        "    return m * np.exp(-t * x) + b\n",
        "\n",
        "a_in=partit(reductor,Mean_field_res[index]/sqrt(2))[0]\n",
        "b_in=partit(reductor,Mean_field_res[index]/sqrt(2))[0]-partit(reductor,Mean_field_res[index]/sqrt(2))[-1]\n",
        "\n",
        "p0 = (a_in, .1, b_in) # start with values near those we expect\n",
        "params, cv = scipy.optimize.curve_fit(monoExp, xs, ys, p0)\n",
        "\n",
        "m, t, b = params\n",
        "\n",
        "squaredDiffs = np.square(ys - monoExp(np.array(xs), m, t, b))\n",
        "squaredDiffsFromMean = np.square(ys - np.mean(ys))\n",
        "rSquared = 1 - np.sum(squaredDiffs) / np.sum(squaredDiffsFromMean)\n",
        "print(f\"R² = {rSquared}\")"
      ]
    },
    {
      "cell_type": "code",
      "execution_count": null,
      "metadata": {
        "id": "siJzvK9hViZR"
      },
      "outputs": [],
      "source": [
        "plt.plot(xs, ys, '.', label=\"data\")\n",
        "plt.plot(xs, monoExp(np.array(xs), m, t, b), '--', label=\"fitted\")\n",
        "plt.title(\"Fitted Exponential Curve\")\n",
        "\n",
        "# inspect the parameters\n",
        "print(f\"Y = {m} * e^(-{t} * x) + {b}\")"
      ]
    },
    {
      "cell_type": "code",
      "execution_count": null,
      "metadata": {
        "id": "Knb05NFnV9kp"
      },
      "outputs": [],
      "source": [
        "N"
      ]
    },
    {
      "cell_type": "code",
      "execution_count": null,
      "metadata": {
        "id": "WB3zYjf7V9na"
      },
      "outputs": [],
      "source": [
        "N_array=[5,10,20,40,80,160,320,640,1280,2560]\n",
        "GammaN =[0.69435074,1.390031,2.7781916,5.54478928,11.04946,21.97798,43.613578,86.30547,174.2128,344.52215]"
      ]
    },
    {
      "cell_type": "code",
      "execution_count": null,
      "metadata": {
        "id": "GK7p9AGkV9pz"
      },
      "outputs": [],
      "source": [
        "plt.title('Decaying exponent estimation in the model $\\hat{f}(N)=Ae^{-\\Gamma_N t}+C $')\n",
        "\n",
        "plt.plot(N_array,GammaN,marker=\"D\")\n",
        "plt.xlabel(\"System size (N)\")\n",
        "plt.ylabel('$\\Gamma_N$')"
      ]
    },
    {
      "cell_type": "code",
      "execution_count": null,
      "metadata": {
        "id": "pqLjhViPV9sT"
      },
      "outputs": [],
      "source": [
        "from scipy import stats\n",
        "import numpy as np\n",
        "x = np.array(N_array)\n",
        "y = np.array(GammaN)\n",
        "slope, intercept, r_value, p_value, std_err = stats.linregress(x,y)\n",
        "\n",
        "\n",
        "#slope, intercept, r_value, p_value, std_err\n",
        "\n",
        "\n",
        "print(slope, intercept, r_value**2)"
      ]
    },
    {
      "cell_type": "markdown",
      "metadata": {
        "id": "xA8u-8_OeXA7"
      },
      "source": [
        "$$\\hat{f}(N)=Ae^{-\\Gamma_N t}+C  $$"
      ]
    },
    {
      "cell_type": "code",
      "execution_count": null,
      "metadata": {
        "id": "PdHT_AUuV9ut"
      },
      "outputs": [],
      "source": [
        ""
      ]
    },
    {
      "cell_type": "code",
      "execution_count": null,
      "metadata": {
        "id": "YMAws5ZvV9xl"
      },
      "outputs": [],
      "source": [
        ""
      ]
    },
    {
      "cell_type": "code",
      "execution_count": null,
      "metadata": {
        "id": "lWupejGRV9zz"
      },
      "outputs": [],
      "source": [
        ""
      ]
    },
    {
      "cell_type": "code",
      "execution_count": null,
      "metadata": {
        "id": "hnElO3isV92k"
      },
      "outputs": [],
      "source": [
        ""
      ]
    },
    {
      "cell_type": "code",
      "execution_count": null,
      "metadata": {
        "id": "rBytGVz6V97v"
      },
      "outputs": [],
      "source": [
        ""
      ]
    },
    {
      "cell_type": "code",
      "execution_count": null,
      "metadata": {
        "id": "aexcrFKFV9-U"
      },
      "outputs": [],
      "source": [
        ""
      ]
    },
    {
      "cell_type": "code",
      "execution_count": null,
      "metadata": {
        "id": "ew53ovNTV-Ax"
      },
      "outputs": [],
      "source": [
        ""
      ]
    },
    {
      "cell_type": "code",
      "execution_count": null,
      "metadata": {
        "id": "UYepEB8dV-DZ"
      },
      "outputs": [],
      "source": [
        ""
      ]
    },
    {
      "cell_type": "code",
      "execution_count": null,
      "metadata": {
        "id": "Hy0bOco4V-Fu"
      },
      "outputs": [],
      "source": [
        ""
      ]
    },
    {
      "cell_type": "code",
      "execution_count": null,
      "metadata": {
        "id": "3RArECQiV-IU"
      },
      "outputs": [],
      "source": [
        ""
      ]
    },
    {
      "cell_type": "code",
      "execution_count": null,
      "metadata": {
        "id": "tkYHoareV-Kz"
      },
      "outputs": [],
      "source": [
        ""
      ]
    },
    {
      "cell_type": "code",
      "execution_count": null,
      "metadata": {
        "id": "Oy5yHQMtV-Nv"
      },
      "outputs": [],
      "source": [
        ""
      ]
    },
    {
      "cell_type": "code",
      "execution_count": null,
      "metadata": {
        "id": "Mus1feb-V-QW"
      },
      "outputs": [],
      "source": [
        ""
      ]
    },
    {
      "cell_type": "code",
      "execution_count": null,
      "metadata": {
        "id": "xJxk3XQRVib5"
      },
      "outputs": [],
      "source": [
        ""
      ]
    },
    {
      "cell_type": "code",
      "execution_count": null,
      "metadata": {
        "id": "pKB3LqB1Tauj"
      },
      "outputs": [],
      "source": [
        "\n",
        "\n",
        "\n",
        "matplotlib.rcParams['figure.figsize'] = (13.0, 9.2)\n",
        "\n",
        "\n",
        "plt.title(r'Quantum Evolution of $\\langle S_{01,x} \\rangle (t)$', fontsize = label_size)\n",
        "plt.xlabel(r'$\\Gamma_R t$', fontsize = label_size)\n",
        "#plt.ylabel(r'$\\langle a^\\dagger a\\rangle(t)$', fontsize = label_size)\n",
        "plt.ylabel(r'$\\langle S_k \\rangle(t)$', fontsize = label_size)\n",
        "\n",
        "\n",
        "\n",
        "\n",
        "\n",
        "\n",
        "reductor=1000\n",
        "index=0\n",
        "\n",
        "label_size = 20\n",
        "\n",
        "#plt.plot(partit(reductor,t*GammaR),partit(reductor,A[0][index]),label=\"NE sparse\")\n",
        "plt.plot(partit(reductor,t_alt*GammaR),partit(reductor,Result_varTWA_Col_SDE_SH[:,index]/sqrt(2)),label=\"DisColTWA SH\")\n",
        "#plt.plot(partit(reductor,t_alt*GammaR),partit(reductor,Result_varTWA_Col_SDE[:,index]/sqrt(2)),label=\"DisColTWA EM\")\n",
        "\n",
        "\n",
        "#plt.plot(t*GammaR,Result_varTWA_Col_TWA[:,12+index]/sqrt(2),label=\"$P_1$ TWA\")\n",
        "#plt.plot(partit(reductor,t_alt*GammaR),partit(reductor,Result_var_Col_TWA[:,index]/sqrt(2)),label=\"TWA\")\n",
        "\n",
        "\n",
        "plt.plot(partit(reductor,t*GammaR),partit(reductor,Mean_field_res[index]/sqrt(2)),label=\"MF\")\n",
        "\n",
        "\n",
        "\n",
        "\n",
        "plt.legend()"
      ]
    },
    {
      "cell_type": "code",
      "execution_count": null,
      "metadata": {
        "id": "7_ZAtgOOTaxX"
      },
      "outputs": [],
      "source": [
        ""
      ]
    },
    {
      "cell_type": "code",
      "execution_count": null,
      "metadata": {
        "id": "QTQhg454UEkA"
      },
      "outputs": [],
      "source": [
        ""
      ]
    },
    {
      "cell_type": "code",
      "execution_count": null,
      "metadata": {
        "id": "n10-inX1UEnC"
      },
      "outputs": [],
      "source": [
        ""
      ]
    },
    {
      "cell_type": "code",
      "execution_count": null,
      "metadata": {
        "id": "TbZGtPUQUEpu"
      },
      "outputs": [],
      "source": [
        ""
      ]
    },
    {
      "cell_type": "code",
      "execution_count": null,
      "metadata": {
        "id": "kHXK6Mv-UEsP"
      },
      "outputs": [],
      "source": [
        ""
      ]
    },
    {
      "cell_type": "code",
      "execution_count": null,
      "metadata": {
        "id": "8FAq2lU-UEuw"
      },
      "outputs": [],
      "source": [
        "\n",
        "\n",
        "\n",
        "matplotlib.rcParams['figure.figsize'] = (13.0, 9.2)\n",
        "\n",
        "\n",
        "plt.title(r'Quantum Evolution of $\\langle S_{01,x} \\rangle (t)$', fontsize = label_size)\n",
        "plt.xlabel(r'$\\Gamma_R t$', fontsize = label_size)\n",
        "#plt.ylabel(r'$\\langle a^\\dagger a\\rangle(t)$', fontsize = label_size)\n",
        "plt.ylabel(r'$\\langle S_k \\rangle(t)$', fontsize = label_size)\n",
        "\n",
        "\n",
        "\n",
        "\n",
        "\n",
        "\n",
        "reductor=1000\n",
        "index=0\n",
        "\n",
        "label_size = 20\n",
        "\n",
        "plt.plot(partit(reductor,t*GammaR),partit(reductor,A[0][index]),label=\"NE sparse\")\n",
        "plt.plot(time_alt*GammaR,Result_varTWA_Col_SDE_SH[:,index]/sqrt(2),label=\"DisColTWA SH\")\n",
        "plt.plot(time_alt*GammaR,Result_varTWA_Col_SDE[:,index]/sqrt(2),label=\"DisColTWA EM\")\n",
        "\n",
        "\n",
        "#plt.plot(t*GammaR,Result_varTWA_Col_TWA[:,12+index]/sqrt(2),label=\"$P_1$ TWA\")\n",
        "plt.plot(time_alt*GammaR,Result_var_Col_TWA[:,index]/sqrt(2),label=\"TWA\")\n",
        "\n",
        "\n",
        "plt.plot(t_mf*GammaR,Mean_field_res[index]/sqrt(2),label=\"MF\")\n",
        "\n",
        "\n",
        "\n",
        "\n",
        "plt.legend()"
      ]
    },
    {
      "cell_type": "code",
      "execution_count": null,
      "metadata": {
        "id": "yIv1M8IrUEw4"
      },
      "outputs": [],
      "source": [
        ""
      ]
    },
    {
      "cell_type": "code",
      "execution_count": null,
      "metadata": {
        "id": "Z_-uNZZej6SV"
      },
      "outputs": [],
      "source": [
        "\n",
        "\n",
        "\n",
        "matplotlib.rcParams['figure.figsize'] = (13.0, 9.2)\n",
        "\n",
        "\n",
        "plt.title(r'Quantum Evolution of $\\langle S_{02,x} \\rangle (t)$', fontsize = label_size)\n",
        "plt.xlabel(r'$\\Gamma_R t$', fontsize = label_size)\n",
        "#plt.ylabel(r'$\\langle a^\\dagger a\\rangle(t)$', fontsize = label_size)\n",
        "plt.ylabel(r'$\\langle S_k \\rangle(t)$', fontsize = label_size)\n",
        "\n",
        "\n",
        "\n",
        "\n",
        "\n",
        "\n",
        "reductor=1000\n",
        "index=1\n",
        "\n",
        "label_size = 20\n",
        "\n",
        "plt.plot(partit(reductor,t*GammaR),partit(reductor,A[0][index]),label=\"NE sparse\")\n",
        "plt.plot(time_alt*GammaR,Result_varTWA_Col_SDE_SH[:,index]/sqrt(2),label=\"DisColTWA SH\")\n",
        "plt.plot(time_alt*GammaR,Result_varTWA_Col_SDE[:,index]/sqrt(2),label=\"DisColTWA EM\")\n",
        "\n",
        "\n",
        "#plt.plot(t*GammaR,Result_varTWA_Col_TWA[:,12+index]/sqrt(2),label=\"$P_1$ TWA\")\n",
        "plt.plot(time_alt*GammaR,Result_var_Col_TWA[:,index]/sqrt(2),label=\"TWA\")\n",
        "\n",
        "\n",
        "plt.plot(t_mf*GammaR,Mean_field_res[index]/sqrt(2),label=\"MF\")\n",
        "\n",
        "\n",
        "\n",
        "\n",
        "plt.legend()"
      ]
    },
    {
      "cell_type": "code",
      "execution_count": null,
      "metadata": {
        "id": "3fperNm2j6Vl"
      },
      "outputs": [],
      "source": [
        ""
      ]
    },
    {
      "cell_type": "code",
      "execution_count": null,
      "metadata": {
        "id": "dHCRLJkdj6Yz"
      },
      "outputs": [],
      "source": [
        "\n",
        "\n",
        "\n",
        "matplotlib.rcParams['figure.figsize'] = (13.0, 9.2)\n",
        "\n",
        "\n",
        "plt.title(r'Quantum Evolution of $\\langle S_{03,x} \\rangle (t)$', fontsize = label_size)\n",
        "plt.xlabel(r'$\\Gamma_R t$', fontsize = label_size)\n",
        "#plt.ylabel(r'$\\langle a^\\dagger a\\rangle(t)$', fontsize = label_size)\n",
        "plt.ylabel(r'$\\langle S_k \\rangle(t)$', fontsize = label_size)\n",
        "\n",
        "\n",
        "\n",
        "\n",
        "\n",
        "\n",
        "reductor=1000\n",
        "index=2\n",
        "\n",
        "label_size = 20\n",
        "\n",
        "plt.plot(partit(reductor,t*GammaR),partit(reductor,A[0][index]),label=\"NE sparse\")\n",
        "plt.plot(time_alt*GammaR,Result_varTWA_Col_SDE_SH[:,index]/sqrt(2),label=\"DisColTWA SH\")\n",
        "plt.plot(time_alt*GammaR,Result_varTWA_Col_SDE[:,index]/sqrt(2),label=\"DisColTWA EM\")\n",
        "\n",
        "\n",
        "#plt.plot(t*GammaR,Result_varTWA_Col_TWA[:,12+index]/sqrt(2),label=\"$P_1$ TWA\")\n",
        "plt.plot(time_alt*GammaR,Result_var_Col_TWA[:,index]/sqrt(2),label=\"TWA\")\n",
        "\n",
        "\n",
        "plt.plot(t_mf*GammaR,Mean_field_res[index]/sqrt(2),label=\"MF\")\n",
        "\n",
        "\n",
        "\n",
        "\n",
        "plt.legend()"
      ]
    },
    {
      "cell_type": "code",
      "execution_count": null,
      "metadata": {
        "id": "W9gvKt1Mj6bf"
      },
      "outputs": [],
      "source": [
        ""
      ]
    },
    {
      "cell_type": "code",
      "execution_count": null,
      "metadata": {
        "id": "xZjGhpqdj6eF"
      },
      "outputs": [],
      "source": [
        "\n",
        "\n",
        "\n",
        "matplotlib.rcParams['figure.figsize'] = (13.0, 9.2)\n",
        "\n",
        "\n",
        "plt.title(r'Quantum Evolution of $\\langle S_{12,x} \\rangle (t)$', fontsize = label_size)\n",
        "plt.xlabel(r'$\\Gamma_R t$', fontsize = label_size)\n",
        "#plt.ylabel(r'$\\langle a^\\dagger a\\rangle(t)$', fontsize = label_size)\n",
        "plt.ylabel(r'$\\langle S_k \\rangle(t)$', fontsize = label_size)\n",
        "\n",
        "\n",
        "\n",
        "\n",
        "\n",
        "\n",
        "reductor=1000\n",
        "index=3\n",
        "\n",
        "label_size = 20\n",
        "\n",
        "plt.plot(partit(reductor,t*GammaR),partit(reductor,A[0][index]),label=\"NE sparse\")\n",
        "plt.plot(time_alt*GammaR,Result_varTWA_Col_SDE_SH[:,index]/sqrt(2),label=\"DisColTWA SH\")\n",
        "plt.plot(time_alt*GammaR,Result_varTWA_Col_SDE[:,index]/sqrt(2),label=\"DisColTWA EM\")\n",
        "\n",
        "\n",
        "#plt.plot(t*GammaR,Result_varTWA_Col_TWA[:,12+index]/sqrt(2),label=\"$P_1$ TWA\")\n",
        "plt.plot(time_alt*GammaR,Result_var_Col_TWA[:,index]/sqrt(2),label=\"TWA\")\n",
        "\n",
        "\n",
        "plt.plot(t_mf*GammaR,Mean_field_res[index]/sqrt(2),label=\"MF\")\n",
        "\n",
        "\n",
        "\n",
        "\n",
        "plt.legend()"
      ]
    },
    {
      "cell_type": "code",
      "execution_count": null,
      "metadata": {
        "id": "cfjdCe-DkdcG"
      },
      "outputs": [],
      "source": [
        ""
      ]
    },
    {
      "cell_type": "code",
      "execution_count": null,
      "metadata": {
        "id": "IbsMU5w0kdei"
      },
      "outputs": [],
      "source": [
        "\n",
        "\n",
        "\n",
        "matplotlib.rcParams['figure.figsize'] = (13.0, 9.2)\n",
        "\n",
        "\n",
        "plt.title(r'Quantum Evolution of $\\langle S_{13,x} \\rangle (t)$', fontsize = label_size)\n",
        "plt.xlabel(r'$\\Gamma_R t$', fontsize = label_size)\n",
        "#plt.ylabel(r'$\\langle a^\\dagger a\\rangle(t)$', fontsize = label_size)\n",
        "plt.ylabel(r'$\\langle S_k \\rangle(t)$', fontsize = label_size)\n",
        "\n",
        "\n",
        "\n",
        "\n",
        "\n",
        "\n",
        "reductor=1000\n",
        "index=4\n",
        "\n",
        "label_size = 20\n",
        "\n",
        "plt.plot(partit(reductor,t*GammaR),partit(reductor,A[0][index]),label=\"NE sparse\")\n",
        "plt.plot(time_alt*GammaR,Result_varTWA_Col_SDE_SH[:,index]/sqrt(2),label=\"DisColTWA SH\")\n",
        "plt.plot(time_alt*GammaR,Result_varTWA_Col_SDE[:,index]/sqrt(2),label=\"DisColTWA EM\")\n",
        "\n",
        "\n",
        "#plt.plot(t*GammaR,Result_varTWA_Col_TWA[:,12+index]/sqrt(2),label=\"$P_1$ TWA\")\n",
        "plt.plot(time_alt*GammaR,Result_var_Col_TWA[:,index]/sqrt(2),label=\"TWA\")\n",
        "\n",
        "\n",
        "plt.plot(t_mf*GammaR,Mean_field_res[index]/sqrt(2),label=\"MF\")\n",
        "\n",
        "\n",
        "\n",
        "\n",
        "plt.legend()"
      ]
    },
    {
      "cell_type": "code",
      "execution_count": null,
      "metadata": {
        "id": "MFNrKoHzkdhC"
      },
      "outputs": [],
      "source": [
        ""
      ]
    },
    {
      "cell_type": "code",
      "execution_count": null,
      "metadata": {
        "id": "wkRVrCy4kdji"
      },
      "outputs": [],
      "source": [
        "\n",
        "\n",
        "\n",
        "matplotlib.rcParams['figure.figsize'] = (13.0, 9.2)\n",
        "\n",
        "\n",
        "plt.title(r'Quantum Evolution of $\\langle S_{23,x} \\rangle (t)$', fontsize = label_size)\n",
        "plt.xlabel(r'$\\Gamma_R t$', fontsize = label_size)\n",
        "#plt.ylabel(r'$\\langle a^\\dagger a\\rangle(t)$', fontsize = label_size)\n",
        "plt.ylabel(r'$\\langle S_k \\rangle(t)$', fontsize = label_size)\n",
        "\n",
        "\n",
        "\n",
        "\n",
        "\n",
        "\n",
        "reductor=1000\n",
        "index=5\n",
        "\n",
        "label_size = 20\n",
        "\n",
        "plt.plot(partit(reductor,t*GammaR),partit(reductor,A[0][index]),label=\"NE sparse\")\n",
        "plt.plot(time_alt*GammaR,Result_varTWA_Col_SDE_SH[:,index]/sqrt(2),label=\"DisColTWA SH\")\n",
        "plt.plot(time_alt*GammaR,Result_varTWA_Col_SDE[:,index]/sqrt(2),label=\"DisColTWA EM\")\n",
        "\n",
        "\n",
        "#plt.plot(t*GammaR,Result_varTWA_Col_TWA[:,12+index]/sqrt(2),label=\"$P_1$ TWA\")\n",
        "plt.plot(time_alt*GammaR,Result_var_Col_TWA[:,index]/sqrt(2),label=\"TWA\")\n",
        "\n",
        "\n",
        "plt.plot(t_mf*GammaR,Mean_field_res[index]/sqrt(2),label=\"MF\")\n",
        "\n",
        "\n",
        "\n",
        "\n",
        "plt.legend()"
      ]
    },
    {
      "cell_type": "code",
      "execution_count": null,
      "metadata": {
        "id": "O3UxvkLWkdl2"
      },
      "outputs": [],
      "source": [
        ""
      ]
    },
    {
      "cell_type": "code",
      "execution_count": null,
      "metadata": {
        "id": "RQKq_b_LkdoU"
      },
      "outputs": [],
      "source": [
        "\n",
        "\n",
        "\n",
        "matplotlib.rcParams['figure.figsize'] = (13.0, 9.2)\n",
        "\n",
        "\n",
        "plt.title(r'Quantum Evolution of $\\langle S_{01,y} \\rangle (t)$', fontsize = label_size)\n",
        "plt.xlabel(r'$\\Gamma_R t$', fontsize = label_size)\n",
        "#plt.ylabel(r'$\\langle a^\\dagger a\\rangle(t)$', fontsize = label_size)\n",
        "plt.ylabel(r'$\\langle S_k \\rangle(t)$', fontsize = label_size)\n",
        "\n",
        "\n",
        "\n",
        "\n",
        "\n",
        "\n",
        "reductor=1000\n",
        "index=0\n",
        "\n",
        "label_size = 20\n",
        "\n",
        "plt.plot(partit(reductor,t*GammaR),partit(reductor,A[1][index]),label=\"NE sparse\")\n",
        "plt.plot(time_alt*GammaR,Result_varTWA_Col_SDE_SH[:,index+6]/sqrt(2),label=\"DisColTWA SH\")\n",
        "plt.plot(time_alt*GammaR,Result_varTWA_Col_SDE[:,index+6]/sqrt(2),label=\"DisColTWA EM\")\n",
        "\n",
        "\n",
        "#plt.plot(t*GammaR,Result_varTWA_Col_TWA[:,12+index]/sqrt(2),label=\"$P_1$ TWA\")\n",
        "plt.plot(time_alt*GammaR,Result_var_Col_TWA[:,index+6]/sqrt(2),label=\"TWA\")\n",
        "\n",
        "\n",
        "plt.plot(t_mf*GammaR,Mean_field_res[index+6]/sqrt(2),label=\"MF\")\n",
        "\n",
        "\n",
        "\n",
        "\n",
        "plt.legend()"
      ]
    },
    {
      "cell_type": "code",
      "execution_count": null,
      "metadata": {
        "id": "wOr8UQ-tkdqm"
      },
      "outputs": [],
      "source": [
        ""
      ]
    },
    {
      "cell_type": "code",
      "execution_count": null,
      "metadata": {
        "id": "0iScEOK_kdtI"
      },
      "outputs": [],
      "source": [
        "\n",
        "\n",
        "\n",
        "matplotlib.rcParams['figure.figsize'] = (13.0, 9.2)\n",
        "\n",
        "\n",
        "plt.title(r'Quantum Evolution of $\\langle S_{02,y} \\rangle (t)$', fontsize = label_size)\n",
        "plt.xlabel(r'$\\Gamma_R t$', fontsize = label_size)\n",
        "#plt.ylabel(r'$\\langle a^\\dagger a\\rangle(t)$', fontsize = label_size)\n",
        "plt.ylabel(r'$\\langle S_k \\rangle(t)$', fontsize = label_size)\n",
        "\n",
        "\n",
        "\n",
        "\n",
        "\n",
        "\n",
        "reductor=1000\n",
        "index=1\n",
        "\n",
        "label_size = 20\n",
        "\n",
        "plt.plot(partit(reductor,t*GammaR),partit(reductor,A[1][index]),label=\"NE sparse\")\n",
        "plt.plot(time_alt*GammaR,Result_varTWA_Col_SDE_SH[:,index+6]/sqrt(2),label=\"DisColTWA SH\")\n",
        "plt.plot(time_alt*GammaR,Result_varTWA_Col_SDE[:,index+6]/sqrt(2),label=\"DisColTWA EM\")\n",
        "\n",
        "\n",
        "#plt.plot(t*GammaR,Result_varTWA_Col_TWA[:,12+index]/sqrt(2),label=\"$P_1$ TWA\")\n",
        "plt.plot(time_alt*GammaR,Result_var_Col_TWA[:,index+6]/sqrt(2),label=\"TWA\")\n",
        "\n",
        "\n",
        "plt.plot(t_mf*GammaR,Mean_field_res[index+6]/sqrt(2),label=\"MF\")\n",
        "\n",
        "\n",
        "\n",
        "\n",
        "plt.legend()"
      ]
    },
    {
      "cell_type": "code",
      "execution_count": null,
      "metadata": {
        "id": "yj1mUgG-kdvS"
      },
      "outputs": [],
      "source": [
        ""
      ]
    },
    {
      "cell_type": "code",
      "execution_count": null,
      "metadata": {
        "id": "11dOxpsHkdx2"
      },
      "outputs": [],
      "source": [
        "\n",
        "\n",
        "\n",
        "matplotlib.rcParams['figure.figsize'] = (13.0, 9.2)\n",
        "\n",
        "\n",
        "plt.title(r'Quantum Evolution of $\\langle S_{03,y} \\rangle (t)$', fontsize = label_size)\n",
        "plt.xlabel(r'$\\Gamma_R t$', fontsize = label_size)\n",
        "#plt.ylabel(r'$\\langle a^\\dagger a\\rangle(t)$', fontsize = label_size)\n",
        "plt.ylabel(r'$\\langle S_k \\rangle(t)$', fontsize = label_size)\n",
        "\n",
        "\n",
        "\n",
        "\n",
        "\n",
        "\n",
        "reductor=1000\n",
        "index=2\n",
        "\n",
        "label_size = 20\n",
        "\n",
        "plt.plot(partit(reductor,t*GammaR),partit(reductor,A[1][index]),label=\"NE sparse\")\n",
        "plt.plot(time_alt*GammaR,Result_varTWA_Col_SDE_SH[:,index+6]/sqrt(2),label=\"DisColTWA SH\")\n",
        "plt.plot(time_alt*GammaR,Result_varTWA_Col_SDE[:,index+6]/sqrt(2),label=\"DisColTWA EM\")\n",
        "\n",
        "\n",
        "#plt.plot(t*GammaR,Result_varTWA_Col_TWA[:,12+index]/sqrt(2),label=\"$P_1$ TWA\")\n",
        "plt.plot(time_alt*GammaR,Result_var_Col_TWA[:,index+6]/sqrt(2),label=\"TWA\")\n",
        "\n",
        "\n",
        "plt.plot(t_mf*GammaR,Mean_field_res[index+6]/sqrt(2),label=\"MF\")\n",
        "\n",
        "\n",
        "\n",
        "\n",
        "plt.legend()"
      ]
    },
    {
      "cell_type": "code",
      "execution_count": null,
      "metadata": {
        "id": "YhuDUU9zkd0Q"
      },
      "outputs": [],
      "source": [
        ""
      ]
    },
    {
      "cell_type": "code",
      "execution_count": null,
      "metadata": {
        "id": "QGUrCv6Xkd21"
      },
      "outputs": [],
      "source": [
        "\n",
        "\n",
        "\n",
        "matplotlib.rcParams['figure.figsize'] = (13.0, 9.2)\n",
        "\n",
        "\n",
        "plt.title(r'Quantum Evolution of $\\langle S_{12,y} \\rangle (t)$', fontsize = label_size)\n",
        "plt.xlabel(r'$\\Gamma_R t$', fontsize = label_size)\n",
        "#plt.ylabel(r'$\\langle a^\\dagger a\\rangle(t)$', fontsize = label_size)\n",
        "plt.ylabel(r'$\\langle S_k \\rangle(t)$', fontsize = label_size)\n",
        "\n",
        "\n",
        "\n",
        "\n",
        "\n",
        "\n",
        "reductor=1000\n",
        "index=3\n",
        "\n",
        "label_size = 20\n",
        "\n",
        "plt.plot(partit(reductor,t*GammaR),partit(reductor,A[1][index]),label=\"NE sparse\")\n",
        "plt.plot(time_alt*GammaR,Result_varTWA_Col_SDE_SH[:,index+6]/sqrt(2),label=\"DisColTWA SH\")\n",
        "plt.plot(time_alt*GammaR,Result_varTWA_Col_SDE[:,index+6]/sqrt(2),label=\"DisColTWA EM\")\n",
        "\n",
        "\n",
        "#plt.plot(t*GammaR,Result_varTWA_Col_TWA[:,12+index]/sqrt(2),label=\"$P_1$ TWA\")\n",
        "plt.plot(time_alt*GammaR,Result_var_Col_TWA[:,index+6]/sqrt(2),label=\"TWA\")\n",
        "\n",
        "\n",
        "plt.plot(t_mf*GammaR,Mean_field_res[index+6]/sqrt(2),label=\"MF\")\n",
        "\n",
        "\n",
        "\n",
        "\n",
        "plt.legend()"
      ]
    },
    {
      "cell_type": "code",
      "execution_count": null,
      "metadata": {
        "id": "CNQEnXeakd4_"
      },
      "outputs": [],
      "source": [
        ""
      ]
    },
    {
      "cell_type": "code",
      "execution_count": null,
      "metadata": {
        "id": "EkW9kcJokd7g"
      },
      "outputs": [],
      "source": [
        "\n",
        "\n",
        "\n",
        "matplotlib.rcParams['figure.figsize'] = (13.0, 9.2)\n",
        "\n",
        "\n",
        "plt.title(r'Quantum Evolution of $\\langle S_{13,y} \\rangle (t)$', fontsize = label_size)\n",
        "plt.xlabel(r'$\\Gamma_R t$', fontsize = label_size)\n",
        "#plt.ylabel(r'$\\langle a^\\dagger a\\rangle(t)$', fontsize = label_size)\n",
        "plt.ylabel(r'$\\langle S_k \\rangle(t)$', fontsize = label_size)\n",
        "\n",
        "\n",
        "\n",
        "\n",
        "\n",
        "\n",
        "reductor=1000\n",
        "index=4\n",
        "\n",
        "label_size = 20\n",
        "\n",
        "plt.plot(partit(reductor,t*GammaR),partit(reductor,A[1][index]),label=\"NE sparse\")\n",
        "plt.plot(time_alt*GammaR,Result_varTWA_Col_SDE_SH[:,index+6]/sqrt(2),label=\"DisColTWA SH\")\n",
        "plt.plot(time_alt*GammaR,Result_varTWA_Col_SDE[:,index+6]/sqrt(2),label=\"DisColTWA EM\")\n",
        "\n",
        "\n",
        "#plt.plot(t*GammaR,Result_varTWA_Col_TWA[:,12+index]/sqrt(2),label=\"$P_1$ TWA\")\n",
        "plt.plot(time_alt*GammaR,Result_var_Col_TWA[:,index+6]/sqrt(2),label=\"TWA\")\n",
        "\n",
        "\n",
        "plt.plot(t_mf*GammaR,Mean_field_res[index+6]/sqrt(2),label=\"MF\")\n",
        "\n",
        "\n",
        "\n",
        "\n",
        "plt.legend()"
      ]
    },
    {
      "cell_type": "code",
      "execution_count": null,
      "metadata": {
        "id": "DRwsDS38kd9t"
      },
      "outputs": [],
      "source": [
        ""
      ]
    },
    {
      "cell_type": "code",
      "execution_count": null,
      "metadata": {
        "id": "O1oLo1KHkeAe"
      },
      "outputs": [],
      "source": [
        "\n",
        "\n",
        "\n",
        "matplotlib.rcParams['figure.figsize'] = (13.0, 9.2)\n",
        "\n",
        "\n",
        "plt.title(r'Quantum Evolution of $\\langle S_{23,y} \\rangle (t)$', fontsize = label_size)\n",
        "plt.xlabel(r'$\\Gamma_R t$', fontsize = label_size)\n",
        "#plt.ylabel(r'$\\langle a^\\dagger a\\rangle(t)$', fontsize = label_size)\n",
        "plt.ylabel(r'$\\langle S_k \\rangle(t)$', fontsize = label_size)\n",
        "\n",
        "\n",
        "\n",
        "\n",
        "\n",
        "\n",
        "reductor=1000\n",
        "index=5\n",
        "\n",
        "label_size = 20\n",
        "\n",
        "plt.plot(partit(reductor,t*GammaR),partit(reductor,A[1][index]),label=\"NE sparse\")\n",
        "plt.plot(time_alt*GammaR,Result_varTWA_Col_SDE_SH[:,index+6]/sqrt(2),label=\"DisColTWA SH\")\n",
        "plt.plot(time_alt*GammaR,Result_varTWA_Col_SDE[:,index+6]/sqrt(2),label=\"DisColTWA EM\")\n",
        "\n",
        "\n",
        "#plt.plot(t*GammaR,Result_varTWA_Col_TWA[:,12+index]/sqrt(2),label=\"$P_1$ TWA\")\n",
        "plt.plot(time_alt*GammaR,Result_var_Col_TWA[:,index+6]/sqrt(2),label=\"TWA\")\n",
        "\n",
        "\n",
        "plt.plot(t_mf*GammaR,Mean_field_res[index+6]/sqrt(2),label=\"MF\")\n",
        "\n",
        "\n",
        "\n",
        "\n",
        "plt.legend()"
      ]
    },
    {
      "cell_type": "code",
      "execution_count": null,
      "metadata": {
        "id": "RtLJr3B7keRM"
      },
      "outputs": [],
      "source": [
        ""
      ]
    },
    {
      "cell_type": "code",
      "execution_count": null,
      "metadata": {
        "id": "NpDxm-ICkeTr"
      },
      "outputs": [],
      "source": [
        ""
      ]
    },
    {
      "cell_type": "code",
      "execution_count": null,
      "metadata": {
        "id": "UPVMiPt3keWh"
      },
      "outputs": [],
      "source": [
        "\n",
        "\n"
      ]
    },
    {
      "cell_type": "code",
      "execution_count": null,
      "metadata": {
        "id": "E9nu4GZUwpub"
      },
      "outputs": [],
      "source": [
        "\n",
        "\n"
      ]
    },
    {
      "cell_type": "code",
      "execution_count": null,
      "metadata": {
        "id": "oiQnlCnRXM6A"
      },
      "outputs": [],
      "source": [
        ""
      ]
    },
    {
      "cell_type": "code",
      "execution_count": null,
      "metadata": {
        "id": "knceTX285vCZ"
      },
      "outputs": [],
      "source": [
        ""
      ]
    },
    {
      "cell_type": "code",
      "execution_count": null,
      "metadata": {
        "id": "yJrH7G8S5vFw"
      },
      "outputs": [],
      "source": [
        ""
      ]
    },
    {
      "cell_type": "code",
      "execution_count": null,
      "metadata": {
        "id": "2wbmWtMe5vIw"
      },
      "outputs": [],
      "source": [
        ""
      ]
    },
    {
      "cell_type": "code",
      "execution_count": null,
      "metadata": {
        "id": "dauSjWk95vLu"
      },
      "outputs": [],
      "source": [
        ""
      ]
    },
    {
      "cell_type": "code",
      "execution_count": null,
      "metadata": {
        "id": "I9WG0tT-5vPO"
      },
      "outputs": [],
      "source": [
        ""
      ]
    },
    {
      "cell_type": "code",
      "execution_count": null,
      "metadata": {
        "id": "OqQ78M7W5vSF"
      },
      "outputs": [],
      "source": [
        ""
      ]
    },
    {
      "cell_type": "code",
      "execution_count": null,
      "metadata": {
        "id": "3xBb1epr5vU0"
      },
      "outputs": [],
      "source": [
        ""
      ]
    },
    {
      "cell_type": "code",
      "execution_count": null,
      "metadata": {
        "id": "HwIjnaNy5vXs"
      },
      "outputs": [],
      "source": [
        ""
      ]
    },
    {
      "cell_type": "code",
      "execution_count": null,
      "metadata": {
        "id": "jQtP3Rec5vbM"
      },
      "outputs": [],
      "source": [
        "A"
      ]
    },
    {
      "cell_type": "code",
      "execution_count": null,
      "metadata": {
        "id": "FityT8No5v_Q"
      },
      "outputs": [],
      "source": [
        "data_path = 'Results_NE.txt'"
      ]
    },
    {
      "cell_type": "code",
      "execution_count": null,
      "metadata": {
        "id": "zj0ISl2k6K4G"
      },
      "outputs": [],
      "source": [
        "data_path"
      ]
    },
    {
      "cell_type": "code",
      "execution_count": null,
      "metadata": {
        "id": "gzDfQjFL6L0I"
      },
      "outputs": [],
      "source": [
        "for row in A:\n",
        "    np.savetxt(data_path, row)\n",
        "\n",
        "a_file.close()"
      ]
    },
    {
      "cell_type": "code",
      "execution_count": null,
      "metadata": {
        "id": "1J39-gIp6hbf"
      },
      "outputs": [],
      "source": [
        "data_path"
      ]
    },
    {
      "cell_type": "code",
      "execution_count": null,
      "metadata": {
        "id": "Z2AunCGg6iae"
      },
      "outputs": [],
      "source": [
        ""
      ]
    },
    {
      "cell_type": "code",
      "execution_count": null,
      "metadata": {
        "id": "MccAmPeV694Q"
      },
      "outputs": [],
      "source": [
        "# Mount driver to authenticate yourself to gdrive\n",
        "from google.colab import drive\n",
        "drive.mount('/content/gdrive')\n",
        "\n",
        "#---\n",
        "\n",
        "# Import necessary libraries\n",
        "import numpy as np\n",
        "from numpy import savetxt\n",
        "import pandas as pd\n",
        "\n",
        "#---\n",
        "\n",
        "# Create array\n",
        "arr = np.array([1, 2, 3, 4, 5])\n",
        "\n",
        "# save to csv file\n",
        "savetxt('arr.csv', arr, delimiter=',')  # You will see the results if you press in the File icon (left panel)"
      ]
    },
    {
      "cell_type": "code",
      "execution_count": null,
      "metadata": {
        "id": "86SqT0O37YA3"
      },
      "outputs": [],
      "source": [
        ""
      ]
    },
    {
      "cell_type": "code",
      "execution_count": null,
      "metadata": {
        "id": "kzpBMRrA-Mc0"
      },
      "outputs": [],
      "source": [
        "import numpy as np\n",
        "a = np.array([1, 2, 3, 4, 5])\n",
        "np.savetxt(\"arrayQun.txt\", a, fmt = \"% s\")"
      ]
    },
    {
      "cell_type": "code",
      "execution_count": null,
      "metadata": {
        "id": "ugNFgxDE-eSk"
      },
      "outputs": [],
      "source": [
        "A[0][0]"
      ]
    },
    {
      "cell_type": "code",
      "execution_count": null,
      "metadata": {
        "id": "qIel95W6FB5Z"
      },
      "outputs": [],
      "source": [
        "A"
      ]
    },
    {
      "cell_type": "code",
      "execution_count": null,
      "metadata": {
        "id": "-Xvn2pqlOhZX"
      },
      "outputs": [],
      "source": [
        ""
      ]
    },
    {
      "cell_type": "code",
      "execution_count": null,
      "metadata": {
        "id": "Vh51j3_pe1gR"
      },
      "outputs": [],
      "source": [
        ""
      ]
    },
    {
      "cell_type": "code",
      "execution_count": null,
      "metadata": {
        "id": "kcSHjMs1e1ms"
      },
      "outputs": [],
      "source": [
        "A"
      ]
    },
    {
      "cell_type": "code",
      "execution_count": null,
      "metadata": {
        "id": "129Y-5Doe1ql"
      },
      "outputs": [],
      "source": [
        ""
      ]
    },
    {
      "cell_type": "code",
      "execution_count": null,
      "metadata": {
        "id": "UNdXTnl4e1tx"
      },
      "outputs": [],
      "source": [
        ""
      ]
    },
    {
      "cell_type": "code",
      "execution_count": null,
      "metadata": {
        "id": "2WeZtqJ8e1wi"
      },
      "outputs": [],
      "source": [
        "A"
      ]
    },
    {
      "cell_type": "code",
      "execution_count": null,
      "metadata": {
        "id": "U4FpHBlue1z6"
      },
      "outputs": [],
      "source": [
        ""
      ]
    },
    {
      "cell_type": "code",
      "execution_count": null,
      "metadata": {
        "id": "1MWG1xpaiIn7"
      },
      "outputs": [],
      "source": [
        ""
      ]
    },
    {
      "cell_type": "code",
      "execution_count": null,
      "metadata": {
        "id": "qCBtqBGIiIrB"
      },
      "outputs": [],
      "source": [
        ""
      ]
    },
    {
      "cell_type": "code",
      "execution_count": null,
      "metadata": {
        "id": "UbrhG0aFiIt8"
      },
      "outputs": [],
      "source": [
        ""
      ]
    },
    {
      "cell_type": "code",
      "execution_count": null,
      "metadata": {
        "id": "3AcG6EWMiXY2"
      },
      "outputs": [],
      "source": [
        "A"
      ]
    },
    {
      "cell_type": "code",
      "execution_count": null,
      "metadata": {
        "id": "XDHdexOEiXcu"
      },
      "outputs": [],
      "source": [
        ""
      ]
    },
    {
      "cell_type": "code",
      "execution_count": null,
      "metadata": {
        "id": "fNKTu2PZiXg3"
      },
      "outputs": [],
      "source": [
        ""
      ]
    },
    {
      "cell_type": "code",
      "execution_count": null,
      "metadata": {
        "id": "zLCKSn_NiXkF"
      },
      "outputs": [],
      "source": [
        ""
      ]
    },
    {
      "cell_type": "code",
      "execution_count": null,
      "metadata": {
        "id": "bmg7nWOIiIw7"
      },
      "outputs": [],
      "source": [
        ""
      ]
    },
    {
      "cell_type": "code",
      "execution_count": null,
      "metadata": {
        "id": "CZeA0ymYiIzz"
      },
      "outputs": [],
      "source": [
        "import numpy\n",
        "numpy.savetxt(\"foo1.csv\", [[]], delimiter=\",\")"
      ]
    },
    {
      "cell_type": "code",
      "execution_count": null,
      "metadata": {
        "id": "0PymHvyxiI2r"
      },
      "outputs": [],
      "source": [
        "import csv\n",
        "with open('foo1.csv', 'w', newline='') as csvfile:\n",
        "    spamwriter = csv.writer(csvfile, delimiter=' ',\n",
        "                            quotechar=' ', quoting=csv.QUOTE_MINIMAL)\n",
        "    spamwriter.writerow([A[0][0]])\n",
        "    for k in range(2):\n",
        "        for j in range(6):\n",
        "            spamwriter.writerow([A[k][j]])\n",
        "    spamwriter.writerow([A[2][0]])\n",
        "    spamwriter.writerow([A[2][1]])\n",
        "    spamwriter.writerow([A[2][2]])"
      ]
    },
    {
      "cell_type": "code",
      "execution_count": null,
      "metadata": {
        "id": "HJm9K_DCe129"
      },
      "outputs": [],
      "source": [
        "import pandas as pd"
      ]
    },
    {
      "cell_type": "code",
      "execution_count": null,
      "metadata": {
        "id": "oU1Cumsy6Xgi"
      },
      "outputs": [],
      "source": [
        "A_mat=pd.read_csv('foo1.csv')  "
      ]
    },
    {
      "cell_type": "code",
      "execution_count": null,
      "metadata": {
        "id": "qidV91uL6Xgi"
      },
      "outputs": [],
      "source": [
        "\n",
        "\n",
        "row = A_mat.iloc[0]"
      ]
    },
    {
      "cell_type": "code",
      "execution_count": null,
      "metadata": {
        "id": "Vy6ibZe16Xgi"
      },
      "outputs": [],
      "source": [
        "list(row)"
      ]
    },
    {
      "cell_type": "code",
      "execution_count": null,
      "metadata": {
        "id": "gdONba9Z6Xgi"
      },
      "outputs": [],
      "source": [
        ""
      ]
    },
    {
      "cell_type": "code",
      "execution_count": null,
      "metadata": {
        "id": "YU4FiSlU6Xgi"
      },
      "outputs": [],
      "source": [
        "print(row.replace('\\'', ''))"
      ]
    },
    {
      "cell_type": "code",
      "execution_count": null,
      "metadata": {
        "id": "9Cug6NyK6Xgi"
      },
      "outputs": [],
      "source": [
        "list(row.replace('\\'', ''))"
      ]
    },
    {
      "cell_type": "code",
      "execution_count": null,
      "metadata": {
        "id": "Lxui2Axg6Xgi"
      },
      "outputs": [],
      "source": [
        ""
      ]
    }
  ],
  "metadata": {
    "colab": {
      "collapsed_sections": [],
      "machine_shape": "hm",
      "name": "CheckBasis_ij_GellMann.ipynb",
      "provenance": []
    },
    "kernelspec": {
      "display_name": "Python 3",
      "language": "python",
      "name": "python3"
    },
    "language_info": {
      "codemirror_mode": {
        "name": "ipython",
        "version": 3
      },
      "file_extension": ".py",
      "mimetype": "text/x-python",
      "name": "python",
      "nbconvert_exporter": "python",
      "pygments_lexer": "ipython3",
      "version": "3.8.3"
    }
  },
  "nbformat": 4,
  "nbformat_minor": 0
}