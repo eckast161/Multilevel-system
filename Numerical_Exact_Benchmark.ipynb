{
 "cells": [
  {
   "cell_type": "markdown",
   "metadata": {},
   "source": [
    "# Parameters"
   ]
  },
  {
   "cell_type": "code",
   "execution_count": null,
   "metadata": {},
   "outputs": [],
   "source": []
  },
  {
   "cell_type": "code",
   "execution_count": 1,
   "metadata": {},
   "outputs": [],
   "source": [
    "import matplotlib.pyplot as plt\n",
    "import numpy as np\n",
    "\n",
    "\"\"\"In order to provide a better presentation of the graphs we use the rcParams options shown below.\"\"\"\n",
    "\n",
    "import matplotlib\n",
    "matplotlib.rcParams['text.usetex'] = False\n",
    "matplotlib.rcParams['mathtext.fontset'] = 'stix'\n",
    "matplotlib.rcParams['font.family'] = 'STIXGeneral'\n",
    "matplotlib.rcParams['font.size'] = 15\n",
    "matplotlib.rcParams['figure.figsize'] = (11.0, 8.0)"
   ]
  },
  {
   "cell_type": "code",
   "execution_count": null,
   "metadata": {},
   "outputs": [],
   "source": []
  },
  {
   "cell_type": "code",
   "execution_count": 2,
   "metadata": {},
   "outputs": [],
   "source": [
    "import time\n",
    "from numba import jit\n",
    "\n",
    "\n",
    "T0=time.time()"
   ]
  },
  {
   "cell_type": "code",
   "execution_count": 3,
   "metadata": {},
   "outputs": [],
   "source": [
    "t_final=40"
   ]
  },
  {
   "cell_type": "code",
   "execution_count": 4,
   "metadata": {},
   "outputs": [],
   "source": [
    "#Parameters\n",
    "\n",
    "Theta=0\n",
    "Phi=0\n",
    "\n",
    "\n",
    "#Number of atoms\n",
    "\n",
    "N=4\n",
    "\n",
    "gr=1\n",
    "\n",
    "DeltaR=20*gr*np.sqrt(N)*np.cos(Theta/2)\n",
    "\n",
    "chiR=gr**2/(DeltaR)\n",
    "chiL=0\n",
    "\n",
    "\n",
    "fraction=0.6\n",
    "\n",
    "OmegaR=fraction*N*((np.cos(Theta/2))**2)*gr**2/(DeltaR)\n",
    "OmegaL=0\n",
    "###   H=chiR*Z3M+chiL*Z2M+(OmegaR/2)*(Plus03M+Minus03M)+(OmegaL/2)*(Plus12M+Minus12M)"
   ]
  },
  {
   "cell_type": "code",
   "execution_count": null,
   "metadata": {},
   "outputs": [],
   "source": []
  },
  {
   "cell_type": "code",
   "execution_count": null,
   "metadata": {},
   "outputs": [],
   "source": []
  },
  {
   "cell_type": "markdown",
   "metadata": {},
   "source": [
    "# Definition of Dicke-Generalized States"
   ]
  },
  {
   "cell_type": "code",
   "execution_count": 5,
   "metadata": {},
   "outputs": [],
   "source": [
    "import numpy as np\n",
    "from numpy import sqrt\n",
    "import matplotlib.pyplot as plt\n",
    "\n",
    "\n",
    "#--------------------------------------\n",
    "\n",
    "State_List=[]\n",
    "\n",
    "import scipy.special\n",
    "\n",
    "#Number of generalized Dicke states\n",
    "\n",
    "N_Dicke=int(scipy.special.binom(N+3, 3))\n",
    "\n",
    "#Sparse matrix asscoiated with the hamiltonian in the generalized Dicke basis\n",
    "\n",
    "\n",
    "Spar_Hamil_H1=np.zeros((N_Dicke,N_Dicke),complex)"
   ]
  },
  {
   "cell_type": "code",
   "execution_count": null,
   "metadata": {},
   "outputs": [],
   "source": []
  },
  {
   "cell_type": "code",
   "execution_count": 6,
   "metadata": {},
   "outputs": [],
   "source": [
    "import itertools\n",
    "from itertools import permutations\n",
    "from numba import jit\n",
    "\n",
    "\n",
    "def List_Dicke(N=N):\n",
    "    Gen_Dicke_List=[]\n",
    "\n",
    "    for n0 in range(N):\n",
    "        for n1 in range(N-n0):\n",
    "            for n2 in range(N-n0-n1):\n",
    "                Gen_Dicke_List.append([n0,n1,n2,N-n0-n1-n2])\n",
    "            \n",
    "    St_List=[]\n",
    "    \n",
    "    for j in Gen_Dicke_List:\n",
    "        for k in list(permutations(j)):\n",
    "            St_List.append(list(k))\n",
    "\n",
    "    St_List.sort(reverse=True)\n",
    "    Final_result=list(St_List for St_List,_ in itertools.groupby(St_List))\n",
    "    return Final_result\n",
    "\n",
    "\n",
    "\n",
    "List_results=List_Dicke(N)\n",
    "\n",
    "\n",
    "Indexer_func=[1,N,N**2,N**3]\n",
    "\n",
    "Index_state=[]\n",
    "\n",
    "\n",
    "for j in List_results:\n",
    "    Index_state.append([np.dot(j,Indexer_func),j])\n",
    "\n",
    "Index_state.sort()\n",
    "\n",
    "Index_States_final=[]\n",
    "\n",
    "\n",
    "States_sorted=[]\n",
    "\n",
    "\n",
    "for j in range(len(Index_state)):\n",
    "    Rep_column=np.zeros((N_Dicke,1))\n",
    "    Rep_column[j,0]=1\n",
    "    Index_States_final.append([j,Index_state[j][1],Rep_column])\n",
    "    States_sorted.append(Index_state[j][1])\n",
    "    "
   ]
  },
  {
   "cell_type": "code",
   "execution_count": 7,
   "metadata": {},
   "outputs": [],
   "source": [
    "from scipy.integrate import complex_ode\n",
    "\n",
    "\"\"\"Our system of differential equations belongs to the complex space, that is why we implemented the code suggested in\"\"\"\n",
    "\"\"\"https://stackoverflow.com/questions/19910189/scipy-odeint-with-complex-initial-values.\"\"\"\n",
    "\n",
    "import time\n",
    "import numpy as np\n",
    "from scipy.integrate import odeint\n",
    "\n",
    "\n",
    "def odeintz(func, z0, t, **kwargs):\n",
    "   \n",
    "    \n",
    "    \"\"\"An odeint-like function for complex valued differential equations.\n",
    "\n",
    "    Inputs:\n",
    "    ----------\n",
    "      -func: function associated to dr/dt=f(x;t), where x is the set of parameters and variables to be determined\n",
    "      -z0: 1d array with length N*(5N-1)/2\n",
    "      -t: 1d array from t=0 to t=tf (parameter set by the user)\n",
    "      - **kwargs: keyword arguments related with external functions to be used in odeint\n",
    "    \n",
    "    Return:\n",
    "      -z: multivariable array with the solution of the differential equation associated with each variable\"\"\"\n",
    "\n",
    "    \n",
    "    \n",
    "    \n",
    "\n",
    "    # Disallow Jacobian-related arguments.\n",
    "    _unsupported_odeint_args = ['Dfun', 'col_deriv', 'ml', 'mu']\n",
    "    bad_args = [arg for arg in kwargs if arg in _unsupported_odeint_args]\n",
    "    if len(bad_args) > 0:\n",
    "        raise ValueError(\"The odeint argument %r is not supported by \"\n",
    "                         \"odeintz.\" % (bad_args[0],))\n",
    "\n",
    "    # Make sure z0 is a numpy array of type np.complex128.\n",
    "    z0 = np.array(z0, dtype=np.complex128, ndmin=1)\n",
    "\n",
    "    def realfunc(x, t, *args):\n",
    "        z = x.view(np.complex128)\n",
    "        dzdt = func(z, t, *args)\n",
    "        # func might return a python list, so convert its return\n",
    "        # value to an array with type np.complex128, and then return\n",
    "        # a np.float64 view of that array.\n",
    "        return np.asarray(dzdt, dtype=np.complex128).view(np.float64)\n",
    "\n",
    "    result = odeint(realfunc, z0.view(np.float64), t, **kwargs)\n",
    "\n",
    "    if kwargs.get('full_output', False):\n",
    "        z = result[0].view(np.complex128)\n",
    "        infodict = result[1]\n",
    "        return z, infodict\n",
    "    else:\n",
    "        z = result.view(np.complex128)\n",
    "        return z"
   ]
  },
  {
   "cell_type": "markdown",
   "metadata": {},
   "source": [
    "## Description of operators"
   ]
  },
  {
   "cell_type": "code",
   "execution_count": 8,
   "metadata": {},
   "outputs": [],
   "source": [
    "def dagger(A):\n",
    "    return np.transpose(np.conjugate(A))"
   ]
  },
  {
   "cell_type": "markdown",
   "metadata": {},
   "source": [
    "### $R^+=\\sum_i   \\left| 3 \\right>\\!\\!\\left< 0 \\right|_i$"
   ]
  },
  {
   "cell_type": "code",
   "execution_count": 9,
   "metadata": {},
   "outputs": [
    {
     "name": "stdout",
     "output_type": "stream",
     "text": [
      "0.0\n"
     ]
    }
   ],
   "source": [
    "# H_2=\\omega_R*R_x+\\omega_L*L_x\n",
    "\n",
    "\n",
    "Spar_Hamil_Plus03=np.zeros((N_Dicke,N_Dicke),complex)\n",
    "\n",
    "\n",
    "def Plus03(State_rep):\n",
    "    \n",
    "    n0=State_rep[0]\n",
    "    n1=State_rep[1]\n",
    "    n2=State_rep[2]\n",
    "    n3=N-n2-n1-n0\n",
    "    \n",
    "    Plus03_state=np.zeros((N_Dicke,1))\n",
    "    \n",
    "\n",
    "    if n0!=0 and n3!=N:\n",
    "        index=States_sorted.index([n0-1,n1,n2,n3+1])\n",
    "        Vecto_Rep=np.array(Index_States_final[index][2])\n",
    "        Plus03_state=Plus03_state+sqrt(n0*(n3+1))*Vecto_Rep\n",
    "              \n",
    "    \n",
    "    return Plus03_state\n",
    "\n",
    "\n",
    "t0=time.time()\n",
    "\n",
    "\n",
    "def fun03M():\n",
    "    for i in range(N_Dicke):\n",
    "        for j in range(N_Dicke):\n",
    "            Spar_Hamil_Plus03[i][j]=np.dot(np.transpose(Index_States_final[i][2]),Plus03(States_sorted[j]))[0][0]\n",
    "    return Spar_Hamil_Plus03\n",
    "        \n",
    "t1=time.time()\n",
    "\n",
    "Plus03M=fun03M()\n",
    "Minus03M=dagger(Plus03M)\n",
    "\n",
    "print(t1-t0)\n"
   ]
  },
  {
   "cell_type": "code",
   "execution_count": null,
   "metadata": {},
   "outputs": [],
   "source": [
    "\n"
   ]
  },
  {
   "cell_type": "code",
   "execution_count": null,
   "metadata": {},
   "outputs": [],
   "source": []
  },
  {
   "cell_type": "markdown",
   "metadata": {},
   "source": [
    "### $L^+=\\sum_i   \\left| 2 \\right>\\!\\!\\left< 1 \\right|_i$"
   ]
  },
  {
   "cell_type": "code",
   "execution_count": null,
   "metadata": {},
   "outputs": [],
   "source": []
  },
  {
   "cell_type": "code",
   "execution_count": 10,
   "metadata": {},
   "outputs": [
    {
     "name": "stdout",
     "output_type": "stream",
     "text": [
      "0.02099609375\n"
     ]
    }
   ],
   "source": [
    "# H_2=\\omega_R*R_x+\\omega_L*L_x\n",
    "\n",
    "\n",
    "Spar_Hamil_Plus12=np.zeros((N_Dicke,N_Dicke),complex)\n",
    "\n",
    "def Plus12(State_rep):\n",
    "    \n",
    "    n0=State_rep[0]\n",
    "    n1=State_rep[1]\n",
    "    n2=State_rep[2]\n",
    "    n3=N-n2-n1-n0\n",
    "    \n",
    "    Plus12_state=np.zeros((N_Dicke,1))\n",
    "    \n",
    "    \n",
    "    if n1!=0 and n2!=N:\n",
    "        index=States_sorted.index([n0,n1-1,n2+1,n3])\n",
    "        Vecto_Rep=np.array(Index_States_final[index][2])\n",
    "        Plus12_state=Plus12_state+sqrt(n1*(n2+1))*Vecto_Rep\n",
    "    \n",
    "\n",
    "    \n",
    "    return Plus12_state\n",
    "\n",
    "\n",
    "t0=time.time()\n",
    "\n",
    "for i in range(N_Dicke):\n",
    "    for j in range(N_Dicke):\n",
    "        Spar_Hamil_Plus12[i][j]=np.dot(np.transpose(Index_States_final[i][2]),Plus12(States_sorted[j]))[0][0]\n",
    "        \n",
    "        \n",
    "t1=time.time()\n",
    "\n",
    "print(t1-t0)\n",
    "\n",
    "\n",
    "Plus12M=Spar_Hamil_Plus12\n",
    "\n",
    "\n",
    "Minus12M=dagger(Plus12M)"
   ]
  },
  {
   "cell_type": "code",
   "execution_count": null,
   "metadata": {},
   "outputs": [],
   "source": []
  },
  {
   "cell_type": "markdown",
   "metadata": {},
   "source": [
    "## $G^+=\\sum_i   \\left| 1 \\right>\\!\\!\\left< 0 \\right|_i$"
   ]
  },
  {
   "cell_type": "code",
   "execution_count": null,
   "metadata": {},
   "outputs": [],
   "source": []
  },
  {
   "cell_type": "code",
   "execution_count": 11,
   "metadata": {},
   "outputs": [
    {
     "name": "stdout",
     "output_type": "stream",
     "text": [
      "0.02500176429748535\n"
     ]
    }
   ],
   "source": [
    "\n",
    "Spar_Hamil_Plus01=np.zeros((N_Dicke,N_Dicke),complex)\n",
    "\n",
    "def Plus01(State_rep):\n",
    "    \n",
    "    n0=State_rep[0]\n",
    "    n1=State_rep[1]\n",
    "    n2=State_rep[2]\n",
    "    n3=N-n2-n1-n0\n",
    "    \n",
    "    Plus01_state=np.zeros((N_Dicke,1))\n",
    "    \n",
    "    \n",
    "    if n0!=0 and n1!=N:\n",
    "        index=States_sorted.index([n0-1,n1+1,n2,n3])\n",
    "        Vecto_Rep=np.array(Index_States_final[index][2])\n",
    "        Plus01_state=Plus01_state+sqrt(n0*(n1+1))*Vecto_Rep\n",
    "    \n",
    "\n",
    "    \n",
    "    return Plus01_state\n",
    "\n",
    "\n",
    "t0=time.time()\n",
    "\n",
    "for i in range(N_Dicke):\n",
    "    for j in range(N_Dicke):\n",
    "        Spar_Hamil_Plus01[i][j]=np.dot(np.transpose(Index_States_final[i][2]),Plus01(States_sorted[j]))[0][0]\n",
    "        \n",
    "        \n",
    "t1=time.time()\n",
    "\n",
    "print(t1-t0)\n",
    "\n",
    "\n",
    "Plus01M=Spar_Hamil_Plus01\n",
    "\n",
    "Minus01M=dagger(Plus01M)"
   ]
  },
  {
   "cell_type": "code",
   "execution_count": null,
   "metadata": {},
   "outputs": [],
   "source": []
  },
  {
   "cell_type": "code",
   "execution_count": null,
   "metadata": {},
   "outputs": [],
   "source": []
  },
  {
   "cell_type": "markdown",
   "metadata": {},
   "source": [
    "## $E^+=\\sum_i   \\left| 3 \\right>\\!\\!\\left< 2 \\right|_i$"
   ]
  },
  {
   "cell_type": "code",
   "execution_count": null,
   "metadata": {},
   "outputs": [],
   "source": []
  },
  {
   "cell_type": "code",
   "execution_count": 12,
   "metadata": {},
   "outputs": [
    {
     "name": "stdout",
     "output_type": "stream",
     "text": [
      "0.03099203109741211\n"
     ]
    }
   ],
   "source": [
    "\n",
    "Spar_Hamil_Plus23=np.zeros((N_Dicke,N_Dicke),complex)\n",
    "\n",
    "def Plus23(State_rep):\n",
    "    \n",
    "    n0=State_rep[0]\n",
    "    n1=State_rep[1]\n",
    "    n2=State_rep[2]\n",
    "    n3=N-n2-n1-n0\n",
    "    \n",
    "    Plus23_state=np.zeros((N_Dicke,1))\n",
    "    \n",
    "    \n",
    "    if n2!=0 and n3!=N:\n",
    "        index=States_sorted.index([n0,n1,n2-1,n3+1])\n",
    "        Vecto_Rep=np.array(Index_States_final[index][2])\n",
    "        Plus23_state=Plus23_state+sqrt(n2*(n3+1))*Vecto_Rep\n",
    "    \n",
    "\n",
    "    \n",
    "    return Plus23_state\n",
    "\n",
    "\n",
    "t0=time.time()\n",
    "\n",
    "for i in range(N_Dicke):\n",
    "    for j in range(N_Dicke):\n",
    "        Spar_Hamil_Plus23[i][j]=np.dot(np.transpose(Index_States_final[i][2]),Plus23(States_sorted[j]))[0][0]\n",
    "        \n",
    "        \n",
    "t1=time.time()\n",
    "\n",
    "print(t1-t0)\n",
    "\n",
    "\n",
    "Plus23M=Spar_Hamil_Plus23\n",
    "\n",
    "Minus23M=dagger(Plus23M)"
   ]
  },
  {
   "cell_type": "code",
   "execution_count": null,
   "metadata": {},
   "outputs": [],
   "source": []
  },
  {
   "cell_type": "markdown",
   "metadata": {},
   "source": [
    "## $M^+=\\sum_i   \\left| 2 \\right>\\!\\!\\left< 0 \\right|_i$"
   ]
  },
  {
   "cell_type": "code",
   "execution_count": null,
   "metadata": {},
   "outputs": [],
   "source": []
  },
  {
   "cell_type": "code",
   "execution_count": 13,
   "metadata": {},
   "outputs": [
    {
     "name": "stdout",
     "output_type": "stream",
     "text": [
      "0.03017711639404297\n"
     ]
    }
   ],
   "source": [
    "\n",
    "Spar_Hamil_Plus02=np.zeros((N_Dicke,N_Dicke),complex)\n",
    "\n",
    "def Plus02(State_rep):\n",
    "    \n",
    "    n0=State_rep[0]\n",
    "    n1=State_rep[1]\n",
    "    n2=State_rep[2]\n",
    "    n3=N-n2-n1-n0\n",
    "    \n",
    "    Plus02_state=np.zeros((N_Dicke,1))\n",
    "    \n",
    "    \n",
    "    if n0!=0 and n2!=N:\n",
    "        index=States_sorted.index([n0-1,n1,n2+1,n3])\n",
    "        Vecto_Rep=np.array(Index_States_final[index][2])\n",
    "        Plus02_state=Plus02_state+sqrt(n0*(n2+1))*Vecto_Rep\n",
    "    \n",
    "\n",
    "    \n",
    "    return Plus02_state\n",
    "\n",
    "\n",
    "t0=time.time()\n",
    "\n",
    "for i in range(N_Dicke):\n",
    "    for j in range(N_Dicke):\n",
    "        Spar_Hamil_Plus02[i][j]=np.dot(np.transpose(Index_States_final[i][2]),Plus02(States_sorted[j]))[0][0]\n",
    "        \n",
    "        \n",
    "t1=time.time()\n",
    "\n",
    "print(t1-t0)\n",
    "\n",
    "\n",
    "Plus02M=Spar_Hamil_Plus02\n",
    "Minus02M=dagger(Plus02M)"
   ]
  },
  {
   "cell_type": "code",
   "execution_count": null,
   "metadata": {},
   "outputs": [],
   "source": []
  },
  {
   "cell_type": "markdown",
   "metadata": {},
   "source": [
    "## $P^+=\\sum_i   \\left| 3 \\right>\\!\\!\\left< 1 \\right|_i$"
   ]
  },
  {
   "cell_type": "code",
   "execution_count": null,
   "metadata": {},
   "outputs": [],
   "source": []
  },
  {
   "cell_type": "code",
   "execution_count": 14,
   "metadata": {},
   "outputs": [
    {
     "name": "stdout",
     "output_type": "stream",
     "text": [
      "0.03299975395202637\n"
     ]
    }
   ],
   "source": [
    "\n",
    "Spar_Hamil_Plus13=np.zeros((N_Dicke,N_Dicke),complex)\n",
    "\n",
    "def Plus13(State_rep):\n",
    "    \n",
    "    n0=State_rep[0]\n",
    "    n1=State_rep[1]\n",
    "    n2=State_rep[2]\n",
    "    n3=N-n2-n1-n0\n",
    "    \n",
    "    Plus13_state=np.zeros((N_Dicke,1))\n",
    "    \n",
    "    \n",
    "    if n1!=0 and n3!=N:\n",
    "        index=States_sorted.index([n0,n1-1,n2,n3+1])\n",
    "        Vecto_Rep=np.array(Index_States_final[index][2])\n",
    "        Plus13_state=Plus13_state+sqrt(n1*(n3+1))*Vecto_Rep\n",
    "    \n",
    "\n",
    "    \n",
    "    return Plus13_state\n",
    "\n",
    "\n",
    "t0=time.time()\n",
    "\n",
    "for i in range(N_Dicke):\n",
    "    for j in range(N_Dicke):\n",
    "        Spar_Hamil_Plus13[i][j]=np.dot(np.transpose(Index_States_final[i][2]),Plus13(States_sorted[j]))[0][0]\n",
    "        \n",
    "        \n",
    "t1=time.time()\n",
    "\n",
    "print(t1-t0)\n",
    "\n",
    "\n",
    "Plus13M=Spar_Hamil_Plus13\n",
    "Minus13M=dagger(Plus13M)"
   ]
  },
  {
   "cell_type": "code",
   "execution_count": null,
   "metadata": {},
   "outputs": [],
   "source": []
  },
  {
   "cell_type": "code",
   "execution_count": null,
   "metadata": {},
   "outputs": [],
   "source": []
  },
  {
   "cell_type": "code",
   "execution_count": null,
   "metadata": {},
   "outputs": [],
   "source": []
  },
  {
   "cell_type": "code",
   "execution_count": 15,
   "metadata": {},
   "outputs": [
    {
     "name": "stdout",
     "output_type": "stream",
     "text": [
      "0.025998830795288086\n"
     ]
    }
   ],
   "source": [
    "\n",
    "Spar_Hamil_Z3=np.zeros((N_Dicke,N_Dicke),complex)\n",
    "\n",
    "def Z3(State_rep):\n",
    "    \n",
    "    n0=State_rep[0]\n",
    "    n1=State_rep[1]\n",
    "    n2=State_rep[2]\n",
    "    n3=N-n2-n1-n0\n",
    "    \n",
    "    Z3_state=np.zeros((N_Dicke,1))\n",
    "    \n",
    "    \n",
    "    if n1!=-1 and n3!=-1:\n",
    "        index=States_sorted.index([n0,n1,n2,n3])\n",
    "        Vecto_Rep=np.array(Index_States_final[index][2])\n",
    "        Z3_state=Z3_state+n3*(n0+1)*Vecto_Rep\n",
    "    \n",
    "\n",
    "    \n",
    "    return Z3_state\n",
    "\n",
    "\n",
    "t0=time.time()\n",
    "\n",
    "for i in range(N_Dicke):\n",
    "    for j in range(N_Dicke):\n",
    "        Spar_Hamil_Z3[i][j]=np.dot(np.transpose(Index_States_final[i][2]),Z3(States_sorted[j]))[0][0]\n",
    "        \n",
    "        \n",
    "t1=time.time()\n",
    "\n",
    "print(t1-t0)\n",
    "\n",
    "\n",
    "Z3M=Spar_Hamil_Z3"
   ]
  },
  {
   "cell_type": "code",
   "execution_count": null,
   "metadata": {},
   "outputs": [],
   "source": []
  },
  {
   "cell_type": "code",
   "execution_count": 16,
   "metadata": {},
   "outputs": [
    {
     "name": "stdout",
     "output_type": "stream",
     "text": [
      "0.016002416610717773\n"
     ]
    }
   ],
   "source": [
    "\n",
    "Spar_Hamil_Z2=np.zeros((N_Dicke,N_Dicke),complex)\n",
    "\n",
    "def Z2(State_rep):\n",
    "    \n",
    "    n0=State_rep[0]\n",
    "    n1=State_rep[1]\n",
    "    n2=State_rep[2]\n",
    "    n3=N-n2-n1-n0\n",
    "\n",
    "\n",
    "    index=States_sorted.index([n0,n1,n2,n3])\n",
    "    Vecto_Rep=np.array(Index_States_final[index][2])\n",
    "    \n",
    "\n",
    "    \n",
    "    return n2*(n1+1)*Vecto_Rep\n",
    "\n",
    "\n",
    "t0=time.time()\n",
    "\n",
    "for i in range(N_Dicke):\n",
    "    for j in range(N_Dicke):\n",
    "        Spar_Hamil_Z2[i][j]=np.dot(np.transpose(Index_States_final[i][2]),Z2(States_sorted[j]))[0][0]\n",
    "        \n",
    "        \n",
    "t1=time.time()\n",
    "\n",
    "print(t1-t0)\n",
    "\n",
    "\n",
    "Z2M=Spar_Hamil_Z2"
   ]
  },
  {
   "cell_type": "code",
   "execution_count": 17,
   "metadata": {},
   "outputs": [
    {
     "data": {
      "text/plain": [
       "'\"\\nplt.imshow(np.real(Z2M))\\nplt.colorbar()\\nplt.show()\\n\\n'"
      ]
     },
     "execution_count": 17,
     "metadata": {},
     "output_type": "execute_result"
    }
   ],
   "source": [
    "import numpy as np\n",
    "import matplotlib.pyplot as plt\n",
    "\"\"\"\"\n",
    "plt.imshow(np.real(Z2M))\n",
    "plt.colorbar()\n",
    "plt.show()\n",
    "\n",
    "\"\"\""
   ]
  },
  {
   "cell_type": "code",
   "execution_count": null,
   "metadata": {},
   "outputs": [],
   "source": []
  },
  {
   "cell_type": "code",
   "execution_count": 18,
   "metadata": {},
   "outputs": [
    {
     "name": "stdout",
     "output_type": "stream",
     "text": [
      "0.020000696182250977\n",
      "0.014002561569213867\n",
      "0.02199864387512207\n",
      "0.017998456954956055\n"
     ]
    }
   ],
   "source": [
    "\n",
    "Spar_Hamil_00=np.zeros((N_Dicke,N_Dicke),complex)\n",
    "\n",
    "def Z00(State_rep):\n",
    "    \n",
    "    n0=State_rep[0]\n",
    "    n1=State_rep[1]\n",
    "    n2=State_rep[2]\n",
    "    n3=N-n2-n1-n0\n",
    "    \n",
    "\n",
    "    index=States_sorted.index([n0,n1,n2,n3])\n",
    "    Vecto_Rep=np.array(Index_States_final[index][2])\n",
    "    Z00_state=(n0)*Vecto_Rep\n",
    "    \n",
    "\n",
    "    \n",
    "    return Z00_state\n",
    "\n",
    "\n",
    "t0=time.time()\n",
    "\n",
    "for i in range(N_Dicke):\n",
    "    for j in range(N_Dicke):\n",
    "        Spar_Hamil_00[i][j]=np.dot(np.transpose(Index_States_final[i][2]),Z00(States_sorted[j]))[0][0]\n",
    "        \n",
    "        \n",
    "t1=time.time()\n",
    "\n",
    "print(t1-t0)\n",
    "\n",
    "\n",
    "\n",
    "\n",
    "\n",
    "\n",
    "Spar_Hamil_11=np.zeros((N_Dicke,N_Dicke),complex)\n",
    "\n",
    "def Z11(State_rep):\n",
    "    \n",
    "    n0=State_rep[0]\n",
    "    n1=State_rep[1]\n",
    "    n2=State_rep[2]\n",
    "    n3=N-n2-n1-n0\n",
    "    \n",
    "\n",
    "    index=States_sorted.index([n0,n1,n2,n3])\n",
    "    Vecto_Rep=np.array(Index_States_final[index][2])\n",
    "    Z11_state=(n1)*Vecto_Rep\n",
    "    \n",
    "\n",
    "    \n",
    "    return Z11_state\n",
    "\n",
    "\n",
    "t0=time.time()\n",
    "\n",
    "for i in range(N_Dicke):\n",
    "    for j in range(N_Dicke):\n",
    "        Spar_Hamil_11[i][j]=np.dot(np.transpose(Index_States_final[i][2]),Z11(States_sorted[j]))[0][0]\n",
    "        \n",
    "        \n",
    "t1=time.time()\n",
    "\n",
    "print(t1-t0)\n",
    "\n",
    "\n",
    "\n",
    "\n",
    "\n",
    "Spar_Hamil_22=np.zeros((N_Dicke,N_Dicke),complex)\n",
    "\n",
    "def Z22(State_rep):\n",
    "    \n",
    "    n0=State_rep[0]\n",
    "    n1=State_rep[1]\n",
    "    n2=State_rep[2]\n",
    "    n3=N-n2-n1-n0\n",
    "    \n",
    "\n",
    "    index=States_sorted.index([n0,n1,n2,n3])\n",
    "    Vecto_Rep=np.array(Index_States_final[index][2])\n",
    "    Z22_state=(n2)*Vecto_Rep\n",
    "    \n",
    "\n",
    "    \n",
    "    return Z22_state\n",
    "\n",
    "\n",
    "t0=time.time()\n",
    "\n",
    "for i in range(N_Dicke):\n",
    "    for j in range(N_Dicke):\n",
    "        Spar_Hamil_22[i][j]=np.dot(np.transpose(Index_States_final[i][2]),Z22(States_sorted[j]))[0][0]\n",
    "        \n",
    "        \n",
    "t1=time.time()\n",
    "\n",
    "print(t1-t0)\n",
    "\n",
    "\n",
    "\n",
    "\n",
    "\n",
    "\n",
    "\n",
    "\n",
    "Spar_Hamil_33=np.zeros((N_Dicke,N_Dicke),complex)\n",
    "\n",
    "def Z33(State_rep):\n",
    "    \n",
    "    n0=State_rep[0]\n",
    "    n1=State_rep[1]\n",
    "    n2=State_rep[2]\n",
    "    n3=N-n2-n1-n0\n",
    "    \n",
    "\n",
    "    index=States_sorted.index([n0,n1,n2,n3])\n",
    "    Vecto_Rep=np.array(Index_States_final[index][2])\n",
    "    Z33_state=(n3)*Vecto_Rep\n",
    "    \n",
    "\n",
    "    \n",
    "    return Z33_state\n",
    "\n",
    "\n",
    "t0=time.time()\n",
    "\n",
    "for i in range(N_Dicke):\n",
    "    for j in range(N_Dicke):\n",
    "        Spar_Hamil_33[i][j]=np.dot(np.transpose(Index_States_final[i][2]),Z33(States_sorted[j]))[0][0]\n",
    "        \n",
    "        \n",
    "t1=time.time()\n",
    "\n",
    "print(t1-t0)\n",
    "\n",
    "Z00=Spar_Hamil_00\n",
    "Z11=Spar_Hamil_11\n",
    "Z22=Spar_Hamil_22\n",
    "Z33=Spar_Hamil_33\n",
    "\n"
   ]
  },
  {
   "cell_type": "code",
   "execution_count": null,
   "metadata": {},
   "outputs": [],
   "source": []
  },
  {
   "cell_type": "markdown",
   "metadata": {},
   "source": [
    "# Hamiltonian"
   ]
  },
  {
   "cell_type": "code",
   "execution_count": null,
   "metadata": {},
   "outputs": [],
   "source": []
  },
  {
   "cell_type": "code",
   "execution_count": 19,
   "metadata": {},
   "outputs": [],
   "source": [
    "H=chiR*Z3M+chiL*Z2M+(OmegaR/2)*(Plus03M+Minus03M)+(OmegaL/2)*(Plus12M+Minus12M)"
   ]
  },
  {
   "cell_type": "code",
   "execution_count": null,
   "metadata": {},
   "outputs": [],
   "source": []
  },
  {
   "cell_type": "markdown",
   "metadata": {},
   "source": [
    "## Initial State $\\left|\\psi\\left(0\\right) \\right>=\\left(  \\cos\\left(\\frac{\\theta}{2}\\right)\\left|0 \\right>+\\rm{exp}\\left(\\rm{i}\\phi \\right) \\sin\\left(\\frac{\\theta}{2}\\right)\\left|1 \\right> \\right)^{\\otimes N}$"
   ]
  },
  {
   "cell_type": "code",
   "execution_count": null,
   "metadata": {},
   "outputs": [],
   "source": []
  },
  {
   "cell_type": "code",
   "execution_count": 20,
   "metadata": {},
   "outputs": [],
   "source": [
    "\n",
    "\n",
    "from numpy import sin, cos, exp\n",
    "\n",
    "Psi_init=np.zeros((N_Dicke,1),complex)\n",
    "\n",
    "for j in range(N+1):\n",
    "    Psi_init[j][0]=((cos(Theta/2))**(N-j))*((sin(Theta/2)*exp(1j*Phi))**j)*sqrt(int(scipy.special.binom(N, j)))    "
   ]
  },
  {
   "cell_type": "code",
   "execution_count": null,
   "metadata": {},
   "outputs": [],
   "source": []
  },
  {
   "cell_type": "markdown",
   "metadata": {},
   "source": [
    "## Solve $\\partial_t \\left|\\psi  \\right>=$ $-\\rm{i}$$H\\left|\\psi  \\right>$"
   ]
  },
  {
   "cell_type": "code",
   "execution_count": 21,
   "metadata": {},
   "outputs": [],
   "source": [
    "#H=Spar_Hamil_H1+Spar_Hamil_H2\n",
    "import matplotlib"
   ]
  },
  {
   "cell_type": "code",
   "execution_count": 22,
   "metadata": {},
   "outputs": [],
   "source": [
    "Psi_init_list=[]\n",
    "\n",
    "for j in Psi_init:\n",
    "    Psi_init_list.append(j[0])"
   ]
  },
  {
   "cell_type": "code",
   "execution_count": null,
   "metadata": {},
   "outputs": [],
   "source": []
  },
  {
   "cell_type": "code",
   "execution_count": 23,
   "metadata": {},
   "outputs": [],
   "source": [
    "from numba import jit\n",
    "\n",
    "#@jit\n",
    "\n",
    "def vectors2(r, t, extern, linear_matrix,N=N):\n",
    "    \n",
    "    \n",
    "    \"\"\"Obtains the vector which summarizes the linear and non-linear elements of the differential matrix wrriten of the form\n",
    "    dr/dt=G(r,t).r, where the matrix G depends of the vector that we want to simulate\n",
    "    \n",
    "    Inputs:\n",
    "    ----------\n",
    "      -r: zeroth index\n",
    "      -t: first index\n",
    "      -extern: index for the zz element\n",
    "      -linear_matrix:\n",
    "    \n",
    "    Returns:\n",
    "      -drdt: vector function with the different contributions from linear and non-linear terms that we require to initialize\n",
    "      odeintz\"\"\"\n",
    "    \n",
    "    \n",
    "    \n",
    "    s = linear_matrix @ r  #Vector multiplication\n",
    "    drdt = s  #sum of the linear and the constant part\n",
    "    \n",
    "    return drdt"
   ]
  },
  {
   "cell_type": "code",
   "execution_count": null,
   "metadata": {},
   "outputs": [],
   "source": []
  },
  {
   "cell_type": "code",
   "execution_count": 24,
   "metadata": {},
   "outputs": [],
   "source": [
    "def sol_vector(steps,t_final):\n",
    "    linear_matrix = -1j*H\n",
    "    extern=0\n",
    "    t = np.linspace(0, t_final, steps)\n",
    "    r = odeintz(vectors2, Psi_init_list, t, args=(extern,linear_matrix))\n",
    "    return r\n",
    "    "
   ]
  },
  {
   "cell_type": "code",
   "execution_count": null,
   "metadata": {},
   "outputs": [],
   "source": []
  },
  {
   "cell_type": "code",
   "execution_count": 25,
   "metadata": {},
   "outputs": [
    {
     "name": "stdout",
     "output_type": "stream",
     "text": [
      "0.02299952507019043\n"
     ]
    }
   ],
   "source": [
    "import time \n",
    "\n",
    "t0=time.time()\n",
    "\n",
    "steps=20000\n",
    "\n",
    "\n",
    "Array_sol=sol_vector(steps,t_final)\n",
    "\n",
    "\n",
    "t1=time.time()\n",
    "\n",
    "print(t1-t0)\n"
   ]
  },
  {
   "cell_type": "code",
   "execution_count": 26,
   "metadata": {},
   "outputs": [],
   "source": [
    "t = np.linspace(0, t_final, steps)\n"
   ]
  },
  {
   "cell_type": "code",
   "execution_count": null,
   "metadata": {},
   "outputs": [],
   "source": []
  },
  {
   "cell_type": "code",
   "execution_count": 27,
   "metadata": {},
   "outputs": [
    {
     "data": {
      "image/png": "[encoded data removed]",
      "text/plain": [
       "<Figure size 720x468 with 1 Axes>"
      ]
     },
     "metadata": {
      "needs_background": "light"
     },
     "output_type": "display_data"
    }
   ],
   "source": [
    "matplotlib.rcParams['figure.figsize'] = (10.0, 6.5)\n",
    "\n",
    "label_size = 20\n",
    "\n",
    "for j in range(N_Dicke):\n",
    "    plt.plot(t,np.real(Array_sol[:,j]))\n",
    "    plt.plot(t,np.imag(Array_sol[:,j]))"
   ]
  },
  {
   "cell_type": "code",
   "execution_count": null,
   "metadata": {},
   "outputs": [],
   "source": []
  },
  {
   "cell_type": "code",
   "execution_count": 28,
   "metadata": {},
   "outputs": [],
   "source": [
    "Op01x=0.5*(Plus01M+Minus01M)\n",
    "Op02x=0.5*(Plus02M+Minus02M)\n",
    "Op03x=0.5*(Plus03M+Minus03M)\n",
    "Op12x=0.5*(Plus12M+Minus12M)\n",
    "Op13x=0.5*(Plus13M+Minus13M)\n",
    "Op23x=0.5*(Plus23M+Minus23M)\n",
    "\n",
    "Op01y=0.5*(Plus01M-Minus01M)/(1j)\n",
    "Op02y=0.5*(Plus02M-Minus02M)/(1j)\n",
    "Op03y=0.5*(Plus03M-Minus03M)/(1j)\n",
    "Op12y=0.5*(Plus12M-Minus12M)/(1j)\n",
    "Op13y=0.5*(Plus13M-Minus13M)/(1j)\n",
    "Op23y=0.5*(Plus23M-Minus23M)/(1j)\n",
    "\n",
    "\n",
    "\n",
    "List_X=[Op01x,Op02x,Op03x,Op12x,Op13x,Op23x]\n",
    "List_Y=[Op01y,Op02y,Op03y,Op12y,Op13y,Op23y]\n",
    "List_Z=[Z00,Z11,Z22,Z33]\n",
    "\n",
    "\n",
    "@jit\n",
    "\n",
    "def expect_op(Operator):\n",
    "    Expect_operator=[]\n",
    "\n",
    "    for j in range(len(t)):\n",
    "        Expect_operator.append(np.dot(np.conjugate(Array_sol[j]),np.dot(Operator,Array_sol[j])))\n",
    "    \n",
    "    return np.real(Expect_operator)    # We assume that we will use inly hermitian operators\n"
   ]
  },
  {
   "cell_type": "code",
   "execution_count": null,
   "metadata": {},
   "outputs": [],
   "source": []
  },
  {
   "cell_type": "code",
   "execution_count": 29,
   "metadata": {},
   "outputs": [
    {
     "name": "stderr",
     "output_type": "stream",
     "text": [
      "<ipython-input-28-415362e4f5f4>:22: NumbaWarning: \u001b[1m\n",
      "Compilation is falling back to object mode WITH looplifting enabled because Function \"expect_op\" failed type inference due to: \u001b[1m\u001b[1m\u001b[1mNo implementation of function Function(<function real at 0x000002681CE8F310>) found for signature:\n",
      " \n",
      " >>> real(list(complex128))\n",
      " \n",
      "There are 2 candidate implementations:\n",
      "\u001b[1m   - Of which 2 did not match due to:\n",
      "   Overload in function 'np_real': File: numba\\np\\arraymath.py: Line 3287.\n",
      "     With argument(s): '(list(complex128))':\u001b[0m\n",
      "\u001b[1m    Rejected as the implementation raised a specific error:\n",
      "      TypingError: Failed in nopython mode pipeline (step: nopython frontend)\n",
      "    \u001b[1m\u001b[1mUnknown attribute 'real' of type list(complex128)\n",
      "    \u001b[1m\n",
      "    File \"..\\..\\..\\anaconda3\\lib\\site-packages\\numba\\np\\arraymath.py\", line 3290:\u001b[0m\n",
      "    \u001b[1m    def np_real_impl(a):\n",
      "    \u001b[1m        return a.real\n",
      "    \u001b[0m        \u001b[1m^\u001b[0m\u001b[0m\n",
      "    \u001b[0m\n",
      "    \u001b[0m\u001b[1mDuring: typing of get attribute at C:\\Users\\camil\\anaconda3\\lib\\site-packages\\numba\\np\\arraymath.py (3290)\u001b[0m\n",
      "    \u001b[1m\n",
      "    File \"..\\..\\..\\anaconda3\\lib\\site-packages\\numba\\np\\arraymath.py\", line 3290:\u001b[0m\n",
      "    \u001b[1m    def np_real_impl(a):\n",
      "    \u001b[1m        return a.real\n",
      "    \u001b[0m        \u001b[1m^\u001b[0m\u001b[0m\n",
      "\u001b[0m\n",
      "  raised from C:\\Users\\camil\\anaconda3\\lib\\site-packages\\numba\\core\\typeinfer.py:994\n",
      "\u001b[0m\n",
      "\u001b[0m\u001b[1mDuring: resolving callee type: Function(<function real at 0x000002681CE8F310>)\u001b[0m\n",
      "\u001b[0m\u001b[1mDuring: typing of call at <ipython-input-28-415362e4f5f4> (30)\n",
      "\u001b[0m\n",
      "\u001b[1m\n",
      "File \"<ipython-input-28-415362e4f5f4>\", line 30:\u001b[0m\n",
      "\u001b[1mdef expect_op(Operator):\n",
      "    <source elided>\n",
      "    \n",
      "\u001b[1m    return np.real(Expect_operator)    # We assume that we will use inly hermitian operators\n",
      "\u001b[0m    \u001b[1m^\u001b[0m\u001b[0m\n",
      "\u001b[0m\n",
      "  @jit\n",
      "<ipython-input-28-415362e4f5f4>:22: NumbaWarning: \u001b[1m\n",
      "Compilation is falling back to object mode WITHOUT looplifting enabled because Function \"expect_op\" failed type inference due to: \u001b[1m\u001b[1mcannot determine Numba type of <class 'numba.core.dispatcher.LiftedLoop'>\u001b[0m\n",
      "\u001b[1m\n",
      "File \"<ipython-input-28-415362e4f5f4>\", line 27:\u001b[0m\n",
      "\u001b[1mdef expect_op(Operator):\n",
      "    <source elided>\n",
      "\n",
      "\u001b[1m    for j in range(len(t)):\n",
      "\u001b[0m    \u001b[1m^\u001b[0m\u001b[0m\n",
      "\u001b[0m\u001b[0m\n",
      "  @jit\n",
      "C:\\Users\\camil\\anaconda3\\lib\\site-packages\\numba\\core\\object_mode_passes.py:177: NumbaWarning: \u001b[1mFunction \"expect_op\" was compiled in object mode without forceobj=True, but has lifted loops.\n",
      "\u001b[1m\n",
      "File \"<ipython-input-28-415362e4f5f4>\", line 25:\u001b[0m\n",
      "\u001b[1mdef expect_op(Operator):\n",
      "\u001b[1m    Expect_operator=[]\n",
      "\u001b[0m    \u001b[1m^\u001b[0m\u001b[0m\n",
      "\u001b[0m\n",
      "  warnings.warn(errors.NumbaWarning(warn_msg,\n",
      "C:\\Users\\camil\\anaconda3\\lib\\site-packages\\numba\\core\\object_mode_passes.py:187: NumbaDeprecationWarning: \u001b[1m\n",
      "Fall-back from the nopython compilation path to the object mode compilation path has been detected, this is deprecated behaviour.\n",
      "\n",
      "For more information visit http://numba.pydata.org/numba-doc/latest/reference/deprecation.html#deprecation-of-object-mode-fall-back-behaviour-when-using-jit\n",
      "\u001b[1m\n",
      "File \"<ipython-input-28-415362e4f5f4>\", line 25:\u001b[0m\n",
      "\u001b[1mdef expect_op(Operator):\n",
      "\u001b[1m    Expect_operator=[]\n",
      "\u001b[0m    \u001b[1m^\u001b[0m\u001b[0m\n",
      "\u001b[0m\n",
      "  warnings.warn(errors.NumbaDeprecationWarning(msg,\n",
      "<ipython-input-28-415362e4f5f4>:22: NumbaWarning: \u001b[1m\n",
      "Compilation is falling back to object mode WITHOUT looplifting enabled because Function \"expect_op\" failed type inference due to: \u001b[1m\u001b[1mnon-precise type pyobject\u001b[0m\n",
      "\u001b[0m\u001b[1mDuring: typing of argument at <ipython-input-28-415362e4f5f4> (27)\u001b[0m\n",
      "\u001b[1m\n",
      "File \"<ipython-input-28-415362e4f5f4>\", line 27:\u001b[0m\n",
      "\u001b[1mdef expect_op(Operator):\n",
      "    <source elided>\n",
      "\n",
      "\u001b[1m    for j in range(len(t)):\n",
      "\u001b[0m    \u001b[1m^\u001b[0m\u001b[0m\n",
      "\u001b[0m\n",
      "  @jit\n",
      "C:\\Users\\camil\\anaconda3\\lib\\site-packages\\numba\\core\\object_mode_passes.py:177: NumbaWarning: \u001b[1mFunction \"expect_op\" was compiled in object mode without forceobj=True.\n",
      "\u001b[1m\n",
      "File \"<ipython-input-28-415362e4f5f4>\", line 27:\u001b[0m\n",
      "\u001b[1mdef expect_op(Operator):\n",
      "    <source elided>\n",
      "\n",
      "\u001b[1m    for j in range(len(t)):\n",
      "\u001b[0m    \u001b[1m^\u001b[0m\u001b[0m\n",
      "\u001b[0m\n",
      "  warnings.warn(errors.NumbaWarning(warn_msg,\n",
      "C:\\Users\\camil\\anaconda3\\lib\\site-packages\\numba\\core\\object_mode_passes.py:187: NumbaDeprecationWarning: \u001b[1m\n",
      "Fall-back from the nopython compilation path to the object mode compilation path has been detected, this is deprecated behaviour.\n",
      "\n",
      "For more information visit http://numba.pydata.org/numba-doc/latest/reference/deprecation.html#deprecation-of-object-mode-fall-back-behaviour-when-using-jit\n",
      "\u001b[1m\n",
      "File \"<ipython-input-28-415362e4f5f4>\", line 27:\u001b[0m\n",
      "\u001b[1mdef expect_op(Operator):\n",
      "    <source elided>\n",
      "\n",
      "\u001b[1m    for j in range(len(t)):\n",
      "\u001b[0m    \u001b[1m^\u001b[0m\u001b[0m\n",
      "\u001b[0m\n",
      "  warnings.warn(errors.NumbaDeprecationWarning(msg,\n"
     ]
    },
    {
     "data": {
      "text/plain": [
       "<matplotlib.legend.Legend at 0x26826fbf4c0>"
      ]
     },
     "execution_count": 29,
     "metadata": {},
     "output_type": "execute_result"
    },
    {
     "data": {
      "image/png": "[encoded data removed]",
      "text/plain": [
       "<Figure size 720x468 with 1 Axes>"
      ]
     },
     "metadata": {
      "needs_background": "light"
     },
     "output_type": "display_data"
    }
   ],
   "source": [
    "plt.plot(t,expect_op(List_X[0]),label='$X_{01}$')\n",
    "plt.plot(t,expect_op(List_X[1]),label='$X_{02}$')\n",
    "plt.plot(t,expect_op(List_X[2]),label='$X_{03}$')\n",
    "plt.plot(t,expect_op(List_X[3]),label='$X_{12}$')\n",
    "plt.plot(t,expect_op(List_X[4]),label='$X_{13}$')\n",
    "plt.plot(t,expect_op(List_X[5]),label='$X_{23}$')\n",
    "\n",
    "\n",
    "plt.legend()"
   ]
  },
  {
   "cell_type": "code",
   "execution_count": 30,
   "metadata": {},
   "outputs": [
    {
     "data": {
      "text/plain": [
       "<matplotlib.legend.Legend at 0x26821777d30>"
      ]
     },
     "execution_count": 30,
     "metadata": {},
     "output_type": "execute_result"
    },
    {
     "data": {
      "image/png": "[encoded data removed]",
      "text/plain": [
       "<Figure size 720x468 with 1 Axes>"
      ]
     },
     "metadata": {
      "needs_background": "light"
     },
     "output_type": "display_data"
    }
   ],
   "source": [
    "plt.plot(t,expect_op(List_X[0]),label='$X_{01}$')\n",
    "plt.plot(t,expect_op(List_X[1]),label='$X_{02}$')\n",
    "plt.plot(t,expect_op(List_X[2]),label='$X_{03}$')\n",
    "plt.plot(t,expect_op(List_X[3]),label='$X_{12}$')\n",
    "plt.plot(t,expect_op(List_X[4]),label='$X_{13}$')\n",
    "plt.plot(t,expect_op(List_X[5]),label='$X_{23}$')\n",
    "\n",
    "\n",
    "plt.xlabel(\"$\\chi t$\")\n",
    "plt.legend()"
   ]
  },
  {
   "cell_type": "code",
   "execution_count": 31,
   "metadata": {},
   "outputs": [
    {
     "data": {
      "text/plain": [
       "<matplotlib.legend.Legend at 0x26826fabb20>"
      ]
     },
     "execution_count": 31,
     "metadata": {},
     "output_type": "execute_result"
    },
    {
     "data": {
      "image/png": "[encoded data removed]",
      "text/plain": [
       "<Figure size 720x468 with 1 Axes>"
      ]
     },
     "metadata": {
      "needs_background": "light"
     },
     "output_type": "display_data"
    }
   ],
   "source": [
    "plt.plot(t,expect_op(List_Y[0]),label='$Y_{01}$')\n",
    "plt.plot(t,expect_op(List_Y[1]),label='$Y_{02}$')\n",
    "plt.plot(t,expect_op(-List_Y[2]),label='$Y_{03}$')\n",
    "plt.plot(t,expect_op(List_Y[3]),label='$Y_{12}$')\n",
    "plt.plot(t,expect_op(List_Y[4]),label='$Y_{13}$')\n",
    "plt.plot(t,expect_op(List_Y[5]),label='$Y_{23}$')\n",
    "\n",
    "\n",
    "plt.xlabel(\"$\\chi t$\")\n",
    "\n",
    "plt.legend()"
   ]
  },
  {
   "cell_type": "code",
   "execution_count": 32,
   "metadata": {},
   "outputs": [
    {
     "data": {
      "text/plain": [
       "<matplotlib.legend.Legend at 0x26826f6a970>"
      ]
     },
     "execution_count": 32,
     "metadata": {},
     "output_type": "execute_result"
    },
    {
     "data": {
      "image/png": "[encoded data removed]",
      "text/plain": [
       "<Figure size 720x468 with 1 Axes>"
      ]
     },
     "metadata": {
      "needs_background": "light"
     },
     "output_type": "display_data"
    }
   ],
   "source": [
    "plt.plot(t,0.5*(expect_op(List_Z[0])-expect_op(List_Z[3])),label='$S_{03,z}$')\n",
    "\n",
    "plt.xlabel(\"$\\chi t$\")\n",
    "\n",
    "plt.legend()"
   ]
  },
  {
   "cell_type": "code",
   "execution_count": 33,
   "metadata": {},
   "outputs": [
    {
     "data": {
      "text/plain": [
       "<matplotlib.legend.Legend at 0x26827798f10>"
      ]
     },
     "execution_count": 33,
     "metadata": {},
     "output_type": "execute_result"
    },
    {
     "data": {
      "image/png": "[encoded data removed]",
      "text/plain": [
       "<Figure size 720x468 with 1 Axes>"
      ]
     },
     "metadata": {
      "needs_background": "light"
     },
     "output_type": "display_data"
    }
   ],
   "source": [
    "plt.plot(t,expect_op(List_Z[0]),label='$Z_{00}$')\n",
    "#plt.plot(t,expect_op(List_Z[1]),label='$Z_{11}$')\n",
    "#plt.plot(t,expect_op(List_Z[2]),label='$Z_{22}$')\n",
    "#plt.plot(t,expect_op(List_Z[3]),label='$Z_{33}$')\n",
    "\n",
    "\n",
    "plt.xlabel(\"$\\chi t$\")\n",
    "\n",
    "plt.legend()"
   ]
  },
  {
   "cell_type": "code",
   "execution_count": null,
   "metadata": {},
   "outputs": [],
   "source": []
  },
  {
   "cell_type": "code",
   "execution_count": 34,
   "metadata": {},
   "outputs": [
    {
     "data": {
      "text/plain": [
       "4"
      ]
     },
     "execution_count": 34,
     "metadata": {},
     "output_type": "execute_result"
    }
   ],
   "source": [
    "N"
   ]
  },
  {
   "cell_type": "code",
   "execution_count": 35,
   "metadata": {},
   "outputs": [
    {
     "data": {
      "text/plain": [
       "<matplotlib.legend.Legend at 0x2682793e670>"
      ]
     },
     "execution_count": 35,
     "metadata": {},
     "output_type": "execute_result"
    },
    {
     "data": {
      "image/png": "[encoded data removed]",
      "text/plain": [
       "<Figure size 720x468 with 1 Axes>"
      ]
     },
     "metadata": {
      "needs_background": "light"
     },
     "output_type": "display_data"
    }
   ],
   "source": [
    "matplotlib.rcParams['figure.figsize'] = (10.0, 6.5)\n",
    "\n",
    "fig3 = plt.figure(3)\n",
    "plt.title(r'Quantum Evolution of $S_k$', fontsize = label_size)\n",
    "plt.xlabel(r'$gt$', fontsize = label_size)\n",
    "#plt.ylabel(r'$\\langle a^\\dagger a\\rangle(t)$', fontsize = label_size)\n",
    "plt.ylabel(r'$\\langle S_k \\rangle(t)$', fontsize = label_size)\n",
    "\n",
    "def partit(number,array):\n",
    "    j=0\n",
    "    dis=len(array)\n",
    "    result=[]\n",
    "    while j*number<dis:\n",
    "        result.append(array[j*number])\n",
    "        j=j+1\n",
    "    return result\n",
    "\n",
    "reductor=10\n",
    "\n",
    "\n",
    "plt.plot(partit(reductor,t*gr**2/(DeltaR)),partit(reductor,expect_op(List_X[2])),label='$S_{03,x}$')\n",
    "plt.plot(partit(reductor,t*gr**2/(DeltaR)),partit(reductor,expect_op(List_Y[2])),label='$S_{03,y}$')\n",
    "plt.plot(partit(reductor,t*gr**2/(DeltaR)),partit(reductor,0.5*(expect_op(List_Z[0])-expect_op(List_Z[3]))),label='$S_{03,z}$')\n",
    "\n",
    "\n",
    "plt.xlabel(\"$\\chi t$\")\n",
    "plt.legend()"
   ]
  },
  {
   "cell_type": "code",
   "execution_count": null,
   "metadata": {},
   "outputs": [],
   "source": []
  },
  {
   "cell_type": "code",
   "execution_count": null,
   "metadata": {},
   "outputs": [],
   "source": []
  },
  {
   "cell_type": "code",
   "execution_count": 36,
   "metadata": {},
   "outputs": [],
   "source": [
    "import matplotlib.pyplot as plt\n",
    "from numpy import linalg as LA\n",
    "import scipy.special\n",
    "\n",
    "import time\n",
    "from scipy.integrate import odeint\n",
    "from scipy.special import zeta\n",
    "from random import choices"
   ]
  },
  {
   "cell_type": "code",
   "execution_count": 37,
   "metadata": {},
   "outputs": [],
   "source": [
    "import matplotlib.pyplot as plt\n",
    "import matplotlib as mpl\n",
    "from matplotlib import cm\n",
    "import numpy as np\n",
    "\n",
    "\n",
    "from qutip import *\n",
    "from qutip.piqs import *\n",
    "\n",
    "import matplotlib.animation as animation\n",
    "from IPython.display import HTML\n",
    "from IPython.core.display import Image, display"
   ]
  },
  {
   "cell_type": "code",
   "execution_count": null,
   "metadata": {},
   "outputs": [],
   "source": []
  },
  {
   "cell_type": "code",
   "execution_count": 38,
   "metadata": {},
   "outputs": [],
   "source": [
    "J=1\n",
    "    \n",
    "refg    = 1\n",
    "refdelta= DeltaR\n",
    "refkappa= 0\n",
    "\n",
    "refomega= OmegaR\n",
    "refgamma= 0\n",
    "\n",
    "    \n",
    "Omega =refomega*J\n",
    "g_coef=refg*J\n",
    "Delta=refdelta*J\n",
    "kappa=refkappa*J\n",
    "Gamma_phi=refgamma*J\n",
    "    \n",
    "\n",
    "Gamma_du=0  #Fixed\n",
    "\n"
   ]
  },
  {
   "cell_type": "code",
   "execution_count": null,
   "metadata": {},
   "outputs": [],
   "source": []
  },
  {
   "cell_type": "markdown",
   "metadata": {},
   "source": [
    "## PIQS Spin-model"
   ]
  },
  {
   "cell_type": "code",
   "execution_count": 39,
   "metadata": {},
   "outputs": [],
   "source": [
    "# TLS parameters\n",
    "n_tls = N\n",
    "system = Dicke(N = n_tls)\n",
    "[jx, jy, jz] = jspin(N)\n",
    "jp = jspin(N,\"+\")\n",
    "jm = jp.dag()\n",
    "\n",
    "system.hamiltonian = OmegaR* jx+chiR*jp*jm\n",
    "system.collective_dephasing = 2*Gamma_phi\n",
    "D_tls = system.liouvillian() \n",
    "\n",
    "\n",
    "\n",
    "# Light-matter coupling parameters\n",
    "\n",
    "kappa_eff=2*kappa\n",
    "\n",
    "\n",
    "nphot = int(2*N+2)  #modes of light\n",
    "a = destroy(nphot)\n",
    "h_int = 0*(tensor(a, jp)+tensor(a.dag(), jm))\n",
    "\n",
    "\n",
    "\n",
    "# Photonic Liouvillian\n",
    "c_ops_phot = [np.sqrt(kappa_eff) * a]\n",
    "\n",
    "D_phot = liouvillian(Delta * a.dag()*a , c_ops_phot)\n",
    "\n",
    "# Identity super-operators\n",
    "nds = num_dicke_states(n_tls)\n",
    "id_tls = to_super(qeye(nds))\n",
    "id_phot = to_super(qeye(nphot))\n",
    "\n",
    "# Define the total Liouvillian\n",
    "D_int = -1j* spre(h_int) + 1j* spost(h_int)\n",
    "D_tot = D_int + super_tensor(D_phot, id_tls) + super_tensor(id_phot, D_tls)\n",
    "\n",
    "# Define operator in the total space\n",
    "nphot_tot = tensor(a.dag()*a, qeye(nds))\n",
    "adag_cuad_a_cuad = tensor(a.dag()*a.dag()*a*a, qeye(nds))\n",
    "\n",
    "jx_tot=tensor(qeye(nphot), jx)\n",
    "jy_tot=tensor(qeye(nphot), jy)\n",
    "jz_tot=tensor(qeye(nphot), jz)\n",
    "\n",
    "jxcuad_tot=tensor(qeye(nphot), jx*jx)\n",
    "jycuad_tot=tensor(qeye(nphot), jy*jy)\n",
    "jzcuad_tot=tensor(qeye(nphot), jz*jz)\n"
   ]
  },
  {
   "cell_type": "code",
   "execution_count": 40,
   "metadata": {},
   "outputs": [],
   "source": [
    "theta=Theta\n",
    "phi=0\n",
    "\n",
    "excited_state = excited(N)\n",
    "ground_state = dicke(N, N/2, -N/2)\n",
    "\n",
    "ground_phot = ket2dm(basis(nphot,0))  #vacuum\n",
    "#rho0 = tensor(ground_phot, excited_state)\n",
    "#rho0 = tensor(ground_phot, ground_state)\n",
    "\n",
    "\n",
    "\n",
    "import scipy.special\n",
    "\n",
    "rho_init=np.array(ground_state)\n",
    "\n",
    "\n",
    "for n in range(N+1):\n",
    "    for npr in range(N+1):\n",
    "        sq_bin=np.sqrt(scipy.special.binom(N,n)*scipy.special.binom(N,npr))\n",
    "        p_cos=np.power(np.cos(theta/2),n+npr)\n",
    "        p_sin=np.power(np.sin(theta/2),2*N-n-npr)\n",
    "        p_phi=np.exp(1j*phi*(npr-n))\n",
    "        rho_init[n][npr]=sq_bin*p_cos*p_sin*p_phi\n",
    "\n",
    "rho0=   tensor(ground_phot, Qobj(rho_init))     "
   ]
  },
  {
   "cell_type": "code",
   "execution_count": null,
   "metadata": {},
   "outputs": [],
   "source": []
  },
  {
   "cell_type": "code",
   "execution_count": 41,
   "metadata": {},
   "outputs": [],
   "source": [
    "tT = np.linspace(0, t_final, 10000)\n",
    "result1 = mesolve(D_tot, rho0, tT, [], e_ops = [nphot_tot,jx_tot,jy_tot,jz_tot,adag_cuad_a_cuad,jxcuad_tot,jycuad_tot,jzcuad_tot], \n",
    "                  options = Options(store_states=True))    #[nphot_tot,jx,jy,jz]\n",
    "rhot_tot = result1.states\n",
    "nphot_t = result1.expect[0]\n",
    "jx_t = result1.expect[1]\n",
    "jy_t = result1.expect[2]\n",
    "jz_t = result1.expect[3]\n",
    "adag_cuad_a_cuad_t=result1.expect[4]\n",
    "jxx_t=result1.expect[5]\n",
    "jyy_t=result1.expect[6]\n",
    "jzz_t=result1.expect[7]"
   ]
  },
  {
   "cell_type": "code",
   "execution_count": 42,
   "metadata": {},
   "outputs": [
    {
     "data": {
      "text/plain": [
       "[<matplotlib.lines.Line2D at 0x2687fca9b50>]"
      ]
     },
     "execution_count": 42,
     "metadata": {},
     "output_type": "execute_result"
    },
    {
     "data": {
      "image/png": "[encoded data removed]",
      "text/plain": [
       "<Figure size 720x468 with 1 Axes>"
      ]
     },
     "metadata": {
      "needs_background": "light"
     },
     "output_type": "display_data"
    }
   ],
   "source": [
    "plt.plot(tT, jx_t, 'k-', label='$S_X$ PIQS')\n",
    "plt.plot(tT, jy_t, 'r-', label='$S_y$ PIQS')\n",
    "plt.plot(tT, jz_t, 'g-', label='$S_z$ PIQS')"
   ]
  },
  {
   "cell_type": "code",
   "execution_count": null,
   "metadata": {},
   "outputs": [],
   "source": []
  },
  {
   "cell_type": "code",
   "execution_count": 43,
   "metadata": {},
   "outputs": [
    {
     "data": {
      "text/plain": [
       "<matplotlib.legend.Legend at 0x26827e63f70>"
      ]
     },
     "execution_count": 43,
     "metadata": {},
     "output_type": "execute_result"
    },
    {
     "data": {
      "image/png": "[encoded data removed]",
      "text/plain": [
       "<Figure size 720x468 with 1 Axes>"
      ]
     },
     "metadata": {
      "needs_background": "light"
     },
     "output_type": "display_data"
    }
   ],
   "source": [
    "plt.plot(tT*gr**2/(DeltaR), jx_t, 'k-', label='$S_X$ PIQS')\n",
    "plt.plot(tT*gr**2/(DeltaR), jy_t, 'r-', label='$S_y$ PIQS')\n",
    "plt.plot(tT*gr**2/(DeltaR), -jz_t, 'g-', label='$S_z$ PIQS')\n",
    "\n",
    "plt.plot(t*gr**2/(DeltaR),expect_op(List_X[2]),'c:',label='$S_{03,x}$')\n",
    "plt.plot(t*gr**2/(DeltaR),expect_op(List_Y[2]),'y:',label='$S_{03,y}$')\n",
    "plt.plot(t*gr**2/(DeltaR),0.5*(expect_op(List_Z[0])-expect_op(List_Z[3])),'m:',label='$S_{03,z}$')\n",
    "plt.xlabel(\"$\\chi t$\")\n",
    "\n",
    "plt.legend()"
   ]
  },
  {
   "cell_type": "code",
   "execution_count": null,
   "metadata": {},
   "outputs": [],
   "source": []
  },
  {
   "cell_type": "markdown",
   "metadata": {},
   "source": [
    "## PIQS Cavity-Spin model"
   ]
  },
  {
   "cell_type": "code",
   "execution_count": null,
   "metadata": {},
   "outputs": [],
   "source": []
  },
  {
   "cell_type": "code",
   "execution_count": 44,
   "metadata": {},
   "outputs": [],
   "source": [
    "systemc = Dicke(N = n_tls)\n",
    "\n",
    "systemc.hamiltonian = Omega* jx\n",
    "D_tlsc = systemc.liouvillian() \n",
    "\n",
    "\n",
    "\n",
    "# Light-matter coupling parameters\n",
    "\n",
    "nphot = int(2*N+2)  #modes of light\n",
    "a = destroy(nphot)\n",
    "h_intc = g_coef*( tensor(a, jp)+tensor(a.dag(), jm) )\n",
    "\n",
    "\n",
    "\n",
    "# Photonic Liouvillian\n",
    "c_ops_phot = [np.sqrt(kappa_eff) * a]\n",
    "\n",
    "D_photc = liouvillian(-Delta * a.dag()*a , c_ops_phot)\n",
    "\n",
    "# Identity super-operators\n",
    "nds = num_dicke_states(n_tls)\n",
    "id_tls = to_super(qeye(nds))\n",
    "id_phot = to_super(qeye(nphot))\n",
    "\n",
    "# Define the total Liouvillian\n",
    "D_intc = -1j* spre(h_intc) + 1j* spost(h_intc)\n",
    "D_totc = D_intc + super_tensor(D_photc, id_tls) + super_tensor(id_phot, D_tlsc)\n",
    "\n",
    "# Define operator in the total space\n",
    "nphot_tot = tensor(a.dag()*a, qeye(nds))\n",
    "adag_cuad_a_cuad = tensor(a.dag()*a.dag()*a*a, qeye(nds))\n",
    "\n",
    "jx_tot=tensor(qeye(nphot), jx)\n",
    "jy_tot=tensor(qeye(nphot), jy)\n",
    "jz_tot=tensor(qeye(nphot), jz)\n",
    "\n",
    "jxcuad_tot=tensor(qeye(nphot), jx*jx)\n",
    "jycuad_tot=tensor(qeye(nphot), jy*jy)\n",
    "jzcuad_tot=tensor(qeye(nphot), jz*jz)\n"
   ]
  },
  {
   "cell_type": "code",
   "execution_count": null,
   "metadata": {},
   "outputs": [],
   "source": []
  },
  {
   "cell_type": "code",
   "execution_count": 46,
   "metadata": {},
   "outputs": [],
   "source": [
    "t2 = np.linspace(0, t_final, 5000)\n",
    "result2 = mesolve(D_totc, rho0, t2, [], e_ops = [nphot_tot,jx_tot,jy_tot,jz_tot,adag_cuad_a_cuad,jxcuad_tot,jycuad_tot,jzcuad_tot], \n",
    "                  options = Options(store_states=True))    #[nphot_tot,jx,jy,jz]\n",
    "rhot_tot = result2.states\n",
    "nphot_t = result2.expect[0]\n",
    "jx_t2 = result2.expect[1]\n",
    "jy_t2 = result2.expect[2]\n",
    "jz_t2 = result2.expect[3]\n",
    "adag_cuad_a_cuad_t2=result2.expect[4]\n",
    "jxx_t2=result2.expect[5]\n",
    "jyy_t2=result2.expect[6]\n",
    "jzz_t2=result2.expect[7]"
   ]
  },
  {
   "cell_type": "code",
   "execution_count": null,
   "metadata": {},
   "outputs": [],
   "source": []
  },
  {
   "cell_type": "code",
   "execution_count": 47,
   "metadata": {},
   "outputs": [
    {
     "data": {
      "text/plain": [
       "<matplotlib.legend.Legend at 0x2680c11a6d0>"
      ]
     },
     "execution_count": 47,
     "metadata": {},
     "output_type": "execute_result"
    },
    {
     "data": {
      "image/png": "[encoded data removed]",
      "text/plain": [
       "<Figure size 720x468 with 1 Axes>"
      ]
     },
     "metadata": {
      "needs_background": "light"
     },
     "output_type": "display_data"
    }
   ],
   "source": [
    "plt.plot(tT*gr**2/(DeltaR), jx_t, 'k-', label='$S_X$ PIQS')\n",
    "plt.plot(tT*gr**2/(DeltaR), jy_t, 'r-', label='$S_y$ PIQS')\n",
    "plt.plot(tT*gr**2/(DeltaR), -jz_t, 'g-', label='$S_z$ PIQS')\n",
    "\n",
    "plt.plot(t*gr**2/(DeltaR),expect_op(List_X[2]),'c:',label='$S_{03,x}$')\n",
    "plt.plot(t*gr**2/(DeltaR),expect_op(List_Y[2]),'y:',label='$S_{03,y}$')\n",
    "plt.plot(t*gr**2/(DeltaR),0.5*(expect_op(List_Z[0])-expect_op(List_Z[3])),'m:',label='$S_{03,z}$')\n",
    "\n",
    "plt.plot(t2*gr**2/(DeltaR), jx_t2, 'k-', label='$S_X$ PIQS cavity')\n",
    "plt.plot(t2*gr**2/(DeltaR), jy_t2, 'r-', label='$S_y$ PIQS cavity')\n",
    "plt.plot(t2*gr**2/(DeltaR), -jz_t2, 'g-', label='$S_z$ PIQS cavity')\n",
    "\n",
    "plt.xlabel(\"$\\chi t$\")\n",
    "plt.legend()\n"
   ]
  },
  {
   "cell_type": "code",
   "execution_count": null,
   "metadata": {},
   "outputs": [],
   "source": []
  }
 ],
 "metadata": {
  "kernelspec": {
   "display_name": "Python 3",
   "language": "python",
   "name": "python3"
  },
  "language_info": {
   "codemirror_mode": {
    "name": "ipython",
    "version": 3
   },
   "file_extension": ".py",
   "mimetype": "text/x-python",
   "name": "python",
   "nbconvert_exporter": "python",
   "pygments_lexer": "ipython3",
   "version": "3.8.3"
  }
 },
 "nbformat": 4,
 "nbformat_minor": 4
}
