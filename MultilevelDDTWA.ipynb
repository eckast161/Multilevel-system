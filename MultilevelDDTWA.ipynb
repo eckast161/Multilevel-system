{
 "cells": [
  {
   "cell_type": "code",
   "execution_count": 1,
   "metadata": {
    "id": "rNqXOESIJHsB"
   },
   "outputs": [],
   "source": [
    "import matplotlib.pyplot as plt\n",
    "import numpy as np\n",
    "\n",
    "\"\"\"In order to provide a better presentation of the graphs we use the rcParams options shown below.\"\"\"\n",
    "\n",
    "import matplotlib\n",
    "matplotlib.rcParams['text.usetex'] = False\n",
    "matplotlib.rcParams['mathtext.fontset'] = 'stix'\n",
    "matplotlib.rcParams['font.family'] = 'STIXGeneral'\n",
    "matplotlib.rcParams['font.size'] = 15\n",
    "matplotlib.rcParams['figure.figsize'] = (11.0, 8.0)"
   ]
  },
  {
   "cell_type": "code",
   "execution_count": 2,
   "metadata": {
    "id": "g-U4BC1zJHsE"
   },
   "outputs": [],
   "source": [
    "import matplotlib.pyplot as plt\n",
    "from numpy import linalg as LA\n",
    "import scipy.special\n",
    "\n",
    "import time\n",
    "from scipy.integrate import odeint\n",
    "from scipy.special import zeta\n",
    "from random import choices\n",
    "\n",
    "from numpy import sin, cos, power\n"
   ]
  },
  {
   "cell_type": "code",
   "execution_count": 3,
   "metadata": {
    "id": "cKNPrM5tJHsE"
   },
   "outputs": [],
   "source": [
    "import matplotlib.pyplot as plt\n",
    "import matplotlib as mpl\n",
    "from matplotlib import cm\n",
    "import numpy as np\n",
    "\n",
    "from scipy.optimize import minimize\n",
    "#from qutip import *\n",
    "#from qutip.piqs import *\n",
    "\n",
    "import matplotlib.animation as animation\n",
    "from IPython.display import HTML\n",
    "from IPython.core.display import Image, display"
   ]
  },
  {
   "cell_type": "code",
   "execution_count": 4,
   "metadata": {
    "id": "TfUKc__XJHsF"
   },
   "outputs": [],
   "source": [
    "\"\"\"Our system of differential equations belongs to the complex space, that is why we implemented the code suggested in\"\"\"\n",
    "\"\"\"https://stackoverflow.com/questions/19910189/scipy-odeint-with-complex-initial-values.\"\"\"\n",
    "\n",
    "import time\n",
    "import numpy as np\n",
    "from scipy.integrate import odeint\n",
    "from scipy.special import zeta\n",
    "from random import choices\n",
    "\n",
    "def odeintz(func, z0, t, **kwargs):\n",
    "   \n",
    "    \n",
    "    \"\"\"An odeint-like function for complex valued differential equations.\n",
    "\n",
    "    Inputs:\n",
    "    ----------\n",
    "      -func: function associated to dr/dt=f(x;t), where x is the set of parameters and variables to be determined\n",
    "      -z0: 1d array with length N*(5N-1)/2\n",
    "      -t: 1d array from t=0 to t=tf (parameter set by the user)\n",
    "      - **kwargs: keyword arguments related with external functions to be used in odeint\n",
    "    \n",
    "    Return:\n",
    "      -z: multivariable array with the solution of the differential equation associated with each variable\"\"\"\n",
    "\n",
    "    # Disallow Jacobian-related arguments.\n",
    "    _unsupported_odeint_args = ['Dfun', 'col_deriv', 'ml', 'mu']\n",
    "    bad_args = [arg for arg in kwargs if arg in _unsupported_odeint_args]\n",
    "    if len(bad_args) > 0:\n",
    "        raise ValueError(\"The odeint argument %r is not supported by \"\n",
    "                         \"odeintz.\" % (bad_args[0],))\n",
    "\n",
    "    # Make sure z0 is a numpy array of type np.complex128.\n",
    "    z0 = np.array(z0, dtype=np.complex128, ndmin=1)\n",
    "\n",
    "    def realfunc(x, t, *args):\n",
    "        z = x.view(np.complex128)\n",
    "        dzdt = func(z, t, *args)\n",
    "        # func might return a python list, so convert its return\n",
    "        # value to an array with type np.complex128, and then return\n",
    "        # a np.float64 view of that array.\n",
    "        return np.asarray(dzdt, dtype=np.complex128).view(np.float64)\n",
    "\n",
    "    result = odeint(realfunc, z0.view(np.float64), t, **kwargs)\n",
    "\n",
    "    if kwargs.get('full_output', False):\n",
    "        z = result[0].view(np.complex128)\n",
    "        infodict = result[1]\n",
    "        return z, infodict\n",
    "    else:\n",
    "        z = result.view(np.complex128)\n",
    "        return z"
   ]
  },
  {
   "cell_type": "code",
   "execution_count": null,
   "metadata": {},
   "outputs": [],
   "source": []
  },
  {
   "cell_type": "markdown",
   "metadata": {},
   "source": [
    "$$\\begin{align}\n",
    "\\partial_{t}s_{00,i} & =-g_{{\\rm R}}\\left(\\alpha_{{\\rm R},x}s_{30,i}^{y}+\\alpha_{{\\rm R},y}s_{30,i}^{x}\\right)-\\frac{\\Omega_{{\\rm R}}}{2}s_{30,i}^{y},\\\\\n",
    "\\partial_{t}s_{11,i} & =-g_{{\\rm L}}\\left(\\alpha_{{\\rm L},x}s_{21,i}^{y}+\\alpha_{{\\rm L},y}s_{21,i}^{x}\\right)-\\frac{\\Omega_{{\\rm L}}}{2}s_{21,i}^{y},\\\\\n",
    "\\partial_{t}s_{22,i} & =g_{{\\rm L}}\\left(\\alpha_{{\\rm L},x}s_{21,i}^{y}+\\alpha_{{\\rm L},y}s_{21,i}^{x}\\right)+\\frac{\\Omega_{{\\rm L}}}{2}s_{21,i}^{y},\\\\\n",
    "\\partial_{t}s_{33,i} & =g_{{\\rm R}}\\left(\\alpha_{{\\rm R},x}s_{30,i}^{y}+\\alpha_{{\\rm R},y}s_{30,i}^{x}\\right)+\\frac{\\Omega_{{\\rm R}}}{2}s_{30,i}^{y},\\\\\n",
    "\\partial_{t}s_{10,i}^{x} & =-g_{{\\rm R}}\\left(\\alpha_{{\\rm R},x}s_{31,i}^{y}+\\alpha_{{\\rm R},y}s_{31,i}^{x}\\right)-\\frac{\\Omega_{{\\rm R}}}{2}s_{31,i}^{y}-g_{{\\rm L}}\\left(\\alpha_{{\\rm L},x}s_{20,i}^{y}+\\alpha_{{\\rm L},y}s_{20,i}^{x}\\right)-\\frac{\\Omega_{{\\rm L}}}{2}s_{20,i}^{y},\\\\\n",
    "\\partial_{t}s_{20,i}^{x} & =-g_{{\\rm R}}\\left(\\alpha_{{\\rm R},x}s_{32,i}^{y}+\\alpha_{{\\rm R},y}s_{32,i}^{x}\\right)-\\frac{\\Omega_{{\\rm R}}}{2}s_{32,i}^{y}-g_{{\\rm L}}\\left(\\alpha_{{\\rm L},x}s_{10,i}^{y}-\\alpha_{{\\rm L},y}s_{10,i}^{x}\\right)-\\frac{\\Omega_{{\\rm L}}}{2}s_{10,i}^{y},\\\\\n",
    "\\partial_{t}s_{30,i}^{x} & =-2g_{{\\rm R}}\\alpha_{{\\rm R},y}\\left(s_{33,i}-s_{00,i}\\right),\\\\\n",
    "\\partial_{t}s_{21,i}^{x} & =-2g_{{\\rm L}}\\alpha_{{\\rm L},y}\\left(s_{22,i}-s_{11,i}\\right),\\\\\n",
    "\\partial_{t}s_{31,i}^{x} & =g_{{\\rm R}}\\left(\\alpha_{{\\rm R},x}s_{10,i}^{y}+\\alpha_{{\\rm R},y}s_{10,i}^{x}\\right)+\\frac{\\Omega_{{\\rm R}}}{2}s_{10.i}^{y}+g_{{\\rm L}}\\left(\\alpha_{{\\rm L},x}s_{32,i}^{y}-\\alpha_{{\\rm L},y}s_{32,i}^{x}\\right)+\\frac{\\Omega_{{\\rm L}}}{2}s_{32,i}^{y},\\\\\n",
    "\\partial_{t}s_{32,i}^{x} & =g_{{\\rm R}}\\left(\\alpha_{{\\rm R},x}s_{20,i}^{y}+\\alpha_{{\\rm R},y}s_{20,i}^{x}\\right)+\\frac{\\Omega_{{\\rm R}}}{2}s_{20,i}^{y}+g_{{\\rm L}}\\left(\\alpha_{{\\rm L},x}s_{31,i}^{y}+\\alpha_{{\\rm L},y}s_{31,i}^{x}\\right)+\\frac{\\Omega_{{\\rm L}}}{2}s_{31,i}^{y},\\\\\n",
    "\\partial_{t}s_{10,i}^{y} & =-g_{{\\rm R}}\\left(\\alpha_{{\\rm R},x}s_{31,i}^{x}-\\alpha_{{\\rm R},y}s_{31,i}^{y}\\right)-\\frac{\\Omega_{{\\rm R}}}{2}s_{31,i}^{x}+g_{{\\rm L}}\\left(\\alpha_{{\\rm L},x}s_{20,i}^{x}-\\alpha_{{\\rm L},y}s_{20,i}^{y}\\right)+\\frac{\\Omega_{{\\rm L}}}{2}s_{20,i}^{x},\\\\\n",
    "\\partial_{t}s_{20,i}^{y} & =-g_{{\\rm R}}\\left(\\alpha_{{\\rm R},x}s_{32,i}^{x}-\\alpha_{{\\rm R},y}s_{32,i}^{y}\\right)-\\frac{\\Omega_{{\\rm R}}}{2}s_{32,i}^{x}+g_{{\\rm L}}\\left(\\alpha_{{\\rm L},x}s_{10,i}^{x}+\\alpha_{{\\rm L},y}s_{10,i}^{y}\\right)+\\frac{\\Omega_{{\\rm L}}}{2}s_{10,i}^{x},\\\\\n",
    "\\partial_{t}s_{30,i}^{y} & =-\\left(2g_{{\\rm R}}\\alpha_{{\\rm R},x}+\\Omega_{{\\rm R}}\\right)\\left(s_{33,i}-s_{00,i}\\right),\\\\\n",
    "\\partial_{t}s_{21,i}^{y} & =-\\left(2g_{{\\rm L}}\\alpha_{{\\rm L},x}+\\Omega_{{\\rm L}}\\right)\\left(s_{22,i}-s_{11,i}\\right),\\\\\n",
    "\\partial_{t}s_{31,i}^{y} & =g_{{\\rm R}}\\left(\\alpha_{{\\rm R},x}s_{10,i}^{x}-\\alpha_{{\\rm R},y}s_{10,i}^{y}\\right)+\\frac{\\Omega_{{\\rm R}}}{2}s_{10,i}^{x}-g_{{\\rm L}}\\left(\\alpha_{{\\rm L},x}s_{32,i}^{x}+\\alpha_{{\\rm L},y}s_{32,i}^{y}\\right)-\\frac{\\Omega_{{\\rm L}}}{2}s_{32,i}^{x},\\\\\n",
    "\\partial_{t}s_{32,i}^{y} & =g_{{\\rm R}}\\left(\\alpha_{{\\rm R},x}s_{20,i}^{x}-\\alpha_{{\\rm R},y}s_{20,i}^{y}\\right)+\\frac{\\Omega_{{\\rm R}}}{2}s_{20,i}^{x}-g_{{\\rm L}}\\left(\\alpha_{{\\rm L},x}s_{31,i}^{x}-\\alpha_{{\\rm L},y}s_{31,i}^{y}\\right)-\\frac{\\Omega_{{\\rm L}}}{2}s_{31,i}^{x},\\\\\n",
    "\\partial_{t}\\alpha_{{\\rm L},x} & =-\\frac{g_{{\\rm L}}}{2}\\sum_{i}s_{21,i}^{y}-\\Delta_{{\\rm L}}\\alpha_{{\\rm L},y}-\\frac{\\kappa_{{\\rm L}}}{2}\\alpha_{{\\rm L},x}+\\sqrt{\\frac{\\kappa_{{\\rm L}}}{4}}{\\rm d}W_{0},\\\\\n",
    "\\partial_{t}\\alpha_{{\\rm L},y} & =-\\frac{g_{{\\rm L}}}{2}\\sum_{i}s_{21,i}^{x}+\\Delta_{{\\rm L}}\\alpha_{{\\rm L},x}-\\frac{\\kappa_{{\\rm L}}}{2}\\alpha_{{\\rm L},y}+\\sqrt{\\frac{\\kappa_{{\\rm L}}}{4}}{\\rm d}W_{1},\\\\\n",
    "\\partial_{t}\\alpha_{{\\rm R},x} & =-\\frac{g_{{\\rm R}}}{2}\\sum_{i}s_{30,i}^{y}-\\Delta_{{\\rm R}}\\alpha_{{\\rm R},y}-\\frac{\\kappa_{{\\rm R}}}{2}\\alpha_{{\\rm R},x}+\\sqrt{\\frac{\\kappa_{{\\rm R}}}{4}}{\\rm d}W_{2},\\\\\n",
    "\\partial_{t}\\alpha_{{\\rm R},y} & =-\\frac{g_{{\\rm R}}}{2}\\sum_{i}s_{30,i}^{x}+\\Delta_{{\\rm R}}\\alpha_{{\\rm R},x}-\\frac{\\kappa_{{\\rm R}}}{2}\\alpha_{{\\rm R},y}+\\sqrt{\\frac{\\kappa_{R}}{4}}{\\rm d}W_{3}.\n",
    "\\end{align}\n",
    "$$"
   ]
  },
  {
   "cell_type": "code",
   "execution_count": null,
   "metadata": {},
   "outputs": [],
   "source": []
  },
  {
   "cell_type": "markdown",
   "metadata": {
    "id": "8d8nOLULJHsG"
   },
   "source": [
    "## Euler-Maruyama"
   ]
  },
  {
   "cell_type": "code",
   "execution_count": 5,
   "metadata": {
    "id": "x6wGEy_uJHsG"
   },
   "outputs": [],
   "source": [
    "import numpy as np\n",
    "import matplotlib.pyplot as plt\n",
    "%matplotlib inline\n",
    "from numpy import random, zeros\n",
    "\n",
    "from numba import jit\n",
    "\n",
    "dt = 0.001 # Time step.\n",
    "T = 20 # Total time.\n",
    "n = int(T / dt) # Number of time steps.\n",
    "steps=int(T/dt)\n",
    "\n",
    "times = np.linspace(0., T, n)\n",
    "\n",
    "\n",
    "N=20\n",
    "\n",
    "gR=1\n",
    "DeltaR=1\n",
    "OmegaR=1\n",
    "KapR=1\n",
    "\n",
    "\n",
    "gL=1\n",
    "DeltaL=1\n",
    "OmegaL=1\n",
    "KapL=1\n",
    "\n",
    "    \n",
    "\n",
    "Gamma_du=0  #Fixed\n",
    "\n",
    "\n",
    "Stochastic=1   #Is the process stochastic?\n",
    "sqrt_N=np.sqrt(N)\n",
    "\n",
    "\n",
    "\n",
    "#set the initial values due to the measurements in the state |\\psi>=cos(\\theta/2)|0>+sin(\\theta/2)|1>\n",
    "\n",
    "from scipy import stats\n",
    "mk = np.array([-1,1,0])\n",
    "\n",
    "x10=(0.5,0.5,0)\n",
    "x20=(0.5,0.5,0)\n",
    "x30=(0.5,0.5,0)\n",
    "#x21=(0,0,1)\n",
    "#x31=(0,0,1)\n",
    "#x32=(0,0,1)\n",
    "\n",
    "y10=(0.5,0.5,0)\n",
    "y20=(0.5,0.5,0)\n",
    "y30=(0.5,0.5,0)\n",
    "#y21=(0,0,1)\n",
    "#y31=(0,0,1)\n",
    "#y32=(0,0,1)\n",
    "\n",
    "z10=(1,0,0)\n",
    "#q11=(0,0,1)\n",
    "#q22=(0,0,1)\n",
    "#q33=(0,0,1)\n",
    "\n",
    "\n",
    "custmx10 = stats.rv_discrete(name='custmx', values=(mk, x10))\n",
    "custmx20 = stats.rv_discrete(name='custmx', values=(mk, x20))\n",
    "custmx30 = stats.rv_discrete(name='custmx', values=(mk, x30))\n",
    "\n",
    "custmy10 = stats.rv_discrete(name='custmx', values=(mk, y10))\n",
    "custmy20 = stats.rv_discrete(name='custmx', values=(mk, y20))\n",
    "custmy30 = stats.rv_discrete(name='custmx', values=(mk, y30))\n",
    "\n",
    "custmz10 = stats.rv_discrete(name='custmx', values=(mk, z10))\n",
    "\n",
    "\n",
    "@jit\n",
    "\n",
    "def trayectory(N=N):\n",
    "    sqrtdt = np.sqrt(dt)*Stochastic\n",
    "    \n",
    "    Results =zeros((15*N+4, n))\n",
    "    \n",
    "    Results[15*N][0]   = np.random.normal(0, 0.5)\n",
    "    Results[15*N+1][0] = np.random.normal(0, 0.5)\n",
    "    Results[15*N+2][0] = np.random.normal(0, 0.5)\n",
    "    Results[15*N+3][0] = np.random.normal(0, 0.5)\n",
    "    \n",
    "    \n",
    "    for j in range(N):\n",
    "        \n",
    "        mx10=custmx10.rvs()\n",
    "        mx20=custmx20.rvs()\n",
    "        mx30=custmx30.rvs()\n",
    "        \n",
    "        my10=custmy10.rvs()\n",
    "        my20=custmy20.rvs()\n",
    "        my30=custmy30.rvs()\n",
    "        \n",
    "        mz10=custmz10.rvs()\n",
    "        \n",
    "        \n",
    "        Results[j][0]     =mx10  #x10  \n",
    "        Results[j+N][0]   =mx20  #x20\n",
    "        Results[j+2*N][0] =mx30  #x30\n",
    "        Results[j+3*N][0] =0     #x21\n",
    "        Results[j+4*N][0] =0     #x31\n",
    "        Results[j+5*N][0] =0     #x32\n",
    "        Results[j+6*N][0] =my10  #y10\n",
    "        Results[j+7*N][0] =my20  #y20\n",
    "        Results[j+8*N][0] =my30  #y30\n",
    "        Results[j+9*N][0] =0     #y21\n",
    "        Results[j+10*N][0]=0     #y31\n",
    "        Results[j+11*N][0]=0     #y32\n",
    "        Results[j+12*N][0]=mz10  #z10\n",
    "        Results[j+13*N][0]=0     #z21\n",
    "        Results[j+14*N][0]=0     #z32\n",
    "    \n",
    "    for t in range(n-1):\n",
    "        \n",
    "        Normal_VA_1=random.randn() #np.random.normal(0, 1)\n",
    "        Normal_VA_2=random.randn() #np.random.normal(0, 1)\n",
    "        Normal_VA_3=random.randn() #np.random.normal(0, 1)\n",
    "        Normal_VA_4=random.randn() #np.random.normal(0, 1)\n",
    "        \n",
    "        \n",
    "        alpRx=Results[15*N][t]\n",
    "        alpRy=Results[15*N+1][t]\n",
    "        alpLx=Results[15*N+2][t]\n",
    "        alpLy=Results[15*N+3][t]\n",
    "        \n",
    "        \n",
    "        \n",
    "        Results[15*N][t+1]   = alpRx-dt*DeltaR*alpRy-dt*(KapR/2)*alpRx+np.sqrt(KapR/4)*sqrtdt * Normal_VA_1\n",
    "            \n",
    "        Results[15*N+1][t+1] = alpRy+dt*DeltaR*alpRx-dt*(KapR/2)*alpRy+np.sqrt(KapR/4)*sqrtdt * Normal_VA_2\n",
    "             \n",
    "        Results[15*N+2][t+1] = alpLx -dt*DeltaL*alpLy-dt*(KapL/2)*alpLx+np.sqrt(KapL/4)*sqrtdt * Normal_VA_3  \n",
    "        \n",
    "        Results[15*N+3][t+1] = alpLy +dt*DeltaL*alpLx-dt*(KapL/2)*alpLy+np.sqrt(KapL/4)*sqrtdt * Normal_VA_4  \n",
    "                \n",
    "                \n",
    "        for i in range(N): \n",
    "            \n",
    "                     \n",
    "            s10x=Results[i][t]       #x10\n",
    "            s20x=Results[i+N][t]     #x20\n",
    "            s30x=Results[i+2*N][t]   #x30  \n",
    "            s21x=Results[i+3*N][t]   #x21 \n",
    "            s31x=Results[i+4*N][t]   #x31\n",
    "            s32x=Results[i+5*N][t]   #x32\n",
    "            \n",
    "            s10y=Results[i+6*N][t]   #y10\n",
    "            s20y=Results[i+7*N][t]   #y20\n",
    "            s30y=Results[i+8*N][t]   #y30\n",
    "            s21y=Results[i+9*N][t]   #y21\n",
    "            s31y=Results[i+10*N][t]  #y31\n",
    "            s32y=Results[i+11*N][t]  #y32\n",
    "            \n",
    "            s10z=Results[i+12*N][t]  #z10\n",
    "            s21z=Results[i+13*N][t]  #z21\n",
    "            s32z=Results[i+14*N][t]  #z32\n",
    "            \n",
    "            # alpRx=Results[15*N][t]\n",
    "            # alpRy=Results[15*N+1][t]\n",
    "            # alpLx=Results[15*N+2][t]\n",
    "            # alpLy=Results[15*N+3][t]\n",
    "            \n",
    "            \n",
    "            Results[i][t+1]     = s10x  +dt*(-gR)*(alpRx*s31y+alpRy*s31x) +dt*(-OmegaR/2)*s31y-\\\n",
    "                dt*gL*(alpLx*s20y+alpLy*s20x)+dt*(-OmegaL/2)*s20y\n",
    "            \n",
    "            Results[i+N][t+1]   = s20x  +dt*(-gR)*(alpRx*s32y+alpRy*s32x) +dt*(-OmegaR/2)*s32y-\\\n",
    "                dt*gL*(alpLx*s10y-alpLy*s10x)+dt*(-OmegaL/2)*s10y\n",
    "            \n",
    "            Results[i+2*N][t+1] = s30x  +dt*(-2*gR)*alpRy*(s32z+s21z+s10z)\n",
    "            \n",
    "            Results[i+3*N][t+1] = s21x  +dt*(-2*gL)*alpLy*s21z\n",
    "            \n",
    "            Results[i+4*N][t+1] = s31x  +dt*gR*(alpRx*s10y+alpRy*s10x)+dt*(OmegaR/2)*s10y+\\\n",
    "                dt*gL*(alpLx*s32y-alpLy*s32x)+dt*(OmegaL/2)*s32y\n",
    "            \n",
    "            Results[i+5*N][t+1] = s32x  +dt*gR*(alpRx*s20y+alpRy*s20x)+dt*(OmegaR/2)*s20y+\\\n",
    "                dt*gL*(alpLx*s31y+alpLy*s31x)+dt*(OmegaL/2)*s31y\n",
    "            \n",
    "            Results[i+6*N][t+1] = s10y  +dt*(-gR)*(alpRx*s31x-alpRy*s31y)-dt*(OmegaR/2)*s31x+\\\n",
    "                dt*gL*(alpLx*s20x-alpLy*s20y)+dt*(OmegaL/2)*s20x\n",
    "            \n",
    "            Results[i+7*N][t+1] = s20y  +dt*(-gR)*(alpRx*s32x-alpRy*s32y)-dt*(OmegaR/2)*s32x+\\\n",
    "                dt*gL*(alpLx*s10x+alpLy*s10y)+dt*(OmegaL/2)*s10x\n",
    "            \n",
    "            Results[i+8*N][t+1] = s30y  -dt*(2*gR*alpRx+OmegaR)*(s32z+s21z+s10z)\n",
    "            \n",
    "            Results[i+9*N][t+1] = s21y  -dt*(2*gL*alpLx+OmegaL)*s21z\n",
    "            \n",
    "            Results[i+10*N][t+1] = s31y + dt*gR*(alpRx*s10x-alpRy*s10y)+dt*(OmegaR/2)*s10x-\\\n",
    "                dt*gL*(alpLx*s32x+alpLy*s32y)-dt*(OmegaL/2)*s32x\n",
    "            \n",
    "            Results[i+11*N][t+1] = s32y + dt*gR*(alpRx*s20x-alpRy*s20y)+dt*(OmegaR/2)*s20x-\\\n",
    "                dt*gL*(alpLx*s31x-alpLy*s31y)-dt*(OmegaL/2)*s31x\n",
    "            \n",
    "            Results[i+12*N][t+1] = s10z + dt*gR*(alpRx*s30y + alpRy*s30x)+dt*(OmegaR/2)*s30y-\\\n",
    "                dt*gL*(alpLx*s21y+alpLy*s21x)-dt*(OmegaL/2)*s21y\n",
    "            \n",
    "            Results[i+13*N][t+1] = s21z + dt*2*gL*(alpLx*s21y+alpLy*s21x)+dt*OmegaL*s21y\n",
    "            \n",
    "\n",
    "            Results[i+14*N][t+1] = s32z + dt*gR*(alpRx*s30y + alpRy*s30x)+dt*(OmegaR/2)*s30y-\\\n",
    "                dt*gL*(alpLx*s21y+alpLy*s21x)-dt*(OmegaL/2)*s21y\n",
    "            \n",
    "            Results[15*N][t+1]   +=  -(gR/2)*dt*s30y\n",
    "            Results[15*N+1][t+1] +=  -(gR/2)*dt*s30x\n",
    "            Results[15*N+2][t+1] +=  -(gL/2)*dt*s21y\n",
    "            Results[15*N+3][t+1] +=  -(gL/2)*dt*s21x\n",
    "            \n",
    "    return Results\n"
   ]
  },
  {
   "cell_type": "code",
   "execution_count": 6,
   "metadata": {},
   "outputs": [],
   "source": [
    "#t0=time.time()\n",
    "\n",
    "#Tray=trayectory(N=N)\n",
    "#t1=time.time()\n",
    "\n",
    "#print(t1-t0)\n",
    "\n",
    "\n",
    "#Tray"
   ]
  },
  {
   "cell_type": "code",
   "execution_count": 7,
   "metadata": {
    "id": "ul5i9woAJHsJ"
   },
   "outputs": [],
   "source": [
    "from numpy import mean\n",
    "from numpy import linalg\n",
    "\n",
    "from numba import jit\n",
    "@jit\n",
    "\n",
    "def summary_stat(Res,N=N,n=n):\n",
    "    Results =zeros((12, n))\n",
    "    count=0\n",
    "    while count<n:\n",
    "        s10x,s20x,s30x=Res[0:N, count:count+1],Res[N:2*N, count:count+1],Res[2*N:3*N, count:count+1]\n",
    "        s21x,s31x,s32x=Res[3*N:4*N, count:count+1],Res[4*N:5*N, count:count+1],Res[5*N:6*N, count:count+1]\n",
    "        s10y,s20y,s30y=Res[6*N:7*N, count:count+1],Res[7*N:8*N, count:count+1],Res[8*N:9*N, count:count+1]\n",
    "        s21y,s31y,s32y=Res[9*N:10*N, count:count+1],Res[10*N:11*N, count:count+1],Res[11*N:12*N, count:count+1]\n",
    "        \n",
    "        Results[0][count],Results[1][count],Results[2][count]=N*mean(s10x)/2,N*mean(s20x)/2,N*mean(s30x)/2\n",
    "        Results[3][count],Results[4][count],Results[5][count]=N*mean(s21x)/2,N*mean(s31x)/2,N*mean(s32x)/2\n",
    "\n",
    "        Results[6][count],Results[7][count],Results[8][count]=N*mean(s10y)/2,N*mean(s20y)/2,N*mean(s30y)/2\n",
    "        Results[9][count],Results[10][count],Results[11][count]=N*mean(s21y)/2,N*mean(s31y)/2,N*mean(s32y)/2\n",
    "        \n",
    "        \n",
    "        count=count+1\n",
    "        \n",
    "    \n",
    "    return Results   "
   ]
  },
  {
   "cell_type": "code",
   "execution_count": null,
   "metadata": {
    "id": "6g9bl3RHJHsK"
   },
   "outputs": [],
   "source": []
  },
  {
   "cell_type": "code",
   "execution_count": 8,
   "metadata": {
    "id": "PAqwTEIYJHsL"
   },
   "outputs": [],
   "source": [
    "from numpy import add\n",
    "from numba import jit\n",
    "\n",
    "\n",
    "\n",
    "itera=5000\n",
    "@jit\n",
    "\n",
    "def averages(itera=itera,N=N,n=n,Stochastic=Stochastic):\n",
    "    Results =zeros((12, n))\n",
    "    for j in range(itera):\n",
    "        Trayec=trayectory(N=N)\n",
    "        Results=add(Results,summary_stat(Trayec,N,n))\n",
    "    \n",
    "    return Results/itera\n",
    "    \n",
    "    \n",
    "    \n",
    "    "
   ]
  },
  {
   "cell_type": "code",
   "execution_count": null,
   "metadata": {
    "id": "vrrMVxzrJHsM"
   },
   "outputs": [],
   "source": []
  },
  {
   "cell_type": "code",
   "execution_count": null,
   "metadata": {
    "colab": {
     "base_uri": "https://localhost:8080/"
    },
    "id": "wg0dJ1shJHsM",
    "outputId": "514507da-39ea-4d53-84c4-6672edf5d8b9"
   },
   "outputs": [],
   "source": [
    "t0=time.time()\n",
    "\n",
    "itera=1000\n",
    "\n",
    "Result_varDDTWA_EM=averages(itera=itera,N=N,n=n,Stochastic=1)\n",
    "#Result_varDTWA=averages(itera=itera,N=N,n=n,Stochastic=0)\n",
    "\n",
    "t1=time.time()\n",
    "\n",
    "print(t1-t0)\n",
    "\n"
   ]
  },
  {
   "cell_type": "code",
   "execution_count": null,
   "metadata": {
    "id": "q9L41aZBJHsO"
   },
   "outputs": [],
   "source": []
  },
  {
   "cell_type": "code",
   "execution_count": null,
   "metadata": {
    "id": "7Ui48CTEJHsO"
   },
   "outputs": [],
   "source": []
  },
  {
   "cell_type": "markdown",
   "metadata": {
    "id": "6tFhUTAxJHsU"
   },
   "source": [
    "## Results DDTWA"
   ]
  },
  {
   "cell_type": "code",
   "execution_count": null,
   "metadata": {
    "id": "NjV6wz4DJHsU"
   },
   "outputs": [],
   "source": []
  },
  {
   "cell_type": "code",
   "execution_count": null,
   "metadata": {},
   "outputs": [],
   "source": [
    "matplotlib.rcParams['figure.figsize'] = (10.0, 6.5)\n",
    "\n",
    "j_max = N/2.\n",
    "label_size = 20\n",
    "\n",
    "\n",
    "fig3 = plt.figure(3)\n",
    "plt.title(r'Quantum Evolution of $S_k$', fontsize = label_size)\n",
    "plt.xlabel(r'$t$', fontsize = label_size)\n",
    "#plt.ylabel(r'$\\langle a^\\dagger a\\rangle(t)$', fontsize = label_size)\n",
    "plt.ylabel(r'$\\langle S_k \\rangle(t)$', fontsize = label_size)\n",
    "\n",
    "\n",
    "plt.plot(times, Result_varDDTWA_EM[0],\"--\",label=\"$S^x_{10}$ DDTWA EM\")\n",
    "\n",
    "plt.plot(times, Result_varDDTWA_EM[1],\"--\",label=\"$S^x_{20}$ DDTWA EM\")\n",
    "\n",
    "plt.plot(times, Result_varDDTWA_EM[2],\"--\",label=\"$S^x_{30}$ DDTWA EM\")\n",
    "\n",
    "plt.plot(times, Result_varDDTWA_EM[3],\"--\",label=\"$S^x_{21}$ DDTWA EM\")\n",
    "\n",
    "plt.plot(times, Result_varDDTWA_EM[4],\"--\",label=\"$S^x_{31}$ DDTWA EM\")\n",
    "\n",
    "plt.plot(times, Result_varDDTWA_EM[5],\"--\",label=\"$S^x_{32}$ DDTWA EM\")\n",
    "\n",
    "\n",
    "#plt.plot(times, Result_varDDTWA_SH[0],\"--\",label=\"$S_x$ DDTWA SH\")\n",
    "\n",
    "#plt.plot(times, Result_varDDTWA_SH[1],\"--\",label=\"$S_y$ DDTWA SH\")\n",
    "\n",
    "#plt.plot(times, Result_varDDTWA_SH[2],\"--\",label=\"$S_z$ DDTWA SH\")\n",
    "\n",
    "\n",
    "plt.plot(times, 0*times,\"-\",label=\"$<S_k>=0$\")\n",
    "\n",
    "#plt.legend(fontsize = label_size)\n",
    "plt.legend(loc=\"upper right\")\n",
    "plt.show()\n",
    "plt.close()"
   ]
  },
  {
   "cell_type": "code",
   "execution_count": null,
   "metadata": {},
   "outputs": [],
   "source": [
    "matplotlib.rcParams['figure.figsize'] = (10.0, 6.5)\n",
    "\n",
    "j_max = N/2.\n",
    "label_size = 20\n",
    "\n",
    "\n",
    "fig3 = plt.figure(3)\n",
    "plt.title(r'Quantum Evolution of $S_k$', fontsize = label_size)\n",
    "plt.xlabel(r'$t$', fontsize = label_size)\n",
    "#plt.ylabel(r'$\\langle a^\\dagger a\\rangle(t)$', fontsize = label_size)\n",
    "plt.ylabel(r'$\\langle S_k \\rangle(t)$', fontsize = label_size)\n",
    "\n",
    "\n",
    "plt.plot(times, Result_varDDTWA_EM[6],\"--\",label=\"$S^y_{10}$ DDTWA EM\")\n",
    "\n",
    "plt.plot(times, Result_varDDTWA_EM[7],\"--\",label=\"$S^y_{20}$ DDTWA EM\")\n",
    "\n",
    "plt.plot(times, Result_varDDTWA_EM[8],\"--\",label=\"$S^y_{30}$ DDTWA EM\")\n",
    "\n",
    "plt.plot(times, Result_varDDTWA_EM[9],\"--\",label=\"$S^y_{21}$ DDTWA EM\")\n",
    "\n",
    "plt.plot(times, Result_varDDTWA_EM[10],\"--\",label=\"$S^y_{31}$ DDTWA EM\")\n",
    "\n",
    "plt.plot(times, Result_varDDTWA_EM[11],\"--\",label=\"$S^y_{32}$ DDTWA EM\")\n",
    "\n",
    "\n",
    "#plt.plot(times, Result_varDDTWA_SH[0],\"--\",label=\"$S_x$ DDTWA SH\")\n",
    "\n",
    "#plt.plot(times, Result_varDDTWA_SH[1],\"--\",label=\"$S_y$ DDTWA SH\")\n",
    "\n",
    "#plt.plot(times, Result_varDDTWA_SH[2],\"--\",label=\"$S_z$ DDTWA SH\")\n",
    "\n",
    "\n",
    "plt.plot(times, 0*times,\"-\",label=\"$<S_k>=0$\")\n",
    "\n",
    "#plt.legend(fontsize = label_size)\n",
    "plt.legend(loc=\"upper right\")\n",
    "plt.show()\n",
    "plt.close()"
   ]
  },
  {
   "cell_type": "code",
   "execution_count": null,
   "metadata": {},
   "outputs": [],
   "source": []
  },
  {
   "cell_type": "code",
   "execution_count": null,
   "metadata": {},
   "outputs": [],
   "source": []
  },
  {
   "cell_type": "code",
   "execution_count": null,
   "metadata": {},
   "outputs": [],
   "source": []
  },
  {
   "cell_type": "code",
   "execution_count": null,
   "metadata": {},
   "outputs": [],
   "source": []
  },
  {
   "cell_type": "code",
   "execution_count": null,
   "metadata": {},
   "outputs": [],
   "source": []
  },
  {
   "cell_type": "code",
   "execution_count": null,
   "metadata": {},
   "outputs": [],
   "source": []
  },
  {
   "cell_type": "code",
   "execution_count": null,
   "metadata": {},
   "outputs": [],
   "source": []
  },
  {
   "cell_type": "code",
   "execution_count": null,
   "metadata": {},
   "outputs": [],
   "source": []
  },
  {
   "cell_type": "code",
   "execution_count": null,
   "metadata": {
    "colab": {
     "base_uri": "https://localhost:8080/",
     "height": 442
    },
    "id": "xZZagsU4JHsV",
    "outputId": "6c8760e7-9bd0-4ef3-c5ac-ae85a7b28e71"
   },
   "outputs": [],
   "source": [
    "matplotlib.rcParams['figure.figsize'] = (10.0, 6.5)\n",
    "\n",
    "j_max = N/2.\n",
    "label_size = 20\n",
    "\n",
    "\n",
    "fig3 = plt.figure(3)\n",
    "#plt.plot(t, nphot_t, 'k-', label='Time evolution')\n",
    "plt.title(r'Quantum Dynamics Photon Number', fontsize = label_size)\n",
    "plt.xlabel(r'$t$', fontsize = label_size)\n",
    "#plt.ylabel(r'$\\langle a^\\dagger a\\rangle(t)$', fontsize = label_size)\n",
    "plt.ylabel(r'$\\langle a^{\\dagger}a \\rangle(t)$', fontsize = label_size)\n",
    "\n",
    "\n",
    "plt.plot(times, Result_varDDTWA_EM[9]-0.5,\"--\",label=\"$a^{\\dagger}a$ DDTWA EM\")\n",
    "\n",
    "#plt.plot(times, Result_varDDTWA_SH[9]-0.5,\"--\",label=\"$a^{\\dagger}a$ DDTWA SH\")\n",
    "\n",
    "\n",
    "#plt.legend(fontsize = label_size)\n",
    "plt.legend()\n",
    "plt.show()\n",
    "plt.close()"
   ]
  },
  {
   "cell_type": "code",
   "execution_count": null,
   "metadata": {
    "colab": {
     "base_uri": "https://localhost:8080/",
     "height": 444
    },
    "id": "_9R-a8UYJHsV",
    "outputId": "0f5621e6-2dd8-4342-d7da-d0e7098fc426"
   },
   "outputs": [],
   "source": [
    "matplotlib.rcParams['figure.figsize'] = (10.0, 6.5)\n",
    "\n",
    "j_max = N/2.\n",
    "label_size = 20\n",
    "\n",
    "\n",
    "fig3 = plt.figure(3)\n",
    "plt.title(r'Quantum Evolution of $S_k$', fontsize = label_size)\n",
    "plt.xlabel(r'$t$', fontsize = label_size)\n",
    "#plt.ylabel(r'$\\langle a^\\dagger a\\rangle(t)$', fontsize = label_size)\n",
    "plt.ylabel(r'$\\langle S_k \\rangle(t)$', fontsize = label_size)\n",
    "\n",
    "\n",
    "plt.plot(times, Result_varDDTWA_EM[0],\"--\",label=\"$S_x$ DDTWA EM\")\n",
    "\n",
    "plt.plot(times, Result_varDDTWA_EM[1],\"--\",label=\"$S_y$ DDTWA EM\")\n",
    "\n",
    "plt.plot(times, Result_varDDTWA_EM[2],\"--\",label=\"$S_z$ DDTWA EM\")\n",
    "\n",
    "#plt.plot(times, Result_varDDTWA_SH[0],\"--\",label=\"$S_x$ DDTWA SH\")\n",
    "\n",
    "#plt.plot(times, Result_varDDTWA_SH[1],\"--\",label=\"$S_y$ DDTWA SH\")\n",
    "\n",
    "#plt.plot(times, Result_varDDTWA_SH[2],\"--\",label=\"$S_z$ DDTWA SH\")\n",
    "\n",
    "\n",
    "plt.plot(times, 0*times,\"-\",label=\"$<S_k>=0$\")\n",
    "\n",
    "#plt.legend(fontsize = label_size)\n",
    "plt.legend(loc=\"upper right\")\n",
    "plt.show()\n",
    "plt.close()"
   ]
  },
  {
   "cell_type": "code",
   "execution_count": null,
   "metadata": {
    "id": "WwF1QOKQJHsW"
   },
   "outputs": [],
   "source": []
  },
  {
   "cell_type": "code",
   "execution_count": null,
   "metadata": {
    "id": "uPNk55HfJHsW"
   },
   "outputs": [],
   "source": []
  },
  {
   "cell_type": "code",
   "execution_count": null,
   "metadata": {
    "id": "IliSPOsgJHsW"
   },
   "outputs": [],
   "source": []
  },
  {
   "cell_type": "code",
   "execution_count": null,
   "metadata": {
    "colab": {
     "base_uri": "https://localhost:8080/",
     "height": 448
    },
    "id": "meA5ZwtyJHsW",
    "outputId": "9c713e0e-e04a-41b8-8cf9-884abbc3b9aa"
   },
   "outputs": [],
   "source": [
    "matplotlib.rcParams['figure.figsize'] = (10.0, 6.5)\n",
    "\n",
    "j_max = N/2.\n",
    "label_size = 20\n",
    "\n",
    "\n",
    "fig3 = plt.figure(3)\n",
    "#plt.plot(t, nphot_t, 'k-', label='Time evolution')\n",
    "plt.title(r'Quantum Dynamics $a^{\\dagger}a^{\\dagger}aa$', fontsize = label_size)\n",
    "plt.xlabel(r'$t$', fontsize = label_size)\n",
    "#plt.ylabel(r'$\\langle a^\\dagger a\\rangle(t)$', fontsize = label_size)\n",
    "plt.ylabel(r'$\\langle a^{\\dagger}a^{\\dagger} aa \\rangle(t)$', fontsize = label_size)\n",
    "\n",
    "\n",
    "plt.plot(times, Result_varDDTWA_EM[10],\"--\",label=\"$a^{\\dagger}a^{\\dagger}aa$ DDTWA EM\")\n",
    "#plt.plot(times, Result_varDDTWA_SH[10],\"--\",label=\"$a^{\\dagger}a^{\\dagger}aa$ DDTWA SH\")\n",
    "\n",
    "\n",
    "\n",
    "\n",
    "#plt.legend(fontsize = label_size)\n",
    "plt.legend()\n",
    "plt.show()\n",
    "plt.close()"
   ]
  },
  {
   "cell_type": "code",
   "execution_count": null,
   "metadata": {
    "id": "qllJEmWWJHsX"
   },
   "outputs": [],
   "source": [
    "# DESCRIPTION OF MOMENTS OF S_k\n",
    "\n",
    "Sxx=N/4+  Result_varDDTWA_EM[3+0]\n",
    "Syy=N/4+  Result_varDDTWA_EM[3+1]\n",
    "Szz=N/4+  Result_varDDTWA_EM[3+2]\n",
    "\n",
    "\n"
   ]
  },
  {
   "cell_type": "code",
   "execution_count": null,
   "metadata": {
    "id": "ePMe-3J8JHsX"
   },
   "outputs": [],
   "source": []
  },
  {
   "cell_type": "code",
   "execution_count": null,
   "metadata": {
    "colab": {
     "base_uri": "https://localhost:8080/",
     "height": 467
    },
    "id": "K7z8i4XgJHsX",
    "outputId": "46c2ea93-0151-4990-8cf5-30d3c8581c28"
   },
   "outputs": [],
   "source": [
    "matplotlib.rcParams['figure.figsize'] = (10.0, 6.5)\n",
    "\n",
    "j_max = N/2.\n",
    "label_size = 20\n",
    "\n",
    "\n",
    "fig3 = plt.figure(3)\n",
    "#plt.plot(t, nphot_t, 'k-', label='Time evolution')\n",
    "plt.title(r'Quantum Dynamics $\\Delta (S_k^2)$', fontsize = label_size)\n",
    "plt.xlabel(r'$t$', fontsize = label_size)\n",
    "#plt.ylabel(r'$\\langle a^\\dagger a\\rangle(t)$', fontsize = label_size)\n",
    "plt.ylabel(r'$\\Delta (S_k^2) (t)$', fontsize = label_size)\n",
    "\n",
    "\n",
    "axEM=N/4+  Result_varDDTWA_EM[3+0]-(Result_varDDTWA_EM[0])**2\n",
    "ayEM=N/4+  Result_varDDTWA_EM[3+1]-(Result_varDDTWA_EM[1])**2\n",
    "azEM=N/4+  Result_varDDTWA_EM[3+2]-(Result_varDDTWA_EM[2])**2\n",
    "\n",
    "\n",
    "#Use for unitary dynamics solely\n",
    "\n",
    "#ax1EM=np.array(Result_varDDTWA_EM[6+0])-np.array((Result_varDDTWA_EM[0])**2)\n",
    "#ay1EM=np.array(Result_varDDTWA_EM[6+1])-np.array((Result_varDDTWA_EM[1])**2)\n",
    "#az1EM=np.array(Result_varDDTWA_EM[6+2])-np.array((Result_varDDTWA_EM[2])**2)\n",
    "\n",
    "\n",
    "\n",
    "\n",
    "#axSH=N/4+  Result_varDDTWA_SH[3+0]-(Result_varDDTWA_SH[0])**2\n",
    "#aySH=N/4+  Result_varDDTWA_SH[3+1]-(Result_varDDTWA_SH[1])**2\n",
    "#azSH=N/4+  Result_varDDTWA_SH[3+2]-(Result_varDDTWA_SH[2])**2\n",
    "\n",
    "\n",
    "#Use for unitary dynamics solely\n",
    "\n",
    "#ax1SH=np.array(Result_varDDTWA_SH[6+0])-np.array((Result_varDDTWA_SH[0])**2)\n",
    "#ay1SH=np.array(Result_varDDTWA_SH[6+1])-np.array((Result_varDDTWA_SH[1])**2)\n",
    "#az1SH=np.array(Result_varDDTWA_SH[6+2])-np.array((Result_varDDTWA_SH[2])**2)\n",
    "\n",
    "\n",
    "\n",
    "plt.plot(times,axEM,\"-.\",label=\"DDTWA $(\\Delta S_x)^2 $ EM\")\n",
    "plt.plot(times,ayEM,\"-.\",label=\"DDTWA $(\\Delta S_y)^2 $ EM\")\n",
    "plt.plot(times,azEM,\"-.\",label=\"DDTWA $(\\Delta S_z)^2 $ EM\")\n",
    "\n",
    "#plt.plot(times,axSH,\"-.\",label=\"DDTWA $(\\Delta S_x)^2 $ SH\")\n",
    "#plt.plot(times,aySH,\"-.\",label=\"DDTWA $(\\Delta S_y)^2 $ SH\")\n",
    "#plt.plot(times,azSH,\"-.\",label=\"DDTWA $(\\Delta S_z)^2 $ SH\")\n",
    "\n",
    "\n",
    "plt.legend()\n",
    "\n",
    "plt.legend(loc=\"upper right\")"
   ]
  },
  {
   "cell_type": "code",
   "execution_count": null,
   "metadata": {
    "colab": {
     "base_uri": "https://localhost:8080/"
    },
    "id": "HIgFXerJJHsY",
    "outputId": "56bfa4ac-b7ff-4e90-afdf-b88e5ce1199e"
   },
   "outputs": [],
   "source": [
    "steps"
   ]
  },
  {
   "cell_type": "code",
   "execution_count": null,
   "metadata": {
    "id": "ILLPTY5zJHsY"
   },
   "outputs": [],
   "source": [
    "f = lambda x, Sxx, Syy, Szz, Sxys, Syzs, Szxs, Sx, Sy, Sz: Sxx*power(cos(x[0])*sin(x[1]),2)+\\\n",
    "    Syy*power(sin(x[0])*sin(x[1]),2)+Szz*power(cos(x[1]),2)+Sxys*sin(2*x[0])*power(sin(x[1]),2)+\\\n",
    "    Syzs*sin(2*x[1])*sin(x[0])+Szxs*sin(2*x[1])*cos(x[0])\n",
    "\n",
    "\n",
    "Squeez=[]\n",
    "\n",
    "Arraytime=[]\n",
    "\n",
    "separ=500\n",
    "\n",
    "\n",
    "for j in range(int(steps/separ)):\n",
    "    \n",
    "    j=separ*j\n",
    "    \n",
    "    Sx= Result_varDDTWA_EM[0][j]\n",
    "    Sy= Result_varDDTWA_EM[1][j]\n",
    "    Sz= Result_varDDTWA_EM[2][j]\n",
    "    \n",
    "    Sxx= N/4+Result_varDDTWA_EM[3][j]\n",
    "    Syy= N/4+Result_varDDTWA_EM[4][j]\n",
    "    Szz= N/4+Result_varDDTWA_EM[5][j]\n",
    "    \n",
    "    Sxy= Result_varDDTWA_EM[11][j]\n",
    "    Syz= Result_varDDTWA_EM[12][j]\n",
    "    Szx= Result_varDDTWA_EM[13][j]\n",
    "    \n",
    "    cons = ({'type': 'eq', 'fun': lambda x: Sx*cos(x[0])*sin(x[1])+Sy*sin(x[0])*sin(x[1])+Sz*cos(x[1])})\n",
    "    \n",
    "    res = minimize(f, [0,0], constraints=cons, args=(Sxx,Syy,Szz,Sxy,Syz,Szx,Sx,Sy,Sz), tol=1e-17)\n",
    "    Squeez.append(res.fun*N/(Sx**2+Sy**2+Sz**2+1e-6))\n",
    "    \n",
    "    Arraytime.append(times[j])"
   ]
  },
  {
   "cell_type": "code",
   "execution_count": null,
   "metadata": {
    "colab": {
     "base_uri": "https://localhost:8080/"
    },
    "id": "ZsZLUAeFJHsY",
    "outputId": "a140fdd0-0b5a-4d96-c4bb-4954fa1db1c4"
   },
   "outputs": [],
   "source": [
    "matplotlib.rcParams['figure.figsize'] = (10.0, 6.5)\n",
    "\n",
    "j_max = N/2.\n",
    "label_size = 20\n",
    "\n",
    "j_max = N/2.\n",
    "label_size = 20\n",
    "\n",
    "\n",
    "fig3 = plt.figure(3)\n",
    "#plt.plot(t, nphot_t, 'k-', label='Time evolution')\n",
    "plt.title(r'$\\xi^{2}$ Dynamics', fontsize = label_size)\n",
    "\n",
    "plt.plot(Arraytime, np.array(Squeez),label=\"Spin Squeezing\");\n",
    "\n",
    "plt.legend()"
   ]
  },
  {
   "cell_type": "code",
   "execution_count": null,
   "metadata": {
    "id": "5IO3KnF1JHsZ"
   },
   "outputs": [],
   "source": []
  },
  {
   "cell_type": "code",
   "execution_count": null,
   "metadata": {
    "colab": {
     "base_uri": "https://localhost:8080/"
    },
    "id": "1Y2BcGzLJHsZ",
    "outputId": "2301fe0b-dec3-44af-ed06-db285238db45"
   },
   "outputs": [],
   "source": [
    "matplotlib.rcParams['figure.figsize'] = (10.0, 6.5)\n",
    "\n",
    "j_max = N/2.\n",
    "label_size = 20\n",
    "\n",
    "j_max = N/2.\n",
    "label_size = 20\n",
    "\n",
    "\n",
    "fig3 = plt.figure(3)\n",
    "#plt.plot(t, nphot_t, 'k-', label='Time evolution')\n",
    "plt.title(r'Spin Squeezing', fontsize = label_size)\n",
    "\n",
    "plt.plot(Arraytime, -np.log(np.array(Squeez))/np.log(10),label=\"Spin Squeezing\");\n",
    "\n",
    "plt.legend()"
   ]
  },
  {
   "cell_type": "code",
   "execution_count": null,
   "metadata": {
    "id": "jy_DOP-KkOtK"
   },
   "outputs": [],
   "source": []
  },
  {
   "cell_type": "code",
   "execution_count": null,
   "metadata": {
    "id": "wSH8DxuUkOyV"
   },
   "outputs": [],
   "source": [
    "from scipy import integrate"
   ]
  },
  {
   "cell_type": "code",
   "execution_count": null,
   "metadata": {
    "id": "_lrqoFz_JHsZ"
   },
   "outputs": [],
   "source": [
    "def time_averaging(array,indexes):\n",
    "    result=[]\n",
    "    lower_index=int(0.05*len(array))\n",
    "    upper_index=int(0.97*len(array))\n",
    "    \n",
    "    \n",
    "    \n",
    "    for j in range(len(array)):\n",
    "        if j<lower_index or j>upper_index:\n",
    "            result.append(array[j])\n",
    "        \n",
    "        else:\n",
    "            x=times[j-indexes:j+indexes]\n",
    "            y=array[j-indexes:j+indexes]\n",
    "            y_aver=integrate.trapz(y, x)/(x[-1]-x[0])\n",
    "            \n",
    "            result.append(y_aver)\n",
    "    \n",
    "    return result\n",
    "            \n",
    "    \n",
    "        \n",
    "        "
   ]
  },
  {
   "cell_type": "code",
   "execution_count": null,
   "metadata": {
    "id": "pXhwpGyWJHsZ"
   },
   "outputs": [],
   "source": []
  },
  {
   "cell_type": "code",
   "execution_count": null,
   "metadata": {
    "id": "ny0N9aZCJHsa"
   },
   "outputs": [],
   "source": [
    "\n",
    "def time_averaging(array,indexes):\n",
    "    result=[]\n",
    "    lower_index=int(0.5*len(array))\n",
    "    \n",
    "    \n",
    "    for j in range(len(array)):\n",
    "        if j<lower_index:\n",
    "            x=times[j:j+indexes]\n",
    "            y=array[j:j+indexes]\n",
    "            y_aver=integrate.trapz(y, x)/(x[-1]-x[0])\n",
    "            result.append(y_aver)\n",
    "            \n",
    "        else:\n",
    "            x=times[j-indexes:j]\n",
    "            y=array[j-indexes:j]\n",
    "            y_aver=integrate.trapz(y, x)/(x[-1]-x[0])\n",
    "            result.append(y_aver)\n",
    "    \n",
    "    return result"
   ]
  },
  {
   "cell_type": "code",
   "execution_count": null,
   "metadata": {
    "id": "2loR9a1OJHsa"
   },
   "outputs": [],
   "source": [
    "from scipy import integrate"
   ]
  },
  {
   "cell_type": "code",
   "execution_count": null,
   "metadata": {
    "id": "ahkXZAu3JHsa"
   },
   "outputs": [],
   "source": [
    "averx=time_averaging(Result_varDDTWA_EM[0],int(n*0.005));\n",
    "avery=time_averaging(Result_varDDTWA_EM[1],int(n*0.005));\n",
    "averz=time_averaging(Result_varDDTWA_EM[2],int(n*0.005));"
   ]
  },
  {
   "cell_type": "code",
   "execution_count": null,
   "metadata": {
    "id": "fyluhtPVJHsa"
   },
   "outputs": [],
   "source": []
  },
  {
   "cell_type": "code",
   "execution_count": null,
   "metadata": {
    "id": "dW-V5RZAJHsa"
   },
   "outputs": [],
   "source": []
  },
  {
   "cell_type": "code",
   "execution_count": null,
   "metadata": {
    "id": "dRh_phFOJHsb"
   },
   "outputs": [],
   "source": []
  },
  {
   "cell_type": "code",
   "execution_count": null,
   "metadata": {
    "colab": {
     "base_uri": "https://localhost:8080/",
     "height": 419
    },
    "id": "eHKNoAuDJHsb",
    "outputId": "506a5a72-c988-42ad-acb3-24d069c65307"
   },
   "outputs": [],
   "source": [
    "plt.plot(times,averx)\n",
    "plt.plot(times,avery)\n",
    "plt.plot(times,averz)\n",
    "\n",
    "plt.plot(times, Result_varDDTWA_EM[0],\"--\",label=\"$S_x$ DDTWA EM\")\n",
    "plt.plot(times, Result_varDDTWA_EM[1],\"--\",label=\"$S_y$ DDTWA EM\")\n",
    "plt.plot(times, Result_varDDTWA_EM[2],\"--\",label=\"$S_z$ DDTWA EM\")"
   ]
  },
  {
   "cell_type": "code",
   "execution_count": null,
   "metadata": {
    "id": "u6xcoTweJHsb"
   },
   "outputs": [],
   "source": []
  },
  {
   "cell_type": "code",
   "execution_count": null,
   "metadata": {
    "id": "-0Tgsc1CJHsb"
   },
   "outputs": [],
   "source": [
    "axEM=N/4+  Result_varDDTWA_EM[3+0]-(Result_varDDTWA_EM[0])**2\n",
    "ayEM=N/4+  Result_varDDTWA_EM[3+1]-(Result_varDDTWA_EM[1])**2\n",
    "azEM=N/4+  Result_varDDTWA_EM[3+2]-(Result_varDDTWA_EM[2])**2\n",
    "\n",
    "\n",
    "Sxx_ta=time_averaging(axEM,int(n*0.005));\n",
    "Syy_ta=time_averaging(ayEM,int(n*0.005));\n",
    "Szz_ta=time_averaging(azEM,int(n*0.005));"
   ]
  },
  {
   "cell_type": "code",
   "execution_count": null,
   "metadata": {
    "colab": {
     "base_uri": "https://localhost:8080/",
     "height": 419
    },
    "id": "pee-XSAAJHsb",
    "outputId": "db54d179-4d05-4928-a3f6-72e41039641a"
   },
   "outputs": [],
   "source": [
    "\n",
    "plt.plot(times,np.array(Sxx_ta))\n",
    "plt.plot(times,np.array(Syy_ta))\n",
    "plt.plot(times,np.array(Szz_ta))\n",
    "\n",
    "plt.plot(times,axEM)\n",
    "plt.plot(times,ayEM)\n",
    "plt.plot(times,azEM)"
   ]
  },
  {
   "cell_type": "code",
   "execution_count": null,
   "metadata": {
    "id": "W0L0NqmsJHsc"
   },
   "outputs": [],
   "source": []
  },
  {
   "cell_type": "code",
   "execution_count": null,
   "metadata": {
    "id": "qg6IeDhUJHsc"
   },
   "outputs": [],
   "source": []
  },
  {
   "cell_type": "code",
   "execution_count": null,
   "metadata": {
    "id": "QZx_dO8SJHsc"
   },
   "outputs": [],
   "source": []
  },
  {
   "cell_type": "code",
   "execution_count": null,
   "metadata": {
    "id": "DH_F_w7FJHsc"
   },
   "outputs": [],
   "source": []
  },
  {
   "cell_type": "code",
   "execution_count": null,
   "metadata": {
    "colab": {
     "base_uri": "https://localhost:8080/",
     "height": 497
    },
    "id": "RFrWuBqMJHsc",
    "outputId": "7fc78559-d3ee-4881-d609-8fc10ef97cd6"
   },
   "outputs": [],
   "source": [
    "matplotlib.rcParams['figure.figsize'] = (10.0, 6.5)\n",
    "\n",
    "j_max = N/2.\n",
    "label_size = 20\n",
    "\n",
    "\n",
    "fig3 = plt.figure(3)\n",
    "#plt.plot(t, nphot_t, 'k-', label='Time evolution')\n",
    "plt.title(r'Quantum Dynamics Photon Number', fontsize = label_size)\n",
    "plt.xlabel(r'$t$', fontsize = label_size)\n",
    "#plt.ylabel(r'$\\langle a^\\dagger a\\rangle(t)$', fontsize = label_size)\n",
    "plt.ylabel(r'$\\langle a^{\\dagger}a \\rangle(t)$', fontsize = label_size)\n",
    "\n",
    "\n",
    "plt.plot(times, Result_varDDTWA_EM[9]-0.5,\"--\",label=\"$a^{\\dagger}a$ DDTWA EM\")\n",
    "plt.plot(times,np.array(time_averaging(Result_varDDTWA_EM[9],int(n*0.01)))-0.5,\"--\",label=\"$a^{\\dagger}a$ Averaging DDTWA EM\")\n",
    "\n",
    "\n",
    "#plt.legend(fontsize = label_size)\n",
    "plt.legend()\n",
    "plt.show()\n",
    "plt.close()"
   ]
  },
  {
   "cell_type": "code",
   "execution_count": null,
   "metadata": {
    "id": "4AXF93KFJHsd"
   },
   "outputs": [],
   "source": []
  },
  {
   "cell_type": "code",
   "execution_count": null,
   "metadata": {
    "colab": {
     "base_uri": "https://localhost:8080/",
     "height": 448
    },
    "id": "CcREK6a_JHsj",
    "outputId": "df23da41-8c91-4094-9a59-9d502e795aaa"
   },
   "outputs": [],
   "source": [
    "matplotlib.rcParams['figure.figsize'] = (10.0, 6.5)\n",
    "\n",
    "j_max = N/2.\n",
    "label_size = 20\n",
    "\n",
    "\n",
    "fig3 = plt.figure(3)\n",
    "#plt.plot(t, nphot_t, 'k-', label='Time evolution')\n",
    "plt.title(r'Quantum Dynamics $a^{\\dagger}a^{\\dagger}aa$', fontsize = label_size)\n",
    "plt.xlabel(r'$t$', fontsize = label_size)\n",
    "#plt.ylabel(r'$\\langle a^\\dagger a\\rangle(t)$', fontsize = label_size)\n",
    "plt.ylabel(r'$\\langle a^{\\dagger}a^{\\dagger} aa \\rangle(t)$', fontsize = label_size)\n",
    "\n",
    "\n",
    "plt.plot(times, Result_varDDTWA_EM[10],\"--\",label=\"$a^{\\dagger}a^{\\dagger}aa$ DDTWA EM\")\n",
    "plt.plot(times,np.array(time_averaging(Result_varDDTWA_EM[10],int(n*0.005))),\"--\",label=\"$a^{\\dagger}a^{\\dagger}aa$ Averaging DDTWA EM\")\n",
    "\n",
    "\n",
    "#plt.legend(fontsize = label_size)\n",
    "plt.legend()\n",
    "plt.show()\n",
    "plt.close()"
   ]
  },
  {
   "cell_type": "code",
   "execution_count": null,
   "metadata": {
    "id": "HqJ6ftxQJHsk"
   },
   "outputs": [],
   "source": []
  },
  {
   "cell_type": "code",
   "execution_count": null,
   "metadata": {
    "id": "T70mCrayJHsk"
   },
   "outputs": [],
   "source": []
  },
  {
   "cell_type": "code",
   "execution_count": null,
   "metadata": {
    "colab": {
     "base_uri": "https://localhost:8080/",
     "height": 419
    },
    "id": "_l9JXq9PJHsk",
    "outputId": "ef50cf89-cc0f-40cb-ef56-70b6ae76e554"
   },
   "outputs": [],
   "source": [
    "Sque_ar=-np.log(np.array(Squeez))/np.log(10)\n",
    "\n",
    "\n",
    "plt.plot(Arraytime, Sque_ar,label=\"Spin Squeezing\")\n",
    "plt.plot(Arraytime, time_averaging(Sque_ar,int(len(Sque_ar)*0.005)),label=\"Spin Squeezing\")\n",
    "\n",
    "\n",
    "plt.legend()"
   ]
  },
  {
   "cell_type": "code",
   "execution_count": null,
   "metadata": {
    "id": "a01eljCUJHsl"
   },
   "outputs": [],
   "source": []
  },
  {
   "cell_type": "code",
   "execution_count": null,
   "metadata": {
    "id": "k_YDfHU7JHsl"
   },
   "outputs": [],
   "source": []
  },
  {
   "cell_type": "code",
   "execution_count": null,
   "metadata": {
    "id": "2Ij4qGNDJHsl"
   },
   "outputs": [],
   "source": []
  },
  {
   "cell_type": "code",
   "execution_count": null,
   "metadata": {
    "id": "byvPX2mYJHsl"
   },
   "outputs": [],
   "source": []
  },
  {
   "cell_type": "code",
   "execution_count": null,
   "metadata": {
    "id": "Fz9Jip9qJHsl"
   },
   "outputs": [],
   "source": []
  },
  {
   "cell_type": "code",
   "execution_count": null,
   "metadata": {
    "id": "MvI2LqUBJHsl"
   },
   "outputs": [],
   "source": []
  },
  {
   "cell_type": "code",
   "execution_count": null,
   "metadata": {
    "colab": {
     "base_uri": "https://localhost:8080/"
    },
    "id": "b7iM1qNNJHsm",
    "outputId": "52be9387-ae42-41e9-fc68-2ac08729cdae"
   },
   "outputs": [],
   "source": [
    "Sque_ar=-np.log(np.array(Squeez)+1e-8)/np.log(10)\n",
    "Sq_aver=time_averaging(Sque_ar,int(len(Sque_ar)*0.005))\n",
    "\n",
    "\n",
    "print(averz[-1],Sq_aver[-1],Sque_ar[-1])"
   ]
  },
  {
   "cell_type": "code",
   "execution_count": null,
   "metadata": {
    "colab": {
     "base_uri": "https://localhost:8080/"
    },
    "id": "gJ_rOK6NJHsm",
    "outputId": "c71c9925-1b43-483e-94c7-de55ca974e2e"
   },
   "outputs": [],
   "source": [
    "\n",
    "print(averz[-1],Sq_aver[-1],Sque_ar[-1],Omega)"
   ]
  },
  {
   "cell_type": "code",
   "execution_count": null,
   "metadata": {
    "id": "4LXZPJILJHsm"
   },
   "outputs": [],
   "source": []
  },
  {
   "cell_type": "code",
   "execution_count": null,
   "metadata": {
    "id": "xH2yUYWGJHsm"
   },
   "outputs": [],
   "source": []
  },
  {
   "cell_type": "code",
   "execution_count": null,
   "metadata": {
    "id": "ReWTbB96JHsm"
   },
   "outputs": [],
   "source": []
  },
  {
   "cell_type": "code",
   "execution_count": null,
   "metadata": {
    "id": "HXrmQGE0JHsm"
   },
   "outputs": [],
   "source": []
  },
  {
   "cell_type": "code",
   "execution_count": null,
   "metadata": {
    "id": "N6rlyyWLJHsm"
   },
   "outputs": [],
   "source": []
  },
  {
   "cell_type": "code",
   "execution_count": null,
   "metadata": {
    "id": "SAFI3c-FJHsm"
   },
   "outputs": [],
   "source": []
  },
  {
   "cell_type": "code",
   "execution_count": null,
   "metadata": {
    "id": "aV3NA_xEJHsm"
   },
   "outputs": [],
   "source": []
  },
  {
   "cell_type": "code",
   "execution_count": null,
   "metadata": {
    "id": "iDZRCb4AJHsm"
   },
   "outputs": [],
   "source": []
  },
  {
   "cell_type": "code",
   "execution_count": null,
   "metadata": {
    "id": "SmayU6ZxJHsn"
   },
   "outputs": [],
   "source": []
  },
  {
   "cell_type": "code",
   "execution_count": null,
   "metadata": {
    "id": "TqjgxXmAJHsn"
   },
   "outputs": [],
   "source": []
  },
  {
   "cell_type": "code",
   "execution_count": null,
   "metadata": {
    "id": "xFdjt_7xJHsn"
   },
   "outputs": [],
   "source": []
  },
  {
   "cell_type": "code",
   "execution_count": null,
   "metadata": {
    "id": "Oiej--F7JHsn"
   },
   "outputs": [],
   "source": []
  },
  {
   "cell_type": "code",
   "execution_count": null,
   "metadata": {
    "id": "wUIz-6fnJHsn"
   },
   "outputs": [],
   "source": []
  },
  {
   "cell_type": "markdown",
   "metadata": {
    "id": "-gMZlxq1JHsn"
   },
   "source": [
    "## PIQS"
   ]
  },
  {
   "cell_type": "code",
   "execution_count": null,
   "metadata": {
    "id": "XqlGmwiYJHsn"
   },
   "outputs": [],
   "source": [
    "# TLS parameters\n",
    "n_tls = N\n",
    "system = Dicke(N = n_tls)\n",
    "[jx, jy, jz] = jspin(N)\n",
    "jp = jspin(N,\"+\")\n",
    "jm = jp.dag()\n",
    "\n",
    "system.hamiltonian = Omega * jx\n",
    "system.collective_dephasing = 2*Gamma_phi\n",
    "D_tls = system.liouvillian() \n",
    "\n",
    "\n",
    "\n",
    "# Light-matter coupling parameters\n",
    "\n",
    "kappa_eff=2*kappa\n",
    "\n",
    "\n",
    "nphot = int(2*N+2)  #modes of light\n",
    "a = destroy(nphot)\n",
    "h_int = (g_coef/np.sqrt(N)) *(tensor(a, jp)+tensor(a.dag(), jm))\n",
    "\n",
    "\n",
    "\n",
    "# Photonic Liouvillian\n",
    "c_ops_phot = [np.sqrt(kappa_eff) * a]\n",
    "\n",
    "D_phot = liouvillian(Delta * a.dag()*a , c_ops_phot)\n",
    "\n",
    "# Identity super-operators\n",
    "nds = num_dicke_states(n_tls)\n",
    "id_tls = to_super(qeye(nds))\n",
    "id_phot = to_super(qeye(nphot))\n",
    "\n",
    "# Define the total Liouvillian\n",
    "D_int = -1j* spre(h_int) + 1j* spost(h_int)\n",
    "D_tot = D_int + super_tensor(D_phot, id_tls) + super_tensor(id_phot, D_tls)\n",
    "\n",
    "# Define operator in the total space\n",
    "nphot_tot = tensor(a.dag()*a, qeye(nds))\n",
    "adag_cuad_a_cuad = tensor(a.dag()*a.dag()*a*a, qeye(nds))\n",
    "\n",
    "jx_tot=tensor(qeye(nphot), jx)\n",
    "jy_tot=tensor(qeye(nphot), jy)\n",
    "jz_tot=tensor(qeye(nphot), jz)\n",
    "\n",
    "jxcuad_tot=tensor(qeye(nphot), jx*jx)\n",
    "jycuad_tot=tensor(qeye(nphot), jy*jy)\n",
    "jzcuad_tot=tensor(qeye(nphot), jz*jz)\n",
    "\n",
    "jxysym=tensor(qeye(nphot), (jx*jy+jy*jx)/2)\n",
    "jyzsym=tensor(qeye(nphot), (jy*jz+jz*jy)/2)\n",
    "jzxsym=tensor(qeye(nphot), (jz*jx+jx*jz)/2)\n"
   ]
  },
  {
   "cell_type": "code",
   "execution_count": null,
   "metadata": {
    "id": "JEO4lAhRJHsn"
   },
   "outputs": [],
   "source": []
  },
  {
   "cell_type": "code",
   "execution_count": null,
   "metadata": {
    "id": "JKtAdtmnJHso",
    "outputId": "2af3005b-08e1-43d7-b634-18f1eef924c1"
   },
   "outputs": [],
   "source": [
    "T"
   ]
  },
  {
   "cell_type": "code",
   "execution_count": null,
   "metadata": {
    "id": "x1GVgCqAJHso"
   },
   "outputs": [],
   "source": [
    "excited_state = excited(N)\n",
    "ground_state = dicke(N, N/2, -N/2)\n",
    "\n",
    "ground_phot = ket2dm(basis(nphot,0))  #vacuum\n",
    "#rho0 = tensor(ground_phot, excited_state)\n",
    "#rho0 = tensor(ground_phot, ground_state)\n",
    "\n",
    "\n",
    "\n",
    "import scipy.special\n",
    "\n",
    "rho_init=np.array(ground_state)\n",
    "\n",
    "\n",
    "for n in range(N+1):\n",
    "    for npr in range(N+1):\n",
    "        sq_bin=np.sqrt(scipy.special.binom(N,n)*scipy.special.binom(N,npr))\n",
    "        p_cos=np.power(np.cos(theta/2),n+npr)\n",
    "        p_sin=np.power(np.sin(theta/2),2*N-n-npr)\n",
    "        p_phi=np.exp(1j*phi*(npr-n))\n",
    "        rho_init[n][npr]=sq_bin*p_cos*p_sin*p_phi\n",
    "\n",
    "rho0=   tensor(ground_phot, Qobj(rho_init))     "
   ]
  },
  {
   "cell_type": "code",
   "execution_count": null,
   "metadata": {
    "id": "zdhYOn77JHso"
   },
   "outputs": [],
   "source": [
    "stepsPIQS=1500\n",
    "\n",
    "t = np.linspace(0, T, stepsPIQS)\n",
    "result1 = mesolve(D_tot, rho0, t, [], e_ops = [nphot_tot,jx_tot,jy_tot,jz_tot,adag_cuad_a_cuad,jxcuad_tot,jycuad_tot,jzcuad_tot,jxysym,jyzsym,jzxsym], \n",
    "                  options = Options(store_states=True))    #[nphot_tot,jx,jy,jz]\n",
    "rhot_tot = result1.states\n",
    "nphot_t = result1.expect[0]\n",
    "jx_t = result1.expect[1]\n",
    "jy_t = result1.expect[2]\n",
    "jz_t = result1.expect[3]\n",
    "adag_cuad_a_cuad_t=result1.expect[4]\n",
    "jxx_t=result1.expect[5]\n",
    "jyy_t=result1.expect[6]\n",
    "jzz_t=result1.expect[7]\n",
    "\n",
    "jxysym_t=result1.expect[8]\n",
    "jyzsym_t=result1.expect[9]\n",
    "jzxsym_t=result1.expect[10]"
   ]
  },
  {
   "cell_type": "code",
   "execution_count": null,
   "metadata": {
    "id": "skSKcBBMJHso"
   },
   "outputs": [],
   "source": []
  },
  {
   "cell_type": "code",
   "execution_count": null,
   "metadata": {
    "id": "PpkWH3-7JHso"
   },
   "outputs": [],
   "source": [
    "matplotlib.rcParams['figure.figsize'] = (11.0, 8.2)\n",
    "\n",
    "j_max = N/2.\n",
    "label_size = 20\n",
    "\n",
    "\n",
    "fig3 = plt.figure(3)\n",
    "\n",
    "plt.plot(t, jx_t, 'k-', label='$S_X$ PIQS')\n",
    "plt.plot(t, jy_t, 'r-', label='$S_y$ PIQS')\n",
    "plt.plot(t, jz_t, 'g-', label='$S_z$ PIQS')\n",
    "\n",
    "plt.title(r'Quantum Evolution of $\\langle S_k \\rangle(t)$', fontsize = label_size)\n",
    "plt.xlabel(r'$t$', fontsize = label_size)\n",
    "#plt.ylabel(r'$\\langle a^\\dagger a\\rangle(t)$', fontsize = label_size)\n",
    "plt.ylabel(r'$\\langle S_k \\rangle(t)$', fontsize = label_size)\n",
    "\n",
    "\n",
    "plt.plot(times, Result_varDDTWA_EM[0],\"--\",label=\"$S_x$ DDTWA\")\n",
    "\n",
    "plt.plot(times, Result_varDDTWA_EM[1],\"--\",label=\"$S_y$ DDTWA\")\n",
    "\n",
    "plt.plot(times, Result_varDDTWA_EM[2],\"--\",label=\"$S_z$ DDTWA\")\n",
    "\n",
    "plt.text(13, -2, \"N=\"+str(N)+\", $g$=\"+str(refg)+\", $\\Gamma_{\\phi}$=\"+str(refgamma)+\", $\\Omega$=\"+str(refomega)+\", $\\kappa$=\"+str(refkappa)+\", $\\Delta$=\"+str(refdelta), style='italic',\n",
    "        fontsize = 13 ,bbox={'facecolor': 'blue', 'alpha': 0.2, 'pad': 12})\n",
    "\n",
    "plt.xlim([times[0],times[-1]])\n",
    "#plt.plot(times, Result_varDDTWA_SH[0],\"--\",label=\"$S_x$ DDTWA SH\")\n",
    "\n",
    "#plt.plot(times, Result_varDDTWA_SH[1],\"--\",label=\"$S_y$ DDTWA SH\")\n",
    "\n",
    "#plt.plot(times, Result_varDDTWA_SH[2],\"--\",label=\"$S_z$ DDTWA SH\")\n",
    "\n",
    "\n",
    "#plt.legend(fontsize = label_size)\n",
    "plt.legend(loc=\"upper right\")\n",
    "plt.show()\n",
    "plt.close()"
   ]
  },
  {
   "cell_type": "code",
   "execution_count": null,
   "metadata": {
    "id": "v9QOfTD4JHso"
   },
   "outputs": [],
   "source": [
    "j_max = N/2.\n",
    "label_size = 20\n",
    "\n",
    "\n",
    "fig3 = plt.figure(3)\n",
    "\n",
    "plt.plot(t, jxx_t-(jx_t)**2, 'k-', label='$\\Delta(S_x^2)$ PIQS')\n",
    "plt.plot(t, jyy_t-(jy_t)**2, 'r-', label='$\\Delta(S_y^2)$ PIQS')\n",
    "plt.plot(t, jzz_t-(jz_t)**2, 'g-', label='$\\Delta(S_z^2)$ PIQS')\n",
    "\n",
    "plt.title(r'Quantum Evolution of $\\Delta(S_k^2)(t)$', fontsize = label_size)\n",
    "plt.xlabel(r'$t$', fontsize = label_size)\n",
    "#plt.ylabel(r'$\\langle a^\\dagger a\\rangle(t)$', fontsize = label_size)\n",
    "plt.ylabel(r'$ \\Delta(S_k^2) (t)$', fontsize = label_size)\n",
    "\n",
    "\n",
    "\n",
    "plt.plot(times,axEM,\"-.\",label=\"DDTWA $(\\Delta S_x)^2 $ \")\n",
    "plt.plot(times,ayEM,\"-.\",label=\"DDTWA $(\\Delta S_y)^2 $ \")\n",
    "plt.plot(times,azEM,\"-.\",label=\"DDTWA $(\\Delta S_z)^2 $ \")\n",
    "\n",
    "#plt.plot(times,axSH,\"-.\",label=\"DDTWA $(\\Delta S_x)^2 $ SH\")\n",
    "#plt.plot(times,aySH,\"-.\",label=\"DDTWA $(\\Delta S_y)^2 $ SH\")\n",
    "#plt.plot(times,azSH,\"-.\",label=\"DDTWA $(\\Delta S_z)^2 $ SH\")\n",
    "\n",
    "plt.text(13, 1, \"N=\"+str(N)+\", $g$=\"+str(refg)+\", $\\Gamma_{\\phi}$=\"+str(refgamma)+\", $\\Omega$=\"+str(refomega)+\", $\\kappa$=\"+str(refkappa)+\", $\\Delta$=\"+str(refdelta), style='italic',\n",
    "        fontsize = 13 ,bbox={'facecolor': 'blue', 'alpha': 0.2, 'pad': 12})\n",
    "\n",
    "plt.xlim([times[0],times[-1]])\n",
    "\n",
    "\n",
    "#plt.legend(fontsize = label_size)\n",
    "plt.legend(loc=\"upper right\")\n",
    "plt.show()\n",
    "plt.close()"
   ]
  },
  {
   "cell_type": "code",
   "execution_count": null,
   "metadata": {
    "id": "URZEyelXJHsp"
   },
   "outputs": [],
   "source": [
    "j_max = N/2.\n",
    "label_size = 20\n",
    "\n",
    "\n",
    "fig3 = plt.figure(3)\n",
    "plt.plot(t, nphot_t, 'k-', label='$a^{\\dagger}a$ PIQS')\n",
    "plt.title(r'Quantum Dynamics Photon Number', fontsize = label_size)\n",
    "plt.xlabel(r'$t$', fontsize = label_size)\n",
    "#plt.ylabel(r'$\\langle a^\\dagger a\\rangle(t)$', fontsize = label_size)\n",
    "plt.ylabel(r'$\\langle a^{\\dagger}a \\rangle(t)$', fontsize = label_size)\n",
    "\n",
    "\n",
    "plt.plot(times, Result_varDDTWA_EM[9]-0.5,\"--\",label=\"$a^{\\dagger}a$ DDTWA \")\n",
    "\n",
    "#plt.plot(times, Result_varDDTWA_SH[9]-0.5,\"--\",label=\"$a^{\\dagger}a$ DDTWA SH\")\n",
    "\n",
    "\n",
    "plt.text(12.3, 0.2, \"N=\"+str(N)+\", $g$=\"+str(refg)+\", $\\Gamma_{\\phi}$=\"+str(refgamma)+\", $\\Omega$=\"+str(refomega)+\", $\\kappa$=\"+str(refkappa)+\", $\\Delta$=\"+str(refdelta), style='italic',\n",
    "        fontsize = 13 ,bbox={'facecolor': 'blue', 'alpha': 0.2, 'pad': 12})\n",
    "\n",
    "plt.xlim([times[0],times[-1]])\n",
    "\n",
    "\n",
    "\n",
    "#plt.legend(fontsize = label_size)\n",
    "plt.legend()\n",
    "plt.show()\n",
    "plt.close()"
   ]
  },
  {
   "cell_type": "code",
   "execution_count": null,
   "metadata": {
    "id": "_0_BVNhfJHsp"
   },
   "outputs": [],
   "source": []
  },
  {
   "cell_type": "code",
   "execution_count": null,
   "metadata": {
    "id": "R8QXDk40JHsp"
   },
   "outputs": [],
   "source": []
  },
  {
   "cell_type": "code",
   "execution_count": null,
   "metadata": {
    "id": "zmfX-0sFJHsp"
   },
   "outputs": [],
   "source": []
  },
  {
   "cell_type": "code",
   "execution_count": null,
   "metadata": {
    "id": "ywJmWHhEJHsp"
   },
   "outputs": [],
   "source": [
    "j_max = N/2.\n",
    "label_size = 20\n",
    "\n",
    "\n",
    "fig3 = plt.figure(3)\n",
    "plt.plot(t, nphot_t, 'k-', label='$a^{\\dagger}a$ PIQS')\n",
    "plt.title(r'Quantum Dynamics Photon Number', fontsize = label_size)\n",
    "plt.xlabel(r'$t$', fontsize = label_size)\n",
    "#plt.ylabel(r'$\\langle a^\\dagger a\\rangle(t)$', fontsize = label_size)\n",
    "plt.ylabel(r'$\\langle a^{\\dagger}a \\rangle(t)$', fontsize = label_size)\n",
    "\n",
    "\n",
    "nph=time_averaging(Result_varDDTWA_EM[9],int(n*0.005))\n",
    "\n",
    "\n",
    "plt.plot(times, np.array(nph)-0.5,\"--\",label=\"$a^{\\dagger}a$ DDTWA \")\n",
    "\n",
    "#plt.plot(times, Result_varDDTWA_SH[9]-0.5,\"--\",label=\"$a^{\\dagger}a$ DDTWA SH\")\n",
    "\n",
    "\n",
    "plt.text(12.3, 0.2, \"N=\"+str(N)+\", $g$=\"+str(refg)+\", $\\Gamma_{\\phi}$=\"+str(refgamma)+\", $\\Omega$=\"+str(refomega)+\", $\\kappa$=\"+str(refkappa)+\", $\\Delta$=\"+str(refdelta), style='italic',\n",
    "        fontsize = 13 ,bbox={'facecolor': 'blue', 'alpha': 0.2, 'pad': 12})\n",
    "\n",
    "plt.xlim([times[0],times[-1]])\n",
    "\n",
    "\n",
    "\n",
    "#plt.legend(fontsize = label_size)\n",
    "plt.legend()\n",
    "plt.show()\n",
    "plt.close()"
   ]
  },
  {
   "cell_type": "code",
   "execution_count": null,
   "metadata": {
    "id": "3fJNiKh8JHsp"
   },
   "outputs": [],
   "source": []
  },
  {
   "cell_type": "code",
   "execution_count": null,
   "metadata": {
    "id": "AoSVz5zvJHsp"
   },
   "outputs": [],
   "source": []
  },
  {
   "cell_type": "code",
   "execution_count": null,
   "metadata": {
    "id": "51eOF5LaJHsp"
   },
   "outputs": [],
   "source": [
    "averx=time_averaging(Result_varDDTWA_EM[0],int(n*0.005));\n",
    "avery=time_averaging(Result_varDDTWA_EM[1],int(n*0.005));\n",
    "averz=time_averaging(Result_varDDTWA_EM[2],int(n*0.005));"
   ]
  },
  {
   "cell_type": "code",
   "execution_count": null,
   "metadata": {
    "id": "1xtXzb8OJHsp"
   },
   "outputs": [],
   "source": []
  },
  {
   "cell_type": "code",
   "execution_count": null,
   "metadata": {
    "id": "syUY-nBaJHsq"
   },
   "outputs": [],
   "source": []
  },
  {
   "cell_type": "code",
   "execution_count": null,
   "metadata": {
    "id": "x9vsohphJHsq"
   },
   "outputs": [],
   "source": []
  },
  {
   "cell_type": "code",
   "execution_count": null,
   "metadata": {
    "id": "zeVvc8rFJHsq"
   },
   "outputs": [],
   "source": []
  },
  {
   "cell_type": "code",
   "execution_count": null,
   "metadata": {
    "id": "7v-QRLS4JHsq"
   },
   "outputs": [],
   "source": [
    "matplotlib.rcParams['figure.figsize'] = (10.0, 6.5)\n",
    "\n",
    "j_max = N/2.\n",
    "label_size = 20\n",
    "\n",
    "\n",
    "fig3 = plt.figure(3)\n",
    "#plt.plot(t, nphot_t, 'k-', label='Time evolution')\n",
    "plt.title(r'Quantum Dynamics $a^{\\dagger}a^{\\dagger}aa$', fontsize = label_size)\n",
    "plt.xlabel(r'$t$', fontsize = label_size)\n",
    "#plt.ylabel(r'$\\langle a^\\dagger a\\rangle(t)$', fontsize = label_size)\n",
    "plt.ylabel(r'$\\langle a^{\\dagger}a^{\\dagger} aa \\rangle(t)$', fontsize = label_size)\n",
    "\n",
    "\n",
    "plt.plot(times, Result_varDDTWA_EM[10],\"--\",label=\"$a^{\\dagger}a^{\\dagger}aa$ DDTWA \")\n",
    "#plt.plot(times, Result_varDDTWA_SH[10],\"--\",label=\"$a^{\\dagger}a^{\\dagger}aa$ DDTWA SH\")\n",
    "\n",
    "plt.text(12.3, 0.2, \"N=\"+str(N)+\", $g$=\"+str(refg)+\", $\\Gamma_{\\phi}$=\"+str(refgamma)+\", $\\Omega$=\"+str(refomega)+\", $\\kappa$=\"+str(refkappa)+\", $\\Delta$=\"+str(refdelta), style='italic',\n",
    "        fontsize = 13 ,bbox={'facecolor': 'blue', 'alpha': 0.2, 'pad': 12})\n",
    "\n",
    "plt.xlim([times[0],times[-1]])\n",
    "\n",
    "\n",
    "\n",
    "plt.plot(t, adag_cuad_a_cuad_t, 'k-', label='$a^{\\dagger}a^{\\dagger}aa$ PIQS')\n",
    "\n",
    "#plt.legend(fontsize = label_size)\n",
    "plt.legend()\n",
    "plt.show()\n",
    "plt.close()"
   ]
  },
  {
   "cell_type": "code",
   "execution_count": null,
   "metadata": {
    "id": "-RS3ZveMJHsq"
   },
   "outputs": [],
   "source": []
  },
  {
   "cell_type": "code",
   "execution_count": null,
   "metadata": {
    "id": "eHh1w8mkJHsq"
   },
   "outputs": [],
   "source": [
    "matplotlib.rcParams['figure.figsize'] = (10.0, 6.5)\n",
    "\n",
    "j_max = N/2.\n",
    "label_size = 20\n",
    "\n",
    "\n",
    "fig3 = plt.figure(3)\n",
    "#plt.plot(t, nphot_t, 'k-', label='Time evolution')\n",
    "plt.title(r'Quantum Dynamics of $g^{(2)}(0)$', fontsize = label_size)\n",
    "plt.xlabel(r'$t$', fontsize = label_size)\n",
    "#plt.ylabel(r'$\\langle a^\\dagger a\\rangle(t)$', fontsize = label_size)\n",
    "plt.ylabel(r'$g^{(2)}(0)$', fontsize = label_size)\n",
    "\n",
    "\n",
    "\n",
    "\n",
    "g2_0=np.divide(adag_cuad_a_cuad_t,nphot_t**2);\n",
    "g2_est_EM=np.divide(Result_varDDTWA_EM[10],(Result_varDDTWA_EM[9]-0.5)**2);\n",
    "#g2_est_SH=np.divide(Result_varDDTWA_SH[10],(Result_varDDTWA_SH[9]-0.5)**2)\n",
    "\n",
    "\n",
    "\n",
    "index=700\n",
    "index1=30\n",
    "\n",
    "plt.plot(t[index1:],g2_0[index1:], label='$g^{(2)}(0)$ PIQS')\n",
    "plt.plot(times[index:],g2_est_EM[index:], label='$g^{(2)}(0)$ DDTWA ')\n",
    "#plt.plot(times[index:],g2_est_SH[index:], label='$g^{(2)}(0)$ DDTWA SH')\n",
    "\n",
    "plt.text(12.3, 1, \"N=\"+str(N)+\", $g$=\"+str(refg)+\", $\\Gamma_{\\phi}$=\"+str(refgamma)+\", $\\Omega$=\"+str(refomega)+\", $\\kappa$=\"+str(refkappa)+\", $\\Delta$=\"+str(refdelta), style='italic',\n",
    "        fontsize = 13 ,bbox={'facecolor': 'blue', 'alpha': 0.2, 'pad': 12})\n",
    "\n",
    "plt.xlim([times[0],times[-1]])\n",
    "\n",
    "\n",
    "\n",
    "#plt.legend(fontsize = label_size)\n",
    "plt.legend(loc=\"upper right\")\n",
    "plt.show()\n",
    "plt.close()\n"
   ]
  },
  {
   "cell_type": "code",
   "execution_count": null,
   "metadata": {
    "id": "xN74yTI1JHsq"
   },
   "outputs": [],
   "source": []
  },
  {
   "cell_type": "code",
   "execution_count": null,
   "metadata": {
    "id": "LgExtVMVJHsq"
   },
   "outputs": [],
   "source": []
  },
  {
   "cell_type": "code",
   "execution_count": null,
   "metadata": {
    "id": "jBJ6zto0JHsr"
   },
   "outputs": [],
   "source": [
    "f = lambda x, Sxx, Syy, Szz, Sxys, Syzs, Szxs, Sx, Sy, Sz: Sxx*power(cos(x[0])*sin(x[1]),2)+\\\n",
    "    Syy*power(sin(x[0])*sin(x[1]),2)+Szz*power(cos(x[1]),2)+Sxys*sin(2*x[0])*power(sin(x[1]),2)+\\\n",
    "    Syzs*sin(2*x[1])*sin(x[0])+Szxs*sin(2*x[1])*cos(x[0])\n",
    "\n",
    "\n",
    "SquPIQS=[]\n",
    "\n",
    "ArraytimePIQS=[]\n",
    "\n",
    "separPIQS=1\n",
    "\n",
    "\n",
    "for j in range(int(stepsPIQS/separPIQS)):\n",
    "    \n",
    "    j=separPIQS*j\n",
    "        \n",
    "    Sx= jx_t[j]\n",
    "    Sy= jy_t[j]\n",
    "    Sz= jz_t[j]\n",
    "    \n",
    "    Sxx= jxx_t[j]\n",
    "    Syy= jyy_t[j]\n",
    "    Szz= jzz_t[j]\n",
    "    \n",
    "    Sxy= jxysym_t[j]\n",
    "    Syz= jyzsym_t[j]\n",
    "    Szx= jzxsym_t[j]\n",
    "    \n",
    "    cons = ({'type': 'eq', 'fun': lambda x: Sx*cos(x[0])*sin(x[1])+Sy*sin(x[0])*sin(x[1])+Sz*cos(x[1])})\n",
    "    \n",
    "    res = minimize(f, [0,0], constraints=cons, args=(Sxx,Syy,Szz,Sxy,Syz,Szx,Sx,Sy,Sz), tol=1e-17)\n",
    "    SquPIQS.append(res.fun*N/(Sx**2+Sy**2+Sz**2+1e-6))\n",
    "    \n",
    "    ArraytimePIQS.append(t[j])"
   ]
  },
  {
   "cell_type": "code",
   "execution_count": null,
   "metadata": {
    "id": "-qVTlaHQJHsr"
   },
   "outputs": [],
   "source": []
  },
  {
   "cell_type": "code",
   "execution_count": null,
   "metadata": {
    "id": "XCK1wHHcJHsr"
   },
   "outputs": [],
   "source": []
  },
  {
   "cell_type": "code",
   "execution_count": null,
   "metadata": {
    "id": "avarEBhEJHsr"
   },
   "outputs": [],
   "source": [
    "matplotlib.rcParams['figure.figsize'] = (10.0, 6.5)\n",
    "\n",
    "j_max = N/2.\n",
    "label_size = 20\n",
    "\n",
    "\n",
    "fig3 = plt.figure(3)\n",
    "#plt.plot(t, nphot_t, 'k-', label='Time evolution')\n",
    "plt.title(r'Spin Squeezing Dynamics', fontsize = label_size)\n",
    "plt.xlabel(r'$t$', fontsize = label_size)\n",
    "#plt.ylabel(r'$\\langle a^\\dagger a\\rangle(t)$', fontsize = label_size)\n",
    "plt.ylabel(r'$-10\\log_{10}(\\xi^2)$', fontsize = label_size)\n",
    "\n",
    "\n",
    "\n",
    "\n",
    "index=700\n",
    "index1=30\n",
    "\n",
    "plt.plot(ArraytimePIQS,-np.log(np.array(SquPIQS))/np.log(10),label=\"Numerical Exact\")\n",
    "plt.plot(Arraytime,-np.log(np.array(Squeez))/np.log(10),\"--\",label=\"DDTWA\")\n",
    "#plt.plot(times[index:],g2_est_SH[index:], label='$g^{(2)}(0)$ DDTWA SH')\n",
    "\n",
    "plt.text(11.6, -1, \"N=\"+str(N)+\", $g$=\"+str(refg)+\", $\\Gamma_{\\phi}$=\"+str(refgamma)+\", $\\Omega$=\"+str(refomega)+\", $\\kappa$=\"+str(refkappa)+\", $\\Delta$=\"+str(refdelta), style='italic',\n",
    "        fontsize = 13 ,bbox={'facecolor': 'blue', 'alpha': 0.2, 'pad': 12})\n",
    "\n",
    "plt.xlim([times[0],times[-1]])\n",
    "\n",
    "\n",
    "\n",
    "#plt.legend(fontsize = label_size)\n",
    "plt.legend(loc=\"lower right\")\n",
    "plt.show()\n",
    "plt.close()\n"
   ]
  },
  {
   "cell_type": "code",
   "execution_count": null,
   "metadata": {
    "id": "-ISgIVHNJHsr"
   },
   "outputs": [],
   "source": []
  },
  {
   "cell_type": "code",
   "execution_count": null,
   "metadata": {
    "id": "mkveB__VJHsr"
   },
   "outputs": [],
   "source": []
  },
  {
   "cell_type": "code",
   "execution_count": null,
   "metadata": {
    "id": "xZxmihT6JHsr"
   },
   "outputs": [],
   "source": []
  },
  {
   "cell_type": "code",
   "execution_count": null,
   "metadata": {
    "id": "wR2t50l1JHsr"
   },
   "outputs": [],
   "source": []
  },
  {
   "cell_type": "code",
   "execution_count": null,
   "metadata": {
    "id": "6MFwoQ1UJHsr"
   },
   "outputs": [],
   "source": []
  }
 ],
 "metadata": {
  "colab": {
   "collapsed_sections": [
    "-gMZlxq1JHsn"
   ],
   "machine_shape": "hm",
   "name": "N400Kappa100Omega0_01100Iter300.ipynb",
   "provenance": []
  },
  "kernelspec": {
   "display_name": "Python 3",
   "language": "python",
   "name": "python3"
  },
  "language_info": {
   "codemirror_mode": {
    "name": "ipython",
    "version": 3
   },
   "file_extension": ".py",
   "mimetype": "text/x-python",
   "name": "python",
   "nbconvert_exporter": "python",
   "pygments_lexer": "ipython3",
   "version": "3.8.3"
  }
 },
 "nbformat": 4,
 "nbformat_minor": 1
}
