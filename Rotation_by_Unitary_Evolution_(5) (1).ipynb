{
  "nbformat": 4,
  "nbformat_minor": 0,
  "metadata": {
    "colab": {
      "name": "Rotation_by_Unitary_Evolution (5).ipynb",
      "provenance": [],
      "collapsed_sections": [],
      "machine_shape": "hm"
    },
    "kernelspec": {
      "display_name": "Python 3",
      "language": "python",
      "name": "python3"
    },
    "language_info": {
      "codemirror_mode": {
        "name": "ipython",
        "version": 3
      },
      "file_extension": ".py",
      "mimetype": "text/x-python",
      "name": "python",
      "nbconvert_exporter": "python",
      "pygments_lexer": "ipython3",
      "version": "3.8.3"
    }
  },
  "cells": [
    {
      "cell_type": "code",
      "metadata": {
        "id": "rNqXOESIJHsB"
      },
      "source": [
        "import matplotlib.pyplot as plt\n",
        "import numpy as np\n",
        "\n",
        "\"\"\"In order to provide a better presentation of the graphs we use the rcParams options shown below.\"\"\"\n",
        "\n",
        "import matplotlib\n",
        "matplotlib.rcParams['text.usetex'] = False\n",
        "matplotlib.rcParams['mathtext.fontset'] = 'stix'\n",
        "matplotlib.rcParams['font.family'] = 'STIXGeneral'\n",
        "matplotlib.rcParams['font.size'] = 15\n",
        "matplotlib.rcParams['figure.figsize'] = (11.0, 8.0)"
      ],
      "execution_count": 105,
      "outputs": []
    },
    {
      "cell_type": "code",
      "metadata": {
        "id": "g-U4BC1zJHsE"
      },
      "source": [
        "import matplotlib.pyplot as plt\n",
        "from numpy import linalg as LA\n",
        "import scipy.special\n",
        "\n",
        "import time\n",
        "from scipy.integrate import odeint\n",
        "from scipy.special import zeta\n",
        "from random import choices\n",
        "\n",
        "from numpy import sin, cos, power\n"
      ],
      "execution_count": 106,
      "outputs": []
    },
    {
      "cell_type": "code",
      "metadata": {
        "id": "cKNPrM5tJHsE"
      },
      "source": [
        "import matplotlib.pyplot as plt\n",
        "import matplotlib as mpl\n",
        "from matplotlib import cm\n",
        "import numpy as np\n",
        "\n",
        "from scipy.optimize import minimize\n",
        "#from qutip import *\n",
        "#from qutip.piqs import *\n",
        "\n",
        "import matplotlib.animation as animation\n",
        "from IPython.display import HTML\n",
        "from IPython.core.display import Image, display"
      ],
      "execution_count": 107,
      "outputs": []
    },
    {
      "cell_type": "code",
      "metadata": {
        "id": "TfUKc__XJHsF"
      },
      "source": [
        "\"\"\"Our system of differential equations belongs to the complex space, that is why we implemented the code suggested in\"\"\"\n",
        "\"\"\"https://stackoverflow.com/questions/19910189/scipy-odeint-with-complex-initial-values.\"\"\"\n",
        "\n",
        "import time\n",
        "import numpy as np\n",
        "from scipy.integrate import odeint\n",
        "from scipy.special import zeta\n",
        "from random import choices\n",
        "\n",
        "def odeintz(func, z0, t, **kwargs):\n",
        "   \n",
        "    \n",
        "    \"\"\"An odeint-like function for complex valued differential equations.\n",
        "\n",
        "    Inputs:\n",
        "    ----------\n",
        "      -func: function associated to dr/dt=f(x;t), where x is the set of parameters and variables to be determined\n",
        "      -z0: 1d array with length N*(5N-1)/2\n",
        "      -t: 1d array from t=0 to t=tf (parameter set by the user)\n",
        "      - **kwargs: keyword arguments related with external functions to be used in odeint\n",
        "    \n",
        "    Return:\n",
        "      -z: multivariable array with the solution of the differential equation associated with each variable\"\"\"\n",
        "\n",
        "    # Disallow Jacobian-related arguments.\n",
        "    _unsupported_odeint_args = ['Dfun', 'col_deriv', 'ml', 'mu']\n",
        "    bad_args = [arg for arg in kwargs if arg in _unsupported_odeint_args]\n",
        "    if len(bad_args) > 0:\n",
        "        raise ValueError(\"The odeint argument %r is not supported by \"\n",
        "                         \"odeintz.\" % (bad_args[0],))\n",
        "\n",
        "    # Make sure z0 is a numpy array of type np.complex128.\n",
        "    z0 = np.array(z0, dtype=np.complex128, ndmin=1)\n",
        "\n",
        "    def realfunc(x, t, *args):\n",
        "        z = x.view(np.complex128)\n",
        "        dzdt = func(z, t, *args)\n",
        "        # func might return a python list, so convert its return\n",
        "        # value to an array with type np.complex128, and then return\n",
        "        # a np.float64 view of that array.\n",
        "        return np.asarray(dzdt, dtype=np.complex128).view(np.float64)\n",
        "\n",
        "    result = odeint(realfunc, z0.view(np.float64), t, **kwargs)\n",
        "\n",
        "    if kwargs.get('full_output', False):\n",
        "        z = result[0].view(np.complex128)\n",
        "        infodict = result[1]\n",
        "        return z, infodict\n",
        "    else:\n",
        "        z = result.view(np.complex128)\n",
        "        return z"
      ],
      "execution_count": 108,
      "outputs": []
    },
    {
      "cell_type": "markdown",
      "metadata": {
        "id": "alYFeFnVyDsM"
      },
      "source": [
        "## Time-evolution of Weyl-symbols"
      ]
    },
    {
      "cell_type": "markdown",
      "metadata": {
        "id": "QTGD2wWhyDsM"
      },
      "source": [
        "\\begin{align}\n",
        "\\partial_{t}F_{10}^{x} & =-g_{{\\rm R}}\\left(\\alpha_{{\\rm R},y}F_{31}^{x}+\\alpha_{{\\rm R},x}F_{31}^{y}\\right)-\\frac{\\Omega_{{\\rm R}}}{2}F_{31}^{y}-g_{{\\rm L}}\\left(\\alpha_{{\\rm L},y}F_{20}^{x}+\\alpha_{{\\rm L},x}F_{20}^{y}\\right)-\\frac{\\Omega_{{\\rm R}}}{2}F_{20}^{y},\\\\\n",
        "\\partial_{t}F_{20}^{x} & =-g_{{\\rm R}}\\left(\\alpha_{{\\rm R},y}F_{32}^{x}+\\alpha_{{\\rm R},x}F_{32}^{y}\\right)-\\frac{\\Omega_{{\\rm R}}}{2}F_{32}^{y}+g_{{\\rm L}}\\left(\\alpha_{{\\rm L},y}F_{10}^{x}-\\alpha_{{\\rm L},x}F_{10}^{y}\\right)-\\frac{\\Omega_{{\\rm L}}}{2}F_{10}^{y},\\\\\n",
        "\\partial_{t}F_{30}^{x} & =-\\sqrt{2}g_{{\\rm R}}\\alpha_{{\\rm R},y}\\left(1-F_{2}-F_{1}-2F_{0}\\right),\\\\\n",
        "\\partial_{t}F_{21}^{x} & =-\\sqrt{2}g_{{\\rm L}}\\alpha_{{\\rm L},y}\\left(F_{2}-F_{1}\\right),\\\\\n",
        "\\partial_{t}F_{31}^{x} & =g_{{\\rm R}}\\left(\\alpha_{{\\rm R},y}F_{10}^{x}+\\alpha_{{\\rm R},x}F_{10}^{y}\\right)+\\frac{\\Omega_{{\\rm R}}}{2}F_{10.i}^{y}-g_{{\\rm L}}\\left(\\alpha_{{\\rm L},y}F_{32}^{x}-\\alpha_{{\\rm L},x}F_{32}^{y}\\right)+\\frac{\\Omega_{{\\rm L}}}{2}F_{32}^{y},\\\\\n",
        "\\partial_{t}F_{32}^{x} & =g_{{\\rm R}}\\left(\\alpha_{{\\rm R},y}F_{20}^{x}+\\alpha_{{\\rm R},x}F_{20}^{y}\\right)+\\frac{\\Omega_{{\\rm R}}}{2}F_{20}^{y}+g_{{\\rm L}}\\left(\\alpha_{{\\rm L},y}F_{31}^{x}+\\alpha_{{\\rm L},x}F_{31}^{y}\\right)+\\frac{\\Omega_{{\\rm L}}}{2}F_{31}^{y},\\\\\n",
        "\\partial_{t}F_{10}^{y} & =-g_{{\\rm R}}\\left(\\alpha_{{\\rm R},x}F_{31}^{x}-\\alpha_{{\\rm R},y}F_{31}^{y}\\right)-\\frac{\\Omega_{{\\rm R}}}{2}F_{31}^{x}+g_{{\\rm L}}\\left(\\alpha_{{\\rm L},x}F_{20}^{x}-\\alpha_{{\\rm L},y}F_{20}^{y}\\right)+\\frac{\\Omega_{{\\rm L}}}{2}F_{20}^{x},\\\\\n",
        "\\partial_{t}F_{20}^{y} & =-g_{{\\rm R}}\\left(\\alpha_{{\\rm R},x}F_{32}^{x}-\\alpha_{{\\rm R},y}F_{32}^{y}\\right)-\\frac{\\Omega_{{\\rm R}}}{2}F_{32}^{x}+g_{{\\rm L}}\\left(\\alpha_{{\\rm L},x}F_{10}^{x}+\\alpha_{{\\rm L},y}F_{10}^{y}\\right)+\\frac{\\Omega_{{\\rm L}}}{2}F_{10}^{x},\\\\\n",
        "\\partial_{t}F_{30}^{y} & =-\\left(2g_{{\\rm R}}\\alpha_{{\\rm R},x}+\\Omega_{{\\rm R}}\\right)\\left(1-F_{2}-F_{1}-2F_{0}\\right)/\\sqrt{2},\\\\\n",
        "\\partial_{t}F_{21}^{y} & =-\\left(2g_{{\\rm L}}\\alpha_{{\\rm L},x}+\\Omega_{{\\rm L}}\\right)\\left(F_{2}-F_{1}\\right)/\\sqrt{2},\\\\\n",
        "\\partial_{t}F_{31}^{y} & =g_{{\\rm R}}\\left(\\alpha_{{\\rm R},x}F_{10}^{x}-\\alpha_{{\\rm R},y}F_{10}^{y}\\right)+\\frac{\\Omega_{{\\rm R}}}{2}F_{10}^{x}-g_{{\\rm L}}\\left(\\alpha_{{\\rm L},x}F_{32}^{x}+\\alpha_{{\\rm L},y}F_{32}^{y}\\right)-\\frac{\\Omega_{{\\rm L}}}{2}F_{32}^{x},\\\\\n",
        "\\partial_{t}F_{32}^{y} & =g_{{\\rm R}}\\left(\\alpha_{{\\rm R},x}F_{20}^{x}-\\alpha_{{\\rm R},y}F_{20}^{y}\\right)+\\frac{\\Omega_{{\\rm R}}}{2}F_{20}^{x}-g_{{\\rm L}}\\left(\\alpha_{{\\rm L},x}F_{31}^{x}-\\alpha_{{\\rm L},y}F_{31}^{y}\\right)-\\frac{\\Omega_{{\\rm L}}}{2}F_{31}^{x},\\\\\n",
        "\\partial_{t}F_{0} & =-\\sqrt{2}\\left(g_{{\\rm R}}\\left(\\alpha_{{\\rm R},y}F_{30}^{x}+\\alpha_{{\\rm R},x}F_{30}^{y}\\right)+\\frac{\\Omega_{{\\rm R}}}{2}F_{30}^{y}\\right),\\\\\n",
        "\\partial_{t}F_{1} & =-\\sqrt{2}\\left(g_{{\\rm L}}\\left(\\alpha_{{\\rm L},y}F_{21}^{x}+\\alpha_{{\\rm L},x}F_{21}^{y}\\right)+\\frac{\\Omega_{{\\rm L}}}{2}F_{21}^{y}\\right),\\\\\n",
        "\\partial_{t}F_{2} & =\\sqrt{2}\\left(g_{{\\rm L}}\\left(\\alpha_{{\\rm L},y}F_{21}^{x}+\\alpha_{{\\rm L},x}F_{21}^{y}\\right)+\\frac{\\Omega_{{\\rm L}}}{2}F_{21}^{y}\\right),\\\\\n",
        "\\partial_{t}\\alpha_{{\\rm R},x} & =-\\frac{g_{{\\rm R}}}{\\sqrt{2}}F_{30}^{y}-\\Delta_{{\\rm R}}\\alpha_{{\\rm R},y}-\\frac{\\kappa_{{\\rm R}}}{2}\\alpha_{{\\rm R},x}+\\sqrt{\\frac{\\kappa_{{\\rm R}}}{4}}{\\rm d}W_{1},\\\\\n",
        "\\partial_{t}\\alpha_{{\\rm R},y} & =-\\frac{g_{{\\rm R}}}{\\sqrt{2}}F_{30}^{x}+\\Delta_{{\\rm R}}\\alpha_{{\\rm R},x}-\\frac{\\kappa_{{\\rm R}}}{2}\\alpha_{{\\rm R},y}+\\sqrt{\\frac{\\kappa_{R}}{4}}{\\rm d}W_{2}.\\\\\n",
        "\\partial_{t}\\alpha_{{\\rm L},x} & =-\\frac{g_{{\\rm L}}}{\\sqrt{2}}F_{21}^{y}-\\Delta_{{\\rm L}}\\alpha_{{\\rm L},y}-\\frac{\\kappa_{{\\rm L}}}{2}\\alpha_{{\\rm L},x}+\\sqrt{\\frac{\\kappa_{{\\rm L}}}{4}}{\\rm d}W_{3},\\\\\n",
        "\\partial_{t}\\alpha_{{\\rm L},y} & =-\\frac{g_{{\\rm L}}}{\\sqrt{2}}F_{21}^{x}+\\Delta_{{\\rm L}}\\alpha_{{\\rm L},x}-\\frac{\\kappa_{{\\rm L}}}{2}\\alpha_{{\\rm L},y}+\\sqrt{\\frac{\\kappa_{{\\rm L}}}{4}}{\\rm d}W_{4}.\n",
        "\\end{align}"
      ]
    },
    {
      "cell_type": "markdown",
      "metadata": {
        "id": "CLhWX7V_yDsO"
      },
      "source": [
        "## Wigner discrete distribution for $\\left|\\psi_{i}\\left(0\\right)\\right\\rangle =\\cos\\left(\\frac{\\theta}{2}\\right)\\left|0\\right\\rangle +{\\rm e}^{{\\rm i}\\phi}\\sin\\left(\\frac{\\theta}{2}\\right)\\left|1\\right\\rangle $\n"
      ]
    },
    {
      "cell_type": "markdown",
      "metadata": {
        "id": "knNBHCfte-0w"
      },
      "source": [
        "\\begin{align}\n",
        "\\lambda_{10,x} & =\\left(\\mu_{10,x}=\\frac{\\cos\\left(\\phi\\right)\\sin\\left(\\theta\\right)}{\\sqrt{2}},\\sigma_{10,x}^{2}=\\frac{1-\\left(\\cos\\left(\\phi\\right)\\sin\\left(\\theta\\right)\\right)^{2}}{2}\\right),\\\\\n",
        "\\lambda_{20,x} & =\\left(\\mu_{20,x}=0,\\sigma_{20,x}^{2}=\\frac{\\cos^{2}\\left(\\frac{\\theta}{2}\\right)}{2}\\right),\\\\\n",
        "\\lambda_{30,x} & =\\left(\\mu_{30,x}=0,\\sigma_{30,x}^{2}=\\frac{\\cos^{2}\\left(\\frac{\\theta}{2}\\right)}{2}\\right),\\\\\n",
        "\\lambda_{21,x} & =\\left(\\mu_{21,x}=0,\\sigma_{21,x}^{2}=\\frac{\\sin^{2}\\left(\\frac{\\theta}{2}\\right)}{2}\\right),\\\\\n",
        "\\lambda_{31,x} & =\\left(\\mu_{31,x}=0,\\sigma_{31,x}^{2}=\\frac{\\sin^{2}\\left(\\frac{\\theta}{2}\\right)}{2}\\right),\\\\\n",
        "\\lambda_{32,x} & =\\left(\\mu_{32,x}=0,\\sigma_{32,x}^{2}=0\\right)=0,\\\\\n",
        "\\lambda_{10,y} & =\\left(\\mu_{10,y}=\\frac{\\sin\\left(\\phi\\right)\\sin\\left(\\theta\\right)}{\\sqrt{2}},\\sigma_{31,x}^{2}=\\frac{1-\\left(\\sin\\left(\\phi\\right)\\sin\\left(\\theta\\right)\\right)^{2}}{2}\\right),\\\\\n",
        "\\lambda_{20,y} & =\\left(\\mu_{20,y}=0,\\sigma_{20,y}^{2}=\\frac{\\cos^{2}\\left(\\frac{\\theta}{2}\\right)}{2}\\right),\\\\\n",
        "\\lambda_{30,y} & =\\left(\\mu_{30,y}=0,\\sigma_{30,y}^{2}=\\frac{\\cos^{2}\\left(\\frac{\\theta}{2}\\right)}{2}\\right),\\\\\n",
        "\\lambda_{21,y} & =\\left(\\mu_{21,y}=0,\\sigma_{21,y}^{2}=\\frac{\\sin^{2}\\left(\\frac{\\theta}{2}\\right)}{2}\\right),\\\\\n",
        "\\lambda_{31,y} & =\\left(\\mu_{31,y}=0,\\sigma_{31,y}^{2}=\\frac{\\sin^{2}\\left(\\frac{\\theta}{2}\\right)}{2}\\right),\\\\\n",
        "\\lambda_{32,y} & =\\left(\\mu_{32,y}=0,\\sigma_{32,y}^{2}=0\\right)=0,\\\\\n",
        "\\lambda_{0,z} & =\\left(\\mu_{0,z}=\\cos^{2}\\left(\\frac{\\theta}{2}\\right),\\sigma_{0,z}^{2}=\\sin^{2}\\left(\\frac{\\theta}{2}\\right)\\cos^{2}\\left(\\frac{\\theta}{2}\\right)\\right),\\\\\n",
        "\\lambda_{1,z} & =\\left(\\mu_{1,z}=\\sin^{2}\\left(\\frac{\\theta}{2}\\right),\\sigma_{1,z}^{2}=\\sin^{2}\\left(\\frac{\\theta}{2}\\right)\\cos^{2}\\left(\\frac{\\theta}{2}\\right)\\right),\\\\\n",
        "\\lambda_{2,z} & =\\left(\\mu_{2,z}=0,\\sigma_{2,z}^{2}=0\\right)=0.\n",
        "\\end{align}"
      ]
    },
    {
      "cell_type": "code",
      "metadata": {
        "id": "wvZzpKi0e-0x"
      },
      "source": [
        "import numpy as np\n",
        "from numpy import sqrt\n",
        "\n",
        "\n",
        "import matplotlib.pyplot as plt\n",
        "from scipy.stats import multivariate_normal"
      ],
      "execution_count": 109,
      "outputs": []
    },
    {
      "cell_type": "markdown",
      "metadata": {
        "id": "8d8nOLULJHsG"
      },
      "source": [
        "## TWA"
      ]
    },
    {
      "cell_type": "code",
      "metadata": {
        "id": "x6wGEy_uJHsG"
      },
      "source": [
        "import numpy as np\n",
        "import matplotlib.pyplot as plt\n",
        "%matplotlib inline\n",
        "from numpy import random, zeros, sqrt,cos,sin\n",
        "\n",
        "\n",
        "\n",
        "matrix_array=[]\n",
        "\n",
        "# X matrix\n",
        "\n",
        "\n",
        "f10x=np.zeros((4, 4),dtype=np.complex_)\n",
        "f10x[0][1]=(1/sqrt(2))\n",
        "f10x=f10x+np.transpose(f10x)\n",
        "matrix_array.append(f10x)\n",
        "\n",
        "f20x=np.zeros((4, 4),dtype=np.complex_)\n",
        "f20x[2][0]=(1/sqrt(2))\n",
        "f20x=f20x+np.transpose(f20x)\n",
        "matrix_array.append(f20x)\n",
        "\n",
        "f30x=np.zeros((4, 4),dtype=np.complex_)\n",
        "f30x[3][0]=(1/sqrt(2))\n",
        "f30x=f30x+np.transpose(f30x)\n",
        "matrix_array.append(f30x)\n",
        "\n",
        "f21x=np.zeros((4, 4),dtype=np.complex_)\n",
        "f21x[2][1]=(1/sqrt(2))\n",
        "f21x=f21x+np.transpose(f21x)\n",
        "matrix_array.append(f21x)\n",
        "\n",
        "f31x=np.zeros((4, 4),dtype=np.complex_)\n",
        "f31x[3][1]=(1/sqrt(2))\n",
        "f31x=f31x+np.transpose(f31x)\n",
        "matrix_array.append(f31x)\n",
        "\n",
        "f32x=np.zeros((4, 4),dtype=np.complex_)\n",
        "f32x[3][2]=(1/sqrt(2))\n",
        "f32x=f32x+np.transpose(f32x)\n",
        "matrix_array.append(f32x)\n",
        "\n",
        "#Y Matrix\n",
        "\n",
        "f10y=np.zeros((4, 4),dtype=np.complex_)\n",
        "f10y[0][1]=-1j*(1/sqrt(2))\n",
        "f10y=f10y+np.conjugate(np.transpose(f10y))\n",
        "matrix_array.append(f10y)\n",
        "\n",
        "\n",
        "f20y=np.zeros((4, 4),dtype=np.complex_)\n",
        "f20y[0][2]=-1j*(1/sqrt(2))\n",
        "f20y=f20y+np.conjugate(np.transpose(f20y))\n",
        "matrix_array.append(f20y)\n",
        "\n",
        "\n",
        "f30y=np.zeros((4, 4),dtype=np.complex_)\n",
        "f30y[0][3]=-1j*(1/sqrt(2))\n",
        "f30y=f30y+np.conjugate(np.transpose(f30y))\n",
        "matrix_array.append(f30y)\n",
        "\n",
        "\n",
        "f21y=np.zeros((4, 4),dtype=np.complex_)\n",
        "f21y[1][2]=-1j*(1/sqrt(2))\n",
        "f21y=f21y+np.conjugate(np.transpose(f21y))\n",
        "matrix_array.append(f21y)\n",
        "\n",
        "f31y=np.zeros((4, 4),dtype=np.complex_)\n",
        "f31y[1][3]=-1j*(1/sqrt(2))\n",
        "f31y=f31y+np.conjugate(np.transpose(f31y))\n",
        "matrix_array.append(f31y)\n",
        "\n",
        "f32y=np.zeros((4, 4),dtype=np.complex_)\n",
        "f32y[2][3]=-1j*(1/sqrt(2))\n",
        "f32y=f32y+np.conjugate(np.transpose(f32y))\n",
        "matrix_array.append(f32y)\n",
        "\n",
        "\n",
        "#Z matrix\n",
        "\n",
        "f0z=np.zeros((4, 4),dtype=np.complex_)\n",
        "f0z[0][0]=1\n",
        "matrix_array.append(f0z)\n",
        "\n",
        "\n",
        "f1z=np.zeros((4, 4),dtype=np.complex_)\n",
        "f1z[1][1]=1\n",
        "matrix_array.append(f1z)\n",
        "\n",
        "\n",
        "f2z=np.zeros((4, 4),dtype=np.complex_)\n",
        "f2z[2][2]=1\n",
        "matrix_array.append(f2z)\n",
        "\n",
        "\n",
        "\n",
        "from numba import jit\n",
        "\n",
        "dt = 0.0001# Time step.\n",
        "T = 50 # Total time.\n",
        "n = int(T / dt) # Number of time steps.\n",
        "steps=int(T/dt)\n",
        "\n",
        "times = np.linspace(0., T, n)\n",
        "\n",
        "\n",
        "N=15\n",
        "\n",
        "gR=1\n",
        "DeltaR=0\n",
        "KapR= 20\n",
        "OmegaR= 0.5*N/(KapR)\n",
        "\n",
        "\n",
        "gL=1\n",
        "DeltaL=0\n",
        "KapL=20\n",
        "OmegaL= 0.5* N/(KapL+1e-10) \n",
        "\n",
        "\n",
        "Gamma_du=0  #Fixed\n",
        "\n",
        "\n",
        "sqrt_N=np.sqrt(N)\n",
        "\n",
        "\n",
        "\n",
        "#set the initial values due to the measurements in the state |\\psi>=cos(\\theta/2)|0>+sin(\\theta/2)|1>\n",
        "\n",
        "\n",
        "Theta = 0\n",
        "Phi   = 0\n",
        "\n",
        "#-----------------------------------------------------------------------------------------------------\n",
        "\n",
        "Psi_0=np.zeros((4,1),dtype=np.complex_)\n",
        "Psi_0[0][0]=np.cos(Theta/2)\n",
        "Psi_0[1][0]=np.sin(Theta/2)*np.exp(1j*Phi)\n",
        "\n",
        "\n",
        "Psi_0_adj=np.transpose(np.conjugate(Psi_0))\n",
        "\n",
        "#--------------------------------\n",
        "\n",
        "#Averages Vector\n",
        "\n",
        "Miu=[]\n",
        "\n",
        "for j in matrix_array:\n",
        "    Miu.append(np.matmul(Psi_0_adj,np.matmul(j,Psi_0))[0][0])\n",
        "\n",
        "    \n",
        "\n",
        "Cov_mat=np.zeros((15, 15),dtype=np.complex_)\n",
        "\n",
        "for i in range(15):\n",
        "    for j in range(15):\n",
        "        Cov_mat[i][j]=0.5*(np.matmul(Psi_0_adj,np.matmul( np.matmul(matrix_array[i],matrix_array[j])+np.matmul(matrix_array[j],matrix_array[i]),Psi_0))[0][0])-Miu[i]*Miu[j]        \n",
        "        \n",
        "\n",
        "Cov_mat_list=[]\n",
        "\n",
        "for j in range(15):\n",
        "    Cov_mat_list.append(list(np.real(Cov_mat[j])))    \n",
        "    \n",
        "\n",
        "from scipy import stats\n",
        "\n",
        "\n",
        "@jit\n",
        "\n",
        "def trayectory(N,Stochastic):\n",
        "    sqrtdt = np.sqrt(dt)*Stochastic\n",
        "    \n",
        "    Results =zeros((19, n))\n",
        "    \n",
        "    Results[15][0] = np.random.normal(0, 0.5)\n",
        "    Results[16][0] = np.random.normal(0, 0.5)\n",
        "    Results[17][0] = np.random.normal(0, 0.5)\n",
        "    Results[18][0] = np.random.normal(0, 0.5)\n",
        "    \n",
        "    \n",
        "    Sum_TWA=np.zeros((15,1))\n",
        "\n",
        "    for j in range(N):\n",
        "        Sum_TWA=Sum_TWA+np.random.multivariate_normal(np.real(Miu), Cov_mat_list, 1).T\n",
        "    \n",
        "    Rand=Sum_TWA\n",
        "    \n",
        "    \n",
        "    Results[0][0] =Rand[0][0]  #x10  \n",
        "    Results[1][0] =Rand[1][0]  #x20\n",
        "    Results[2][0] =Rand[2][0]  #x30\n",
        "    Results[3][0] =Rand[3][0]  #x21\n",
        "    Results[4][0] =Rand[4][0]  #x31\n",
        "    Results[5][0] =Rand[5][0]  #x32\n",
        "        \n",
        "    Results[6][0] =Rand[6][0]  #y10\n",
        "    Results[7][0] =Rand[7][0] #y20\n",
        "    Results[8][0] =Rand[8][0]  #y30\n",
        "    Results[9][0] =Rand[9][0]  #y21\n",
        "    Results[10][0]=Rand[10][0]  #y31\n",
        "    Results[11][0]=Rand[11][0]  #y32\n",
        "        \n",
        "    Results[12][0]=Rand[12][0]  #z0\n",
        "    Results[13][0]=Rand[13][0]  #z2\n",
        "    Results[14][0]=Rand[14][0]  #z3\n",
        "    \n",
        "    \n",
        "    for t in range(n-1):\n",
        "        \n",
        "        Normal_VA_1=random.randn() #np.random.normal(0, 1)\n",
        "        Normal_VA_2=random.randn() #np.random.normal(0, 1)\n",
        "        Normal_VA_3=random.randn() #np.random.normal(0, 1)\n",
        "        Normal_VA_4=random.randn() #np.random.normal(0, 1)\n",
        "        \n",
        "        \n",
        "        alpRx=Results[15][t]\n",
        "        alpRy=Results[16][t]\n",
        "        alpLx=Results[17][t]\n",
        "        alpLy=Results[18][t]\n",
        "            \n",
        "        s10x=Results[0][t]   #x10\n",
        "        s20x=Results[1][t]   #x20\n",
        "        s30x=Results[2][t]   #x30  \n",
        "        s21x=Results[3][t]   #x21 \n",
        "        s31x=Results[4][t]   #x31\n",
        "        s32x=Results[5][t]   #x32\n",
        "            \n",
        "        s10y=Results[6][t]   #y10\n",
        "        s20y=Results[7][t]   #y20\n",
        "        s30y=Results[8][t]   #y30\n",
        "        s21y=Results[9][t]   #y21\n",
        "        s31y=Results[10][t]  #y31\n",
        "        s32y=Results[11][t]  #y32\n",
        "            \n",
        "        s0z=Results[12][t]   #z0\n",
        "        s1z=Results[13][t]   #z1\n",
        "        s2z=Results[14][t]   #z2\n",
        "            \n",
        "        # alpRx=Results[15*N][t]\n",
        "        # alpRy=Results[15*N+1][t]\n",
        "        # alpLx=Results[15*N+2][t]\n",
        "        # alpLy=Results[15*N+3][t]\n",
        "        \n",
        "        \n",
        "        Results[15][t+1] = alpRx-dt*DeltaR*alpRy-dt*(KapR/2)*alpRx+np.sqrt(KapR/4)*sqrtdt * Normal_VA_1 +(gR/sqrt(2))*dt*s30y\n",
        "            \n",
        "        Results[16][t+1] = alpRy+dt*DeltaR*alpRx-dt*(KapR/2)*alpRy+np.sqrt(KapR/4)*sqrtdt * Normal_VA_2 -(gR/sqrt(2))*dt*s30x\n",
        "             \n",
        "        Results[17][t+1] = alpLx -dt*DeltaL*alpLy-dt*(KapL/2)*alpLx+np.sqrt(KapL/4)*sqrtdt * Normal_VA_3 +(gL/sqrt(2))*dt*s21y \n",
        "        \n",
        "        Results[18][t+1] = alpLy +dt*DeltaL*alpLx-dt*(KapL/2)*alpLy+np.sqrt(KapL/4)*sqrtdt * Normal_VA_4 -(gL/sqrt(2))*dt*s21x \n",
        "         \n",
        "      \n",
        "        \n",
        "        Results[0][t+1] = s10x  +dt*(-gR)*(-alpRx*s31y+alpRy*s31x) +dt*(OmegaR/2)*s31y-\\\n",
        "            dt*gL*(-alpLx*s20y+alpLy*s20x)+dt*(OmegaL/2)*s20y\n",
        "            \n",
        "        Results[1][t+1] = s20x  +dt*(-gR)*(-alpRx*s32y+alpRy*s32x) +dt*(OmegaR/2)*s32y+\\\n",
        "            dt*gL*(alpLx*s10y+alpLy*s10x)+dt*(OmegaL/2)*s10y\n",
        "            \n",
        "        Results[2][t+1] = s30x  +dt*(-sqrt(2)*gR)*alpRy*(N-s2z-s1z-2*s0z)\n",
        "            \n",
        "        Results[3][t+1] = s21x  +dt*(-sqrt(2)*gL)*alpLy*(s2z-s1z)\n",
        "            \n",
        "        Results[4][t+1] = s31x  +dt*gR*(alpRy*s10x-alpRx*s10y)+dt*(-OmegaR/2)*s10y-\\\n",
        "            dt*gL*(alpLx*s32y+alpLy*s32x)+dt*(-OmegaL/2)*s32y    \n",
        "            \n",
        "        Results[5][t+1] = s32x  +dt*gR*(-alpRx*s20y+alpRy*s20x)+dt*(-OmegaR/2)*s20y+\\\n",
        "            dt*gL*(-alpLx*s31y+alpLy*s31x)+dt*(-OmegaL/2)*s31y\n",
        "        \n",
        "        Results[6][t+1] = s10y  +dt*(gR)*(alpRx*s31x+alpRy*s31y)+dt*(OmegaR/2)*s31x-\\\n",
        "            dt*gL*(alpLx*s20x+alpLy*s20y)-dt*(OmegaL/2)*s20x\n",
        "        \n",
        "        Results[7][t+1] = s20y  +dt*(gR)*(alpRx*s32x+alpRy*s32y)+dt*(OmegaR/2)*s32x-\\\n",
        "            dt*gL*(alpLx*s10x-alpLy*s10y)+dt*(-OmegaL/2)*s10x\n",
        "\n",
        "        Results[8][t+1] = s30y  +dt*(2*gR*alpRx+OmegaR)*( N-s2z-s1z-2*s0z  )/sqrt(2)\n",
        "                \n",
        "        Results[9][t+1] = s21y  +dt*(2*gL*alpLx+OmegaL)*(s2z-s1z)/sqrt(2)\n",
        "        \n",
        "        Results[10][t+1] = s31y - dt*gR*(alpRx*s10x+alpRy*s10y)-dt*(OmegaR/2)*s10x+\\\n",
        "            dt*gL*(alpLx*s32x-alpLy*s32y)+dt*(OmegaL/2)*s32x\n",
        "            \n",
        "        Results[11][t+1] = s32y + dt*(-gR)*(alpRx*s20x+alpRy*s20y)-dt*(OmegaR/2)*s20x+\\\n",
        "            dt*gL*(alpLx*s31x+alpLy*s31y)+dt*(OmegaL/2)*s31x\n",
        "        \n",
        "        Results[12][t+1] = s0z+ dt*(sqrt(2))*(gR*(alpRx*s30y-alpRy*s30x)+ (OmegaR/2)*s30y )\n",
        "        \n",
        "        Results[13][t+1] = s1z+ dt*(sqrt(2))*(gL*(alpLx*s21y-alpLy*s21x)+ (OmegaL/2)*s21y )\n",
        "            \n",
        "        Results[14][t+1] = s2z+ dt*(-sqrt(2))*(gL*(-alpLy*s21x+alpLx*s21y)+ (OmegaL/2)*s21y )\n",
        "            \n",
        "\n",
        "            \n",
        "    return Results\n"
      ],
      "execution_count": 110,
      "outputs": []
    },
    {
      "cell_type": "code",
      "metadata": {
        "id": "V6gZH4tsyDsR"
      },
      "source": [
        ""
      ],
      "execution_count": 110,
      "outputs": []
    },
    {
      "cell_type": "code",
      "metadata": {
        "id": "6g9bl3RHJHsK"
      },
      "source": [
        ""
      ],
      "execution_count": 110,
      "outputs": []
    },
    {
      "cell_type": "code",
      "metadata": {
        "id": "PAqwTEIYJHsL"
      },
      "source": [
        "from numpy import add\n",
        "from numba import jit\n",
        "\n",
        "\n",
        "\n",
        "itera=5000\n",
        "@jit\n",
        "\n",
        "def averages(Stochastic,itera=itera,N=N,n=n):\n",
        "    Results =zeros((19, n))\n",
        "    for j in range(itera):\n",
        "        Trayec=trayectory(N,Stochastic)\n",
        "        Results=add(Results,Trayec)\n",
        "    \n",
        "    return Results/itera\n",
        "    \n",
        "    \n",
        "    \n",
        "    "
      ],
      "execution_count": 111,
      "outputs": []
    },
    {
      "cell_type": "code",
      "metadata": {
        "id": "vrrMVxzrJHsM"
      },
      "source": [
        ""
      ],
      "execution_count": null,
      "outputs": []
    },
    {
      "cell_type": "code",
      "metadata": {
        "id": "wg0dJ1shJHsM"
      },
      "source": [
        "t0=time.time()\n",
        "\n",
        "itera=60\n",
        "\n",
        "Result_varDDTWA_Col = averages(1,itera=itera,N=N,n=n)\n",
        "#Result_varDTWA_Col  = averages(0,itera=itera,N=N,n=n)\n",
        "\n",
        "\n",
        "\n",
        "t1=time.time()\n",
        "\n",
        "print(t1-t0)"
      ],
      "execution_count": null,
      "outputs": []
    },
    {
      "cell_type": "code",
      "metadata": {
        "id": "q9L41aZBJHsO"
      },
      "source": [
        ""
      ],
      "execution_count": null,
      "outputs": []
    },
    {
      "cell_type": "markdown",
      "metadata": {
        "id": "7Ui48CTEJHsO"
      },
      "source": [
        "## Mean-Field"
      ]
    },
    {
      "cell_type": "code",
      "metadata": {
        "id": "Vib3p2mEe-00"
      },
      "source": [
        "theta=Theta\n",
        "phi=Phi\n",
        "\n",
        "\n",
        "mux10, sigmax10 = (N)*cos(phi)*sin(theta)/sqrt(2),sqrt(N)* (   (1- (cos(phi)*sin(theta))**2 )/2  )**0.5 # mean and standard deviation\n",
        "mux20, sigmax20 = 0                                ,sqrt(N)*(((cos(theta/2))**2)/2) # mean and standard deviation\n",
        "mux30, sigmax30 = 0                                ,sqrt(N)*(((cos(theta/2))**2)/2) # mean and standard deviation\n",
        "mux21, sigmax21 = 0                                ,sqrt(N)*(((sin(theta/2))**2)/2) # mean and standard deviation\n",
        "mux31, sigmax31 = 0                                ,sqrt(N)*(((sin(theta/2))**2)/2) # mean and standard deviation\n",
        "mux32, sigmax32 = 0                                ,0                                 # mean and standard deviation\n",
        "\n",
        "muy10, sigmay10 = (N)*sin(phi)*sin(theta)/sqrt(2),sqrt(N)* (   (1- (sin(phi)*sin(theta))**2 )/2  )**0.5 # mean and standard deviation\n",
        "muy20, sigmay20 = 0                                ,sqrt(N)*(((cos(theta/2))**2)/2) # mean and standard deviation\n",
        "muy30, sigmay30 = 0                                ,sqrt(N)*(((cos(theta/2))**2)/2) # mean and standard deviation\n",
        "muy21, sigmay21 = 0                                ,sqrt(N)*(((sin(theta/2))**2)/2) # mean and standard deviation\n",
        "muy31, sigmay31 = 0                                ,sqrt(N)*(((sin(theta/2))**2)/2) # mean and standard deviation\n",
        "muy32, sigmay32 = 0                                ,0                                 # mean and standard deviation\n",
        "\n",
        "muz0, sigmaz0 = (N)*(cos(theta/2))**2, sqrt(N)*((sin(theta/2))**2)*((cos(theta/2))**2)  # mean and standard deviation\n",
        "muz1, sigmaz1 = (N)*(sin(theta/2))**2, sqrt(N)*((sin(theta/2))**2)*((cos(theta/2))**2)  # mean and standard deviation\n",
        "muz2, sigmaz2 = 0                      , 0           # mean and standard deviation\n",
        "\n",
        "\n",
        "@jit\n",
        "\n",
        "def trayectory_meanfield(N,Stochastic):\n",
        "    sqrtdt = np.sqrt(dt)*Stochastic\n",
        "    \n",
        "    Results =zeros((19, n))\n",
        "    \n",
        "    Results[15][0] = 0\n",
        "    Results[16][0] = 0\n",
        "    Results[17][0] = 0\n",
        "    Results[18][0] = 0\n",
        "    \n",
        "    \n",
        "    Results[0][0] =mux10  #x10  \n",
        "    Results[1][0] =mux20  #x20\n",
        "    Results[2][0] =mux30  #x30\n",
        "    Results[3][0] =mux21  #x21\n",
        "    Results[4][0] =mux31  #x31\n",
        "    Results[5][0] =mux32  #x32\n",
        "        \n",
        "    Results[6][0] =muy10  #y10\n",
        "    Results[7][0] =muy20  #y20\n",
        "    Results[8][0] =muy30  #y30\n",
        "    Results[9][0] =muy21  #y21\n",
        "    Results[10][0]=muy31  #y31\n",
        "    Results[11][0]=muy32  #y32\n",
        "        \n",
        "    Results[12][0]=muz0  #z0\n",
        "    Results[13][0]=muz1  #z1\n",
        "    Results[14][0]=muz2  #z2\n",
        "    \n",
        "    \n",
        "    for t in range(n-1):\n",
        "        \n",
        "        Normal_VA_1=random.randn() #np.random.normal(0, 1)\n",
        "        Normal_VA_2=random.randn() #np.random.normal(0, 1)\n",
        "        Normal_VA_3=random.randn() #np.random.normal(0, 1)\n",
        "        Normal_VA_4=random.randn() #np.random.normal(0, 1)\n",
        "        \n",
        "        \n",
        "        alpRx=Results[15][t]\n",
        "        alpRy=Results[16][t]\n",
        "        alpLx=Results[17][t]\n",
        "        alpLy=Results[18][t]\n",
        "            \n",
        "        s10x=Results[0][t]   #x10\n",
        "        s20x=Results[1][t]   #x20\n",
        "        s30x=Results[2][t]   #x30  \n",
        "        s21x=Results[3][t]   #x21 \n",
        "        s31x=Results[4][t]   #x31\n",
        "        s32x=Results[5][t]   #x32\n",
        "            \n",
        "        s10y=Results[6][t]   #y10\n",
        "        s20y=Results[7][t]   #y20\n",
        "        s30y=Results[8][t]   #y30\n",
        "        s21y=Results[9][t]   #y21\n",
        "        s31y=Results[10][t]  #y31\n",
        "        s32y=Results[11][t]  #y32\n",
        "            \n",
        "        s0z=Results[12][t]   #z0\n",
        "        s1z=Results[13][t]   #z1\n",
        "        s2z=Results[14][t]   #z2\n",
        "            \n",
        "        # alpRx=Results[15*N][t]\n",
        "        # alpRy=Results[15*N+1][t]\n",
        "        # alpLx=Results[15*N+2][t]\n",
        "        # alpLy=Results[15*N+3][t]\n",
        "        \n",
        "        \n",
        "        Results[15][t+1] = alpRx-dt*DeltaR*alpRy-dt*(KapR/2)*alpRx+np.sqrt(KapR/4)*sqrtdt * Normal_VA_1 +(gR/sqrt(2))*dt*s30y\n",
        "            \n",
        "        Results[16][t+1] = alpRy+dt*DeltaR*alpRx-dt*(KapR/2)*alpRy+np.sqrt(KapR/4)*sqrtdt * Normal_VA_2 -(gR/sqrt(2))*dt*s30x\n",
        "             \n",
        "        Results[17][t+1] = alpLx -dt*DeltaL*alpLy-dt*(KapL/2)*alpLx+np.sqrt(KapL/4)*sqrtdt * Normal_VA_3 +(gL/sqrt(2))*dt*s21y \n",
        "        \n",
        "        Results[18][t+1] = alpLy +dt*DeltaL*alpLx-dt*(KapL/2)*alpLy+np.sqrt(KapL/4)*sqrtdt * Normal_VA_4 -(gL/sqrt(2))*dt*s21x \n",
        "         \n",
        "      \n",
        "        \n",
        "        Results[0][t+1] = s10x  +dt*(-gR)*(-alpRx*s31y+alpRy*s31x) +dt*(OmegaR/2)*s31y-\\\n",
        "            dt*gL*(-alpLx*s20y+alpLy*s20x)+dt*(OmegaL/2)*s20y\n",
        "            \n",
        "        Results[1][t+1] = s20x  +dt*(-gR)*(-alpRx*s32y+alpRy*s32x) +dt*(OmegaR/2)*s32y+\\\n",
        "            dt*gL*(alpLx*s10y+alpLy*s10x)+dt*(OmegaL/2)*s10y\n",
        "            \n",
        "        Results[2][t+1] = s30x  +dt*(-sqrt(2)*gR)*alpRy*(N-s2z-s1z-2*s0z)\n",
        "            \n",
        "        Results[3][t+1] = s21x  +dt*(-sqrt(2)*gL)*alpLy*(s2z-s1z)\n",
        "            \n",
        "        Results[4][t+1] = s31x  +dt*gR*(alpRy*s10x-alpRx*s10y)+dt*(-OmegaR/2)*s10y-\\\n",
        "            dt*gL*(alpLx*s32y+alpLy*s32x)+dt*(-OmegaL/2)*s32y    \n",
        "            \n",
        "        Results[5][t+1] = s32x  +dt*gR*(-alpRx*s20y+alpRy*s20x)+dt*(-OmegaR/2)*s20y+\\\n",
        "            dt*gL*(-alpLx*s31y+alpLy*s31x)+dt*(-OmegaL/2)*s31y\n",
        "        \n",
        "        Results[6][t+1] = s10y  +dt*(gR)*(alpRx*s31x+alpRy*s31y)+dt*(OmegaR/2)*s31x-\\\n",
        "            dt*gL*(alpLx*s20x+alpLy*s20y)-dt*(OmegaL/2)*s20x\n",
        "        \n",
        "        Results[7][t+1] = s20y  +dt*(gR)*(alpRx*s32x+alpRy*s32y)+dt*(OmegaR/2)*s32x-\\\n",
        "            dt*gL*(alpLx*s10x-alpLy*s10y)+dt*(-OmegaL/2)*s10x\n",
        "\n",
        "        Results[8][t+1] = s30y  +dt*(2*gR*alpRx+OmegaR)*( N-s2z-s1z-2*s0z  )/sqrt(2)\n",
        "                \n",
        "        Results[9][t+1] = s21y  +dt*(2*gL*alpLx+OmegaL)*(s2z-s1z)/sqrt(2)\n",
        "        \n",
        "        Results[10][t+1] = s31y - dt*gR*(alpRx*s10x+alpRy*s10y)-dt*(OmegaR/2)*s10x+\\\n",
        "            dt*gL*(alpLx*s32x-alpLy*s32y)+dt*(OmegaL/2)*s32x\n",
        "            \n",
        "        Results[11][t+1] = s32y + dt*(-gR)*(alpRx*s20x+alpRy*s20y)-dt*(OmegaR/2)*s20x+\\\n",
        "            dt*gL*(alpLx*s31x+alpLy*s31y)+dt*(OmegaL/2)*s31x\n",
        "        \n",
        "        Results[12][t+1] = s0z+ dt*(sqrt(2))*(gR*(alpRx*s30y-alpRy*s30x)+ (OmegaR/2)*s30y )\n",
        "        \n",
        "        Results[13][t+1] = s1z+ dt*(sqrt(2))*(gL*(alpLx*s21y-alpLy*s21x)+ (OmegaL/2)*s21y )\n",
        "            \n",
        "        Results[14][t+1] = s2z+ dt*(-sqrt(2))*(gL*(-alpLy*s21x+alpLx*s21y)+ (OmegaL/2)*s21y )\n",
        "            \n",
        "\n",
        "            \n",
        "    return Results"
      ],
      "execution_count": null,
      "outputs": []
    },
    {
      "cell_type": "code",
      "metadata": {
        "id": "MWXwth2Ve-00"
      },
      "source": [
        ""
      ],
      "execution_count": null,
      "outputs": []
    },
    {
      "cell_type": "code",
      "metadata": {
        "id": "JaRaROuje-00"
      },
      "source": [
        "Mean_field_res=trayectory_meanfield(N,0)"
      ],
      "execution_count": null,
      "outputs": []
    },
    {
      "cell_type": "code",
      "metadata": {
        "id": "x28g2S5Ee-01"
      },
      "source": [
        ""
      ],
      "execution_count": null,
      "outputs": []
    },
    {
      "cell_type": "code",
      "metadata": {
        "id": "vIKPjFQDe-01"
      },
      "source": [
        "matplotlib.rcParams['figure.figsize'] = (10.0, 6.5)\n",
        "\n",
        "label_size = 20\n",
        "\n",
        "\n",
        "\n",
        "index=13\n",
        "\n",
        "\n",
        "plt.plot(times,Result_varDDTWA_Col[index])\n",
        "plt.plot(times,Mean_field_res[index])\n"
      ],
      "execution_count": null,
      "outputs": []
    },
    {
      "cell_type": "code",
      "metadata": {
        "id": "N0TeNY5be-01"
      },
      "source": [
        ""
      ],
      "execution_count": null,
      "outputs": []
    },
    {
      "cell_type": "code",
      "metadata": {
        "id": "w8FVqfhCe-01"
      },
      "source": [
        "plt.title(\"Gaussian Covariance\")\n",
        "plt.imshow(np.real(Cov_mat))\n",
        "plt.colorbar()\n",
        "plt.show()"
      ],
      "execution_count": null,
      "outputs": []
    },
    {
      "cell_type": "code",
      "metadata": {
        "id": "SW4DH9FPe-01"
      },
      "source": [
        ""
      ],
      "execution_count": null,
      "outputs": []
    },
    {
      "cell_type": "code",
      "metadata": {
        "id": "atFGJtfLe-01"
      },
      "source": [
        ""
      ],
      "execution_count": null,
      "outputs": []
    },
    {
      "cell_type": "code",
      "metadata": {
        "id": "eHfIoutfe-01"
      },
      "source": [
        ""
      ],
      "execution_count": null,
      "outputs": []
    },
    {
      "cell_type": "code",
      "metadata": {
        "id": "pf1coWM1e-01"
      },
      "source": [
        ""
      ],
      "execution_count": null,
      "outputs": []
    },
    {
      "cell_type": "code",
      "metadata": {
        "id": "EiWNrGdie-01"
      },
      "source": [
        ""
      ],
      "execution_count": null,
      "outputs": []
    },
    {
      "cell_type": "code",
      "metadata": {
        "id": "kgVKwX_ce-02"
      },
      "source": [
        ""
      ],
      "execution_count": null,
      "outputs": []
    },
    {
      "cell_type": "code",
      "metadata": {
        "id": "XG0B1_q7e-02"
      },
      "source": [
        ""
      ],
      "execution_count": null,
      "outputs": []
    },
    {
      "cell_type": "code",
      "metadata": {
        "id": "_Unt6G2ie-02"
      },
      "source": [
        ""
      ],
      "execution_count": null,
      "outputs": []
    },
    {
      "cell_type": "code",
      "metadata": {
        "id": "DSvbu9yLe-02"
      },
      "source": [
        ""
      ],
      "execution_count": null,
      "outputs": []
    },
    {
      "cell_type": "code",
      "metadata": {
        "id": "_a48-iYJe-02"
      },
      "source": [
        ""
      ],
      "execution_count": null,
      "outputs": []
    },
    {
      "cell_type": "code",
      "metadata": {
        "id": "AOSs4NDie-02"
      },
      "source": [
        "matplotlib.rcParams['figure.figsize'] = (10.0, 6.5)\n",
        "\n",
        "j_max = N/2.\n",
        "label_size = 20\n",
        "\n",
        "\n",
        "fig3 = plt.figure(3)\n",
        "plt.title(r'Quantum Evolution of $<S_z>$', fontsize = label_size)\n",
        "plt.xlabel(r'$t$', fontsize = label_size)\n",
        "#plt.ylabel(r'$\\langle a^\\dagger a\\rangle(t)$', fontsize = label_size)\n",
        "plt.ylabel(r'$\\langle S_k \\rangle(t)$', fontsize = label_size)\n",
        "\n",
        "\n",
        "plt.plot(times, Result_varDDTWA_Col[12]/2,\"--\",label=\"$S^z_{0}$ DisTWA Col\")\n",
        "#plt.plot(times, Result_varDTWA_Col[12]/2,\"-\",label=\"$S^z_{0}$ TWA Col\")\n",
        "\n",
        "plt.plot(times, Result_varDDTWA_Col[13]/2,\"--\",label=\"$S^z_{1}$ DisTWA Col\")\n",
        "#plt.plot(times, Result_varDTWA_Col[13]/2,\"-\",label=\"$S^z_{1}$ TWA Col\")\n",
        "\n",
        "plt.plot(times, Result_varDDTWA_Col[14]/2,\"--\",label=\"$S^z_{2}$ DisTWA Col\")\n",
        "#plt.plot(times, Result_varDTWA_Col[14]/2,\"-\",label=\"$S^z_{2}$ TWA Col\")\n",
        "\n",
        "\n",
        "\n",
        "plt.plot(times, Mean_field_res[12]/2,\"-\",label=\"$S^z_{0}$ Mean-Field\")\n",
        "plt.plot(times, Mean_field_res[13]/2,\"-\",label=\"$S^z_{1}$ Mean-Field\")\n",
        "plt.plot(times, Mean_field_res[14]/2,\"-\",label=\"$S^z_{2}$ Mean-Field\")\n",
        "\n",
        "\n",
        "\n",
        "\n",
        "\n",
        "plt.plot(times, 0*times,\"-\",label=\"$<S_k>=0$\")\n",
        "\n",
        "#plt.legend(fontsize = label_size)\n",
        "plt.legend(loc=\"upper right\")\n",
        "plt.show()\n",
        "plt.close()"
      ],
      "execution_count": null,
      "outputs": []
    },
    {
      "cell_type": "code",
      "metadata": {
        "id": "7TIC-sn3e-02"
      },
      "source": [
        ""
      ],
      "execution_count": null,
      "outputs": []
    },
    {
      "cell_type": "code",
      "metadata": {
        "id": "rnD471rwe-02"
      },
      "source": [
        "matplotlib.rcParams['figure.figsize'] = (10.0, 6.5)\n",
        "\n",
        "j_max = N/2.\n",
        "label_size = 20\n",
        "\n",
        "\n",
        "fig3 = plt.figure(3)\n",
        "plt.title(r'Quantum Evolution of $<S_z>$', fontsize = label_size)\n",
        "plt.xlabel(r'$t$', fontsize = label_size)\n",
        "#plt.ylabel(r'$\\langle a^\\dagger a\\rangle(t)$', fontsize = label_size)\n",
        "plt.ylabel(r'$\\langle S_k \\rangle(t)$', fontsize = label_size)\n",
        "\n",
        "\n",
        "plt.plot(times, Result_varDDTWA_Col[12]/N+Result_varDDTWA_Col[13]/N,\"--\",label=\"Population g DissTWA Col\")\n",
        "plt.plot(times, Mean_field_res[12]/N+Mean_field_res[13]/N,\"-\",label=\"Population g Mean-Field\")\n",
        "#plt.plot(times, Result_varDTWA_Col[12]/2,\"-\",label=\"$S^z_{0}$ TWA Col\")\n",
        "\n",
        "\n",
        "\n",
        "\n",
        "plt.plot(times, 0*times,\"-\",label=\"$<S_k>=0$\")\n",
        "\n",
        "#plt.legend(fontsize = label_size)\n",
        "plt.legend(loc=\"upper right\")\n",
        "plt.show()\n",
        "plt.close()"
      ],
      "execution_count": null,
      "outputs": []
    },
    {
      "cell_type": "code",
      "metadata": {
        "id": "BCsido02e-02"
      },
      "source": [
        "Resu=Mean_field_res[12]/N+Mean_field_res[13]/N"
      ],
      "execution_count": null,
      "outputs": []
    },
    {
      "cell_type": "code",
      "metadata": {
        "id": "lNObHv6we-02"
      },
      "source": [
        "Resu[-1]"
      ],
      "execution_count": null,
      "outputs": []
    },
    {
      "cell_type": "code",
      "metadata": {
        "id": "rRTbvRW1e-03"
      },
      "source": [
        ""
      ],
      "execution_count": null,
      "outputs": []
    },
    {
      "cell_type": "markdown",
      "metadata": {
        "id": "1VkzNugve-03"
      },
      "source": [
        "## DDTWA Dynamics Unitary Evolution"
      ]
    },
    {
      "cell_type": "code",
      "metadata": {
        "id": "pZUaz9Hee-03"
      },
      "source": [
        "from numpy import sqrt\n",
        "from numba import jit"
      ],
      "execution_count": 112,
      "outputs": []
    },
    {
      "cell_type": "code",
      "metadata": {
        "id": "VofwHPNTe-03"
      },
      "source": [
        "#set the initial values due to the measurements in the state |\\psi>=cos(\\theta/2)|0>+sin(\\theta/2)|1>\n",
        "\n",
        "#We will start with the state |0>. \n",
        "\n",
        "\n",
        "N=15\n",
        "#---------------------------------------------------------------\n",
        "\n",
        "Theta = np.pi/2\n",
        "Phi   = np.pi/2\n",
        "\n",
        "#---------------------------------------------------------------\n",
        "\n",
        "\n",
        "theta = Theta\n",
        "phi   = Phi\n",
        "\n",
        "#-----------------------------------------------------------------------------------------------------\n",
        "\n",
        "\n",
        "\n",
        "from scipy import stats\n",
        "\n",
        "mk = np.array([-1/sqrt(2),0,1/sqrt(2)])\n",
        "\n",
        "mzk=np.array([0,1])\n",
        "\n",
        "\n",
        "x10=( 0.5 , 0 , 0.5 )\n",
        "x20=( 0.5 , 0 , 0.5 )\n",
        "x30=( 0.5 , 0 , 0.5 )\n",
        "x21=( 0   , 1 , 0   )\n",
        "x31=( 0   , 1 , 0   )\n",
        "x32=( 0   , 1 , 0   )\n",
        "\n",
        "y10=( 0.5 , 0 , 0.5 )\n",
        "y20=( 0.5 , 0 , 0.5 )\n",
        "y30=( 0.5 , 0 , 0.5 )\n",
        "y21=( 0   , 1 , 0   )\n",
        "y31=( 0   , 1 , 0   )\n",
        "y32=( 0   , 1 , 0   )\n",
        "\n",
        "z0=( 0 , 1 )\n",
        "z1=( 1 , 0)\n",
        "z2=( 1,  0)\n",
        "\n",
        "\n",
        "dt0 = 0.0001# Time step.\n",
        "T0 = Theta/2 # Total time.\n",
        "n0 = int(T0 / dt0) # Number of time steps.\n",
        "steps0=int(T0/dt0)\n",
        "\n",
        "\n",
        "times0=np.linspace(0,T0,n0)\n",
        "\n",
        "\n",
        "@jit\n",
        "\n",
        "def trayectory_RTheta(N,Stochastic):\n",
        "    sqrtdt = np.sqrt(dt0)*Stochastic\n",
        "    \n",
        "    Results =zeros((15*N+4, n0))\n",
        "    \n",
        "    Results[15*N][0]   = np.random.normal(0, 0.5)\n",
        "    Results[15*N+1][0] = np.random.normal(0, 0.5)\n",
        "    Results[15*N+2][0] = np.random.normal(0, 0.5)\n",
        "    Results[15*N+3][0] = np.random.normal(0, 0.5)\n",
        "    \n",
        "    \n",
        "    for j in range(N):        \n",
        "        \n",
        "        Results[j][0]     =np.random.choice(mk,1,p=x10)[0]  #x10  \n",
        "        Results[j+N][0]   =np.random.choice(mk,1,p=x20)[0]  #x20\n",
        "        Results[j+2*N][0] =np.random.choice(mk,1,p=x30)[0]  #x30\n",
        "        Results[j+3*N][0] =np.random.choice(mk,1,p=x21)[0]  #x21\n",
        "        Results[j+4*N][0] =np.random.choice(mk,1,p=x31)[0]  #x31\n",
        "        Results[j+5*N][0] =np.random.choice(mk,1,p=x32)[0]  #x32\n",
        "        \n",
        "        Results[j+6*N][0] =np.random.choice(mk,1,p=y10)[0]  #y10\n",
        "        Results[j+7*N][0] =np.random.choice(mk,1,p=y20)[0]  #y20\n",
        "        Results[j+8*N][0] =np.random.choice(mk,1,p=y30)[0]  #y30\n",
        "        Results[j+9*N][0] =np.random.choice(mk,1,p=y21)[0]  #y21\n",
        "        Results[j+10*N][0]=np.random.choice(mk,1,p=y31)[0]  #y31\n",
        "        Results[j+11*N][0]=np.random.choice(mk,1,p=y32)[0]  #y32\n",
        "        \n",
        "        Results[j+12*N][0]=np.random.choice(mzk,1,p=z0)[0]  #z10\n",
        "        Results[j+13*N][0]=np.random.choice(mzk,1,p=z1)[0]  #z21\n",
        "        Results[j+14*N][0]=np.random.choice(mzk,1,p=z2)[0]  #z32\n",
        "    \n",
        "    for t in range(n0-1):\n",
        "      \n",
        "        \n",
        "        alpRx=Results[15*N][t]\n",
        "        alpRy=Results[15*N+1][t]\n",
        "        alpLx=Results[15*N+2][t]\n",
        "        alpLy=Results[15*N+3][t]\n",
        "        \n",
        "        \n",
        "        \n",
        "        Results[15*N][t+1]   = alpRx\n",
        "            \n",
        "        Results[15*N+1][t+1] = alpRy\n",
        "             \n",
        "        Results[15*N+2][t+1] = alpLx  \n",
        "        \n",
        "        Results[15*N+3][t+1] = alpLy  \n",
        "                \n",
        "                \n",
        "        for i in range(N): \n",
        "            \n",
        "                     \n",
        "            s10x=Results[i][t]       #x10\n",
        "            s20x=Results[i+N][t]     #x20\n",
        "            s30x=Results[i+2*N][t]   #x30  \n",
        "            s21x=Results[i+3*N][t]   #x21 \n",
        "            s31x=Results[i+4*N][t]   #x31\n",
        "            s32x=Results[i+5*N][t]   #x32\n",
        "            \n",
        "            s10y=Results[i+6*N][t]   #y10\n",
        "            s20y=Results[i+7*N][t]   #y20\n",
        "            s30y=Results[i+8*N][t]   #y30\n",
        "            s21y=Results[i+9*N][t]   #y21\n",
        "            s31y=Results[i+10*N][t]  #y31\n",
        "            s32y=Results[i+11*N][t]  #y32\n",
        "            \n",
        "            s0z=Results[i+12*N][t]  #z0\n",
        "            s1z=Results[i+13*N][t]  #z1\n",
        "            s2z=Results[i+14*N][t]  #z2\n",
        "            \n",
        "            # alpRx=Results[15*N][t]\n",
        "            # alpRy=Results[15*N+1][t]\n",
        "            # alpLx=Results[15*N+2][t]\n",
        "            # alpLy=Results[15*N+3][t]\n",
        "            \n",
        "            \n",
        "            Results[i][t+1]     = s10x  +dt0*sqrt(2)*(s0z-s1z)\n",
        "            \n",
        "            Results[i+N][t+1]   = s20x  +dt0*(-s21x)\n",
        "            \n",
        "            Results[i+2*N][t+1] = s30x  +dt0*(-s31x)\n",
        "            \n",
        "\n",
        "            Results[i+3*N][t+1] = s21x  +dt0*(s20x)\n",
        "            \n",
        "            Results[i+4*N][t+1] = s31x  +dt0*(s30x)\n",
        "            \n",
        "            Results[i+5*N][t+1] = s32x  \n",
        "            \n",
        "            Results[i+6*N][t+1] = s10y \n",
        "\n",
        "            Results[i+7*N][t+1] = s20y   +dt0*(-s21y)\n",
        "\n",
        "\n",
        "\n",
        "\n",
        "            \n",
        "            Results[i+8*N][t+1] = s30y   +dt0*(-s31y)\n",
        "\n",
        "\n",
        "\n",
        "            \n",
        "            Results[i+9*N][t+1] = s21y  +dt0*(s20y)\n",
        "            \n",
        "            Results[i+10*N][t+1] = s31y + dt0*(s30y)\n",
        "\n",
        "\n",
        "            \n",
        "            Results[i+11*N][t+1] = s32y \n",
        "            \n",
        "            Results[i+12*N][t+1] = s0z+ dt0*(-sqrt(2))*s10x\n",
        "            \n",
        "            Results[i+13*N][t+1] = s1z+ dt0*(sqrt(2))*s10x\n",
        "            \n",
        "            Results[i+14*N][t+1] = s2z\n",
        "            \n",
        "        \n",
        "            \n",
        "    return Results\n"
      ],
      "execution_count": 130,
      "outputs": []
    },
    {
      "cell_type": "code",
      "metadata": {
        "id": "YJeSo_j_Blxq"
      },
      "source": [
        ""
      ],
      "execution_count": 130,
      "outputs": []
    },
    {
      "cell_type": "code",
      "metadata": {
        "id": "nx_-dgOtTQR_"
      },
      "source": [
        ""
      ],
      "execution_count": 130,
      "outputs": []
    },
    {
      "cell_type": "code",
      "metadata": {
        "id": "mIqNkR9LT6du"
      },
      "source": [
        "from numpy import mean\n",
        "from numpy import linalg\n",
        "from numpy import zeros\n",
        "from numba import jit\n",
        "@jit\n",
        "\n",
        "def summary_stat(Res,N=N,n=n0):\n",
        "    Results =zeros((19, n))\n",
        "    count=0\n",
        "    while count<n:\n",
        "        s10x,s20x,s30x=Res[0:N, count:count+1],Res[N:2*N, count:count+1],Res[2*N:3*N, count:count+1]\n",
        "        s21x,s31x,s32x=Res[3*N:4*N, count:count+1],Res[4*N:5*N, count:count+1],Res[5*N:6*N, count:count+1]\n",
        "        \n",
        "        s10y,s20y,s30y=Res[6*N:7*N, count:count+1],Res[7*N:8*N, count:count+1],Res[8*N:9*N, count:count+1]\n",
        "        s21y,s31y,s32y=Res[9*N:10*N, count:count+1],Res[10*N:11*N, count:count+1],Res[11*N:12*N, count:count+1]\n",
        "        \n",
        "        s0z,s1z,s2z=Res[12*N:13*N, count:count+1],Res[13*N:14*N, count:count+1],Res[14*N:15*N, count:count+1]\n",
        "        \n",
        "        \n",
        "        alpha_Rx=mean(Res[15*N:15*N+1, count:count+1])\n",
        "        alpha_Ry=mean(Res[15*N+1:15*N+2, count:count+1])\n",
        "        alpha_Lx=mean(Res[15*N+2:15*N+3, count:count+1])\n",
        "        alpha_Ly=mean(Res[15*N+3:15*N+4, count:count+1])\n",
        "        \n",
        "        \n",
        "        Results[0][count],Results[1][count],Results[2][count]=N*mean(s10x)/sqrt(2),N*mean(s20x)/sqrt(2),N*mean(s30x)/sqrt(2)\n",
        "        Results[3][count],Results[4][count],Results[5][count]=N*mean(s21x)/sqrt(2),N*mean(s31x)/sqrt(2),N*mean(s32x)/sqrt(2)\n",
        "\n",
        "        Results[6][count],Results[7][count],Results[8][count]=N*mean(s10y)/sqrt(2),N*mean(s20y)/sqrt(2),N*mean(s30y)/sqrt(2)\n",
        "        Results[9][count],Results[10][count],Results[11][count]=N*mean(s21y)/sqrt(2),N*mean(s31y)/sqrt(2),N*mean(s32y)/sqrt(2)\n",
        "        \n",
        "        Results[12][count],Results[13][count],Results[14][count]=N*mean(s0z)/2,N*mean(s1z)/2,N*mean(s2z)/2\n",
        "        \n",
        "        Results[15][count],Results[16][count]=alpha_Rx,alpha_Ry\n",
        "        Results[17][count],Results[18][count]=alpha_Lx,alpha_Ly\n",
        "        \n",
        "        \n",
        "        count=count+1\n",
        "        \n",
        "    \n",
        "    return Results"
      ],
      "execution_count": 131,
      "outputs": []
    },
    {
      "cell_type": "code",
      "metadata": {
        "id": "PMrUqQKwT6h2"
      },
      "source": [
        ""
      ],
      "execution_count": 131,
      "outputs": []
    },
    {
      "cell_type": "code",
      "metadata": {
        "id": "J1Wo20QZT6kc"
      },
      "source": [
        "from numpy import add\n",
        "from numba import jit\n",
        "\n",
        "\n",
        "\n",
        "itera=5000\n",
        "@jit\n",
        "\n",
        "def averages_Theta(Stochastic,itera=itera,N=N,n=n0):\n",
        "    Results =zeros((19, n))\n",
        "    for j in range(itera):\n",
        "        Trayec=trayectory_RTheta(N,Stochastic)\n",
        "        Results=add(Results,summary_stat(Trayec,N,n))\n",
        "    \n",
        "    return Results/itera\n",
        "    \n",
        "    \n",
        "    \n",
        "    "
      ],
      "execution_count": 132,
      "outputs": []
    },
    {
      "cell_type": "code",
      "metadata": {
        "id": "mYAIamMPT6pL"
      },
      "source": [
        ""
      ],
      "execution_count": 132,
      "outputs": []
    },
    {
      "cell_type": "code",
      "metadata": {
        "colab": {
          "base_uri": "https://localhost:8080/"
        },
        "id": "rzjP9GlKUwSB",
        "outputId": "4badc602-42bb-42a5-f641-df3f6d42fd93"
      },
      "source": [
        "t0=time.time()\n",
        "\n",
        "itera=1000\n",
        "\n",
        "Result_varDDTWA_EM_Theta = averages_Theta(0,itera=itera,N=N,n=n0)\n",
        "#Result_varDTWA_EM  = averages(0,itera=itera,N=N,n=n)\n",
        "\n",
        "\n",
        "\n",
        "t1=time.time()\n",
        "\n",
        "print(t1-t0)"
      ],
      "execution_count": 133,
      "outputs": [
        {
          "output_type": "stream",
          "name": "stderr",
          "text": [
            "<ipython-input-132-5ed023c42594>:7: NumbaWarning: \n",
            "Compilation is falling back to object mode WITH looplifting enabled because Function \"averages_Theta\" failed type inference due to: Invalid use of type(CPUDispatcher(<function trayectory_RTheta at 0x7f5441648f80>)) with parameters (int64, int64)\n",
            "\n",
            "During: resolving callee type: type(CPUDispatcher(<function trayectory_RTheta at 0x7f5441648f80>))\n",
            "During: typing of call at <ipython-input-132-5ed023c42594> (12)\n",
            "\n",
            "\n",
            "File \"<ipython-input-132-5ed023c42594>\", line 12:\n",
            "def averages_Theta(Stochastic,itera=itera,N=N,n=n0):\n",
            "    <source elided>\n",
            "    for j in range(itera):\n",
            "        Trayec=trayectory_RTheta(N,Stochastic)\n",
            "        ^\n",
            "\n",
            "  @jit\n",
            "<ipython-input-132-5ed023c42594>:7: NumbaWarning: \n",
            "Compilation is falling back to object mode WITHOUT looplifting enabled because Function \"averages_Theta\" failed type inference due to: cannot determine Numba type of <class 'numba.core.dispatcher.LiftedLoop'>\n",
            "\n",
            "File \"<ipython-input-132-5ed023c42594>\", line 11:\n",
            "def averages_Theta(Stochastic,itera=itera,N=N,n=n0):\n",
            "    <source elided>\n",
            "    Results =zeros((19, n))\n",
            "    for j in range(itera):\n",
            "    ^\n",
            "\n",
            "  @jit\n",
            "/usr/local/lib/python3.7/dist-packages/numba/core/object_mode_passes.py:178: NumbaWarning: Function \"averages_Theta\" was compiled in object mode without forceobj=True, but has lifted loops.\n",
            "\n",
            "File \"<ipython-input-132-5ed023c42594>\", line 10:\n",
            "def averages_Theta(Stochastic,itera=itera,N=N,n=n0):\n",
            "    Results =zeros((19, n))\n",
            "    ^\n",
            "\n",
            "  state.func_ir.loc))\n",
            "/usr/local/lib/python3.7/dist-packages/numba/core/object_mode_passes.py:188: NumbaDeprecationWarning: \n",
            "Fall-back from the nopython compilation path to the object mode compilation path has been detected, this is deprecated behaviour.\n",
            "\n",
            "For more information visit https://numba.pydata.org/numba-doc/latest/reference/deprecation.html#deprecation-of-object-mode-fall-back-behaviour-when-using-jit\n",
            "\n",
            "File \"<ipython-input-132-5ed023c42594>\", line 10:\n",
            "def averages_Theta(Stochastic,itera=itera,N=N,n=n0):\n",
            "    Results =zeros((19, n))\n",
            "    ^\n",
            "\n",
            "  state.func_ir.loc))\n",
            "<ipython-input-132-5ed023c42594>:7: NumbaWarning: \n",
            "Compilation is falling back to object mode WITHOUT looplifting enabled because Function \"averages_Theta\" failed type inference due to: Invalid use of type(CPUDispatcher(<function trayectory_RTheta at 0x7f5441648f80>)) with parameters (int64, int64)\n",
            "\n",
            "During: resolving callee type: type(CPUDispatcher(<function trayectory_RTheta at 0x7f5441648f80>))\n",
            "During: typing of call at <ipython-input-132-5ed023c42594> (12)\n",
            "\n",
            "\n",
            "File \"<ipython-input-132-5ed023c42594>\", line 12:\n",
            "def averages_Theta(Stochastic,itera=itera,N=N,n=n0):\n",
            "    <source elided>\n",
            "    for j in range(itera):\n",
            "        Trayec=trayectory_RTheta(N,Stochastic)\n",
            "        ^\n",
            "\n",
            "  @jit\n",
            "/usr/local/lib/python3.7/dist-packages/numba/core/object_mode_passes.py:178: NumbaWarning: Function \"averages_Theta\" was compiled in object mode without forceobj=True.\n",
            "\n",
            "File \"<ipython-input-132-5ed023c42594>\", line 11:\n",
            "def averages_Theta(Stochastic,itera=itera,N=N,n=n0):\n",
            "    <source elided>\n",
            "    Results =zeros((19, n))\n",
            "    for j in range(itera):\n",
            "    ^\n",
            "\n",
            "  state.func_ir.loc))\n",
            "/usr/local/lib/python3.7/dist-packages/numba/core/object_mode_passes.py:188: NumbaDeprecationWarning: \n",
            "Fall-back from the nopython compilation path to the object mode compilation path has been detected, this is deprecated behaviour.\n",
            "\n",
            "For more information visit https://numba.pydata.org/numba-doc/latest/reference/deprecation.html#deprecation-of-object-mode-fall-back-behaviour-when-using-jit\n",
            "\n",
            "File \"<ipython-input-132-5ed023c42594>\", line 11:\n",
            "def averages_Theta(Stochastic,itera=itera,N=N,n=n0):\n",
            "    <source elided>\n",
            "    Results =zeros((19, n))\n",
            "    for j in range(itera):\n",
            "    ^\n",
            "\n",
            "  state.func_ir.loc))\n",
            "<ipython-input-130-c9b61bb1eba0>:57: NumbaWarning: \n",
            "Compilation is falling back to object mode WITHOUT looplifting enabled because Function \"trayectory_RTheta\" failed type inference due to: No implementation of function Function(<built-in method choice of numpy.random.mtrand.RandomState object at 0x7f546b5dc050>) found for signature:\n",
            " \n",
            " >>> choice(readonly array(float64, 1d, C), Literal[int](1), p=Tuple(float64, int64, float64))\n",
            " \n",
            "There are 2 candidate implementations:\n",
            "      - Of which 2 did not match due to:\n",
            "      Overload in function 'choice': File: numba/cpython/randomimpl.py: Line 1346.\n",
            "        With argument(s): '(readonly array(float64, 1d, C), int64, p=Tuple(float64, int64, float64))':\n",
            "       Rejected as the implementation raised a specific error:\n",
            "         TypeError: choice() got an unexpected keyword argument 'p'\n",
            "  raised from /usr/local/lib/python3.7/dist-packages/numba/core/typing/templates.py:710\n",
            "\n",
            "During: resolving callee type: Function(<built-in method choice of numpy.random.mtrand.RandomState object at 0x7f546b5dc050>)\n",
            "During: typing of call at <ipython-input-130-c9b61bb1eba0> (72)\n",
            "\n",
            "\n",
            "File \"<ipython-input-130-c9b61bb1eba0>\", line 72:\n",
            "def trayectory_RTheta(N,Stochastic):\n",
            "    <source elided>\n",
            "        \n",
            "        Results[j][0]     =np.random.choice(mk,1,p=x10)[0]  #x10  \n",
            "        ^\n",
            "\n",
            "  @jit\n",
            "/usr/local/lib/python3.7/dist-packages/numba/core/object_mode_passes.py:178: NumbaWarning: Function \"trayectory_RTheta\" was compiled in object mode without forceobj=True.\n",
            "\n",
            "File \"<ipython-input-130-c9b61bb1eba0>\", line 70:\n",
            "def trayectory_RTheta(N,Stochastic):\n",
            "    <source elided>\n",
            "    \n",
            "    for j in range(N):        \n",
            "    ^\n",
            "\n",
            "  state.func_ir.loc))\n",
            "/usr/local/lib/python3.7/dist-packages/numba/core/object_mode_passes.py:188: NumbaDeprecationWarning: \n",
            "Fall-back from the nopython compilation path to the object mode compilation path has been detected, this is deprecated behaviour.\n",
            "\n",
            "For more information visit https://numba.pydata.org/numba-doc/latest/reference/deprecation.html#deprecation-of-object-mode-fall-back-behaviour-when-using-jit\n",
            "\n",
            "File \"<ipython-input-130-c9b61bb1eba0>\", line 70:\n",
            "def trayectory_RTheta(N,Stochastic):\n",
            "    <source elided>\n",
            "    \n",
            "    for j in range(N):        \n",
            "    ^\n",
            "\n",
            "  state.func_ir.loc))\n"
          ]
        },
        {
          "output_type": "stream",
          "name": "stdout",
          "text": [
            "45.03407645225525\n"
          ]
        }
      ]
    },
    {
      "cell_type": "code",
      "metadata": {
        "id": "C_Lb5qoxUwUs"
      },
      "source": [
        ""
      ],
      "execution_count": 133,
      "outputs": []
    },
    {
      "cell_type": "code",
      "metadata": {
        "colab": {
          "base_uri": "https://localhost:8080/",
          "height": 283
        },
        "id": "_F2nstiUUwZq",
        "outputId": "ccaaf8f0-44ef-41e9-a003-724cb9726184"
      },
      "source": [
        "plt.plot(times0,Result_varDDTWA_EM_Theta[0])"
      ],
      "execution_count": 134,
      "outputs": [
        {
          "output_type": "execute_result",
          "data": {
            "text/plain": [
              "[<matplotlib.lines.Line2D at 0x7f543d40da90>]"
            ]
          },
          "metadata": {},
          "execution_count": 134
        },
        {
          "output_type": "display_data",
          "data": {
            "image/png": "[encoded data removed]",
            "text/plain": [
              "<Figure size 432x288 with 1 Axes>"
            ]
          },
          "metadata": {
            "needs_background": "light"
          }
        }
      ]
    },
    {
      "cell_type": "code",
      "metadata": {
        "colab": {
          "base_uri": "https://localhost:8080/"
        },
        "id": "6yLrxH7PUwcb",
        "outputId": "c04788e0-5f4c-42a4-f125-8f27f0dea52e"
      },
      "source": [
        "Phi"
      ],
      "execution_count": 144,
      "outputs": [
        {
          "output_type": "execute_result",
          "data": {
            "text/plain": [
              "1.5707963267948966"
            ]
          },
          "metadata": {},
          "execution_count": 144
        }
      ]
    },
    {
      "cell_type": "markdown",
      "metadata": {
        "id": "PPL5viYpTSeB"
      },
      "source": [
        "## Rotate $\\phi/2$"
      ]
    },
    {
      "cell_type": "code",
      "metadata": {
        "id": "VFt1bMXQhAXy"
      },
      "source": [
        "\n",
        "dt1 = 0.0001# Time step.\n",
        "T1 = Phi/2 # Total time.\n",
        "n1 = int(T1 / dt1) # Number of time steps.\n",
        "steps1=int(T1/dt1)"
      ],
      "execution_count": 145,
      "outputs": []
    },
    {
      "cell_type": "code",
      "metadata": {
        "id": "2XmDrgQjBl1R"
      },
      "source": [
        "\n",
        "\n",
        "\n",
        "\n",
        "\n",
        "\n",
        "@jit\n",
        "\n",
        "def trayectory_R_Phi_Theta(N,Stochastic):\n",
        "    sqrtdt1 = np.sqrt(dt1)*Stochastic\n",
        "\n",
        "\n",
        "    Rot_Theta=trayectory_RTheta(N,0)\n",
        "    \n",
        "    Results =zeros((15*N+4, n1))\n",
        "    \n",
        "    Results[15*N][0]   = 0\n",
        "    Results[15*N+1][0] = 0\n",
        "    Results[15*N+2][0] = 0\n",
        "    Results[15*N+3][0] = 0\n",
        "    \n",
        "    \n",
        "    for j in range(N):        \n",
        "        \n",
        "        Results[j][0]     =Rot_Theta[j][-1]  #x10  \n",
        "        Results[j+N][0]   =Rot_Theta[j+N][-1]  #x20\n",
        "        Results[j+2*N][0] =Rot_Theta[j+2*N][-1]  #x30\n",
        "        Results[j+3*N][0] =Rot_Theta[j+3*N][-1]  #x21\n",
        "        Results[j+4*N][0] =Rot_Theta[j+4*N][-1]  #x31\n",
        "        Results[j+5*N][0] =Rot_Theta[j+5*N][-1]  #x32\n",
        "        \n",
        "        Results[j+6*N][0] =Rot_Theta[j+6*N][-1]  #y10\n",
        "        Results[j+7*N][0] =Rot_Theta[j+7*N][-1]  #y20\n",
        "        Results[j+8*N][0] =Rot_Theta[j+8*N][-1]  #y30\n",
        "        Results[j+9*N][0] =Rot_Theta[j+9*N][-1]  #y21\n",
        "        Results[j+10*N][0]=Rot_Theta[j+10*N][-1] #y31\n",
        "        Results[j+11*N][0]=Rot_Theta[j+11*N][-1] #y32\n",
        "        \n",
        "        Results[j+12*N][0]=Rot_Theta[j+12*N][-1]  #z10\n",
        "        Results[j+13*N][0]=Rot_Theta[j+13*N][-1]  #z21\n",
        "        Results[j+14*N][0]=Rot_Theta[j+14*N][-1]  #z32\n",
        "    \n",
        "    for t in range(n1-1):\n",
        "      \n",
        "        \n",
        "        alpRx=Results[15*N][t]\n",
        "        alpRy=Results[15*N+1][t]\n",
        "        alpLx=Results[15*N+2][t]\n",
        "        alpLy=Results[15*N+3][t]\n",
        "        \n",
        "        \n",
        "        \n",
        "        Results[15*N][t+1]   = alpRx\n",
        "            \n",
        "        Results[15*N+1][t+1] = alpRy\n",
        "             \n",
        "        Results[15*N+2][t+1] = alpLx  \n",
        "        \n",
        "        Results[15*N+3][t+1] = alpLy  \n",
        "                \n",
        "                \n",
        "        for i in range(N): \n",
        "            \n",
        "                     \n",
        "            s10x=Results[i][t]       #x10\n",
        "            s20x=Results[i+N][t]     #x20\n",
        "            s30x=Results[i+2*N][t]   #x30  \n",
        "            s21x=Results[i+3*N][t]   #x21 \n",
        "            s31x=Results[i+4*N][t]   #x31\n",
        "            s32x=Results[i+5*N][t]   #x32\n",
        "            \n",
        "            s10y=Results[i+6*N][t]   #y10\n",
        "            s20y=Results[i+7*N][t]   #y20\n",
        "            s30y=Results[i+8*N][t]   #y30\n",
        "            s21y=Results[i+9*N][t]   #y21\n",
        "            s31y=Results[i+10*N][t]  #y31\n",
        "            s32y=Results[i+11*N][t]  #y32\n",
        "            \n",
        "            s0z=Results[i+12*N][t]  #z0\n",
        "            s1z=Results[i+13*N][t]  #z1\n",
        "            s2z=Results[i+14*N][t]  #z2\n",
        "            \n",
        "            # alpRx=Results[15*N][t]\n",
        "            # alpRy=Results[15*N+1][t]\n",
        "            # alpLx=Results[15*N+2][t]\n",
        "            # alpLy=Results[15*N+3][t]\n",
        "            \n",
        "            \n",
        "            Results[i][t+1]     = s10x  +dt1*(-2)*(s10y)\n",
        "            \n",
        "            Results[i+N][t+1]   = s20x  +dt1*(-s20y)\n",
        "            \n",
        "            Results[i+2*N][t+1] = s30x  +dt1*(-s30y)\n",
        "            \n",
        "            Results[i+3*N][t+1] = s21x  +dt1*(s20y)\n",
        "\n",
        "            Results[i+4*N][t+1] = s31x  +dt1*(s30y)\n",
        "\n",
        "            Results[i+5*N][t+1] = s32x  \n",
        "\n",
        "            Results[i+6*N][t+1] = s10y +dt1*(2)*(s10x)\n",
        "\n",
        "            Results[i+7*N][t+1] = s20y   +dt1*(s20x)\n",
        "\n",
        "            Results[i+8*N][t+1] = s30y   +dt1*(s30x)\n",
        "            \n",
        "            Results[i+9*N][t+1] = s21y  +dt1*(-s21x)\n",
        "            \n",
        "            Results[i+10*N][t+1] = s31y + dt1*(s31x)\n",
        "            \n",
        "            Results[i+11*N][t+1] = s32y \n",
        "            \n",
        "            Results[i+12*N][t+1] = s0z\n",
        "            \n",
        "            Results[i+13*N][t+1] = s1z\n",
        "            \n",
        "            Results[i+14*N][t+1] = s2z\n",
        "            \n",
        "        \n",
        "            \n",
        "    return Results\n"
      ],
      "execution_count": 146,
      "outputs": []
    },
    {
      "cell_type": "code",
      "metadata": {
        "id": "HeWkq-Ia_T5s"
      },
      "source": [
        ""
      ],
      "execution_count": 146,
      "outputs": []
    },
    {
      "cell_type": "code",
      "metadata": {
        "id": "g0-Rjk3ABmAD"
      },
      "source": [
        ""
      ],
      "execution_count": 146,
      "outputs": []
    },
    {
      "cell_type": "code",
      "metadata": {
        "id": "jcSNiTFDe-03"
      },
      "source": [
        "from numpy import mean\n",
        "from numpy import linalg\n",
        "\n",
        "from numba import jit\n",
        "@jit\n",
        "\n",
        "def summary_stat(Res,N=N,n=n1):\n",
        "    Results =zeros((19, n))\n",
        "    count=0\n",
        "    while count<n:\n",
        "        s10x,s20x,s30x=Res[0:N, count:count+1],Res[N:2*N, count:count+1],Res[2*N:3*N, count:count+1]\n",
        "        s21x,s31x,s32x=Res[3*N:4*N, count:count+1],Res[4*N:5*N, count:count+1],Res[5*N:6*N, count:count+1]\n",
        "        \n",
        "        s10y,s20y,s30y=Res[6*N:7*N, count:count+1],Res[7*N:8*N, count:count+1],Res[8*N:9*N, count:count+1]\n",
        "        s21y,s31y,s32y=Res[9*N:10*N, count:count+1],Res[10*N:11*N, count:count+1],Res[11*N:12*N, count:count+1]\n",
        "        \n",
        "        s0z,s1z,s2z=Res[12*N:13*N, count:count+1],Res[13*N:14*N, count:count+1],Res[14*N:15*N, count:count+1]\n",
        "        \n",
        "        \n",
        "        alpha_Rx=mean(Res[15*N:15*N+1, count:count+1])\n",
        "        alpha_Ry=mean(Res[15*N+1:15*N+2, count:count+1])\n",
        "        alpha_Lx=mean(Res[15*N+2:15*N+3, count:count+1])\n",
        "        alpha_Ly=mean(Res[15*N+3:15*N+4, count:count+1])\n",
        "        \n",
        "        \n",
        "        Results[0][count],Results[1][count],Results[2][count]=N*mean(s10x)/sqrt(2),N*mean(s20x)/sqrt(2),N*mean(s30x)/sqrt(2)\n",
        "        Results[3][count],Results[4][count],Results[5][count]=N*mean(s21x)/sqrt(2),N*mean(s31x)/sqrt(2),N*mean(s32x)/sqrt(2)\n",
        "\n",
        "        Results[6][count],Results[7][count],Results[8][count]=N*mean(s10y)/sqrt(2),N*mean(s20y)/sqrt(2),N*mean(s30y)/sqrt(2)\n",
        "        Results[9][count],Results[10][count],Results[11][count]=N*mean(s21y)/sqrt(2),N*mean(s31y)/sqrt(2),N*mean(s32y)/sqrt(2)\n",
        "        \n",
        "        Results[12][count],Results[13][count],Results[14][count]=N*mean(s0z)/2,N*mean(s1z)/2,N*mean(s2z)/2\n",
        "        \n",
        "        Results[15][count],Results[16][count]=alpha_Rx,alpha_Ry\n",
        "        Results[17][count],Results[18][count]=alpha_Lx,alpha_Ly\n",
        "        \n",
        "        \n",
        "        count=count+1\n",
        "        \n",
        "    \n",
        "    return Results"
      ],
      "execution_count": 147,
      "outputs": []
    },
    {
      "cell_type": "code",
      "metadata": {
        "id": "ihNwv8vbXwNE"
      },
      "source": [
        ""
      ],
      "execution_count": 147,
      "outputs": []
    },
    {
      "cell_type": "code",
      "metadata": {
        "id": "WrkEGk0FXwRJ"
      },
      "source": [
        ""
      ],
      "execution_count": 147,
      "outputs": []
    },
    {
      "cell_type": "code",
      "metadata": {
        "id": "SxcimBW5XwTw"
      },
      "source": [
        ""
      ],
      "execution_count": 147,
      "outputs": []
    },
    {
      "cell_type": "code",
      "metadata": {
        "id": "PRnOve8rXwYb"
      },
      "source": [
        ""
      ],
      "execution_count": 147,
      "outputs": []
    },
    {
      "cell_type": "code",
      "metadata": {
        "id": "gVZrg-s2e-03"
      },
      "source": [
        "from numpy import add\n",
        "from numba import jit\n",
        "\n",
        "\n",
        "\n",
        "itera=5000\n",
        "@jit\n",
        "\n",
        "def averages_theta_phi(Stochastic,itera=itera,N=N,n=n1):\n",
        "    Results =zeros((19, n))\n",
        "    for j in range(itera):\n",
        "        Trayec=trayectory_R_Phi_Theta(N,Stochastic)\n",
        "        Results=add(Results,summary_stat(Trayec,N,n))\n",
        "    \n",
        "    return Results/itera\n",
        "    \n",
        "    \n",
        "    \n",
        "    "
      ],
      "execution_count": 148,
      "outputs": []
    },
    {
      "cell_type": "code",
      "metadata": {
        "colab": {
          "base_uri": "https://localhost:8080/"
        },
        "id": "LrLBDAeYe-04",
        "outputId": "a2079b9c-70e5-4f8f-e5bf-dcc3d3d069fe"
      },
      "source": [
        "t0=time.time()\n",
        "\n",
        "itera=1000\n",
        "\n",
        "Result_varDDTWA_EM_Full_rot = averages_theta_phi(0,itera=itera,N=N,n=n1)\n",
        "#Result_varDTWA_EM  = averages(0,itera=itera,N=N,n=n)\n",
        "\n",
        "\n",
        "\n",
        "t1=time.time()\n",
        "\n",
        "print(t1-t0)"
      ],
      "execution_count": 149,
      "outputs": [
        {
          "output_type": "stream",
          "name": "stderr",
          "text": [
            "<ipython-input-148-e6fdd892dfd6>:7: NumbaWarning: \n",
            "Compilation is falling back to object mode WITH looplifting enabled because Function \"averages_theta_phi\" failed type inference due to: Invalid use of type(CPUDispatcher(<function trayectory_R_Phi_Theta at 0x7f543dee23b0>)) with parameters (int64, int64)\n",
            "\n",
            "During: resolving callee type: type(CPUDispatcher(<function trayectory_R_Phi_Theta at 0x7f543dee23b0>))\n",
            "During: typing of call at <ipython-input-148-e6fdd892dfd6> (12)\n",
            "\n",
            "\n",
            "File \"<ipython-input-148-e6fdd892dfd6>\", line 12:\n",
            "def averages_theta_phi(Stochastic,itera=itera,N=N,n=n1):\n",
            "    <source elided>\n",
            "    for j in range(itera):\n",
            "        Trayec=trayectory_R_Phi_Theta(N,Stochastic)\n",
            "        ^\n",
            "\n",
            "  @jit\n",
            "<ipython-input-148-e6fdd892dfd6>:7: NumbaWarning: \n",
            "Compilation is falling back to object mode WITHOUT looplifting enabled because Function \"averages_theta_phi\" failed type inference due to: cannot determine Numba type of <class 'numba.core.dispatcher.LiftedLoop'>\n",
            "\n",
            "File \"<ipython-input-148-e6fdd892dfd6>\", line 11:\n",
            "def averages_theta_phi(Stochastic,itera=itera,N=N,n=n1):\n",
            "    <source elided>\n",
            "    Results =zeros((19, n))\n",
            "    for j in range(itera):\n",
            "    ^\n",
            "\n",
            "  @jit\n",
            "/usr/local/lib/python3.7/dist-packages/numba/core/object_mode_passes.py:178: NumbaWarning: Function \"averages_theta_phi\" was compiled in object mode without forceobj=True, but has lifted loops.\n",
            "\n",
            "File \"<ipython-input-148-e6fdd892dfd6>\", line 10:\n",
            "def averages_theta_phi(Stochastic,itera=itera,N=N,n=n1):\n",
            "    Results =zeros((19, n))\n",
            "    ^\n",
            "\n",
            "  state.func_ir.loc))\n",
            "/usr/local/lib/python3.7/dist-packages/numba/core/object_mode_passes.py:188: NumbaDeprecationWarning: \n",
            "Fall-back from the nopython compilation path to the object mode compilation path has been detected, this is deprecated behaviour.\n",
            "\n",
            "For more information visit https://numba.pydata.org/numba-doc/latest/reference/deprecation.html#deprecation-of-object-mode-fall-back-behaviour-when-using-jit\n",
            "\n",
            "File \"<ipython-input-148-e6fdd892dfd6>\", line 10:\n",
            "def averages_theta_phi(Stochastic,itera=itera,N=N,n=n1):\n",
            "    Results =zeros((19, n))\n",
            "    ^\n",
            "\n",
            "  state.func_ir.loc))\n",
            "<ipython-input-148-e6fdd892dfd6>:7: NumbaWarning: \n",
            "Compilation is falling back to object mode WITHOUT looplifting enabled because Function \"averages_theta_phi\" failed type inference due to: Invalid use of type(CPUDispatcher(<function trayectory_R_Phi_Theta at 0x7f543dee23b0>)) with parameters (int64, int64)\n",
            "\n",
            "During: resolving callee type: type(CPUDispatcher(<function trayectory_R_Phi_Theta at 0x7f543dee23b0>))\n",
            "During: typing of call at <ipython-input-148-e6fdd892dfd6> (12)\n",
            "\n",
            "\n",
            "File \"<ipython-input-148-e6fdd892dfd6>\", line 12:\n",
            "def averages_theta_phi(Stochastic,itera=itera,N=N,n=n1):\n",
            "    <source elided>\n",
            "    for j in range(itera):\n",
            "        Trayec=trayectory_R_Phi_Theta(N,Stochastic)\n",
            "        ^\n",
            "\n",
            "  @jit\n",
            "/usr/local/lib/python3.7/dist-packages/numba/core/object_mode_passes.py:178: NumbaWarning: Function \"averages_theta_phi\" was compiled in object mode without forceobj=True.\n",
            "\n",
            "File \"<ipython-input-148-e6fdd892dfd6>\", line 11:\n",
            "def averages_theta_phi(Stochastic,itera=itera,N=N,n=n1):\n",
            "    <source elided>\n",
            "    Results =zeros((19, n))\n",
            "    for j in range(itera):\n",
            "    ^\n",
            "\n",
            "  state.func_ir.loc))\n",
            "/usr/local/lib/python3.7/dist-packages/numba/core/object_mode_passes.py:188: NumbaDeprecationWarning: \n",
            "Fall-back from the nopython compilation path to the object mode compilation path has been detected, this is deprecated behaviour.\n",
            "\n",
            "For more information visit https://numba.pydata.org/numba-doc/latest/reference/deprecation.html#deprecation-of-object-mode-fall-back-behaviour-when-using-jit\n",
            "\n",
            "File \"<ipython-input-148-e6fdd892dfd6>\", line 11:\n",
            "def averages_theta_phi(Stochastic,itera=itera,N=N,n=n1):\n",
            "    <source elided>\n",
            "    Results =zeros((19, n))\n",
            "    for j in range(itera):\n",
            "    ^\n",
            "\n",
            "  state.func_ir.loc))\n"
          ]
        },
        {
          "output_type": "stream",
          "name": "stdout",
          "text": [
            "54.73637413978577\n"
          ]
        }
      ]
    },
    {
      "cell_type": "code",
      "metadata": {
        "id": "glFxUvdoe-04"
      },
      "source": [
        "times1=np.linspace(0,T1,steps1)\n"
      ],
      "execution_count": 150,
      "outputs": []
    },
    {
      "cell_type": "code",
      "metadata": {
        "colab": {
          "base_uri": "https://localhost:8080/",
          "height": 283
        },
        "id": "BEtL4RKIe-04",
        "outputId": "a333d4c7-8cb1-4202-bea2-46ca4737ecd6"
      },
      "source": [
        "ind=0\n",
        "\n",
        "plt.plot(times1,Result_varDDTWA_EM_Full_rot[ind])\n",
        "\n",
        "\n"
      ],
      "execution_count": 151,
      "outputs": [
        {
          "output_type": "execute_result",
          "data": {
            "text/plain": [
              "[<matplotlib.lines.Line2D at 0x7f543d9ade10>]"
            ]
          },
          "metadata": {},
          "execution_count": 151
        },
        {
          "output_type": "display_data",
          "data": {
            "image/png": "[encoded data removed]",
            "text/plain": [
              "<Figure size 432x288 with 1 Axes>"
            ]
          },
          "metadata": {
            "needs_background": "light"
          }
        }
      ]
    },
    {
      "cell_type": "code",
      "metadata": {
        "id": "DoWtcxTflH4F"
      },
      "source": [
        ""
      ],
      "execution_count": 141,
      "outputs": []
    },
    {
      "cell_type": "markdown",
      "metadata": {
        "id": "ZAwbGbtUlH-d"
      },
      "source": [
        "## DDTWA Dynamics"
      ]
    },
    {
      "cell_type": "code",
      "metadata": {
        "id": "kfsYu4FZ_T5u"
      },
      "source": [
        ""
      ],
      "execution_count": 151,
      "outputs": []
    },
    {
      "cell_type": "code",
      "metadata": {
        "id": "0f3DH0QC_T5u"
      },
      "source": [
        "import numpy as np\n",
        "import matplotlib.pyplot as plt\n",
        "%matplotlib inline\n",
        "from numpy import random, zeros, sqrt,cos,sin\n",
        "\n",
        "\n",
        "\n",
        "matrix_array=[]\n",
        "\n",
        "\n",
        "from numba import jit\n",
        "\n",
        "dt = 0.0001# Time step.\n",
        "T = 120 # Total time.\n",
        "n = int(T / dt) # Number of time steps.\n",
        "steps=int(T/dt)\n",
        "\n",
        "times = np.linspace(0., T, n)\n",
        "\n",
        "gR=1\n",
        "DeltaR=0\n",
        "KapR= 20\n",
        "OmegaR= 0.9*N/(KapR+1e-10)\n",
        "\n",
        "\n",
        "gL=1\n",
        "DeltaL=0\n",
        "KapL=20\n",
        "OmegaL= 0.9* N/(KapL+1e-10) \n",
        "\n",
        "\n",
        "Gamma_du=0  #Fixed\n",
        "\n",
        "\n",
        "sqrt_N=np.sqrt(N)\n",
        "\n",
        "\n",
        "    \n",
        "\n",
        "from scipy import stats\n"
      ],
      "execution_count": 152,
      "outputs": []
    },
    {
      "cell_type": "code",
      "metadata": {
        "id": "99SIVKUJ_T5v"
      },
      "source": [
        ""
      ],
      "execution_count": 152,
      "outputs": []
    },
    {
      "cell_type": "code",
      "metadata": {
        "id": "63Jx3t5N_T5v"
      },
      "source": [
        "from numpy import add\n",
        "from numba import jit\n",
        "\n",
        "\n",
        "\n",
        "itera=5000\n",
        "@jit\n",
        "\n",
        "def averages(Stochastic,itera=itera,N=N,n=n):\n",
        "    Results =zeros((19, n))\n",
        "    for j in range(itera):\n",
        "        Trayec=trayectory(N,Stochastic)\n",
        "        Results=add(Results,Trayec)\n",
        "    \n",
        "    return Results/itera\n",
        "    \n",
        "    \n",
        "    \n",
        "    "
      ],
      "execution_count": 153,
      "outputs": []
    },
    {
      "cell_type": "code",
      "metadata": {
        "id": "cPckcOBC_T5v"
      },
      "source": [
        ""
      ],
      "execution_count": 153,
      "outputs": []
    },
    {
      "cell_type": "code",
      "metadata": {
        "id": "c1K82NhG_T5v"
      },
      "source": [
        "\n",
        "\n",
        "#set the initial values due to the measurements in the state |\\psi>=cos(\\theta/2)|0>+sin(\\theta/2)|1>\n",
        "\n",
        "\n",
        "theta = Theta\n",
        "phi   = Phi\n",
        "\n",
        "#-----------------------------------------------------------------------------------------------------\n",
        "\n",
        "\n",
        "\n",
        "from scipy import stats\n",
        "\n",
        "\n",
        "@jit\n",
        "\n",
        "def trayectory_D(N,Stochastic):\n",
        "    sqrtdt = np.sqrt(dt)*Stochastic\n",
        "    \n",
        "    Results =zeros((15*N+4, n))\n",
        "    \n",
        "    Results[15*N][0]   = np.random.normal(0, 0.5)\n",
        "    Results[15*N+1][0] = np.random.normal(0, 0.5)\n",
        "    Results[15*N+2][0] = np.random.normal(0, 0.5)\n",
        "    Results[15*N+3][0] = np.random.normal(0, 0.5)\n",
        "    \n",
        "    if Phi!=0:  \n",
        "        Rot_state=trayectory_R_Phi_Theta(N,0)\n",
        "    else:\n",
        "        Rot_state=trayectory_RTheta(N,0)\n",
        "        \n",
        "    \n",
        "    for j in range(N):        \n",
        "        \n",
        "        Results[j][0]     =Rot_state[j][-1]      #x10  \n",
        "        Results[j+N][0]   =Rot_state[j+N][-1]    #x20\n",
        "        Results[j+2*N][0] =Rot_state[j+2*N][-1]  #x30\n",
        "        Results[j+3*N][0] =Rot_state[j+3*N][-1]  #x21\n",
        "        Results[j+4*N][0] =Rot_state[j+4*N][-1]  #x31\n",
        "        Results[j+5*N][0] =Rot_state[j+5*N][-1]  #x32\n",
        "        \n",
        "        Results[j+6*N][0] =Rot_state[j+6*N][-1]  #y10\n",
        "        Results[j+7*N][0] =Rot_state[j+7*N][-1]  #y20\n",
        "        Results[j+8*N][0] =Rot_state[j+8*N][-1]  #y30\n",
        "        Results[j+9*N][0] =Rot_state[j+9*N][-1]  #y21\n",
        "        Results[j+10*N][0]=Rot_state[j+10*N][-1] #y31\n",
        "        Results[j+11*N][0]=Rot_state[j+11*N][-1] #y32\n",
        "        \n",
        "        Results[j+12*N][0]=Rot_state[j+12*N][-1] #z10\n",
        "        Results[j+13*N][0]=Rot_state[j+13*N][-1] #z21\n",
        "        Results[j+14*N][0]=Rot_state[j+14*N][-1] #z32\n",
        "    \n",
        "    for t in range(n-1):\n",
        "        \n",
        "        Normal_VA_1=random.randn() #np.random.normal(0, 1)\n",
        "        Normal_VA_2=random.randn() #np.random.normal(0, 1)\n",
        "        Normal_VA_3=random.randn() #np.random.normal(0, 1)\n",
        "        Normal_VA_4=random.randn() #np.random.normal(0, 1)\n",
        "        \n",
        "        \n",
        "        alpRx=Results[15*N][t]\n",
        "        alpRy=Results[15*N+1][t]\n",
        "        alpLx=Results[15*N+2][t]\n",
        "        alpLy=Results[15*N+3][t]\n",
        "        \n",
        "        \n",
        "        \n",
        "        Results[15*N][t+1]   = alpRx-dt*DeltaR*alpRy-dt*(KapR/2)*alpRx+np.sqrt(KapR/4)*sqrtdt * Normal_VA_1\n",
        "            \n",
        "        Results[15*N+1][t+1] = alpRy+dt*DeltaR*alpRx-dt*(KapR/2)*alpRy+np.sqrt(KapR/4)*sqrtdt * Normal_VA_2\n",
        "             \n",
        "        Results[15*N+2][t+1] = alpLx -dt*DeltaL*alpLy-dt*(KapL/2)*alpLx+np.sqrt(KapL/4)*sqrtdt * Normal_VA_3  \n",
        "        \n",
        "        Results[15*N+3][t+1] = alpLy +dt*DeltaL*alpLx-dt*(KapL/2)*alpLy+np.sqrt(KapL/4)*sqrtdt * Normal_VA_4  \n",
        "                \n",
        "                \n",
        "        for i in range(N): \n",
        "            \n",
        "                     \n",
        "            s10x=Results[i][t]       #x10\n",
        "            s20x=Results[i+N][t]     #x20\n",
        "            s30x=Results[i+2*N][t]   #x30  \n",
        "            s21x=Results[i+3*N][t]   #x21 \n",
        "            s31x=Results[i+4*N][t]   #x31\n",
        "            s32x=Results[i+5*N][t]   #x32\n",
        "            \n",
        "            s10y=Results[i+6*N][t]   #y10\n",
        "            s20y=Results[i+7*N][t]   #y20\n",
        "            s30y=Results[i+8*N][t]   #y30\n",
        "            s21y=Results[i+9*N][t]   #y21\n",
        "            s31y=Results[i+10*N][t]  #y31\n",
        "            s32y=Results[i+11*N][t]  #y32\n",
        "            \n",
        "            s0z=Results[i+12*N][t]  #z0\n",
        "            s1z=Results[i+13*N][t]  #z1\n",
        "            s2z=Results[i+14*N][t]  #z2\n",
        "            \n",
        "            # alpRx=Results[15*N][t]\n",
        "            # alpRy=Results[15*N+1][t]\n",
        "            # alpLx=Results[15*N+2][t]\n",
        "            # alpLy=Results[15*N+3][t]\n",
        "            \n",
        "            \n",
        "            Results[i][t+1]     = s10x  +dt*(-gR)*(alpRy*s31x-alpRx*s31y) +dt*(OmegaR/2)*s31y-\\\n",
        "                dt*gL*(alpLy*s20x-alpLx*s20y)+dt*(OmegaL/2)*s20y\n",
        "            \n",
        "            Results[i+N][t+1]   = s20x  +dt*(-gR)*(alpRy*s32x-alpRx*s32y) +dt*(OmegaR/2)*s32y+\\\n",
        "                dt*gL*(alpLx*s10y+alpLy*s10x)+dt*(OmegaL/2)*s10y\n",
        "            \n",
        "            Results[i+2*N][t+1] = s30x  +dt*(-sqrt(2)*gR)*alpRy*(1-s2z-s1z-2*s0z)\n",
        "            \n",
        "            Results[i+3*N][t+1] = s21x  +dt*(-sqrt(2)*gL)*alpLy*(s2z-s1z)\n",
        "            \n",
        "            Results[i+4*N][t+1] = s31x  +dt*gR*(alpRy*s10x-alpRx*s10y)+dt*(-OmegaR/2)*s10y-\\\n",
        "                dt*gL*(alpLx*s32y+alpLy*s32x)+dt*(-OmegaL/2)*s32y\n",
        "            \n",
        "            Results[i+5*N][t+1] = s32x  +dt*gR*(alpRy*s20x-alpRx*s20y)+dt*(-OmegaR/2)*s20y+\\\n",
        "                dt*gL*(alpLy*s31x-alpLx*s31y)+dt*(-OmegaL/2)*s31y\n",
        "            \n",
        "            Results[i+6*N][t+1] = s10y  +dt*(gR)*(alpRx*s31x+alpRy*s31y)+dt*(OmegaR/2)*s31x-\\\n",
        "                dt*gL*(alpLx*s20x+alpLy*s20y)+dt*(-OmegaL/2)*s20x\n",
        "            \n",
        "            Results[i+7*N][t+1] = s20y  +dt*(gR)*(alpRx*s32x+alpRy*s32y)+dt*(OmegaR/2)*s32x-\\\n",
        "                dt*gL*(alpLx*s10x-alpLy*s10y)+dt*(-OmegaL/2)*s10x\n",
        "            \n",
        "            Results[i+8*N][t+1] = s30y  +dt*(2*gR*alpRx+OmegaR)*( 1-s2z-s1z-2*s0z  )/sqrt(2)\n",
        "            \n",
        "            Results[i+9*N][t+1] = s21y  +dt*(2*gL*alpLx+OmegaL)*(s2z-s1z)/sqrt(2)\n",
        "            \n",
        "            Results[i+10*N][t+1] = s31y + dt*(-gR)*(alpRx*s10x+alpRy*s10y)+dt*(-OmegaR/2)*s10x+\\\n",
        "                dt*gL*(alpLx*s32x-alpLy*s32y)+dt*(OmegaL/2)*s32x\n",
        "            \n",
        "            Results[i+11*N][t+1] = s32y + dt*(-gR)*(alpRx*s20x+alpRy*s20y)-dt*(OmegaR/2)*s20x+\\\n",
        "                dt*gL*(alpLx*s31x+alpLy*s31y)+dt*(OmegaL/2)*s31x\n",
        "            \n",
        "            Results[i+12*N][t+1] = s0z+ dt*(sqrt(2))*(gR*(alpRx*s30y-alpRy*s30x)+ (OmegaR/2)*s30y )\n",
        "            \n",
        "            Results[i+13*N][t+1] = s1z+ dt*(sqrt(2))*(gL*(-alpLy*s21x+alpLx*s21y) + (OmegaL/2)*s21y )\n",
        "            \n",
        "            Results[i+14*N][t+1] = s2z+ dt*(-sqrt(2))*(gL*(-alpLy*s21x+alpLx*s21y) + (OmegaL/2)*s21y )\n",
        "            \n",
        "            \n",
        "            \n",
        "            Results[15*N][t+1]   +=   (gR/sqrt(2))*dt*s30y\n",
        "            Results[15*N+1][t+1] +=  -(gR/sqrt(2))*dt*s30x\n",
        "            Results[15*N+2][t+1] +=   (gL/sqrt(2))*dt*s21y\n",
        "            Results[15*N+3][t+1] +=  -(gL/sqrt(2))*dt*s21x\n",
        "            \n",
        "    return Results\n"
      ],
      "execution_count": 154,
      "outputs": []
    },
    {
      "cell_type": "code",
      "metadata": {
        "id": "VVe5MFpJ_T5w"
      },
      "source": [
        "from numpy import mean\n",
        "from numpy import linalg\n",
        "\n",
        "from numba import jit\n",
        "@jit\n",
        "\n",
        "def summary_stat(Res,N=N,n=n):\n",
        "    Results =zeros((19, n))\n",
        "    count=0\n",
        "    while count<n:\n",
        "        s10x,s20x,s30x=Res[0:N, count:count+1],Res[N:2*N, count:count+1],Res[2*N:3*N, count:count+1]\n",
        "        s21x,s31x,s32x=Res[3*N:4*N, count:count+1],Res[4*N:5*N, count:count+1],Res[5*N:6*N, count:count+1]\n",
        "        \n",
        "        s10y,s20y,s30y=Res[6*N:7*N, count:count+1],Res[7*N:8*N, count:count+1],Res[8*N:9*N, count:count+1]\n",
        "        s21y,s31y,s32y=Res[9*N:10*N, count:count+1],Res[10*N:11*N, count:count+1],Res[11*N:12*N, count:count+1]\n",
        "        \n",
        "        s0z,s1z,s2z=Res[12*N:13*N, count:count+1],Res[13*N:14*N, count:count+1],Res[14*N:15*N, count:count+1]\n",
        "        \n",
        "        \n",
        "        alpha_Rx=mean(Res[15*N:15*N+1, count:count+1])\n",
        "        alpha_Ry=mean(Res[15*N+1:15*N+2, count:count+1])\n",
        "        alpha_Lx=mean(Res[15*N+2:15*N+3, count:count+1])\n",
        "        alpha_Ly=mean(Res[15*N+3:15*N+4, count:count+1])\n",
        "        \n",
        "        \n",
        "        Results[0][count],Results[1][count],Results[2][count]=N*mean(s10x)/sqrt(2),N*mean(s20x)/sqrt(2),N*mean(s30x)/sqrt(2)\n",
        "        Results[3][count],Results[4][count],Results[5][count]=N*mean(s21x)/sqrt(2),N*mean(s31x)/sqrt(2),N*mean(s32x)/sqrt(2)\n",
        "\n",
        "        Results[6][count],Results[7][count],Results[8][count]=N*mean(s10y)/sqrt(2),N*mean(s20y)/sqrt(2),N*mean(s30y)/sqrt(2)\n",
        "        Results[9][count],Results[10][count],Results[11][count]=N*mean(s21y)/sqrt(2),N*mean(s31y)/sqrt(2),N*mean(s32y)/sqrt(2)\n",
        "        \n",
        "        Results[12][count],Results[13][count],Results[14][count]=N*mean(s0z)/2,N*mean(s1z)/2,N*mean(s2z)/2\n",
        "        \n",
        "        Results[15][count],Results[16][count]=alpha_Rx,alpha_Ry\n",
        "        Results[17][count],Results[18][count]=alpha_Lx,alpha_Ly\n",
        "        \n",
        "        \n",
        "        count=count+1\n",
        "        \n",
        "    \n",
        "    return Results"
      ],
      "execution_count": 155,
      "outputs": []
    },
    {
      "cell_type": "code",
      "metadata": {
        "id": "4zC93Nss_T5w"
      },
      "source": [
        "from numpy import add\n",
        "from numba import jit\n",
        "\n",
        "\n",
        "\n",
        "itera=5000\n",
        "@jit\n",
        "\n",
        "def averages_D(Stochastic,itera=itera,N=N,n=n):\n",
        "    Results =zeros((19, n))\n",
        "    for j in range(itera):\n",
        "        Trayec=trayectory_D(N,Stochastic)\n",
        "        Results=add(Results,summary_stat(Trayec,N,n))\n",
        "    \n",
        "    return Results/itera\n",
        "    \n",
        "    \n",
        "    \n",
        "    "
      ],
      "execution_count": 156,
      "outputs": []
    },
    {
      "cell_type": "code",
      "metadata": {
        "colab": {
          "base_uri": "https://localhost:8080/"
        },
        "id": "lvSyLWdn_T5w",
        "outputId": "1e4fec13-512c-46ff-b8a3-41b2fe355e45"
      },
      "source": [
        "t0=time.time()\n",
        "\n",
        "itera=200\n",
        "\n",
        "Result_varDDTWA_EM = averages_D(1,itera=itera,N=N,n=n)\n",
        "\n",
        "#Result_varDTWA_EM  = averages(0,itera=itera,N=N,n=n)\n",
        "\n",
        "\n",
        "\n",
        "t1=time.time()\n",
        "\n",
        "print(t1-t0)"
      ],
      "execution_count": null,
      "outputs": [
        {
          "output_type": "stream",
          "name": "stderr",
          "text": [
            "<ipython-input-156-e78c70012492>:7: NumbaWarning: \n",
            "Compilation is falling back to object mode WITH looplifting enabled because Function \"averages_D\" failed type inference due to: Invalid use of type(CPUDispatcher(<function trayectory_D at 0x7f543ee809e0>)) with parameters (int64, int64)\n",
            "\n",
            "During: resolving callee type: type(CPUDispatcher(<function trayectory_D at 0x7f543ee809e0>))\n",
            "During: typing of call at <ipython-input-156-e78c70012492> (12)\n",
            "\n",
            "\n",
            "File \"<ipython-input-156-e78c70012492>\", line 12:\n",
            "def averages_D(Stochastic,itera=itera,N=N,n=n):\n",
            "    <source elided>\n",
            "    for j in range(itera):\n",
            "        Trayec=trayectory_D(N,Stochastic)\n",
            "        ^\n",
            "\n",
            "  @jit\n",
            "<ipython-input-156-e78c70012492>:7: NumbaWarning: \n",
            "Compilation is falling back to object mode WITHOUT looplifting enabled because Function \"averages_D\" failed type inference due to: cannot determine Numba type of <class 'numba.core.dispatcher.LiftedLoop'>\n",
            "\n",
            "File \"<ipython-input-156-e78c70012492>\", line 11:\n",
            "def averages_D(Stochastic,itera=itera,N=N,n=n):\n",
            "    <source elided>\n",
            "    Results =zeros((19, n))\n",
            "    for j in range(itera):\n",
            "    ^\n",
            "\n",
            "  @jit\n",
            "/usr/local/lib/python3.7/dist-packages/numba/core/object_mode_passes.py:178: NumbaWarning: Function \"averages_D\" was compiled in object mode without forceobj=True, but has lifted loops.\n",
            "\n",
            "File \"<ipython-input-156-e78c70012492>\", line 10:\n",
            "def averages_D(Stochastic,itera=itera,N=N,n=n):\n",
            "    Results =zeros((19, n))\n",
            "    ^\n",
            "\n",
            "  state.func_ir.loc))\n",
            "/usr/local/lib/python3.7/dist-packages/numba/core/object_mode_passes.py:188: NumbaDeprecationWarning: \n",
            "Fall-back from the nopython compilation path to the object mode compilation path has been detected, this is deprecated behaviour.\n",
            "\n",
            "For more information visit https://numba.pydata.org/numba-doc/latest/reference/deprecation.html#deprecation-of-object-mode-fall-back-behaviour-when-using-jit\n",
            "\n",
            "File \"<ipython-input-156-e78c70012492>\", line 10:\n",
            "def averages_D(Stochastic,itera=itera,N=N,n=n):\n",
            "    Results =zeros((19, n))\n",
            "    ^\n",
            "\n",
            "  state.func_ir.loc))\n",
            "<ipython-input-156-e78c70012492>:7: NumbaWarning: \n",
            "Compilation is falling back to object mode WITHOUT looplifting enabled because Function \"averages_D\" failed type inference due to: Invalid use of type(CPUDispatcher(<function trayectory_D at 0x7f543ee809e0>)) with parameters (int64, int64)\n",
            "\n",
            "During: resolving callee type: type(CPUDispatcher(<function trayectory_D at 0x7f543ee809e0>))\n",
            "During: typing of call at <ipython-input-156-e78c70012492> (12)\n",
            "\n",
            "\n",
            "File \"<ipython-input-156-e78c70012492>\", line 12:\n",
            "def averages_D(Stochastic,itera=itera,N=N,n=n):\n",
            "    <source elided>\n",
            "    for j in range(itera):\n",
            "        Trayec=trayectory_D(N,Stochastic)\n",
            "        ^\n",
            "\n",
            "  @jit\n",
            "/usr/local/lib/python3.7/dist-packages/numba/core/object_mode_passes.py:178: NumbaWarning: Function \"averages_D\" was compiled in object mode without forceobj=True.\n",
            "\n",
            "File \"<ipython-input-156-e78c70012492>\", line 11:\n",
            "def averages_D(Stochastic,itera=itera,N=N,n=n):\n",
            "    <source elided>\n",
            "    Results =zeros((19, n))\n",
            "    for j in range(itera):\n",
            "    ^\n",
            "\n",
            "  state.func_ir.loc))\n",
            "/usr/local/lib/python3.7/dist-packages/numba/core/object_mode_passes.py:188: NumbaDeprecationWarning: \n",
            "Fall-back from the nopython compilation path to the object mode compilation path has been detected, this is deprecated behaviour.\n",
            "\n",
            "For more information visit https://numba.pydata.org/numba-doc/latest/reference/deprecation.html#deprecation-of-object-mode-fall-back-behaviour-when-using-jit\n",
            "\n",
            "File \"<ipython-input-156-e78c70012492>\", line 11:\n",
            "def averages_D(Stochastic,itera=itera,N=N,n=n):\n",
            "    <source elided>\n",
            "    Results =zeros((19, n))\n",
            "    for j in range(itera):\n",
            "    ^\n",
            "\n",
            "  state.func_ir.loc))\n"
          ]
        }
      ]
    },
    {
      "cell_type": "code",
      "metadata": {
        "id": "owEqU5HJ_T5w"
      },
      "source": [
        ""
      ],
      "execution_count": null,
      "outputs": []
    },
    {
      "cell_type": "code",
      "metadata": {
        "id": "iR8tSPJ5_T5w"
      },
      "source": [
        "index=0\n",
        "\n",
        "plt.plot(times,Result_varDDTWA_EM[index])"
      ],
      "execution_count": null,
      "outputs": []
    },
    {
      "cell_type": "code",
      "metadata": {
        "id": "AH-UpkRl_T5w"
      },
      "source": [
        ""
      ],
      "execution_count": null,
      "outputs": []
    },
    {
      "cell_type": "code",
      "metadata": {
        "id": "rXFZSxr7_T5x"
      },
      "source": [
        "print(Theta,Phi)"
      ],
      "execution_count": null,
      "outputs": []
    },
    {
      "cell_type": "code",
      "metadata": {
        "id": "D7AWGTwSlICn"
      },
      "source": [
        ""
      ],
      "execution_count": null,
      "outputs": []
    },
    {
      "cell_type": "code",
      "metadata": {
        "id": "W3luNBdgiUKG"
      },
      "source": [
        ""
      ],
      "execution_count": null,
      "outputs": []
    },
    {
      "cell_type": "code",
      "metadata": {
        "id": "uJjb162XiUOc"
      },
      "source": [
        ""
      ],
      "execution_count": null,
      "outputs": []
    },
    {
      "cell_type": "code",
      "metadata": {
        "id": "uulYrID2iURF"
      },
      "source": [
        ""
      ],
      "execution_count": null,
      "outputs": []
    },
    {
      "cell_type": "code",
      "metadata": {
        "id": "ypfD6shuiUV5"
      },
      "source": [
        ""
      ],
      "execution_count": null,
      "outputs": []
    },
    {
      "cell_type": "code",
      "metadata": {
        "id": "PtsscMyTiUYb"
      },
      "source": [
        ""
      ],
      "execution_count": null,
      "outputs": []
    },
    {
      "cell_type": "code",
      "metadata": {
        "id": "lUnB9dNViUa9"
      },
      "source": [
        ""
      ],
      "execution_count": null,
      "outputs": []
    },
    {
      "cell_type": "code",
      "metadata": {
        "id": "L3_tcHkmiUdf"
      },
      "source": [
        ""
      ],
      "execution_count": null,
      "outputs": []
    },
    {
      "cell_type": "code",
      "metadata": {
        "id": "Ag5AJvaxiUif"
      },
      "source": [
        ""
      ],
      "execution_count": null,
      "outputs": []
    },
    {
      "cell_type": "code",
      "metadata": {
        "id": "HUDbr4CKiUlC"
      },
      "source": [
        ""
      ],
      "execution_count": null,
      "outputs": []
    },
    {
      "cell_type": "code",
      "metadata": {
        "id": "2mqIYEMglIE2"
      },
      "source": [
        ""
      ],
      "execution_count": null,
      "outputs": []
    },
    {
      "cell_type": "code",
      "metadata": {
        "id": "Fhtw_Kbme-04"
      },
      "source": [
        "#--------------------------------------------------------------------------------------"
      ],
      "execution_count": null,
      "outputs": []
    },
    {
      "cell_type": "code",
      "metadata": {
        "id": "E0bDqd9he-04"
      },
      "source": [
        ""
      ],
      "execution_count": null,
      "outputs": []
    },
    {
      "cell_type": "code",
      "metadata": {
        "id": "kxwcC9KSe-04"
      },
      "source": [
        "theta=Theta\n",
        "phi=Phi\n",
        "\n",
        "mk = np.array([-1/sqrt(2),0,1/sqrt(2)])\n",
        "\n",
        "mzk=np.array([0,1])\n",
        "\n",
        "\n",
        "x10=( 0.5* (1-cos(phi)*sin(theta)), 0 , 0.5* (1+cos(phi)*sin(theta)))\n",
        "x20=( 0.5* (cos(theta/2))**2, (sin(theta/2))**2, 0.5* (cos(theta/2))**2)\n",
        "x30=( 0.5* (cos(theta/2))**2, (sin(theta/2))**2, 0.5* (cos(theta/2))**2)\n",
        "x21=( 0.5* (sin(theta/2))**2, (cos(theta/2))**2, 0.5* (sin(theta/2))**2)\n",
        "x31=( 0.5* (sin(theta/2))**2, (cos(theta/2))**2, 0.5* (sin(theta/2))**2)\n",
        "x32=(0,1,0)\n",
        "\n",
        "y10=( 0.5* (1-sin(phi)*sin(theta)), 0 , 0.5* (1+sin(phi)*sin(theta)))\n",
        "y20=( 0.5* (cos(theta/2))**2, (sin(theta/2))**2, 0.5* (cos(theta/2))**2)\n",
        "y30=( 0.5* (cos(theta/2))**2, (sin(theta/2))**2, 0.5* (cos(theta/2))**2)\n",
        "y21=( 0.5* (sin(theta/2))**2, (cos(theta/2))**2, 0.5* (sin(theta/2))**2)\n",
        "y31=( 0.5* (sin(theta/2))**2, (cos(theta/2))**2, 0.5* (sin(theta/2))**2)\n",
        "y32=(0,1,0)\n",
        "\n",
        "z0=((sin(theta/2))**2,(cos(theta/2))**2)\n",
        "z1=((cos(theta/2))**2,(sin(theta/2))**2)\n",
        "z2=(1,0)\n",
        "\n",
        "\n",
        "@jit \n",
        "def sum_rand_vect(N=N):\n",
        "    \n",
        "    Sum=np.zeros(15)\n",
        "    \n",
        "    for j in range(N):\n",
        "        vx10=np.random.choice(mk,1,p=x10)[0]\n",
        "        vx20=np.random.choice(mk,1,p=x20)[0]\n",
        "        vx30=np.random.choice(mk,1,p=x30)[0]\n",
        "        vx21=np.random.choice(mk,1,p=x21)[0]\n",
        "        vx31=np.random.choice(mk,1,p=x31)[0]\n",
        "        vx32=np.random.choice(mk,1,p=x32)[0]\n",
        "    \n",
        "        vy10=np.random.choice(mk,1,p=y10)[0]\n",
        "        vy20=np.random.choice(mk,1,p=y20)[0]\n",
        "        vy30=np.random.choice(mk,1,p=y30)[0]\n",
        "        vy21=np.random.choice(mk,1,p=y21)[0]\n",
        "        vy31=np.random.choice(mk,1,p=y31)[0]\n",
        "        vy32=np.random.choice(mk,1,p=y32)[0]\n",
        "        \n",
        "        vz0=np.random.choice(mzk,1,p=z0)[0]  #z10\n",
        "        vz1=np.random.choice(mzk,1,p=z1)[0]  #z21\n",
        "        vz2=np.random.choice(mzk,1,p=z2)[0]  #z32\n",
        "        \n",
        "        \n",
        "        Part_res=np.array([vx10,vx20,vx30,vx21,vx31,vx32,vy10,vy20,vy30,vy21,vy31, vy32,vz0,vz1,vz2])\n",
        "        \n",
        "        Sum=Sum+Part_res\n",
        "    \n",
        "    return Sum\n"
      ],
      "execution_count": null,
      "outputs": []
    },
    {
      "cell_type": "code",
      "metadata": {
        "id": "fo6kp3YCe-04"
      },
      "source": [
        ""
      ],
      "execution_count": null,
      "outputs": []
    },
    {
      "cell_type": "code",
      "metadata": {
        "id": "IrTc21LKe-04"
      },
      "source": [
        "def trayectory_col_cum(N=N,Stochastic=Stochastic):\n",
        "    sqrtdt = np.sqrt(dt)*Stochastic\n",
        "    \n",
        "    Results =zeros((19, n))\n",
        "    \n",
        "    Results[15][0] = np.random.normal(0, 0.5)\n",
        "    Results[16][0] = np.random.normal(0, 0.5)\n",
        "    Results[17][0] = np.random.normal(0, 0.5)\n",
        "    Results[18][0] = np.random.normal(0, 0.5)\n",
        "    \n",
        "    \n",
        "    Arr=sum_rand_vect(N)\n",
        "    \n",
        "    \n",
        "    Results[0][0] =Arr[0]  #x10  \n",
        "    Results[1][0] =Arr[1]  #x20\n",
        "    Results[2][0] =Arr[2]  #x30\n",
        "    Results[3][0] =Arr[3]  #x21\n",
        "    Results[4][0] =Arr[4]  #x31\n",
        "    Results[5][0] =Arr[5]  #x32\n",
        "        \n",
        "    Results[6][0] =Arr[6]  #y10\n",
        "    Results[7][0] =Arr[7] #y20\n",
        "    Results[8][0] =Arr[8]  #y30\n",
        "    Results[9][0] =Arr[9]  #y21\n",
        "    Results[10][0]=Arr[10]  #y31\n",
        "    Results[11][0]=Arr[11]  #y32\n",
        "        \n",
        "    Results[12][0]=Arr[12]  #z0\n",
        "    Results[13][0]=Arr[13]  #z2\n",
        "    Results[14][0]=Arr[14]  #z3\n",
        "    \n",
        "    \n",
        "    for t in range(n-1):\n",
        "        \n",
        "        Normal_VA_1=random.randn() #np.random.normal(0, 1)\n",
        "        Normal_VA_2=random.randn() #np.random.normal(0, 1)\n",
        "        Normal_VA_3=random.randn() #np.random.normal(0, 1)\n",
        "        Normal_VA_4=random.randn() #np.random.normal(0, 1)\n",
        "        \n",
        "        \n",
        "        alpRx=Results[15][t]\n",
        "        alpRy=Results[16][t]\n",
        "        alpLx=Results[17][t]\n",
        "        alpLy=Results[18][t]\n",
        "            \n",
        "        s10x=Results[0][t]   #x10\n",
        "        s20x=Results[1][t]   #x20\n",
        "        s30x=Results[2][t]   #x30  \n",
        "        s21x=Results[3][t]   #x21 \n",
        "        s31x=Results[4][t]   #x31\n",
        "        s32x=Results[5][t]   #x32\n",
        "            \n",
        "        s10y=Results[6][t]   #y10\n",
        "        s20y=Results[7][t]   #y20\n",
        "        s30y=Results[8][t]   #y30\n",
        "        s21y=Results[9][t]   #y21\n",
        "        s31y=Results[10][t]  #y31\n",
        "        s32y=Results[11][t]  #y32\n",
        "            \n",
        "        s0z=Results[12][t]   #z0\n",
        "        s1z=Results[13][t]   #z1\n",
        "        s2z=Results[14][t]   #z2\n",
        "            \n",
        "        # alpRx=Results[15*N][t]\n",
        "        # alpRy=Results[15*N+1][t]\n",
        "        # alpLx=Results[15*N+2][t]\n",
        "        # alpLy=Results[15*N+3][t]\n",
        "        \n",
        "        \n",
        "        Results[15][t+1] = alpRx-dt*DeltaR*alpRy-dt*(KapR/2)*alpRx+np.sqrt(KapR/4)*sqrtdt * Normal_VA_1 +(gR/sqrt(2))*dt*s30y\n",
        "            \n",
        "        Results[16][t+1] = alpRy+dt*DeltaR*alpRx-dt*(KapR/2)*alpRy+np.sqrt(KapR/4)*sqrtdt * Normal_VA_2 -(gR/sqrt(2))*dt*s30x\n",
        "             \n",
        "        Results[17][t+1] = alpLx -dt*DeltaL*alpLy-dt*(KapL/2)*alpLx+np.sqrt(KapL/4)*sqrtdt * Normal_VA_3 +(gL/sqrt(2))*dt*s21y \n",
        "        \n",
        "        Results[18][t+1] = alpLy +dt*DeltaL*alpLx-dt*(KapL/2)*alpLy+np.sqrt(KapL/4)*sqrtdt * Normal_VA_4 -(gL/sqrt(2))*dt*s21x \n",
        "         \n",
        "      \n",
        "        \n",
        "        Results[0][t+1] = s10x  +dt*(-gR)*(-alpRx*s31y+alpRy*s31x) +dt*(OmegaR/2)*s31y-\\\n",
        "            dt*gL*(-alpLx*s20y+alpLy*s20x)+dt*(OmegaL/2)*s20y\n",
        "            \n",
        "        Results[1][t+1] = s20x  +dt*(-gR)*(-alpRx*s32y+alpRy*s32x) +dt*(OmegaR/2)*s32y+\\\n",
        "            dt*gL*(alpLx*s10y+alpLy*s10x)+dt*(OmegaL/2)*s10y\n",
        "            \n",
        "        Results[2][t+1] = s30x  +dt*(-sqrt(2)*gR)*alpRy*(N-s2z-s1z-2*s0z)\n",
        "            \n",
        "        Results[3][t+1] = s21x  +dt*(-sqrt(2)*gL)*alpLy*(s2z-s1z)\n",
        "            \n",
        "        Results[4][t+1] = s31x  +dt*gR*(alpRy*s10x-alpRx*s10y)+dt*(-OmegaR/2)*s10y-\\\n",
        "            dt*gL*(alpLx*s32y+alpLy*s32x)+dt*(-OmegaL/2)*s32y    \n",
        "            \n",
        "        Results[5][t+1] = s32x  +dt*gR*(-alpRx*s20y+alpRy*s20x)+dt*(-OmegaR/2)*s20y+\\\n",
        "            dt*gL*(-alpLx*s31y+alpLy*s31x)+dt*(-OmegaL/2)*s31y\n",
        "        \n",
        "        Results[6][t+1] = s10y  +dt*(gR)*(alpRx*s31x+alpRy*s31y)+dt*(OmegaR/2)*s31x-\\\n",
        "            dt*gL*(alpLx*s20x+alpLy*s20y)-dt*(OmegaL/2)*s20x\n",
        "        \n",
        "        Results[7][t+1] = s20y  +dt*(gR)*(alpRx*s32x+alpRy*s32y)+dt*(OmegaR/2)*s32x-\\\n",
        "            dt*gL*(alpLx*s10x-alpLy*s10y)+dt*(-OmegaL/2)*s10x\n",
        "\n",
        "        Results[8][t+1] = s30y  +dt*(2*gR*alpRx+OmegaR)*( N-s2z-s1z-2*s0z  )/sqrt(2)\n",
        "                \n",
        "        Results[9][t+1] = s21y  +dt*(2*gL*alpLx+OmegaL)*(s2z-s1z)/sqrt(2)\n",
        "        \n",
        "        Results[10][t+1] = s31y - dt*gR*(alpRx*s10x+alpRy*s10y)-dt*(OmegaR/2)*s10x+\\\n",
        "            dt*gL*(alpLx*s32x-alpLy*s32y)+dt*(OmegaL/2)*s32x\n",
        "            \n",
        "        Results[11][t+1] = s32y + dt*(-gR)*(alpRx*s20x+alpRy*s20y)-dt*(OmegaR/2)*s20x+\\\n",
        "            dt*gL*(alpLx*s31x+alpLy*s31y)+dt*(OmegaL/2)*s31x\n",
        "        \n",
        "        Results[12][t+1] = s0z+ dt*(sqrt(2))*(gR*(alpRx*s30y-alpRy*s30x)+ (OmegaR/2)*s30y )\n",
        "        \n",
        "        Results[13][t+1] = s1z+ dt*(sqrt(2))*(gL*(alpLx*s21y-alpLy*s21x)+ (OmegaL/2)*s21y )\n",
        "            \n",
        "        Results[14][t+1] = s2z+ dt*(-sqrt(2))*(gL*(-alpLy*s21x+alpLx*s21y)+ (OmegaL/2)*s21y )\n",
        "            \n",
        "\n",
        "            \n",
        "    return Results\n"
      ],
      "execution_count": null,
      "outputs": []
    },
    {
      "cell_type": "code",
      "metadata": {
        "id": "wMBvZjnre-05"
      },
      "source": [
        "%timeit trayectory_col_cum(15,1)"
      ],
      "execution_count": null,
      "outputs": []
    },
    {
      "cell_type": "code",
      "metadata": {
        "id": "iNptqyeye-05"
      },
      "source": [
        ""
      ],
      "execution_count": null,
      "outputs": []
    },
    {
      "cell_type": "code",
      "metadata": {
        "id": "rqEoh2Hne-05"
      },
      "source": [
        ""
      ],
      "execution_count": null,
      "outputs": []
    },
    {
      "cell_type": "code",
      "metadata": {
        "id": "EgTIC2SFe-05"
      },
      "source": [
        ""
      ],
      "execution_count": null,
      "outputs": []
    },
    {
      "cell_type": "code",
      "metadata": {
        "id": "MUaGDjl4e-05"
      },
      "source": [
        ""
      ],
      "execution_count": null,
      "outputs": []
    },
    {
      "cell_type": "code",
      "metadata": {
        "id": "mMYI9ESse-05"
      },
      "source": [
        ""
      ],
      "execution_count": null,
      "outputs": []
    },
    {
      "cell_type": "code",
      "metadata": {
        "id": "EJ0KeaX5e-05"
      },
      "source": [
        ""
      ],
      "execution_count": null,
      "outputs": []
    },
    {
      "cell_type": "code",
      "metadata": {
        "id": "I_0-V5tne-05"
      },
      "source": [
        ""
      ],
      "execution_count": null,
      "outputs": []
    },
    {
      "cell_type": "code",
      "metadata": {
        "id": "Z7_hbhaee-05"
      },
      "source": [
        ""
      ],
      "execution_count": null,
      "outputs": []
    },
    {
      "cell_type": "code",
      "metadata": {
        "id": "cEDw4Tqxe-05"
      },
      "source": [
        ""
      ],
      "execution_count": null,
      "outputs": []
    },
    {
      "cell_type": "code",
      "metadata": {
        "id": "G4WuqKroe-05"
      },
      "source": [
        ""
      ],
      "execution_count": null,
      "outputs": []
    },
    {
      "cell_type": "code",
      "metadata": {
        "id": "rqBe9bwMe-05"
      },
      "source": [
        ""
      ],
      "execution_count": null,
      "outputs": []
    },
    {
      "cell_type": "code",
      "metadata": {
        "id": "sJbTbAOhe-05"
      },
      "source": [
        ""
      ],
      "execution_count": null,
      "outputs": []
    },
    {
      "cell_type": "code",
      "metadata": {
        "id": "f-bEwCw3e-05"
      },
      "source": [
        ""
      ],
      "execution_count": null,
      "outputs": []
    },
    {
      "cell_type": "code",
      "metadata": {
        "id": "MEw7xxJoe-06"
      },
      "source": [
        ""
      ],
      "execution_count": null,
      "outputs": []
    },
    {
      "cell_type": "code",
      "metadata": {
        "id": "MpDAn62ee-06"
      },
      "source": [
        ""
      ],
      "execution_count": null,
      "outputs": []
    },
    {
      "cell_type": "code",
      "metadata": {
        "id": "07jAI8SSe-06"
      },
      "source": [
        ""
      ],
      "execution_count": null,
      "outputs": []
    },
    {
      "cell_type": "code",
      "metadata": {
        "id": "HAk5LUMle-06"
      },
      "source": [
        ""
      ],
      "execution_count": null,
      "outputs": []
    },
    {
      "cell_type": "code",
      "metadata": {
        "id": "4irVohzGe-06"
      },
      "source": [
        ""
      ],
      "execution_count": null,
      "outputs": []
    },
    {
      "cell_type": "code",
      "metadata": {
        "id": "D_JY0WOHe-06"
      },
      "source": [
        ""
      ],
      "execution_count": null,
      "outputs": []
    },
    {
      "cell_type": "code",
      "metadata": {
        "id": "1E4D76jbe-06"
      },
      "source": [
        ""
      ],
      "execution_count": null,
      "outputs": []
    },
    {
      "cell_type": "code",
      "metadata": {
        "id": "BfQz2NRje-06"
      },
      "source": [
        ""
      ],
      "execution_count": null,
      "outputs": []
    },
    {
      "cell_type": "code",
      "metadata": {
        "id": "N3KqVr36e-06"
      },
      "source": [
        ""
      ],
      "execution_count": null,
      "outputs": []
    },
    {
      "cell_type": "code",
      "metadata": {
        "id": "TuxZYxcde-06"
      },
      "source": [
        ""
      ],
      "execution_count": null,
      "outputs": []
    },
    {
      "cell_type": "code",
      "metadata": {
        "id": "niu8og0Oe-06"
      },
      "source": [
        ""
      ],
      "execution_count": null,
      "outputs": []
    },
    {
      "cell_type": "code",
      "metadata": {
        "id": "Wu1whtK5e-06"
      },
      "source": [
        ""
      ],
      "execution_count": null,
      "outputs": []
    },
    {
      "cell_type": "code",
      "metadata": {
        "id": "SsbLge-Me-06"
      },
      "source": [
        ""
      ],
      "execution_count": null,
      "outputs": []
    },
    {
      "cell_type": "code",
      "metadata": {
        "id": "QPA4oNPNe-06"
      },
      "source": [
        ""
      ],
      "execution_count": null,
      "outputs": []
    },
    {
      "cell_type": "code",
      "metadata": {
        "id": "p5YTzqWMe-06"
      },
      "source": [
        ""
      ],
      "execution_count": null,
      "outputs": []
    },
    {
      "cell_type": "code",
      "metadata": {
        "id": "Z2eGkxSTe-07"
      },
      "source": [
        "np.array([x10,x20,x30,x21,x31, x32,y10,y20,y30,y21,y31, y32,z0,z1,z2])  #z32]"
      ],
      "execution_count": null,
      "outputs": []
    },
    {
      "cell_type": "code",
      "metadata": {
        "id": "WL_RFOfse-07"
      },
      "source": [
        ""
      ],
      "execution_count": null,
      "outputs": []
    },
    {
      "cell_type": "code",
      "metadata": {
        "id": "ACdmhEwGe-07"
      },
      "source": [
        "rand_vect()"
      ],
      "execution_count": null,
      "outputs": []
    },
    {
      "cell_type": "code",
      "metadata": {
        "id": "gUnu8v9Qe-07"
      },
      "source": [
        "np.random.choice(mk,1,p=x10)[0]"
      ],
      "execution_count": null,
      "outputs": []
    },
    {
      "cell_type": "code",
      "metadata": {
        "id": "Xsu7pTOYe-07"
      },
      "source": [
        ""
      ],
      "execution_count": null,
      "outputs": []
    },
    {
      "cell_type": "code",
      "metadata": {
        "id": "LYO0Ejhme-07"
      },
      "source": [
        ""
      ],
      "execution_count": null,
      "outputs": []
    },
    {
      "cell_type": "code",
      "metadata": {
        "id": "PIju83sTe-07"
      },
      "source": [
        ""
      ],
      "execution_count": null,
      "outputs": []
    },
    {
      "cell_type": "code",
      "metadata": {
        "id": "-05opFDIe-07"
      },
      "source": [
        ""
      ],
      "execution_count": null,
      "outputs": []
    },
    {
      "cell_type": "code",
      "metadata": {
        "id": "71l0q7zue-07"
      },
      "source": [
        ""
      ],
      "execution_count": null,
      "outputs": []
    },
    {
      "cell_type": "code",
      "metadata": {
        "id": "0Lnk2uhVe-07"
      },
      "source": [
        ""
      ],
      "execution_count": null,
      "outputs": []
    },
    {
      "cell_type": "code",
      "metadata": {
        "id": "5eFjXTG6e-07"
      },
      "source": [
        ""
      ],
      "execution_count": null,
      "outputs": []
    },
    {
      "cell_type": "code",
      "metadata": {
        "id": "eUFDpcH3e-07"
      },
      "source": [
        ""
      ],
      "execution_count": null,
      "outputs": []
    },
    {
      "cell_type": "code",
      "metadata": {
        "id": "3hCZQBmEe-07"
      },
      "source": [
        ""
      ],
      "execution_count": null,
      "outputs": []
    },
    {
      "cell_type": "code",
      "metadata": {
        "id": "yDrWnDkYe-08"
      },
      "source": [
        ""
      ],
      "execution_count": null,
      "outputs": []
    },
    {
      "cell_type": "code",
      "metadata": {
        "id": "HwHjQAWHe-08"
      },
      "source": [
        ""
      ],
      "execution_count": null,
      "outputs": []
    },
    {
      "cell_type": "code",
      "metadata": {
        "id": "64bXPNdEe-08"
      },
      "source": [
        ""
      ],
      "execution_count": null,
      "outputs": []
    },
    {
      "cell_type": "code",
      "metadata": {
        "id": "AeeQIoqEe-08"
      },
      "source": [
        ""
      ],
      "execution_count": null,
      "outputs": []
    },
    {
      "cell_type": "code",
      "metadata": {
        "id": "T39VlBBje-08"
      },
      "source": [
        ""
      ],
      "execution_count": null,
      "outputs": []
    },
    {
      "cell_type": "code",
      "metadata": {
        "id": "9DFanIeWe-08"
      },
      "source": [
        ""
      ],
      "execution_count": null,
      "outputs": []
    },
    {
      "cell_type": "code",
      "metadata": {
        "id": "HA78iB12e-08"
      },
      "source": [
        ""
      ],
      "execution_count": null,
      "outputs": []
    },
    {
      "cell_type": "code",
      "metadata": {
        "id": "se18Mf52e-08"
      },
      "source": [
        ""
      ],
      "execution_count": null,
      "outputs": []
    },
    {
      "cell_type": "code",
      "metadata": {
        "id": "uIaI9bxUe-08"
      },
      "source": [
        ""
      ],
      "execution_count": null,
      "outputs": []
    },
    {
      "cell_type": "code",
      "metadata": {
        "id": "8tWVojtke-08"
      },
      "source": [
        ""
      ],
      "execution_count": null,
      "outputs": []
    },
    {
      "cell_type": "code",
      "metadata": {
        "id": "TdJL4xV5e-08"
      },
      "source": [
        ""
      ],
      "execution_count": null,
      "outputs": []
    },
    {
      "cell_type": "code",
      "metadata": {
        "id": "32NK4lkCe-08"
      },
      "source": [
        ""
      ],
      "execution_count": null,
      "outputs": []
    },
    {
      "cell_type": "code",
      "metadata": {
        "id": "rq6eGuTre-08"
      },
      "source": [
        ""
      ],
      "execution_count": null,
      "outputs": []
    },
    {
      "cell_type": "code",
      "metadata": {
        "id": "5X88gDXbe-08"
      },
      "source": [
        ""
      ],
      "execution_count": null,
      "outputs": []
    },
    {
      "cell_type": "code",
      "metadata": {
        "id": "B9-heuZ5e-08"
      },
      "source": [
        ""
      ],
      "execution_count": null,
      "outputs": []
    },
    {
      "cell_type": "code",
      "metadata": {
        "id": "hHVvzRhce-08"
      },
      "source": [
        ""
      ],
      "execution_count": null,
      "outputs": []
    },
    {
      "cell_type": "code",
      "metadata": {
        "id": "AbKhZsHse-08"
      },
      "source": [
        "matplotlib.rcParams['figure.figsize'] = (10.0, 6.5)\n",
        "\n",
        "j_max = N/2.\n",
        "label_size = 20\n",
        "\n",
        "\n",
        "fig3 = plt.figure(3)\n",
        "plt.title(r'Quantum Evolution of $<S_z>$', fontsize = label_size)\n",
        "plt.xlabel(r'$t$', fontsize = label_size)\n",
        "#plt.ylabel(r'$\\langle a^\\dagger a\\rangle(t)$', fontsize = label_size)\n",
        "plt.ylabel(r'$\\langle S_k \\rangle(t)$', fontsize = label_size)\n",
        "\n",
        "\n",
        "plt.plot(times, Result_varDDTWA_Col[12]/N+Result_varDDTWA_Col[13]/N,\"--\",label=\"Population g DissTWA Col\")\n",
        "plt.plot(times, Mean_field_res[12]/N+Mean_field_res[13]/N,\"-\",label=\"Population g Mean-Field\")\n",
        "plt.plot(times, 2*Result_varDDTWA_EM[12]/N+2*Result_varDDTWA_EM[13]/N,\"-\",label=\"Population g DDTWA\")\n",
        "\n",
        "\n",
        "#plt.plot(times, Result_varDTWA_Col[12]/2,\"-\",label=\"$S^z_{0}$ TWA Col\")\n",
        "\n",
        "\n",
        "\n",
        "\n",
        "plt.plot(times, 0*times,\"-\",label=\"$<S_k>=0$\")\n",
        "\n",
        "#plt.legend(fontsize = label_size)\n",
        "plt.legend(loc=\"upper right\")\n",
        "plt.show()\n",
        "plt.close()"
      ],
      "execution_count": null,
      "outputs": []
    },
    {
      "cell_type": "code",
      "metadata": {
        "id": "dxpAxVQle-09"
      },
      "source": [
        ""
      ],
      "execution_count": null,
      "outputs": []
    },
    {
      "cell_type": "code",
      "metadata": {
        "id": "oBgagrv6e-09"
      },
      "source": [
        ""
      ],
      "execution_count": null,
      "outputs": []
    },
    {
      "cell_type": "code",
      "metadata": {
        "id": "fvhWOvn1e-09"
      },
      "source": [
        ""
      ],
      "execution_count": null,
      "outputs": []
    },
    {
      "cell_type": "code",
      "metadata": {
        "id": "L7jdFo6re-09"
      },
      "source": [
        ""
      ],
      "execution_count": null,
      "outputs": []
    },
    {
      "cell_type": "markdown",
      "metadata": {
        "id": "6tFhUTAxJHsU"
      },
      "source": [
        "## Results DisTWA and TWA Collective"
      ]
    },
    {
      "cell_type": "code",
      "metadata": {
        "id": "mnIYdZtUoNfh"
      },
      "source": [
        ""
      ],
      "execution_count": null,
      "outputs": []
    },
    {
      "cell_type": "code",
      "metadata": {
        "id": "pz_wzj3ryDsU",
        "scrolled": true
      },
      "source": [
        "matplotlib.rcParams['figure.figsize'] = (10.0, 6.5)\n",
        "\n",
        "j_max = N/2.\n",
        "label_size = 20\n",
        "\n",
        "\n",
        "fig3 = plt.figure(3)\n",
        "plt.title(r'Quantum Evolution of $S_x$', fontsize = label_size)\n",
        "plt.xlabel(r'$t$', fontsize = label_size)\n",
        "#plt.ylabel(r'$\\langle a^\\dagger a\\rangle(t)$', fontsize = label_size)\n",
        "plt.ylabel(r'$\\langle S_k \\rangle(t)$', fontsize = label_size)\n",
        "\n",
        "\n",
        "matplotlib.rcParams['figure.figsize'] = (10.0, 6.5)\n",
        "\n",
        "j_max = N/2.\n",
        "label_size = 20\n",
        "\n",
        "\n",
        "fig3 = plt.figure(3)\n",
        "plt.title(r'Quantum Evolution of $S_x$', fontsize = label_size)\n",
        "plt.xlabel(r'$t$', fontsize = label_size)\n",
        "#plt.ylabel(r'$\\langle a^\\dagger a\\rangle(t)$', fontsize = label_size)\n",
        "plt.ylabel(r'$\\langle S_k \\rangle(t)$', fontsize = label_size)\n",
        "\n",
        "\n",
        "plt.plot(times, Result_varDDTWA_Col[0]/sqrt(2),\"-\",label=\"$S^x_{10}$ DisTWA Col\")\n",
        "\n",
        "#plt.plot(times, Result_varDDTWA_Col[1]/sqrt(2),\"-\",label=\"$S^x_{20}$ DisTWA Col\")\n",
        "\n",
        "#plt.plot(times, Result_varDDTWA_Col[2]/sqrt(2),\"-\",label=\"$S^x_{30}$ DisTWA Col\")\n",
        "\n",
        "#plt.plot(times, Result_varDDTWA_Col[3]/sqrt(2),\"-\",label=\"$S^x_{21}$ DisTWA Col\")\n",
        "\n",
        "#plt.plot(times, Result_varDDTWA_Col[4]/sqrt(2),\"-\",label=\"$S^x_{31}$ DisTWA Col\")\n",
        "\n",
        "#plt.plot(times, Result_varDDTWA_Col[5]/sqrt(2),\"-\",label=\"$S^x_{32}$ DisTWA Col\")\n",
        "\n",
        "\n",
        "\n",
        "#plt.plot(times, Result_varDTWA_Col [0]/sqrt(2),\"--\",label=\"$S^x_{10}$ TWA Col\")\n",
        "\n",
        "#plt.plot(times, Result_varDTWA_Col [1]/sqrt(2),\"--\",label=\"$S^x_{20}$ TWA Col\")\n",
        "\n",
        "#plt.plot(times, Result_varDTWA_Col [2]/sqrt(2),\"--\",label=\"$S^x_{30}$ TWA Col\")\n",
        "\n",
        "#plt.plot(times,Result_varDTWA_Col [3]/sqrt(2),\"--\",label=\"$S^x_{21}$ TWA Col\")\n",
        "\n",
        "#plt.plot(times, Result_varDTWA_Col [4]/sqrt(2),\"--\",label=\"$S^x_{31}$ TWA Col\")\n",
        "\n",
        "#plt.plot(times, Result_varDTWA_Col [5]/sqrt(2),\"--\",label=\"$S^x_{32}$ TWA Col\")\n",
        "\n",
        "\n",
        "\n",
        "\n",
        "plt.plot(times, Mean_field_res[0]/sqrt(2),\"-\",label=\"$S^x_{10}$ Mean-Field\")\n",
        "\n",
        "#plt.plot(times, Mean_field_res[1]/sqrt(2),\"-\",label=\"$S^x_{20}$ Mean-Field\")\n",
        "\n",
        "#plt.plot(times, Mean_field_res[2]/sqrt(2),\"-\",label=\"$S^x_{30}$ Mean-Field\")\n",
        "\n",
        "#plt.plot(times, Mean_field_res[3]/sqrt(2),\"-\",label=\"$S^x_{21}$ Mean-Field\")\n",
        "\n",
        "#plt.plot(times, Mean_field_res[4]/sqrt(2),\"-\",label=\"$S^x_{31}$ Mean-Field\")\n",
        "\n",
        "#plt.plot(times, Mean_field_res[5]/sqrt(2),\"-\",label=\"$S^x_{32}$ Mean-Field\")\n",
        "\n",
        "\n",
        "\n",
        "\n",
        "plt.plot(times, Result_varDDTWA_EM[0],\"-\",label=\"$S^x_{10}$ DDTWA\")\n",
        "\n",
        "#plt.plot(times, Result_varDDTWA_EM[1],\"-\",label=\"$S^x_{20}$ DDTWA\")\n",
        "\n",
        "#plt.plot(times, Result_varDDTWA_EM[2],\"-\",label=\"$S^x_{30}$ DDTWA\")\n",
        "\n",
        "#plt.plot(times, Result_varDDTWA_EM[3],\"-\",label=\"$S^x_{21}$ DDTWA\")\n",
        "\n",
        "#plt.plot(times, Result_varDDTWA_EM[4],\"-\",label=\"$S^x_{31}$ DDTWA\")\n",
        "\n",
        "#plt.plot(times, Result_varDDTWA_EM[5],\"-\",label=\"$S^x_{32}$ DDTWA\")\n",
        "\n",
        "\n",
        "\n",
        "\n",
        "plt.plot(times, 0*times,\"-\",label=\"$<S_k>=0$\")\n",
        "\n",
        "#plt.legend(fontsize = label_size)\n",
        "plt.legend(loc=\"upper right\")\n",
        "plt.show()\n",
        "plt.close()"
      ],
      "execution_count": null,
      "outputs": []
    },
    {
      "cell_type": "code",
      "metadata": {
        "id": "XczeJJ3UXOEo"
      },
      "source": [
        ""
      ],
      "execution_count": null,
      "outputs": []
    },
    {
      "cell_type": "code",
      "metadata": {
        "id": "JwqRKxiLyDsV"
      },
      "source": [
        "matplotlib.rcParams['figure.figsize'] = (10.0, 6.5)\n",
        "\n",
        "j_max = N/2.\n",
        "label_size = 20\n",
        "\n",
        "\n",
        "fig3 = plt.figure(3)\n",
        "plt.title(r'Quantum Evolution of $S_y$', fontsize = label_size)\n",
        "plt.xlabel(r'$t$', fontsize = label_size)\n",
        "#plt.ylabel(r'$\\langle a^\\dagger a\\rangle(t)$', fontsize = label_size)\n",
        "plt.ylabel(r'$\\langle S_k \\rangle(t)$', fontsize = label_size)\n",
        "\n",
        "\n",
        "#plt.plot(times, Result_varDDTWA_Col[6]/sqrt(2),\"--\",label=\"$S^y_{10}$ DisTWA Col\")\n",
        "#plt.plot(times, Result_varDTWA_Col[6]/sqrt(2),\"-\",label=\"$S^y_{10}$ TWA Col\")\n",
        "\n",
        "\n",
        "\n",
        "#plt.plot(times, Result_varDDTWA_Col[7]/sqrt(2),\"--\",label=\"$S^y_{20}$ DisTWA Col\")\n",
        "#plt.plot(times, Result_varDTWA_Col[7]/sqrt(2),\"-\",label=\"$S^y_{20}$ TWA Col\")\n",
        "\n",
        "\n",
        "\n",
        "#plt.plot(times, Result_varDDTWA_Col[8]/sqrt(2),\"--\",label=\"$S^y_{30}$ DisTWA Col\")\n",
        "#plt.plot(times, Result_varDTWA_Col[8]/sqrt(2),\"-\",label=\"$S^y_{30}$ TWA Col\")\n",
        "\n",
        "\n",
        "\n",
        "#plt.plot(times, Result_varDDTWA_Col[9]/sqrt(2),\"--\",label=\"$S^y_{21}$ DisTWA Col\")\n",
        "#plt.plot(times, Result_varDTWA_Col[9]/sqrt(2),\"-\",label=\"$S^y_{21}$ TWA Col\")\n",
        "\n",
        "\n",
        "\n",
        "plt.plot(times, Result_varDDTWA_Col[10]/sqrt(2),\"--\",label=\"$S^y_{31}$ DisTWA Col\")\n",
        "#plt.plot(times, Result_varDTWA_Col[10]/sqrt(2),\"-\",label=\"$S^y_{31}$ TWA Col\")\n",
        "\n",
        "\n",
        "\n",
        "#plt.plot(times, Result_varDDTWA_Col[11]/sqrt(2),\"--\",label=\"$S^y_{32}$ DisTWA Col\")\n",
        "#plt.plot(times, Result_varDTWA_Col[11]/sqrt(2),\"-\",label=\"$S^y_{32}$ TWA Col EM\")\n",
        "\n",
        "\n",
        "\n",
        "\n",
        "\n",
        "\n",
        "#plt.plot(times, Mean_field_res[6]/sqrt(2),\"-\",label=\"$S^x_{10}$ Mean-Field\")\n",
        "\n",
        "#plt.plot(times, Mean_field_res[7]/sqrt(2),\"-\",label=\"$S^x_{20}$ Mean-Field\")\n",
        "\n",
        "#plt.plot(times, Mean_field_res[8]/sqrt(2),\"-\",label=\"$S^x_{30}$ Mean-Field\")\n",
        "\n",
        "#plt.plot(times, Mean_field_res[9]/sqrt(2),\"-\",label=\"$S^x_{21}$ Mean-Field\")\n",
        "\n",
        "plt.plot(times, Mean_field_res[10]/sqrt(2),\"-\",label=\"$S^x_{31}$ Mean-Field\")\n",
        "\n",
        "#plt.plot(times, Mean_field_res[11]/sqrt(2),\"-\",label=\"$S^x_{32}$ Mean-Field\")\n",
        "\n",
        "\n",
        "\n",
        "\n",
        "#plt.plot(times, Result_varDDTWA_EM[6],\"-\",label=\"$S^x_{10}$ DDTWA\")\n",
        "\n",
        "#plt.plot(times, Result_varDDTWA_EM[7],\"-\",label=\"$S^x_{20}$ DDTWA\")\n",
        "\n",
        "#plt.plot(times, Result_varDDTWA_EM[8],\"-\",label=\"$S^x_{30}$ DDTWA\")\n",
        "\n",
        "#plt.plot(times, Result_varDDTWA_EM[9],\"-\",label=\"$S^x_{21}$ DDTWA\")\n",
        "\n",
        "plt.plot(times, Result_varDDTWA_EM[10],\"-\",label=\"$S^x_{31}$ DDTWA\")\n",
        "\n",
        "#plt.plot(times, Result_varDDTWA_EM[11],\"-\",label=\"$S^x_{32}$ DDTWA\")\n",
        "\n",
        "\n",
        "\n",
        "plt.plot(times, 0*times,\"-\",label=\"$<S_k>=0$\")\n",
        "\n",
        "#plt.legend(fontsize = label_size)\n",
        "plt.legend(loc=\"upper right\")\n",
        "plt.show()\n",
        "plt.close()"
      ],
      "execution_count": null,
      "outputs": []
    },
    {
      "cell_type": "code",
      "metadata": {
        "id": "IjATwjrKyDsV"
      },
      "source": [
        "matplotlib.rcParams['figure.figsize'] = (10.0, 6.5)\n",
        "\n",
        "j_max = N/2.\n",
        "label_size = 20\n",
        "\n",
        "\n",
        "fig3 = plt.figure(3)\n",
        "plt.title(r'Quantum Evolution of $<S_z>$', fontsize = label_size)\n",
        "plt.xlabel(r'$t$', fontsize = label_size)\n",
        "#plt.ylabel(r'$\\langle a^\\dagger a\\rangle(t)$', fontsize = label_size)\n",
        "plt.ylabel(r'$\\langle S_k \\rangle(t)$', fontsize = label_size)\n",
        "\n",
        "\n",
        "plt.plot(times, Result_varDDTWA_Col[12]/2,\"--\",label=\"$S^z_{0}$ DisTWA Col\")\n",
        "#plt.plot(times, Result_varDTWA_Col[12]/2,\"-\",label=\"$S^z_{0}$ TWA Col\")\n",
        "\n",
        "plt.plot(times, Result_varDDTWA_Col[13]/2,\"--\",label=\"$S^z_{1}$ DisTWA Col\")\n",
        "#plt.plot(times, Result_varDTWA_Col[13]/2,\"-\",label=\"$S^z_{1}$ TWA Col\")\n",
        "\n",
        "plt.plot(times, Result_varDDTWA_Col[14]/2,\"--\",label=\"$S^z_{2}$ DisTWA Col\")\n",
        "#plt.plot(times, Result_varDTWA_Col[14]/2,\"-\",label=\"$S^z_{2}$ TWA Col\")\n",
        "\n",
        "\n",
        "\n",
        "plt.plot(times, Mean_field_res[12]/2,\"-\",label=\"$S^z_{0}$ Mean-Field\")\n",
        "plt.plot(times, Mean_field_res[13]/2,\"-\",label=\"$S^z_{1}$ Mean-Field\")\n",
        "plt.plot(times, Mean_field_res[14]/2,\"-\",label=\"$S^z_{2}$ Mean-Field\")\n",
        "\n",
        "\n",
        "\n",
        "plt.plot(times, Result_varDDTWA_EM[12],\"--\",label=\"$S^z_{0}$ DDTWA\")\n",
        "plt.plot(times, Result_varDDTWA_EM[13],\"--\",label=\"$S^z_{1}$ DDTWA\")\n",
        "plt.plot(times, Result_varDDTWA_EM[14],\"--\",label=\"$S^z_{2}$ DDTWA\")\n",
        "\n",
        "\n",
        "\n",
        "\n",
        "plt.plot(times, 0*times,\"-\",label=\"$<S_k>=0$\")\n",
        "\n",
        "#plt.legend(fontsize = label_size)\n",
        "plt.legend(loc=\"upper right\")\n",
        "plt.show()\n",
        "plt.close()"
      ],
      "execution_count": null,
      "outputs": []
    },
    {
      "cell_type": "code",
      "metadata": {
        "id": "6MUkD-q2e-0-"
      },
      "source": [
        "Result_varDDTWA_EM[12][-1]"
      ],
      "execution_count": null,
      "outputs": []
    },
    {
      "cell_type": "code",
      "metadata": {
        "id": "tPqeV8GUe-0-"
      },
      "source": [
        "plt.plot(times, Result_varDDTWA_EM[14],\"--\",label=\"$S^z_{0}$ DDTWA\")"
      ],
      "execution_count": null,
      "outputs": []
    },
    {
      "cell_type": "code",
      "metadata": {
        "id": "139igbG4e-0-"
      },
      "source": [
        ""
      ],
      "execution_count": null,
      "outputs": []
    },
    {
      "cell_type": "code",
      "metadata": {
        "id": "9xlLV9TxyDsV"
      },
      "source": [
        "matplotlib.rcParams['figure.figsize'] = (10.0, 6.5)\n",
        "\n",
        "j_max = N/2.\n",
        "label_size = 20\n",
        "\n",
        "\n",
        "fig3 = plt.figure(3)\n",
        "plt.title(r'Quantum Evolution of $<a_{j\\gamma}>$', fontsize = label_size)\n",
        "plt.xlabel(r'$t$', fontsize = label_size)\n",
        "#plt.ylabel(r'$\\langle a^\\dagger a\\rangle(t)$', fontsize = label_size)\n",
        "plt.ylabel(r'$\\langle a_{j\\gamma} \\rangle(t)$', fontsize = label_size)\n",
        "\n",
        "\n",
        "#plt.plot(times, Result_varDDTWA_Col[15],\"--\",label=\"$<a_{Rx}>$ DDTWA EM\")\n",
        "#plt.plot(times, Result_varDTWA_Col[15],\"-\",label=\"$<a_{Rx}>$ DTWA EM\")\n",
        "\n",
        "\n",
        "#plt.plot(times, Result_varDDTWA_Col[16],\"--\",label=\"$<a_{Ry}>$ DDTWA EM\")\n",
        "#plt.plot(times, Result_varDTWA_Col[16],\"-\",label=\"$<a_{Ry}>$ DTWA EM\")\n",
        "\n",
        "\n",
        "plt.plot(times, Result_varDDTWA_Col[17],\"--\",label=\"$<a_{Lx}>$ DDTWA EM\")\n",
        "#plt.plot(times, Result_varDTWA_Col[17],\"-\",label=\"$<a_{Lx}>$ DTWA EM\")\n",
        "\n",
        "\n",
        "#plt.plot(times, Result_varDDTWA_Col[18],\"--\",label=\"$<a_{Ly}>$ DDTWA EM\")\n",
        "#plt.plot(times, Result_varDTWA_Col[18],\"-\",label=\"$<a_{Ly}>$ DTWA EM\")\n",
        "\n",
        "\n",
        "\n",
        "\n",
        "#plt.plot(times, Mean_field_res[15],\"-\",label=\"$<a_{Rx}>$ Mean-Field\")\n",
        "#plt.plot(times, Mean_field_res[16],\"-\",label=\"$<a_{Ry}>$ Mean-Field\")\n",
        "plt.plot(times, Mean_field_res[17],\"-\",label=\"$<a_{Lx}>$ Mean-Field\")\n",
        "#plt.plot(times, Mean_field_res[18],\"-\",label=\"$<a_{Ly}>$ Mean-Field\")\n",
        "\n",
        "\n",
        "\n",
        "#plt.plot(times, Result_varDDTWA_EM[15],\"-\",label=\"$<a_{Rx}>$ DDTWA\")\n",
        "#plt.plot(times, Result_varDDTWA_EM[16],\"-\",label=\"$<a_{Ry}>$ DDTWA\")\n",
        "plt.plot(times, Result_varDDTWA_EM[17],\"-\",label=\"$<a_{Lx}>$ DDTWA\")\n",
        "#plt.plot(times, Result_varDDTWA_EM[18],\"-\",label=\"$<a_{Ly}>$ DDTWA\")\n",
        "\n",
        "\n",
        "\n",
        "\n",
        "plt.plot(times, 0*times,\"-\",label=\"$<a>=0$\")\n",
        "\n",
        "#plt.legend(fontsize = label_size)\n",
        "plt.legend(loc=\"upper right\")\n",
        "plt.show()\n",
        "plt.close()"
      ],
      "execution_count": null,
      "outputs": []
    },
    {
      "cell_type": "code",
      "metadata": {
        "id": "flKLWnwcyDsW"
      },
      "source": [
        ""
      ],
      "execution_count": null,
      "outputs": []
    },
    {
      "cell_type": "code",
      "metadata": {
        "id": "oc_GFlA_e-0-"
      },
      "source": [
        ""
      ],
      "execution_count": null,
      "outputs": []
    },
    {
      "cell_type": "code",
      "metadata": {
        "id": "pV-dDJGye-0_"
      },
      "source": [
        "#------------------------------------------------------------------------------------------------"
      ],
      "execution_count": null,
      "outputs": []
    },
    {
      "cell_type": "code",
      "metadata": {
        "id": "7CoxPt5Ve-0_"
      },
      "source": [
        "\n",
        "\n",
        "\n",
        "matplotlib.rcParams['figure.figsize'] = (10.0, 6.5)\n",
        "\n",
        "\n",
        "\n",
        "matplotlib.rcParams['text.usetex'] = False\n",
        "matplotlib.rcParams['mathtext.fontset'] = 'stix'\n",
        "matplotlib.rcParams['font.family'] = 'STIXGeneral'\n",
        "matplotlib.rcParams['font.size'] = 20\n",
        "matplotlib.rcParams['figure.figsize'] = (11.0, 8.0)\n",
        "\n",
        "\n",
        "\n",
        "j_max = N/2.\n",
        "label_size = 20\n",
        "\n",
        "\n",
        "fig3 = plt.figure(3)\n",
        "plt.title(r'Quantum Evolution of  $n_{g_{-1/2}}+n_{g_{1/2}}$', fontsize = label_size)\n",
        "plt.xlabel(r'$N\\Gamma t$', fontsize = label_size)\n",
        "#plt.ylabel(r'$\\langle a^\\dagger a\\rangle(t)$', fontsize = label_size)\n",
        "plt.ylabel(r'$\\langle S_k \\rangle(t)$', fontsize = label_size)\n",
        "\n",
        "\n",
        "plt.plot(times/5, Result_varDDTWA_Col[12]/60+Result_varDDTWA_Col[13]/60,\"--\",label=\"$n_{g_{-1/2}}+n_{g_{1/2}}$ DisTWA Col\")\n",
        "plt.plot(times/5, Result_varDTWA_Col[12]/60+Result_varDTWA_Col[13]/60,\"--\",label=\"$n_{g_{-1/2}}+n_{g_{1/2}}$ TWA Col\")\n",
        "plt.plot(times/5, Mean_field_res[12]/60+Mean_field_res[13]/60,\"-\",label=\"$n_{g_{-1/2}}+n_{g_{1/2}}$ Mean-Field\")\n",
        "plt.plot(times/5, Result_varDDTWA_EM[12]/30+Result_varDDTWA_EM[13]/30,\"--\",label=\"$n_{g_{-1/2}}+n_{g_{1/2}}$ DDTWA\")\n",
        "\n",
        "\n",
        "\n",
        "\n",
        "plt.plot(times/5, 0*times,\"-\",label=\"$<S_k>=0$\")\n",
        "\n",
        "#plt.legend(fontsize = label_size)\n",
        "plt.legend(loc=\"lower left\")\n",
        "plt.show()\n",
        "plt.close()"
      ],
      "execution_count": null,
      "outputs": []
    },
    {
      "cell_type": "code",
      "metadata": {
        "id": "LXCeFDAze-0_"
      },
      "source": [
        "N"
      ],
      "execution_count": null,
      "outputs": []
    },
    {
      "cell_type": "code",
      "metadata": {
        "id": "W-3I9u3Ce-0_"
      },
      "source": [
        "MF=Mean_field_res[12]/60+Mean_field_res[13]/60"
      ],
      "execution_count": null,
      "outputs": []
    },
    {
      "cell_type": "code",
      "metadata": {
        "id": "mr-n8Uxye-0_"
      },
      "source": [
        "MF[-1]"
      ],
      "execution_count": null,
      "outputs": []
    },
    {
      "cell_type": "code",
      "metadata": {
        "id": "IoCVDGvXe-1A"
      },
      "source": [
        "(1-0.9**2)**0.5"
      ],
      "execution_count": null,
      "outputs": []
    },
    {
      "cell_type": "code",
      "metadata": {
        "id": "EK3dLsuXe-1A"
      },
      "source": [
        ""
      ],
      "execution_count": null,
      "outputs": []
    },
    {
      "cell_type": "code",
      "metadata": {
        "id": "K0OMt_FSe-1A"
      },
      "source": [
        ""
      ],
      "execution_count": null,
      "outputs": []
    },
    {
      "cell_type": "code",
      "metadata": {
        "id": "q1bvadNOe-1A"
      },
      "source": [
        ""
      ],
      "execution_count": null,
      "outputs": []
    },
    {
      "cell_type": "code",
      "metadata": {
        "id": "K0qrTkAAe-1A"
      },
      "source": [
        ""
      ],
      "execution_count": null,
      "outputs": []
    },
    {
      "cell_type": "code",
      "metadata": {
        "id": "gbOXRGpWe-1A"
      },
      "source": [
        "matplotlib.rcParams['figure.figsize'] = (10.0, 6.5)\n",
        "\n",
        "j_max = N/2.\n",
        "label_size = 20\n",
        "\n",
        "\n",
        "fig3 = plt.figure(3)\n",
        "plt.title(r'Quantum Evolution of $<S_z>$', fontsize = label_size)\n",
        "plt.xlabel(r'$t$', fontsize = label_size)\n",
        "#plt.ylabel(r'$\\langle a^\\dagger a\\rangle(t)$', fontsize = label_size)\n",
        "plt.ylabel(r'$\\langle S_k \\rangle(t)$', fontsize = label_size)\n",
        "\n",
        "\n",
        "plt.plot(times, Result_varDDTWA_Col[12]/2-Result_varDDTWA_Col[13]/2,\"--\",label=\"$S^z_{10}$ DisTWA Col\")\n",
        "#plt.plot(times, Result_varDTWA_Col[12]/2,\"-\",label=\"$S^z_{0}$ TWA Col\")\n",
        "\n",
        "\n",
        "\n",
        "\n",
        "plt.plot(times, Mean_field_res[12]/2-Mean_field_res[13]/2,\"-\",label=\"$S^z_{10}$ Mean-Field\")\n",
        "\n",
        "\n",
        "plt.plot(times, Result_varDDTWA_EM[12]-Result_varDDTWA_EM[13],\"--\",label=\"$S^z_{10}$ DDTWA\")\n",
        "\n",
        "\n",
        "\n",
        "\n",
        "plt.plot(times, 0*times,\"-\",label=\"$<S_k>=0$\")\n",
        "\n",
        "#plt.legend(fontsize = label_size)\n",
        "plt.legend(loc=\"upper right\")\n",
        "plt.show()\n",
        "plt.close()"
      ],
      "execution_count": null,
      "outputs": []
    },
    {
      "cell_type": "code",
      "metadata": {
        "id": "Vu3ltudue-1A"
      },
      "source": [
        ""
      ],
      "execution_count": null,
      "outputs": []
    },
    {
      "cell_type": "code",
      "metadata": {
        "id": "YcSeYmd7e-1A"
      },
      "source": [
        "Yu=Mean_field_res[12]/2-Mean_field_res[13]/2"
      ],
      "execution_count": null,
      "outputs": []
    },
    {
      "cell_type": "code",
      "metadata": {
        "id": "H_FGc_zre-1B"
      },
      "source": [
        "Yu[-1]"
      ],
      "execution_count": null,
      "outputs": []
    },
    {
      "cell_type": "code",
      "metadata": {
        "id": "GBM2697Te-1B"
      },
      "source": [
        ""
      ],
      "execution_count": null,
      "outputs": []
    },
    {
      "cell_type": "code",
      "metadata": {
        "id": "Fnk-4cnre-1B"
      },
      "source": [
        ""
      ],
      "execution_count": null,
      "outputs": []
    },
    {
      "cell_type": "code",
      "metadata": {
        "id": "R8u06nK2e-1B"
      },
      "source": [
        ""
      ],
      "execution_count": null,
      "outputs": []
    },
    {
      "cell_type": "code",
      "metadata": {
        "id": "RdBA3Rm3e-1B"
      },
      "source": [
        ""
      ],
      "execution_count": null,
      "outputs": []
    },
    {
      "cell_type": "code",
      "metadata": {
        "id": "TuI2b_OUe-1B"
      },
      "source": [
        ""
      ],
      "execution_count": null,
      "outputs": []
    },
    {
      "cell_type": "code",
      "metadata": {
        "id": "h3uRK-_2e-1B"
      },
      "source": [
        ""
      ],
      "execution_count": null,
      "outputs": []
    },
    {
      "cell_type": "code",
      "metadata": {
        "id": "GEO_ghP2e-1B"
      },
      "source": [
        ""
      ],
      "execution_count": null,
      "outputs": []
    },
    {
      "cell_type": "code",
      "metadata": {
        "id": "oxOlnJ18e-1B"
      },
      "source": [
        ""
      ],
      "execution_count": null,
      "outputs": []
    },
    {
      "cell_type": "code",
      "metadata": {
        "id": "01IfQJpue-1B"
      },
      "source": [
        ""
      ],
      "execution_count": null,
      "outputs": []
    },
    {
      "cell_type": "code",
      "metadata": {
        "id": "mcktuC9Xe-1C"
      },
      "source": [
        ""
      ],
      "execution_count": null,
      "outputs": []
    },
    {
      "cell_type": "code",
      "metadata": {
        "id": "DJXk3iNPe-1C"
      },
      "source": [
        ""
      ],
      "execution_count": null,
      "outputs": []
    },
    {
      "cell_type": "code",
      "metadata": {
        "id": "S5HZ_uXpe-1C"
      },
      "source": [
        ""
      ],
      "execution_count": null,
      "outputs": []
    },
    {
      "cell_type": "code",
      "metadata": {
        "id": "L5S-4naIe-1C"
      },
      "source": [
        "Stochastic"
      ],
      "execution_count": null,
      "outputs": []
    },
    {
      "cell_type": "code",
      "metadata": {
        "id": "Jp2GduUTe-1C"
      },
      "source": [
        ""
      ],
      "execution_count": null,
      "outputs": []
    },
    {
      "cell_type": "code",
      "metadata": {
        "id": "XTEpgE6be-1C"
      },
      "source": [
        "sum_rand_vect(N)"
      ],
      "execution_count": null,
      "outputs": []
    },
    {
      "cell_type": "code",
      "metadata": {
        "id": "HfNL5LyJe-1C"
      },
      "source": [
        "Stochastic=1\n",
        "\n",
        "@jit\n",
        "\n",
        "\n",
        "\n",
        "def trayectory_col_sum(N=N,Stochastic=Stochastic):\n",
        "    sqrtdt = np.sqrt(dt)*Stochastic\n",
        "    \n",
        "    Results =zeros((19, n))\n",
        "    \n",
        "    Results[15][0] = np.random.normal(0, 0.5)\n",
        "    Results[16][0] = np.random.normal(0, 0.5)\n",
        "    Results[17][0] = np.random.normal(0, 0.5)\n",
        "    Results[18][0] = np.random.normal(0, 0.5)\n",
        "    \n",
        "        \n",
        "    \n",
        "    Arr=sum_rand_vect(N)\n",
        "    \n",
        "    \n",
        "    Results[0][0] =Arr[0]  #x10  \n",
        "    Results[1][0] =Arr[1]  #x20\n",
        "    Results[2][0] =Arr[2]  #x30\n",
        "    Results[3][0] =Arr[3]  #x21\n",
        "    Results[4][0] =Arr[4]  #x31\n",
        "    Results[5][0] =Arr[5]  #x32\n",
        "        \n",
        "    Results[6][0] =Arr[6]  #y10\n",
        "    Results[7][0] =Arr[7] #y20\n",
        "    Results[8][0] =Arr[8]  #y30\n",
        "    Results[9][0] =Arr[9]  #y21\n",
        "    Results[10][0]=Arr[10]  #y31\n",
        "    Results[11][0]=Arr[11]  #y32\n",
        "        \n",
        "    Results[12][0]=Arr[12]  #z0\n",
        "    Results[13][0]=Arr[13]  #z2\n",
        "    Results[14][0]=Arr[14]  #z3\n",
        "    \n",
        "    \n",
        "    for t in range(n-1):\n",
        "        \n",
        "        Normal_VA_1=random.randn() #np.random.normal(0, 1)\n",
        "        Normal_VA_2=random.randn() #np.random.normal(0, 1)\n",
        "        Normal_VA_3=random.randn() #np.random.normal(0, 1)\n",
        "        Normal_VA_4=random.randn() #np.random.normal(0, 1)\n",
        "        \n",
        "        \n",
        "        alpRx=Results[15][t]\n",
        "        alpRy=Results[16][t]\n",
        "        alpLx=Results[17][t]\n",
        "        alpLy=Results[18][t]\n",
        "            \n",
        "        s10x=Results[0][t]   #x10\n",
        "        s20x=Results[1][t]   #x20\n",
        "        s30x=Results[2][t]   #x30  \n",
        "        s21x=Results[3][t]   #x21 \n",
        "        s31x=Results[4][t]   #x31\n",
        "        s32x=Results[5][t]   #x32\n",
        "            \n",
        "        s10y=Results[6][t]   #y10\n",
        "        s20y=Results[7][t]   #y20\n",
        "        s30y=Results[8][t]   #y30\n",
        "        s21y=Results[9][t]   #y21\n",
        "        s31y=Results[10][t]  #y31\n",
        "        s32y=Results[11][t]  #y32\n",
        "            \n",
        "        s0z=Results[12][t]   #z0\n",
        "        s1z=Results[13][t]   #z1\n",
        "        s2z=Results[14][t]   #z2\n",
        "            \n",
        "        # alpRx=Results[15*N][t]\n",
        "        # alpRy=Results[15*N+1][t]\n",
        "        # alpLx=Results[15*N+2][t]\n",
        "        # alpLy=Results[15*N+3][t]\n",
        "        \n",
        "        \n",
        "        Results[15][t+1] = alpRx-dt*DeltaR*alpRy-dt*(KapR/2)*alpRx+np.sqrt(KapR/4)*sqrtdt * Normal_VA_1 +(gR/sqrt(2))*dt*s30y\n",
        "            \n",
        "        Results[16][t+1] = alpRy+dt*DeltaR*alpRx-dt*(KapR/2)*alpRy+np.sqrt(KapR/4)*sqrtdt * Normal_VA_2 -(gR/sqrt(2))*dt*s30x\n",
        "             \n",
        "        Results[17][t+1] = alpLx -dt*DeltaL*alpLy-dt*(KapL/2)*alpLx+np.sqrt(KapL/4)*sqrtdt * Normal_VA_3 +(gL/sqrt(2))*dt*s21y \n",
        "        \n",
        "        Results[18][t+1] = alpLy +dt*DeltaL*alpLx-dt*(KapL/2)*alpLy+np.sqrt(KapL/4)*sqrtdt * Normal_VA_4 -(gL/sqrt(2))*dt*s21x \n",
        "         \n",
        "      \n",
        "        \n",
        "        Results[0][t+1] = s10x  +dt*(-gR)*(-alpRx*s31y+alpRy*s31x) +dt*(OmegaR/2)*s31y-\\\n",
        "            dt*gL*(-alpLx*s20y+alpLy*s20x)+dt*(OmegaL/2)*s20y\n",
        "            \n",
        "        Results[1][t+1] = s20x  +dt*(-gR)*(-alpRx*s32y+alpRy*s32x) +dt*(OmegaR/2)*s32y+\\\n",
        "            dt*gL*(alpLx*s10y+alpLy*s10x)+dt*(OmegaL/2)*s10y\n",
        "            \n",
        "        Results[2][t+1] = s30x  +dt*(-sqrt(2)*gR)*alpRy*(N-s2z-s1z-2*s0z)\n",
        "            \n",
        "        Results[3][t+1] = s21x  +dt*(-sqrt(2)*gL)*alpLy*(s2z-s1z)\n",
        "            \n",
        "        Results[4][t+1] = s31x  +dt*gR*(alpRy*s10x-alpRx*s10y)+dt*(-OmegaR/2)*s10y-\\\n",
        "            dt*gL*(alpLx*s32y+alpLy*s32x)+dt*(-OmegaL/2)*s32y    \n",
        "            \n",
        "        Results[5][t+1] = s32x  +dt*gR*(-alpRx*s20y+alpRy*s20x)+dt*(-OmegaR/2)*s20y+\\\n",
        "            dt*gL*(-alpLx*s31y+alpLy*s31x)+dt*(-OmegaL/2)*s31y\n",
        "        \n",
        "        Results[6][t+1] = s10y  +dt*(gR)*(alpRx*s31x+alpRy*s31y)+dt*(OmegaR/2)*s31x-\\\n",
        "            dt*gL*(alpLx*s20x+alpLy*s20y)-dt*(OmegaL/2)*s20x\n",
        "        \n",
        "        Results[7][t+1] = s20y  +dt*(gR)*(alpRx*s32x+alpRy*s32y)+dt*(OmegaR/2)*s32x-\\\n",
        "            dt*gL*(alpLx*s10x-alpLy*s10y)+dt*(-OmegaL/2)*s10x\n",
        "\n",
        "        Results[8][t+1] = s30y  +dt*(2*gR*alpRx+OmegaR)*( N-s2z-s1z-2*s0z  )/sqrt(2)\n",
        "                \n",
        "        Results[9][t+1] = s21y  +dt*(2*gL*alpLx+OmegaL)*(s2z-s1z)/sqrt(2)\n",
        "        \n",
        "        Results[10][t+1] = s31y - dt*gR*(alpRx*s10x+alpRy*s10y)-dt*(OmegaR/2)*s10x+\\\n",
        "            dt*gL*(alpLx*s32x-alpLy*s32y)+dt*(OmegaL/2)*s32x\n",
        "            \n",
        "        Results[11][t+1] = s32y + dt*(-gR)*(alpRx*s20x+alpRy*s20y)-dt*(OmegaR/2)*s20x+\\\n",
        "            dt*gL*(alpLx*s31x+alpLy*s31y)+dt*(OmegaL/2)*s31x\n",
        "        \n",
        "        Results[12][t+1] = s0z+ dt*(sqrt(2))*(gR*(alpRx*s30y-alpRy*s30x)+ (OmegaR/2)*s30y )\n",
        "        \n",
        "        Results[13][t+1] = s1z+ dt*(sqrt(2))*(gL*(alpLx*s21y-alpLy*s21x)+ (OmegaL/2)*s21y )\n",
        "            \n",
        "        Results[14][t+1] = s2z+ dt*(-sqrt(2))*(gL*(-alpLy*s21x+alpLx*s21y)+ (OmegaL/2)*s21y )\n",
        "            \n",
        "\n",
        "            \n",
        "    return Results\n"
      ],
      "execution_count": null,
      "outputs": []
    },
    {
      "cell_type": "code",
      "metadata": {
        "id": "Lrq41wAEe-1D"
      },
      "source": [
        ""
      ],
      "execution_count": null,
      "outputs": []
    },
    {
      "cell_type": "code",
      "metadata": {
        "id": "T1y0RLGVe-1D"
      },
      "source": [
        "from numpy import add\n",
        "from numba import jit\n",
        "\n",
        "\n",
        "\n",
        "itera=5000\n",
        "@jit\n",
        "\n",
        "def averages_col_sum(Stochastic,itera=itera,N=N,n=n):\n",
        "    Results =zeros((19, n))\n",
        "    for j in range(itera):\n",
        "        Trayec=trayectory_col_sum(N,Stochastic)\n",
        "        Results=add(Results,Trayec)\n",
        "    \n",
        "    return Results/itera\n",
        "    \n",
        "    \n",
        "    \n",
        "    "
      ],
      "execution_count": null,
      "outputs": []
    },
    {
      "cell_type": "code",
      "metadata": {
        "id": "RJpntNPne-1D"
      },
      "source": [
        ""
      ],
      "execution_count": null,
      "outputs": []
    },
    {
      "cell_type": "code",
      "metadata": {
        "id": "w1gQQu6je-1D"
      },
      "source": [
        "t0=time.time()\n",
        "\n",
        "itera=1000\n",
        "\n",
        "Result_varDDTWA_Col = averages_col_sum(0,itera=itera,N=N,n=n)\n",
        "#Result_varDTWA_Col  = averages(0,itera=itera,N=N,n=n)\n",
        "\n",
        "\n",
        "\n",
        "t1=time.time()\n",
        "\n",
        "print(t1-t0)"
      ],
      "execution_count": null,
      "outputs": []
    },
    {
      "cell_type": "code",
      "metadata": {
        "id": "MkNpHaOKe-1D"
      },
      "source": [
        "N"
      ],
      "execution_count": null,
      "outputs": []
    },
    {
      "cell_type": "code",
      "metadata": {
        "id": "l8OwK-4qe-1D"
      },
      "source": [
        "\n",
        "plt.plot(times, Result_varDDTWA_Col[12]/N+Result_varDDTWA_Col[13]/N,\"--\",label=\"Population g DissTWA Col\")\n",
        "#plt.plot(times, Mean_field_res[12]/N+Mean_field_res[13]/N,\"-\",label=\"Population g Mean-Field\")\n",
        "#plt.plot(times, Result_varDTWA_Col[12]/2,\"-\",label=\"$S^z_{0}$ TWA Col\")\n",
        "\n"
      ],
      "execution_count": null,
      "outputs": []
    },
    {
      "cell_type": "code",
      "metadata": {
        "id": "Y3z41_mre-1D"
      },
      "source": [
        ""
      ],
      "execution_count": null,
      "outputs": []
    },
    {
      "cell_type": "code",
      "metadata": {
        "id": "o5n5l_qPe-1E"
      },
      "source": [
        "index=0\n",
        "plt.plot(times, Result_varDDTWA_Col[index]/sqrt(2))\n",
        "plt.plot(times, Result_varDDTWA_EM[index])"
      ],
      "execution_count": null,
      "outputs": []
    },
    {
      "cell_type": "code",
      "metadata": {
        "id": "8qPpnqOoe-1E"
      },
      "source": [
        ""
      ],
      "execution_count": null,
      "outputs": []
    },
    {
      "cell_type": "code",
      "metadata": {
        "id": "lugpC7p1e-1E"
      },
      "source": [
        ""
      ],
      "execution_count": null,
      "outputs": []
    },
    {
      "cell_type": "code",
      "metadata": {
        "id": "CMAL1Gq3e-1E"
      },
      "source": [
        ""
      ],
      "execution_count": null,
      "outputs": []
    },
    {
      "cell_type": "code",
      "metadata": {
        "id": "9L46IoF4e-1E"
      },
      "source": [
        ""
      ],
      "execution_count": null,
      "outputs": []
    }
  ]
}