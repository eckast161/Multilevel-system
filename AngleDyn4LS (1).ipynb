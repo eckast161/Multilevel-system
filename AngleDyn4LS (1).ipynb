{
  "cells": [
    {
      "cell_type": "markdown",
      "metadata": {
        "id": "h9Jb883pGYBR"
      },
      "source": [
        "# Parameters"
      ]
    },
    {
      "cell_type": "code",
      "execution_count": 1,
      "metadata": {
        "id": "tb6RI3UhGYBZ"
      },
      "outputs": [],
      "source": [
        "import matplotlib.pyplot as plt\n",
        "import numpy as np\n",
        "\n",
        "\"\"\"In order to provide a better presentation of the graphs we use the rcParams options shown below.\"\"\"\n",
        "\n",
        "import matplotlib\n",
        "matplotlib.rcParams['text.usetex'] = False\n",
        "matplotlib.rcParams['mathtext.fontset'] = 'stix'\n",
        "matplotlib.rcParams['font.family'] = 'STIXGeneral'\n",
        "matplotlib.rcParams['font.size'] = 15\n",
        "matplotlib.rcParams['figure.figsize'] = (11.0, 8.0)\n",
        "\n",
        "from numpy import cos, sin\n",
        "\n",
        "label_size = 20"
      ]
    },
    {
      "cell_type": "code",
      "execution_count": 2,
      "metadata": {
        "id": "Axupp3iNGYBe"
      },
      "outputs": [],
      "source": [
        "from numpy import sqrt"
      ]
    },
    {
      "cell_type": "code",
      "execution_count": 3,
      "metadata": {
        "id": "4YkFMtXwGYBf"
      },
      "outputs": [],
      "source": [
        "import time\n",
        "from numba import jit\n",
        "from numpy import sin, cos\n",
        "\n",
        "T0=time.time()"
      ]
    },
    {
      "cell_type": "code",
      "execution_count": 3,
      "metadata": {
        "id": "mKIMW34aGYBg"
      },
      "outputs": [],
      "source": [
        ""
      ]
    },
    {
      "cell_type": "code",
      "execution_count": 4,
      "metadata": {
        "id": "yhFmGyQGGYBh"
      },
      "outputs": [],
      "source": [
        "#Parameters\n",
        "\n",
        "Theta=np.pi/2\n",
        "Phi  =0\n",
        "\n",
        "\n",
        "#Number of atoms\n",
        "\n",
        "N=50000\n",
        "\n",
        "\n",
        "#Basic parameters\n",
        "\n",
        "gR=1\n",
        "DeltaR=gR*sqrt(N)\n",
        "KapR= 15 *gR*sqrt(( (cos(Theta/2))**2 )*N)\n",
        "\n",
        "gL=1\n",
        "DeltaL=gR*sqrt(N)\n",
        "KapL= 15 *gL*sqrt(( (sin(Theta/2))**2 )*N)\n",
        "\n",
        "\n",
        "### Complex Drivings\n",
        "\n",
        "Angle_R=  np.pi/4\n",
        "Angle_L=  np.pi/4\n",
        "\n",
        "fractionR=0.75\n",
        "fractionL=0.75\n",
        "\n",
        "OmegaR_complex=fractionR*(2*(gR**2)*( (cos(Theta/2))**2 )*N/(KapR+1e-10))  * np.exp(  1j* Angle_R)\n",
        "OmegaL_complex=fractionL*(2*(gL**2)*( (sin(Theta/2))**2 )*N/(KapL+1e-10))  * np.exp(  1j* Angle_L)\n",
        "\n",
        "\n",
        "\n",
        "\n",
        "OmegaR    = np.real( OmegaR_complex )  # fractionR*(2*(gR**2)*( (cos(Theta/2))**2 )*N/(KapR+1e-10))\n",
        "OmegaR_im = np.imag( OmegaR_complex )\n",
        "\n",
        "OmegaL    = np.real( OmegaL_complex)   #fractionL*(2*(gL**2)*( (sin(Theta/2))**2 )*N/(KapL+1e-10))\n",
        "OmegaL_im = np.imag( OmegaL_complex )\n"
      ]
    },
    {
      "cell_type": "markdown",
      "metadata": {
        "id": "V3RGg6RIGYCT"
      },
      "source": [
        "# Hamiltonian"
      ]
    },
    {
      "cell_type": "code",
      "execution_count": 5,
      "metadata": {
        "id": "esD0UlefYhFB"
      },
      "outputs": [],
      "source": [
        "t_final=1\n",
        "sqrt2=np.sqrt(2)"
      ]
    },
    {
      "cell_type": "code",
      "execution_count": 6,
      "metadata": {
        "id": "gEunh0vXYhIC"
      },
      "outputs": [],
      "source": [
        "chiR=DeltaR*(gR**2)/(DeltaR**2+(KapR/2)**2+1e-10)\n",
        "chiL=DeltaL*(gL**2)/(DeltaL**2+(KapL/2)**2+1e-10)\n",
        "\n",
        "\n",
        "\n",
        "GammaR=2*(np.abs(OmegaR_complex)/fractionR)/(N* (cos(Theta/2))**2 +1e-10)\n",
        "GammaL=2*(np.abs(OmegaL_complex)/fractionR)/(N*(sin(Theta/2))**2  +1e-10)\n"
      ]
    },
    {
      "cell_type": "code",
      "execution_count": 7,
      "metadata": {
        "colab": {
          "base_uri": "https://localhost:8080/"
        },
        "id": "7Y7h68D7YhKq",
        "outputId": "e8a2c317-6e79-4e08-f1ed-6c10c7502d67"
      },
      "outputs": [
        {
          "output_type": "stream",
          "name": "stdout",
          "text": [
            "0.0001535497323605006 0.00015354973236050062 11.180339887498482 11.180339887498475 0.001686548085423058 0.001686548085423058\n"
          ]
        }
      ],
      "source": [
        "print(chiR,chiL,OmegaR,OmegaL,GammaR,GammaL)"
      ]
    },
    {
      "cell_type": "code",
      "execution_count": 8,
      "metadata": {
        "colab": {
          "base_uri": "https://localhost:8080/"
        },
        "id": "0PiGskSQGYCT",
        "outputId": "dc626260-f76d-4c0e-9371-cb4d34972267"
      },
      "outputs": [
        {
          "output_type": "stream",
          "name": "stdout",
          "text": [
            "84.3274042711529\n"
          ]
        }
      ],
      "source": [
        "print(N*GammaR*t_final)"
      ]
    },
    {
      "cell_type": "code",
      "execution_count": 9,
      "metadata": {
        "id": "JFHbxCwYWAvc"
      },
      "outputs": [],
      "source": [
        "import matplotlib.pyplot as plt\n",
        "import numpy as np\n",
        "from numpy import sin, cos, sqrt\n",
        "\n",
        "\"\"\"In order to provide a better presentation of the graphs we use the rcParams options shown below.\"\"\"\n",
        "\n",
        "import matplotlib\n",
        "matplotlib.rcParams['text.usetex'] = False\n",
        "matplotlib.rcParams['mathtext.fontset'] = 'stix'\n",
        "matplotlib.rcParams['font.family'] = 'STIXGeneral'\n",
        "matplotlib.rcParams['font.size'] = 15\n",
        "matplotlib.rcParams['figure.figsize'] = (11.0, 8.0)\n",
        "\n",
        "from numpy import sqrt\n",
        "\n",
        "import time\n",
        "from numba import jit\n",
        "\n",
        "\n",
        "\n",
        "\n",
        "from scipy.sparse import identity\n",
        "from scipy.sparse import lil_matrix\n",
        "from scipy.sparse import csr_matrix\n",
        "\n",
        "\n",
        "# Definition of Dicke-Generalized States\n",
        "\n",
        "import numpy as np\n",
        "from numpy import sqrt\n",
        "import matplotlib.pyplot as plt\n",
        "\n",
        "\n",
        "#--------------------------------------\n",
        "\n",
        "State_List=[]\n",
        "\n",
        "import scipy.special\n",
        "\n",
        "\n",
        "\n",
        "\n",
        "\n",
        "import time \n",
        "\n",
        "import itertools\n",
        "from itertools import permutations\n",
        "from numba import jit\n"
      ]
    },
    {
      "cell_type": "code",
      "execution_count": 9,
      "metadata": {
        "id": "MMzKB5I6WAya"
      },
      "outputs": [],
      "source": [
        ""
      ]
    },
    {
      "cell_type": "code",
      "execution_count": 10,
      "metadata": {
        "colab": {
          "base_uri": "https://localhost:8080/"
        },
        "id": "7MdjfndqJqzl",
        "outputId": "da432f60-0dc5-442c-b254-730bc1b06d86"
      },
      "outputs": [
        {
          "output_type": "stream",
          "name": "stdout",
          "text": [
            "Requirement already satisfied: sdeint in /usr/local/lib/python3.7/dist-packages (0.2.2)\n",
            "Requirement already satisfied: numpy>=1.6 in /usr/local/lib/python3.7/dist-packages (from sdeint) (1.19.5)\n"
          ]
        }
      ],
      "source": [
        "pip install sdeint"
      ]
    },
    {
      "cell_type": "code",
      "execution_count": 11,
      "metadata": {
        "id": "Lt8zwW0cJq5Y"
      },
      "outputs": [],
      "source": [
        "import numpy as np\n",
        "import matplotlib.pyplot as plt\n",
        "%matplotlib inline\n",
        "from numpy import random, zeros, sqrt,cos,sin\n",
        "\n",
        "import matplotlib.pyplot as plt\n",
        "import numpy as np\n",
        "import sdeint\n",
        "import time\n",
        "from sdeint import itoint, stratint, itoSRI2, stratKP2iS,itoEuler\n",
        "from numba import jit\n",
        "import numbers\n",
        "\n",
        "from numpy import sqrt, zeros, diag, random, real, array, complex_, transpose, conjugate, exp, matmul, real\n",
        "\n",
        "\n",
        "import matplotlib\n",
        "import matplotlib.pyplot as plt"
      ]
    },
    {
      "cell_type": "code",
      "execution_count": 11,
      "metadata": {
        "id": "k2aRLhDEJq9r"
      },
      "outputs": [],
      "source": [
        ""
      ]
    },
    {
      "cell_type": "code",
      "execution_count": 12,
      "metadata": {
        "id": "_4U-l4WdJrCn"
      },
      "outputs": [],
      "source": [
        "import matplotlib.pyplot as plt\n",
        "import numpy as np\n",
        "\n",
        "\"\"\"In order to provide a better presentation of the graphs we use the rcParams options shown below.\"\"\"\n",
        "\n",
        "import matplotlib\n",
        "matplotlib.rcParams['text.usetex'] = False\n",
        "matplotlib.rcParams['mathtext.fontset'] = 'stix'\n",
        "matplotlib.rcParams['font.family'] = 'STIXGeneral'\n",
        "matplotlib.rcParams['font.size'] = 15\n",
        "matplotlib.rcParams['figure.figsize'] = (11.0, 8.0)"
      ]
    },
    {
      "cell_type": "code",
      "execution_count": 12,
      "metadata": {
        "id": "58oDIGRSLfWQ"
      },
      "outputs": [],
      "source": [
        ""
      ]
    },
    {
      "cell_type": "code",
      "execution_count": 12,
      "metadata": {
        "id": "2QNwaFMAvW9G"
      },
      "outputs": [],
      "source": [
        ""
      ]
    },
    {
      "cell_type": "code",
      "execution_count": 13,
      "metadata": {
        "id": "kFRmYPlJLgE0"
      },
      "outputs": [],
      "source": [
        "def _check_args(f, G, y0, tspan, dW=None, IJ=None):\n",
        "    \"\"\"Do some validation common to all algorithms. Find dimension d and number\n",
        "    of Wiener processes m.\n",
        "    \"\"\"\n",
        "    if not np.isclose(min(np.diff(tspan)), max(np.diff(tspan))):\n",
        "        raise SDEValueError('Currently time steps must be equally spaced.')\n",
        "    # Be flexible to allow scalar equations. convert them to a 1D vector system\n",
        "    if isinstance(y0, numbers.Number):\n",
        "        if isinstance(y0, numbers.Integral):\n",
        "            numtype = np.float64\n",
        "        else:\n",
        "            numtype = type(y0)\n",
        "        y0_orig = y0\n",
        "        y0 = np.array([y0], dtype=numtype)\n",
        "        def make_vector_fn(fn):\n",
        "            def newfn(y, t):\n",
        "                return np.array([fn(y[0], t)], dtype=numtype)\n",
        "            newfn.__name__ = fn.__name__\n",
        "            return newfn\n",
        "        def make_matrix_fn(fn):\n",
        "            def newfn(y, t):\n",
        "                return np.array([[fn(y[0], t)]], dtype=numtype)\n",
        "            newfn.__name__ = fn.__name__\n",
        "            return newfn\n",
        "        if isinstance(f(y0_orig, tspan[0]), numbers.Number):\n",
        "            f = make_vector_fn(f)\n",
        "        if isinstance(G(y0_orig, tspan[0]), numbers.Number):\n",
        "            G = make_matrix_fn(G)\n",
        "    # determine dimension d of the system\n",
        "    d = len(y0)\n",
        "    if len(f(y0, tspan[0])) != d:\n",
        "        raise SDEValueError('y0 and f have incompatible shapes.')\n",
        "    message = \"\"\"y0 has length %d. So G must either be a single function\n",
        "              returning a matrix of shape (%d, m), or else a list of m separate\n",
        "              functions each returning a column of G, with shape (%d,)\"\"\" % (\n",
        "                  d, d, d)\n",
        "    if callable(G):\n",
        "        # then G must be a function returning a d x m matrix\n",
        "        Gtest = G(y0, tspan[0])\n",
        "        if Gtest.ndim != 2 or Gtest.shape[0] != d:\n",
        "            raise SDEValueError(message)\n",
        "        # determine number of independent Wiener processes m\n",
        "        m = Gtest.shape[1]\n",
        "    else:\n",
        "        # G should be a list of m functions g_i giving columns of G\n",
        "        G = tuple(G)\n",
        "        m = len(G)\n",
        "        Gtest = np.zeros((d, m))\n",
        "        for k in range(0, m):\n",
        "            if not callable(G[k]):\n",
        "                raise SDEValueError(message)\n",
        "            Gtestk = G[k](y0, tspan[0])\n",
        "            if np.shape(Gtestk) != (d,):\n",
        "                raise SDEValueError(message)\n",
        "            Gtest[:,k] = Gtestk\n",
        "    message = \"\"\"From function G, it seems m==%d. If present, the optional\n",
        "              parameter dW must be an array of shape (len(tspan)-1, m) giving\n",
        "              m independent Wiener increments for each time interval.\"\"\" % m\n",
        "    if dW is not None:\n",
        "        if not hasattr(dW, 'shape') or dW.shape != (len(tspan) - 1, m):\n",
        "            raise SDEValueError(message)\n",
        "    message = \"\"\"From function G, it seems m==%d. If present, the optional\n",
        "              parameter I or J must be an array of shape (len(tspan)-1, m, m)\n",
        "              giving an m x m matrix of repeated integral values for each\n",
        "              time interval.\"\"\" % m\n",
        "    if IJ is not None:\n",
        "        if not hasattr(IJ, 'shape') or IJ.shape != (len(tspan) - 1, m, m):\n",
        "            raise SDEValueError(message)\n",
        "    return (d, m, f, G, y0, tspan, dW, IJ)"
      ]
    },
    {
      "cell_type": "code",
      "execution_count": 13,
      "metadata": {
        "id": "6LWY7IFFLgJr"
      },
      "outputs": [],
      "source": [
        ""
      ]
    },
    {
      "cell_type": "code",
      "execution_count": 14,
      "metadata": {
        "colab": {
          "base_uri": "https://localhost:8080/"
        },
        "id": "1u288h7VLgMB",
        "outputId": "d88f6cd4-bce9-400f-d421-af58fed8c466"
      },
      "outputs": [
        {
          "output_type": "stream",
          "name": "stdout",
          "text": [
            "2e-06 84.3274042711529\n"
          ]
        }
      ],
      "source": [
        "\n",
        "\n",
        "theta = Theta\n",
        "phi   = Phi\n",
        "\n",
        "\n",
        "steps1=500000\n",
        "\n",
        "tf=t_final\n",
        "t_alt = np.linspace(0,tf,steps1)\n",
        "\n",
        "print(tf/steps1,N*GammaR*t_final)"
      ]
    },
    {
      "cell_type": "code",
      "execution_count": 15,
      "metadata": {
        "colab": {
          "base_uri": "https://localhost:8080/"
        },
        "id": "wYHsVnhCqZyZ",
        "outputId": "4e1c2e5a-93c5-4e10-f03d-e19613d804ce"
      },
      "outputs": [
        {
          "output_type": "execute_result",
          "data": {
            "text/plain": [
              "1"
            ]
          },
          "metadata": {},
          "execution_count": 15
        }
      ],
      "source": [
        "t_final"
      ]
    },
    {
      "cell_type": "code",
      "execution_count": 15,
      "metadata": {
        "id": "yrlehDJpqZ1_"
      },
      "outputs": [],
      "source": [
        ""
      ]
    },
    {
      "cell_type": "code",
      "execution_count": 16,
      "metadata": {
        "id": "CpuWNWzyLgON"
      },
      "outputs": [],
      "source": [
        "matrix_array=[]\n",
        "\n",
        "# X matrix\n",
        "\n",
        "\n",
        "f10x=zeros((4, 4),dtype=complex_)\n",
        "f10x[0][1]=(1/sqrt(2))\n",
        "f10x=f10x+transpose(f10x)\n",
        "matrix_array.append(f10x)\n",
        "\n",
        "f20x=zeros((4, 4),dtype=complex_)\n",
        "f20x[2][0]=(1/sqrt(2))\n",
        "f20x=f20x+transpose(f20x)\n",
        "matrix_array.append(f20x)\n",
        "\n",
        "f30x=zeros((4, 4),dtype=complex_)\n",
        "f30x[3][0]=(1/sqrt(2))\n",
        "f30x=f30x+transpose(f30x)\n",
        "matrix_array.append(f30x)\n",
        "\n",
        "f21x=zeros((4, 4),dtype=complex_)\n",
        "f21x[2][1]=(1/sqrt(2))\n",
        "f21x=f21x+transpose(f21x)\n",
        "matrix_array.append(f21x)\n",
        "\n",
        "f31x=zeros((4, 4),dtype=complex_)\n",
        "f31x[3][1]=(1/sqrt(2))\n",
        "f31x=f31x+transpose(f31x)\n",
        "matrix_array.append(f31x)\n",
        "\n",
        "f32x=zeros((4, 4),dtype=complex_)\n",
        "f32x[3][2]=(1/sqrt(2))\n",
        "f32x=f32x+transpose(f32x)\n",
        "matrix_array.append(f32x)\n",
        "\n",
        "#Y Matrix\n",
        "\n",
        "f10y=zeros((4, 4),dtype=complex_)\n",
        "f10y[0][1]=-1j*(1/sqrt(2))\n",
        "f10y=f10y+conjugate(np.transpose(f10y))\n",
        "matrix_array.append(f10y)\n",
        "\n",
        "\n",
        "f20y=zeros((4, 4),dtype=complex_)\n",
        "f20y[0][2]=-1j*(1/sqrt(2))\n",
        "f20y=f20y+conjugate(np.transpose(f20y))\n",
        "matrix_array.append(f20y)\n",
        "\n",
        "\n",
        "f30y=zeros((4, 4),dtype=complex_)\n",
        "f30y[0][3]=-1j*(1/sqrt(2))\n",
        "f30y=f30y+conjugate(np.transpose(f30y))\n",
        "matrix_array.append(f30y)\n",
        "\n",
        "\n",
        "f21y=zeros((4, 4),dtype=complex_)\n",
        "f21y[1][2]=-1j*(1/sqrt(2))\n",
        "f21y=f21y+conjugate(np.transpose(f21y))\n",
        "matrix_array.append(f21y)\n",
        "\n",
        "f31y=zeros((4, 4),dtype=complex_)\n",
        "f31y[1][3]=-1j*(1/sqrt(2))\n",
        "f31y=f31y+conjugate(np.transpose(f31y))\n",
        "matrix_array.append(f31y)\n",
        "\n",
        "f32y=zeros((4, 4),dtype=complex_)\n",
        "f32y[2][3]=-1j*(1/sqrt(2))\n",
        "f32y=f32y+conjugate(np.transpose(f32y))\n",
        "matrix_array.append(f32y)\n",
        "\n",
        "\n",
        "#Z matrix\n",
        "\n",
        "f0z=np.zeros((4, 4),dtype=complex_)\n",
        "f0z[0][0]=1\n",
        "matrix_array.append(f0z)\n",
        "\n",
        "\n",
        "f1z=np.zeros((4, 4),dtype=complex_)\n",
        "f1z[1][1]=1\n",
        "matrix_array.append(f1z)\n",
        "\n",
        "\n",
        "f2z=np.zeros((4, 4),dtype=complex_)\n",
        "f2z[2][2]=1\n",
        "matrix_array.append(f2z)\n",
        "\n",
        "\n",
        "f3z=np.zeros((4, 4),dtype=complex_)\n",
        "f3z[3][3]=1\n",
        "\n",
        "#-----------------------------------------------------------------------------------------------------\n",
        "\n",
        "Psi_0=zeros((4,1),dtype=complex_)\n",
        "Psi_0[0][0]=cos(Theta/2)\n",
        "Psi_0[1][0]=sin(Theta/2)*exp(1j*Phi)\n",
        "\n",
        "\n",
        "Psi_0_adj=transpose(conjugate(Psi_0))\n",
        "\n",
        "#--------------------------------\n",
        "\n",
        "#Averages Vector\n",
        "\n",
        "Miu=[]\n",
        "\n",
        "for j in matrix_array:\n",
        "    Miu.append(matmul(Psi_0_adj,matmul(j,Psi_0))[0][0])\n",
        "\n",
        "    \n",
        "\n",
        "Cov_mat=zeros((15, 15),dtype=complex_)\n",
        "\n",
        "for i in range(15):\n",
        "    for j in range(15):\n",
        "        Cov_mat[i][j]=0.5*(matmul(Psi_0_adj,matmul( matmul(matrix_array[i],matrix_array[j])+matmul(matrix_array[j],matrix_array[i]),Psi_0))[0][0])-Miu[i]*Miu[j]        \n",
        "        \n",
        "\n",
        "Cov_mat_list=[]\n",
        "\n",
        "for j in range(15):\n",
        "    Cov_mat_list.append(list(real(Cov_mat[j])))    \n",
        "    \n",
        "\n",
        "from scipy import stats"
      ]
    },
    {
      "cell_type": "code",
      "execution_count": 16,
      "metadata": {
        "id": "MxAXg2z4LgQc"
      },
      "outputs": [],
      "source": [
        ""
      ]
    },
    {
      "cell_type": "code",
      "execution_count": 17,
      "metadata": {
        "id": "VuteDyZOLgTV"
      },
      "outputs": [],
      "source": [
        "\n",
        "@jit\n",
        "\n",
        "def f(y, t):\n",
        "    \n",
        "    \n",
        "    alpRx=y[15]\n",
        "    alpRy=y[16]\n",
        "    alpLx=y[17]\n",
        "    alpLy=y[18]\n",
        "            \n",
        "    s10x=y[0]   #x10\n",
        "    s20x=y[1]   #x20\n",
        "    s30x=y[2]   #x30  \n",
        "    s21x=y[3]   #x21 \n",
        "    s31x=y[4]   #x31\n",
        "    s32x=y[5]   #x32\n",
        "            \n",
        "    s10y=y[6]   #y10\n",
        "    s20y=y[7]   #y20\n",
        "    s30y=y[8]   #y30\n",
        "    s21y=y[9]   #y21\n",
        "    s31y=y[10]  #y31\n",
        "    s32y=y[11]  #y32\n",
        "            \n",
        "    s0z=y[12]   #z0\n",
        "    s1z=y[13]   #z1\n",
        "    s2z=y[14]   #z2\n",
        "    \n",
        "    \n",
        "    dalpRxdt = -DeltaR*alpRy-(KapR/2)*alpRx  +(gR/sqrt2)*s30y\n",
        "            \n",
        "    dalpRydt = DeltaR*alpRx-(KapR/2)*alpRy-(gR/sqrt2)*s30x\n",
        "             \n",
        "    dalpLxdt = -DeltaL*alpLy-(KapL/2)*alpLx+(gL/sqrt2)*s21y \n",
        "        \n",
        "    dalpLydt = DeltaL*alpLx-(KapL/2)*alpLy-(gL/sqrt2)*s21x \n",
        "         \n",
        "      \n",
        "        \n",
        "    ds10xdt   = (-gR)*(-alpRx*s31y+alpRy*s31x) +(OmegaR/2)*s31y-\\\n",
        "        gL*(-alpLx*s20y+alpLy*s20x)+(OmegaL/2)*s20y  -(1/2)*(OmegaR_im*s31x+OmegaL_im*s20x)\n",
        "            \n",
        "    ds20xdt = (-gR)*(-alpRx*s32y+alpRy*s32x) +(OmegaR/2)*s32y+\\\n",
        "        gL*(alpLx*s10y+alpLy*s10x)+(OmegaL/2)*s10y   -(1/2)*(OmegaR_im*s32x-OmegaL_im*s10x)\n",
        "            \n",
        "    ds30xdt = (-sqrt2*gR)*alpRy*(N-s2z-s1z-2*s0z)     +OmegaR_im*(2*s0z+s1z+s2z-N)/sqrt2\n",
        "            \n",
        "    ds21xdt = (-sqrt2*gL)*alpLy*(s2z-s1z)             +OmegaL_im*(s1z-s2z)/sqrt2\n",
        "            \n",
        "    ds31xdt = gR*(alpRy*s10x-alpRx*s10y)+(-OmegaR/2)*s10y-\\\n",
        "        gL*(alpLx*s32y+alpLy*s32x)+(-OmegaL/2)*s32y   +(1/2)*(OmegaR_im*s10x-OmegaL_im*s32x)  \n",
        "            \n",
        "    ds32xdt = gR*(-alpRx*s20y+alpRy*s20x)+(-OmegaR/2)*s20y+\\\n",
        "        gL*(-alpLx*s31y+alpLy*s31x)+(-OmegaL/2)*s31y  +(1/2)*(OmegaR_im*s20x+OmegaL_im*s31x)\n",
        "        \n",
        "    ds10ydt = (gR)*(alpRx*s31x+alpRy*s31y)+(OmegaR/2)*s31x-\\\n",
        "        gL*(alpLx*s20x+alpLy*s20y)-(OmegaL/2)*s20x    +(1/2)*(OmegaR_im*s31y-OmegaL_im*s20y)\n",
        "        \n",
        "    ds20ydt = (gR)*(alpRx*s32x+alpRy*s32y)+(OmegaR/2)*s32x-\\\n",
        "        gL*(alpLx*s10x-alpLy*s10y)+(-OmegaL/2)*s10x   +(1/2)*(OmegaR_im*s32y+OmegaL_im*s10y)\n",
        "\n",
        "    ds30ydt = (2*gR*alpRx+OmegaR)*( N-s2z-s1z-2*s0z  )/sqrt2\n",
        "                \n",
        "    ds21ydt = (2*gL*alpLx+OmegaL)*(s2z-s1z)/sqrt2\n",
        "        \n",
        "    ds31ydt = - gR*(alpRx*s10x+alpRy*s10y)-(OmegaR/2)*s10x+\\\n",
        "        gL*(alpLx*s32x-alpLy*s32y)+(OmegaL/2)*s32x    -(1/2)*(OmegaR_im*s10y+OmegaL_im*s32y)\n",
        "            \n",
        "    ds32ydt = (-gR)*(alpRx*s20x+alpRy*s20y)-(OmegaR/2)*s20x+\\\n",
        "        gL*(alpLx*s31x+alpLy*s31y)+(OmegaL/2)*s31x    +(1/2)*(-OmegaR_im*s20y+OmegaL_im*s31y)\n",
        "        \n",
        "    ds0zdt = (sqrt2)*(gR*(alpRx*s30y-alpRy*s30x)+ (OmegaR/2)*s30y )   -OmegaR_im*s30x/sqrt2\n",
        "        \n",
        "    ds1zdt = (sqrt2)*(gL*(alpLx*s21y-alpLy*s21x)+ (OmegaL/2)*s21y )   -OmegaL_im*s21x/sqrt2\n",
        "            \n",
        "    ds2zdt = (-sqrt2)*(gL*(-alpLy*s21x+alpLx*s21y)+ (OmegaL/2)*s21y ) +OmegaL_im*s21x/sqrt2\n",
        "            \n",
        "\n",
        "\n",
        "    dzdt = [ds10xdt,ds20xdt,ds30xdt,ds21xdt,ds31xdt,ds32xdt,ds10ydt,ds20ydt,ds30ydt,ds21ydt,ds31ydt,ds32ydt,ds0zdt,ds1zdt,ds2zdt   ,dalpRxdt,dalpRydt,dalpLxdt,dalpLydt]\n",
        "    return array(dzdt)\n",
        "        \n",
        "@jit\n",
        "\n",
        "def GG(y, t):\n",
        "    Arr=zeros((1,19))\n",
        "    Arr[0][-1]=1\n",
        "    Arr[0][-2]=1\n",
        "    Arr[0][-3]=1\n",
        "    Arr[0][-4]=1\n",
        "    \n",
        "    return diag(Arr[0])\n",
        "\n",
        "\n"
      ]
    },
    {
      "cell_type": "code",
      "execution_count": 17,
      "metadata": {
        "id": "yu7VKgmqLgXR"
      },
      "outputs": [],
      "source": [
        ""
      ]
    },
    {
      "cell_type": "code",
      "execution_count": 18,
      "metadata": {
        "id": "-P6i4TMKLga0"
      },
      "outputs": [],
      "source": [
        "@jit\n",
        "\n",
        "def random_vect(KapR=KapR,KapL=KapL):\n",
        "    Hu=np.zeros((1,19))\n",
        "    Hu[0][-1]=np.sqrt(KapL/4)*np.random.normal()\n",
        "    Hu[0][-2]=np.sqrt(KapL/4)*np.random.normal()\n",
        "    Hu[0][-3]=np.sqrt(KapR/4)*np.random.normal()\n",
        "    Hu[0][-4]=np.sqrt(KapR/4)*np.random.normal()\n",
        "    \n",
        "    return Hu\n",
        "\n"
      ]
    },
    {
      "cell_type": "code",
      "execution_count": 18,
      "metadata": {
        "id": "UBnVjQx5Lggg"
      },
      "outputs": [],
      "source": [
        ""
      ]
    },
    {
      "cell_type": "code",
      "execution_count": 101,
      "metadata": {
        "id": "OXOS5DG1vfpP"
      },
      "outputs": [],
      "source": [
        "inv_frac=150\n",
        "\n",
        "Major_index=int(steps1/inv_frac)\n",
        "#New_column=zeros((steps1//Major_index, int(15*16/2)))\n",
        "New_column=zeros((steps1//Major_index, int(30)))\n"
      ]
    },
    {
      "cell_type": "code",
      "execution_count": 102,
      "metadata": {
        "id": "B7LPszbpABZQ"
      },
      "outputs": [],
      "source": [
        "def partit(number,array):\n",
        "    j=0\n",
        "    dis=len(array)\n",
        "    result=[]\n",
        "    while j*number<dis:\n",
        "        result.append(array[j*number])\n",
        "        j=j+1\n",
        "    return result\n",
        "\n",
        "\n",
        "\n",
        "\n",
        "\n",
        "\n",
        "t_reduced=np.zeros((1,steps1//Major_index))\n",
        "\n",
        "for j in range(steps1//Major_index):\n",
        "    t_reduced[0][j]=t_alt[Major_index*j]\n",
        "    \n",
        "    #for k in range(Ns//Major_index):\n",
        "    #    y_reduced[k]=y[k*Major_index]\n",
        "    \n",
        "time_alt=t_reduced[0]\n",
        "\n",
        "\n",
        "#  t_reduced[0] is the reduced time vector"
      ]
    },
    {
      "cell_type": "code",
      "execution_count": 102,
      "metadata": {
        "id": "bs2y0pHvylgH"
      },
      "outputs": [],
      "source": [
        ""
      ]
    },
    {
      "cell_type": "markdown",
      "metadata": {
        "id": "BLTBI1BGvghm"
      },
      "source": [
        "# SH I"
      ]
    },
    {
      "cell_type": "code",
      "execution_count": 103,
      "metadata": {
        "id": "aRoBUuELL6l6"
      },
      "outputs": [],
      "source": [
        "Stochastic=1\n",
        "\n",
        "\n",
        "@jit\n",
        "\n",
        "\n",
        "\n",
        "def stratHeunImpII(f, G, y0, tspan, dW=None):\n",
        "    \n",
        "    \n",
        "    \n",
        "    \"\"\"Use the Euler-Maruyama algorithm to integrate the Ito equation\n",
        "    dy = f(y,t)dt + G(y,t) dW(t)\n",
        "    where y is the d-dimensional state vector, f is a vector-valued function,\n",
        "    G is an d x m matrix-valued function giving the noise coefficients and\n",
        "    dW(t) = (dW_1, dW_2, ... dW_m) is a vector of independent Wiener increments\n",
        "    Args:\n",
        "      f: callable(y, t) returning (d,) array\n",
        "         Vector-valued function to define the deterministic part of the system\n",
        "      G: callable(y, t) returning (d,m) array\n",
        "         Matrix-valued function to define the noise coefficients of the system\n",
        "      y0: array of shape (d,) giving the initial state vector y(t==0)\n",
        "      tspan (array): The sequence of time points for which to solve for y.\n",
        "        These must be equally spaced, e.g. np.arange(0,10,0.005)\n",
        "        tspan[0] is the intial time corresponding to the initial state y0.\n",
        "      dW: optional array of shape (len(tspan)-1, d). This is for advanced use,\n",
        "        if you want to use a specific realization of the d independent Wiener\n",
        "        processes. If not provided Wiener increments will be generated randomly\n",
        "    Returns:\n",
        "      y: array, with shape (len(tspan), len(y0))\n",
        "         With the initial value y0 in the first row\n",
        "    Raises:\n",
        "      SDEValueError\n",
        "    See also:\n",
        "      G. Maruyama (1955) Continuous Markov processes and stochastic equations\n",
        "      Kloeden and Platen (1999) Numerical Solution of Differential Equations\n",
        "    \"\"\"\n",
        "    (d, m, f, G, y0, tspan, dW, __) = _check_args(f, G, y0, tspan, dW, None)\n",
        "    Ns = len(tspan)\n",
        "    h = (tspan[Ns-1] - tspan[0])/(Ns - 1)\n",
        "    # allocate space for result\n",
        "    y = np.zeros((Ns, d), dtype=type(y0[0]))\n",
        "\n",
        "    y[0] = y0;\n",
        "\n",
        "    \n",
        "    for n in range(0, Ns-1):\n",
        "        \n",
        "        Rand_vectn=np.sqrt(h)*random_vect(KapR=KapR)[0]\n",
        "        tn = tspan[n]\n",
        "        tnp1 = tspan[n+1]\n",
        "        yn = y[n]\n",
        "\n",
        "\n",
        "        fn = f(yn, tn)\n",
        "        ybar = yn + fn*h  + Stochastic*Rand_vectn\n",
        "        fnbar = f(ybar, tnp1)\n",
        "        y[n+1] = yn + 0.5*(fn + fnbar)*h  + Stochastic*Rand_vectn\n",
        "   \n",
        "\n",
        "\n",
        "\n",
        "    y_reduced=np.zeros((Ns//Major_index, d), dtype=type(y0[0]))\n",
        "\n",
        "    total_elements=3\n",
        "\n",
        "    for k in range(Ns//Major_index):\n",
        "        y_partial=y[k*Major_index]\n",
        "        counter=1\n",
        "        for ik_dex in range(1,total_elements):\n",
        "            y_partial=y_partial+y[k*Major_index+ik_dex]\n",
        "            counter=counter+1\n",
        "            \n",
        "        y_k=y_partial/counter\n",
        "\n",
        "        y_reduced[k]   =y_k\n",
        "        \n",
        "        \n",
        "\n",
        "\n",
        "    return y_reduced"
      ]
    },
    {
      "cell_type": "code",
      "execution_count": 103,
      "metadata": {
        "id": "r8w-HidvABZT"
      },
      "outputs": [],
      "source": [
        ""
      ]
    },
    {
      "cell_type": "code",
      "execution_count": 104,
      "metadata": {
        "id": "TGcp6N-MABZT"
      },
      "outputs": [],
      "source": [
        "@jit\n",
        "\n",
        "def SDE_sol():\n",
        "    \n",
        "    #Sum_TWA=zeros((15,1))\n",
        "\n",
        "    #for j in range(N):\n",
        "    #    Sum_TWA=Sum_TWA+random.multivariate_normal(real(Miu), Cov_mat_list, 1).T\n",
        "    \n",
        "    #y0=list(Sum_TWA.flatten())+[random.normal(0, 0.5),random.normal(0, 0.5),random.normal(0, 0.5),random.normal(0, 0.5)]\n",
        "    \n",
        "\n",
        "    Sum_TWA=random.multivariate_normal(N*np.array(real(Miu)), N*np.array(Cov_mat_list), 1).T\n",
        "    \n",
        "    y0=list(Sum_TWA.flatten())+[random.normal(0, 0.5),random.normal(0, 0.5),random.normal(0, 0.5),random.normal(0, 0.5)]\n",
        "\n",
        "    \n",
        "    return stratHeunImpII(f, GG, y0, t_alt)"
      ]
    },
    {
      "cell_type": "code",
      "execution_count": 104,
      "metadata": {
        "id": "ePN6fcA1ABZU",
        "scrolled": false
      },
      "outputs": [],
      "source": [
        ""
      ]
    },
    {
      "cell_type": "code",
      "execution_count": 105,
      "metadata": {
        "id": "fW9MukY_ABZU"
      },
      "outputs": [],
      "source": [
        "\n",
        "#resu=C_system_tilde(Tester)[0]\n",
        "#resu_den=Den_mat\n",
        "#counter=1\n",
        "#for j in range(50):\n",
        "    \n",
        "#    Fin=SDE_sol()[0][0][:15]\n",
        "    \n",
        "#    Rt=density_mat(Fin)\n",
        "   \n",
        "#    Den_mat=Rt/np.trace(Rt)\n",
        "#    resu_den=resu_den+Den_mat\n",
        "#    resu=resu+C_system_tilde(Den_mat)[0]\n",
        "#    counter=counter+1\n",
        "    \n",
        "#resu/counter\n",
        "\n"
      ]
    },
    {
      "cell_type": "code",
      "execution_count": 105,
      "metadata": {
        "id": "_qNMS0JbABZU"
      },
      "outputs": [],
      "source": [
        ""
      ]
    },
    {
      "cell_type": "code",
      "execution_count": 105,
      "metadata": {
        "id": "O2t0k6-FABZU"
      },
      "outputs": [],
      "source": [
        ""
      ]
    },
    {
      "cell_type": "code",
      "execution_count": 106,
      "metadata": {
        "id": "mGCmdTruL6vg"
      },
      "outputs": [],
      "source": [
        "from numpy import add\n",
        "from numba import jit\n",
        "\n",
        "\n",
        "\n",
        "itera=5000\n",
        "@jit\n",
        "\n",
        "def averages_sde(itera=itera,N=N):\n",
        "    Results =SDE_sol()\n",
        "    \n",
        "    Result_First  =Results\n",
        "    print(0)\n",
        "\n",
        "    for j in range(itera-1):\n",
        "        Trayec=SDE_sol()\n",
        "        Result_First  =add(Result_First  ,Trayec)\n",
        "\n",
        "        print(j+1)\n",
        "    \n",
        "    return Result_First/itera"
      ]
    },
    {
      "cell_type": "code",
      "execution_count": 106,
      "metadata": {
        "id": "Q1s6zrrKABZV"
      },
      "outputs": [],
      "source": [
        ""
      ]
    },
    {
      "cell_type": "code",
      "execution_count": null,
      "metadata": {
        "colab": {
          "base_uri": "https://localhost:8080/"
        },
        "id": "nwiURazwABZV",
        "outputId": "75a3642a-a4ab-47ef-b575-1cf1f6e15a18"
      },
      "outputs": [
        {
          "output_type": "stream",
          "name": "stdout",
          "text": [
            "0\n",
            "1\n",
            "2\n",
            "3\n",
            "4\n",
            "5\n",
            "6\n",
            "7\n",
            "8\n",
            "9\n",
            "10\n",
            "11\n",
            "12\n",
            "13\n",
            "14\n",
            "15\n",
            "16\n",
            "17\n",
            "18\n",
            "19\n",
            "20\n",
            "21\n",
            "22\n",
            "23\n",
            "24\n",
            "25\n",
            "26\n",
            "27\n",
            "28\n",
            "29\n",
            "30\n"
          ]
        }
      ],
      "source": [
        "import time\n",
        "t0=time.time()\n",
        "\n",
        "itera=5000\n",
        "\n",
        "Result_varTWA_Col_SDE = averages_sde(itera=itera,N=N)\n",
        "#Result_varTWA_Col_TWA = averages_sde(itera=itera,N=N)\n",
        "\n",
        "\n",
        "t1=time.time()\n",
        "\n",
        "print(t1-t0)"
      ]
    },
    {
      "cell_type": "code",
      "execution_count": null,
      "metadata": {
        "id": "2Yva5NuFABZV"
      },
      "outputs": [],
      "source": [
        ""
      ]
    },
    {
      "cell_type": "code",
      "source": [
        ""
      ],
      "metadata": {
        "id": "Lzb5R5kfolyL"
      },
      "execution_count": null,
      "outputs": []
    },
    {
      "cell_type": "code",
      "source": [
        "import math\n",
        "\n",
        "\n",
        "def arctan_array(x_array,y_array):\n",
        "    \n",
        "    Resu_arc=[]\n",
        "    \n",
        "    for j in range(len(x_array)):\n",
        "        if y_array[j]==0 and x_array[j]==0:\n",
        "            Resu_arc.append(0)\n",
        "        else:\n",
        "            Resu_arc.append(math.atan2(y_array[j],x_array[j]))\n",
        "    \n",
        "    return Resu_arc"
      ],
      "metadata": {
        "id": "IETb2dtjol1E"
      },
      "execution_count": null,
      "outputs": []
    },
    {
      "cell_type": "code",
      "source": [
        ""
      ],
      "metadata": {
        "id": "uU6kbh6vol4C"
      },
      "execution_count": null,
      "outputs": []
    },
    {
      "cell_type": "code",
      "source": [
        ""
      ],
      "metadata": {
        "id": "JFj26oLBol6z"
      },
      "execution_count": null,
      "outputs": []
    },
    {
      "cell_type": "code",
      "source": [
        ""
      ],
      "metadata": {
        "id": "--TNSikAb8cg"
      },
      "execution_count": null,
      "outputs": []
    },
    {
      "cell_type": "code",
      "source": [
        "decimals=3\n",
        "\n",
        "\n",
        "fig, ((ax1, ax2), (ax3, ax4), (ax5, ax6)) = plt.subplots(3, 2)\n",
        "fig.suptitle('Quantum Evolution of Operators')\n",
        "yeSH=np.around(Result_varTWA_Col_SDE[:,6]/sqrt(2),decimals=decimals)\n",
        "xeSH=np.around(Result_varTWA_Col_SDE[:,0]/sqrt(2),decimals=decimals)\n",
        "ax1.plot(N*time_alt*GammaR, xeSH,label=\"$S_{01x}$\")\n",
        "ax1.plot(N*time_alt*GammaR, yeSH,label=\"$S_{01y}$\")\n",
        "ax1.legend()\n",
        "\n",
        "yeSH=np.around(Result_varTWA_Col_SDE[:,7]/sqrt(2),decimals=decimals)\n",
        "xeSH=np.around(Result_varTWA_Col_SDE[:,1]/sqrt(2),decimals=decimals)\n",
        "ax2.plot(N*time_alt*GammaR, xeSH,label=\"$S_{02x}$\")\n",
        "ax2.plot(N*time_alt*GammaR, yeSH,label=\"$S_{02y}$\")\n",
        "ax2.legend()\n",
        "\n",
        "yeSH=np.around(Result_varTWA_Col_SDE[:,8]/sqrt(2),decimals=decimals)\n",
        "xeSH=np.around(Result_varTWA_Col_SDE[:,2]/sqrt(2),decimals=decimals)\n",
        "ax3.plot(N*time_alt*GammaR, xeSH,label=\"$S_{03x}$\")\n",
        "ax3.plot(N*time_alt*GammaR, yeSH,label=\"$S_{03y}$\")\n",
        "ax3.legend()\n",
        "\n",
        "yeSH=np.around(Result_varTWA_Col_SDE[:,9]/sqrt(2),decimals=decimals)\n",
        "xeSH=np.around(Result_varTWA_Col_SDE[:,3]/sqrt(2),decimals=decimals)\n",
        "ax4.plot(N*time_alt*GammaR, xeSH,label=\"$S_{12x}$\")\n",
        "ax4.plot(N*time_alt*GammaR, yeSH,label=\"$S_{12y}$\")\n",
        "ax4.legend()\n",
        "\n",
        "yeSH=np.around(Result_varTWA_Col_SDE[:,10]/sqrt(2),decimals=decimals)\n",
        "xeSH=np.around(Result_varTWA_Col_SDE[:,4]/sqrt(2),decimals=decimals)\n",
        "ax5.plot(N*time_alt*GammaR, xeSH,label=\"$S_{13x}$\")\n",
        "ax5.plot(N*time_alt*GammaR, yeSH,label=\"$S_{13y}$\")\n",
        "ax5.legend()\n",
        "\n",
        "yeSH=np.around(Result_varTWA_Col_SDE[:,11]/sqrt(2),decimals=decimals)\n",
        "xeSH=np.around(Result_varTWA_Col_SDE[:,5]/sqrt(2),decimals=decimals)\n",
        "ax6.plot(N*time_alt*GammaR, xeSH,label=\"$S_{23x}$\")\n",
        "ax6.plot(N*time_alt*GammaR, yeSH,label=\"$S_{23y}$\")\n",
        "ax6.legend()\n",
        "\n",
        "\n",
        "#ax1.plot(x, y)\n",
        "#ax2.plot(x, y**2, 'tab:orange')\n",
        "#ax3.plot(x, -y, 'tab:green')\n",
        "#ax4.plot(x, -y**2, 'tab:red')\n",
        "\n",
        "#for ax in fig.get_axes():\n",
        "#    ax.label_outer()"
      ],
      "metadata": {
        "id": "EGPFspNPi3Gv"
      },
      "execution_count": null,
      "outputs": []
    },
    {
      "cell_type": "code",
      "source": [
        ""
      ],
      "metadata": {
        "id": "ULeXy1pe0hnJ"
      },
      "execution_count": null,
      "outputs": []
    },
    {
      "cell_type": "code",
      "source": [
        "decimals=3\n",
        "\n",
        "\n",
        "fig, ((ax1, ax2), (ax3, ax4)) = plt.subplots(2, 2)\n",
        "fig.suptitle('Quantum Evolution of Populations')\n",
        "yeSH=np.around(Result_varTWA_Col_SDE[:,12],decimals=decimals)\n",
        "ax1.plot(N*time_alt*GammaR, yeSH,'b',label=\"$n_{0}$\")\n",
        "ax1.legend()\n",
        "\n",
        "yeSH=np.around(Result_varTWA_Col_SDE[:,13],decimals=decimals)\n",
        "ax2.plot(N*time_alt*GammaR, yeSH,'g',label=\"$n_{1}$\")\n",
        "ax2.legend()\n",
        "\n",
        "yeSH=np.around(Result_varTWA_Col_SDE[:,14],decimals=decimals)\n",
        "ax3.plot(N*time_alt*GammaR, yeSH,'k',label=\"$n_{2}$\")\n",
        "ax3.legend()\n",
        "\n",
        "yeSH=np.around(N-Result_varTWA_Col_SDE[:,12]-Result_varTWA_Col_SDE[:,13]-Result_varTWA_Col_SDE[:,14],decimals=decimals)\n",
        "ax4.plot(N*time_alt*GammaR, yeSH,'r',label=\"$n_{3}$\")\n",
        "ax4.legend()\n",
        "\n",
        "\n",
        "#ax1.plot(x, y)\n",
        "#ax2.plot(x, y**2, 'tab:orange')\n",
        "#ax3.plot(x, -y, 'tab:green')\n",
        "#ax4.plot(x, -y**2, 'tab:red')\n",
        "\n",
        "#for ax in fig.get_axes():\n",
        "#    ax.label_outer()"
      ],
      "metadata": {
        "id": "-JEuo8ao0hrI"
      },
      "execution_count": null,
      "outputs": []
    },
    {
      "cell_type": "code",
      "source": [
        ""
      ],
      "metadata": {
        "id": "mxR3Ywr10h4r"
      },
      "execution_count": null,
      "outputs": []
    },
    {
      "cell_type": "code",
      "source": [
        "decimals=3\n",
        "start=1\n",
        "\n",
        "fig, ((ax1, ax2), (ax3, ax4), (ax5, ax6)) = plt.subplots(3, 2)\n",
        "fig.suptitle('Quantum Evolution of Angles')\n",
        "\n",
        "\n",
        "yeSH=np.around(Result_varTWA_Col_SDE[:,6]/sqrt(2),decimals=decimals)\n",
        "xeSH=np.around(Result_varTWA_Col_SDE[:,0]/sqrt(2),decimals=decimals)\n",
        "ax1.plot(N*GammaR*time_alt[start:], arctan_array(yeSH ,xeSH)[start:],'b',label=\"Angle $\\\\theta_{01,+}$\")\n",
        "ax1.legend()\n",
        "\n",
        "yeSH=np.around(Result_varTWA_Col_SDE[:,7]/sqrt(2),decimals=decimals)\n",
        "xeSH=np.around(Result_varTWA_Col_SDE[:,1]/sqrt(2),decimals=decimals)\n",
        "ax2.plot(N*GammaR*time_alt[start:], arctan_array(yeSH ,xeSH)[start:],'g',label=\"Angle $\\\\theta_{02,+}$\")\n",
        "ax2.legend()\n",
        "\n",
        "yeSH=np.around(Result_varTWA_Col_SDE[:,8]/sqrt(2),decimals=decimals)\n",
        "xeSH=np.around(Result_varTWA_Col_SDE[:,2]/sqrt(2),decimals=decimals)\n",
        "ax3.plot(N*GammaR*time_alt[start:], arctan_array(yeSH ,xeSH)[start:],'r',label=\"Angle $\\\\theta_{03,+}$\")\n",
        "ax3.legend()\n",
        "\n",
        "yeSH=np.around(Result_varTWA_Col_SDE[:,9]/sqrt(2),decimals=decimals)\n",
        "xeSH=np.around(Result_varTWA_Col_SDE[:,3]/sqrt(2),decimals=decimals)\n",
        "ax4.plot(N*GammaR*time_alt[start:], arctan_array(yeSH ,xeSH)[start:],'k',label=\"Angle $\\\\theta_{12,+}$\")\n",
        "ax4.legend()\n",
        "\n",
        "yeSH=np.around(Result_varTWA_Col_SDE[:,10]/sqrt(2),decimals=decimals)\n",
        "xeSH=np.around(Result_varTWA_Col_SDE[:,4]/sqrt(2),decimals=decimals)\n",
        "ax5.plot(N*GammaR*time_alt[start:], arctan_array(yeSH ,xeSH)[start:],'m',label=\"Angle $\\\\theta_{13,+}$\")\n",
        "ax5.legend()\n",
        "\n",
        "yeSH=np.around(Result_varTWA_Col_SDE[:,11]/sqrt(2),decimals=decimals)\n",
        "xeSH=np.around(Result_varTWA_Col_SDE[:,5]/sqrt(2),decimals=decimals)\n",
        "ax6.plot(N*GammaR*time_alt[start:], arctan_array(yeSH ,xeSH)[start:],'',label=\"Angle $\\\\theta_{23,+}$\")\n",
        "ax6.legend()\n",
        "\n",
        "\n",
        "#ax1.plot(x, y)\n",
        "#ax2.plot(x, y**2, 'tab:orange')\n",
        "#ax3.plot(x, -y, 'tab:green')\n",
        "#ax4.plot(x, -y**2, 'tab:red')\n",
        "\n",
        "#for ax in fig.get_axes():\n",
        "#    ax.label_outer()"
      ],
      "metadata": {
        "id": "5Minj7IHmyFU"
      },
      "execution_count": null,
      "outputs": []
    },
    {
      "cell_type": "code",
      "source": [
        ""
      ],
      "metadata": {
        "id": "yXCufC7LtbwT"
      },
      "execution_count": null,
      "outputs": []
    },
    {
      "cell_type": "code",
      "source": [
        ""
      ],
      "metadata": {
        "id": "ragaZqr-xUGS"
      },
      "execution_count": null,
      "outputs": []
    },
    {
      "cell_type": "code",
      "source": [
        ""
      ],
      "metadata": {
        "id": "69z3_HqtxVpb"
      },
      "execution_count": null,
      "outputs": []
    }
  ],
  "metadata": {
    "colab": {
      "collapsed_sections": [],
      "machine_shape": "hm",
      "name": "AngleDyn4LS.ipynb",
      "provenance": []
    },
    "kernelspec": {
      "display_name": "Python 3",
      "language": "python",
      "name": "python3"
    },
    "language_info": {
      "codemirror_mode": {
        "name": "ipython",
        "version": 3
      },
      "file_extension": ".py",
      "mimetype": "text/x-python",
      "name": "python",
      "nbconvert_exporter": "python",
      "pygments_lexer": "ipython3",
      "version": "3.8.3"
    }
  },
  "nbformat": 4,
  "nbformat_minor": 0
}