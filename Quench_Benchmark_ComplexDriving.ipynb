{
  "cells": [
    {
      "cell_type": "markdown",
      "metadata": {
        "id": "h9Jb883pGYBR"
      },
      "source": [
        "# Parameters"
      ]
    },
    {
      "cell_type": "code",
      "execution_count": 23,
      "metadata": {
        "id": "tb6RI3UhGYBZ"
      },
      "outputs": [],
      "source": [
        "import matplotlib.pyplot as plt\n",
        "import numpy as np\n",
        "\n",
        "\"\"\"In order to provide a better presentation of the graphs we use the rcParams options shown below.\"\"\"\n",
        "\n",
        "import matplotlib\n",
        "matplotlib.rcParams['text.usetex'] = False\n",
        "matplotlib.rcParams['mathtext.fontset'] = 'stix'\n",
        "matplotlib.rcParams['font.family'] = 'STIXGeneral'\n",
        "matplotlib.rcParams['font.size'] = 15\n",
        "matplotlib.rcParams['figure.figsize'] = (11.0, 8.0)\n",
        "\n",
        "from numpy import cos, sin\n",
        "\n",
        "label_size = 20"
      ]
    },
    {
      "cell_type": "code",
      "execution_count": 24,
      "metadata": {
        "id": "Axupp3iNGYBe"
      },
      "outputs": [],
      "source": [
        "from numpy import sqrt"
      ]
    },
    {
      "cell_type": "code",
      "execution_count": 25,
      "metadata": {
        "id": "4YkFMtXwGYBf"
      },
      "outputs": [],
      "source": [
        "import time\n",
        "from numba import jit\n",
        "from numpy import sin, cos\n",
        "\n",
        "T0=time.time()"
      ]
    },
    {
      "cell_type": "code",
      "execution_count": 27,
      "metadata": {
        "id": "mKIMW34aGYBg"
      },
      "outputs": [],
      "source": [
        ""
      ]
    },
    {
      "cell_type": "code",
      "execution_count": 28,
      "metadata": {
        "id": "yhFmGyQGGYBh"
      },
      "outputs": [],
      "source": [
        "#Parameters\n",
        "\n",
        "Theta=np.pi/2\n",
        "Phi  =0\n",
        "\n",
        "\n",
        "#Number of atoms\n",
        "\n",
        "N=20000\n",
        "\n",
        "\n",
        "#Basic parameters\n",
        "\n",
        "gR=1\n",
        "DeltaR=0\n",
        "KapR= 15 *gR*sqrt(( (cos(Theta/2))**2 )*N)\n",
        "\n",
        "gL=1\n",
        "DeltaL=0 \n",
        "KapL=15 *gL*sqrt(( (sin(Theta/2))**2 )*N)\n",
        "\n",
        "\n",
        "### Complex Drivings\n",
        "\n",
        "Angle_R=  np.pi/10\n",
        "Angle_L=  np.pi/10\n",
        "\n",
        "fractionR=0.7\n",
        "fractionL=0.7\n",
        "\n",
        "OmegaR_complex=fractionR*(2*(gR**2)*( (cos(Theta/2))**2 )*N/(KapR+1e-10))  * np.exp(  1j* Angle_R)\n",
        "OmegaL_complex=fractionL*(2*(gL**2)*( (sin(Theta/2))**2 )*N/(KapL+1e-10))  * np.exp(  1j* Angle_L)\n",
        "\n",
        "\n",
        "\n",
        "\n",
        "OmegaR    = np.real( OmegaR_complex )  # fractionR*(2*(gR**2)*( (cos(Theta/2))**2 )*N/(KapR+1e-10))\n",
        "OmegaR_im = np.imag( OmegaR_complex )\n",
        "\n",
        "OmegaL    = np.real( OmegaL_complex)   #fractionL*(2*(gL**2)*( (sin(Theta/2))**2 )*N/(KapL+1e-10))\n",
        "OmegaL_im = np.imag( OmegaL_complex )\n"
      ]
    },
    {
      "cell_type": "markdown",
      "metadata": {
        "id": "V3RGg6RIGYCT"
      },
      "source": [
        "# Hamiltonian"
      ]
    },
    {
      "cell_type": "code",
      "execution_count": 29,
      "metadata": {
        "id": "esD0UlefYhFB"
      },
      "outputs": [],
      "source": [
        "t_final=1.8\n"
      ]
    },
    {
      "cell_type": "code",
      "execution_count": 30,
      "metadata": {
        "id": "gEunh0vXYhIC"
      },
      "outputs": [],
      "source": [
        "chiR=DeltaR*(gR**2)/(DeltaR**2+(KapR/2)**2+1e-10)\n",
        "chiL=DeltaL*(gL**2)/(DeltaL**2+(KapL/2)**2+1e-10)\n",
        "\n",
        "\n",
        "\n",
        "GammaR=2*(OmegaR/fractionR)/(N* (cos(Theta/2))**2 +1e-10)\n",
        "GammaL=2*(OmegaR/fractionR)/(N*(sin(Theta/2))**2  +1e-10)\n"
      ]
    },
    {
      "cell_type": "code",
      "execution_count": 31,
      "metadata": {
        "colab": {
          "base_uri": "https://localhost:8080/"
        },
        "id": "7Y7h68D7YhKq",
        "outputId": "4e5dfa11-f90a-49ba-a7c1-771f1912d1b6"
      },
      "outputs": [
        {
          "output_type": "stream",
          "name": "stdout",
          "text": [
            "0.0 0.0 8.87652748542084 8.87652748542084 0.0025361507101202144 0.0025361507101202153\n"
          ]
        }
      ],
      "source": [
        "print(chiR,chiL,OmegaR,OmegaL,GammaR,GammaL)"
      ]
    },
    {
      "cell_type": "code",
      "execution_count": 32,
      "metadata": {
        "colab": {
          "base_uri": "https://localhost:8080/"
        },
        "id": "0PiGskSQGYCT",
        "outputId": "4ddb6fa8-c65d-440f-b688-edaf7e88c891"
      },
      "outputs": [
        {
          "output_type": "stream",
          "name": "stdout",
          "text": [
            "91.30142556432772\n"
          ]
        }
      ],
      "source": [
        "print(N*GammaR*t_final)"
      ]
    },
    {
      "cell_type": "code",
      "execution_count": 33,
      "metadata": {
        "id": "JFHbxCwYWAvc"
      },
      "outputs": [],
      "source": [
        "import matplotlib.pyplot as plt\n",
        "import numpy as np\n",
        "from numpy import sin, cos, sqrt\n",
        "\n",
        "\"\"\"In order to provide a better presentation of the graphs we use the rcParams options shown below.\"\"\"\n",
        "\n",
        "import matplotlib\n",
        "matplotlib.rcParams['text.usetex'] = False\n",
        "matplotlib.rcParams['mathtext.fontset'] = 'stix'\n",
        "matplotlib.rcParams['font.family'] = 'STIXGeneral'\n",
        "matplotlib.rcParams['font.size'] = 15\n",
        "matplotlib.rcParams['figure.figsize'] = (11.0, 8.0)\n",
        "\n",
        "from numpy import sqrt\n",
        "\n",
        "import time\n",
        "from numba import jit\n",
        "\n",
        "\n",
        "\n",
        "\n",
        "from scipy.sparse import identity\n",
        "from scipy.sparse import lil_matrix\n",
        "from scipy.sparse import csr_matrix\n",
        "\n",
        "\n",
        "# Definition of Dicke-Generalized States\n",
        "\n",
        "import numpy as np\n",
        "from numpy import sqrt\n",
        "import matplotlib.pyplot as plt\n",
        "\n",
        "\n",
        "#--------------------------------------\n",
        "\n",
        "State_List=[]\n",
        "\n",
        "import scipy.special\n",
        "\n",
        "\n",
        "\n",
        "\n",
        "\n",
        "import time \n",
        "\n",
        "import itertools\n",
        "from itertools import permutations\n",
        "from numba import jit\n"
      ]
    },
    {
      "cell_type": "code",
      "execution_count": 33,
      "metadata": {
        "id": "MMzKB5I6WAya"
      },
      "outputs": [],
      "source": [
        ""
      ]
    },
    {
      "cell_type": "code",
      "execution_count": 34,
      "metadata": {
        "colab": {
          "base_uri": "https://localhost:8080/"
        },
        "id": "7MdjfndqJqzl",
        "outputId": "e8f49593-e3bd-4b5f-fb10-e8c4e591686c"
      },
      "outputs": [
        {
          "output_type": "stream",
          "name": "stdout",
          "text": [
            "Requirement already satisfied: sdeint in /usr/local/lib/python3.7/dist-packages (0.2.2)\n",
            "Requirement already satisfied: numpy>=1.6 in /usr/local/lib/python3.7/dist-packages (from sdeint) (1.19.5)\n"
          ]
        }
      ],
      "source": [
        "pip install sdeint"
      ]
    },
    {
      "cell_type": "code",
      "execution_count": 35,
      "metadata": {
        "id": "Lt8zwW0cJq5Y"
      },
      "outputs": [],
      "source": [
        "import numpy as np\n",
        "import matplotlib.pyplot as plt\n",
        "%matplotlib inline\n",
        "from numpy import random, zeros, sqrt,cos,sin\n",
        "\n",
        "import matplotlib.pyplot as plt\n",
        "import numpy as np\n",
        "import sdeint\n",
        "import time\n",
        "from sdeint import itoint, stratint, itoSRI2, stratKP2iS,itoEuler\n",
        "from numba import jit\n",
        "import numbers\n",
        "\n",
        "from numpy import sqrt, zeros, diag, random, real, array, complex_, transpose, conjugate, exp, matmul, real\n",
        "\n",
        "\n",
        "import matplotlib\n",
        "import matplotlib.pyplot as plt"
      ]
    },
    {
      "cell_type": "code",
      "execution_count": 35,
      "metadata": {
        "id": "k2aRLhDEJq9r"
      },
      "outputs": [],
      "source": [
        ""
      ]
    },
    {
      "cell_type": "code",
      "execution_count": 36,
      "metadata": {
        "id": "_4U-l4WdJrCn"
      },
      "outputs": [],
      "source": [
        "import matplotlib.pyplot as plt\n",
        "import numpy as np\n",
        "\n",
        "\"\"\"In order to provide a better presentation of the graphs we use the rcParams options shown below.\"\"\"\n",
        "\n",
        "import matplotlib\n",
        "matplotlib.rcParams['text.usetex'] = False\n",
        "matplotlib.rcParams['mathtext.fontset'] = 'stix'\n",
        "matplotlib.rcParams['font.family'] = 'STIXGeneral'\n",
        "matplotlib.rcParams['font.size'] = 15\n",
        "matplotlib.rcParams['figure.figsize'] = (11.0, 8.0)"
      ]
    },
    {
      "cell_type": "code",
      "execution_count": 36,
      "metadata": {
        "id": "58oDIGRSLfWQ"
      },
      "outputs": [],
      "source": [
        ""
      ]
    },
    {
      "cell_type": "code",
      "execution_count": 36,
      "metadata": {
        "id": "2QNwaFMAvW9G"
      },
      "outputs": [],
      "source": [
        ""
      ]
    },
    {
      "cell_type": "code",
      "execution_count": 37,
      "metadata": {
        "id": "kFRmYPlJLgE0"
      },
      "outputs": [],
      "source": [
        "def _check_args(f, G, y0, tspan, dW=None, IJ=None):\n",
        "    \"\"\"Do some validation common to all algorithms. Find dimension d and number\n",
        "    of Wiener processes m.\n",
        "    \"\"\"\n",
        "    if not np.isclose(min(np.diff(tspan)), max(np.diff(tspan))):\n",
        "        raise SDEValueError('Currently time steps must be equally spaced.')\n",
        "    # Be flexible to allow scalar equations. convert them to a 1D vector system\n",
        "    if isinstance(y0, numbers.Number):\n",
        "        if isinstance(y0, numbers.Integral):\n",
        "            numtype = np.float64\n",
        "        else:\n",
        "            numtype = type(y0)\n",
        "        y0_orig = y0\n",
        "        y0 = np.array([y0], dtype=numtype)\n",
        "        def make_vector_fn(fn):\n",
        "            def newfn(y, t):\n",
        "                return np.array([fn(y[0], t)], dtype=numtype)\n",
        "            newfn.__name__ = fn.__name__\n",
        "            return newfn\n",
        "        def make_matrix_fn(fn):\n",
        "            def newfn(y, t):\n",
        "                return np.array([[fn(y[0], t)]], dtype=numtype)\n",
        "            newfn.__name__ = fn.__name__\n",
        "            return newfn\n",
        "        if isinstance(f(y0_orig, tspan[0]), numbers.Number):\n",
        "            f = make_vector_fn(f)\n",
        "        if isinstance(G(y0_orig, tspan[0]), numbers.Number):\n",
        "            G = make_matrix_fn(G)\n",
        "    # determine dimension d of the system\n",
        "    d = len(y0)\n",
        "    if len(f(y0, tspan[0])) != d:\n",
        "        raise SDEValueError('y0 and f have incompatible shapes.')\n",
        "    message = \"\"\"y0 has length %d. So G must either be a single function\n",
        "              returning a matrix of shape (%d, m), or else a list of m separate\n",
        "              functions each returning a column of G, with shape (%d,)\"\"\" % (\n",
        "                  d, d, d)\n",
        "    if callable(G):\n",
        "        # then G must be a function returning a d x m matrix\n",
        "        Gtest = G(y0, tspan[0])\n",
        "        if Gtest.ndim != 2 or Gtest.shape[0] != d:\n",
        "            raise SDEValueError(message)\n",
        "        # determine number of independent Wiener processes m\n",
        "        m = Gtest.shape[1]\n",
        "    else:\n",
        "        # G should be a list of m functions g_i giving columns of G\n",
        "        G = tuple(G)\n",
        "        m = len(G)\n",
        "        Gtest = np.zeros((d, m))\n",
        "        for k in range(0, m):\n",
        "            if not callable(G[k]):\n",
        "                raise SDEValueError(message)\n",
        "            Gtestk = G[k](y0, tspan[0])\n",
        "            if np.shape(Gtestk) != (d,):\n",
        "                raise SDEValueError(message)\n",
        "            Gtest[:,k] = Gtestk\n",
        "    message = \"\"\"From function G, it seems m==%d. If present, the optional\n",
        "              parameter dW must be an array of shape (len(tspan)-1, m) giving\n",
        "              m independent Wiener increments for each time interval.\"\"\" % m\n",
        "    if dW is not None:\n",
        "        if not hasattr(dW, 'shape') or dW.shape != (len(tspan) - 1, m):\n",
        "            raise SDEValueError(message)\n",
        "    message = \"\"\"From function G, it seems m==%d. If present, the optional\n",
        "              parameter I or J must be an array of shape (len(tspan)-1, m, m)\n",
        "              giving an m x m matrix of repeated integral values for each\n",
        "              time interval.\"\"\" % m\n",
        "    if IJ is not None:\n",
        "        if not hasattr(IJ, 'shape') or IJ.shape != (len(tspan) - 1, m, m):\n",
        "            raise SDEValueError(message)\n",
        "    return (d, m, f, G, y0, tspan, dW, IJ)"
      ]
    },
    {
      "cell_type": "code",
      "execution_count": 37,
      "metadata": {
        "id": "6LWY7IFFLgJr"
      },
      "outputs": [],
      "source": [
        ""
      ]
    },
    {
      "cell_type": "code",
      "execution_count": 38,
      "metadata": {
        "colab": {
          "base_uri": "https://localhost:8080/"
        },
        "id": "1u288h7VLgMB",
        "outputId": "d1a8d070-34a7-4bbf-a390-cf512aa6309e"
      },
      "outputs": [
        {
          "output_type": "stream",
          "name": "stdout",
          "text": [
            "9e-06 91.30142556432772\n"
          ]
        }
      ],
      "source": [
        "\n",
        "\n",
        "theta = Theta\n",
        "phi   = Phi\n",
        "\n",
        "\n",
        "steps1=200000\n",
        "\n",
        "tf=t_final\n",
        "t_alt = np.linspace(0,tf,steps1)\n",
        "\n",
        "print(tf/steps1,N*GammaR*t_final)"
      ]
    },
    {
      "cell_type": "code",
      "execution_count": 39,
      "metadata": {
        "colab": {
          "base_uri": "https://localhost:8080/"
        },
        "id": "wYHsVnhCqZyZ",
        "outputId": "dcdadd00-455e-409b-9d52-d40183bcd7e2"
      },
      "outputs": [
        {
          "output_type": "execute_result",
          "data": {
            "text/plain": [
              "1.8"
            ]
          },
          "metadata": {},
          "execution_count": 39
        }
      ],
      "source": [
        "t_final"
      ]
    },
    {
      "cell_type": "code",
      "execution_count": 39,
      "metadata": {
        "id": "yrlehDJpqZ1_"
      },
      "outputs": [],
      "source": [
        ""
      ]
    },
    {
      "cell_type": "code",
      "execution_count": 40,
      "metadata": {
        "id": "CpuWNWzyLgON"
      },
      "outputs": [],
      "source": [
        "matrix_array=[]\n",
        "\n",
        "# X matrix\n",
        "\n",
        "\n",
        "f10x=zeros((4, 4),dtype=complex_)\n",
        "f10x[0][1]=(1/sqrt(2))\n",
        "f10x=f10x+transpose(f10x)\n",
        "matrix_array.append(f10x)\n",
        "\n",
        "f20x=zeros((4, 4),dtype=complex_)\n",
        "f20x[2][0]=(1/sqrt(2))\n",
        "f20x=f20x+transpose(f20x)\n",
        "matrix_array.append(f20x)\n",
        "\n",
        "f30x=zeros((4, 4),dtype=complex_)\n",
        "f30x[3][0]=(1/sqrt(2))\n",
        "f30x=f30x+transpose(f30x)\n",
        "matrix_array.append(f30x)\n",
        "\n",
        "f21x=zeros((4, 4),dtype=complex_)\n",
        "f21x[2][1]=(1/sqrt(2))\n",
        "f21x=f21x+transpose(f21x)\n",
        "matrix_array.append(f21x)\n",
        "\n",
        "f31x=zeros((4, 4),dtype=complex_)\n",
        "f31x[3][1]=(1/sqrt(2))\n",
        "f31x=f31x+transpose(f31x)\n",
        "matrix_array.append(f31x)\n",
        "\n",
        "f32x=zeros((4, 4),dtype=complex_)\n",
        "f32x[3][2]=(1/sqrt(2))\n",
        "f32x=f32x+transpose(f32x)\n",
        "matrix_array.append(f32x)\n",
        "\n",
        "#Y Matrix\n",
        "\n",
        "f10y=zeros((4, 4),dtype=complex_)\n",
        "f10y[0][1]=-1j*(1/sqrt(2))\n",
        "f10y=f10y+conjugate(np.transpose(f10y))\n",
        "matrix_array.append(f10y)\n",
        "\n",
        "\n",
        "f20y=zeros((4, 4),dtype=complex_)\n",
        "f20y[0][2]=-1j*(1/sqrt(2))\n",
        "f20y=f20y+conjugate(np.transpose(f20y))\n",
        "matrix_array.append(f20y)\n",
        "\n",
        "\n",
        "f30y=zeros((4, 4),dtype=complex_)\n",
        "f30y[0][3]=-1j*(1/sqrt(2))\n",
        "f30y=f30y+conjugate(np.transpose(f30y))\n",
        "matrix_array.append(f30y)\n",
        "\n",
        "\n",
        "f21y=zeros((4, 4),dtype=complex_)\n",
        "f21y[1][2]=-1j*(1/sqrt(2))\n",
        "f21y=f21y+conjugate(np.transpose(f21y))\n",
        "matrix_array.append(f21y)\n",
        "\n",
        "f31y=zeros((4, 4),dtype=complex_)\n",
        "f31y[1][3]=-1j*(1/sqrt(2))\n",
        "f31y=f31y+conjugate(np.transpose(f31y))\n",
        "matrix_array.append(f31y)\n",
        "\n",
        "f32y=zeros((4, 4),dtype=complex_)\n",
        "f32y[2][3]=-1j*(1/sqrt(2))\n",
        "f32y=f32y+conjugate(np.transpose(f32y))\n",
        "matrix_array.append(f32y)\n",
        "\n",
        "\n",
        "#Z matrix\n",
        "\n",
        "f0z=np.zeros((4, 4),dtype=complex_)\n",
        "f0z[0][0]=1\n",
        "matrix_array.append(f0z)\n",
        "\n",
        "\n",
        "f1z=np.zeros((4, 4),dtype=complex_)\n",
        "f1z[1][1]=1\n",
        "matrix_array.append(f1z)\n",
        "\n",
        "\n",
        "f2z=np.zeros((4, 4),dtype=complex_)\n",
        "f2z[2][2]=1\n",
        "matrix_array.append(f2z)\n",
        "\n",
        "\n",
        "f3z=np.zeros((4, 4),dtype=complex_)\n",
        "f3z[3][3]=1\n",
        "\n",
        "#-----------------------------------------------------------------------------------------------------\n",
        "\n",
        "Psi_0=zeros((4,1),dtype=complex_)\n",
        "Psi_0[0][0]=cos(Theta/2)\n",
        "Psi_0[1][0]=sin(Theta/2)*exp(1j*Phi)\n",
        "\n",
        "\n",
        "Psi_0_adj=transpose(conjugate(Psi_0))\n",
        "\n",
        "#--------------------------------\n",
        "\n",
        "#Averages Vector\n",
        "\n",
        "Miu=[]\n",
        "\n",
        "for j in matrix_array:\n",
        "    Miu.append(matmul(Psi_0_adj,matmul(j,Psi_0))[0][0])\n",
        "\n",
        "    \n",
        "\n",
        "Cov_mat=zeros((15, 15),dtype=complex_)\n",
        "\n",
        "for i in range(15):\n",
        "    for j in range(15):\n",
        "        Cov_mat[i][j]=0.5*(matmul(Psi_0_adj,matmul( matmul(matrix_array[i],matrix_array[j])+matmul(matrix_array[j],matrix_array[i]),Psi_0))[0][0])-Miu[i]*Miu[j]        \n",
        "        \n",
        "\n",
        "Cov_mat_list=[]\n",
        "\n",
        "for j in range(15):\n",
        "    Cov_mat_list.append(list(real(Cov_mat[j])))    \n",
        "    \n",
        "\n",
        "from scipy import stats"
      ]
    },
    {
      "cell_type": "code",
      "execution_count": 41,
      "metadata": {
        "id": "MxAXg2z4LgQc"
      },
      "outputs": [],
      "source": [
        "sqrt2=np.sqrt(2)"
      ]
    },
    {
      "cell_type": "code",
      "execution_count": 42,
      "metadata": {
        "id": "VuteDyZOLgTV"
      },
      "outputs": [],
      "source": [
        "\n",
        "@jit\n",
        "\n",
        "def f(y, t):\n",
        "    \n",
        "    \n",
        "    alpRx=y[15]\n",
        "    alpRy=y[16]\n",
        "    alpLx=y[17]\n",
        "    alpLy=y[18]\n",
        "            \n",
        "    s10x=y[0]   #x10\n",
        "    s20x=y[1]   #x20\n",
        "    s30x=y[2]   #x30  \n",
        "    s21x=y[3]   #x21 \n",
        "    s31x=y[4]   #x31\n",
        "    s32x=y[5]   #x32\n",
        "            \n",
        "    s10y=y[6]   #y10\n",
        "    s20y=y[7]   #y20\n",
        "    s30y=y[8]   #y30\n",
        "    s21y=y[9]   #y21\n",
        "    s31y=y[10]  #y31\n",
        "    s32y=y[11]  #y32\n",
        "            \n",
        "    s0z=y[12]   #z0\n",
        "    s1z=y[13]   #z1\n",
        "    s2z=y[14]   #z2\n",
        "    \n",
        "    \n",
        "    dalpRxdt = -DeltaR*alpRy-(KapR/2)*alpRx  +(gR/sqrt2)*s30y\n",
        "            \n",
        "    dalpRydt = DeltaR*alpRx-(KapR/2)*alpRy-(gR/sqrt2)*s30x\n",
        "             \n",
        "    dalpLxdt = -DeltaL*alpLy-(KapL/2)*alpLx+(gL/sqrt2)*s21y \n",
        "        \n",
        "    dalpLydt = DeltaL*alpLx-(KapL/2)*alpLy-(gL/sqrt2)*s21x \n",
        "         \n",
        "      \n",
        "        \n",
        "    ds10xdt   = (-gR)*(-alpRx*s31y+alpRy*s31x) +(OmegaR/2)*s31y-\\\n",
        "        gL*(-alpLx*s20y+alpLy*s20x)+(OmegaL/2)*s20y  -(1/2)*(OmegaR_im*s31x+OmegaL_im*s20x)\n",
        "            \n",
        "    ds20xdt = (-gR)*(-alpRx*s32y+alpRy*s32x) +(OmegaR/2)*s32y+\\\n",
        "        gL*(alpLx*s10y+alpLy*s10x)+(OmegaL/2)*s10y   -(1/2)*(OmegaR_im*s32x-OmegaL_im*s10x)\n",
        "            \n",
        "    ds30xdt = (-sqrt2*gR)*alpRy*(N-s2z-s1z-2*s0z)     +OmegaR_im*(2*s0z+s1z+s2z-N)/sqrt2\n",
        "            \n",
        "    ds21xdt = (-sqrt2*gL)*alpLy*(s2z-s1z)             +OmegaL_im*(s1z-s2z)/sqrt2\n",
        "            \n",
        "    ds31xdt = gR*(alpRy*s10x-alpRx*s10y)+(-OmegaR/2)*s10y-\\\n",
        "        gL*(alpLx*s32y+alpLy*s32x)+(-OmegaL/2)*s32y   +(1/2)*(OmegaR_im*s10x-OmegaL_im*s32x)  \n",
        "            \n",
        "    ds32xdt = gR*(-alpRx*s20y+alpRy*s20x)+(-OmegaR/2)*s20y+\\\n",
        "        gL*(-alpLx*s31y+alpLy*s31x)+(-OmegaL/2)*s31y  +(1/2)*(OmegaR_im*s20x+OmegaL_im*s31x)\n",
        "        \n",
        "    ds10ydt = (gR)*(alpRx*s31x+alpRy*s31y)+(OmegaR/2)*s31x-\\\n",
        "        gL*(alpLx*s20x+alpLy*s20y)-(OmegaL/2)*s20x    +(1/2)*(OmegaR_im*s31y-OmegaL_im*s20y)\n",
        "        \n",
        "    ds20ydt = (gR)*(alpRx*s32x+alpRy*s32y)+(OmegaR/2)*s32x-\\\n",
        "        gL*(alpLx*s10x-alpLy*s10y)+(-OmegaL/2)*s10x   +(1/2)*(OmegaR_im*s32y+OmegaL_im*s10y)\n",
        "\n",
        "    ds30ydt = (2*gR*alpRx+OmegaR)*( N-s2z-s1z-2*s0z  )/sqrt2\n",
        "                \n",
        "    ds21ydt = (2*gL*alpLx+OmegaL)*(s2z-s1z)/sqrt2\n",
        "        \n",
        "    ds31ydt = - gR*(alpRx*s10x+alpRy*s10y)-(OmegaR/2)*s10x+\\\n",
        "        gL*(alpLx*s32x-alpLy*s32y)+(OmegaL/2)*s32x    -(1/2)*(OmegaR_im*s10y+OmegaL_im*s32y)\n",
        "            \n",
        "    ds32ydt = (-gR)*(alpRx*s20x+alpRy*s20y)-(OmegaR/2)*s20x+\\\n",
        "        gL*(alpLx*s31x+alpLy*s31y)+(OmegaL/2)*s31x    +(1/2)*(-OmegaR_im*s20y+OmegaL_im*s31y)\n",
        "        \n",
        "    ds0zdt = (sqrt2)*(gR*(alpRx*s30y-alpRy*s30x)+ (OmegaR/2)*s30y )   -OmegaR_im*s30x/sqrt2\n",
        "        \n",
        "    ds1zdt = (sqrt2)*(gL*(alpLx*s21y-alpLy*s21x)+ (OmegaL/2)*s21y )   -OmegaL_im*s21x/sqrt2\n",
        "            \n",
        "    ds2zdt = (-sqrt2)*(gL*(-alpLy*s21x+alpLx*s21y)+ (OmegaL/2)*s21y ) +OmegaL_im*s21x/sqrt2\n",
        "            \n",
        "\n",
        "\n",
        "    dzdt = [ds10xdt,ds20xdt,ds30xdt,ds21xdt,ds31xdt,ds32xdt,ds10ydt,ds20ydt,ds30ydt,ds21ydt,ds31ydt,ds32ydt,ds0zdt,ds1zdt,ds2zdt   ,dalpRxdt,dalpRydt,dalpLxdt,dalpLydt]\n",
        "    return array(dzdt)\n",
        "    \n",
        "@jit\n",
        "\n",
        "def fnodrive(y, t):\n",
        "    \n",
        "    \n",
        "    alpRx=y[15]\n",
        "    alpRy=y[16]\n",
        "    alpLx=y[17]\n",
        "    alpLy=y[18]\n",
        "            \n",
        "    s10x=y[0]   #x10\n",
        "    s20x=y[1]   #x20\n",
        "    s30x=y[2]   #x30  \n",
        "    s21x=y[3]   #x21 \n",
        "    s31x=y[4]   #x31\n",
        "    s32x=y[5]   #x32\n",
        "            \n",
        "    s10y=y[6]   #y10\n",
        "    s20y=y[7]   #y20\n",
        "    s30y=y[8]   #y30\n",
        "    s21y=y[9]   #y21\n",
        "    s31y=y[10]  #y31\n",
        "    s32y=y[11]  #y32\n",
        "            \n",
        "    s0z=y[12]   #z0\n",
        "    s1z=y[13]   #z1\n",
        "    s2z=y[14]   #z2\n",
        "    \n",
        "    OmegaLp=0    \n",
        "    OmegaRp=0\n",
        "    \n",
        "\n",
        "    \n",
        "    \n",
        "    dalpRxdt = -DeltaR*alpRy-(KapR/2)*alpRx  +(gR/sqrt2)*s30y\n",
        "            \n",
        "    dalpRydt = DeltaR*alpRx-(KapR/2)*alpRy-(gR/sqrt2)*s30x\n",
        "             \n",
        "    dalpLxdt = -DeltaL*alpLy-(KapL/2)*alpLx+(gL/sqrt2)*s21y \n",
        "        \n",
        "    dalpLydt = DeltaL*alpLx-(KapL/2)*alpLy-(gL/sqrt2)*s21x \n",
        "         \n",
        "      \n",
        "        \n",
        "    ds10xdt   = (-gR)*(-alpRx*s31y+alpRy*s31x) +(OmegaRp/2)*s31y-\\\n",
        "        gL*(-alpLx*s20y+alpLy*s20x)+(OmegaLp/2)*s20y\n",
        "            \n",
        "    ds20xdt = (-gR)*(-alpRx*s32y+alpRy*s32x) +(OmegaRp/2)*s32y+\\\n",
        "        gL*(alpLx*s10y+alpLy*s10x)+(OmegaLp/2)*s10y\n",
        "            \n",
        "    ds30xdt = (-sqrt2*gR)*alpRy*(N-s2z-s1z-2*s0z)\n",
        "            \n",
        "    ds21xdt = (-sqrt2*gL)*alpLy*(s2z-s1z)\n",
        "            \n",
        "    ds31xdt = gR*(alpRy*s10x-alpRx*s10y)+(-OmegaRp/2)*s10y-\\\n",
        "        gL*(alpLx*s32y+alpLy*s32x)+(-OmegaLp/2)*s32y    \n",
        "            \n",
        "    ds32xdt = gR*(-alpRx*s20y+alpRy*s20x)+(-OmegaRp/2)*s20y+\\\n",
        "        gL*(-alpLx*s31y+alpLy*s31x)+(-OmegaLp/2)*s31y\n",
        "        \n",
        "    ds10ydt = (gR)*(alpRx*s31x+alpRy*s31y)+(OmegaRp/2)*s31x-\\\n",
        "        gL*(alpLx*s20x+alpLy*s20y)-(OmegaLp/2)*s20x\n",
        "        \n",
        "    ds20ydt = (gR)*(alpRx*s32x+alpRy*s32y)+(OmegaRp/2)*s32x-\\\n",
        "        gL*(alpLx*s10x-alpLy*s10y)+(-OmegaLp/2)*s10x\n",
        "\n",
        "    ds30ydt = (2*gR*alpRx+OmegaRp)*( N-s2z-s1z-2*s0z  )/sqrt2\n",
        "                \n",
        "    ds21ydt = (2*gL*alpLx+OmegaLp)*(s2z-s1z)/sqrt2\n",
        "        \n",
        "    ds31ydt = - gR*(alpRx*s10x+alpRy*s10y)-(OmegaRp/2)*s10x+\\\n",
        "        gL*(alpLx*s32x-alpLy*s32y)+(OmegaLp/2)*s32x\n",
        "            \n",
        "    ds32ydt = (-gR)*(alpRx*s20x+alpRy*s20y)-(OmegaRp/2)*s20x+\\\n",
        "        gL*(alpLx*s31x+alpLy*s31y)+(OmegaLp/2)*s31x\n",
        "        \n",
        "    ds0zdt = (sqrt2)*(gR*(alpRx*s30y-alpRy*s30x)+ (OmegaRp/2)*s30y )\n",
        "        \n",
        "    ds1zdt = (sqrt2)*(gL*(alpLx*s21y-alpLy*s21x)+ (OmegaLp/2)*s21y )\n",
        "            \n",
        "    ds2zdt = (-sqrt2)*(gL*(-alpLy*s21x+alpLx*s21y)+ (OmegaLp/2)*s21y )\n",
        "            \n",
        "\n",
        "\n",
        "    dzdt = [ds10xdt,ds20xdt,ds30xdt,ds21xdt,ds31xdt,ds32xdt,ds10ydt,ds20ydt,ds30ydt,ds21ydt,ds31ydt,ds32ydt,ds0zdt,ds1zdt,ds2zdt   ,dalpRxdt,dalpRydt,dalpLxdt,dalpLydt]\n",
        "    return array(dzdt)    \n",
        "    \n",
        "    \n",
        "    \n",
        "@jit\n",
        "\n",
        "def GG(y, t):\n",
        "    Arr=zeros((1,19))\n",
        "    Arr[0][-1]=1\n",
        "    Arr[0][-2]=1\n",
        "    Arr[0][-3]=1\n",
        "    Arr[0][-4]=1\n",
        "    \n",
        "    return diag(Arr[0])\n",
        "\n",
        "\n"
      ]
    },
    {
      "cell_type": "code",
      "execution_count": 42,
      "metadata": {
        "id": "yu7VKgmqLgXR"
      },
      "outputs": [],
      "source": [
        ""
      ]
    },
    {
      "cell_type": "code",
      "execution_count": 43,
      "metadata": {
        "id": "-P6i4TMKLga0"
      },
      "outputs": [],
      "source": [
        "@jit\n",
        "\n",
        "def random_vect(KapR=KapR,KapL=KapL):\n",
        "    Hu=np.zeros((1,19))\n",
        "    Hu[0][-1]=np.sqrt(KapL/4)*np.random.normal()\n",
        "    Hu[0][-2]=np.sqrt(KapL/4)*np.random.normal()\n",
        "    Hu[0][-3]=np.sqrt(KapR/4)*np.random.normal()\n",
        "    Hu[0][-4]=np.sqrt(KapR/4)*np.random.normal()\n",
        "    \n",
        "    return Hu\n",
        "\n"
      ]
    },
    {
      "cell_type": "code",
      "execution_count": 43,
      "metadata": {
        "id": "UBnVjQx5Lggg"
      },
      "outputs": [],
      "source": [
        ""
      ]
    },
    {
      "cell_type": "code",
      "execution_count": 44,
      "metadata": {
        "id": "OXOS5DG1vfpP"
      },
      "outputs": [],
      "source": [
        "inv_frac=100\n",
        "\n",
        "Major_index=int(steps1/inv_frac)\n",
        "#New_column=zeros((steps1//Major_index, int(15*16/2)))\n",
        "New_column=zeros((steps1//Major_index, int(30)))\n"
      ]
    },
    {
      "cell_type": "code",
      "execution_count": 45,
      "metadata": {
        "id": "B7LPszbpABZQ"
      },
      "outputs": [],
      "source": [
        "def partit(number,array):\n",
        "    j=0\n",
        "    dis=len(array)\n",
        "    result=[]\n",
        "    while j*number<dis:\n",
        "        result.append(array[j*number])\n",
        "        j=j+1\n",
        "    return result\n",
        "\n",
        "\n",
        "\n",
        "\n",
        "\n",
        "\n",
        "t_reduced=np.zeros((1,steps1//Major_index))\n",
        "\n",
        "for j in range(steps1//Major_index):\n",
        "    t_reduced[0][j]=t_alt[Major_index*j]\n",
        "    \n",
        "    #for k in range(Ns//Major_index):\n",
        "    #    y_reduced[k]=y[k*Major_index]\n",
        "    \n",
        "time_alt=t_reduced[0]\n",
        "\n",
        "\n",
        "#  t_reduced[0] is the reduced time vector"
      ]
    },
    {
      "cell_type": "markdown",
      "metadata": {
        "id": "lSl8xU0VABZR"
      },
      "source": [
        "# SH I"
      ]
    },
    {
      "cell_type": "code",
      "execution_count": 45,
      "metadata": {
        "id": "4sZf1USlABZR"
      },
      "outputs": [],
      "source": [
        ""
      ]
    },
    {
      "cell_type": "code",
      "execution_count": 46,
      "metadata": {
        "id": "zQof8zW-ABZR"
      },
      "outputs": [],
      "source": [
        "Stochastic=1\n",
        "\n",
        "\n",
        "@jit\n",
        "\n",
        "\n",
        "def stratHeunImpI(f, G, y0, tspan, dW=None):\n",
        "    \n",
        "    \n",
        "    \n",
        "    \"\"\"Use the Euler-Maruyama algorithm to integrate the Ito equation\n",
        "    dy = f(y,t)dt + G(y,t) dW(t)\n",
        "    where y is the d-dimensional state vector, f is a vector-valued function,\n",
        "    G is an d x m matrix-valued function giving the noise coefficients and\n",
        "    dW(t) = (dW_1, dW_2, ... dW_m) is a vector of independent Wiener increments\n",
        "    Args:\n",
        "      f: callable(y, t) returning (d,) array\n",
        "         Vector-valued function to define the deterministic part of the system\n",
        "      G: callable(y, t) returning (d,m) array\n",
        "         Matrix-valued function to define the noise coefficients of the system\n",
        "      y0: array of shape (d,) giving the initial state vector y(t==0)\n",
        "      tspan (array): The sequence of time points for which to solve for y.\n",
        "        These must be equally spaced, e.g. np.arange(0,10,0.005)\n",
        "        tspan[0] is the intial time corresponding to the initial state y0.\n",
        "      dW: optional array of shape (len(tspan)-1, d). This is for advanced use,\n",
        "        if you want to use a specific realization of the d independent Wiener\n",
        "        processes. If not provided Wiener increments will be generated randomly\n",
        "    Returns:\n",
        "      y: array, with shape (len(tspan), len(y0))\n",
        "         With the initial value y0 in the first row\n",
        "    Raises:\n",
        "      SDEValueError\n",
        "    See also:\n",
        "      G. Maruyama (1955) Continuous Markov processes and stochastic equations\n",
        "      Kloeden and Platen (1999) Numerical Solution of Differential Equations\n",
        "    \"\"\"\n",
        "    (d, m, f, G, y0, tspan, dW, __) = _check_args(f, G, y0, tspan, dW, None)\n",
        "    Ns = len(tspan)\n",
        "    h = (tspan[Ns-1] - tspan[0])/(Ns - 1)\n",
        "    # allocate space for result\n",
        "    y = np.zeros((Ns, d), dtype=type(y0[0]))\n",
        "\n",
        "    y[0] = y0;\n",
        "    for n in range(0, Ns-1):\n",
        "        \n",
        "        Rand_vectn=np.sqrt(h)*random_vect(KapR=KapR)[0]\n",
        "        tn = tspan[n]\n",
        "        tnp1 = tspan[n+1]\n",
        "        yn = y[n]\n",
        "        \n",
        "        if N*GammaR*tn<50:\n",
        "\n",
        "            fn = f(yn, tn)\n",
        "            ybar = yn + fn*h  + Stochastic*Rand_vectn\n",
        "            fnbar = f(ybar, tnp1)\n",
        "            y[n+1] = yn + 0.5*(fn + fnbar)*h  + Stochastic*Rand_vectn\n",
        "            \n",
        "        else:\n",
        "\n",
        "            fn = fnodrive (yn, tn)\n",
        "            ybar = yn + fn*h  + Stochastic*Rand_vectn\n",
        "            fnbar = fnodrive(ybar, tnp1)\n",
        "            y[n+1] = yn + 0.5*(fn + fnbar)*h  + Stochastic*Rand_vectn            \n",
        "\n",
        "\n",
        "\n",
        "\n",
        "\n",
        "    y_reduced=np.zeros((Ns//Major_index, d), dtype=type(y0[0]))\n",
        "    \n",
        "\n",
        "    total_elements=3\n",
        "\n",
        "    for k in range(Ns//Major_index):\n",
        "        y_partial=y[k*Major_index]\n",
        "        counter=1\n",
        "        for ik_dex in range(1,total_elements):\n",
        "            y_partial=y_partial+y[k*Major_index+ik_dex]\n",
        "            counter=counter+1\n",
        "\n",
        "        y_reduced[k]=y_partial/counter\n",
        "\n",
        "    return y_reduced\n",
        "\n",
        "\n",
        "\n",
        "@jit\n",
        "\n",
        "def SDE_sol_SHI():\n",
        "    \n",
        "    Sum_TWA=zeros((15,1))\n",
        "\n",
        "    for j in range(N):\n",
        "        Sum_TWA=Sum_TWA+random.multivariate_normal(real(Miu), Cov_mat_list, 1).T\n",
        "    \n",
        "    y0=list(Sum_TWA.flatten())+[random.normal(0, 0.5),random.normal(0, 0.5),random.normal(0, 0.5),random.normal(0, 0.5)]\n",
        "    \n",
        "    return stratHeunImpI(f, GG, y0, t_alt)"
      ]
    },
    {
      "cell_type": "code",
      "execution_count": 46,
      "metadata": {
        "id": "YF6ZyxPfABZR"
      },
      "outputs": [],
      "source": [
        ""
      ]
    },
    {
      "cell_type": "code",
      "execution_count": 47,
      "metadata": {
        "id": "yGVSW8rtABZS"
      },
      "outputs": [],
      "source": [
        "from numpy import add\n",
        "from numba import jit\n",
        "\n",
        "\n",
        "\n",
        "itera=5000\n",
        "@jit\n",
        "\n",
        "def averages_sdeI(itera=itera,N=N):\n",
        "    Results =SDE_sol_SHI()\n",
        "    \n",
        "    Result_First  =Results\n",
        "    for j in range(itera-1):\n",
        "        Trayec=SDE_sol_SHI()\n",
        "        Result_First  =add(Result_First  ,Trayec)\n",
        "        print(j)\n",
        "    \n",
        "    return Result_First/itera"
      ]
    },
    {
      "cell_type": "code",
      "execution_count": 47,
      "metadata": {
        "id": "e0EVyQYAABZS"
      },
      "outputs": [],
      "source": [
        ""
      ]
    },
    {
      "cell_type": "code",
      "execution_count": 48,
      "metadata": {
        "colab": {
          "base_uri": "https://localhost:8080/"
        },
        "id": "ZW3IzXeGABZS",
        "outputId": "05cfe958-b5d1-4bea-8ff2-8f1b08d2e753"
      },
      "outputs": [
        {
          "output_type": "stream",
          "name": "stderr",
          "text": [
            "<ipython-input-47-664bc90f0224>:7: NumbaWarning: \n",
            "Compilation is falling back to object mode WITH looplifting enabled because Function \"averages_sdeI\" failed type inference due to: Invalid use of type(CPUDispatcher(<function SDE_sol_SHI at 0x7f9ee78df830>)) with parameters ()\n",
            "\n",
            "During: resolving callee type: type(CPUDispatcher(<function SDE_sol_SHI at 0x7f9ee78df830>))\n",
            "During: typing of call at <ipython-input-47-664bc90f0224> (10)\n",
            "\n",
            "\n",
            "File \"<ipython-input-47-664bc90f0224>\", line 10:\n",
            "def averages_sdeI(itera=itera,N=N):\n",
            "    Results =SDE_sol_SHI()\n",
            "    ^\n",
            "\n",
            "  @jit\n",
            "<ipython-input-47-664bc90f0224>:7: NumbaWarning: \n",
            "Compilation is falling back to object mode WITHOUT looplifting enabled because Function \"averages_sdeI\" failed type inference due to: cannot determine Numba type of <class 'numba.core.dispatcher.LiftedLoop'>\n",
            "\n",
            "File \"<ipython-input-47-664bc90f0224>\", line 13:\n",
            "def averages_sdeI(itera=itera,N=N):\n",
            "    <source elided>\n",
            "    Result_First  =Results\n",
            "    for j in range(itera-1):\n",
            "    ^\n",
            "\n",
            "  @jit\n",
            "/usr/local/lib/python3.7/dist-packages/numba/core/object_mode_passes.py:178: NumbaWarning: Function \"averages_sdeI\" was compiled in object mode without forceobj=True, but has lifted loops.\n",
            "\n",
            "File \"<ipython-input-47-664bc90f0224>\", line 10:\n",
            "def averages_sdeI(itera=itera,N=N):\n",
            "    Results =SDE_sol_SHI()\n",
            "    ^\n",
            "\n",
            "  state.func_ir.loc))\n",
            "/usr/local/lib/python3.7/dist-packages/numba/core/object_mode_passes.py:188: NumbaDeprecationWarning: \n",
            "Fall-back from the nopython compilation path to the object mode compilation path has been detected, this is deprecated behaviour.\n",
            "\n",
            "For more information visit https://numba.pydata.org/numba-doc/latest/reference/deprecation.html#deprecation-of-object-mode-fall-back-behaviour-when-using-jit\n",
            "\n",
            "File \"<ipython-input-47-664bc90f0224>\", line 10:\n",
            "def averages_sdeI(itera=itera,N=N):\n",
            "    Results =SDE_sol_SHI()\n",
            "    ^\n",
            "\n",
            "  state.func_ir.loc))\n",
            "<ipython-input-46-3f8f201c68bc>:87: NumbaWarning: \n",
            "Compilation is falling back to object mode WITHOUT looplifting enabled because Function \"SDE_sol_SHI\" failed type inference due to: Unknown attribute 'multivariate_normal' of type Module(<module 'numpy.random' from '/usr/local/lib/python3.7/dist-packages/numpy/random/__init__.py'>)\n",
            "\n",
            "File \"<ipython-input-46-3f8f201c68bc>\", line 94:\n",
            "def SDE_sol_SHI():\n",
            "    <source elided>\n",
            "    for j in range(N):\n",
            "        Sum_TWA=Sum_TWA+random.multivariate_normal(real(Miu), Cov_mat_list, 1).T\n",
            "        ^\n",
            "\n",
            "During: typing of get attribute at <ipython-input-46-3f8f201c68bc> (94)\n",
            "\n",
            "File \"<ipython-input-46-3f8f201c68bc>\", line 94:\n",
            "def SDE_sol_SHI():\n",
            "    <source elided>\n",
            "    for j in range(N):\n",
            "        Sum_TWA=Sum_TWA+random.multivariate_normal(real(Miu), Cov_mat_list, 1).T\n",
            "        ^\n",
            "\n",
            "  @jit\n",
            "/usr/local/lib/python3.7/dist-packages/numba/core/object_mode_passes.py:178: NumbaWarning: Function \"SDE_sol_SHI\" was compiled in object mode without forceobj=True.\n",
            "\n",
            "File \"<ipython-input-46-3f8f201c68bc>\", line 93:\n",
            "def SDE_sol_SHI():\n",
            "    <source elided>\n",
            "\n",
            "    for j in range(N):\n",
            "    ^\n",
            "\n",
            "  state.func_ir.loc))\n",
            "/usr/local/lib/python3.7/dist-packages/numba/core/object_mode_passes.py:188: NumbaDeprecationWarning: \n",
            "Fall-back from the nopython compilation path to the object mode compilation path has been detected, this is deprecated behaviour.\n",
            "\n",
            "For more information visit https://numba.pydata.org/numba-doc/latest/reference/deprecation.html#deprecation-of-object-mode-fall-back-behaviour-when-using-jit\n",
            "\n",
            "File \"<ipython-input-46-3f8f201c68bc>\", line 93:\n",
            "def SDE_sol_SHI():\n",
            "    <source elided>\n",
            "\n",
            "    for j in range(N):\n",
            "    ^\n",
            "\n",
            "  state.func_ir.loc))\n",
            "<ipython-input-46-3f8f201c68bc>:4: NumbaWarning: \n",
            "Compilation is falling back to object mode WITH looplifting enabled because Function \"stratHeunImpI\" failed type inference due to: Untyped global name '_check_args': cannot determine Numba type of <class 'function'>\n",
            "\n",
            "File \"<ipython-input-46-3f8f201c68bc>\", line 37:\n",
            "def stratHeunImpI(f, G, y0, tspan, dW=None):\n",
            "    <source elided>\n",
            "    \"\"\"\n",
            "    (d, m, f, G, y0, tspan, dW, __) = _check_args(f, G, y0, tspan, dW, None)\n",
            "    ^\n",
            "\n",
            "  @jit\n",
            "<ipython-input-46-3f8f201c68bc>:4: NumbaWarning: \n",
            "Compilation is falling back to object mode WITHOUT looplifting enabled because Function \"stratHeunImpI\" failed type inference due to: Untyped global name '_check_args': cannot determine Numba type of <class 'function'>\n",
            "\n",
            "File \"<ipython-input-46-3f8f201c68bc>\", line 37:\n",
            "def stratHeunImpI(f, G, y0, tspan, dW=None):\n",
            "    <source elided>\n",
            "    \"\"\"\n",
            "    (d, m, f, G, y0, tspan, dW, __) = _check_args(f, G, y0, tspan, dW, None)\n",
            "    ^\n",
            "\n",
            "  @jit\n",
            "/usr/local/lib/python3.7/dist-packages/numba/core/object_mode_passes.py:178: NumbaWarning: Function \"stratHeunImpI\" was compiled in object mode without forceobj=True, but has lifted loops.\n",
            "\n",
            "File \"<ipython-input-46-3f8f201c68bc>\", line 37:\n",
            "def stratHeunImpI(f, G, y0, tspan, dW=None):\n",
            "    <source elided>\n",
            "    \"\"\"\n",
            "    (d, m, f, G, y0, tspan, dW, __) = _check_args(f, G, y0, tspan, dW, None)\n",
            "    ^\n",
            "\n",
            "  state.func_ir.loc))\n",
            "/usr/local/lib/python3.7/dist-packages/numba/core/object_mode_passes.py:188: NumbaDeprecationWarning: \n",
            "Fall-back from the nopython compilation path to the object mode compilation path has been detected, this is deprecated behaviour.\n",
            "\n",
            "For more information visit https://numba.pydata.org/numba-doc/latest/reference/deprecation.html#deprecation-of-object-mode-fall-back-behaviour-when-using-jit\n",
            "\n",
            "File \"<ipython-input-46-3f8f201c68bc>\", line 37:\n",
            "def stratHeunImpI(f, G, y0, tspan, dW=None):\n",
            "    <source elided>\n",
            "    \"\"\"\n",
            "    (d, m, f, G, y0, tspan, dW, __) = _check_args(f, G, y0, tspan, dW, None)\n",
            "    ^\n",
            "\n",
            "  state.func_ir.loc))\n",
            "/usr/local/lib/python3.7/dist-packages/numba/core/ir_utils.py:2031: NumbaPendingDeprecationWarning: \n",
            "Encountered the use of a type that is scheduled for deprecation: type 'reflected list' found for argument 'y' of function 'f'.\n",
            "\n",
            "For more information visit https://numba.pydata.org/numba-doc/latest/reference/deprecation.html#deprecation-of-reflection-for-list-and-set-types\n",
            "\n",
            "File \"<ipython-input-42-20a1b54b136a>\", line 4:\n",
            "\n",
            "def f(y, t):\n",
            "^\n",
            "\n",
            "  warnings.warn(NumbaPendingDeprecationWarning(msg, loc=loc))\n",
            "/usr/local/lib/python3.7/dist-packages/numba/core/ir_utils.py:2031: NumbaPendingDeprecationWarning: \n",
            "Encountered the use of a type that is scheduled for deprecation: type 'reflected list' found for argument 'y' of function 'GG'.\n",
            "\n",
            "For more information visit https://numba.pydata.org/numba-doc/latest/reference/deprecation.html#deprecation-of-reflection-for-list-and-set-types\n",
            "\n",
            "File \"<ipython-input-42-20a1b54b136a>\", line 159:\n",
            "\n",
            "def GG(y, t):\n",
            "^\n",
            "\n",
            "  warnings.warn(NumbaPendingDeprecationWarning(msg, loc=loc))\n",
            "<ipython-input-47-664bc90f0224>:7: NumbaWarning: \n",
            "Compilation is falling back to object mode WITHOUT looplifting enabled because Function \"averages_sdeI\" failed type inference due to: Invalid use of type(CPUDispatcher(<function SDE_sol_SHI at 0x7f9ee78df830>)) with parameters ()\n",
            "\n",
            "During: resolving callee type: type(CPUDispatcher(<function SDE_sol_SHI at 0x7f9ee78df830>))\n",
            "During: typing of call at <ipython-input-47-664bc90f0224> (14)\n",
            "\n",
            "\n",
            "File \"<ipython-input-47-664bc90f0224>\", line 14:\n",
            "def averages_sdeI(itera=itera,N=N):\n",
            "    <source elided>\n",
            "    for j in range(itera-1):\n",
            "        Trayec=SDE_sol_SHI()\n",
            "        ^\n",
            "\n",
            "  @jit\n",
            "/usr/local/lib/python3.7/dist-packages/numba/core/object_mode_passes.py:178: NumbaWarning: Function \"averages_sdeI\" was compiled in object mode without forceobj=True.\n",
            "\n",
            "File \"<ipython-input-47-664bc90f0224>\", line 13:\n",
            "def averages_sdeI(itera=itera,N=N):\n",
            "    <source elided>\n",
            "    Result_First  =Results\n",
            "    for j in range(itera-1):\n",
            "    ^\n",
            "\n",
            "  state.func_ir.loc))\n",
            "/usr/local/lib/python3.7/dist-packages/numba/core/object_mode_passes.py:188: NumbaDeprecationWarning: \n",
            "Fall-back from the nopython compilation path to the object mode compilation path has been detected, this is deprecated behaviour.\n",
            "\n",
            "For more information visit https://numba.pydata.org/numba-doc/latest/reference/deprecation.html#deprecation-of-object-mode-fall-back-behaviour-when-using-jit\n",
            "\n",
            "File \"<ipython-input-47-664bc90f0224>\", line 13:\n",
            "def averages_sdeI(itera=itera,N=N):\n",
            "    <source elided>\n",
            "    Result_First  =Results\n",
            "    for j in range(itera-1):\n",
            "    ^\n",
            "\n",
            "  state.func_ir.loc))\n"
          ]
        },
        {
          "output_type": "stream",
          "name": "stdout",
          "text": [
            "0\n",
            "1\n",
            "2\n",
            "3\n",
            "4\n",
            "5\n",
            "6\n",
            "7\n",
            "8\n",
            "9\n",
            "10\n",
            "11\n",
            "12\n",
            "13\n",
            "14\n",
            "15\n",
            "16\n",
            "17\n",
            "18\n",
            "19\n",
            "20\n",
            "21\n",
            "22\n",
            "23\n",
            "24\n",
            "25\n",
            "26\n",
            "27\n",
            "28\n",
            "29\n",
            "30\n",
            "31\n",
            "32\n",
            "33\n",
            "34\n",
            "35\n",
            "36\n",
            "37\n",
            "38\n",
            "39\n",
            "40\n",
            "41\n",
            "42\n",
            "43\n",
            "44\n",
            "45\n",
            "46\n",
            "47\n",
            "48\n",
            "240.21135997772217\n"
          ]
        }
      ],
      "source": [
        "import time\n",
        "t0=time.time()\n",
        "\n",
        "itera=50\n",
        "\n",
        "Result_varTWA_Col_SDEI = averages_sdeI(itera=itera,N=N)\n",
        "#Result_varTWA_Col_TWA = averages_sde(itera=itera,N=N)\n",
        "\n",
        "\n",
        "t1=time.time()\n",
        "\n",
        "print(t1-t0)"
      ]
    },
    {
      "cell_type": "code",
      "execution_count": 48,
      "metadata": {
        "id": "lGyLXG4-ABZS"
      },
      "outputs": [],
      "source": [
        ""
      ]
    },
    {
      "cell_type": "code",
      "execution_count": 48,
      "metadata": {
        "id": "p96PkZT8ylUG"
      },
      "outputs": [],
      "source": [
        ""
      ]
    },
    {
      "cell_type": "code",
      "execution_count": 49,
      "metadata": {
        "id": "fH1YHVBsylaM"
      },
      "outputs": [],
      "source": [
        "Matrix_Basis=[f10x,f20x,f30x,f21x,f31x,f32x,f10y,f20y,f30y,f21y,f31y,f32y,f0z,f1z,f2z]\n",
        "\n",
        "\n",
        "def density_mat(Array):\n",
        "    \n",
        "    Array=Array[0:15]\n",
        "    \n",
        "    Result=(N-Array[-1]-Array[-2]-Array[-3])*f3z\n",
        "    for j in range(15):\n",
        "        Result=Result + Array[j]*Matrix_Basis[j]\n",
        "\n",
        "    return Result\n",
        "\n",
        "def C_system_tilde(Result, Ref_array):\n",
        "    \n",
        "    A_den=density_mat(Ref_array[:15])\n",
        "    \n",
        "    Eigenvalues, Eig_sys =scipy.linalg.eig(- A_den/np.trace(A_den)  )\n",
        "    idx = Eigenvalues.argsort()   \n",
        "    Eigenvalues = Eigenvalues[idx]\n",
        "    Eig_sys     = Eig_sys[:,idx]\n",
        "    \n",
        "    Eig_zero=Eig_sys[:,0].reshape(4,1)\n",
        "    \n",
        "    \n",
        "    U01=Eig_zero@np.conjugate(Eig_sys[:,1].reshape(1,4))\n",
        "    U02=Eig_zero@np.conjugate(Eig_sys[:,2].reshape(1,4))\n",
        "    U03=Eig_zero@np.conjugate(Eig_sys[:,3].reshape(1,4))\n",
        "    \n",
        "    U10=np.conjugate(U01.T)\n",
        "    U20=np.conjugate(U02.T)\n",
        "    U30=np.conjugate(U03.T)\n",
        "    \n",
        "    CL=[np.sum(Result*U01),np.sum(Result*U02),np.sum(Result*U03),np.sum(Result*U10),np.sum(Result*U20),np.sum(Result*U30)]\n",
        "    CR=[CL[3],CL[4],CL[5],CL[0],CL[1],CL[2]]\n",
        "    \n",
        "    \n",
        "    return Eigenvalues, np.array(CL).reshape(6,1) @ np.array(CR).reshape(1,6)\n",
        "\n",
        "\n",
        "\n",
        "    \n",
        "    \n"
      ]
    },
    {
      "cell_type": "code",
      "execution_count": 50,
      "metadata": {
        "colab": {
          "base_uri": "https://localhost:8080/"
        },
        "id": "bs2y0pHvylgH",
        "outputId": "62ad2370-3442-4346-c540-33af741d6f8e"
      },
      "outputs": [
        {
          "output_type": "stream",
          "name": "stdout",
          "text": [
            "The slowest run took 14.24 times longer than the fastest. This could mean that an intermediate result is being cached.\n",
            "10000000 loops, best of 5: 120 ns per loop\n"
          ]
        }
      ],
      "source": [
        "def determine(x):\n",
        "    if x<50:\n",
        "        return True\n",
        "    else:\n",
        "        return False\n",
        "    \n",
        "    \n",
        "%timeit determine(3)"
      ]
    },
    {
      "cell_type": "markdown",
      "metadata": {
        "id": "BLTBI1BGvghm"
      },
      "source": [
        "# SH II"
      ]
    },
    {
      "cell_type": "code",
      "execution_count": 51,
      "metadata": {
        "id": "aRoBUuELL6l6"
      },
      "outputs": [],
      "source": [
        "Stochastic=1\n",
        "\n",
        "\n",
        "@jit\n",
        "\n",
        "\n",
        "\n",
        "def stratHeunImpII(f, G, y0, tspan, dW=None):\n",
        "    \n",
        "    \n",
        "    \n",
        "    \"\"\"Use the Euler-Maruyama algorithm to integrate the Ito equation\n",
        "    dy = f(y,t)dt + G(y,t) dW(t)\n",
        "    where y is the d-dimensional state vector, f is a vector-valued function,\n",
        "    G is an d x m matrix-valued function giving the noise coefficients and\n",
        "    dW(t) = (dW_1, dW_2, ... dW_m) is a vector of independent Wiener increments\n",
        "    Args:\n",
        "      f: callable(y, t) returning (d,) array\n",
        "         Vector-valued function to define the deterministic part of the system\n",
        "      G: callable(y, t) returning (d,m) array\n",
        "         Matrix-valued function to define the noise coefficients of the system\n",
        "      y0: array of shape (d,) giving the initial state vector y(t==0)\n",
        "      tspan (array): The sequence of time points for which to solve for y.\n",
        "        These must be equally spaced, e.g. np.arange(0,10,0.005)\n",
        "        tspan[0] is the intial time corresponding to the initial state y0.\n",
        "      dW: optional array of shape (len(tspan)-1, d). This is for advanced use,\n",
        "        if you want to use a specific realization of the d independent Wiener\n",
        "        processes. If not provided Wiener increments will be generated randomly\n",
        "    Returns:\n",
        "      y: array, with shape (len(tspan), len(y0))\n",
        "         With the initial value y0 in the first row\n",
        "    Raises:\n",
        "      SDEValueError\n",
        "    See also:\n",
        "      G. Maruyama (1955) Continuous Markov processes and stochastic equations\n",
        "      Kloeden and Platen (1999) Numerical Solution of Differential Equations\n",
        "    \"\"\"\n",
        "    (d, m, f, G, y0, tspan, dW, __) = _check_args(f, G, y0, tspan, dW, None)\n",
        "    Ns = len(tspan)\n",
        "    h = (tspan[Ns-1] - tspan[0])/(Ns - 1)\n",
        "    # allocate space for result\n",
        "    y = np.zeros((Ns, d), dtype=type(y0[0]))\n",
        "\n",
        "    y[0] = y0;\n",
        "\n",
        "    \n",
        "    for n in range(0, Ns-1):\n",
        "        \n",
        "        Rand_vectn=np.sqrt(h)*random_vect(KapR=KapR)[0]\n",
        "        tn = tspan[n]\n",
        "        tnp1 = tspan[n+1]\n",
        "        yn = y[n]\n",
        "        \n",
        "        if N*GammaR*tn<50:\n",
        "\n",
        "            fn = f(yn, tn)\n",
        "            ybar = yn + fn*h  + Stochastic*Rand_vectn\n",
        "            fnbar = f(ybar, tnp1)\n",
        "            y[n+1] = yn + 0.5*(fn + fnbar)*h  + Stochastic*Rand_vectn\n",
        "            \n",
        "        else:\n",
        "\n",
        "            fn = fnodrive (yn, tn)\n",
        "            ybar = yn + fn*h  + Stochastic*Rand_vectn\n",
        "            fnbar = fnodrive(ybar, tnp1)\n",
        "            y[n+1] = yn + 0.5*(fn + fnbar)*h  + Stochastic*Rand_vectn    \n",
        "\n",
        "\n",
        "\n",
        "    y_reduced=np.zeros((Ns//Major_index, d), dtype=type(y0[0]))\n",
        "    C_matrix_red=[]\n",
        "    Eig_red=[]\n",
        "    Second_moment=[]\n",
        "\n",
        "    total_elements=10\n",
        "\n",
        "    for k in range(Ns//Major_index):\n",
        "        y_partial=y[k*Major_index]\n",
        "        counter=1\n",
        "        for ik_dex in range(1,total_elements):\n",
        "            y_partial=y_partial+y[k*Major_index+ik_dex]\n",
        "            counter=counter+1\n",
        "            \n",
        "        y_k=y_partial/counter\n",
        "\n",
        "        y_reduced[k]   =y_k\n",
        "        \n",
        "        \n",
        "        C_system_k=C_system_tilde(density_mat(y_k),Result_varTWA_Col_SDEI[k])\n",
        "        \n",
        "        Eig_red.append(C_system_k[0])\n",
        "        C_matrix_red.append(C_system_k[1])\n",
        "        ind_shap=len(Matrix_Basis)\n",
        "\n",
        "        Second_moment.append(np.array(y_k[0:ind_shap]).reshape(ind_shap,1)@(np.array(y_k[0:ind_shap]).reshape(1,ind_shap)))\n",
        "        \n",
        "\n",
        "    return y_reduced, np.array(C_matrix_red), Eig_red, Second_moment"
      ]
    },
    {
      "cell_type": "code",
      "execution_count": 51,
      "metadata": {
        "id": "r8w-HidvABZT"
      },
      "outputs": [],
      "source": [
        ""
      ]
    },
    {
      "cell_type": "code",
      "execution_count": 52,
      "metadata": {
        "id": "TGcp6N-MABZT"
      },
      "outputs": [],
      "source": [
        "@jit\n",
        "\n",
        "def SDE_sol():\n",
        "    \n",
        "    Sum_TWA=zeros((15,1))\n",
        "\n",
        "    for j in range(N):\n",
        "        Sum_TWA=Sum_TWA+random.multivariate_normal(real(Miu), Cov_mat_list, 1).T\n",
        "    \n",
        "    y0=list(Sum_TWA.flatten())+[random.normal(0, 0.5),random.normal(0, 0.5),random.normal(0, 0.5),random.normal(0, 0.5)]\n",
        "    \n",
        "    return stratHeunImpII(f, GG, y0, t_alt)"
      ]
    },
    {
      "cell_type": "code",
      "execution_count": 52,
      "metadata": {
        "id": "ePN6fcA1ABZU",
        "scrolled": false
      },
      "outputs": [],
      "source": [
        ""
      ]
    },
    {
      "cell_type": "code",
      "execution_count": 53,
      "metadata": {
        "id": "fW9MukY_ABZU"
      },
      "outputs": [],
      "source": [
        "\n",
        "#resu=C_system_tilde(Tester)[0]\n",
        "#resu_den=Den_mat\n",
        "#counter=1\n",
        "#for j in range(50):\n",
        "    \n",
        "#    Fin=SDE_sol()[0][0][:15]\n",
        "    \n",
        "#    Rt=density_mat(Fin)\n",
        "   \n",
        "#    Den_mat=Rt/np.trace(Rt)\n",
        "#    resu_den=resu_den+Den_mat\n",
        "#    resu=resu+C_system_tilde(Den_mat)[0]\n",
        "#    counter=counter+1\n",
        "    \n",
        "#resu/counter\n",
        "\n"
      ]
    },
    {
      "cell_type": "code",
      "execution_count": 53,
      "metadata": {
        "id": "_qNMS0JbABZU"
      },
      "outputs": [],
      "source": [
        ""
      ]
    },
    {
      "cell_type": "code",
      "execution_count": 53,
      "metadata": {
        "id": "O2t0k6-FABZU"
      },
      "outputs": [],
      "source": [
        ""
      ]
    },
    {
      "cell_type": "code",
      "execution_count": 54,
      "metadata": {
        "id": "mGCmdTruL6vg"
      },
      "outputs": [],
      "source": [
        "from numpy import add\n",
        "from numba import jit\n",
        "\n",
        "\n",
        "\n",
        "itera=5000\n",
        "@jit\n",
        "\n",
        "def averages_sde(itera=itera,N=N):\n",
        "    Results =SDE_sol()\n",
        "    \n",
        "    Result_First  =Results[0]\n",
        "    Result_C_tilde=Results[1]\n",
        "    Result_EigVal =Results[2]\n",
        "    Second_moment =Results[3]\n",
        "    print(0)\n",
        "\n",
        "    for j in range(itera-1):\n",
        "        Trayec=SDE_sol()\n",
        "        Result_First  =add(Result_First  ,Trayec[0])\n",
        "        Result_C_tilde=add(Result_C_tilde,Trayec[1])\n",
        "        Result_EigVal =add(Result_EigVal ,Trayec[2])\n",
        "        Second_moment =add(Second_moment, Trayec[3])\n",
        "\n",
        "        print(j+1)\n",
        "    \n",
        "    return Result_First/itera, Result_C_tilde/itera, Result_EigVal/itera, Second_moment/itera"
      ]
    },
    {
      "cell_type": "code",
      "execution_count": 54,
      "metadata": {
        "id": "Q1s6zrrKABZV"
      },
      "outputs": [],
      "source": [
        ""
      ]
    },
    {
      "cell_type": "code",
      "execution_count": null,
      "metadata": {
        "colab": {
          "base_uri": "https://localhost:8080/"
        },
        "id": "nwiURazwABZV",
        "outputId": "ccdcfcaf-5a42-4f94-ae19-20f2e8ff5c59"
      },
      "outputs": [
        {
          "output_type": "stream",
          "name": "stderr",
          "text": [
            "<ipython-input-54-96b3902a282c>:7: NumbaWarning: \n",
            "Compilation is falling back to object mode WITH looplifting enabled because Function \"averages_sde\" failed type inference due to: Invalid use of type(CPUDispatcher(<function SDE_sol at 0x7f9ee59fd290>)) with parameters ()\n",
            "\n",
            "During: resolving callee type: type(CPUDispatcher(<function SDE_sol at 0x7f9ee59fd290>))\n",
            "During: typing of call at <ipython-input-54-96b3902a282c> (10)\n",
            "\n",
            "\n",
            "File \"<ipython-input-54-96b3902a282c>\", line 10:\n",
            "def averages_sde(itera=itera,N=N):\n",
            "    Results =SDE_sol()\n",
            "    ^\n",
            "\n",
            "  @jit\n",
            "<ipython-input-54-96b3902a282c>:7: NumbaWarning: \n",
            "Compilation is falling back to object mode WITHOUT looplifting enabled because Function \"averages_sde\" failed type inference due to: cannot determine Numba type of <class 'numba.core.dispatcher.LiftedLoop'>\n",
            "\n",
            "File \"<ipython-input-54-96b3902a282c>\", line 18:\n",
            "def averages_sde(itera=itera,N=N):\n",
            "    <source elided>\n",
            "\n",
            "    for j in range(itera-1):\n",
            "    ^\n",
            "\n",
            "  @jit\n",
            "/usr/local/lib/python3.7/dist-packages/numba/core/object_mode_passes.py:178: NumbaWarning: Function \"averages_sde\" was compiled in object mode without forceobj=True, but has lifted loops.\n",
            "\n",
            "File \"<ipython-input-54-96b3902a282c>\", line 10:\n",
            "def averages_sde(itera=itera,N=N):\n",
            "    Results =SDE_sol()\n",
            "    ^\n",
            "\n",
            "  state.func_ir.loc))\n",
            "/usr/local/lib/python3.7/dist-packages/numba/core/object_mode_passes.py:188: NumbaDeprecationWarning: \n",
            "Fall-back from the nopython compilation path to the object mode compilation path has been detected, this is deprecated behaviour.\n",
            "\n",
            "For more information visit https://numba.pydata.org/numba-doc/latest/reference/deprecation.html#deprecation-of-object-mode-fall-back-behaviour-when-using-jit\n",
            "\n",
            "File \"<ipython-input-54-96b3902a282c>\", line 10:\n",
            "def averages_sde(itera=itera,N=N):\n",
            "    Results =SDE_sol()\n",
            "    ^\n",
            "\n",
            "  state.func_ir.loc))\n",
            "<ipython-input-52-cf73631c7e57>:1: NumbaWarning: \n",
            "Compilation is falling back to object mode WITHOUT looplifting enabled because Function \"SDE_sol\" failed type inference due to: Unknown attribute 'multivariate_normal' of type Module(<module 'numpy.random' from '/usr/local/lib/python3.7/dist-packages/numpy/random/__init__.py'>)\n",
            "\n",
            "File \"<ipython-input-52-cf73631c7e57>\", line 8:\n",
            "def SDE_sol():\n",
            "    <source elided>\n",
            "    for j in range(N):\n",
            "        Sum_TWA=Sum_TWA+random.multivariate_normal(real(Miu), Cov_mat_list, 1).T\n",
            "        ^\n",
            "\n",
            "During: typing of get attribute at <ipython-input-52-cf73631c7e57> (8)\n",
            "\n",
            "File \"<ipython-input-52-cf73631c7e57>\", line 8:\n",
            "def SDE_sol():\n",
            "    <source elided>\n",
            "    for j in range(N):\n",
            "        Sum_TWA=Sum_TWA+random.multivariate_normal(real(Miu), Cov_mat_list, 1).T\n",
            "        ^\n",
            "\n",
            "  @jit\n",
            "/usr/local/lib/python3.7/dist-packages/numba/core/object_mode_passes.py:178: NumbaWarning: Function \"SDE_sol\" was compiled in object mode without forceobj=True.\n",
            "\n",
            "File \"<ipython-input-52-cf73631c7e57>\", line 7:\n",
            "def SDE_sol():\n",
            "    <source elided>\n",
            "\n",
            "    for j in range(N):\n",
            "    ^\n",
            "\n",
            "  state.func_ir.loc))\n",
            "/usr/local/lib/python3.7/dist-packages/numba/core/object_mode_passes.py:188: NumbaDeprecationWarning: \n",
            "Fall-back from the nopython compilation path to the object mode compilation path has been detected, this is deprecated behaviour.\n",
            "\n",
            "For more information visit https://numba.pydata.org/numba-doc/latest/reference/deprecation.html#deprecation-of-object-mode-fall-back-behaviour-when-using-jit\n",
            "\n",
            "File \"<ipython-input-52-cf73631c7e57>\", line 7:\n",
            "def SDE_sol():\n",
            "    <source elided>\n",
            "\n",
            "    for j in range(N):\n",
            "    ^\n",
            "\n",
            "  state.func_ir.loc))\n",
            "<ipython-input-51-79044e7ae10e>:4: NumbaWarning: \n",
            "Compilation is falling back to object mode WITH looplifting enabled because Function \"stratHeunImpII\" failed type inference due to: Untyped global name '_check_args': cannot determine Numba type of <class 'function'>\n",
            "\n",
            "File \"<ipython-input-51-79044e7ae10e>\", line 38:\n",
            "def stratHeunImpII(f, G, y0, tspan, dW=None):\n",
            "    <source elided>\n",
            "    \"\"\"\n",
            "    (d, m, f, G, y0, tspan, dW, __) = _check_args(f, G, y0, tspan, dW, None)\n",
            "    ^\n",
            "\n",
            "  @jit\n",
            "<ipython-input-51-79044e7ae10e>:4: NumbaWarning: \n",
            "Compilation is falling back to object mode WITHOUT looplifting enabled because Function \"stratHeunImpII\" failed type inference due to: Untyped global name '_check_args': cannot determine Numba type of <class 'function'>\n",
            "\n",
            "File \"<ipython-input-51-79044e7ae10e>\", line 38:\n",
            "def stratHeunImpII(f, G, y0, tspan, dW=None):\n",
            "    <source elided>\n",
            "    \"\"\"\n",
            "    (d, m, f, G, y0, tspan, dW, __) = _check_args(f, G, y0, tspan, dW, None)\n",
            "    ^\n",
            "\n",
            "  @jit\n",
            "/usr/local/lib/python3.7/dist-packages/numba/core/object_mode_passes.py:178: NumbaWarning: Function \"stratHeunImpII\" was compiled in object mode without forceobj=True, but has lifted loops.\n",
            "\n",
            "File \"<ipython-input-51-79044e7ae10e>\", line 38:\n",
            "def stratHeunImpII(f, G, y0, tspan, dW=None):\n",
            "    <source elided>\n",
            "    \"\"\"\n",
            "    (d, m, f, G, y0, tspan, dW, __) = _check_args(f, G, y0, tspan, dW, None)\n",
            "    ^\n",
            "\n",
            "  state.func_ir.loc))\n",
            "/usr/local/lib/python3.7/dist-packages/numba/core/object_mode_passes.py:188: NumbaDeprecationWarning: \n",
            "Fall-back from the nopython compilation path to the object mode compilation path has been detected, this is deprecated behaviour.\n",
            "\n",
            "For more information visit https://numba.pydata.org/numba-doc/latest/reference/deprecation.html#deprecation-of-object-mode-fall-back-behaviour-when-using-jit\n",
            "\n",
            "File \"<ipython-input-51-79044e7ae10e>\", line 38:\n",
            "def stratHeunImpII(f, G, y0, tspan, dW=None):\n",
            "    <source elided>\n",
            "    \"\"\"\n",
            "    (d, m, f, G, y0, tspan, dW, __) = _check_args(f, G, y0, tspan, dW, None)\n",
            "    ^\n",
            "\n",
            "  state.func_ir.loc))\n",
            "<ipython-input-51-79044e7ae10e>:4: NumbaWarning: \n",
            "Compilation is falling back to object mode WITHOUT looplifting enabled because Function \"stratHeunImpII\" failed type inference due to: Untyped global name 'C_system_tilde': cannot determine Numba type of <class 'function'>\n",
            "\n",
            "File \"<ipython-input-51-79044e7ae10e>\", line 89:\n",
            "def stratHeunImpII(f, G, y0, tspan, dW=None):\n",
            "    <source elided>\n",
            "        \n",
            "        C_system_k=C_system_tilde(density_mat(y_k),Result_varTWA_Col_SDEI[k])\n",
            "        ^\n",
            "\n",
            "  @jit\n",
            "/usr/local/lib/python3.7/dist-packages/numba/core/object_mode_passes.py:178: NumbaWarning: Function \"stratHeunImpII\" was compiled in object mode without forceobj=True.\n",
            "\n",
            "File \"<ipython-input-51-79044e7ae10e>\", line 77:\n",
            "def stratHeunImpII(f, G, y0, tspan, dW=None):\n",
            "    <source elided>\n",
            "\n",
            "    for k in range(Ns//Major_index):\n",
            "    ^\n",
            "\n",
            "  state.func_ir.loc))\n",
            "/usr/local/lib/python3.7/dist-packages/numba/core/object_mode_passes.py:188: NumbaDeprecationWarning: \n",
            "Fall-back from the nopython compilation path to the object mode compilation path has been detected, this is deprecated behaviour.\n",
            "\n",
            "For more information visit https://numba.pydata.org/numba-doc/latest/reference/deprecation.html#deprecation-of-object-mode-fall-back-behaviour-when-using-jit\n",
            "\n",
            "File \"<ipython-input-51-79044e7ae10e>\", line 77:\n",
            "def stratHeunImpII(f, G, y0, tspan, dW=None):\n",
            "    <source elided>\n",
            "\n",
            "    for k in range(Ns//Major_index):\n",
            "    ^\n",
            "\n",
            "  state.func_ir.loc))\n"
          ]
        },
        {
          "output_type": "stream",
          "name": "stdout",
          "text": [
            "0\n"
          ]
        },
        {
          "output_type": "stream",
          "name": "stderr",
          "text": [
            "<ipython-input-54-96b3902a282c>:7: NumbaWarning: \n",
            "Compilation is falling back to object mode WITHOUT looplifting enabled because Function \"averages_sde\" failed type inference due to: Invalid use of type(CPUDispatcher(<function SDE_sol at 0x7f9ee59fd290>)) with parameters ()\n",
            "\n",
            "During: resolving callee type: type(CPUDispatcher(<function SDE_sol at 0x7f9ee59fd290>))\n",
            "During: typing of call at <ipython-input-54-96b3902a282c> (19)\n",
            "\n",
            "\n",
            "File \"<ipython-input-54-96b3902a282c>\", line 19:\n",
            "def averages_sde(itera=itera,N=N):\n",
            "    <source elided>\n",
            "    for j in range(itera-1):\n",
            "        Trayec=SDE_sol()\n",
            "        ^\n",
            "\n",
            "  @jit\n",
            "/usr/local/lib/python3.7/dist-packages/numba/core/object_mode_passes.py:178: NumbaWarning: Function \"averages_sde\" was compiled in object mode without forceobj=True.\n",
            "\n",
            "File \"<ipython-input-54-96b3902a282c>\", line 18:\n",
            "def averages_sde(itera=itera,N=N):\n",
            "    <source elided>\n",
            "\n",
            "    for j in range(itera-1):\n",
            "    ^\n",
            "\n",
            "  state.func_ir.loc))\n",
            "/usr/local/lib/python3.7/dist-packages/numba/core/object_mode_passes.py:188: NumbaDeprecationWarning: \n",
            "Fall-back from the nopython compilation path to the object mode compilation path has been detected, this is deprecated behaviour.\n",
            "\n",
            "For more information visit https://numba.pydata.org/numba-doc/latest/reference/deprecation.html#deprecation-of-object-mode-fall-back-behaviour-when-using-jit\n",
            "\n",
            "File \"<ipython-input-54-96b3902a282c>\", line 18:\n",
            "def averages_sde(itera=itera,N=N):\n",
            "    <source elided>\n",
            "\n",
            "    for j in range(itera-1):\n",
            "    ^\n",
            "\n",
            "  state.func_ir.loc))\n"
          ]
        },
        {
          "output_type": "stream",
          "name": "stdout",
          "text": [
            "1\n",
            "2\n",
            "3\n",
            "4\n",
            "5\n",
            "6\n",
            "7\n",
            "8\n",
            "9\n",
            "10\n",
            "11\n",
            "12\n",
            "13\n",
            "14\n",
            "15\n",
            "16\n",
            "17\n",
            "18\n",
            "19\n",
            "20\n",
            "21\n",
            "22\n",
            "23\n",
            "24\n",
            "25\n",
            "26\n",
            "27\n",
            "28\n",
            "29\n",
            "30\n",
            "31\n",
            "32\n"
          ]
        }
      ],
      "source": [
        "import time\n",
        "t0=time.time()\n",
        "\n",
        "itera=100\n",
        "\n",
        "Result_varTWA_Col_SDE = averages_sde(itera=itera,N=N)\n",
        "#Result_varTWA_Col_TWA = averages_sde(itera=itera,N=N)\n",
        "\n",
        "\n",
        "t1=time.time()\n",
        "\n",
        "print(t1-t0)"
      ]
    },
    {
      "cell_type": "code",
      "execution_count": null,
      "metadata": {
        "id": "2Yva5NuFABZV"
      },
      "outputs": [],
      "source": [
        ""
      ]
    },
    {
      "cell_type": "code",
      "execution_count": null,
      "metadata": {
        "id": "51b7YJjaABZV"
      },
      "outputs": [],
      "source": [
        "EM_St3=[]\n",
        "EM_St2=[]\n",
        "EM_St1=[]\n",
        "EM_St0=[]\n",
        "\n",
        "    \n",
        "for j in range(len(Result_varTWA_Col_SDE[2])):\n",
        "    Pop_j=Result_varTWA_Col_SDE[2][j]\n",
        "    EM_St3.append(-Pop_j[0])\n",
        "    EM_St2.append(-Pop_j[1])\n",
        "    EM_St1.append(-Pop_j[2])\n",
        "    EM_St0.append(-Pop_j[3])\n",
        "    \n",
        "    \n",
        "    \n",
        "#plt.plot(t,NE_St0)\n",
        "#plt.plot(t,NE_St1)\n",
        "#plt.plot(t,NE_St2)\n",
        "#plt.plot(t,NE_St3)\n",
        "\n",
        "\n",
        "plt.title(\"Time-Evolution of the Populations\")\n",
        "plt.xlabel(\"$\\Gamma_Rt$\")\n",
        "\n",
        "plt.plot(GammaR*time_alt,EM_St3,label=\"Condensed direction\")\n",
        "plt.plot(GammaR*time_alt,EM_St2,label=\"2nd\")\n",
        "plt.plot(GammaR*time_alt,EM_St1,label=\"3rd\")\n",
        "plt.plot(GammaR*time_alt,EM_St0,label=\"4th\")\n",
        "\n",
        "\n",
        "plt.legend()\n",
        "\n",
        "    "
      ]
    },
    {
      "cell_type": "code",
      "execution_count": null,
      "metadata": {
        "id": "YVISs__0ABZW"
      },
      "outputs": [],
      "source": [
        ""
      ]
    },
    {
      "cell_type": "code",
      "execution_count": null,
      "metadata": {
        "id": "FG32atqaABZW"
      },
      "outputs": [],
      "source": [
        ""
      ]
    },
    {
      "cell_type": "code",
      "execution_count": null,
      "metadata": {
        "id": "s-YNluJCABZX"
      },
      "outputs": [],
      "source": [
        "C_matrices=Result_varTWA_Col_SDE[1]\n",
        "\n",
        "\n",
        "Eigenvalues_C=[]\n",
        "\n",
        "\n",
        "\n",
        "\n",
        "for j in range(len(Result_varTWA_Col_SDE[1])):\n",
        "    Eigenvalues_C.append( scipy.linalg.eig(C_matrices[j])[0])\n",
        "    \n",
        "    \n",
        "    \n",
        "    \n",
        "C_1=[]\n",
        "C_2=[]\n",
        "C_3=[]\n",
        "C_4=[]\n",
        "C_5=[]\n",
        "C_6=[]\n",
        "\n",
        "Ar_1=[]\n",
        "\n",
        "\n",
        "for j in range(len(Eigenvalues_C)):\n",
        "\n",
        "    Aio=list(Eigenvalues_C[j])\n",
        "    Aio.sort()\n",
        "\n",
        "    C_1.append(Aio[ -1]/(N/2))\n",
        "    C_2.append(Aio[-2]/(N/2))\n",
        "    C_3.append(Aio[ -3]/(N/2))\n",
        "    C_4.append(Aio[-4]/(N/2))\n",
        "    C_5.append(Aio[ -5]/(N/2))\n",
        "    C_6.append(Aio[ -6]/(N/2))\n",
        "    Ar_1.append(1)\n",
        "\n",
        "\n",
        "\n",
        "\n",
        "\n",
        "\n",
        "\n",
        "\n"
      ]
    },
    {
      "cell_type": "code",
      "execution_count": null,
      "metadata": {
        "id": "4Ph-QOqHABZX"
      },
      "outputs": [],
      "source": [
        "\n",
        "plt.title('Time-Evolution of the Normalized Eigenvalues of $\\\\tilde{C}$')\n",
        "\n",
        "\n",
        "plt.plot(time_alt*GammaR,C_1,label=\"1st\")\n",
        "plt.plot(time_alt*GammaR,C_2,label=\"2nd\")\n",
        "plt.plot(time_alt*GammaR,C_3,label=\"3rd\")\n",
        "plt.plot(time_alt*GammaR,C_4,label=\"4th\")\n",
        "plt.plot(time_alt*GammaR,C_5,label=\"5th\")\n",
        "plt.plot(time_alt*GammaR,C_6,label=\"6th\")\n",
        "plt.plot(time_alt*GammaR,Ar_1,\"--\")\n",
        "\n",
        "plt.yscale('log')\n",
        "\n",
        "plt.legend()"
      ]
    },
    {
      "cell_type": "code",
      "execution_count": null,
      "metadata": {
        "id": "PUMJeFOryuJq"
      },
      "outputs": [],
      "source": [
        ""
      ]
    },
    {
      "cell_type": "code",
      "execution_count": null,
      "metadata": {
        "id": "1suoyLl_7pbl"
      },
      "outputs": [],
      "source": [
        "Purity=[]\n",
        "\n",
        "\n",
        "plt.title(\"Time-Evolution Purity\")\n",
        "\n",
        "for j in range(len(EM_St0 )):\n",
        "    Purity.append(EM_St0[j]**2+EM_St1[j]**2+EM_St2[j]**2+EM_St3[j]**2)\n",
        "\n",
        "\n",
        "plt.plot(N*time_alt*GammaR,np.array(Purity))"
      ]
    },
    {
      "cell_type": "code",
      "execution_count": null,
      "metadata": {
        "id": "P0x01UmA7pf_"
      },
      "outputs": [],
      "source": [
        ""
      ]
    },
    {
      "cell_type": "code",
      "execution_count": null,
      "metadata": {
        "id": "slIylNYW7pjy"
      },
      "outputs": [],
      "source": [
        "\n",
        "plt.title('Time-Evolution of the Normalized Eigenvalues of $\\\\tilde{C}$')\n",
        "\n",
        "\n",
        "plt.plot(N*time_alt*GammaR,C_1,label=\"1st\")\n",
        "plt.plot(N*time_alt*GammaR,C_2,label=\"2nd\")\n",
        "plt.plot(N*time_alt*GammaR,C_3,label=\"3rd\")\n",
        "plt.plot(N*time_alt*GammaR,C_4,label=\"4th\")\n",
        "plt.plot(N*time_alt*GammaR,C_5,label=\"5th\")\n",
        "plt.plot(N*time_alt*GammaR,C_6,label=\"6th\")\n",
        "plt.plot(N*time_alt*GammaR,Ar_1,\"--\")\n",
        "\n",
        "plt.yscale('log')\n",
        "\n",
        "plt.legend()"
      ]
    },
    {
      "cell_type": "code",
      "execution_count": null,
      "metadata": {
        "id": "4LtnbJvv7pnU"
      },
      "outputs": [],
      "source": [
        ""
      ]
    },
    {
      "cell_type": "code",
      "execution_count": null,
      "metadata": {
        "id": "YMIaIdtkyuNc"
      },
      "outputs": [],
      "source": [
        "N"
      ]
    },
    {
      "cell_type": "code",
      "execution_count": null,
      "metadata": {
        "id": "2o7e5KHayuRk"
      },
      "outputs": [],
      "source": [
        "N"
      ]
    },
    {
      "cell_type": "code",
      "execution_count": null,
      "metadata": {
        "id": "J0yrmwMVyuVO"
      },
      "outputs": [],
      "source": [
        "fractionL"
      ]
    },
    {
      "cell_type": "code",
      "execution_count": null,
      "metadata": {
        "id": "eHC6GFW2yuYx"
      },
      "outputs": [],
      "source": [
        ""
      ]
    },
    {
      "cell_type": "code",
      "execution_count": null,
      "metadata": {
        "id": "gfBjlhmTyudD"
      },
      "outputs": [],
      "source": [
        "Eigen=np.real([np.mean(C_1[130:150]),np.mean(C_2[130:150]),np.mean(C_3[130:150]),np.mean(C_4[130:150]),np.mean(C_5[130:150]),np.mean(C_6[130:150])])\n",
        "\n",
        "print(Eigen)"
      ]
    },
    {
      "cell_type": "code",
      "execution_count": null,
      "metadata": {
        "id": "dJQt08vuyugX"
      },
      "outputs": [],
      "source": [
        ""
      ]
    },
    {
      "cell_type": "code",
      "execution_count": null,
      "metadata": {
        "id": "sTIBe44myukc"
      },
      "outputs": [],
      "source": [
        "\n",
        "def Square_mean(Averages):\n",
        "    Averages=Averages[0:len(Matrix_Basis)].reshape(len(Matrix_Basis),1)\n",
        "    \n",
        "    return  Averages*(Averages.T)\n",
        "\n",
        "Cov_series=[]\n",
        "\n",
        "for j in range(len(Result_varTWA_Col_SDE[0])):\n",
        "    Cov_series.append(   np.array(Result_varTWA_Col_SDE[3][j] - Square_mean(Result_varTWA_Col_SDE[0][j]) )/  (N/2)    )\n",
        "\n",
        "\n",
        "\n",
        "len(Cov_series)\n",
        "\n",
        "Conserved=[]\n",
        "Ones=[]\n",
        "\n",
        "\n",
        "for j in range(len(Cov_series)):\n",
        "    Eigenvalues=scipy.linalg.eig(Cov_series[j])[0]\n",
        "    idx = Eigenvalues.argsort()   \n",
        "    Eigenvalues = Eigenvalues[idx]\n",
        "\n",
        "    Conserved.append(Eigenvalues[1]*Eigenvalues[2])\n",
        "    Ones.append(1)\n",
        "    \n",
        "\n",
        "#plt.plot(Conserved)\n",
        "#plt.plot(Ones)"
      ]
    },
    {
      "cell_type": "code",
      "execution_count": null,
      "metadata": {
        "id": "DgQfiyGkyun7"
      },
      "outputs": [],
      "source": [
        ""
      ]
    },
    {
      "cell_type": "code",
      "execution_count": null,
      "metadata": {
        "id": "NbwjmP50yusf"
      },
      "outputs": [],
      "source": [
        "\n",
        "\n",
        "Eig_1=[]\n",
        "Eig_2=[]\n",
        "Eig_3=[]\n",
        "Eig_4=[]\n",
        "Eig_5=[]\n",
        "Eig_6=[]\n",
        "\n",
        "for j in range(len(Cov_series)):\n",
        "    Eigenvalues=scipy.linalg.eig( Cov_series[ j ] )[0]\n",
        "    idx = Eigenvalues.argsort()   \n",
        "    Eigenvalues = Eigenvalues[idx]\n",
        "\n",
        "    Eig_1.append(Eigenvalues[-1])\n",
        "    Eig_2.append(Eigenvalues[-2])\n",
        "    Eig_3.append(Eigenvalues[-3])\n",
        "    Eig_4.append(Eigenvalues[-4])\n",
        "    Eig_5.append(Eigenvalues[-5])\n",
        "    Eig_6.append(Eigenvalues[-6])"
      ]
    },
    {
      "cell_type": "code",
      "execution_count": null,
      "metadata": {
        "id": "H0KzyVb9yuwB"
      },
      "outputs": [],
      "source": [
        "\n",
        "fontsize=30\n",
        "\n",
        "\n",
        "plt.title(\"Eigenvalues Covariance Matrix\",fontsize=fontsize)\n",
        "\n",
        "\n",
        "plt.ylabel(r'$\\lambda$',fontsize=fontsize)\n",
        "plt.xlabel(r'$N\\Gamma t$',fontsize=fontsize)\n",
        "\n",
        "\n",
        "plt.plot(N*time_alt*GammaR,Eig_1)\n",
        "plt.plot(N*time_alt*GammaR,Eig_2)\n",
        "plt.plot(N*time_alt*GammaR,Eig_3)\n",
        "plt.plot(N*time_alt*GammaR,Eig_4)\n",
        "plt.plot(N*time_alt*GammaR,Eig_5)\n",
        "plt.plot(N*time_alt*GammaR,Eig_6)\n",
        "plt.yscale('log')"
      ]
    },
    {
      "cell_type": "code",
      "execution_count": null,
      "metadata": {
        "id": "DreDQq6Gyuzf"
      },
      "outputs": [],
      "source": [
        ""
      ]
    },
    {
      "cell_type": "code",
      "execution_count": null,
      "metadata": {
        "id": "w7jfjlvYyu3D"
      },
      "outputs": [],
      "source": [
        ""
      ]
    },
    {
      "cell_type": "code",
      "execution_count": null,
      "metadata": {
        "id": "nQlDycepyu9n"
      },
      "outputs": [],
      "source": [
        "plt.title(\"Product of Eigenvalues\")\n",
        "\n",
        "Cons1=np.multiply(Eig_1,Eig_6)\n",
        "Cons2=np.multiply(Eig_2,Eig_5)\n",
        "Cons3=np.multiply(Eig_3,Eig_4)\n",
        "\n",
        "\n",
        "\n",
        "plt.ylabel(r'$\\lambda_1\\lambda_2$',fontsize=fontsize)\n",
        "plt.xlabel(r'$N\\Gamma t$',fontsize=fontsize)\n",
        "\n",
        "\n",
        "plt.plot(Cons1)\n",
        "plt.plot(Cons2)\n",
        "plt.plot(Cons3)"
      ]
    },
    {
      "cell_type": "code",
      "execution_count": null,
      "metadata": {
        "id": "bLcaeuH7ABZX"
      },
      "outputs": [],
      "source": [
        ""
      ]
    },
    {
      "cell_type": "code",
      "execution_count": null,
      "metadata": {
        "id": "TZpKNNwDaqI9"
      },
      "outputs": [],
      "source": [
        ""
      ]
    },
    {
      "cell_type": "code",
      "execution_count": null,
      "metadata": {
        "id": "8MYLjlWzaqMP"
      },
      "outputs": [],
      "source": [
        "def rotation_mat(Array):\n",
        "    xvec=np.zeros( Array.shape ) \n",
        "    xvec[-3][0]=1\n",
        "\n",
        "    Mat=(Array@xvec.reshape(1,15)-xvec@Array.reshape(1,15))\n",
        "\n",
        "    return np.identity(15)+Mat+(Mat@Mat)/(1+Array[-3][0])"
      ]
    },
    {
      "cell_type": "code",
      "execution_count": null,
      "metadata": {
        "id": "hXoHTup6aqPU"
      },
      "outputs": [],
      "source": [
        "Rotation_matrices=[]\n",
        "\n",
        "for j in range(len(Result_varTWA_Col_SDE[0])):\n",
        "\n",
        "    Vect=Result_varTWA_Col_SDE[0][j][:15]\n",
        "    Vect=Vect/scipy.linalg.norm(Vect)\n",
        "\n",
        "    Rotation_matrices.append( rotation_mat(Vect.reshape(15,1)) )\n",
        "    "
      ]
    },
    {
      "cell_type": "code",
      "execution_count": null,
      "metadata": {
        "id": "NIK_mtPWThat"
      },
      "outputs": [],
      "source": [
        ""
      ]
    },
    {
      "cell_type": "code",
      "execution_count": null,
      "metadata": {
        "id": "T_2hfiExThdK"
      },
      "outputs": [],
      "source": [
        "Matr_reduced66=[]\n",
        "\n",
        "SecondMom_Sab=Result_varTWA_Col_SDE[3]\n",
        "\n",
        "\n",
        "\n",
        "for j in range( len(SecondMom_Sab) ):\n",
        "    Vmat=np.zeros((6,6))\n",
        "    C0=np.array(Rotation_matrices[j][:,0]).reshape(15,1)\n",
        "    C1=np.array(Rotation_matrices[j][:,1]).reshape(15,1)\n",
        "    C2=np.array(Rotation_matrices[j][:,2]).reshape(15,1)\n",
        "    C3=np.array(Rotation_matrices[j][:,6]).reshape(15,1)\n",
        "    C4=np.array(Rotation_matrices[j][:,7]).reshape(15,1)\n",
        "    C5=np.array(Rotation_matrices[j][:,8]).reshape(15,1)\n",
        "\n",
        "    Column_mat=[C0,C1,C2,C3,C4,C5]\n",
        "\n",
        "\n",
        "    E_Scuad_j=SecondMom_Sab[j]\n",
        "\n",
        "    for w in range(6):\n",
        "        for k in range(6):\n",
        "            Vmat[w,k]=np.sum((Column_mat[w]@Column_mat[k].reshape(1,15))*E_Scuad_j)\n",
        "    \n",
        "    Matr_reduced66.append(Vmat)"
      ]
    },
    {
      "cell_type": "code",
      "execution_count": null,
      "metadata": {
        "id": "OW6U6FyGThgG"
      },
      "outputs": [],
      "source": [
        ""
      ]
    },
    {
      "cell_type": "code",
      "execution_count": null,
      "metadata": {
        "id": "uKdHh2VKThi0"
      },
      "outputs": [],
      "source": [
        "Matr_reduced66"
      ]
    },
    {
      "cell_type": "code",
      "execution_count": null,
      "metadata": {
        "id": "QUVQUGgMThqv"
      },
      "outputs": [],
      "source": [
        ""
      ]
    },
    {
      "cell_type": "code",
      "execution_count": null,
      "metadata": {
        "id": "GkDI4FrpNvgg"
      },
      "outputs": [],
      "source": [
        "Cov_test=[]\n",
        "Lambda_0_gm=[]\n",
        "Lambda_1_gm=[]\n",
        "Lambda_2_gm=[]\n",
        "Lambda_3_gm=[]\n",
        "Lambda_4_gm=[]\n",
        "Lambda_5_gm=[]\n",
        "\n",
        "Prod=[]\n",
        "\n",
        "\n",
        "for j in range(len(Matr_reduced66 )):\n",
        "\n",
        "    \n",
        "    Cov_jj=Matr_reduced66[j]\n",
        "    Eigen=scipy.linalg.eig(Cov_jj)[0]/(N/2)\n",
        "\n",
        "\n",
        "    idx   = Eigen.argsort()   \n",
        "    Eigen = Eigen[idx]\n",
        "\n",
        "    Lambda_0_gm.append(  Eigen [0] )\n",
        "    Lambda_1_gm.append(  Eigen [1] )\n",
        "    Lambda_2_gm.append(  Eigen [2] )\n",
        "    Lambda_3_gm.append(  Eigen [3] )\n",
        "    Lambda_4_gm.append(  Eigen [4] )\n",
        "    Lambda_5_gm.append(  Eigen [5] )\n",
        "    \n",
        "    #Prod.append( Eigen [-1]*Eigen [-2] )\n",
        "    \n",
        "#plt.plot(N*GammaR*time_alt,Lambda_minor_gm)\n",
        "#plt.plot(N*GammaR*time_alt,Lambda_major_gm)\n",
        "#plt.plot(N*GammaR*time_alt,Prod)\n",
        "\n",
        "\n",
        "plt.plot(N*GammaR*time_alt,Lambda_0_gm)\n",
        "plt.plot(N*GammaR*time_alt,Lambda_1_gm)\n",
        "plt.plot(N*GammaR*time_alt,Lambda_2_gm)\n",
        "plt.plot(N*GammaR*time_alt,Lambda_3_gm)\n",
        "plt.plot(N*GammaR*time_alt,Lambda_4_gm)\n",
        "plt.plot(N*GammaR*time_alt,Lambda_5_gm)\n",
        "\n",
        "plt.yscale(\"log\")"
      ]
    },
    {
      "cell_type": "code",
      "execution_count": null,
      "metadata": {
        "id": "Cr49UgzhNvjY"
      },
      "outputs": [],
      "source": [
        ""
      ]
    },
    {
      "cell_type": "code",
      "execution_count": null,
      "metadata": {
        "id": "rcaiHihtLT9e"
      },
      "outputs": [],
      "source": [
        "\n"
      ]
    },
    {
      "cell_type": "code",
      "source": [
        ""
      ],
      "metadata": {
        "id": "k2XxvMorS1DX"
      },
      "execution_count": null,
      "outputs": []
    }
  ],
  "metadata": {
    "colab": {
      "collapsed_sections": [],
      "machine_shape": "hm",
      "name": "Quench_Benchmark_ComplexDriving.ipynb",
      "provenance": []
    },
    "kernelspec": {
      "display_name": "Python 3",
      "language": "python",
      "name": "python3"
    },
    "language_info": {
      "codemirror_mode": {
        "name": "ipython",
        "version": 3
      },
      "file_extension": ".py",
      "mimetype": "text/x-python",
      "name": "python",
      "nbconvert_exporter": "python",
      "pygments_lexer": "ipython3",
      "version": "3.8.3"
    }
  },
  "nbformat": 4,
  "nbformat_minor": 0
}