{
 "cells": [
  {
   "cell_type": "code",
   "execution_count": 44,
   "metadata": {},
   "outputs": [],
   "source": [
    "import matplotlib.pyplot as plt\n",
    "import numpy as np\n",
    "\n",
    "\"\"\"In order to provide a better presentation of the graphs we use the rcParams options shown below.\"\"\"\n",
    "\n",
    "import matplotlib\n",
    "matplotlib.rcParams['text.usetex'] = False\n",
    "matplotlib.rcParams['mathtext.fontset'] = 'stix'\n",
    "matplotlib.rcParams['font.family'] = 'STIXGeneral'\n",
    "matplotlib.rcParams['font.size'] = 15\n",
    "matplotlib.rcParams['figure.figsize'] = (11.0, 8.0)"
   ]
  },
  {
   "cell_type": "code",
   "execution_count": 45,
   "metadata": {},
   "outputs": [],
   "source": [
    "import matplotlib.pyplot as plt\n",
    "from numpy import linalg as LA\n",
    "import scipy.special\n",
    "\n",
    "import time\n",
    "from scipy.integrate import odeint\n",
    "from scipy.special import zeta\n",
    "from random import choices"
   ]
  },
  {
   "cell_type": "code",
   "execution_count": 46,
   "metadata": {},
   "outputs": [],
   "source": [
    "import matplotlib.pyplot as plt\n",
    "import matplotlib as mpl\n",
    "from matplotlib import cm\n",
    "import numpy as np\n",
    "\n",
    "\n",
    "#from qutip import *\n",
    "#from qutip.piqs import *\n",
    "\n",
    "import matplotlib.animation as animation\n",
    "from IPython.display import HTML\n",
    "from IPython.core.display import Image, display"
   ]
  },
  {
   "cell_type": "code",
   "execution_count": 172,
   "metadata": {},
   "outputs": [],
   "source": [
    "import numpy as np\n",
    "\n",
    "from numpy import sqrt, cos, sin\n",
    "\n",
    "\n",
    "Theta = np.pi/3\n",
    "Phi   = np.pi/4\n",
    "\n",
    "\n",
    "# Set the initial values due to the measurements in the state |\\psi>=cos(\\theta/2)|0>+exp(i*\\phi)*sin(\\theta/2)|1>\n",
    "\n",
    "\n",
    "theta = Theta\n",
    "phi   = Phi\n",
    "\n",
    "#-----------------------------------------------------------------------------------------------------\n",
    "\n",
    "\n",
    "\n",
    "from scipy import stats\n",
    "\n",
    "mk = np.array([-1/sqrt(2),0,1/sqrt(2)])\n",
    "\n",
    "mzk=np.array([0,1])\n",
    "\n",
    "\n",
    "x10=( 0.5* (1-cos(phi)*sin(theta)), 0 , 0.5* (1+cos(phi)*sin(theta)))\n",
    "x20=( 0.5* (cos(theta/2))**2, (sin(theta/2))**2, 0.5* (cos(theta/2))**2)\n",
    "x30=( 0.5* (cos(theta/2))**2, (sin(theta/2))**2, 0.5* (cos(theta/2))**2)\n",
    "x21=( 0.5* (sin(theta/2))**2, (cos(theta/2))**2, 0.5* (sin(theta/2))**2)\n",
    "x31=( 0.5* (sin(theta/2))**2, (cos(theta/2))**2, 0.5* (sin(theta/2))**2)\n",
    "x32=(0,1,0)\n",
    "\n",
    "y10=( 0.5* (1-sin(phi)*sin(theta)), 0 , 0.5* (1+sin(phi)*sin(theta)))\n",
    "y20=( 0.5* (cos(theta/2))**2, (sin(theta/2))**2, 0.5* (cos(theta/2))**2)\n",
    "y30=( 0.5* (cos(theta/2))**2, (sin(theta/2))**2, 0.5* (cos(theta/2))**2)\n",
    "y21=( 0.5* (sin(theta/2))**2, (cos(theta/2))**2, 0.5* (sin(theta/2))**2)\n",
    "y31=( 0.5* (sin(theta/2))**2, (cos(theta/2))**2, 0.5* (sin(theta/2))**2)\n",
    "y32=(0,1,0)\n",
    "\n",
    "z0=((sin(theta/2))**2,(cos(theta/2))**2)\n",
    "z1=((cos(theta/2))**2,(sin(theta/2))**2)\n",
    "z2=(1,0)\n",
    "\n",
    "\n",
    "\n",
    "\n",
    "\n",
    "sample_size=50000\n",
    "\n",
    "S_x10=np.random.choice(mk,sample_size,p=x10)\n",
    "S_x20=np.random.choice(mk,sample_size,p=x20)\n",
    "S_x30=np.random.choice(mk,sample_size,p=x30)\n",
    "S_x21=np.random.choice(mk,sample_size,p=x21)\n",
    "S_x31=np.random.choice(mk,sample_size,p=x31)\n",
    "S_x32=np.random.choice(mk,sample_size,p=x32)\n",
    "\n",
    "S_y10=np.random.choice(mk,sample_size,p=y10)\n",
    "S_y20=np.random.choice(mk,sample_size,p=y20)\n",
    "S_y30=np.random.choice(mk,sample_size,p=y30)\n",
    "S_y21=np.random.choice(mk,sample_size,p=y21)\n",
    "S_y31=np.random.choice(mk,sample_size,p=y31)\n",
    "S_y32=np.random.choice(mk,sample_size,p=y32)\n",
    "\n",
    "S_z0=np.random.choice(mzk,sample_size,p=z0)\n",
    "S_z1=np.random.choice(mzk,sample_size,p=z1)\n",
    "S_z2=np.random.choice(mzk,sample_size,p=z2)\n",
    "\n",
    "S_matrix=np.array([S_x10,S_x20,S_x30,S_x21,S_x31,S_x32,S_y10,S_y20,S_y30,S_y21,S_y31,S_y32,S_z0,S_z1,S_z2])"
   ]
  },
  {
   "cell_type": "code",
   "execution_count": 173,
   "metadata": {},
   "outputs": [],
   "source": [
    "Cov_disc_mat=np.zeros((15,15))\n",
    "\n",
    "Miu_disc=np.zeros((1,15))"
   ]
  },
  {
   "cell_type": "code",
   "execution_count": 174,
   "metadata": {},
   "outputs": [],
   "source": [
    "for i in range(15):\n",
    "    Miu_disc[0][i]=np.mean(S_matrix[i])\n"
   ]
  },
  {
   "cell_type": "code",
   "execution_count": 175,
   "metadata": {},
   "outputs": [],
   "source": [
    "\n",
    "for i in range(15):\n",
    "    for j in range(15):\n",
    "        Cov_disc_mat[i][j]=np.dot(S_matrix[i],S_matrix[j])/sample_size-np.mean(S_matrix[i])*np.mean(S_matrix[j])"
   ]
  },
  {
   "cell_type": "code",
   "execution_count": 176,
   "metadata": {},
   "outputs": [
    {
     "data": {
      "image/png": "[encoded data removed]",
      "text/plain": [
       "<Figure size 720x468 with 2 Axes>"
      ]
     },
     "metadata": {
      "needs_background": "light"
     },
     "output_type": "display_data"
    }
   ],
   "source": [
    "import numpy as np\n",
    "import matplotlib.pyplot as plt\n",
    "\n",
    "\n",
    "matplotlib.rcParams['figure.figsize'] = (10.0, 6.5)\n",
    "fig3 = plt.figure(3)\n",
    "\n",
    "label_size = 20\n",
    "\n",
    "\n",
    "\n",
    "plt.imshow(Cov_disc_mat)\n",
    "plt.colorbar()\n",
    "plt.show()"
   ]
  },
  {
   "cell_type": "code",
   "execution_count": 177,
   "metadata": {},
   "outputs": [
    {
     "data": {
      "image/png": "[encoded data removed]",
      "text/plain": [
       "<Figure size 720x468 with 2 Axes>"
      ]
     },
     "metadata": {
      "needs_background": "light"
     },
     "output_type": "display_data"
    }
   ],
   "source": [
    "import numpy as np\n",
    "import matplotlib.pyplot as plt\n",
    "\n",
    "plt.imshow(Miu_disc)\n",
    "plt.colorbar()\n",
    "plt.show()"
   ]
  },
  {
   "cell_type": "code",
   "execution_count": 178,
   "metadata": {},
   "outputs": [],
   "source": [
    "theta = Theta\n",
    "phi   = Phi\n",
    "\n",
    "\n",
    "matrix_array=[]\n",
    "\n",
    "# X matrix\n",
    "\n",
    "\n",
    "f10x=np.zeros((4, 4),dtype=np.complex_)\n",
    "f10x[0][1]=(1/sqrt(2))\n",
    "f10x=f10x+np.transpose(f10x)\n",
    "matrix_array.append(f10x)\n",
    "\n",
    "f20x=np.zeros((4, 4),dtype=np.complex_)\n",
    "f20x[2][0]=(1/sqrt(2))\n",
    "f20x=f20x+np.transpose(f20x)\n",
    "matrix_array.append(f20x)\n",
    "\n",
    "f30x=np.zeros((4, 4),dtype=np.complex_)\n",
    "f30x[3][0]=(1/sqrt(2))\n",
    "f30x=f30x+np.transpose(f30x)\n",
    "matrix_array.append(f30x)\n",
    "\n",
    "f21x=np.zeros((4, 4),dtype=np.complex_)\n",
    "f21x[2][1]=(1/sqrt(2))\n",
    "f21x=f21x+np.transpose(f21x)\n",
    "matrix_array.append(f21x)\n",
    "\n",
    "f31x=np.zeros((4, 4),dtype=np.complex_)\n",
    "f31x[3][1]=(1/sqrt(2))\n",
    "f31x=f31x+np.transpose(f31x)\n",
    "matrix_array.append(f31x)\n",
    "\n",
    "f32x=np.zeros((4, 4),dtype=np.complex_)\n",
    "f32x[3][2]=(1/sqrt(2))\n",
    "f32x=f32x+np.transpose(f32x)\n",
    "matrix_array.append(f32x)\n",
    "\n",
    "#Y Matrix\n",
    "\n",
    "f10y=np.zeros((4, 4),dtype=np.complex_)\n",
    "f10y[0][1]=-1j*(1/sqrt(2))\n",
    "f10y=f10y+np.conjugate(np.transpose(f10y))\n",
    "matrix_array.append(f10y)\n",
    "\n",
    "\n",
    "f20y=np.zeros((4, 4),dtype=np.complex_)\n",
    "f20y[0][2]=-1j*(1/sqrt(2))\n",
    "f20y=f20y+np.conjugate(np.transpose(f20y))\n",
    "matrix_array.append(f20y)\n",
    "\n",
    "\n",
    "f30y=np.zeros((4, 4),dtype=np.complex_)\n",
    "f30y[0][3]=-1j*(1/sqrt(2))\n",
    "f30y=f30y+np.conjugate(np.transpose(f30y))\n",
    "matrix_array.append(f30y)\n",
    "\n",
    "\n",
    "f21y=np.zeros((4, 4),dtype=np.complex_)\n",
    "f21y[1][2]=-1j*(1/sqrt(2))\n",
    "f21y=f21y+np.conjugate(np.transpose(f21y))\n",
    "matrix_array.append(f21y)\n",
    "\n",
    "f31y=np.zeros((4, 4),dtype=np.complex_)\n",
    "f31y[1][3]=-1j*(1/sqrt(2))\n",
    "f31y=f31y+np.conjugate(np.transpose(f31y))\n",
    "matrix_array.append(f31y)\n",
    "\n",
    "f32y=np.zeros((4, 4),dtype=np.complex_)\n",
    "f32y[2][3]=-1j*(1/sqrt(2))\n",
    "f32y=f32y+np.conjugate(np.transpose(f32y))\n",
    "matrix_array.append(f32y)\n",
    "\n",
    "\n",
    "#Z matrix\n",
    "\n",
    "f0z=np.zeros((4, 4),dtype=np.complex_)\n",
    "f0z[0][0]=1\n",
    "matrix_array.append(f0z)\n",
    "\n",
    "\n",
    "f1z=np.zeros((4, 4),dtype=np.complex_)\n",
    "f1z[1][1]=1\n",
    "matrix_array.append(f1z)\n",
    "\n",
    "\n",
    "f2z=np.zeros((4, 4),dtype=np.complex_)\n",
    "f2z[2][2]=1\n",
    "matrix_array.append(f2z)\n",
    "\n",
    "\n",
    "#-----------------------------------------------------------------------------------------------------\n",
    "\n",
    "Psi_0=np.zeros((4,1),dtype=np.complex_)\n",
    "Psi_0[0][0]=np.cos(Theta/2)\n",
    "Psi_0[1][0]=np.sin(Theta/2)*np.exp(1j*Phi)\n",
    "\n",
    "\n",
    "Psi_0_adj=np.transpose(np.conjugate(Psi_0))\n",
    "\n",
    "#--------------------------------\n",
    "\n",
    "#Averages Vector\n",
    "\n",
    "Miu=[]\n",
    "\n",
    "for j in matrix_array:\n",
    "    Miu.append(np.matmul(Psi_0_adj,np.matmul(j,Psi_0))[0][0])\n",
    "\n",
    "    \n",
    "\n",
    "Cov_mat=np.zeros((15, 15),dtype=np.complex_)\n",
    "\n",
    "for i in range(15):\n",
    "    for j in range(15):\n",
    "        Cov_mat[i][j]=0.5*(np.matmul(Psi_0_adj,np.matmul( np.matmul(matrix_array[i],matrix_array[j])+np.matmul(matrix_array[j],matrix_array[i]),Psi_0))[0][0])-Miu[i]*Miu[j]        \n",
    "        \n",
    "        \n",
    "\n"
   ]
  },
  {
   "cell_type": "code",
   "execution_count": 179,
   "metadata": {},
   "outputs": [
    {
     "data": {
      "image/png": "[encoded data removed]",
      "text/plain": [
       "<Figure size 720x468 with 2 Axes>"
      ]
     },
     "metadata": {
      "needs_background": "light"
     },
     "output_type": "display_data"
    }
   ],
   "source": [
    "import numpy as np\n",
    "import matplotlib.pyplot as plt\n",
    "\n",
    "\n",
    "plt.title(\"Difference between estimated mean values for Gaussian and discrete\")\n",
    "plt.imshow(Miu_disc-np.real(Miu))\n",
    "plt.colorbar()\n",
    "plt.show()\n",
    "\n"
   ]
  },
  {
   "cell_type": "code",
   "execution_count": 188,
   "metadata": {},
   "outputs": [
    {
     "data": {
      "image/png": "[encoded data removed]",
      "text/plain": [
       "<Figure size 720x468 with 2 Axes>"
      ]
     },
     "metadata": {
      "needs_background": "light"
     },
     "output_type": "display_data"
    }
   ],
   "source": [
    "import numpy as np\n",
    "import matplotlib.pyplot as plt\n",
    "\n",
    "\n",
    "plt.title(\"Discrete covariance\")\n",
    "plt.imshow(Cov_disc_mat)\n",
    "plt.colorbar()\n",
    "plt.show()"
   ]
  },
  {
   "cell_type": "code",
   "execution_count": 186,
   "metadata": {},
   "outputs": [
    {
     "data": {
      "image/png": "[encoded data removed]",
      "text/plain": [
       "<Figure size 720x468 with 2 Axes>"
      ]
     },
     "metadata": {
      "needs_background": "light"
     },
     "output_type": "display_data"
    }
   ],
   "source": [
    "import numpy as np\n",
    "import matplotlib.pyplot as plt\n",
    "\n",
    "\n",
    "plt.title(\"Gaussian Covariance\")\n",
    "plt.imshow(np.real(Cov_mat))\n",
    "plt.colorbar()\n",
    "plt.show()"
   ]
  },
  {
   "cell_type": "code",
   "execution_count": 187,
   "metadata": {},
   "outputs": [
    {
     "data": {
      "image/png": "[encoded data removed]",
      "text/plain": [
       "<Figure size 720x468 with 2 Axes>"
      ]
     },
     "metadata": {
      "needs_background": "light"
     },
     "output_type": "display_data"
    }
   ],
   "source": [
    "import numpy as np\n",
    "import matplotlib.pyplot as plt\n",
    "\n",
    "\n",
    "plt.title(\"Difference between estimated covariance for Gaussian and discrete\")\n",
    "plt.imshow(np.real(Cov_mat)-Cov_disc_mat)\n",
    "plt.colorbar()\n",
    "plt.show()"
   ]
  },
  {
   "cell_type": "code",
   "execution_count": null,
   "metadata": {},
   "outputs": [],
   "source": []
  },
  {
   "cell_type": "code",
   "execution_count": 58,
   "metadata": {},
   "outputs": [
    {
     "data": {
      "text/plain": [
       "'\"\\n\\nSample_si=10000000\\n\\nmu, sigma = 0, 0.1 # mean and standard deviation\\ns = np.random.normal(mu, sigma, Sample_si)\\nsp= np.random.normal(mu, sigma, Sample_si)\\n # Using exponential() method\\ngfg = np.random.exponential(10, Sample_si)'"
      ]
     },
     "execution_count": 58,
     "metadata": {},
     "output_type": "execute_result"
    }
   ],
   "source": [
    "\"\"\"\"\n",
    "\n",
    "Sample_si=10000000\n",
    "\n",
    "mu, sigma = 0, 0.1 # mean and standard deviation\n",
    "s = np.random.normal(mu, sigma, Sample_si)\n",
    "sp= np.random.normal(mu, sigma, Sample_si)\n",
    " # Using exponential() method\n",
    "gfg = np.random.exponential(10, Sample_si)\"\"\"\n",
    "\n"
   ]
  },
  {
   "cell_type": "code",
   "execution_count": null,
   "metadata": {},
   "outputs": [],
   "source": []
  },
  {
   "cell_type": "code",
   "execution_count": null,
   "metadata": {},
   "outputs": [],
   "source": []
  },
  {
   "cell_type": "code",
   "execution_count": 59,
   "metadata": {},
   "outputs": [
    {
     "data": {
      "text/plain": [
       "-2.2428632635307787e-05"
      ]
     },
     "execution_count": 59,
     "metadata": {},
     "output_type": "execute_result"
    }
   ],
   "source": [
    "import numpy as np\n",
    "\n",
    "Sample_si=10000000\n",
    "\n",
    "mu, sigma = 0, 1 # mean and standard deviation\n",
    "s = np.random.normal(mu, sigma, Sample_si)\n",
    "\n",
    "siu = np.random.normal(mu, sigma, Sample_si)\n",
    "\n",
    "np.dot(s,siu)/Sample_si-np.mean(s)*np.mean(siu)"
   ]
  },
  {
   "cell_type": "code",
   "execution_count": 62,
   "metadata": {},
   "outputs": [
    {
     "data": {
      "text/plain": [
       "array([[ 6.99484925e-01, -7.14647353e-01, -9.16746573e-33,\n",
       "         7.11194808e-02, -4.75101930e-01, -1.55129982e-32,\n",
       "        -2.83380437e-33,  0.00000000e+00,  0.00000000e+00,\n",
       "         0.00000000e+00,  0.00000000e+00,  0.00000000e+00,\n",
       "         0.00000000e+00,  0.00000000e+00,  0.00000000e+00],\n",
       "       [ 0.00000000e+00,  0.00000000e+00, -3.38270015e-15,\n",
       "         5.87819725e-01, -2.85779881e-01,  6.36816579e-01,\n",
       "         3.49057365e-01,  0.00000000e+00,  0.00000000e+00,\n",
       "         0.00000000e+00,  0.00000000e+00,  0.00000000e+00,\n",
       "         0.00000000e+00,  0.00000000e+00,  0.00000000e+00],\n",
       "       [ 0.00000000e+00,  0.00000000e+00, -6.73463194e-18,\n",
       "        -3.79963092e-01, -4.25118364e-01,  3.07181975e-01,\n",
       "        -5.74534360e-01,  0.00000000e+00,  0.00000000e+00,\n",
       "         0.00000000e+00,  0.00000000e+00,  0.00000000e+00,\n",
       "         0.00000000e+00,  0.00000000e+00,  0.00000000e+00],\n",
       "       [ 0.00000000e+00,  0.00000000e+00, -3.38966030e-15,\n",
       "        -5.87819725e-01,  2.85779881e-01,  6.36816579e-01,\n",
       "         3.49057365e-01,  0.00000000e+00,  0.00000000e+00,\n",
       "         0.00000000e+00,  0.00000000e+00,  0.00000000e+00,\n",
       "         0.00000000e+00,  0.00000000e+00,  0.00000000e+00],\n",
       "       [ 0.00000000e+00,  0.00000000e+00,  6.73463194e-18,\n",
       "         3.79963092e-01,  4.25118364e-01,  3.07181975e-01,\n",
       "        -5.74534360e-01,  0.00000000e+00,  0.00000000e+00,\n",
       "         0.00000000e+00,  0.00000000e+00,  0.00000000e+00,\n",
       "         0.00000000e+00,  0.00000000e+00,  0.00000000e+00],\n",
       "       [ 0.00000000e+00,  0.00000000e+00,  0.00000000e+00,\n",
       "         0.00000000e+00,  0.00000000e+00,  0.00000000e+00,\n",
       "         0.00000000e+00,  0.00000000e+00,  0.00000000e+00,\n",
       "         0.00000000e+00,  0.00000000e+00,  1.00000000e+00,\n",
       "         0.00000000e+00,  0.00000000e+00,  0.00000000e+00],\n",
       "       [ 0.00000000e+00,  0.00000000e+00,  0.00000000e+00,\n",
       "         0.00000000e+00,  0.00000000e+00,  0.00000000e+00,\n",
       "         0.00000000e+00,  0.00000000e+00,  0.00000000e+00,\n",
       "         0.00000000e+00,  0.00000000e+00,  0.00000000e+00,\n",
       "         1.00000000e+00,  0.00000000e+00,  0.00000000e+00],\n",
       "       [ 0.00000000e+00,  0.00000000e+00,  0.00000000e+00,\n",
       "         0.00000000e+00,  0.00000000e+00,  0.00000000e+00,\n",
       "         0.00000000e+00,  7.07106781e-01,  7.07106781e-01,\n",
       "         0.00000000e+00,  0.00000000e+00,  0.00000000e+00,\n",
       "         0.00000000e+00,  0.00000000e+00,  0.00000000e+00],\n",
       "       [ 0.00000000e+00,  0.00000000e+00,  0.00000000e+00,\n",
       "         0.00000000e+00,  0.00000000e+00,  0.00000000e+00,\n",
       "         0.00000000e+00,  0.00000000e+00,  0.00000000e+00,\n",
       "        -7.07106781e-01, -7.07106781e-01,  0.00000000e+00,\n",
       "         0.00000000e+00,  0.00000000e+00,  0.00000000e+00],\n",
       "       [ 0.00000000e+00,  0.00000000e+00,  0.00000000e+00,\n",
       "         0.00000000e+00,  0.00000000e+00,  0.00000000e+00,\n",
       "         0.00000000e+00,  7.07106781e-01, -7.07106781e-01,\n",
       "         0.00000000e+00,  0.00000000e+00,  0.00000000e+00,\n",
       "         0.00000000e+00,  0.00000000e+00,  0.00000000e+00],\n",
       "       [ 0.00000000e+00,  0.00000000e+00,  0.00000000e+00,\n",
       "         0.00000000e+00,  0.00000000e+00,  0.00000000e+00,\n",
       "         0.00000000e+00,  0.00000000e+00,  0.00000000e+00,\n",
       "        -7.07106781e-01,  7.07106781e-01,  0.00000000e+00,\n",
       "         0.00000000e+00,  0.00000000e+00,  0.00000000e+00],\n",
       "       [ 0.00000000e+00,  0.00000000e+00,  0.00000000e+00,\n",
       "         0.00000000e+00,  0.00000000e+00,  0.00000000e+00,\n",
       "         0.00000000e+00,  0.00000000e+00,  0.00000000e+00,\n",
       "         0.00000000e+00,  0.00000000e+00,  0.00000000e+00,\n",
       "         0.00000000e+00,  1.00000000e+00,  0.00000000e+00],\n",
       "       [ 5.05331990e-01,  4.94610534e-01, -7.07106781e-01,\n",
       "        -8.69886756e-02,  3.53190196e-01,  1.01921207e-02,\n",
       "         2.19246950e-01,  0.00000000e+00,  0.00000000e+00,\n",
       "         0.00000000e+00,  0.00000000e+00,  0.00000000e+00,\n",
       "         0.00000000e+00,  0.00000000e+00,  0.00000000e+00],\n",
       "       [ 5.05331990e-01,  4.94610534e-01,  7.07106781e-01,\n",
       "        -8.69886756e-02,  3.53190196e-01, -1.01921207e-02,\n",
       "        -2.19246950e-01,  0.00000000e+00,  0.00000000e+00,\n",
       "         0.00000000e+00,  0.00000000e+00,  0.00000000e+00,\n",
       "         0.00000000e+00,  0.00000000e+00,  0.00000000e+00],\n",
       "       [ 0.00000000e+00,  0.00000000e+00,  0.00000000e+00,\n",
       "         0.00000000e+00,  0.00000000e+00,  0.00000000e+00,\n",
       "         0.00000000e+00,  0.00000000e+00,  0.00000000e+00,\n",
       "         0.00000000e+00,  0.00000000e+00,  0.00000000e+00,\n",
       "         0.00000000e+00,  0.00000000e+00,  1.00000000e+00]])"
      ]
     },
     "execution_count": 62,
     "metadata": {},
     "output_type": "execute_result"
    }
   ],
   "source": [
    "np.linalg.eig(np.real(Cov_mat))[1]"
   ]
  },
  {
   "cell_type": "code",
   "execution_count": null,
   "metadata": {},
   "outputs": [],
   "source": []
  },
  {
   "cell_type": "code",
   "execution_count": 60,
   "metadata": {},
   "outputs": [
    {
     "data": {
      "image/png": "[encoded data removed]",
      "text/plain": [
       "<Figure size 720x468 with 2 Axes>"
      ]
     },
     "metadata": {
      "needs_background": "light"
     },
     "output_type": "display_data"
    }
   ],
   "source": [
    "plt.imshow(np.linalg.eig(np.real(Cov_mat))[1])\n",
    "plt.colorbar()\n",
    "plt.show()"
   ]
  },
  {
   "cell_type": "code",
   "execution_count": 102,
   "metadata": {},
   "outputs": [
    {
     "data": {
      "image/png": "[encoded data removed]",
      "text/plain": [
       "<Figure size 720x468 with 2 Axes>"
      ]
     },
     "metadata": {
      "needs_background": "light"
     },
     "output_type": "display_data"
    }
   ],
   "source": [
    "import numpy as np\n",
    "import matplotlib.pyplot as plt\n",
    "\n",
    "\n",
    "plt.title(\"Gaussian Covariance\")\n",
    "plt.imshow(np.real(Cov_mat).round(4))\n",
    "plt.colorbar()\n",
    "plt.show()"
   ]
  },
  {
   "cell_type": "code",
   "execution_count": 64,
   "metadata": {},
   "outputs": [
    {
     "data": {
      "text/plain": [
       "array([-1.91228636e-16, -3.41832852e-17,  5.00000000e-01,  2.47728826e-17,\n",
       "       -2.84884581e-17,  5.00000000e-01,  5.00000000e-01,  5.00000000e-01,\n",
       "        0.00000000e+00,  5.00000000e-01,  0.00000000e+00,  0.00000000e+00,\n",
       "        5.00000000e-01,  0.00000000e+00,  0.00000000e+00])"
      ]
     },
     "execution_count": 64,
     "metadata": {},
     "output_type": "execute_result"
    }
   ],
   "source": [
    "np.linalg.eig(np.real(Cov_mat))[0]"
   ]
  },
  {
   "cell_type": "code",
   "execution_count": 74,
   "metadata": {},
   "outputs": [
    {
     "data": {
      "text/plain": [
       "array([ 1., -1.,  2.])"
      ]
     },
     "execution_count": 74,
     "metadata": {},
     "output_type": "execute_result"
    }
   ],
   "source": [
    "np.linalg.eig(np.array([[1,2,3],[0,0,2],[0,1,1]]))[0]"
   ]
  },
  {
   "cell_type": "code",
   "execution_count": 103,
   "metadata": {},
   "outputs": [
    {
     "data": {
      "text/plain": [
       "array([[ 1.        , -0.5       , -2.        ],\n",
       "       [-0.        , -0.81649658,  0.81649658],\n",
       "       [-0.        , -0.95742711, -1.91485422]])"
      ]
     },
     "execution_count": 103,
     "metadata": {},
     "output_type": "execute_result"
    }
   ],
   "source": [
    "np.linalg.inv(np.linalg.eig(np.array([[0,2,3],[0,0,2],[0,1,1]]))[1])"
   ]
  },
  {
   "cell_type": "code",
   "execution_count": 89,
   "metadata": {},
   "outputs": [],
   "source": [
    "A=np.dot(np.linalg.eig(np.array([[1,2,3],[0,0,2],[0,1,1]]))[1],np.diag((1., -1.,  2.)))\n",
    "Fin=np.dot(A,np.linalg.inv(np.linalg.eig(np.array([[1,2,3],[0,0,2],[0,1,1]]))[1]))"
   ]
  },
  {
   "cell_type": "code",
   "execution_count": null,
   "metadata": {},
   "outputs": [],
   "source": []
  },
  {
   "cell_type": "code",
   "execution_count": 73,
   "metadata": {},
   "outputs": [
    {
     "data": {
      "text/plain": [
       "array([[1, 0, 0],\n",
       "       [0, 2, 0],\n",
       "       [0, 0, 3]])"
      ]
     },
     "execution_count": 73,
     "metadata": {},
     "output_type": "execute_result"
    }
   ],
   "source": []
  },
  {
   "cell_type": "code",
   "execution_count": 93,
   "metadata": {},
   "outputs": [
    {
     "data": {
      "text/plain": [
       "array([[ 1.        ,  0.23977827, -0.97533801],\n",
       "       [ 0.        ,  0.4658434 , -0.05578052],\n",
       "       [ 0.        ,  0.85176071,  0.21355164]])"
      ]
     },
     "execution_count": 93,
     "metadata": {},
     "output_type": "execute_result"
    }
   ],
   "source": [
    "np.linalg.eig(np.array([[2,-3,3],[0,5,1],[0,7,3]]))[1]"
   ]
  },
  {
   "cell_type": "code",
   "execution_count": null,
   "metadata": {},
   "outputs": [],
   "source": []
  },
  {
   "cell_type": "code",
   "execution_count": null,
   "metadata": {},
   "outputs": [],
   "source": []
  },
  {
   "cell_type": "code",
   "execution_count": 109,
   "metadata": {},
   "outputs": [
    {
     "data": {
      "text/plain": [
       "array([ 0.5,  0. ,  0.5,  0. ,  0.5,  0. ,  0.5,  0. ,  0.5,  0. , -0. ,\n",
       "        0. ,  0.5,  0. ,  0. ])"
      ]
     },
     "execution_count": 109,
     "metadata": {},
     "output_type": "execute_result"
    }
   ],
   "source": [
    "np.linalg.eig(np.real(Cov_mat).round(4))[0]"
   ]
  },
  {
   "cell_type": "code",
   "execution_count": 108,
   "metadata": {},
   "outputs": [
    {
     "data": {
      "image/png": "[encoded data removed]",
      "text/plain": [
       "<Figure size 720x468 with 2 Axes>"
      ]
     },
     "metadata": {
      "needs_background": "light"
     },
     "output_type": "display_data"
    }
   ],
   "source": [
    "\n",
    "plt.imshow(np.linalg.eig(np.real(Cov_mat).round(4))[1])\n",
    "plt.colorbar()\n",
    "plt.show()\n",
    "\n",
    "\n",
    "\n",
    "\n",
    "\n"
   ]
  },
  {
   "cell_type": "code",
   "execution_count": 130,
   "metadata": {},
   "outputs": [],
   "source": [
    "D=np.diag(np.linalg.eig(np.real(Cov_mat).round(4))[0])\n",
    "P=np.linalg.eig(np.real(Cov_mat).round(4))[1]\n",
    "P_inv=np.linalg.inv(np.linalg.eig(np.real(Cov_mat).round(4))[1])\n"
   ]
  },
  {
   "cell_type": "code",
   "execution_count": 131,
   "metadata": {},
   "outputs": [
    {
     "data": {
      "text/plain": [
       "array([[ 0.        ,  0.        ,  0.        ,  0.        ,  0.        ,\n",
       "         0.        ,  0.        ,  0.        ,  0.70710678,  0.        ,\n",
       "         0.70710678,  0.        ,  0.        ,  0.        ,  0.        ],\n",
       "       [ 0.        ,  0.        ,  0.        ,  0.        ,  0.        ,\n",
       "         0.        ,  0.        ,  0.        , -0.70710678,  0.        ,\n",
       "         0.70710678,  0.        ,  0.        ,  0.        ,  0.        ],\n",
       "       [ 0.        ,  0.        ,  0.70710678,  0.        ,  0.70710678,\n",
       "         0.        ,  0.        ,  0.        ,  0.        ,  0.        ,\n",
       "         0.        ,  0.        ,  0.        ,  0.        ,  0.        ],\n",
       "       [-0.        , -0.        ,  0.70710678, -0.        , -0.70710678,\n",
       "        -0.        , -0.        , -0.        , -0.        , -0.        ,\n",
       "        -0.        , -0.        , -0.        , -0.        , -0.        ],\n",
       "       [-0.        , -0.70710678, -0.        , -0.70710678, -0.        ,\n",
       "        -0.        , -0.        , -0.        , -0.        , -0.        ,\n",
       "        -0.        , -0.        , -0.        , -0.        , -0.        ],\n",
       "       [ 0.        ,  0.70710678,  0.        , -0.70710678,  0.        ,\n",
       "         0.        ,  0.        ,  0.        ,  0.        ,  0.        ,\n",
       "         0.        ,  0.        ,  0.        ,  0.        ,  0.        ],\n",
       "       [ 0.        ,  0.        ,  0.        ,  0.        ,  0.        ,\n",
       "         0.        ,  0.        ,  0.        ,  0.        ,  0.        ,\n",
       "         0.        ,  0.        ,  0.70710678, -0.70710678,  0.        ],\n",
       "       [ 0.        ,  0.        ,  0.        ,  0.        ,  0.        ,\n",
       "         0.        ,  0.        ,  0.        ,  0.        ,  0.        ,\n",
       "         0.        ,  0.        ,  0.70710678,  0.70710678,  0.        ],\n",
       "       [-0.        , -0.        , -0.        , -0.        , -0.        ,\n",
       "        -0.        , -0.        , -0.70710678, -0.        , -0.70710678,\n",
       "        -0.        , -0.        , -0.        , -0.        , -0.        ],\n",
       "       [-0.        , -0.        , -0.        , -0.        , -0.        ,\n",
       "        -0.        , -0.        , -0.70710678, -0.        ,  0.70710678,\n",
       "        -0.        , -0.        , -0.        , -0.        , -0.        ],\n",
       "       [ 1.        ,  0.        ,  0.        ,  0.        ,  0.        ,\n",
       "         0.        ,  0.        ,  0.        ,  0.        ,  0.        ,\n",
       "         0.        ,  0.        ,  0.        ,  0.        ,  0.        ],\n",
       "       [ 0.        ,  0.        ,  0.        ,  0.        ,  0.        ,\n",
       "         1.        ,  0.        ,  0.        ,  0.        ,  0.        ,\n",
       "         0.        ,  0.        ,  0.        ,  0.        ,  0.        ],\n",
       "       [ 0.        ,  0.        ,  0.        ,  0.        ,  0.        ,\n",
       "         0.        ,  1.        ,  0.        ,  0.        ,  0.        ,\n",
       "         0.        ,  0.        ,  0.        ,  0.        ,  0.        ],\n",
       "       [ 0.        ,  0.        ,  0.        ,  0.        ,  0.        ,\n",
       "         0.        ,  0.        ,  0.        ,  0.        ,  0.        ,\n",
       "         0.        ,  1.        ,  0.        ,  0.        ,  0.        ],\n",
       "       [ 0.        ,  0.        ,  0.        ,  0.        ,  0.        ,\n",
       "         0.        ,  0.        ,  0.        ,  0.        ,  0.        ,\n",
       "         0.        ,  0.        ,  0.        ,  0.        ,  1.        ]])"
      ]
     },
     "execution_count": 131,
     "metadata": {},
     "output_type": "execute_result"
    }
   ],
   "source": [
    "P_inv"
   ]
  },
  {
   "cell_type": "code",
   "execution_count": null,
   "metadata": {},
   "outputs": [],
   "source": []
  },
  {
   "cell_type": "code",
   "execution_count": null,
   "metadata": {},
   "outputs": [],
   "source": []
  },
  {
   "cell_type": "code",
   "execution_count": null,
   "metadata": {},
   "outputs": [],
   "source": []
  },
  {
   "cell_type": "code",
   "execution_count": null,
   "metadata": {},
   "outputs": [],
   "source": []
  },
  {
   "cell_type": "code",
   "execution_count": 113,
   "metadata": {},
   "outputs": [
    {
     "data": {
      "text/plain": [
       "array([[ 1.        ,  0.23977827, -0.97533801],\n",
       "       [ 0.        ,  0.4658434 , -0.05578052],\n",
       "       [ 0.        ,  0.85176071,  0.21355164]])"
      ]
     },
     "execution_count": 113,
     "metadata": {},
     "output_type": "execute_result"
    }
   ],
   "source": [
    "np.linalg.eig(np.array([[2,-3,3],[0,5,1],[0,7,3]]))[1]"
   ]
  },
  {
   "cell_type": "code",
   "execution_count": 116,
   "metadata": {},
   "outputs": [
    {
     "data": {
      "image/png": "[encoded data removed]",
      "text/plain": [
       "<Figure size 720x468 with 2 Axes>"
      ]
     },
     "metadata": {
      "needs_background": "light"
     },
     "output_type": "display_data"
    }
   ],
   "source": [
    "plt.imshow(np.linalg.eig(np.array([[2,-3,3,9],[0,2,5,1],[0,3,7,3],[0,2,3,-8]]))[1])\n",
    "plt.colorbar()\n",
    "plt.show()\n"
   ]
  },
  {
   "cell_type": "code",
   "execution_count": null,
   "metadata": {},
   "outputs": [],
   "source": [
    "\n",
    "A=np.dot(np.linalg.eig(np.array([[1,2,3],[0,0,2],[0,1,1]]))[1],np.diag((1., -1.,  2.)))\n",
    "Fin=np.dot(A,np.linalg.inv(np.linalg.eig(np.array([[1,2,3],[0,0,2],[0,1,1]]))[1]))\n",
    "\n",
    "\n",
    "np.linalg.dia"
   ]
  },
  {
   "cell_type": "code",
   "execution_count": null,
   "metadata": {},
   "outputs": [],
   "source": []
  },
  {
   "cell_type": "code",
   "execution_count": null,
   "metadata": {},
   "outputs": [],
   "source": []
  },
  {
   "cell_type": "code",
   "execution_count": 141,
   "metadata": {},
   "outputs": [
    {
     "data": {
      "text/plain": [
       "array([[ 0.9085129 , -0.41785681],\n",
       "       [ 0.41785681,  0.9085129 ]])"
      ]
     },
     "execution_count": 141,
     "metadata": {},
     "output_type": "execute_result"
    }
   ],
   "source": [
    "np.linalg.eig(np.array([[17,7],[7,5]]))[1]"
   ]
  },
  {
   "cell_type": "code",
   "execution_count": 138,
   "metadata": {},
   "outputs": [
    {
     "data": {
      "text/plain": [
       "array([-0.74397547,  1.61756683])"
      ]
     },
     "execution_count": 138,
     "metadata": {},
     "output_type": "execute_result"
    }
   ],
   "source": [
    "np.dot(np.array([[17,7],[7,5]]),[ -0.41785681 , 0.9085129])"
   ]
  },
  {
   "cell_type": "code",
   "execution_count": null,
   "metadata": {},
   "outputs": [],
   "source": []
  },
  {
   "cell_type": "code",
   "execution_count": null,
   "metadata": {},
   "outputs": [],
   "source": []
  }
 ],
 "metadata": {
  "kernelspec": {
   "display_name": "Python 3",
   "language": "python",
   "name": "python3"
  },
  "language_info": {
   "codemirror_mode": {
    "name": "ipython",
    "version": 3
   },
   "file_extension": ".py",
   "mimetype": "text/x-python",
   "name": "python",
   "nbconvert_exporter": "python",
   "pygments_lexer": "ipython3",
   "version": "3.8.3"
  }
 },
 "nbformat": 4,
 "nbformat_minor": 4
}
