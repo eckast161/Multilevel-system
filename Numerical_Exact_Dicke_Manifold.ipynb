{
 "cells": [
  {
   "cell_type": "markdown",
   "metadata": {},
   "source": [
    "## Definition of Dicke-Generalized States"
   ]
  },
  {
   "cell_type": "code",
   "execution_count": 177,
   "metadata": {},
   "outputs": [],
   "source": [
    "import numpy as np\n",
    "from numpy import sqrt\n",
    "\n",
    "#Number of atoms\n",
    "\n",
    "N=7\n",
    "\n",
    "#Parameters\n",
    "\n",
    "chiR=1\n",
    "chiL=1\n",
    "\n",
    "\n",
    "OmegaR=7\n",
    "OmegaL=6\n",
    "\n",
    "#--------------------------------------\n",
    "\n",
    "State_List=[]\n",
    "\n",
    "import scipy.special\n",
    "\n",
    "#Number of generalized Dicke states\n",
    "\n",
    "N_Dicke=int(scipy.special.binom(N+3, 3))\n",
    "\n",
    "#Sparse matrix asscoiated with the hamiltonian in the generalized Dicke basis\n",
    "\n",
    "\n",
    "Spar_Hamil_H1=np.zeros((N_Dicke,N_Dicke))"
   ]
  },
  {
   "cell_type": "code",
   "execution_count": null,
   "metadata": {},
   "outputs": [],
   "source": []
  },
  {
   "cell_type": "code",
   "execution_count": 178,
   "metadata": {},
   "outputs": [],
   "source": [
    "import itertools\n",
    "from itertools import permutations\n",
    "from numba import jit\n",
    "\n",
    "\n",
    "def List_Dicke(N=N):\n",
    "    Gen_Dicke_List=[]\n",
    "\n",
    "    for n0 in range(N):\n",
    "        for n1 in range(N-n0):\n",
    "            for n2 in range(N-n0-n1):\n",
    "                Gen_Dicke_List.append([n0,n1,n2,N-n0-n1-n2])\n",
    "            \n",
    "    St_List=[]\n",
    "    \n",
    "    for j in Gen_Dicke_List:\n",
    "        for k in list(permutations(j)):\n",
    "            St_List.append(list(k))\n",
    "\n",
    "    St_List.sort(reverse=True)\n",
    "    Final_result=list(St_List for St_List,_ in itertools.groupby(St_List))\n",
    "    return Final_result\n",
    "\n",
    "\n",
    "\n",
    "List_results=List_Dicke(N)\n",
    "\n",
    "\n",
    "Indexer_func=[1,N,N**2,N**3]\n",
    "\n",
    "Index_state=[]\n",
    "\n",
    "\n",
    "for j in List_results:\n",
    "    Index_state.append([np.dot(j,Indexer_func),j])\n",
    "\n",
    "Index_state.sort()\n",
    "\n",
    "Index_States_final=[]\n",
    "\n",
    "\n",
    "States_sorted=[]\n",
    "\n",
    "\n",
    "for j in range(len(Index_state)):\n",
    "    Rep_column=np.zeros((N_Dicke,1))\n",
    "    Rep_column[j,0]=1\n",
    "    Index_States_final.append([j,Index_state[j][1],Rep_column])\n",
    "    States_sorted.append(Index_state[j][1])\n",
    "    "
   ]
  },
  {
   "cell_type": "code",
   "execution_count": null,
   "metadata": {},
   "outputs": [],
   "source": []
  },
  {
   "cell_type": "markdown",
   "metadata": {},
   "source": [
    "# Hamiltonian definition"
   ]
  },
  {
   "cell_type": "code",
   "execution_count": null,
   "metadata": {},
   "outputs": [],
   "source": []
  },
  {
   "cell_type": "markdown",
   "metadata": {},
   "source": [
    "## $H_1$"
   ]
  },
  {
   "cell_type": "code",
   "execution_count": 179,
   "metadata": {},
   "outputs": [],
   "source": [
    "# H_1=\\chi_R*R^+R^-+\\chi_L*L^+L^-\n",
    "\n",
    "def H_1(State_rep,chiR,chiL):\n",
    "    \n",
    "    n0=State_rep[0]\n",
    "    n1=State_rep[1]\n",
    "    n2=State_rep[2]\n",
    "    n3=N-n2-n1-n0\n",
    "    \n",
    "    index=States_sorted.index(State_rep)\n",
    "\n",
    "    Vecto_Rep=np.array(Index_States_final[index][2])\n",
    "    \n",
    "    return (chiR*(n0+1)*n3+  chiL*(n1+1)*n2)*Vecto_Rep\n"
   ]
  },
  {
   "cell_type": "code",
   "execution_count": null,
   "metadata": {},
   "outputs": [],
   "source": []
  },
  {
   "cell_type": "code",
   "execution_count": 180,
   "metadata": {},
   "outputs": [],
   "source": [
    "\n",
    "for i in range(N_Dicke):\n",
    "    for j in range(N_Dicke):\n",
    "        Spar_Hamil_H1[i][j]=np.dot(np.transpose(Index_States_final[i][2]),H_1(States_sorted[j],chiR,chiL))[0][0]"
   ]
  },
  {
   "cell_type": "code",
   "execution_count": 181,
   "metadata": {},
   "outputs": [
    {
     "data": {
      "image/png": "[encoded data removed]",
      "text/plain": [
       "<Figure size 432x288 with 2 Axes>"
      ]
     },
     "metadata": {
      "needs_background": "light"
     },
     "output_type": "display_data"
    }
   ],
   "source": [
    "import numpy as np\n",
    "import matplotlib.pyplot as plt\n",
    "\n",
    "plt.imshow(Spar_Hamil_H1)\n",
    "plt.colorbar()\n",
    "plt.show()"
   ]
  },
  {
   "cell_type": "code",
   "execution_count": null,
   "metadata": {},
   "outputs": [],
   "source": []
  },
  {
   "cell_type": "markdown",
   "metadata": {},
   "source": [
    "# $H_2$"
   ]
  },
  {
   "cell_type": "code",
   "execution_count": null,
   "metadata": {},
   "outputs": [],
   "source": []
  },
  {
   "cell_type": "code",
   "execution_count": 182,
   "metadata": {},
   "outputs": [],
   "source": [
    "# H_2=\\omega_R*R_x+\\omega_L*L_x\n",
    "\n",
    "\n",
    "Spar_Hamil_H2=np.zeros((N_Dicke,N_Dicke))\n",
    "\n",
    "def H_2(State_rep,OmegaR,OmegaL):\n",
    "    \n",
    "    n0=State_rep[0]\n",
    "    n1=State_rep[1]\n",
    "    n2=State_rep[2]\n",
    "    n3=N-n2-n1-n0\n",
    "    \n",
    "    H2_state=np.zeros((N_Dicke,1))\n",
    "    \n",
    "    \n",
    "    #Rx\n",
    "    \n",
    "    if n0!=0 and n3!=N:\n",
    "        index=States_sorted.index([n0-1,n1,n2,n3+1])\n",
    "        Vecto_Rep=np.array(Index_States_final[index][2])\n",
    "        H2_state=H2_state+0.5*OmegaR*sqrt(n0*(n3+1))*Vecto_Rep\n",
    "    \n",
    "    if n0!=N and n3!=0:\n",
    "        index=States_sorted.index([n0+1,n1,n2,n3-1])\n",
    "        Vecto_Rep=np.array(Index_States_final[index][2])\n",
    "        H2_state=H2_state+0.5*OmegaR*sqrt(n3*(n0+1))*Vecto_Rep        \n",
    "    \n",
    "    # Lx\n",
    "    \n",
    "    if n1!=0 and n2!=N:\n",
    "        index=States_sorted.index([n0,n1-1,n2+1,n3])\n",
    "        Vecto_Rep=np.array(Index_States_final[index][2])\n",
    "        H2_state=H2_state+0.5*OmegaL*sqrt(n1*(n2+1))*Vecto_Rep\n",
    "    \n",
    "    if n1!=N and n2!=0:\n",
    "        index=States_sorted.index([n0,n1+1,n2-1,n3])\n",
    "        Vecto_Rep=np.array(Index_States_final[index][2])\n",
    "        H2_state=H2_state+0.5*OmegaL*sqrt(n2*(n1+1))*Vecto_Rep     \n",
    "    \n",
    "    return H2_state"
   ]
  },
  {
   "cell_type": "code",
   "execution_count": null,
   "metadata": {},
   "outputs": [],
   "source": []
  },
  {
   "cell_type": "code",
   "execution_count": 183,
   "metadata": {},
   "outputs": [],
   "source": [
    "\n",
    "\n",
    "for i in range(N_Dicke):\n",
    "    for j in range(N_Dicke):\n",
    "        Spar_Hamil_H2[i][j]=np.dot(np.transpose(Index_States_final[i][2]),H_2(States_sorted[j],OmegaR,OmegaL))[0][0]"
   ]
  },
  {
   "cell_type": "code",
   "execution_count": null,
   "metadata": {},
   "outputs": [],
   "source": []
  },
  {
   "cell_type": "code",
   "execution_count": 184,
   "metadata": {},
   "outputs": [
    {
     "data": {
      "image/png": "[encoded data removed]",
      "text/plain": [
       "<Figure size 432x288 with 2 Axes>"
      ]
     },
     "metadata": {
      "needs_background": "light"
     },
     "output_type": "display_data"
    }
   ],
   "source": [
    "\n",
    "plt.imshow(Spar_Hamil_H2)\n",
    "plt.colorbar()\n",
    "plt.show()"
   ]
  },
  {
   "cell_type": "markdown",
   "metadata": {},
   "source": [
    "## $H=H_1+H_2$"
   ]
  },
  {
   "cell_type": "code",
   "execution_count": null,
   "metadata": {},
   "outputs": [],
   "source": []
  },
  {
   "cell_type": "code",
   "execution_count": 185,
   "metadata": {},
   "outputs": [
    {
     "data": {
      "image/png": "[encoded data removed]",
      "text/plain": [
       "<Figure size 432x288 with 2 Axes>"
      ]
     },
     "metadata": {
      "needs_background": "light"
     },
     "output_type": "display_data"
    }
   ],
   "source": [
    "\n",
    "plt.imshow(Spar_Hamil_H1+Spar_Hamil_H2)\n",
    "plt.colorbar()\n",
    "plt.show()"
   ]
  },
  {
   "cell_type": "code",
   "execution_count": null,
   "metadata": {},
   "outputs": [],
   "source": []
  },
  {
   "cell_type": "code",
   "execution_count": null,
   "metadata": {},
   "outputs": [],
   "source": []
  },
  {
   "cell_type": "code",
   "execution_count": null,
   "metadata": {},
   "outputs": [],
   "source": []
  }
 ],
 "metadata": {
  "kernelspec": {
   "display_name": "Python 3",
   "language": "python",
   "name": "python3"
  },
  "language_info": {
   "codemirror_mode": {
    "name": "ipython",
    "version": 3
   },
   "file_extension": ".py",
   "mimetype": "text/x-python",
   "name": "python",
   "nbconvert_exporter": "python",
   "pygments_lexer": "ipython3",
   "version": "3.8.3"
  }
 },
 "nbformat": 4,
 "nbformat_minor": 4
}
